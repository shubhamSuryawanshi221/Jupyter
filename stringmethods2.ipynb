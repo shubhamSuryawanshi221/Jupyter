{
 "cells": [
  {
   "cell_type": "markdown",
   "id": "cbc11893",
   "metadata": {},
   "source": [
    "# 11. find()"
   ]
  },
  {
   "cell_type": "code",
   "execution_count": null,
   "id": "465b85c5",
   "metadata": {},
   "outputs": [],
   "source": [
    ">> Returns the index of the first occurrence of substring (returns -1 if not found)."
   ]
  },
  {
   "cell_type": "code",
   "execution_count": null,
   "id": "c24bd164",
   "metadata": {},
   "outputs": [],
   "source": [
    "Syntax: \n",
    "    string.find(substring, start, end)"
   ]
  },
  {
   "cell_type": "code",
   "execution_count": 1,
   "id": "20691bee",
   "metadata": {},
   "outputs": [],
   "source": [
    "string = 'python and data science'"
   ]
  },
  {
   "cell_type": "code",
   "execution_count": 2,
   "id": "c4e6e91f",
   "metadata": {},
   "outputs": [
    {
     "data": {
      "text/plain": [
       "2"
      ]
     },
     "execution_count": 2,
     "metadata": {},
     "output_type": "execute_result"
    }
   ],
   "source": [
    "string.index('t')"
   ]
  },
  {
   "cell_type": "code",
   "execution_count": 3,
   "id": "8be4fc89",
   "metadata": {},
   "outputs": [
    {
     "ename": "ValueError",
     "evalue": "substring not found",
     "output_type": "error",
     "traceback": [
      "\u001b[1;31m---------------------------------------------------------------------------\u001b[0m",
      "\u001b[1;31mValueError\u001b[0m                                Traceback (most recent call last)",
      "Input \u001b[1;32mIn [3]\u001b[0m, in \u001b[0;36m<cell line: 1>\u001b[1;34m()\u001b[0m\n\u001b[1;32m----> 1\u001b[0m \u001b[43mstring\u001b[49m\u001b[38;5;241;43m.\u001b[39;49m\u001b[43mindex\u001b[49m\u001b[43m(\u001b[49m\u001b[38;5;124;43m'\u001b[39;49m\u001b[38;5;124;43mq\u001b[39;49m\u001b[38;5;124;43m'\u001b[39;49m\u001b[43m)\u001b[49m\n",
      "\u001b[1;31mValueError\u001b[0m: substring not found"
     ]
    }
   ],
   "source": [
    "string.index('q')"
   ]
  },
  {
   "cell_type": "code",
   "execution_count": 5,
   "id": "ca88c48a",
   "metadata": {},
   "outputs": [
    {
     "data": {
      "text/plain": [
       "-1"
      ]
     },
     "execution_count": 5,
     "metadata": {},
     "output_type": "execute_result"
    }
   ],
   "source": [
    "string.find('q')"
   ]
  },
  {
   "cell_type": "code",
   "execution_count": 4,
   "id": "27e19545",
   "metadata": {},
   "outputs": [
    {
     "data": {
      "text/plain": [
       "2"
      ]
     },
     "execution_count": 4,
     "metadata": {},
     "output_type": "execute_result"
    }
   ],
   "source": [
    "string.find('t')"
   ]
  },
  {
   "cell_type": "markdown",
   "id": "7f2ceddd",
   "metadata": {},
   "source": [
    "# 12. split()"
   ]
  },
  {
   "cell_type": "markdown",
   "id": "e8588373",
   "metadata": {},
   "source": [
    ">> The split() method breaks a string into a list of substrings based on a specified delimiter. If no delimiter is specified, it defaults to whitespace\n",
    ">> used to convert string into list."
   ]
  },
  {
   "cell_type": "code",
   "execution_count": 2,
   "id": "005ee063",
   "metadata": {},
   "outputs": [
    {
     "name": "stdout",
     "output_type": "stream",
     "text": [
      "['this', 'is', 'python', 'class']\n"
     ]
    },
    {
     "data": {
      "text/plain": [
       "list"
      ]
     },
     "execution_count": 2,
     "metadata": {},
     "output_type": "execute_result"
    }
   ],
   "source": [
    "aa=\"this is python class\"\n",
    "#output= [\"this\",\"is\",\"python\", \"class\" ]\n",
    "words_list=aa.split()\n",
    "print(words_list)\n",
    "type(words_list)"
   ]
  },
  {
   "cell_type": "code",
   "execution_count": 4,
   "id": "31dcc412",
   "metadata": {},
   "outputs": [
    {
     "name": "stdout",
     "output_type": "stream",
     "text": [
      "['This', 'is', 'a', 'sentence.']\n"
     ]
    }
   ],
   "source": [
    "sentence = \"This is a sentence.\"\n",
    "words = sentence.split()\n",
    "print(words)"
   ]
  },
  {
   "cell_type": "code",
   "execution_count": 5,
   "id": "a57f7a9c",
   "metadata": {},
   "outputs": [
    {
     "data": {
      "text/plain": [
       "['This ', ' i', 's a sent', 'ence', '.']"
      ]
     },
     "execution_count": 5,
     "metadata": {},
     "output_type": "execute_result"
    }
   ],
   "source": [
    "sentence = \"This , i,s a sent,ence,.\"\n",
    "sentence.split(\",\")"
   ]
  },
  {
   "cell_type": "markdown",
   "id": "7ce6b69c",
   "metadata": {},
   "source": [
    "# 13. endswith()"
   ]
  },
  {
   "cell_type": "markdown",
   "id": "1098f0c6",
   "metadata": {},
   "source": [
    ">> endswith() method checks if a string ends with a specified suffix. It returns True if it does, and False otherwise."
   ]
  },
  {
   "cell_type": "code",
   "execution_count": null,
   "id": "d5413e82",
   "metadata": {},
   "outputs": [],
   "source": [
    "syntax- \n",
    "string.endswith(suffix, start, end)"
   ]
  },
  {
   "cell_type": "code",
   "execution_count": 6,
   "id": "b67076d2",
   "metadata": {},
   "outputs": [
    {
     "name": "stdout",
     "output_type": "stream",
     "text": [
      "True\n"
     ]
    }
   ],
   "source": [
    "filename = \"document.txt\"\n",
    "print(filename.endswith(\".txt\"))"
   ]
  },
  {
   "cell_type": "code",
   "execution_count": 4,
   "id": "3d9181e8",
   "metadata": {},
   "outputs": [],
   "source": [
    "import os"
   ]
  },
  {
   "cell_type": "code",
   "execution_count": 6,
   "id": "48a24385",
   "metadata": {},
   "outputs": [
    {
     "name": "stdout",
     "output_type": "stream",
     "text": [
      "AmesHousing.csv\n",
      "autos_dataset.csv\n",
      "Country_clusters.csv\n",
      "credit-card.csv\n",
      "Customers.csv\n"
     ]
    }
   ],
   "source": [
    "file=r\"C:\\Users\\VISHNU KALE\\Desktop\\python july mid\"\n",
    "file_lis=os.listdir(\"test_files\")\n",
    "file_lis\n",
    "for item in file_lis:\n",
    "    if item.endswith(\".csv\"):\n",
    "        print(item)"
   ]
  },
  {
   "cell_type": "code",
   "execution_count": 4,
   "id": "c10f97a7",
   "metadata": {},
   "outputs": [
    {
     "name": "stdout",
     "output_type": "stream",
     "text": [
      "['1207_385_bank_statement11.pdf', '97_134_bank_statement21.pdf', 'AmesHousing.csv', 'autos_dataset.csv', 'Country_clusters.csv', 'credit-card.csv', 'Customers.csv', 'cv004_11636.txt', 'cv005_29443.txt', 'cv007_4968.txt', 'cv008_29435.txt', 'cv009_29592.txt']\n"
     ]
    },
    {
     "data": {
      "text/plain": [
       "12"
      ]
     },
     "execution_count": 4,
     "metadata": {},
     "output_type": "execute_result"
    }
   ],
   "source": [
    "file_path = r\"C:\\Users\\VISHNU KALE\\Desktop\\python\\test_files\"\n",
    "files_list = os.listdir('test_files')\n",
    "print(files_list)\n",
    "len(files_list)"
   ]
  },
  {
   "cell_type": "code",
   "execution_count": 5,
   "id": "b25a92ed",
   "metadata": {},
   "outputs": [
    {
     "name": "stdout",
     "output_type": "stream",
     "text": [
      "File name is  1207_385_bank_statement11.pdf\n",
      "File name is  97_134_bank_statement21.pdf\n"
     ]
    }
   ],
   "source": [
    "for file_name in files_list:\n",
    "    if file_name.endswith('.pdf'):\n",
    "        print(\"File name is \",file_name)"
   ]
  },
  {
   "cell_type": "code",
   "execution_count": 36,
   "id": "fc35e0dd",
   "metadata": {
    "scrolled": false
   },
   "outputs": [
    {
     "name": "stdout",
     "output_type": "stream",
     "text": [
      "File name is  AmesHousing.csv\n",
      "File name is  autos_dataset.csv\n",
      "File name is  Country_clusters.csv\n",
      "File name is  credit-card.csv\n",
      "File name is  Customers.csv\n"
     ]
    }
   ],
   "source": [
    "for file_name in files_list:\n",
    "    if file_name.endswith('.csv'):\n",
    "        print(\"File name is \",file_name)"
   ]
  },
  {
   "cell_type": "code",
   "execution_count": null,
   "id": "084713cc",
   "metadata": {},
   "outputs": [],
   "source": []
  },
  {
   "cell_type": "code",
   "execution_count": 7,
   "id": "7515d790",
   "metadata": {},
   "outputs": [
    {
     "name": "stdout",
     "output_type": "stream",
     "text": [
      "True\n"
     ]
    }
   ],
   "source": [
    "url = \"https://example.com/\"\n",
    "print(url.endswith(\"/\")) "
   ]
  },
  {
   "cell_type": "markdown",
   "id": "d8834030",
   "metadata": {},
   "source": [
    "# 14. startswith()"
   ]
  },
  {
   "cell_type": "markdown",
   "id": "8895a6c9",
   "metadata": {},
   "source": [
    ">> The startswith() method checks if a string begins with a specified prefix. It returns True if it does, and False otherwise."
   ]
  },
  {
   "cell_type": "code",
   "execution_count": null,
   "id": "470fa194",
   "metadata": {},
   "outputs": [],
   "source": [
    "Syntax: \n",
    "    string.startswith(prefix, start, end)"
   ]
  },
  {
   "cell_type": "code",
   "execution_count": 11,
   "id": "8ce22dbc",
   "metadata": {},
   "outputs": [
    {
     "name": "stdout",
     "output_type": "stream",
     "text": [
      "True\n",
      "False\n",
      "True\n"
     ]
    }
   ],
   "source": [
    "greeting = \"Hello everyone!\"\n",
    "print(greeting.startswith(\"Hello\"))\n",
    "print(greeting.startswith(\"everyone\"))\n",
    "print(greeting.startswith(\"everyone\",6))"
   ]
  },
  {
   "cell_type": "code",
   "execution_count": 1,
   "id": "b6ed0fed",
   "metadata": {},
   "outputs": [
    {
     "name": "stdout",
     "output_type": "stream",
     "text": [
      "True\n"
     ]
    }
   ],
   "source": [
    "text = \"Python is fun.\"\n",
    "print(text.startswith(\"Py\", 0, 6))"
   ]
  },
  {
   "cell_type": "markdown",
   "id": "fa2dfc44",
   "metadata": {},
   "source": [
    "# 15. isalnum()"
   ]
  },
  {
   "cell_type": "markdown",
   "id": "53ef664d",
   "metadata": {},
   "source": [
    ">> The isalnum() method returns True if all characters in the string are alphanumeric (letters or numbers) and the string is not empty. Otherwise, it returns False."
   ]
  },
  {
   "cell_type": "code",
   "execution_count": 13,
   "id": "981524e6",
   "metadata": {},
   "outputs": [
    {
     "name": "stdout",
     "output_type": "stream",
     "text": [
      "True\n"
     ]
    }
   ],
   "source": [
    "code1 = \"ABC123\"\n",
    "print(code1.isalnum())"
   ]
  },
  {
   "cell_type": "code",
   "execution_count": 15,
   "id": "6ab41237",
   "metadata": {},
   "outputs": [
    {
     "name": "stdout",
     "output_type": "stream",
     "text": [
      "False\n"
     ]
    }
   ],
   "source": [
    "code2 = \"ABC-123\"\n",
    "print(code2.isalnum())"
   ]
  },
  {
   "cell_type": "code",
   "execution_count": 16,
   "id": "a1ea6f33",
   "metadata": {},
   "outputs": [
    {
     "name": "stdout",
     "output_type": "stream",
     "text": [
      "False\n"
     ]
    }
   ],
   "source": [
    "code3 = \" \"\n",
    "print(code3.isalnum())"
   ]
  },
  {
   "cell_type": "markdown",
   "id": "d32039f4",
   "metadata": {},
   "source": [
    "# 16. isalpha()"
   ]
  },
  {
   "cell_type": "markdown",
   "id": "403a9c05",
   "metadata": {},
   "source": [
    ">> The isalpha() method returns True if all characters in the string are alphabetic (letters) and the string is not empty. Otherwise, it returns False."
   ]
  },
  {
   "cell_type": "code",
   "execution_count": 7,
   "id": "199534a0",
   "metadata": {},
   "outputs": [
    {
     "name": "stdout",
     "output_type": "stream",
     "text": [
      "True\n"
     ]
    }
   ],
   "source": [
    "word1 = \"HelloWorld\"\n",
    "print(word1.isalpha())"
   ]
  },
  {
   "cell_type": "code",
   "execution_count": 8,
   "id": "3783330c",
   "metadata": {},
   "outputs": [
    {
     "name": "stdout",
     "output_type": "stream",
     "text": [
      "False\n"
     ]
    }
   ],
   "source": [
    "word2 = \"Hello123\"\n",
    "print(word2.isalpha())"
   ]
  },
  {
   "cell_type": "code",
   "execution_count": 19,
   "id": "08bf7607",
   "metadata": {},
   "outputs": [
    {
     "name": "stdout",
     "output_type": "stream",
     "text": [
      "False\n"
     ]
    }
   ],
   "source": [
    "word2 = \"Hello123#$%^&*\"\n",
    "print(word2.isalpha())"
   ]
  },
  {
   "cell_type": "markdown",
   "id": "3400d6ae",
   "metadata": {},
   "source": [
    "# 17. isdecimal()"
   ]
  },
  {
   "cell_type": "markdown",
   "id": "4af6b035",
   "metadata": {},
   "source": [
    ">> The isdecimal() method returns True if all characters in the string are decimal digits (0-9) and the string is not empty. It only considers Unicode decimal digits."
   ]
  },
  {
   "cell_type": "code",
   "execution_count": 21,
   "id": "73406ef3",
   "metadata": {},
   "outputs": [
    {
     "name": "stdout",
     "output_type": "stream",
     "text": [
      "True\n"
     ]
    }
   ],
   "source": [
    "num_str1 = \"12345\"\n",
    "print(num_str1.isdecimal())"
   ]
  },
  {
   "cell_type": "code",
   "execution_count": 23,
   "id": "eaeab669",
   "metadata": {},
   "outputs": [
    {
     "name": "stdout",
     "output_type": "stream",
     "text": [
      "False\n"
     ]
    }
   ],
   "source": [
    "num_str2 = \"12.34\"\n",
    "print(num_str2.isdecimal())"
   ]
  },
  {
   "cell_type": "markdown",
   "id": "81e1c913",
   "metadata": {},
   "source": [
    "# 18. isdigit()"
   ]
  },
  {
   "cell_type": "code",
   "execution_count": null,
   "id": "44292bca",
   "metadata": {},
   "outputs": [],
   "source": [
    ">> The isdigit() method returns True if all characters in the string are digits (0-9 and some other Unicode digits) and \n",
    "the string is not empty."
   ]
  },
  {
   "cell_type": "code",
   "execution_count": 7,
   "id": "97073a7c",
   "metadata": {},
   "outputs": [
    {
     "data": {
      "text/plain": [
       "66"
      ]
     },
     "execution_count": 7,
     "metadata": {},
     "output_type": "execute_result"
    }
   ],
   "source": [
    "ord('B')"
   ]
  },
  {
   "cell_type": "code",
   "execution_count": 6,
   "id": "8c255b5d",
   "metadata": {},
   "outputs": [
    {
     "data": {
      "text/plain": [
       "65"
      ]
     },
     "execution_count": 6,
     "metadata": {},
     "output_type": "execute_result"
    }
   ],
   "source": [
    "ord('A')"
   ]
  },
  {
   "cell_type": "code",
   "execution_count": 24,
   "id": "de4a484b",
   "metadata": {},
   "outputs": [
    {
     "name": "stdout",
     "output_type": "stream",
     "text": [
      "True\n"
     ]
    }
   ],
   "source": [
    "num_str1 = \"12345\"\n",
    "print(num_str1.isdigit())"
   ]
  },
  {
   "cell_type": "code",
   "execution_count": 25,
   "id": "d1e6ecab",
   "metadata": {},
   "outputs": [
    {
     "name": "stdout",
     "output_type": "stream",
     "text": [
      "False\n"
     ]
    }
   ],
   "source": [
    "num_str2 = \"12.34\"\n",
    "print(num_str2.isdigit())"
   ]
  },
  {
   "cell_type": "markdown",
   "id": "ddb58675",
   "metadata": {},
   "source": [
    "# 19. isnumeric()"
   ]
  },
  {
   "cell_type": "markdown",
   "id": "e43d0b08",
   "metadata": {},
   "source": [
    " >> The isnumeric() method returns True if all characters in the string are numeric characters and the string is not empty"
   ]
  },
  {
   "cell_type": "code",
   "execution_count": 26,
   "id": "c863503a",
   "metadata": {},
   "outputs": [
    {
     "name": "stdout",
     "output_type": "stream",
     "text": [
      "True\n"
     ]
    }
   ],
   "source": [
    "num_str1 = \"12345\"\n",
    "print(num_str1.isnumeric())"
   ]
  },
  {
   "cell_type": "code",
   "execution_count": 28,
   "id": "b32a4e2f",
   "metadata": {},
   "outputs": [
    {
     "name": "stdout",
     "output_type": "stream",
     "text": [
      "False\n"
     ]
    }
   ],
   "source": [
    "num_str2 = \"1/2\"  \n",
    "print(num_str2.isnumeric())"
   ]
  },
  {
   "cell_type": "code",
   "execution_count": 30,
   "id": "416708fe",
   "metadata": {},
   "outputs": [
    {
     "name": "stdout",
     "output_type": "stream",
     "text": [
      "False\n"
     ]
    }
   ],
   "source": [
    "num_str3 = \"IV\"  \n",
    "print(num_str3.isnumeric())"
   ]
  },
  {
   "cell_type": "code",
   "execution_count": 31,
   "id": "38f0cb0d",
   "metadata": {},
   "outputs": [
    {
     "name": "stdout",
     "output_type": "stream",
     "text": [
      "False\n"
     ]
    }
   ],
   "source": [
    "num_str4 = \"\"\n",
    "print(num_str4.isnumeric())"
   ]
  },
  {
   "cell_type": "markdown",
   "id": "6f8e068e",
   "metadata": {},
   "source": [
    "# 20.islower()"
   ]
  },
  {
   "cell_type": "markdown",
   "id": "fb1dc490",
   "metadata": {},
   "source": [
    ">> The islower() method returns True if all cased characters in the string are lowercase and the string contains at least one cased character. Otherwise, it returns False."
   ]
  },
  {
   "cell_type": "code",
   "execution_count": 32,
   "id": "276fbb72",
   "metadata": {},
   "outputs": [
    {
     "name": "stdout",
     "output_type": "stream",
     "text": [
      "True\n"
     ]
    }
   ],
   "source": [
    "text1 = \"hello world\"\n",
    "print(text1.islower())"
   ]
  },
  {
   "cell_type": "code",
   "execution_count": 33,
   "id": "582da2c6",
   "metadata": {},
   "outputs": [
    {
     "name": "stdout",
     "output_type": "stream",
     "text": [
      "False\n"
     ]
    }
   ],
   "source": [
    "text2 = \"Hello World\"\n",
    "print(text2.islower())"
   ]
  },
  {
   "cell_type": "code",
   "execution_count": 34,
   "id": "1bda4fa9",
   "metadata": {},
   "outputs": [
    {
     "name": "stdout",
     "output_type": "stream",
     "text": [
      "True\n"
     ]
    }
   ],
   "source": [
    "text3 = \"123 hello\"\n",
    "print(text3.islower())"
   ]
  },
  {
   "cell_type": "code",
   "execution_count": 35,
   "id": "dc7c7723",
   "metadata": {},
   "outputs": [
    {
     "name": "stdout",
     "output_type": "stream",
     "text": [
      "False\n"
     ]
    }
   ],
   "source": [
    "t=\"1234 A \"\n",
    "print(t.islower())"
   ]
  },
  {
   "cell_type": "markdown",
   "id": "b36242fb",
   "metadata": {},
   "source": [
    "# 21. isupper()"
   ]
  },
  {
   "cell_type": "code",
   "execution_count": null,
   "id": "7e91dec4",
   "metadata": {},
   "outputs": [],
   "source": [
    ">> The isupper() method returns True if all cased characters in the string are uppercase and\n",
    "the string contains at least one cased character."
   ]
  },
  {
   "cell_type": "code",
   "execution_count": 9,
   "id": "b51adb96",
   "metadata": {},
   "outputs": [
    {
     "name": "stdout",
     "output_type": "stream",
     "text": [
      "True\n"
     ]
    }
   ],
   "source": [
    "text1 = \"HELLO WORLD\"\n",
    "print(text1.isupper())"
   ]
  },
  {
   "cell_type": "code",
   "execution_count": 10,
   "id": "2a8217b5",
   "metadata": {},
   "outputs": [
    {
     "name": "stdout",
     "output_type": "stream",
     "text": [
      "False\n"
     ]
    }
   ],
   "source": [
    "text2 = \"Hello World\"\n",
    "print(text2.isupper())"
   ]
  },
  {
   "cell_type": "code",
   "execution_count": 39,
   "id": "d5535ce2",
   "metadata": {},
   "outputs": [
    {
     "name": "stdout",
     "output_type": "stream",
     "text": [
      "True\n"
     ]
    }
   ],
   "source": [
    "text3 = \"123 HELLO\"\n",
    "print(text3.isupper())"
   ]
  },
  {
   "cell_type": "code",
   "execution_count": 21,
   "id": "f9bdac47",
   "metadata": {},
   "outputs": [
    {
     "name": "stdout",
     "output_type": "stream",
     "text": [
      "False\n"
     ]
    }
   ],
   "source": [
    "text4 = \"123\"\n",
    "print(text4.isupper())"
   ]
  },
  {
   "cell_type": "markdown",
   "id": "25431f7a",
   "metadata": {},
   "source": [
    "# 22. istitle()"
   ]
  },
  {
   "cell_type": "markdown",
   "id": "27d22ec5",
   "metadata": {},
   "source": [
    ">> The istitle() method returns True if the string is title-cased, \n",
    " meaning the first letter of each word is uppercase and the remaining letters are lowercase."
   ]
  },
  {
   "cell_type": "code",
   "execution_count": 40,
   "id": "2cfc6a4a",
   "metadata": {},
   "outputs": [
    {
     "name": "stdout",
     "output_type": "stream",
     "text": [
      "True\n"
     ]
    }
   ],
   "source": [
    "text1 = \"Hello World\"\n",
    "print(text1.istitle())"
   ]
  },
  {
   "cell_type": "code",
   "execution_count": 41,
   "id": "5894caf7",
   "metadata": {},
   "outputs": [
    {
     "name": "stdout",
     "output_type": "stream",
     "text": [
      "False\n"
     ]
    }
   ],
   "source": [
    "text2 = \"hello world\"\n",
    "print(text2.istitle())"
   ]
  },
  {
   "cell_type": "code",
   "execution_count": 11,
   "id": "8e3c32f7",
   "metadata": {},
   "outputs": [
    {
     "data": {
      "text/plain": [
       "False"
      ]
     },
     "execution_count": 11,
     "metadata": {},
     "output_type": "execute_result"
    }
   ],
   "source": [
    "text4 = \"hello World\"\n",
    "text4.istitle()"
   ]
  },
  {
   "cell_type": "code",
   "execution_count": 42,
   "id": "e6608cd2",
   "metadata": {},
   "outputs": [
    {
     "name": "stdout",
     "output_type": "stream",
     "text": [
      "False\n"
     ]
    }
   ],
   "source": [
    "text3 = \"Hello world\"\n",
    "print(text3.istitle())"
   ]
  },
  {
   "cell_type": "markdown",
   "id": "ceb0f117",
   "metadata": {},
   "source": [
    "# 23. isspace()"
   ]
  },
  {
   "cell_type": "code",
   "execution_count": null,
   "id": "eb14c2b4",
   "metadata": {},
   "outputs": [],
   "source": [
    ">> The isspace() method returns True if all characters in the\n",
    "string are whitespace characters and the string is not empty. "
   ]
  },
  {
   "cell_type": "code",
   "execution_count": 43,
   "id": "b39dee69",
   "metadata": {},
   "outputs": [
    {
     "name": "stdout",
     "output_type": "stream",
     "text": [
      "True\n"
     ]
    }
   ],
   "source": [
    "text1 = \"   \"\n",
    "print(text1.isspace())"
   ]
  },
  {
   "cell_type": "code",
   "execution_count": 13,
   "id": "2d55ab25",
   "metadata": {},
   "outputs": [
    {
     "data": {
      "text/plain": [
       "True"
      ]
     },
     "execution_count": 13,
     "metadata": {},
     "output_type": "execute_result"
    }
   ],
   "source": [
    "t=\"     \"\n",
    "t.isspace()"
   ]
  },
  {
   "cell_type": "code",
   "execution_count": 44,
   "id": "5e51cc0f",
   "metadata": {},
   "outputs": [
    {
     "name": "stdout",
     "output_type": "stream",
     "text": [
      "False\n"
     ]
    }
   ],
   "source": [
    "text3 = \" Hello         \"\n",
    "print(text3.isspace())"
   ]
  },
  {
   "cell_type": "markdown",
   "id": "c5af7c24",
   "metadata": {},
   "source": [
    "# 24. zfill()"
   ]
  },
  {
   "cell_type": "markdown",
   "id": "f9aca561",
   "metadata": {},
   "source": [
    ">> The zfill() method pads the beginning of a string with leading zeros to reach a specified width. If the original string's length is already greater than or equal to the width, it returns the original string."
   ]
  },
  {
   "cell_type": "code",
   "execution_count": 45,
   "id": "243c6a63",
   "metadata": {},
   "outputs": [
    {
     "name": "stdout",
     "output_type": "stream",
     "text": [
      "3\n",
      "0000000567\n"
     ]
    }
   ],
   "source": [
    "t=\"567\"\n",
    "print(len(t))\n",
    "print(t.zfill(10))"
   ]
  },
  {
   "cell_type": "code",
   "execution_count": 14,
   "id": "48c3726a",
   "metadata": {},
   "outputs": [
    {
     "name": "stdout",
     "output_type": "stream",
     "text": [
      "12345678\n"
     ]
    }
   ],
   "source": [
    "tt=\"12345678\"\n",
    "print(tt.zfill(5))"
   ]
  },
  {
   "cell_type": "code",
   "execution_count": 27,
   "id": "ec515cf2",
   "metadata": {},
   "outputs": [
    {
     "name": "stdout",
     "output_type": "stream",
     "text": [
      "00123\n"
     ]
    }
   ],
   "source": [
    "text1 = \"123\"\n",
    "print(text1.zfill(5))"
   ]
  },
  {
   "cell_type": "code",
   "execution_count": 29,
   "id": "aa61f665",
   "metadata": {},
   "outputs": [
    {
     "name": "stdout",
     "output_type": "stream",
     "text": [
      "-00045\n"
     ]
    }
   ],
   "source": [
    "text2 = \"-45\"\n",
    "print(text2.zfill(6))"
   ]
  },
  {
   "cell_type": "code",
   "execution_count": 46,
   "id": "f0bb2df2",
   "metadata": {},
   "outputs": [
    {
     "name": "stdout",
     "output_type": "stream",
     "text": [
      "hello\n"
     ]
    }
   ],
   "source": [
    "text3 = \"hello\"\n",
    "print(text3.zfill(3)) #length is already greater"
   ]
  },
  {
   "cell_type": "markdown",
   "id": "cc26c5e3",
   "metadata": {},
   "source": [
    "# 25. center()"
   ]
  },
  {
   "cell_type": "markdown",
   "id": "1290c14e",
   "metadata": {},
   "source": [
    ">>> The center() method returns a centered string of a specified width. The original string is centered, and the remaining space is filled with a specified fill character (default is a space)."
   ]
  },
  {
   "cell_type": "code",
   "execution_count": 49,
   "id": "1f988e96",
   "metadata": {},
   "outputs": [
    {
     "name": "stdout",
     "output_type": "stream",
     "text": [
      "  Python  \n",
      "**Python**\n",
      "-----Python----\n"
     ]
    }
   ],
   "source": [
    "text = \"Python\"\n",
    "print(text.center(10))       \n",
    "print(text.center(10, \"*\"))    \n",
    "print(text.center(15, \"-\"))"
   ]
  },
  {
   "cell_type": "code",
   "execution_count": null,
   "id": "f75410d2",
   "metadata": {},
   "outputs": [],
   "source": [
    "# "
   ]
  },
  {
   "cell_type": "markdown",
   "id": "8a4d8240",
   "metadata": {},
   "source": [
    "1. capitalize()\n",
    "   Syntax: string.capitalize()\n",
    "   Explanation: Returns a string with the first character capitalized and the rest lowercased.\n",
    "\n",
    "2. lower()\n",
    "   Syntax: string.lower()\n",
    "   Explanation: Returns a string where all characters are converted to lowercase.\n",
    "\n",
    "3. upper()\n",
    "   Syntax: string.upper()\n",
    "   Explanation: Returns a string where all characters are converted to uppercase.\n",
    "\n",
    "4. title()\n",
    "   Syntax: string.title()\n",
    "   Explanation: Returns a title-cased string where the first letter of each word is capitalized.\n",
    "\n",
    "5. lstrip()\n",
    "   Syntax: string.lstrip([chars])\n",
    "   Explanation: Returns a string with leading whitespace (or specified characters) removed.\n",
    "\n",
    "6. rstrip()\n",
    "   Syntax: string.rstrip([chars])\n",
    "   Explanation: Returns a string with trailing whitespace (or specified characters) removed.\n",
    "\n",
    "7. strip()\n",
    "   Syntax: string.strip([chars])\n",
    "   Explanation: Returns a string with both leading and trailing whitespace (or specified characters) removed.\n",
    "\n",
    "8. replace(old, new, [count])\n",
    "   Syntax: string.replace(old, new, [count])\n",
    "   Explanation: Returns a new string where all (or the first 'count') occurrences of 'old' are replaced by 'new'.\n",
    "\n",
    "9. count(sub, [start], [end])\n",
    "   Syntax: string.count(sub, [start], [end])\n",
    "   Explanation: Returns the number of non-overlapping occurrences of substring 'sub' in the string (within optional range).\n",
    "\n",
    "10. index(sub, [start], [end])\n",
    "    Syntax: string.index(sub, [start], [end])\n",
    "    Explanation: Returns the index of the first occurrence of substring 'sub' in the string (within optional range); raises ValueError if not found.\n",
    "\n",
    "11. find(sub, [start], [end])\n",
    "    Syntax: string.find(sub, [start], [end])\n",
    "    Explanation: Returns the index of the first occurrence of substring 'sub' in the string (within optional range); returns -1 if not found.\n",
    "\n",
    "12. split(sep=None, maxsplit=-1)\n",
    "    Syntax: string.split(sep=None, maxsplit=-1)\n",
    "    Explanation: Returns a list of substrings by splitting the string at the specified separator (or whitespace), with an optional maximum number of splits.\n",
    "\n",
    "13. endswith(suffix, [start], [end])\n",
    "    Syntax: string.endswith(suffix, [start], [end])\n",
    "    Explanation: Returns True if the string ends with the specified suffix (within optional range), False otherwise.\n",
    "\n",
    "14. startswith(prefix, [start], [end])\n",
    "    Syntax: string.startswith(prefix, [start], [end])\n",
    "    Explanation: Returns True if the string starts with the specified prefix (within optional range), False otherwise.\n",
    "\n",
    "15. isalnum()\n",
    "    Syntax: string.isalnum()\n",
    "    Explanation: Returns True if all characters in the string are alphanumeric and the string is not empty, False otherwise.\n",
    "\n",
    "16. isalpha()\n",
    "    Syntax: string.isalpha()\n",
    "    Explanation: Returns True if all characters in the string are alphabetic and the string is not empty, False otherwise.\n",
    "\n",
    "17. isdecimal()\n",
    "    Syntax: string.isdecimal()\n",
    "    Explanation: Returns True if all characters in the string are decimal digits and the string is not empty, False otherwise (Unicode decimal digits only).\n",
    "\n",
    "18. isdigit()\n",
    "    Syntax: string.isdigit()\n",
    "    Explanation: Returns True if all characters in the string are digits (including some Unicode digits) and the string is not empty, False otherwise.\n",
    "\n",
    "19. isnumeric()\n",
    "    Syntax: string.isnumeric()\n",
    "    Explanation: Returns True if all characters in the string are numeric characters and the string is not empty, False otherwise (most inclusive digit check).\n",
    "\n",
    "20. islower()\n",
    "    Syntax: string.islower()\n",
    "    Explanation: Returns True if all cased characters in the string are lowercase and there is at least one cased character, False otherwise.\n",
    "\n",
    "21. isupper()\n",
    "    Syntax: string.isupper()\n",
    "    Explanation: Returns True if all cased characters in the string are uppercase and there is at least one cased character, False otherwise.\n",
    "\n",
    "22. istitle()\n",
    "    Syntax: string.istitle()\n",
    "    Explanation: Returns True if the string is title-cased (first letter of each word uppercase, others lowercase), False otherwise.\n",
    "\n",
    "23. isspace()\n",
    "    Syntax: string.isspace()\n",
    "    Explanation: Returns True if all characters in the string are whitespace and the string is not empty, False otherwise.\n",
    "\n",
    "24. zfill(width)\n",
    "    Syntax: string.zfill(width)\n",
    "    Explanation: Returns a string padded with leading zeros to reach the specified width; sign is handled.\n",
    "\n",
    "25. center(width, [fillchar])\n",
    "    Syntax: string.center(width, [fillchar])\n",
    "    Explanation: Returns a centered string of the specified width, padded with the fill character (default space).\n",
    "\n",
    "26. casefold()\n",
    "    Syntax: string.casefold()\n",
    "    Explanation: Returns a version of the string suitable for caseless comparisons, more aggressive than lower()."
   ]
  },
  {
   "cell_type": "code",
   "execution_count": null,
   "id": "69f34069",
   "metadata": {},
   "outputs": [],
   "source": []
  },
  {
   "cell_type": "code",
   "execution_count": null,
   "id": "7868cfaf",
   "metadata": {},
   "outputs": [],
   "source": []
  },
  {
   "cell_type": "markdown",
   "id": "7e16b460",
   "metadata": {},
   "source": [
    "# practice programs"
   ]
  },
  {
   "cell_type": "markdown",
   "id": "f8142329",
   "metadata": {},
   "source": [
    "Write a program that takes a string as input and prints its lowercase, uppercase, and title-cased versions."
   ]
  },
  {
   "cell_type": "code",
   "execution_count": 50,
   "id": "08497b1a",
   "metadata": {},
   "outputs": [
    {
     "name": "stdout",
     "output_type": "stream",
     "text": [
      "Enter a string: MY name IS vishnu\n",
      "Lowercase: my name is vishnu\n",
      "Uppercase: MY NAME IS VISHNU\n",
      "Title Case: My Name Is Vishnu\n"
     ]
    }
   ],
   "source": [
    "text = input(\"Enter a string: \")\n",
    "lowercase_text = text.lower()\n",
    "uppercase_text = text.upper()\n",
    "titlecase_text = text.title()\n",
    "print(f\"Lowercase: {lowercase_text}\")\n",
    "print(f\"Uppercase: {uppercase_text}\")\n",
    "print(f\"Title Case: {titlecase_text}\")"
   ]
  },
  {
   "cell_type": "code",
   "execution_count": null,
   "id": "27a9b73c",
   "metadata": {},
   "outputs": [],
   "source": [
    " Write a program that takes a string with leading and trailing spaces and prints the string with those spaces removed."
   ]
  },
  {
   "cell_type": "code",
   "execution_count": 5,
   "id": "ddd33e2d",
   "metadata": {},
   "outputs": [
    {
     "name": "stdout",
     "output_type": "stream",
     "text": [
      "Original: '   Hello, World!   '\n",
      "Stripped: 'Hello, World!'\n"
     ]
    }
   ],
   "source": [
    "text_with_spaces = \"   Hello, World!   \"\n",
    "stripped_text = text_with_spaces.strip()\n",
    "print(f\"Original: '{text_with_spaces}'\")\n",
    "print(f\"Stripped: '{stripped_text}'\")"
   ]
  },
  {
   "cell_type": "code",
   "execution_count": null,
   "id": "ae469337",
   "metadata": {},
   "outputs": [],
   "source": [
    "Write a program that takes a sentence and replaces all occurrences of a specific word (you can choose the word) with another word."
   ]
  },
  {
   "cell_type": "code",
   "execution_count": 6,
   "id": "98753d67",
   "metadata": {},
   "outputs": [
    {
     "name": "stdout",
     "output_type": "stream",
     "text": [
      "Original sentence: The cat sat on the mat.\n",
      "New sentence: The dog sat on the mat.\n"
     ]
    }
   ],
   "source": [
    "sentence = \"The cat sat on the mat.\"\n",
    "old_word = \"cat\"\n",
    "new_word = \"dog\"\n",
    "new_sentence = sentence.replace(old_word, new_word)\n",
    "print(f\"Original sentence: {sentence}\")\n",
    "print(f\"New sentence: {new_sentence}\")"
   ]
  },
  {
   "cell_type": "code",
   "execution_count": null,
   "id": "0f93a3a7",
   "metadata": {},
   "outputs": [],
   "source": [
    "Write a program that takes a string and a character as input and counts how many times that character appears in the string (case-insensitive)."
   ]
  },
  {
   "cell_type": "code",
   "execution_count": 8,
   "id": "eb825cb1",
   "metadata": {},
   "outputs": [
    {
     "name": "stdout",
     "output_type": "stream",
     "text": [
      "Enter a string: this is python class pp\n",
      "Enter a character to count: p\n",
      "The character 'p' appears 3 times.\n"
     ]
    }
   ],
   "source": [
    "text = input(\"Enter a string: \")\n",
    "char_to_count = input(\"Enter a character to count: \").lower()\n",
    "count = 0\n",
    "for char in text.lower():\n",
    "    if char == char_to_count:\n",
    "        count += 1\n",
    "print(f\"The character '{char_to_count}' appears {count} times.\")\n",
    "\n"
   ]
  },
  {
   "cell_type": "code",
   "execution_count": 9,
   "id": "425ae41d",
   "metadata": {},
   "outputs": [
    {
     "name": "stdout",
     "output_type": "stream",
     "text": [
      "Enter a string: this is python class\n",
      "Enter a character to count: is\n",
      "The character 'is' appears 2 times.\n"
     ]
    }
   ],
   "source": [
    "# Alternatively using the count() method:\n",
    "text = input(\"Enter a string: \")\n",
    "char_to_count = input(\"Enter a character to count: \").lower()\n",
    "count = text.lower().count(char_to_count)\n",
    "print(f\"The character '{char_to_count}' appears {count} times.\")"
   ]
  },
  {
   "cell_type": "code",
   "execution_count": null,
   "id": "0cdcf370",
   "metadata": {},
   "outputs": [],
   "source": [
    "Write a program that takes a string and a substring as input and prints the index of the first occurrence of the substring. If not found, print -1."
   ]
  },
  {
   "cell_type": "code",
   "execution_count": 11,
   "id": "3a743d0e",
   "metadata": {},
   "outputs": [
    {
     "name": "stdout",
     "output_type": "stream",
     "text": [
      "Enter a string: this is python class\n",
      "Enter a substring to find: c\n",
      "The substring 'c' is found at index: 15\n"
     ]
    }
   ],
   "source": [
    "text = input(\"Enter a string: \")\n",
    "substring_to_find = input(\"Enter a substring to find: \")\n",
    "index = text.find(substring_to_find)\n",
    "print(f\"The substring '{substring_to_find}' is found at index: {index}\")"
   ]
  }
 ],
 "metadata": {
  "kernelspec": {
   "display_name": "Python 3 (ipykernel)",
   "language": "python",
   "name": "python3"
  },
  "language_info": {
   "codemirror_mode": {
    "name": "ipython",
    "version": 3
   },
   "file_extension": ".py",
   "mimetype": "text/x-python",
   "name": "python",
   "nbconvert_exporter": "python",
   "pygments_lexer": "ipython3",
   "version": "3.9.12"
  }
 },
 "nbformat": 4,
 "nbformat_minor": 5
}
