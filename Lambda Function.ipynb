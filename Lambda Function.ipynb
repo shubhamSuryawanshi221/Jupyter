{
 "cells": [
  {
   "cell_type": "markdown",
   "id": "aee62e31",
   "metadata": {},
   "source": [
    "# Lambda Function"
   ]
  },
  {
   "cell_type": "markdown",
   "id": "7176328b",
   "metadata": {},
   "source": [
    ">> Lambda functions are small, anonymous functions defined in a single line. \n",
    ">> They are ideal for short operations where writing a full def function feels unnecessary. \n",
    ">> Think of them as \"one-time-use\" functions for quick tasks "
   ]
  },
  {
   "cell_type": "code",
   "execution_count": null,
   "id": "cd3efbfd",
   "metadata": {},
   "outputs": [],
   "source": [
    ">> It is an annonymous function\n",
    ">> annonymous function >> function without name\n",
    ">> higher order function >> function takes argument as another function\n",
    "ex.: 1. map(function_name)\n",
    "     2. filter(function_name)\n",
    ">> Lambda functions are defined by lambda keyword\n",
    ">> no need to use return statement\n",
    "\n"
   ]
  },
  {
   "cell_type": "markdown",
   "id": "dd15735c",
   "metadata": {},
   "source": [
    "### syntax:"
   ]
  },
  {
   "cell_type": "code",
   "execution_count": null,
   "id": "e8f8a196",
   "metadata": {},
   "outputs": [],
   "source": [
    "lambda arguments : expression\n",
    "\n",
    "Arguments : Can be any of number (like x, y, etc.).\n",
    "Expression : A single operation that is evaluated and returned.\n",
    "    \n",
    "arguments >>> multiple\n",
    "expression >> single"
   ]
  },
  {
   "cell_type": "code",
   "execution_count": 1,
   "id": "d3a8bde7",
   "metadata": {},
   "outputs": [
    {
     "data": {
      "text/plain": [
       "20"
      ]
     },
     "execution_count": 1,
     "metadata": {},
     "output_type": "execute_result"
    }
   ],
   "source": [
    "def multiplication(a,b):\n",
    "    mul = a*b\n",
    "    return mul\n",
    "\n",
    "multiplication(5,4)"
   ]
  },
  {
   "cell_type": "code",
   "execution_count": null,
   "id": "3e541163",
   "metadata": {},
   "outputs": [],
   "source": []
  },
  {
   "cell_type": "code",
   "execution_count": 2,
   "id": "2af87846",
   "metadata": {},
   "outputs": [
    {
     "data": {
      "text/plain": [
       "15"
      ]
     },
     "execution_count": 2,
     "metadata": {},
     "output_type": "execute_result"
    }
   ],
   "source": [
    "x = lambda a,b : a*b\n",
    "x(10,20)\n",
    "x(3,5)"
   ]
  },
  {
   "cell_type": "code",
   "execution_count": 7,
   "id": "a245e6c1",
   "metadata": {},
   "outputs": [
    {
     "name": "stdout",
     "output_type": "stream",
     "text": [
      "20\n",
      "30\n",
      "25\n",
      "60\n"
     ]
    }
   ],
   "source": [
    "mul = lambda a,b : a*b\n",
    "print(mul(5,4))\n",
    "print(mul(5,6))\n",
    "print(mul(5,5))\n",
    "print(mul(15,4))"
   ]
  },
  {
   "cell_type": "code",
   "execution_count": 3,
   "id": "e6f38f36",
   "metadata": {},
   "outputs": [
    {
     "name": "stdout",
     "output_type": "stream",
     "text": [
      "1000\n",
      "1000\n",
      "1000\n"
     ]
    }
   ],
   "source": [
    "mul = lambda a,b : 1000     #a*b\n",
    "print(mul(5,6))\n",
    "print(mul(5,5))\n",
    "print(mul(15,4))"
   ]
  },
  {
   "cell_type": "code",
   "execution_count": 4,
   "id": "31f4c701",
   "metadata": {},
   "outputs": [
    {
     "name": "stdout",
     "output_type": "stream",
     "text": [
      "1005\n"
     ]
    },
    {
     "data": {
      "text/plain": [
       "1010"
      ]
     },
     "execution_count": 4,
     "metadata": {},
     "output_type": "execute_result"
    }
   ],
   "source": [
    "mul = lambda a,b : a+1000\n",
    "print(mul(5,6))\n",
    "mul(10,4)"
   ]
  },
  {
   "cell_type": "code",
   "execution_count": 12,
   "id": "16508f1d",
   "metadata": {},
   "outputs": [
    {
     "name": "stdout",
     "output_type": "stream",
     "text": [
      "1011\n",
      "1010\n",
      "1019\n"
     ]
    }
   ],
   "source": [
    "mul = lambda a,b : a+b+1000\n",
    "print(mul(5,6))\n",
    "print(mul(5,5))\n",
    "print(mul(15,4))"
   ]
  },
  {
   "cell_type": "code",
   "execution_count": 13,
   "id": "615d5afa",
   "metadata": {},
   "outputs": [
    {
     "data": {
      "text/plain": [
       "25"
      ]
     },
     "execution_count": 13,
     "metadata": {},
     "output_type": "execute_result"
    }
   ],
   "source": [
    "#lambda function to calculate square of number\n",
    "\n",
    "sqr =  lambda x : x**2\n",
    "sqr(5)"
   ]
  },
  {
   "cell_type": "code",
   "execution_count": 14,
   "id": "378590f2",
   "metadata": {},
   "outputs": [
    {
     "ename": "TypeError",
     "evalue": "<lambda>() missing 1 required positional argument: 'y'",
     "output_type": "error",
     "traceback": [
      "\u001b[1;31m---------------------------------------------------------------------------\u001b[0m",
      "\u001b[1;31mTypeError\u001b[0m                                 Traceback (most recent call last)",
      "\u001b[1;32m<ipython-input-14-d3561101d28f>\u001b[0m in \u001b[0;36m<module>\u001b[1;34m\u001b[0m\n\u001b[0;32m      1\u001b[0m \u001b[0msqr\u001b[0m \u001b[1;33m=\u001b[0m  \u001b[1;32mlambda\u001b[0m \u001b[0mx\u001b[0m\u001b[1;33m,\u001b[0m\u001b[0my\u001b[0m \u001b[1;33m:\u001b[0m \u001b[0mx\u001b[0m\u001b[1;33m**\u001b[0m\u001b[1;36m2\u001b[0m\u001b[1;33m\u001b[0m\u001b[1;33m\u001b[0m\u001b[0m\n\u001b[1;32m----> 2\u001b[1;33m \u001b[0msqr\u001b[0m\u001b[1;33m(\u001b[0m\u001b[1;36m5\u001b[0m\u001b[1;33m)\u001b[0m\u001b[1;33m\u001b[0m\u001b[1;33m\u001b[0m\u001b[0m\n\u001b[0m",
      "\u001b[1;31mTypeError\u001b[0m: <lambda>() missing 1 required positional argument: 'y'"
     ]
    }
   ],
   "source": [
    "sqr =  lambda x,y : x**2\n",
    "sqr(5)"
   ]
  },
  {
   "cell_type": "code",
   "execution_count": 15,
   "id": "95f56deb",
   "metadata": {},
   "outputs": [
    {
     "data": {
      "text/plain": [
       "25"
      ]
     },
     "execution_count": 15,
     "metadata": {},
     "output_type": "execute_result"
    }
   ],
   "source": [
    "sqr =  lambda x,y : x**2\n",
    "sqr(5,6)"
   ]
  },
  {
   "cell_type": "code",
   "execution_count": 16,
   "id": "92941fc1",
   "metadata": {},
   "outputs": [
    {
     "data": {
      "text/plain": [
       "36"
      ]
     },
     "execution_count": 16,
     "metadata": {},
     "output_type": "execute_result"
    }
   ],
   "source": [
    "sqr =  lambda x,y : y**2\n",
    "sqr(5,6)"
   ]
  },
  {
   "cell_type": "code",
   "execution_count": 17,
   "id": "a78ea107",
   "metadata": {},
   "outputs": [
    {
     "data": {
      "text/plain": [
       "27"
      ]
     },
     "execution_count": 17,
     "metadata": {},
     "output_type": "execute_result"
    }
   ],
   "source": [
    "cube = lambda x : x**3\n",
    "cube(3)"
   ]
  },
  {
   "cell_type": "code",
   "execution_count": 18,
   "id": "38923fbe",
   "metadata": {},
   "outputs": [
    {
     "data": {
      "text/plain": [
       "20.0"
      ]
     },
     "execution_count": 18,
     "metadata": {},
     "output_type": "execute_result"
    }
   ],
   "source": [
    "avg = lambda x,y,z : (x+y+z)/3\n",
    "avg(10,20,30)"
   ]
  },
  {
   "cell_type": "code",
   "execution_count": 19,
   "id": "f005c088",
   "metadata": {},
   "outputs": [
    {
     "data": {
      "text/plain": [
       "20.0"
      ]
     },
     "execution_count": 19,
     "metadata": {},
     "output_type": "execute_result"
    }
   ],
   "source": [
    "avg = lambda x,y,z : (x+y+z)/3\n",
    "avg(x=10,y=20,z=30)"
   ]
  },
  {
   "cell_type": "code",
   "execution_count": 20,
   "id": "7b63782c",
   "metadata": {},
   "outputs": [
    {
     "ename": "TypeError",
     "evalue": "<lambda>() missing 3 required positional arguments: 'x', 'y', and 'z'",
     "output_type": "error",
     "traceback": [
      "\u001b[1;31m---------------------------------------------------------------------------\u001b[0m",
      "\u001b[1;31mTypeError\u001b[0m                                 Traceback (most recent call last)",
      "\u001b[1;32m<ipython-input-20-91d11c7a2f7b>\u001b[0m in \u001b[0;36m<module>\u001b[1;34m\u001b[0m\n\u001b[0;32m      1\u001b[0m \u001b[0mavg\u001b[0m \u001b[1;33m=\u001b[0m \u001b[1;32mlambda\u001b[0m \u001b[0mx\u001b[0m\u001b[1;33m,\u001b[0m\u001b[0my\u001b[0m\u001b[1;33m,\u001b[0m\u001b[0mz\u001b[0m \u001b[1;33m:\u001b[0m \u001b[1;33m(\u001b[0m\u001b[0mx\u001b[0m\u001b[1;33m+\u001b[0m\u001b[0my\u001b[0m\u001b[1;33m+\u001b[0m\u001b[0mz\u001b[0m\u001b[1;33m)\u001b[0m\u001b[1;33m/\u001b[0m\u001b[1;36m3\u001b[0m\u001b[1;33m\u001b[0m\u001b[1;33m\u001b[0m\u001b[0m\n\u001b[1;32m----> 2\u001b[1;33m \u001b[0mavg\u001b[0m\u001b[1;33m(\u001b[0m\u001b[1;33m)\u001b[0m\u001b[1;33m\u001b[0m\u001b[1;33m\u001b[0m\u001b[0m\n\u001b[0m",
      "\u001b[1;31mTypeError\u001b[0m: <lambda>() missing 3 required positional arguments: 'x', 'y', and 'z'"
     ]
    }
   ],
   "source": [
    "avg = lambda x,y,z : (x+y+z)/3\n",
    "avg()"
   ]
  },
  {
   "cell_type": "code",
   "execution_count": 27,
   "id": "004f617f",
   "metadata": {},
   "outputs": [
    {
     "data": {
      "text/plain": [
       "161"
      ]
     },
     "execution_count": 27,
     "metadata": {},
     "output_type": "execute_result"
    }
   ],
   "source": [
    "avg = lambda a,b,*args : sum(args)+(a+b)\n",
    "x\n",
    "a=10\n",
    "b=20\n",
    "avg(a,b,2,45,2,5,2,6,5,2,5,52,5)"
   ]
  },
  {
   "cell_type": "code",
   "execution_count": 35,
   "id": "f9afc66c",
   "metadata": {},
   "outputs": [
    {
     "data": {
      "text/plain": [
       "[4, 9, 16, 25, 36, 49, 64]"
      ]
     },
     "execution_count": 35,
     "metadata": {},
     "output_type": "execute_result"
    }
   ],
   "source": [
    "list1 = [2,3,4,5,6,7,8]   #>>> \n",
    "sqr = lambda input_list:[i**2 for i in list1]\n",
    "sqr(list1)"
   ]
  },
  {
   "cell_type": "code",
   "execution_count": 37,
   "id": "819685f5",
   "metadata": {},
   "outputs": [
    {
     "data": {
      "text/plain": [
       "[81, 16, 64]"
      ]
     },
     "execution_count": 37,
     "metadata": {},
     "output_type": "execute_result"
    }
   ],
   "source": [
    "sqr = lambda x:[i**2 for i in x]\n",
    "sqr([9,4,8])"
   ]
  },
  {
   "cell_type": "code",
   "execution_count": null,
   "id": "8bb90330",
   "metadata": {},
   "outputs": [],
   "source": []
  }
 ],
 "metadata": {
  "kernelspec": {
   "display_name": "Python 3 (ipykernel)",
   "language": "python",
   "name": "python3"
  },
  "language_info": {
   "codemirror_mode": {
    "name": "ipython",
    "version": 3
   },
   "file_extension": ".py",
   "mimetype": "text/x-python",
   "name": "python",
   "nbconvert_exporter": "python",
   "pygments_lexer": "ipython3",
   "version": "3.9.12"
  }
 },
 "nbformat": 4,
 "nbformat_minor": 5
}
