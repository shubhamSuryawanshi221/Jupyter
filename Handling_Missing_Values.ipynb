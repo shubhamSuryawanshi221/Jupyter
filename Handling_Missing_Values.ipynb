{
 "cells": [
  {
   "cell_type": "code",
   "execution_count": 1,
   "id": "6892aab4",
   "metadata": {},
   "outputs": [],
   "source": [
    "import numpy as np\n",
    "import pandas as pd"
   ]
  },
  {
   "cell_type": "code",
   "execution_count": null,
   "id": "11f03e35",
   "metadata": {},
   "outputs": [],
   "source": [
    "while doing data cleaning we can have missing values. To handle/treat them we have various function"
   ]
  },
  {
   "cell_type": "code",
   "execution_count": null,
   "id": "119a7956",
   "metadata": {},
   "outputs": [],
   "source": [
    "1. Detect Missing Values:\n",
    "    1. df.isna()\n",
    "    2. df.isnull()\n",
    "    3. df.isna().sum()\n",
    "    3. df.isna().mean()*100\n",
    "    4. df.isnull().sum()\n",
    "    \n",
    "    \n",
    "2. Drop Null values:\n",
    "    1. df.dropna(thresh=count,axis=0,inplace=False)\n",
    "    2. df.drop('cil_name',axis=1,inplace=True)\n",
    "    3. df.drop([col1,col2,,,,,colN],axis=1,inplace=True)\n",
    "    4. df.drop('row_name',axis=0,inplace=True)\n",
    "    5. df.drop(['row1,row2,...rowN'],axis=0,inplace=True)\n",
    "\n",
    "3. Impute missing values:\n",
    "    1. df.fillna(value,inplace=True)\n",
    "    \n",
    "    Statistical Methods:\n",
    "        1. df['col_name'].mean()\n",
    "        2. df['col_name'].median()\n",
    "        3. df['cil_name'].mode()[0]\n",
    "        \n",
    "mean   >> If the outliters are not present in data  >> for numerical columns\n",
    "median >>> If outliers are present in data       >> for numerical columns\n",
    "mode   >>> categorical columns\n",
    "          (male, female) "
   ]
  },
  {
   "cell_type": "code",
   "execution_count": null,
   "id": "c270a4ac",
   "metadata": {},
   "outputs": [],
   "source": [
    "age=[23,65,76,34,65,12,45,65,np.nan]>>>>>> mean or median>>>\n",
    "outliers>> 400....-10>>>>"
   ]
  },
  {
   "cell_type": "code",
   "execution_count": null,
   "id": "228a1956",
   "metadata": {},
   "outputs": [],
   "source": []
  },
  {
   "cell_type": "markdown",
   "id": "08ea334f",
   "metadata": {},
   "source": [
    "# Pandas Statistics"
   ]
  },
  {
   "cell_type": "code",
   "execution_count": null,
   "id": "bba63b9d",
   "metadata": {},
   "outputs": [],
   "source": [
    "1. df['col_name'].mean()   # 1 2 3 4 5 6 7 8 9 10\n",
    "2. df['col_name'].median()\n",
    "3. df['col_name'].mode()[0]\n",
    "4. df['col_name'].std()\n",
    "5. df['col_name'].var()\n",
    "6. df['col_name'].min()\n",
    "7. df['col_name'].max()\n",
    "8. df['col_name'].quantile(0.25)\n",
    "9. df['col_name'].quantile(0.5)  #median value\n",
    "10 df['col_name'].quantile(0.75)\n"
   ]
  },
  {
   "cell_type": "code",
   "execution_count": null,
   "id": "c404f5ee",
   "metadata": {},
   "outputs": [],
   "source": [
    "quantile >>> quantity\n",
    ">> it is the point where samples are divided into two subgroups"
   ]
  },
  {
   "cell_type": "code",
   "execution_count": null,
   "id": "4258f093",
   "metadata": {},
   "outputs": [],
   "source": [
    "[1,2,3,4,5,6,7,8,9,10]  median=5.5    >>>\n",
    "the median quantile or 50% or 0.5 quantile >>> exactly half of data is lower than median\n",
    "and half of data is greater than median\n",
    "\n"
   ]
  },
  {
   "cell_type": "code",
   "execution_count": null,
   "id": "7abb73d9",
   "metadata": {},
   "outputs": [],
   "source": [
    "quant= q(n+1)\n",
    "q=== 0.5\n",
    "q=0.25 for 25%\n",
    "q= 0.75"
   ]
  },
  {
   "cell_type": "code",
   "execution_count": 1,
   "id": "14c64d39",
   "metadata": {},
   "outputs": [
    {
     "name": "stdout",
     "output_type": "stream",
     "text": [
      "Original DataFrame:\n",
      "      Name   Age       City   Salary Education  Years_of_Experience  Remarks\n",
      "0    Aarav  25.0     Mumbai  50000.0       MBA                  3.0      NaN\n",
      "1     Neha   NaN      Delhi  75000.0        BE                  5.0      NaN\n",
      "2   Rajesh  32.0        NaN      NaN      BCom                  NaN      NaN\n",
      "3    Priya  28.0  Bangalore  62000.0       NaN                  2.0      NaN\n",
      "4    Ankit   NaN    Chennai      NaN       BSc                  1.0      NaN\n",
      "5  Deepika  35.0        NaN  92000.0        CA                  8.0      NaN\n"
     ]
    },
    {
     "data": {
      "text/html": [
       "<div>\n",
       "<style scoped>\n",
       "    .dataframe tbody tr th:only-of-type {\n",
       "        vertical-align: middle;\n",
       "    }\n",
       "\n",
       "    .dataframe tbody tr th {\n",
       "        vertical-align: top;\n",
       "    }\n",
       "\n",
       "    .dataframe thead th {\n",
       "        text-align: right;\n",
       "    }\n",
       "</style>\n",
       "<table border=\"1\" class=\"dataframe\">\n",
       "  <thead>\n",
       "    <tr style=\"text-align: right;\">\n",
       "      <th></th>\n",
       "      <th>Name</th>\n",
       "      <th>Age</th>\n",
       "      <th>City</th>\n",
       "      <th>Salary</th>\n",
       "      <th>Education</th>\n",
       "      <th>Years_of_Experience</th>\n",
       "      <th>Remarks</th>\n",
       "    </tr>\n",
       "  </thead>\n",
       "  <tbody>\n",
       "    <tr>\n",
       "      <th>0</th>\n",
       "      <td>Aarav</td>\n",
       "      <td>25.0</td>\n",
       "      <td>Mumbai</td>\n",
       "      <td>50000.0</td>\n",
       "      <td>MBA</td>\n",
       "      <td>3.0</td>\n",
       "      <td>NaN</td>\n",
       "    </tr>\n",
       "    <tr>\n",
       "      <th>1</th>\n",
       "      <td>Neha</td>\n",
       "      <td>NaN</td>\n",
       "      <td>Delhi</td>\n",
       "      <td>75000.0</td>\n",
       "      <td>BE</td>\n",
       "      <td>5.0</td>\n",
       "      <td>NaN</td>\n",
       "    </tr>\n",
       "    <tr>\n",
       "      <th>2</th>\n",
       "      <td>Rajesh</td>\n",
       "      <td>32.0</td>\n",
       "      <td>NaN</td>\n",
       "      <td>NaN</td>\n",
       "      <td>BCom</td>\n",
       "      <td>NaN</td>\n",
       "      <td>NaN</td>\n",
       "    </tr>\n",
       "    <tr>\n",
       "      <th>3</th>\n",
       "      <td>Priya</td>\n",
       "      <td>28.0</td>\n",
       "      <td>Bangalore</td>\n",
       "      <td>62000.0</td>\n",
       "      <td>NaN</td>\n",
       "      <td>2.0</td>\n",
       "      <td>NaN</td>\n",
       "    </tr>\n",
       "    <tr>\n",
       "      <th>4</th>\n",
       "      <td>Ankit</td>\n",
       "      <td>NaN</td>\n",
       "      <td>Chennai</td>\n",
       "      <td>NaN</td>\n",
       "      <td>BSc</td>\n",
       "      <td>1.0</td>\n",
       "      <td>NaN</td>\n",
       "    </tr>\n",
       "    <tr>\n",
       "      <th>5</th>\n",
       "      <td>Deepika</td>\n",
       "      <td>35.0</td>\n",
       "      <td>NaN</td>\n",
       "      <td>92000.0</td>\n",
       "      <td>CA</td>\n",
       "      <td>8.0</td>\n",
       "      <td>NaN</td>\n",
       "    </tr>\n",
       "  </tbody>\n",
       "</table>\n",
       "</div>"
      ],
      "text/plain": [
       "      Name   Age       City   Salary Education  Years_of_Experience  Remarks\n",
       "0    Aarav  25.0     Mumbai  50000.0       MBA                  3.0      NaN\n",
       "1     Neha   NaN      Delhi  75000.0        BE                  5.0      NaN\n",
       "2   Rajesh  32.0        NaN      NaN      BCom                  NaN      NaN\n",
       "3    Priya  28.0  Bangalore  62000.0       NaN                  2.0      NaN\n",
       "4    Ankit   NaN    Chennai      NaN       BSc                  1.0      NaN\n",
       "5  Deepika  35.0        NaN  92000.0        CA                  8.0      NaN"
      ]
     },
     "execution_count": 1,
     "metadata": {},
     "output_type": "execute_result"
    }
   ],
   "source": [
    "import pandas as pd\n",
    "import numpy as np\n",
    "\n",
    "# Create sample Indian dataset with missing values\n",
    "data = {\n",
    "    'Name': ['Aarav', 'Neha', 'Rajesh', 'Priya', 'Ankit', 'Deepika'],\n",
    "    'Age': [25, np.nan, 32, 28, np.nan, 35],\n",
    "    'City': ['Mumbai', 'Delhi', np.nan, 'Bangalore', 'Chennai', np.nan],\n",
    "    'Salary': [50000, 75000, np.nan, 62000, np.nan, 92000],\n",
    "    'Education': ['MBA', 'BE', 'BCom', np.nan, 'BSc', 'CA'],\n",
    "    'Years_of_Experience': [3, 5, np.nan, 2, 1, 8],\n",
    "    'Remarks': [np.nan, np.nan, np.nan, np.nan, np.nan, np.nan]\n",
    "}\n",
    "\n",
    "df = pd.DataFrame(data)\n",
    "print(\"Original DataFrame:\")\n",
    "print(df)\n",
    "df"
   ]
  },
  {
   "cell_type": "markdown",
   "id": "6c1638c4",
   "metadata": {},
   "source": [
    "## 1. Detect Missing Values"
   ]
  },
  {
   "cell_type": "code",
   "execution_count": 3,
   "id": "bfdfab43",
   "metadata": {},
   "outputs": [
    {
     "name": "stdout",
     "output_type": "stream",
     "text": [
      "\n",
      "Missing values boolean mask:\n",
      "    Name    Age   City  Salary  Education  Years_of_Experience  Remarks\n",
      "0  False  False  False   False      False                False     True\n",
      "1  False   True  False   False      False                False     True\n",
      "2  False  False   True    True      False                 True     True\n",
      "3  False  False  False   False       True                False     True\n",
      "4  False   True  False    True      False                False     True\n",
      "5  False  False   True   False      False                False     True\n"
     ]
    }
   ],
   "source": [
    "print(\"\\nMissing values boolean mask:\")\n",
    "print(df.isna())"
   ]
  },
  {
   "cell_type": "code",
   "execution_count": 4,
   "id": "7af3a2d2",
   "metadata": {},
   "outputs": [
    {
     "name": "stdout",
     "output_type": "stream",
     "text": [
      "\n",
      "Using isnull() (same as isna()):\n",
      "    Name    Age   City  Salary  Education  Years_of_Experience  Remarks\n",
      "0  False  False  False   False      False                False     True\n",
      "1  False   True  False   False      False                False     True\n",
      "2  False  False   True    True      False                 True     True\n",
      "3  False  False  False   False       True                False     True\n",
      "4  False   True  False    True      False                False     True\n",
      "5  False  False   True   False      False                False     True\n"
     ]
    }
   ],
   "source": [
    "print(\"\\nUsing isnull() (same as isna()):\") #same as .isna()\n",
    "print(df.isnull())"
   ]
  },
  {
   "cell_type": "code",
   "execution_count": 5,
   "id": "91cf219f",
   "metadata": {},
   "outputs": [
    {
     "name": "stdout",
     "output_type": "stream",
     "text": [
      "\n",
      "Missing values count:\n",
      "Name                   0\n",
      "Age                    2\n",
      "City                   2\n",
      "Salary                 2\n",
      "Education              1\n",
      "Years_of_Experience    1\n",
      "Remarks                6\n",
      "dtype: int64\n"
     ]
    }
   ],
   "source": [
    "print(\"\\nMissing values count:\")\n",
    "print(df.isna().sum())  #sum of missing values in each columns in our dataframe"
   ]
  },
  {
   "cell_type": "code",
   "execution_count": null,
   "id": "7f959698",
   "metadata": {},
   "outputs": [],
   "source": [
    ">> to drop the rows >>>"
   ]
  },
  {
   "cell_type": "code",
   "execution_count": 6,
   "id": "c9f17325",
   "metadata": {},
   "outputs": [
    {
     "name": "stdout",
     "output_type": "stream",
     "text": [
      "\n",
      "Percentage of missing values:\n",
      "Name                     0.0\n",
      "Age                     33.0\n",
      "City                    33.0\n",
      "Salary                  33.0\n",
      "Education               17.0\n",
      "Years_of_Experience     17.0\n",
      "Remarks                100.0\n",
      "dtype: float64\n"
     ]
    }
   ],
   "source": [
    "print(\"\\nPercentage of missing values:\")\n",
    "print(df.isna().mean().round(2)*100) "
   ]
  },
  {
   "cell_type": "markdown",
   "id": "f62c7fe8",
   "metadata": {},
   "source": [
    "## 2. Drop Null Values"
   ]
  },
  {
   "cell_type": "code",
   "execution_count": 2,
   "id": "36883b1b",
   "metadata": {},
   "outputs": [
    {
     "data": {
      "text/html": [
       "<div>\n",
       "<style scoped>\n",
       "    .dataframe tbody tr th:only-of-type {\n",
       "        vertical-align: middle;\n",
       "    }\n",
       "\n",
       "    .dataframe tbody tr th {\n",
       "        vertical-align: top;\n",
       "    }\n",
       "\n",
       "    .dataframe thead th {\n",
       "        text-align: right;\n",
       "    }\n",
       "</style>\n",
       "<table border=\"1\" class=\"dataframe\">\n",
       "  <thead>\n",
       "    <tr style=\"text-align: right;\">\n",
       "      <th></th>\n",
       "      <th>Name</th>\n",
       "      <th>Age</th>\n",
       "      <th>City</th>\n",
       "      <th>Salary</th>\n",
       "      <th>Education</th>\n",
       "      <th>Years_of_Experience</th>\n",
       "      <th>Remarks</th>\n",
       "    </tr>\n",
       "  </thead>\n",
       "  <tbody>\n",
       "    <tr>\n",
       "      <th>0</th>\n",
       "      <td>Aarav</td>\n",
       "      <td>25.0</td>\n",
       "      <td>Mumbai</td>\n",
       "      <td>50000.0</td>\n",
       "      <td>MBA</td>\n",
       "      <td>3.0</td>\n",
       "      <td>NaN</td>\n",
       "    </tr>\n",
       "    <tr>\n",
       "      <th>1</th>\n",
       "      <td>Neha</td>\n",
       "      <td>NaN</td>\n",
       "      <td>Delhi</td>\n",
       "      <td>75000.0</td>\n",
       "      <td>BE</td>\n",
       "      <td>5.0</td>\n",
       "      <td>NaN</td>\n",
       "    </tr>\n",
       "    <tr>\n",
       "      <th>2</th>\n",
       "      <td>Rajesh</td>\n",
       "      <td>32.0</td>\n",
       "      <td>NaN</td>\n",
       "      <td>NaN</td>\n",
       "      <td>BCom</td>\n",
       "      <td>NaN</td>\n",
       "      <td>NaN</td>\n",
       "    </tr>\n",
       "    <tr>\n",
       "      <th>3</th>\n",
       "      <td>Priya</td>\n",
       "      <td>28.0</td>\n",
       "      <td>Bangalore</td>\n",
       "      <td>62000.0</td>\n",
       "      <td>NaN</td>\n",
       "      <td>2.0</td>\n",
       "      <td>NaN</td>\n",
       "    </tr>\n",
       "    <tr>\n",
       "      <th>4</th>\n",
       "      <td>Ankit</td>\n",
       "      <td>NaN</td>\n",
       "      <td>Chennai</td>\n",
       "      <td>NaN</td>\n",
       "      <td>BSc</td>\n",
       "      <td>1.0</td>\n",
       "      <td>NaN</td>\n",
       "    </tr>\n",
       "    <tr>\n",
       "      <th>5</th>\n",
       "      <td>Deepika</td>\n",
       "      <td>35.0</td>\n",
       "      <td>NaN</td>\n",
       "      <td>92000.0</td>\n",
       "      <td>CA</td>\n",
       "      <td>8.0</td>\n",
       "      <td>NaN</td>\n",
       "    </tr>\n",
       "  </tbody>\n",
       "</table>\n",
       "</div>"
      ],
      "text/plain": [
       "      Name   Age       City   Salary Education  Years_of_Experience  Remarks\n",
       "0    Aarav  25.0     Mumbai  50000.0       MBA                  3.0      NaN\n",
       "1     Neha   NaN      Delhi  75000.0        BE                  5.0      NaN\n",
       "2   Rajesh  32.0        NaN      NaN      BCom                  NaN      NaN\n",
       "3    Priya  28.0  Bangalore  62000.0       NaN                  2.0      NaN\n",
       "4    Ankit   NaN    Chennai      NaN       BSc                  1.0      NaN\n",
       "5  Deepika  35.0        NaN  92000.0        CA                  8.0      NaN"
      ]
     },
     "execution_count": 2,
     "metadata": {},
     "output_type": "execute_result"
    }
   ],
   "source": [
    "df"
   ]
  },
  {
   "cell_type": "code",
   "execution_count": 7,
   "id": "0ec5f6ff",
   "metadata": {},
   "outputs": [
    {
     "name": "stdout",
     "output_type": "stream",
     "text": [
      "\n",
      "After dropping rows with <5 non-null values:\n",
      "      Name   Age       City   Salary Education  Years_of_Experience  Remarks\n",
      "0    Aarav  25.0     Mumbai  50000.0       MBA                  3.0      NaN\n",
      "1     Neha   NaN      Delhi  75000.0        BE                  5.0      NaN\n",
      "3    Priya  28.0  Bangalore  62000.0       NaN                  2.0      NaN\n",
      "5  Deepika  35.0        NaN  92000.0        CA                  8.0      NaN\n"
     ]
    }
   ],
   "source": [
    "print(\"\\nAfter dropping rows with <5 non-null values:\")\n",
    "print(df.dropna(thresh=5, axis=0))\n"
   ]
  },
  {
   "cell_type": "code",
   "execution_count": 9,
   "id": "81beba1e",
   "metadata": {},
   "outputs": [
    {
     "name": "stdout",
     "output_type": "stream",
     "text": [
      "\n",
      "After dropping Remarks column:\n",
      "      Name   Age       City   Salary Education  Years_of_Experience\n",
      "0    Aarav  25.0     Mumbai  50000.0       MBA                  3.0\n",
      "1     Neha   NaN      Delhi  75000.0        BE                  5.0\n",
      "2   Rajesh  32.0        NaN      NaN      BCom                  NaN\n",
      "3    Priya  28.0  Bangalore  62000.0       NaN                  2.0\n",
      "4    Ankit   NaN    Chennai      NaN       BSc                  1.0\n",
      "5  Deepika  35.0        NaN  92000.0        CA                  8.0\n"
     ]
    }
   ],
   "source": [
    "print(\"\\nAfter dropping Remarks column:\")\n",
    "print(df.drop('Remarks', axis=1))"
   ]
  },
  {
   "cell_type": "code",
   "execution_count": 10,
   "id": "a0c4ac72",
   "metadata": {},
   "outputs": [
    {
     "name": "stdout",
     "output_type": "stream",
     "text": [
      "\n",
      "After dropping City and Education:\n",
      "      Name   Age   Salary  Years_of_Experience  Remarks\n",
      "0    Aarav  25.0  50000.0                  3.0      NaN\n",
      "1     Neha   NaN  75000.0                  5.0      NaN\n",
      "2   Rajesh  32.0      NaN                  NaN      NaN\n",
      "3    Priya  28.0  62000.0                  2.0      NaN\n",
      "4    Ankit   NaN      NaN                  1.0      NaN\n",
      "5  Deepika  35.0  92000.0                  8.0      NaN\n"
     ]
    }
   ],
   "source": [
    "# Drop multiple columns\n",
    "print(\"\\nAfter dropping City and Education:\")\n",
    "print(df.drop(['City', 'Education'], axis=1))"
   ]
  },
  {
   "cell_type": "code",
   "execution_count": 11,
   "id": "5877e2e2",
   "metadata": {},
   "outputs": [
    {
     "name": "stdout",
     "output_type": "stream",
     "text": [
      "\n",
      "After dropping index 3:\n",
      "      Name   Age     City   Salary Education  Years_of_Experience  Remarks\n",
      "0    Aarav  25.0   Mumbai  50000.0       MBA                  3.0      NaN\n",
      "1     Neha   NaN    Delhi  75000.0        BE                  5.0      NaN\n",
      "2   Rajesh  32.0      NaN      NaN      BCom                  NaN      NaN\n",
      "4    Ankit   NaN  Chennai      NaN       BSc                  1.0      NaN\n",
      "5  Deepika  35.0      NaN  92000.0        CA                  8.0      NaN\n"
     ]
    }
   ],
   "source": [
    "print(\"\\nAfter dropping index 3:\")\n",
    "print(df.drop(3, axis=0))"
   ]
  },
  {
   "cell_type": "code",
   "execution_count": 13,
   "id": "7d50cfe9",
   "metadata": {},
   "outputs": [
    {
     "name": "stdout",
     "output_type": "stream",
     "text": [
      "\n",
      "After dropping indices 4 and 5:\n",
      "     Name   Age       City   Salary Education  Years_of_Experience  Remarks\n",
      "0   Aarav  25.0     Mumbai  50000.0       MBA                  3.0      NaN\n",
      "1    Neha   NaN      Delhi  75000.0        BE                  5.0      NaN\n",
      "2  Rajesh  32.0        NaN      NaN      BCom                  NaN      NaN\n",
      "3   Priya  28.0  Bangalore  62000.0       NaN                  2.0      NaN\n"
     ]
    },
    {
     "data": {
      "text/html": [
       "<div>\n",
       "<style scoped>\n",
       "    .dataframe tbody tr th:only-of-type {\n",
       "        vertical-align: middle;\n",
       "    }\n",
       "\n",
       "    .dataframe tbody tr th {\n",
       "        vertical-align: top;\n",
       "    }\n",
       "\n",
       "    .dataframe thead th {\n",
       "        text-align: right;\n",
       "    }\n",
       "</style>\n",
       "<table border=\"1\" class=\"dataframe\">\n",
       "  <thead>\n",
       "    <tr style=\"text-align: right;\">\n",
       "      <th></th>\n",
       "      <th>Name</th>\n",
       "      <th>Age</th>\n",
       "      <th>City</th>\n",
       "      <th>Salary</th>\n",
       "      <th>Education</th>\n",
       "      <th>Years_of_Experience</th>\n",
       "      <th>Remarks</th>\n",
       "    </tr>\n",
       "  </thead>\n",
       "  <tbody>\n",
       "    <tr>\n",
       "      <th>0</th>\n",
       "      <td>Aarav</td>\n",
       "      <td>25.0</td>\n",
       "      <td>Mumbai</td>\n",
       "      <td>50000.0</td>\n",
       "      <td>MBA</td>\n",
       "      <td>3.0</td>\n",
       "      <td>NaN</td>\n",
       "    </tr>\n",
       "    <tr>\n",
       "      <th>1</th>\n",
       "      <td>Neha</td>\n",
       "      <td>NaN</td>\n",
       "      <td>Delhi</td>\n",
       "      <td>75000.0</td>\n",
       "      <td>BE</td>\n",
       "      <td>5.0</td>\n",
       "      <td>NaN</td>\n",
       "    </tr>\n",
       "    <tr>\n",
       "      <th>2</th>\n",
       "      <td>Rajesh</td>\n",
       "      <td>32.0</td>\n",
       "      <td>NaN</td>\n",
       "      <td>NaN</td>\n",
       "      <td>BCom</td>\n",
       "      <td>NaN</td>\n",
       "      <td>NaN</td>\n",
       "    </tr>\n",
       "    <tr>\n",
       "      <th>3</th>\n",
       "      <td>Priya</td>\n",
       "      <td>28.0</td>\n",
       "      <td>Bangalore</td>\n",
       "      <td>62000.0</td>\n",
       "      <td>NaN</td>\n",
       "      <td>2.0</td>\n",
       "      <td>NaN</td>\n",
       "    </tr>\n",
       "    <tr>\n",
       "      <th>4</th>\n",
       "      <td>Ankit</td>\n",
       "      <td>NaN</td>\n",
       "      <td>Chennai</td>\n",
       "      <td>NaN</td>\n",
       "      <td>BSc</td>\n",
       "      <td>1.0</td>\n",
       "      <td>NaN</td>\n",
       "    </tr>\n",
       "    <tr>\n",
       "      <th>5</th>\n",
       "      <td>Deepika</td>\n",
       "      <td>35.0</td>\n",
       "      <td>NaN</td>\n",
       "      <td>92000.0</td>\n",
       "      <td>CA</td>\n",
       "      <td>8.0</td>\n",
       "      <td>NaN</td>\n",
       "    </tr>\n",
       "  </tbody>\n",
       "</table>\n",
       "</div>"
      ],
      "text/plain": [
       "      Name   Age       City   Salary Education  Years_of_Experience  Remarks\n",
       "0    Aarav  25.0     Mumbai  50000.0       MBA                  3.0      NaN\n",
       "1     Neha   NaN      Delhi  75000.0        BE                  5.0      NaN\n",
       "2   Rajesh  32.0        NaN      NaN      BCom                  NaN      NaN\n",
       "3    Priya  28.0  Bangalore  62000.0       NaN                  2.0      NaN\n",
       "4    Ankit   NaN    Chennai      NaN       BSc                  1.0      NaN\n",
       "5  Deepika  35.0        NaN  92000.0        CA                  8.0      NaN"
      ]
     },
     "execution_count": 13,
     "metadata": {},
     "output_type": "execute_result"
    }
   ],
   "source": [
    "print(\"\\nAfter dropping indices 4 and 5:\")\n",
    "print(df.drop([4,5], axis=0))\n"
   ]
  },
  {
   "cell_type": "markdown",
   "id": "e05a6025",
   "metadata": {},
   "source": [
    "## 3. Impute Missing Values"
   ]
  },
  {
   "cell_type": "code",
   "execution_count": 14,
   "id": "29047f28",
   "metadata": {},
   "outputs": [
    {
     "name": "stdout",
     "output_type": "stream",
     "text": [
      "\n",
      "Filling all missing with 0:\n",
      "      Name   Age       City   Salary Education  Years_of_Experience  Remarks\n",
      "0    Aarav  25.0     Mumbai  50000.0       MBA                  3.0      0.0\n",
      "1     Neha   0.0      Delhi  75000.0        BE                  5.0      0.0\n",
      "2   Rajesh  32.0          0      0.0      BCom                  0.0      0.0\n",
      "3    Priya  28.0  Bangalore  62000.0         0                  2.0      0.0\n",
      "4    Ankit   0.0    Chennai      0.0       BSc                  1.0      0.0\n",
      "5  Deepika  35.0          0  92000.0        CA                  8.0      0.0\n"
     ]
    }
   ],
   "source": [
    "# Fill all missing values with 0 in whole dataframe\n",
    "print(\"\\nFilling all missing with 0:\")\n",
    "print(df.fillna(0))\n"
   ]
  },
  {
   "cell_type": "code",
   "execution_count": 15,
   "id": "acf159e8",
   "metadata": {},
   "outputs": [],
   "source": [
    "# Fill Age with mean\n",
    "age_mean = df['Age'].mean()\n",
    "\n",
    "df['Age'] = df['Age'].fillna(age_mean)\n"
   ]
  },
  {
   "cell_type": "code",
   "execution_count": 16,
   "id": "e9d5c171",
   "metadata": {},
   "outputs": [],
   "source": [
    "# Fill Salary with median\n",
    "salary_median = df['Salary'].median()\n",
    "\n",
    "df['Salary'] = df['Salary'].fillna(salary_median)"
   ]
  },
  {
   "cell_type": "code",
   "execution_count": 17,
   "id": "da6406fd",
   "metadata": {},
   "outputs": [],
   "source": [
    "# Fill City with mode\n",
    "city_mode = df['City'].mode()[0]\n",
    "df['City'] = df['City'].fillna(city_mode)"
   ]
  },
  {
   "cell_type": "code",
   "execution_count": 18,
   "id": "ea98f316",
   "metadata": {},
   "outputs": [],
   "source": [
    "# Fill Education with mode\n",
    "edu_mode = df['Education'].mode()[0]\n",
    "df['Education'] = df['Education'].fillna(edu_mode)"
   ]
  },
  {
   "cell_type": "code",
   "execution_count": 19,
   "id": "2c283ed4",
   "metadata": {},
   "outputs": [
    {
     "name": "stdout",
     "output_type": "stream",
     "text": [
      "\n",
      "After statistical imputation:\n",
      "      Name   Age       City   Salary Education  Years_of_Experience  Remarks\n",
      "0    Aarav  25.0     Mumbai  50000.0       MBA                  3.0      NaN\n",
      "1     Neha  30.0      Delhi  75000.0        BE                  5.0      NaN\n",
      "2   Rajesh  32.0  Bangalore  68500.0      BCom                  NaN      NaN\n",
      "3    Priya  28.0  Bangalore  62000.0      BCom                  2.0      NaN\n",
      "4    Ankit  30.0    Chennai  68500.0       BSc                  1.0      NaN\n",
      "5  Deepika  35.0  Bangalore  92000.0        CA                  8.0      NaN\n"
     ]
    }
   ],
   "source": [
    "print(\"\\nAfter statistical imputation:\")\n",
    "print(df)"
   ]
  },
  {
   "cell_type": "code",
   "execution_count": null,
   "id": "4045df92",
   "metadata": {},
   "outputs": [],
   "source": [
    "df_new="
   ]
  },
  {
   "cell_type": "code",
   "execution_count": null,
   "id": "ce3d756c",
   "metadata": {},
   "outputs": [],
   "source": [
    "thresh: Keep rows with specified number of non-null values\n",
    "\n",
    "axis=1: Column-wise operation\n",
    "\n",
    "axis=0: Row-wise operation\n",
    "\n",
    "inplace=False: Returns new DataFrame (default)\n",
    "    \n",
    "fillna(): Replace missing values with specified value\n",
    "    \n",
    "mean(): Average value (good for numerical data)\n",
    "\n",
    "median(): Middle value (robust to outliers)\n",
    "\n",
    "mode()[0]: Most frequent value (for categorical data)"
   ]
  },
  {
   "cell_type": "markdown",
   "id": "4b793556",
   "metadata": {},
   "source": [
    "## treating outliers"
   ]
  },
  {
   "cell_type": "markdown",
   "id": "704b27d8",
   "metadata": {},
   "source": [
    ">> An outlier is a data point that is significantly different from other observations. \n",
    ">> In a dataset of student ages where most are between 18-25, a value of 65 would be an outlier. Outliers can skew your statistical analysis and negatively impact the performance of machine learning models."
   ]
  },
  {
   "cell_type": "code",
   "execution_count": 4,
   "id": "3729ec8e",
   "metadata": {},
   "outputs": [
    {
     "data": {
      "text/html": [
       "<div>\n",
       "<style scoped>\n",
       "    .dataframe tbody tr th:only-of-type {\n",
       "        vertical-align: middle;\n",
       "    }\n",
       "\n",
       "    .dataframe tbody tr th {\n",
       "        vertical-align: top;\n",
       "    }\n",
       "\n",
       "    .dataframe thead th {\n",
       "        text-align: right;\n",
       "    }\n",
       "</style>\n",
       "<table border=\"1\" class=\"dataframe\">\n",
       "  <thead>\n",
       "    <tr style=\"text-align: right;\">\n",
       "      <th></th>\n",
       "      <th>PassengerId</th>\n",
       "      <th>Survived</th>\n",
       "      <th>Pclass</th>\n",
       "      <th>Name</th>\n",
       "      <th>Gender</th>\n",
       "      <th>Age</th>\n",
       "      <th>SibSp</th>\n",
       "      <th>Parch</th>\n",
       "      <th>Ticket</th>\n",
       "      <th>Fare</th>\n",
       "      <th>Cabin</th>\n",
       "      <th>Embarked</th>\n",
       "    </tr>\n",
       "  </thead>\n",
       "  <tbody>\n",
       "    <tr>\n",
       "      <th>0</th>\n",
       "      <td>1</td>\n",
       "      <td>0</td>\n",
       "      <td>3</td>\n",
       "      <td>Braund, Mr. Owen Harris</td>\n",
       "      <td>male</td>\n",
       "      <td>22.0</td>\n",
       "      <td>1</td>\n",
       "      <td>0</td>\n",
       "      <td>A/5 21171</td>\n",
       "      <td>7.2500</td>\n",
       "      <td>NaN</td>\n",
       "      <td>S</td>\n",
       "    </tr>\n",
       "    <tr>\n",
       "      <th>1</th>\n",
       "      <td>2</td>\n",
       "      <td>1</td>\n",
       "      <td>1</td>\n",
       "      <td>Cumings, Mrs. John Bradley (Florence Briggs Th...</td>\n",
       "      <td>female</td>\n",
       "      <td>38.0</td>\n",
       "      <td>1</td>\n",
       "      <td>0</td>\n",
       "      <td>PC 17599</td>\n",
       "      <td>71.2833</td>\n",
       "      <td>C85</td>\n",
       "      <td>C</td>\n",
       "    </tr>\n",
       "    <tr>\n",
       "      <th>2</th>\n",
       "      <td>3</td>\n",
       "      <td>1</td>\n",
       "      <td>3</td>\n",
       "      <td>Heikkinen, Miss. Laina</td>\n",
       "      <td>female</td>\n",
       "      <td>26.0</td>\n",
       "      <td>0</td>\n",
       "      <td>0</td>\n",
       "      <td>STON/O2. 3101282</td>\n",
       "      <td>7.9250</td>\n",
       "      <td>NaN</td>\n",
       "      <td>S</td>\n",
       "    </tr>\n",
       "    <tr>\n",
       "      <th>3</th>\n",
       "      <td>4</td>\n",
       "      <td>1</td>\n",
       "      <td>1</td>\n",
       "      <td>Futrelle, Mrs. Jacques Heath (Lily May Peel)</td>\n",
       "      <td>female</td>\n",
       "      <td>35.0</td>\n",
       "      <td>1</td>\n",
       "      <td>0</td>\n",
       "      <td>113803</td>\n",
       "      <td>53.1000</td>\n",
       "      <td>C123</td>\n",
       "      <td>S</td>\n",
       "    </tr>\n",
       "    <tr>\n",
       "      <th>4</th>\n",
       "      <td>5</td>\n",
       "      <td>0</td>\n",
       "      <td>3</td>\n",
       "      <td>Allen, Mr. William Henry</td>\n",
       "      <td>male</td>\n",
       "      <td>35.0</td>\n",
       "      <td>0</td>\n",
       "      <td>0</td>\n",
       "      <td>373450</td>\n",
       "      <td>8.0500</td>\n",
       "      <td>NaN</td>\n",
       "      <td>S</td>\n",
       "    </tr>\n",
       "    <tr>\n",
       "      <th>...</th>\n",
       "      <td>...</td>\n",
       "      <td>...</td>\n",
       "      <td>...</td>\n",
       "      <td>...</td>\n",
       "      <td>...</td>\n",
       "      <td>...</td>\n",
       "      <td>...</td>\n",
       "      <td>...</td>\n",
       "      <td>...</td>\n",
       "      <td>...</td>\n",
       "      <td>...</td>\n",
       "      <td>...</td>\n",
       "    </tr>\n",
       "    <tr>\n",
       "      <th>886</th>\n",
       "      <td>887</td>\n",
       "      <td>0</td>\n",
       "      <td>2</td>\n",
       "      <td>Montvila, Rev. Juozas</td>\n",
       "      <td>male</td>\n",
       "      <td>27.0</td>\n",
       "      <td>0</td>\n",
       "      <td>0</td>\n",
       "      <td>211536</td>\n",
       "      <td>13.0000</td>\n",
       "      <td>NaN</td>\n",
       "      <td>S</td>\n",
       "    </tr>\n",
       "    <tr>\n",
       "      <th>887</th>\n",
       "      <td>888</td>\n",
       "      <td>1</td>\n",
       "      <td>1</td>\n",
       "      <td>Graham, Miss. Margaret Edith</td>\n",
       "      <td>female</td>\n",
       "      <td>19.0</td>\n",
       "      <td>0</td>\n",
       "      <td>0</td>\n",
       "      <td>112053</td>\n",
       "      <td>30.0000</td>\n",
       "      <td>B42</td>\n",
       "      <td>S</td>\n",
       "    </tr>\n",
       "    <tr>\n",
       "      <th>888</th>\n",
       "      <td>889</td>\n",
       "      <td>0</td>\n",
       "      <td>3</td>\n",
       "      <td>Johnston, Miss. Catherine Helen \"Carrie\"</td>\n",
       "      <td>female</td>\n",
       "      <td>NaN</td>\n",
       "      <td>1</td>\n",
       "      <td>2</td>\n",
       "      <td>W./C. 6607</td>\n",
       "      <td>23.4500</td>\n",
       "      <td>NaN</td>\n",
       "      <td>S</td>\n",
       "    </tr>\n",
       "    <tr>\n",
       "      <th>889</th>\n",
       "      <td>890</td>\n",
       "      <td>1</td>\n",
       "      <td>1</td>\n",
       "      <td>Behr, Mr. Karl Howell</td>\n",
       "      <td>male</td>\n",
       "      <td>26.0</td>\n",
       "      <td>0</td>\n",
       "      <td>0</td>\n",
       "      <td>111369</td>\n",
       "      <td>30.0000</td>\n",
       "      <td>C148</td>\n",
       "      <td>C</td>\n",
       "    </tr>\n",
       "    <tr>\n",
       "      <th>890</th>\n",
       "      <td>891</td>\n",
       "      <td>0</td>\n",
       "      <td>3</td>\n",
       "      <td>Dooley, Mr. Patrick</td>\n",
       "      <td>male</td>\n",
       "      <td>32.0</td>\n",
       "      <td>0</td>\n",
       "      <td>0</td>\n",
       "      <td>370376</td>\n",
       "      <td>7.7500</td>\n",
       "      <td>NaN</td>\n",
       "      <td>Q</td>\n",
       "    </tr>\n",
       "  </tbody>\n",
       "</table>\n",
       "<p>891 rows × 12 columns</p>\n",
       "</div>"
      ],
      "text/plain": [
       "     PassengerId  Survived  Pclass  \\\n",
       "0              1         0       3   \n",
       "1              2         1       1   \n",
       "2              3         1       3   \n",
       "3              4         1       1   \n",
       "4              5         0       3   \n",
       "..           ...       ...     ...   \n",
       "886          887         0       2   \n",
       "887          888         1       1   \n",
       "888          889         0       3   \n",
       "889          890         1       1   \n",
       "890          891         0       3   \n",
       "\n",
       "                                                  Name  Gender   Age  SibSp  \\\n",
       "0                              Braund, Mr. Owen Harris    male  22.0      1   \n",
       "1    Cumings, Mrs. John Bradley (Florence Briggs Th...  female  38.0      1   \n",
       "2                               Heikkinen, Miss. Laina  female  26.0      0   \n",
       "3         Futrelle, Mrs. Jacques Heath (Lily May Peel)  female  35.0      1   \n",
       "4                             Allen, Mr. William Henry    male  35.0      0   \n",
       "..                                                 ...     ...   ...    ...   \n",
       "886                              Montvila, Rev. Juozas    male  27.0      0   \n",
       "887                       Graham, Miss. Margaret Edith  female  19.0      0   \n",
       "888           Johnston, Miss. Catherine Helen \"Carrie\"  female   NaN      1   \n",
       "889                              Behr, Mr. Karl Howell    male  26.0      0   \n",
       "890                                Dooley, Mr. Patrick    male  32.0      0   \n",
       "\n",
       "     Parch            Ticket     Fare Cabin Embarked  \n",
       "0        0         A/5 21171   7.2500   NaN        S  \n",
       "1        0          PC 17599  71.2833   C85        C  \n",
       "2        0  STON/O2. 3101282   7.9250   NaN        S  \n",
       "3        0            113803  53.1000  C123        S  \n",
       "4        0            373450   8.0500   NaN        S  \n",
       "..     ...               ...      ...   ...      ...  \n",
       "886      0            211536  13.0000   NaN        S  \n",
       "887      0            112053  30.0000   B42        S  \n",
       "888      2        W./C. 6607  23.4500   NaN        S  \n",
       "889      0            111369  30.0000  C148        C  \n",
       "890      0            370376   7.7500   NaN        Q  \n",
       "\n",
       "[891 rows x 12 columns]"
      ]
     },
     "execution_count": 4,
     "metadata": {},
     "output_type": "execute_result"
    }
   ],
   "source": [
    "df=pd.read_csv(\"titanic.csv\")\n",
    "df"
   ]
  },
  {
   "cell_type": "markdown",
   "id": "2de8213a",
   "metadata": {},
   "source": [
    " ## Detecting Outliers"
   ]
  },
  {
   "cell_type": "code",
   "execution_count": null,
   "id": "3fcdd04c",
   "metadata": {},
   "outputs": [],
   "source": [
    "1. Visualization with a Box Plot"
   ]
  },
  {
   "cell_type": "code",
   "execution_count": 5,
   "id": "fbf9f9b3",
   "metadata": {},
   "outputs": [
    {
     "data": {
      "image/png": "[encoded data removed]",
      "text/plain": [
       "<Figure size 720x432 with 1 Axes>"
      ]
     },
     "metadata": {
      "needs_background": "light"
     },
     "output_type": "display_data"
    }
   ],
   "source": [
    "import pandas as pd\n",
    "import seaborn as sns\n",
    "import matplotlib.pyplot as plt\n",
    "\n",
    "\n",
    "\n",
    "plt.figure(figsize=(10, 6))\n",
    "sns.boxplot(x=df['Fare'])\n",
    "plt.title('Box Plot of Ticket Fare')\n",
    "plt.show()"
   ]
  },
  {
   "cell_type": "code",
   "execution_count": null,
   "id": "790d8d24",
   "metadata": {},
   "outputs": [],
   "source": [
    "## Statistical Method (IQR)"
   ]
  },
  {
   "cell_type": "code",
   "execution_count": null,
   "id": "495b637a",
   "metadata": {},
   "outputs": [],
   "source": [
    "The Interquartile Range (IQR) method gives us a mathematical way to identify outliers.\n",
    "\n",
    "The steps are:\n",
    "\n",
    "Calculate the 1st quartile (Q1, 25th percentile).\n",
    "\n",
    "Calculate the 3rd quartile (Q3, 75th percentile).\n",
    "\n",
    "Calculate the IQR (IQR = Q3 - Q1).\n",
    "\n",
    "Define the outlier boundaries:\n",
    "\n",
    "Lower Bound: Q1 - 1.5 * IQR\n",
    "\n",
    "Upper Bound: Q3 + 1.5 * IQR\n",
    "\n",
    "Any data point outside these bounds is an outlier."
   ]
  },
  {
   "cell_type": "code",
   "execution_count": 9,
   "id": "9f738617",
   "metadata": {},
   "outputs": [
    {
     "name": "stdout",
     "output_type": "stream",
     "text": [
      "Q1: 7.9104\n",
      "Q3: 31.0\n",
      "Lower Bound: -26.724\n",
      "Upper Bound: 65.6344\n",
      "\n",
      "Outliers found:\n",
      "                                                 Name      Fare\n",
      "1   Cumings, Mrs. John Bradley (Florence Briggs Th...   71.2833\n",
      "27                     Fortune, Mr. Charles Alexander  263.0000\n",
      "31     Spencer, Mrs. William Augustus (Marie Eugenie)  146.5208\n",
      "34                            Meyer, Mr. Edgar Joseph   82.1708\n",
      "52           Harper, Mrs. Henry Sleeper (Myna Haxtun)   76.7292\n"
     ]
    }
   ],
   "source": [
    "Q1 = df['Fare'].quantile(0.25)\n",
    "Q3 = df['Fare'].quantile(0.75)\n",
    "IQR = Q3 - Q1\n",
    "\n",
    "# Define the outlier boundaries\n",
    "lower_bound = Q1 - 1.5 * IQR\n",
    "upper_bound = Q3 + 1.5 * IQR\n",
    "\n",
    "print(f\"Q1: {Q1}\")\n",
    "print(f\"Q3: {Q3}\")\n",
    "print(f\"Lower Bound: {lower_bound}\")\n",
    "print(f\"Upper Bound: {upper_bound}\")\n",
    "\n",
    "#the outliers\n",
    "outliers = df[(df['Fare'] < lower_bound) | (df['Fare'] > upper_bound)]\n",
    "print(\"\\nOutliers found:\")\n",
    "print(outliers[['Name', 'Fare']].head())"
   ]
  },
  {
   "cell_type": "markdown",
   "id": "92438d11",
   "metadata": {},
   "source": [
    "## Treating Outliers"
   ]
  },
  {
   "cell_type": "markdown",
   "id": "87d7f6a1",
   "metadata": {},
   "source": [
    "Do not remove outliers blindly! Always investigate them first. An outlier could be a data entry error, or it could be a real, valid, but rare event (like a billionaire buying a super-luxury ticket). Your treatment method depends on the cause."
   ]
  },
  {
   "cell_type": "code",
   "execution_count": null,
   "id": "efe0a4a6",
   "metadata": {},
   "outputs": [],
   "source": [
    "Trimming (Removing the Outliers)\n",
    "This is the simplest approach: you just delete the rows containing the outliers."
   ]
  },
  {
   "cell_type": "code",
   "execution_count": 7,
   "id": "b5785f34",
   "metadata": {},
   "outputs": [
    {
     "name": "stdout",
     "output_type": "stream",
     "text": [
      "Original shape of the dataframe: (891, 12)\n",
      "Shape of the dataframe after removing outliers: (775, 12)\n"
     ]
    }
   ],
   "source": [
    "print(f\"Original shape of the dataframe: {df.shape}\")\n",
    "\n",
    "# Creating a new DataFrame without the outliers\n",
    "df_no_outliers = df[(df['Fare'] >= lower_bound) & (df['Fare'] <= upper_bound)]\n",
    "\n",
    "print(f\"Shape of the dataframe after removing outliers: {df_no_outliers.shape}\")"
   ]
  },
  {
   "cell_type": "markdown",
   "id": "d68991cf",
   "metadata": {},
   "source": [
    "## Capping "
   ]
  },
  {
   "cell_type": "markdown",
   "id": "360bb902",
   "metadata": {},
   "source": [
    ">> Instead of removing the outliers, you can cap them by replacing the outlier values with the upper and lower boundaries.\n",
    ">> When you want to reduce the influence of outliers but don't want to lose the entire row of data."
   ]
  },
  {
   "cell_type": "code",
   "execution_count": null,
   "id": "3053ef97",
   "metadata": {},
   "outputs": [],
   "source": [
    ".clip() function"
   ]
  },
  {
   "cell_type": "code",
   "execution_count": null,
   "id": "e9590fba",
   "metadata": {},
   "outputs": [],
   "source": [
    ">>>  Lower Bound: -26.724>>>>-10\n",
    ">>>  Upper Bound: 65.6344>>>80>>\n"
   ]
  },
  {
   "cell_type": "code",
   "execution_count": null,
   "id": "db761037",
   "metadata": {},
   "outputs": [],
   "source": []
  },
  {
   "cell_type": "code",
   "execution_count": null,
   "id": "dac867db",
   "metadata": {},
   "outputs": [],
   "source": []
  },
  {
   "cell_type": "code",
   "execution_count": 12,
   "id": "d646f9f4",
   "metadata": {},
   "outputs": [
    {
     "name": "stdout",
     "output_type": "stream",
     "text": [
      "Using .clip():\n",
      "Original max fare: 65.6344\n",
      "Capped max fare: 65.6344\n"
     ]
    }
   ],
   "source": [
    "df['Fare'] =df['Fare'].clip(lower=lower_bound, upper=upper_bound)\n",
    "\n",
    "# Check the results\n",
    "print(\"Using .clip():\")\n",
    "print(f\"Original max fare: {df['Fare'].max()}\")\n",
    "print(f\"Capped max fare: {df['Fare'].max()}\")"
   ]
  },
  {
   "cell_type": "code",
   "execution_count": null,
   "id": "f82167eb",
   "metadata": {},
   "outputs": [],
   "source": []
  }
 ],
 "metadata": {
  "kernelspec": {
   "display_name": "Python 3 (ipykernel)",
   "language": "python",
   "name": "python3"
  },
  "language_info": {
   "codemirror_mode": {
    "name": "ipython",
    "version": 3
   },
   "file_extension": ".py",
   "mimetype": "text/x-python",
   "name": "python",
   "nbconvert_exporter": "python",
   "pygments_lexer": "ipython3",
   "version": "3.9.12"
  }
 },
 "nbformat": 4,
 "nbformat_minor": 5
}
