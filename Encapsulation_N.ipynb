{
 "cells": [
  {
   "cell_type": "markdown",
   "id": "0cdd6116",
   "metadata": {},
   "source": [
    "## Encapsulation"
   ]
  },
  {
   "cell_type": "markdown",
   "id": "1d84ffaa",
   "metadata": {},
   "source": [
    "whenever we want to restrict data, methods/functions, variables we use encapsulation\n",
    "- used to restrict the access of methods and variables\n",
    "- it will protect data from modification \n",
    "- when we use __ \"double underscore\"   it will become private variable\n",
    "\n",
    "var1 = \"python\"    # public variable/attribute\n",
    "__var1 = \"python\"  # private variable/attribute"
   ]
  },
  {
   "cell_type": "code",
   "execution_count": 2,
   "id": "70435c3b",
   "metadata": {},
   "outputs": [
    {
     "name": "stdout",
     "output_type": "stream",
     "text": [
      "None\n",
      "None\n",
      "7\n"
     ]
    }
   ],
   "source": [
    "class Calculator:\n",
    "    def __init__(self):\n",
    "        self.__result = 0  # Private variable\n",
    "\n",
    "    def add(self, value):\n",
    "        self.__result += value\n",
    "\n",
    "    def subtract(self, value):\n",
    "        self.__result -= value\n",
    "\n",
    "    def get_result(self):  # Public getter\n",
    "        return self.__result\n",
    "\n",
    "# Usage\n",
    "calc = Calculator()\n",
    "print(calc.add(10))\n",
    "print(calc.subtract(3))\n",
    "print(calc.get_result())  \n",
    "\n",
    "# Try to modify __result directly (fails silently!)\n",
    "#calc.__result = 100 "
   ]
  },
  {
   "cell_type": "markdown",
   "id": "e65765b6",
   "metadata": {},
   "source": [
    "# polymorphism"
   ]
  },
  {
   "cell_type": "code",
   "execution_count": null,
   "id": "0a5da436",
   "metadata": {},
   "outputs": [],
   "source": [
    "Poly >> Many\n",
    "Morphism >> Forms\n",
    "PolyMorphism >> Having multiple forms\n",
    "\n",
    "- methods with identical names\n",
    "- same functions name are used in many class"
   ]
  },
  {
   "cell_type": "code",
   "execution_count": null,
   "id": "afe0dd03",
   "metadata": {},
   "outputs": [],
   "source": [
    "Polymorphism = \"Many Forms\"\n",
    "The same method name can behave differently in different classes or objects. "
   ]
  },
  {
   "cell_type": "code",
   "execution_count": 5,
   "id": "90ace718",
   "metadata": {},
   "outputs": [],
   "source": [
    "class Shape:\n",
    "    def area(self):\n",
    "        pass  # To be overridden by child classes"
   ]
  },
  {
   "cell_type": "code",
   "execution_count": 6,
   "id": "acbeeac1",
   "metadata": {},
   "outputs": [],
   "source": [
    "class Circle(Shape):\n",
    "    def __init__(self, radius):\n",
    "        self.radius = radius\n",
    "\n",
    "    def area(self):\n",
    "        return 3.14 * self.radius * self.radius  # Circle's version\n",
    "\n",
    "class Square(Shape):\n",
    "    def __init__(self, side):\n",
    "        self.side = side\n",
    "\n",
    "    def area(self):\n",
    "        return self.side * self.side  # Square's version"
   ]
  },
  {
   "cell_type": "code",
   "execution_count": 7,
   "id": "c36ef523",
   "metadata": {
    "scrolled": true
   },
   "outputs": [
    {
     "name": "stdout",
     "output_type": "stream",
     "text": [
      "78.5\n",
      "16\n"
     ]
    }
   ],
   "source": [
    "# use polymorphism\n",
    "# Create objects\n",
    "circle = Circle(5)\n",
    "square = Square(4)\n",
    "\n",
    "# Same method, different behavior!\n",
    "print(circle.area())  # Output: 78.5 (uses Circle's area method)\n",
    "print(square.area())  # Output: 16  (uses Square's area method)"
   ]
  },
  {
   "cell_type": "code",
   "execution_count": null,
   "id": "6ebe7847",
   "metadata": {},
   "outputs": [],
   "source": [
    " area() behaves differently for Circle and Square objects—even though we call it the same way ."
   ]
  },
  {
   "cell_type": "markdown",
   "id": "3e08793d",
   "metadata": {},
   "source": [
    "# Abstraction"
   ]
  },
  {
   "cell_type": "markdown",
   "id": "63410e9e",
   "metadata": {},
   "source": [
    "Abstraction = Hiding complex details and showing only the essential features of an object.\n",
    "Users interact with an object through a simplified interface , not the underlying complexity."
   ]
  },
  {
   "cell_type": "code",
   "execution_count": null,
   "id": "c5748c68",
   "metadata": {},
   "outputs": [],
   "source": [
    "Blueprint of your project\n",
    "Blueprint for other Classes\n",
    "\n",
    ">> It is used to hide the internal functionality of your project\n",
    ">> Abstract Class is only used for declearation, not for implementaion\n",
    ">> we can not create an object of Abstract class\n",
    "\n",
    ">> Abstract class contains one or more abstract method\n",
    "\n",
    "from abc import abstractmethod,ABC\n",
    "\n",
    "@abstractmethod  Decorator is  used to define abstract method\n",
    "ABC is used for abstract class"
   ]
  },
  {
   "cell_type": "code",
   "execution_count": 4,
   "id": "b97c4a36",
   "metadata": {},
   "outputs": [],
   "source": [
    "from abc import abstractmethod, ABC"
   ]
  },
  {
   "cell_type": "code",
   "execution_count": null,
   "id": "bc85a3d1",
   "metadata": {},
   "outputs": [],
   "source": [
    "abc>>module\n",
    "ABC>>abstract base class"
   ]
  },
  {
   "cell_type": "code",
   "execution_count": null,
   "id": "a9d21305",
   "metadata": {},
   "outputs": [],
   "source": [
    "class project_blueprint(ABC):\n",
    "    @abstractmethod\n",
    "    def registration(self):\n",
    "        pass"
   ]
  },
  {
   "cell_type": "code",
   "execution_count": 8,
   "id": "aaa7ccd5",
   "metadata": {},
   "outputs": [
    {
     "data": {
      "text/plain": [
       "'car starter by using starter'"
      ]
     },
     "execution_count": 8,
     "metadata": {},
     "output_type": "execute_result"
    }
   ],
   "source": [
    "class car(ABC):\n",
    "    @abstractmethod\n",
    "    def start(self):\n",
    "        pass\n",
    "    \n",
    "    @abstractmethod\n",
    "    def drive(self):\n",
    "        pass\n",
    "    \n",
    "class Tata(car):\n",
    "    \n",
    "    def start(self):\n",
    "        return \"car starter by using starter\"\n",
    "    \n",
    "    def drive(self):\n",
    "        return \"car is moving\"\n",
    "        \n",
    "my_car=Tata()\n",
    "my_car.start()"
   ]
  }
 ],
 "metadata": {
  "kernelspec": {
   "display_name": "Python 3 (ipykernel)",
   "language": "python",
   "name": "python3"
  },
  "language_info": {
   "codemirror_mode": {
    "name": "ipython",
    "version": 3
   },
   "file_extension": ".py",
   "mimetype": "text/x-python",
   "name": "python",
   "nbconvert_exporter": "python",
   "pygments_lexer": "ipython3",
   "version": "3.9.12"
  }
 },
 "nbformat": 4,
 "nbformat_minor": 5
}
