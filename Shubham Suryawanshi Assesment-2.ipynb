{
 "cells": [
  {
   "cell_type": "markdown",
   "id": "bf78e794-4c6e-4edc-891a-5b3a45f305ad",
   "metadata": {},
   "source": [
    "# QUESTIONS"
   ]
  },
  {
   "cell_type": "markdown",
   "id": "ce6ef772-bc09-4a63-b979-1d11cebdc3cf",
   "metadata": {},
   "source": [
    "# 1. Write a program that takes a year as input. Determine if the year is a leap year.\n"
   ]
  },
  {
   "cell_type": "code",
   "execution_count": 2,
   "id": "16960ddc-8fe9-4695-b76c-4a860c56ba53",
   "metadata": {},
   "outputs": [
    {
     "name": "stdin",
     "output_type": "stream",
     "text": [
      "Enter a year:  2024\n"
     ]
    },
    {
     "name": "stdout",
     "output_type": "stream",
     "text": [
      "2024 is a leap year.\n"
     ]
    }
   ],
   "source": [
    "year = int(input(\"Enter a year: \"))\n",
    "\n",
    "if (year % 4 == 0 and year % 100 != 0) or (year % 400 == 0):\n",
    "    print(f\"{year} is a leap year.\")\n",
    "else:\n",
    "    print(f\"{year} is not a leap year.\")\n"
   ]
  },
  {
   "cell_type": "markdown",
   "id": "d788bcd6-9b76-44c1-a0e3-e45717d61056",
   "metadata": {},
   "source": [
    "# 2. Write a program that takes an integer as input and checks if \"The number is divisible by 3 only.\"\n"
   ]
  },
  {
   "cell_type": "code",
   "execution_count": 5,
   "id": "62fa148b-0c1a-4d00-a329-da3fc16fe92d",
   "metadata": {},
   "outputs": [
    {
     "name": "stdin",
     "output_type": "stream",
     "text": [
      "Enter a number:  3\n"
     ]
    },
    {
     "name": "stdout",
     "output_type": "stream",
     "text": [
      "The number is divisible by 3 only.\n"
     ]
    }
   ],
   "source": [
    "number = int(input(\"Enter a number: \"))\n",
    "\n",
    "if number % 3 == 0 and number % 2 != 0 and number % 5 != 0:\n",
    "    print(\"The number is divisible by 3 only.\")\n",
    "else:\n",
    "    print(\"The number is not divisible by 3 only.\")\n"
   ]
  },
  {
   "cell_type": "markdown",
   "id": "2aeb198a-f54a-4f32-8c79-7ac636545e44",
   "metadata": {},
   "source": [
    "# 3. Write a program that takes two numbers as input and prints the smaller of the two.\n"
   ]
  },
  {
   "cell_type": "code",
   "execution_count": 6,
   "id": "4fadf971-129f-445c-bf84-8af6f69a8420",
   "metadata": {},
   "outputs": [
    {
     "name": "stdin",
     "output_type": "stream",
     "text": [
      "Enter first number:  8\n",
      "Enter second number:  12\n"
     ]
    },
    {
     "name": "stdout",
     "output_type": "stream",
     "text": [
      "The smaller number is: 8.0\n"
     ]
    }
   ],
   "source": [
    "num1 = float(input(\"Enter first number: \"))\n",
    "num2 = float(input(\"Enter second number: \"))\n",
    "\n",
    "if num1 < num2:\n",
    "    print(f\"The smaller number is: {num1}\")\n",
    "elif num2 < num1:\n",
    "    print(f\"The smaller number is: {num2}\")\n",
    "else:\n",
    "    print(\"Both numbers are equal.\")\n"
   ]
  },
  {
   "cell_type": "markdown",
   "id": "b385387b-5d55-4b42-b204-15a3abd6b136",
   "metadata": {},
   "source": [
    "# 4. Write a program that takes two numbers as input and prints the larger of the two.\n"
   ]
  },
  {
   "cell_type": "code",
   "execution_count": 7,
   "id": "5eebd147-1321-4b8e-9511-7170974c6a49",
   "metadata": {},
   "outputs": [
    {
     "name": "stdin",
     "output_type": "stream",
     "text": [
      "Enter first number:  25\n",
      "Enter second number:  17\n"
     ]
    },
    {
     "name": "stdout",
     "output_type": "stream",
     "text": [
      "The larger number is: 25.0\n"
     ]
    }
   ],
   "source": [
    "num1 = float(input(\"Enter first number: \"))\n",
    "num2 = float(input(\"Enter second number: \"))\n",
    "\n",
    "if num1 > num2:\n",
    "    print(f\"The larger number is: {num1}\")\n",
    "elif num2 > num1:\n",
    "    print(f\"The larger number is: {num2}\")\n",
    "else:\n",
    "    print(\"Both numbers are equal.\")\n"
   ]
  },
  {
   "cell_type": "markdown",
   "id": "9e2f3bc1-9835-44eb-b9d0-3c20c5d6f052",
   "metadata": {},
   "source": [
    "# 5. Write a program that takes a single letter as input. Determine if it's a vowel (a, e, i, o, u - consider both uppercase and lowercase) or a consonant.\n"
   ]
  },
  {
   "cell_type": "code",
   "execution_count": 11,
   "id": "ee0ee638-6a46-4e86-b444-b4dba841eaaa",
   "metadata": {},
   "outputs": [
    {
     "name": "stdin",
     "output_type": "stream",
     "text": [
      "Enter a single letter:  a\n"
     ]
    },
    {
     "name": "stdout",
     "output_type": "stream",
     "text": [
      "a is a vowel.\n"
     ]
    }
   ],
   "source": [
    "letter = input(\"Enter a single letter: \")\n",
    "\n",
    "if len(letter) == 1 and letter.isalpha():\n",
    "    # Convert to lowercase for uniform comparison\n",
    "    if letter.lower() in ['a', 'e', 'i', 'o', 'u']:\n",
    "        print(f\"{letter} is a vowel.\")\n",
    "    else:\n",
    "        print(f\"{letter} is a consonant.\")\n",
    "else:\n",
    "    print(\"Invalid input. Please enter a single alphabet letter.\")\n"
   ]
  },
  {
   "cell_type": "markdown",
   "id": "9351b31b-0a2e-45ee-bdc7-4bd92cf9dc83",
   "metadata": {},
   "source": [
    "# 6. Write a program that takes a person's age as input and prints their age category: \"Child\" (0-12), \"Teenager\" (13-19), \"Adult\" (20-64), or \"Senior\" (65 and above).\n"
   ]
  },
  {
   "cell_type": "code",
   "execution_count": 13,
   "id": "a8abcefd-76d2-4f63-9308-24abe2706131",
   "metadata": {},
   "outputs": [
    {
     "name": "stdin",
     "output_type": "stream",
     "text": [
      "Enter your age:  90\n"
     ]
    },
    {
     "name": "stdout",
     "output_type": "stream",
     "text": [
      "Category: Senior\n"
     ]
    }
   ],
   "source": [
    "age = int(input(\"Enter your age: \"))\n",
    "\n",
    "#print the age category\n",
    "if age < 0:\n",
    "    print(\"Invalid age. Please enter a non-negative number.\")\n",
    "elif age <= 12:\n",
    "    print(\"Category: Child\")\n",
    "elif age <= 19:\n",
    "    print(\"Category: Teenager\")\n",
    "elif age <= 64:\n",
    "    print(\"Category: Adult\")\n",
    "else:\n",
    "    print(\"Category: Senior\")\n"
   ]
  },
  {
   "cell_type": "markdown",
   "id": "8908d967-7b66-4fc9-88b2-d7cbf4f557da",
   "metadata": {},
   "source": [
    "# 7. Write a program that takes a password as input. If the length of the password is 8 or more characters, print \"Strong password\"; otherwise, print \"Weak password.\""
   ]
  },
  {
   "cell_type": "code",
   "execution_count": 14,
   "id": "f0a9e6e2-0ccb-47de-9ebf-3fc49243d788",
   "metadata": {},
   "outputs": [
    {
     "name": "stdin",
     "output_type": "stream",
     "text": [
      "Enter your password:  shubham@221\n"
     ]
    },
    {
     "name": "stdout",
     "output_type": "stream",
     "text": [
      "Strong password\n"
     ]
    }
   ],
   "source": [
    "password = input(\"Enter your password: \")\n",
    "\n",
    "if len(password) >= 8:\n",
    "    print(\"Strong password\")\n",
    "else:\n",
    "    print(\"Weak password\")\n"
   ]
  },
  {
   "cell_type": "markdown",
   "id": "2b4438dc-6d65-49c5-9101-033a85a93eb6",
   "metadata": {},
   "source": [
    "# 1. What is a for loop in Python, and when would you typically use it?"
   ]
  },
  {
   "cell_type": "code",
   "execution_count": 2,
   "id": "09c732cc-52f6-49a2-b508-aaa572b1896a",
   "metadata": {},
   "outputs": [
    {
     "name": "stdout",
     "output_type": "stream",
     "text": [
      "apple\n",
      "banana\n",
      "cherry\n"
     ]
    }
   ],
   "source": [
    "fruits = ['apple', 'banana', 'cherry']\n",
    "for fruit in fruits:\n",
    "    print(fruit)"
   ]
  },
  {
   "cell_type": "markdown",
   "id": "e772e6ab-6dd9-4114-8a0f-b13078270256",
   "metadata": {},
   "source": [
    "# 2. Explain the syntax of a basic for loop in Python."
   ]
  },
  {
   "cell_type": "code",
   "execution_count": 3,
   "id": "875c742a-13ba-4854-8db5-efb2311927f5",
   "metadata": {},
   "outputs": [
    {
     "name": "stdout",
     "output_type": "stream",
     "text": [
      "Basic syntax example:\n",
      "Number: 1\n",
      "Number: 2\n",
      "Number: 3\n"
     ]
    }
   ],
   "source": [
    "print(\"Basic syntax example:\")\n",
    "for i in [1, 2, 3]:\n",
    "    print(\"Number:\", i)\n"
   ]
  },
  {
   "cell_type": "markdown",
   "id": "aa9057e3-cd1a-4452-8ae7-04eeae0b6328",
   "metadata": {},
   "source": [
    "# 3. What is an iterable? Give a few examples of built-in iterables."
   ]
  },
  {
   "cell_type": "code",
   "execution_count": 4,
   "id": "1356692b-0cfd-4cf0-b4eb-5dd7ea02fe1a",
   "metadata": {},
   "outputs": [
    {
     "name": "stdout",
     "output_type": "stream",
     "text": [
      "Examples of iterables:\n",
      "List: [10, 20, 30]\n",
      "String: Python\n",
      "Range: [0, 1, 2]\n"
     ]
    }
   ],
   "source": [
    "print(\"Examples of iterables:\")\n",
    "my_list = [10, 20, 30]\n",
    "my_string = \"Python\"\n",
    "my_range = range(3)\n",
    "\n",
    "print(\"List:\", my_list)\n",
    "print(\"String:\", my_string)\n",
    "print(\"Range:\", list(my_range))\n"
   ]
  },
  {
   "cell_type": "markdown",
   "id": "dad1a0e3-24fc-4b05-beda-1792112a3e94",
   "metadata": {},
   "source": [
    "# 4. How can you iterate through the characters of a string using a for loop?"
   ]
  },
  {
   "cell_type": "code",
   "execution_count": 5,
   "id": "0ce54d2f-5018-4c7f-8e5c-af1bb668c3b0",
   "metadata": {},
   "outputs": [
    {
     "name": "stdout",
     "output_type": "stream",
     "text": [
      "Characters in the string:\n",
      "h\n",
      "e\n",
      "l\n",
      "l\n",
      "o\n"
     ]
    }
   ],
   "source": [
    "word = \"hello\"\n",
    "print(\"Characters in the string:\")\n",
    "for char in word:\n",
    "    print(char)\n"
   ]
  },
  {
   "cell_type": "markdown",
   "id": "fe68549f-b82c-4b88-8f0c-662624017e3d",
   "metadata": {},
   "source": [
    "# 5. What is the purpose of the range() function with a for loop?"
   ]
  },
  {
   "cell_type": "code",
   "execution_count": 6,
   "id": "837c9dac-49a7-4ad8-91e6-b7030cab0a31",
   "metadata": {},
   "outputs": [
    {
     "name": "stdout",
     "output_type": "stream",
     "text": [
      "Using range in for loop (from 0 to 4):\n",
      "0\n",
      "1\n",
      "2\n",
      "3\n",
      "4\n"
     ]
    }
   ],
   "source": [
    "print(\"Using range in for loop (from 0 to 4):\")\n",
    "for i in range(5):  # Starts from 0 by default\n",
    "    print(i)\n"
   ]
  },
  {
   "cell_type": "markdown",
   "id": "59528c41-1acd-4e22-b274-62f1dc7e95fe",
   "metadata": {},
   "source": [
    "# 6. Can you have a for loop inside another for loop?"
   ]
  },
  {
   "cell_type": "code",
   "execution_count": 8,
   "id": "eb5c8d2a-bb16-418a-96ae-0ac833021cd6",
   "metadata": {},
   "outputs": [
    {
     "name": "stdout",
     "output_type": "stream",
     "text": [
      "Nested for loop printing:\n",
      "(0, 0) (0, 1) (0, 2) \n",
      "(1, 0) (1, 1) (1, 2) \n"
     ]
    }
   ],
   "source": [
    "print(\"Nested for loop printing:\")\n",
    "for i in range(2):\n",
    "    for j in range(3):\n",
    "        print(f\"({i}, {j})\", end=' ')\n",
    "    print()\n"
   ]
  },
  {
   "cell_type": "markdown",
   "id": "ea988294-f816-4c2f-ab76-a1c9865beb4c",
   "metadata": {},
   "source": [
    "# 7. What is a while loop in Python, and when would you use it?"
   ]
  },
  {
   "cell_type": "code",
   "execution_count": 9,
   "id": "39399a2b-fc58-49d1-ba9e-da7492c40edb",
   "metadata": {},
   "outputs": [
    {
     "name": "stdout",
     "output_type": "stream",
     "text": [
      "Example of a while loop:\n",
      "Count is: 1\n",
      "Count is: 2\n",
      "Count is: 3\n"
     ]
    }
   ],
   "source": [
    "print(\"Example of a while loop:\")\n",
    "count = 1\n",
    "while count <= 3:\n",
    "    print(\"Count is:\", count)\n",
    "    count += 1\n"
   ]
  },
  {
   "cell_type": "markdown",
   "id": "9b803e0c-2c4c-46b9-b1b5-bd83314f659a",
   "metadata": {},
   "source": [
    "# 8. Explain the syntax of a basic while loop. What is the condition?"
   ]
  },
  {
   "cell_type": "code",
   "execution_count": 10,
   "id": "398661dc-1249-4c22-b156-ea5dfbfccfd0",
   "metadata": {},
   "outputs": [
    {
     "name": "stdout",
     "output_type": "stream",
     "text": [
      "Basic while loop example:\n",
      "0\n",
      "1\n",
      "2\n",
      "3\n",
      "4\n"
     ]
    }
   ],
   "source": [
    "x = 0\n",
    "print(\"Basic while loop example:\")\n",
    "while x < 5:\n",
    "    print(x)\n",
    "    x += 1\n"
   ]
  },
  {
   "cell_type": "markdown",
   "id": "641d9fd7-29c0-4226-a24d-b9c2ed15927d",
   "metadata": {},
   "source": [
    "# 9. What is an infinite loop? How can you accidentally create one?"
   ]
  },
  {
   "cell_type": "code",
   "execution_count": 11,
   "id": "c35cc41a-6174-4376-a135-9b52d6c33552",
   "metadata": {},
   "outputs": [
    {
     "name": "stdout",
     "output_type": "stream",
     "text": [
      "Corrected loop to avoid infinite loop:\n",
      "x = 0\n",
      "x = 1\n",
      "x = 2\n"
     ]
    }
   ],
   "source": [
    "print(\"Corrected loop to avoid infinite loop:\")\n",
    "x = 0\n",
    "while x < 3:\n",
    "    print(\"x =\", x)\n",
    "    x += 1\n"
   ]
  },
  {
   "cell_type": "markdown",
   "id": "88922728-74cd-418d-a7f9-38d915e2eb14",
   "metadata": {},
   "source": [
    "# 10. How do the break and continue statements work in a while loop?"
   ]
  },
  {
   "cell_type": "code",
   "execution_count": 12,
   "id": "7d0261b1-a7cf-4df3-bc7b-7def54a58acd",
   "metadata": {},
   "outputs": [
    {
     "name": "stdout",
     "output_type": "stream",
     "text": [
      "Using break and continue in while loop:\n",
      "x = 1\n",
      "x = 2\n",
      "Skipping 3 using continue\n",
      "x = 4\n",
      "Breaking at 5\n"
     ]
    }
   ],
   "source": [
    "print(\"Using break and continue in while loop:\")\n",
    "x = 0\n",
    "while x < 5:\n",
    "    x += 1\n",
    "    if x == 3:\n",
    "        print(\"Skipping 3 using continue\")\n",
    "        continue\n",
    "    if x == 5:\n",
    "        print(\"Breaking at 5\")\n",
    "        break\n",
    "    print(\"x =\", x)\n"
   ]
  },
  {
   "cell_type": "markdown",
   "id": "79100130-6555-479c-a613-9cfde7ef630b",
   "metadata": {},
   "source": [
    "\n",
    "# Question 1: Write a program that takes a sentence as input. Capitalize the first letter of the sentence and print the modified sentence."
   ]
  },
  {
   "cell_type": "code",
   "execution_count": 2,
   "id": "1f01a0ff-210f-4023-9cf3-13947a4b9277",
   "metadata": {},
   "outputs": [
    {
     "name": "stdin",
     "output_type": "stream",
     "text": [
      "Enter a sentence:  shubham suryawanshi\n"
     ]
    },
    {
     "name": "stdout",
     "output_type": "stream",
     "text": [
      "Shubham suryawanshi\n"
     ]
    }
   ],
   "source": [
    "sentence = input(\"Enter a sentence: \")\n",
    "print(sentence.capitalize())\n"
   ]
  },
  {
   "cell_type": "markdown",
   "id": "4b315529-20ad-4d80-9935-00623d58e1e9",
   "metadata": {},
   "source": [
    "# Question 2: Write a program that takes a string as input. Convert the entire string to lowercase and print it.\n"
   ]
  },
  {
   "cell_type": "code",
   "execution_count": 1,
   "id": "833fa57e-cdba-4b43-9408-3a9784f15cbf",
   "metadata": {},
   "outputs": [
    {
     "name": "stdin",
     "output_type": "stream",
     "text": [
      "Enter a string:  Shubham\n"
     ]
    },
    {
     "name": "stdout",
     "output_type": "stream",
     "text": [
      "shubham\n"
     ]
    }
   ],
   "source": [
    "text = input(\"Enter a string: \")\n",
    "print(text.lower())\n"
   ]
  },
  {
   "cell_type": "markdown",
   "id": "b285f40f-f5d7-4cee-ba57-112955cb4f84",
   "metadata": {},
   "source": [
    "# Question 3: Write a program that takes a string as input. Convert the entire string to uppercase and print it."
   ]
  },
  {
   "cell_type": "code",
   "execution_count": 2,
   "id": "aa99c0b8-ed57-47e4-a535-dcb89cb9dfb4",
   "metadata": {},
   "outputs": [
    {
     "name": "stdin",
     "output_type": "stream",
     "text": [
      "Enter a string:  sHUbham\n"
     ]
    },
    {
     "name": "stdout",
     "output_type": "stream",
     "text": [
      "SHUBHAM\n"
     ]
    }
   ],
   "source": [
    "text = input(\"Enter a string: \")\n",
    "print(text.upper())\n"
   ]
  },
  {
   "cell_type": "markdown",
   "id": "97bf3e9d-2fad-4816-8be1-51ed19c0cdb1",
   "metadata": {},
   "source": [
    "# Question 4: Write a program that takes a sentence as input. Convert the sentence to title case (where the first letter of each word is capitalized) and print it."
   ]
  },
  {
   "cell_type": "code",
   "execution_count": 3,
   "id": "b8ca1355-9f72-4aa6-a6b9-291db5fbb437",
   "metadata": {},
   "outputs": [
    {
     "name": "stdin",
     "output_type": "stream",
     "text": [
      "Enter a sentence:  Hello My self Shubham SuryawanshI\n"
     ]
    },
    {
     "name": "stdout",
     "output_type": "stream",
     "text": [
      "Hello My Self Shubham Suryawanshi\n"
     ]
    }
   ],
   "source": [
    "sentence = input(\"Enter a sentence: \")\n",
    "print(sentence.title())\n"
   ]
  },
  {
   "cell_type": "markdown",
   "id": "22585919-e423-46b1-b29c-3338666d9576",
   "metadata": {},
   "source": [
    "# Question 4: Write a program that takes a string with leading spaces as input. Remove the leading spaces and print the stripped string."
   ]
  },
  {
   "cell_type": "code",
   "execution_count": 4,
   "id": "b2ac23e9-0129-45bf-93f0-11326426399e",
   "metadata": {},
   "outputs": [
    {
     "name": "stdin",
     "output_type": "stream",
     "text": [
      "Enter a string with leading spaces:               Hello Python\n"
     ]
    },
    {
     "name": "stdout",
     "output_type": "stream",
     "text": [
      "Hello Python\n"
     ]
    }
   ],
   "source": [
    "text = input(\"Enter a string with leading spaces: \")\n",
    "print(text.lstrip())\n"
   ]
  },
  {
   "cell_type": "markdown",
   "id": "47e5ce8e-9cac-4aed-a02e-cc947500263c",
   "metadata": {},
   "source": [
    "# Question 5: Write a program that takes a string with trailing spaces as input. Remove the trailing spaces and print the stripped string.\n"
   ]
  },
  {
   "cell_type": "code",
   "execution_count": 5,
   "id": "3476387f-a42c-4961-8e7c-c7a71323c3f9",
   "metadata": {},
   "outputs": [
    {
     "name": "stdin",
     "output_type": "stream",
     "text": [
      "Enter a string with trailing spaces:  Hello Python!!!!\n"
     ]
    },
    {
     "name": "stdout",
     "output_type": "stream",
     "text": [
      "Hello Python!!!!\n"
     ]
    }
   ],
   "source": [
    "text = input(\"Enter a string with trailing spaces: \")\n",
    "print(text.rstrip())\n"
   ]
  },
  {
   "cell_type": "markdown",
   "id": "9f85ae7f-feb6-4b82-a475-bd718c391d8a",
   "metadata": {},
   "source": [
    "# Question 6: Write a program that takes a string with leading and trailing spaces as input. Remove both leading and trailing spaces and print the stripped string.\n"
   ]
  },
  {
   "cell_type": "code",
   "execution_count": 6,
   "id": "be4cc93a-cbea-4c5c-81e7-ccbf56d55dae",
   "metadata": {},
   "outputs": [
    {
     "name": "stdin",
     "output_type": "stream",
     "text": [
      "Enter a string with leading and trailing spaces:          Hello World\n"
     ]
    },
    {
     "name": "stdout",
     "output_type": "stream",
     "text": [
      "Hello World\n"
     ]
    }
   ],
   "source": [
    "text = input(\"Enter a string with leading and trailing spaces: \")\n",
    "print(text.strip())\n"
   ]
  },
  {
   "cell_type": "markdown",
   "id": "f464fdf4-e17c-4bc2-9572-24978e7e4193",
   "metadata": {},
   "source": [
    "# Question 7: Write a program that takes a sentence and two words (old and new) as input. Replace all occurrences of the old word with the new word in the sentence and print the result.\n"
   ]
  },
  {
   "cell_type": "code",
   "execution_count": 7,
   "id": "62792394-38c9-4d0f-a651-e25635c13270",
   "metadata": {},
   "outputs": [
    {
     "name": "stdin",
     "output_type": "stream",
     "text": [
      "Enter a sentence:  Hello, my self shubham suryawanshi\n",
      "Enter the word to replace:  my self\n",
      "Enter the new word:  i am\n"
     ]
    },
    {
     "name": "stdout",
     "output_type": "stream",
     "text": [
      "Updated sentence: Hello, i am shubham suryawanshi\n"
     ]
    }
   ],
   "source": [
    "sentence = input(\"Enter a sentence: \")\n",
    "old_word = input(\"Enter the word to replace: \")\n",
    "new_word = input(\"Enter the new word: \")\n",
    "\n",
    "updated_sentence = sentence.replace(old_word, new_word)\n",
    "print(\"Updated sentence:\", updated_sentence)\n"
   ]
  },
  {
   "cell_type": "markdown",
   "id": "ba330cf2-28c7-4336-9423-5e1438514f19",
   "metadata": {},
   "source": [
    "# Question 8: Write a program that takes a string and a character as input. Count the number of times the character appears in the string (case-insensitive) using a loop and conditional statements (or directly with count() after converting the string to a single case).\n"
   ]
  },
  {
   "cell_type": "code",
   "execution_count": 9,
   "id": "ecd24309-016a-4afb-833e-c0a5756e98c5",
   "metadata": {},
   "outputs": [
    {
     "name": "stdin",
     "output_type": "stream",
     "text": [
      "Enter a string:  i have many bookes one of them i have python\n",
      "Enter a character to count:  i\n"
     ]
    },
    {
     "name": "stdout",
     "output_type": "stream",
     "text": [
      "The character 'i' appears 2 times in the string.\n"
     ]
    }
   ],
   "source": [
    "#.count()\n",
    "text = input(\"Enter a string: \")\n",
    "char = input(\"Enter a character to count: \")\n",
    "\n",
    "text = text.lower()\n",
    "char = char.lower()\n",
    "\n",
    "count = text.count(char)\n",
    "print(f\"The character '{char}' appears {count} times in the string.\")\n"
   ]
  },
  {
   "cell_type": "code",
   "execution_count": 11,
   "id": "e390d4ca-a091-4ec0-8556-9932218731b3",
   "metadata": {},
   "outputs": [
    {
     "name": "stdin",
     "output_type": "stream",
     "text": [
      "Enter a string:  i have many bookes one of them i have python\n",
      "Enter a character to count:  have\n"
     ]
    },
    {
     "name": "stdout",
     "output_type": "stream",
     "text": [
      "The character 'have' appears 0 times in the string.\n"
     ]
    }
   ],
   "source": [
    "#Option 2: Using a loop and conditionals (manually counting)\n",
    "text = input(\"Enter a string: \")\n",
    "char = input(\"Enter a character to count: \")\n",
    "\n",
    "text = text.lower()\n",
    "char = char.lower()\n",
    "\n",
    "count = 0\n",
    "for c in text:\n",
    "    if c == char:\n",
    "        count += 1\n",
    "\n",
    "print(f\"The character '{char}' appears {count} times in the string.\")\n"
   ]
  },
  {
   "cell_type": "markdown",
   "id": "a267705a-eaab-46a3-bc3f-c76da130523d",
   "metadata": {},
   "source": [
    "# Question 9: Write a program that takes a string and a substring as input. Find the index of the first occurrence of the substring. If the substring is not found, print a message indicating that.\n"
   ]
  },
  {
   "cell_type": "code",
   "execution_count": 12,
   "id": "f268a330-32cb-423f-b4fd-5d51b65365da",
   "metadata": {},
   "outputs": [
    {
     "name": "stdin",
     "output_type": "stream",
     "text": [
      "Enter the main string:  Hello, welcome to Python coding\n",
      "Enter the substring to search:  coding\n"
     ]
    },
    {
     "name": "stdout",
     "output_type": "stream",
     "text": [
      "The substring 'coding' is found at index 25.\n"
     ]
    }
   ],
   "source": [
    "text = input(\"Enter the main string: \")\n",
    "substring = input(\"Enter the substring to search: \")\n",
    "\n",
    "index = text.find(substring)\n",
    "\n",
    "if index != -1:\n",
    "    print(f\"The substring '{substring}' is found at index {index}.\")\n",
    "else:\n",
    "    print(f\"The substring '{substring}' was not found in the string.\")\n"
   ]
  },
  {
   "cell_type": "markdown",
   "id": "51237a30-ed53-498c-ae25-7bea4f5d3ed0",
   "metadata": {},
   "source": [
    "## Question 10: Write a program that takes a string and a substring as input. Find all occurrences of the substring in the string using a while loop and the find() method. Print the starting index of each occurrence.\n"
   ]
  },
  {
   "cell_type": "code",
   "execution_count": 13,
   "id": "3acbeebc-1d38-41f0-b10e-44c7beac9ea9",
   "metadata": {},
   "outputs": [
    {
     "name": "stdin",
     "output_type": "stream",
     "text": [
      "Enter the main string:  apple apple apple\n",
      "Enter the substring to search:  app\n"
     ]
    },
    {
     "name": "stdout",
     "output_type": "stream",
     "text": [
      "Found at index: 0\n",
      "Found at index: 6\n",
      "Found at index: 12\n"
     ]
    }
   ],
   "source": [
    "text = input(\"Enter the main string: \")\n",
    "substring = input(\"Enter the substring to search: \")\n",
    "\n",
    "start = 0\n",
    "found = False\n",
    "\n",
    "while True:\n",
    "    index = text.find(substring, start)\n",
    "    if index == -1:\n",
    "        break\n",
    "    print(f\"Found at index: {index}\")\n",
    "    found = True\n",
    "    start = index + 1  # Move to the next character after the current match\n",
    "\n",
    "if not found:\n",
    "    print(\"Substring not found.\")\n"
   ]
  },
  {
   "cell_type": "markdown",
   "id": "be11ee8c-9ca6-490e-91c1-b346a1b8a1f6",
   "metadata": {},
   "source": [
    "# Question 11: Write a program that takes a comma-separated string of items as input. Split the string into a list of individual items and print each item.\n"
   ]
  },
  {
   "cell_type": "code",
   "execution_count": 14,
   "id": "769741dc-f013-49fc-a474-7e20b77ed9c0",
   "metadata": {},
   "outputs": [
    {
     "name": "stdin",
     "output_type": "stream",
     "text": [
      "Enter comma-separated items:  python, java, data science, hello\n"
     ]
    },
    {
     "name": "stdout",
     "output_type": "stream",
     "text": [
      "python\n",
      "java\n",
      "data science\n",
      "hello\n"
     ]
    }
   ],
   "source": [
    "items = input(\"Enter comma-separated items: \")\n",
    "item_list = items.split(\",\")\n",
    "for item in item_list:\n",
    "    print(item.strip())  # .strip() removes leading/trailing spaces\n"
   ]
  },
  {
   "cell_type": "markdown",
   "id": "b156af5f-2435-442c-ba47-f9f35691549b",
   "metadata": {},
   "source": [
    "# Question 12: Write a program that takes a filename as input. Check if the filename ends with \".txt\". If it does, print \"This is a text file.\"; otherwise, print \"This is not necessarily a text file.\"\n"
   ]
  },
  {
   "cell_type": "code",
   "execution_count": 3,
   "id": "2cdd7f83-0328-4fa3-8ce4-526ee098dd5d",
   "metadata": {},
   "outputs": [
    {
     "name": "stdin",
     "output_type": "stream",
     "text": [
      "Enter the filename:  index.txt\n"
     ]
    },
    {
     "name": "stdout",
     "output_type": "stream",
     "text": [
      "This is a text file.\n"
     ]
    }
   ],
   "source": [
    "filename = input(\"Enter the filename: \")\n",
    "\n",
    "if filename.endswith(\".txt\"):\n",
    "    print(\"This is a text file.\")\n",
    "else:\n",
    "    print(\"This is not necessarily a text file.\")\n"
   ]
  },
  {
   "cell_type": "markdown",
   "id": "1dbcb8b7-a283-4f70-8587-b9d50c546977",
   "metadata": {},
   "source": [
    "# Questions 13: Write a program that takes a line of text as input. Check if the line starts with \"Subject: \". If it does, print \"This line is likely an email subject.\"; otherwise, print \"This line does not appear to be an email subject.\""
   ]
  },
  {
   "cell_type": "code",
   "execution_count": 18,
   "id": "98d2444a-f7ac-4735-ae47-fd491db45a8f",
   "metadata": {},
   "outputs": [
    {
     "name": "stdin",
     "output_type": "stream",
     "text": [
      "Enter a line of text:  Subject: Good Evening !!\n"
     ]
    },
    {
     "name": "stdout",
     "output_type": "stream",
     "text": [
      "This line is likely an email subject.\n"
     ]
    }
   ],
   "source": [
    "line = input(\"Enter a line of text: \")\n",
    "\n",
    "if line.startswith(\"Subject: \"):\n",
    "    print(\"This line is likely an email subject.\")\n",
    "else:\n",
    "    print(\"This line does not appear to be an email subject.\")\n"
   ]
  },
  {
   "cell_type": "markdown",
   "id": "6206b519-b890-4cc3-9803-68a5631e68e5",
   "metadata": {},
   "source": [
    "# Question 14: Write a program that takes a string as input and checks if all characters in the string are alphanumeric. Print \"Alphanumeric string\" or \"Not an alphanumeric string.\"\n"
   ]
  },
  {
   "cell_type": "code",
   "execution_count": 19,
   "id": "a95f840e-8846-4eb9-924c-23702980b94f",
   "metadata": {},
   "outputs": [
    {
     "name": "stdin",
     "output_type": "stream",
     "text": [
      "Enter a string:  hello123\n"
     ]
    },
    {
     "name": "stdout",
     "output_type": "stream",
     "text": [
      "Alphanumeric string\n"
     ]
    }
   ],
   "source": [
    "text = input(\"Enter a string: \")\n",
    "\n",
    "if text.isalnum():\n",
    "    print(\"Alphanumeric string\")\n",
    "else:\n",
    "    print(\"Not an alphanumeric string.\")\n"
   ]
  },
  {
   "cell_type": "markdown",
   "id": "ea897e25-955d-405d-94a6-d8f84ae263ce",
   "metadata": {},
   "source": [
    "# Question 15: Write a program that takes a string as input and checks if all characters in the string are alphabetic. Print \"Alphabetic string\" or \"Not an alphabetic string.\"\n"
   ]
  },
  {
   "cell_type": "code",
   "execution_count": 21,
   "id": "a05b1cc3-50e6-4673-b3c2-ff04527aed0e",
   "metadata": {},
   "outputs": [
    {
     "name": "stdin",
     "output_type": "stream",
     "text": [
      "Enter a string:  shubham\n"
     ]
    },
    {
     "name": "stdout",
     "output_type": "stream",
     "text": [
      "Alphabetic string\n"
     ]
    }
   ],
   "source": [
    "text = input(\"Enter a string: \")\n",
    "\n",
    "if text.isalpha():\n",
    "    print(\"Alphabetic string\")\n",
    "else:\n",
    "    print(\"Not an alphabetic string.\")\n"
   ]
  },
  {
   "cell_type": "markdown",
   "id": "ef0a88b3-c32a-440a-8c6c-3d08324f26a9",
   "metadata": {},
   "source": [
    "\n",
    "# Question 16: Write a program that takes a string as input and checks if all characters in the string are decimal digits. Print \"Decimal string\" or \"Not a decimal string.\"\n"
   ]
  },
  {
   "cell_type": "code",
   "execution_count": 22,
   "id": "6c126f88-bb08-4a4a-8af6-d7cd59bae86a",
   "metadata": {},
   "outputs": [
    {
     "name": "stdin",
     "output_type": "stream",
     "text": [
      "Enter a string:  123456789\n"
     ]
    },
    {
     "name": "stdout",
     "output_type": "stream",
     "text": [
      "Decimal string\n"
     ]
    }
   ],
   "source": [
    "text = input(\"Enter a string: \")\n",
    "\n",
    "if text.isdecimal():\n",
    "    print(\"Decimal string\")\n",
    "else:\n",
    "    print(\"Not a decimal string.\")\n"
   ]
  },
  {
   "cell_type": "markdown",
   "id": "ba903024-4b6f-42e4-9b63-91d9b9618e97",
   "metadata": {},
   "source": [
    "\n",
    "# Question 17: Write a program that takes a string as input. Check if all characters in the string are whitespace characters. If they are, print \"Whitespace string\"; otherwise, print \"Not a whitespace string.\"\n"
   ]
  },
  {
   "cell_type": "code",
   "execution_count": 25,
   "id": "ee1ab5db-a87f-48c5-9542-a2aed6de2e75",
   "metadata": {},
   "outputs": [
    {
     "name": "stdin",
     "output_type": "stream",
     "text": [
      "Enter a string:       hello world\n"
     ]
    },
    {
     "name": "stdout",
     "output_type": "stream",
     "text": [
      "Not a whitespace string.\n"
     ]
    }
   ],
   "source": [
    "text = input(\"Enter a string: \")\n",
    "\n",
    "if text.isspace():\n",
    "    print(\"Whitespace string\")\n",
    "else:\n",
    "    print(\"Not a whitespace string.\")\n"
   ]
  },
  {
   "cell_type": "markdown",
   "id": "9788bcc2-93f7-4362-a2c5-f5326977dbf8",
   "metadata": {},
   "source": [
    "# Question 18: Write a program that takes a number (as a string) and a desired width as input. Pad the beginning of the number with leading zeros so that it reaches the specified width. Print the zero-filled string.\n"
   ]
  },
  {
   "cell_type": "code",
   "execution_count": 26,
   "id": "6b076593-aa5a-4d4c-a47f-affe5843344c",
   "metadata": {},
   "outputs": [
    {
     "name": "stdin",
     "output_type": "stream",
     "text": [
      "Enter a number:  43\n",
      "Enter the desired width:  5\n"
     ]
    },
    {
     "name": "stdout",
     "output_type": "stream",
     "text": [
      "Zero-filled number: 00043\n"
     ]
    }
   ],
   "source": [
    "number = input(\"Enter a number: \")\n",
    "width = int(input(\"Enter the desired width: \"))\n",
    "\n",
    "padded_number = number.zfill(width)\n",
    "print(\"Zero-filled number:\", padded_number)\n"
   ]
  },
  {
   "cell_type": "markdown",
   "id": "89e06b5d-723c-4f3d-b519-004e1c285b46",
   "metadata": {},
   "source": [
    "# Question 19: Write a program that takes a string and a width as input. Center the string within the specified width, using '*' as the fill character, and print the result.\n"
   ]
  },
  {
   "cell_type": "code",
   "execution_count": 27,
   "id": "e1fe608d-b334-4606-93cf-001d03ed5b5a",
   "metadata": {},
   "outputs": [
    {
     "name": "stdin",
     "output_type": "stream",
     "text": [
      "Enter a string:  hello\n",
      "Enter the total width:  10\n"
     ]
    },
    {
     "name": "stdout",
     "output_type": "stream",
     "text": [
      "Centered string: **hello***\n"
     ]
    }
   ],
   "source": [
    "text = input(\"Enter a string: \")\n",
    "width = int(input(\"Enter the total width: \"))\n",
    "\n",
    "centered_text = text.center(width, '*')\n",
    "print(\"Centered string:\", centered_text)\n"
   ]
  },
  {
   "cell_type": "markdown",
   "id": "b810423a-af06-4e50-a223-1474e19c53ae",
   "metadata": {},
   "source": [
    "# Question 20: Write a program that takes two strings as input. Convert both strings to their casefolded forms and then check if they are equal. Print \"Case-insensitive match\" or \"No case-insensitive match.\""
   ]
  },
  {
   "cell_type": "code",
   "execution_count": 1,
   "id": "6c4af0f9-e1d4-49ca-a138-cfabc72dd33d",
   "metadata": {},
   "outputs": [
    {
     "name": "stdin",
     "output_type": "stream",
     "text": [
      "Enter the first string:  hello\n",
      "Enter the second string:  python\n"
     ]
    },
    {
     "name": "stdout",
     "output_type": "stream",
     "text": [
      "No case-insensitive match\n"
     ]
    }
   ],
   "source": [
    "str1 = input(\"Enter the first string: \")\n",
    "str2 = input(\"Enter the second string: \")\n",
    "\n",
    "if str1.casefold() == str2.casefold():\n",
    "    print(\"Case-insensitive match\")\n",
    "else:\n",
    "    print(\"No case-insensitive match\")\n"
   ]
  },
  {
   "cell_type": "code",
   "execution_count": null,
   "id": "eb0eb7a0-633a-4263-a3d4-b22d89878647",
   "metadata": {},
   "outputs": [],
   "source": []
  }
 ],
 "metadata": {
  "kernelspec": {
   "display_name": "Python 3 (ipykernel)",
   "language": "python",
   "name": "python3"
  },
  "language_info": {
   "codemirror_mode": {
    "name": "ipython",
    "version": 3
   },
   "file_extension": ".py",
   "mimetype": "text/x-python",
   "name": "python",
   "nbconvert_exporter": "python",
   "pygments_lexer": "ipython3",
   "version": "3.13.5"
  }
 },
 "nbformat": 4,
 "nbformat_minor": 5
}
