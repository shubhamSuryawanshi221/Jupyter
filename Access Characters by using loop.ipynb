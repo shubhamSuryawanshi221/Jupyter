{
 "cells": [
  {
   "cell_type": "markdown",
   "id": "e7d51d2a",
   "metadata": {},
   "source": [
    "# Access Characters by using loop"
   ]
  },
  {
   "cell_type": "code",
   "execution_count": null,
   "id": "0ca6390e",
   "metadata": {},
   "outputs": [],
   "source": [
    ">> for loop works like a iterator\n",
    "\n",
    "syntax:\n",
    "for variable_name in sequence:\n",
    "    statement2\n",
    "    statement2\n",
    "    \n",
    "    \n",
    "\n",
    "    "
   ]
  },
  {
   "cell_type": "code",
   "execution_count": null,
   "id": "cd32cc80",
   "metadata": {},
   "outputs": [],
   "source": [
    "What is a For Loop?\n",
    ">> A for loop is like a robot that repeats a task for each item in a collection (e.g., a list, string, or range of numbers). \n",
    ">> It automates repetitive tasks so you don’t have to write the same code over and over!"
   ]
  },
  {
   "cell_type": "code",
   "execution_count": 1,
   "id": "499a0676",
   "metadata": {},
   "outputs": [
    {
     "data": {
      "text/plain": [
       "range(0, -10)"
      ]
     },
     "execution_count": 1,
     "metadata": {},
     "output_type": "execute_result"
    }
   ],
   "source": [
    "list=[12,34,32,45]\n",
    "string=\"dfghjfcv\"\n",
    "range(0-10)"
   ]
  },
  {
   "cell_type": "code",
   "execution_count": 2,
   "id": "9eabadd3",
   "metadata": {},
   "outputs": [
    {
     "name": "stdout",
     "output_type": "stream",
     "text": [
      "12\n",
      "34\n",
      "32\n",
      "45\n"
     ]
    }
   ],
   "source": [
    "list1=[12,34,32,45]\n",
    "\n",
    "for num in list1:\n",
    "    print(num)\n",
    "    \n",
    "    \n",
    "    "
   ]
  },
  {
   "cell_type": "code",
   "execution_count": null,
   "id": "ed737ac7",
   "metadata": {},
   "outputs": [],
   "source": [
    "The loop iterates over each character in the string text."
   ]
  },
  {
   "cell_type": "code",
   "execution_count": 3,
   "id": "0676496a",
   "metadata": {},
   "outputs": [
    {
     "name": "stdout",
     "output_type": "stream",
     "text": [
      "123456789\n",
      "1\n",
      "*********\n",
      "2\n",
      "*********\n",
      "3\n",
      "*********\n",
      "4\n",
      "*********\n",
      "5\n",
      "*********\n",
      "6\n",
      "*********\n",
      "7\n",
      "*********\n",
      "8\n",
      "*********\n",
      "9\n",
      "*********\n"
     ]
    }
   ],
   "source": [
    "string = '123456789'\n",
    "print(string)\n",
    "\n",
    "for char in string: \n",
    "    print(char)\n",
    "    print(\"*********\")\n",
    "    "
   ]
  },
  {
   "cell_type": "code",
   "execution_count": 4,
   "id": "72ca108c",
   "metadata": {},
   "outputs": [
    {
     "name": "stdout",
     "output_type": "stream",
     "text": [
      "p\n",
      "*********\n",
      "y\n",
      "*********\n",
      "t\n",
      "*********\n",
      "h\n",
      "*********\n",
      "o\n",
      "*********\n",
      "n\n",
      "*********\n"
     ]
    }
   ],
   "source": [
    "string = 'python'\n",
    "\n",
    "for char in string: \n",
    "    print(char)\n",
    "    print(\"*********\")"
   ]
  },
  {
   "cell_type": "code",
   "execution_count": 5,
   "id": "d4a53685",
   "metadata": {},
   "outputs": [
    {
     "name": "stdout",
     "output_type": "stream",
     "text": [
      "char is p\n",
      "*********\n",
      "char is y\n",
      "*********\n",
      "char is t\n",
      "*********\n",
      "char is h\n",
      "*********\n",
      "char is o\n",
      "*********\n",
      "char is n\n",
      "*********\n"
     ]
    }
   ],
   "source": [
    "string = 'python'\n",
    "\n",
    "for char in string: \n",
    "    print(f\"char is {char}\")\n",
    "    print(\"*********\")"
   ]
  },
  {
   "cell_type": "code",
   "execution_count": 6,
   "id": "65d4a3e2",
   "metadata": {},
   "outputs": [
    {
     "name": "stdout",
     "output_type": "stream",
     "text": [
      "char is p\n",
      "*********\n",
      "char is y\n",
      "*********\n",
      "char is t\n",
      "*********\n",
      "char is h\n",
      "*********\n",
      "char is o\n",
      "*********\n",
      "char is n\n",
      "*********\n"
     ]
    }
   ],
   "source": [
    "string = 'python'\n",
    "\n",
    "for char in string: \n",
    "    print(\"char is {}\".format(char))\n",
    "    print(\"*********\")"
   ]
  },
  {
   "cell_type": "code",
   "execution_count": 7,
   "id": "0391c474",
   "metadata": {},
   "outputs": [
    {
     "name": "stdout",
     "output_type": "stream",
     "text": [
      "pythddddddddddddddddddddddddddddddddddddddddddddddddddddddddddddddddddddddddddddddddddddddddddddddddddddddddddddddddddddddddddddddddddddrthjhgffffffffffffffffffffffffffon 345\n",
      "value of a is  pythddddddddddddddddddddddddddddddddddddddddddddddddddddddddddddddddddddddddddddddddddddddddddddddddddddddddddddddddddddddddddddddddddddrthjhgffffffffffffffffffffffffffon\n"
     ]
    }
   ],
   "source": [
    "a= \"pythddddddddddddddddddddddddddddddddddddddddddddddddddddddddddddddddddddddddddddddddddddddddddddddddddddddddddddddddddddddddddddddddddddrthjhgffffffffffffffffffffffffffon\"\n",
    "b= \"345\"\n",
    "\n",
    "print(a,b)  #the vaule of a is..... and value of b is ....\n",
    "print(\"value of a is \",a)"
   ]
  },
  {
   "cell_type": "code",
   "execution_count": 8,
   "id": "d68d7a10",
   "metadata": {},
   "outputs": [
    {
     "name": "stdout",
     "output_type": "stream",
     "text": [
      "the value of a is pythddddddddddddddddddddddddddddddddddddddddddddddddddddddddddddddddddddddddddddddddddddddddddddddddddddddddddddddddddddddddddddddddddddrthjhgffffffffffffffffffffffffffon and value of b is 345 \n",
      "the value of a is pythddddddddddddddddddddddddddddddddddddddddddddddddddddddddddddddddddddddddddddddddddddddddddddddddddddddddddddddddddddddddddddddddddddrthjhgffffffffffffffffffffffffffon and value of b is 345\n"
     ]
    }
   ],
   "source": [
    "print(f\"the value of a is {a} and value of b is {b} \") #f string formatting\n",
    "print(\"the value of a is {} and value of b is {}\".format(a,b)) # dot formatting"
   ]
  },
  {
   "cell_type": "code",
   "execution_count": 9,
   "id": "ab995646",
   "metadata": {},
   "outputs": [
    {
     "name": "stdout",
     "output_type": "stream",
     "text": [
      "I love apple!\n",
      "I love banana!\n",
      "I love cherry!\n"
     ]
    }
   ],
   "source": [
    "fruits = [\"apple\", \"banana\", \"cherry\"]  \n",
    "\n",
    "# The loop runs 3 times (once for each fruit)  \n",
    "for fruit in fruits:  \n",
    "    print(f\"I love {fruit}!\") "
   ]
  },
  {
   "cell_type": "markdown",
   "id": "8747ad44",
   "metadata": {},
   "source": [
    "# f-string formatting"
   ]
  },
  {
   "cell_type": "code",
   "execution_count": null,
   "id": "4118d7aa",
   "metadata": {},
   "outputs": [],
   "source": [
    ">> F-strings (formatted string literals) are a way to embed variables,\n",
    " expressions, and function calls directly inside a string using { }."
   ]
  },
  {
   "cell_type": "code",
   "execution_count": 11,
   "id": "058c7e1c",
   "metadata": {},
   "outputs": [
    {
     "name": "stdout",
     "output_type": "stream",
     "text": [
      "Hello, Amar! You are 25 years old.\n"
     ]
    }
   ],
   "source": [
    "name = \"Amar\"  \n",
    "age = 25  \n",
    "print(f\"Hello, {name}! You are {age} years old.\")"
   ]
  },
  {
   "cell_type": "code",
   "execution_count": null,
   "id": "92f0fb94",
   "metadata": {},
   "outputs": [],
   "source": []
  },
  {
   "cell_type": "code",
   "execution_count": 12,
   "id": "e8bba7a6",
   "metadata": {},
   "outputs": [
    {
     "name": "stdout",
     "output_type": "stream",
     "text": [
      "5 + 3 = 8\n"
     ]
    }
   ],
   "source": [
    "a = 5  \n",
    "b = 3  \n",
    "print(f\"{a} + {b} = {a + b}\")  # Output: 5 + 3 = 8 "
   ]
  },
  {
   "cell_type": "code",
   "execution_count": 13,
   "id": "ced1cbc2",
   "metadata": {},
   "outputs": [
    {
     "name": "stdout",
     "output_type": "stream",
     "text": [
      "Uppercase: PYTHON\n"
     ]
    }
   ],
   "source": [
    "text = \"python\"  \n",
    "print(f\"Uppercase: {text.upper()}\")"
   ]
  },
  {
   "cell_type": "markdown",
   "id": "f8bbf42c",
   "metadata": {},
   "source": [
    "# dot formatting"
   ]
  },
  {
   "cell_type": "code",
   "execution_count": 14,
   "id": "76df5e5d",
   "metadata": {},
   "outputs": [
    {
     "name": "stdout",
     "output_type": "stream",
     "text": [
      "My name is Akash and I am 30 years old.\n"
     ]
    }
   ],
   "source": [
    "name = \"Akash\"\n",
    "age = 30\n",
    "message = \"My name is {} and I am {} years old.\".format(name, age)\n",
    "print(message)\n",
    "print(\"My name is {} and I am {} years old\".format(name, age))"
   ]
  },
  {
   "cell_type": "markdown",
   "id": "5aed6e67",
   "metadata": {},
   "source": [
    "# Enumerate Function"
   ]
  },
  {
   "cell_type": "markdown",
   "id": "5980ae77",
   "metadata": {},
   "source": [
    ">> The enumerate() function adds a counter to an iterable (like a list, tuple, or string) and returns an enumerate object containing pairs of (index, value). \n",
    ">> It simplifies looping over iterables while tracking both the index and the element."
   ]
  },
  {
   "cell_type": "code",
   "execution_count": 15,
   "id": "ecf50ec2",
   "metadata": {},
   "outputs": [
    {
     "name": "stdout",
     "output_type": "stream",
     "text": [
      "Index 0: apple\n",
      "Index 1: banana\n",
      "Index 2: cherry\n"
     ]
    }
   ],
   "source": [
    "fruits = [\"apple\", \"banana\", \"cherry\"]  \n",
    "\n",
    "for index, fruit in enumerate(fruits):  \n",
    "    print(f\"Index {index}: {fruit}\")"
   ]
  },
  {
   "cell_type": "code",
   "execution_count": 16,
   "id": "97b26b19",
   "metadata": {},
   "outputs": [
    {
     "name": "stdout",
     "output_type": "stream",
     "text": [
      "(0, 'p')\n",
      "(1, 'y')\n",
      "(2, 't')\n",
      "(3, 'h')\n",
      "(4, 'o')\n",
      "(5, 'n')\n"
     ]
    }
   ],
   "source": [
    "string = 'python'\n",
    "\n",
    "for char in enumerate(string):\n",
    "    print(char)"
   ]
  },
  {
   "cell_type": "code",
   "execution_count": 17,
   "id": "f59b261c",
   "metadata": {},
   "outputs": [
    {
     "name": "stdout",
     "output_type": "stream",
     "text": [
      "Character at index 0: h\n",
      "Character at index 1: e\n",
      "Character at index 2: l\n",
      "Character at index 3: l\n",
      "Character at index 4: o\n"
     ]
    }
   ],
   "source": [
    "my_string = \"hello\"\n",
    "\n",
    "for index, character in enumerate(my_string):\n",
    "    print(f\"Character at index {index}: {character}\")"
   ]
  },
  {
   "cell_type": "code",
   "execution_count": 18,
   "id": "f2fd1e35",
   "metadata": {},
   "outputs": [
    {
     "name": "stdout",
     "output_type": "stream",
     "text": [
      "0 p\n",
      "1 y\n",
      "2 t\n",
      "3 h\n",
      "4 o\n",
      "5 n\n"
     ]
    }
   ],
   "source": [
    "string = 'python'\n",
    "\n",
    "for index, value in enumerate(string):\n",
    "    print(index, value)"
   ]
  },
  {
   "cell_type": "code",
   "execution_count": 19,
   "id": "c9e8b7bf",
   "metadata": {},
   "outputs": [
    {
     "name": "stdout",
     "output_type": "stream",
     "text": [
      "index is 0 and value is p\n",
      "index is 1 and value is y\n",
      "index is 2 and value is t\n",
      "index is 3 and value is h\n",
      "index is 4 and value is o\n",
      "index is 5 and value is n\n"
     ]
    }
   ],
   "source": [
    "string = 'python'\n",
    "\n",
    "for index, value in enumerate(string):\n",
    "    print(f\"index is {index} and value is {value}\")"
   ]
  },
  {
   "cell_type": "code",
   "execution_count": 20,
   "id": "28bd3ffb",
   "metadata": {},
   "outputs": [
    {
     "name": "stdout",
     "output_type": "stream",
     "text": [
      "Position 1: apple\n",
      "Position 2: banana\n",
      "Position 3: cherry\n"
     ]
    }
   ],
   "source": [
    "for index, fruit in enumerate(fruits, start=1):  \n",
    "    print(f\"Position {index}: {fruit}\")  "
   ]
  },
  {
   "cell_type": "code",
   "execution_count": 21,
   "id": "e3ebcbe6",
   "metadata": {},
   "outputs": [
    {
     "name": "stdout",
     "output_type": "stream",
     "text": [
      "Vowel 'e' at index 1\n",
      "Vowel 'o' at index 4\n"
     ]
    }
   ],
   "source": [
    "text = \"Hello\"  \n",
    "vowels = \"aeiouAEIOU\"  \n",
    "\n",
    "for idx, char in enumerate(text):  \n",
    "    if char in vowels:  \n",
    "        print(f\"Vowel '{char}' at index {idx}\") "
   ]
  },
  {
   "cell_type": "markdown",
   "id": "1e4f0a84",
   "metadata": {},
   "source": [
    "# Range Function"
   ]
  },
  {
   "cell_type": "markdown",
   "id": "d9e57ede",
   "metadata": {},
   "source": [
    ">> The range() function generates a sequence of numbers and is commonly used to iterate over a loop a specific number of times. \n",
    ">> It is memory-efficient because it generates numbers on-the-fly instead of storing them all in memory."
   ]
  },
  {
   "cell_type": "code",
   "execution_count": null,
   "id": "e3f23558",
   "metadata": {},
   "outputs": [],
   "source": [
    "syntax:\n",
    "range(start, stop, step) "
   ]
  },
  {
   "cell_type": "code",
   "execution_count": 26,
   "id": "f8e5c05e",
   "metadata": {},
   "outputs": [],
   "source": [
    "del list"
   ]
  },
  {
   "cell_type": "code",
   "execution_count": null,
   "id": "bef1dd32",
   "metadata": {},
   "outputs": [],
   "source": [
    "num=[1,2,3,4,5,6,7,8,9,10]\n"
   ]
  },
  {
   "cell_type": "code",
   "execution_count": 27,
   "id": "0b5e5ee4",
   "metadata": {},
   "outputs": [
    {
     "data": {
      "text/plain": [
       "[0, 1, 2, 3, 4, 5, 6, 7, 8, 9]"
      ]
     },
     "execution_count": 27,
     "metadata": {},
     "output_type": "execute_result"
    }
   ],
   "source": [
    "ab=range(0, 10)  \n",
    "list(ab)"
   ]
  },
  {
   "cell_type": "code",
   "execution_count": 28,
   "id": "24e42e30",
   "metadata": {},
   "outputs": [
    {
     "name": "stdout",
     "output_type": "stream",
     "text": [
      "[0, 1, 2, 3, 4, 5, 6, 7, 8, 9]\n"
     ]
    }
   ],
   "source": [
    "numbers = range(0, 10)  \n",
    "print(list(numbers))"
   ]
  },
  {
   "cell_type": "code",
   "execution_count": 29,
   "id": "762942a4",
   "metadata": {},
   "outputs": [
    {
     "data": {
      "text/plain": [
       "[0, 2, 4, 6, 8]"
      ]
     },
     "execution_count": 29,
     "metadata": {},
     "output_type": "execute_result"
    }
   ],
   "source": [
    "even_numbers = range(0, 10, 2)  \n",
    "list(even_numbers)"
   ]
  },
  {
   "cell_type": "code",
   "execution_count": 30,
   "id": "2972e839",
   "metadata": {},
   "outputs": [
    {
     "name": "stdout",
     "output_type": "stream",
     "text": [
      "[0, 1, 2, 3, 4]\n"
     ]
    }
   ],
   "source": [
    "numbers = list(range(5))\n",
    "print(numbers)"
   ]
  },
  {
   "cell_type": "code",
   "execution_count": 31,
   "id": "b341c588",
   "metadata": {},
   "outputs": [
    {
     "data": {
      "text/plain": [
       "[5, 4, 3, 2, 1]"
      ]
     },
     "execution_count": 31,
     "metadata": {},
     "output_type": "execute_result"
    }
   ],
   "source": [
    "countdown = range(5, 0, -1)  \n",
    "list(countdown)"
   ]
  },
  {
   "cell_type": "code",
   "execution_count": null,
   "id": "d472cb50",
   "metadata": {},
   "outputs": [],
   "source": [
    "# for i in list1([0,1,2,3,4,5])"
   ]
  },
  {
   "cell_type": "code",
   "execution_count": 32,
   "id": "7f3a804e",
   "metadata": {},
   "outputs": [
    {
     "name": "stdout",
     "output_type": "stream",
     "text": [
      "0\n",
      "1\n",
      "2\n",
      "3\n",
      "4\n",
      "5\n"
     ]
    }
   ],
   "source": [
    "for i in range(0,6):\n",
    "    print(i)"
   ]
  },
  {
   "cell_type": "code",
   "execution_count": 33,
   "id": "cb720e2c",
   "metadata": {},
   "outputs": [
    {
     "name": "stdout",
     "output_type": "stream",
     "text": [
      "0\n",
      "1\n",
      "2\n",
      "3\n",
      "4\n",
      "5\n",
      "6\n",
      "7\n",
      "8\n",
      "9\n"
     ]
    }
   ],
   "source": [
    "for i in range(0,10):\n",
    "    print(i)"
   ]
  },
  {
   "cell_type": "code",
   "execution_count": 34,
   "id": "3ac8a27d",
   "metadata": {},
   "outputs": [
    {
     "name": "stdout",
     "output_type": "stream",
     "text": [
      "0\n",
      "1\n",
      "2\n",
      "3\n",
      "4\n",
      "5\n"
     ]
    }
   ],
   "source": [
    "for i in range(0,6,1):\n",
    "    print(i)"
   ]
  },
  {
   "cell_type": "code",
   "execution_count": 35,
   "id": "ec41bf75",
   "metadata": {},
   "outputs": [
    {
     "name": "stdout",
     "output_type": "stream",
     "text": [
      "0\n",
      "2\n",
      "4\n"
     ]
    }
   ],
   "source": [
    "for i in range(0,6,2):\n",
    "    print(i)"
   ]
  },
  {
   "cell_type": "code",
   "execution_count": 36,
   "id": "8ff2c0b1",
   "metadata": {},
   "outputs": [
    {
     "name": "stdout",
     "output_type": "stream",
     "text": [
      "0\n",
      "2\n",
      "4\n",
      "6\n",
      "8\n"
     ]
    }
   ],
   "source": [
    "for i in range(0,10,2):\n",
    "    print(i)"
   ]
  },
  {
   "cell_type": "code",
   "execution_count": 37,
   "id": "c07a7749",
   "metadata": {},
   "outputs": [
    {
     "name": "stdout",
     "output_type": "stream",
     "text": [
      "0\n",
      "3\n",
      "6\n",
      "9\n"
     ]
    }
   ],
   "source": [
    "for i in range(0,10,3):\n",
    "    print(i)"
   ]
  },
  {
   "cell_type": "code",
   "execution_count": 38,
   "id": "868b2035",
   "metadata": {},
   "outputs": [
    {
     "name": "stdout",
     "output_type": "stream",
     "text": [
      "0\n",
      "5\n",
      "10\n",
      "15\n",
      "20\n",
      "25\n",
      "30\n",
      "35\n",
      "40\n",
      "45\n"
     ]
    }
   ],
   "source": [
    "for i in range(0,50,5):\n",
    "    print(i)"
   ]
  },
  {
   "cell_type": "code",
   "execution_count": 39,
   "id": "ed188803",
   "metadata": {},
   "outputs": [
    {
     "name": "stdout",
     "output_type": "stream",
     "text": [
      "the number is 12\n",
      "the number is 12\n",
      "the number is 13\n",
      "the number is 13\n",
      "the number is 141\n",
      "the number is 141\n",
      "the number is 15\n",
      "the number is 15\n",
      "the number is 16\n",
      "the number is 16\n"
     ]
    }
   ],
   "source": [
    "list1=[12,13,141,15,16]\n",
    "for num in list1:\n",
    "    print(f'the number is {num}')\n",
    "    print(\"the number is {}\".format(num))"
   ]
  },
  {
   "cell_type": "code",
   "execution_count": null,
   "id": "60167f18",
   "metadata": {},
   "outputs": [],
   "source": []
  },
  {
   "cell_type": "code",
   "execution_count": null,
   "id": "6bb18603",
   "metadata": {},
   "outputs": [],
   "source": []
  },
  {
   "cell_type": "code",
   "execution_count": null,
   "id": "da06ebd4",
   "metadata": {},
   "outputs": [],
   "source": []
  },
  {
   "cell_type": "markdown",
   "id": "c16dc064",
   "metadata": {},
   "source": [
    "# string functions/methods"
   ]
  },
  {
   "cell_type": "code",
   "execution_count": null,
   "id": "fe81f1ce",
   "metadata": {},
   "outputs": [],
   "source": [
    "1. capitalize()\n",
    "2. lower()\n",
    "3. upper()\n",
    "4. title()\n",
    "5. lstrip()\n",
    "6. rstrip()\n",
    "7. strip()\n",
    "8. replace()\n",
    "9. count()\n",
    "10. index()\n",
    "11. find()\n",
    "12. split()\n",
    "13. endswith()\n",
    "14. startswith()\n",
    "15. isalnum()\n",
    "16. isalpha()\n",
    "17. isdecimal()\n",
    "18. isdigit()\n",
    "19. isnumeric()\n",
    "20. islower()\n",
    "21. isupper()\n",
    "22. istitle()\n",
    "23. isspace()\n",
    "24. zfill()\n",
    "25. center()\n",
    "26. casefold()"
   ]
  },
  {
   "cell_type": "code",
   "execution_count": null,
   "id": "2ada40fa",
   "metadata": {},
   "outputs": [],
   "source": []
  }
 ],
 "metadata": {
  "kernelspec": {
   "display_name": "Python 3 (ipykernel)",
   "language": "python",
   "name": "python3"
  },
  "language_info": {
   "codemirror_mode": {
    "name": "ipython",
    "version": 3
   },
   "file_extension": ".py",
   "mimetype": "text/x-python",
   "name": "python",
   "nbconvert_exporter": "python",
   "pygments_lexer": "ipython3",
   "version": "3.13.5"
  }
 },
 "nbformat": 4,
 "nbformat_minor": 5
}
