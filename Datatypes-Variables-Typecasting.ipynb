{
 "cells": [
  {
   "cell_type": "markdown",
   "id": "e5c81acc",
   "metadata": {},
   "source": [
    "# heading 1"
   ]
  },
  {
   "cell_type": "markdown",
   "id": "9b8e2d90",
   "metadata": {},
   "source": [
    "## subheading 1"
   ]
  },
  {
   "cell_type": "code",
   "execution_count": 4,
   "id": "1dba2c71",
   "metadata": {},
   "outputs": [
    {
     "name": "stdout",
     "output_type": "stream",
     "text": [
      "hello everyone\n"
     ]
    }
   ],
   "source": [
    "print(\"hello everyone\")"
   ]
  },
  {
   "cell_type": "code",
   "execution_count": null,
   "id": "1a7d23af",
   "metadata": {},
   "outputs": [],
   "source": []
  },
  {
   "cell_type": "markdown",
   "id": "e5d2d142",
   "metadata": {},
   "source": [
    "## What is Python?"
   ]
  },
  {
   "cell_type": "code",
   "execution_count": null,
   "id": "99ff84d5",
   "metadata": {},
   "outputs": [],
   "source": [
    "Python is a high-level, interpreted, general-purpose programming language.\n",
    "\n",
    "High-level: Closer to human language, easier to read and write compared to low-level languages.\n",
    "Interpreted: Code is executed line by line, making it easier to test and debug.\n",
    "General-purpose: Can be used for a wide variety of tasks."
   ]
  },
  {
   "cell_type": "code",
   "execution_count": null,
   "id": "4a376fbf",
   "metadata": {},
   "outputs": [],
   "source": [
    "Benefits of Python:\n",
    "\n",
    "Easy to Learn and Read: Simple syntax\n",
    "Extensive Libraries and Frameworks (NumPy, Pandas, scikit learn, tensorflow, keras, pytorch, nltk, textblob, spacy, huggingface, flask, django, restAPI)\n",
    "Versatile: Used in web development, data science, AI, machine learning, automation, and more\n",
    "Platform Independent: Code can run on different operating systems (Windows, macOS, Linux) without significant changes."
   ]
  },
  {
   "cell_type": "code",
   "execution_count": null,
   "id": "c832904e",
   "metadata": {},
   "outputs": [],
   "source": [
    "extensions: .ipynb >> Interactive Python Notebook\n",
    "    .py python file"
   ]
  },
  {
   "cell_type": "markdown",
   "id": "5eaae5ff",
   "metadata": {},
   "source": [
    "## Execute cell"
   ]
  },
  {
   "cell_type": "code",
   "execution_count": null,
   "id": "2a050b8e",
   "metadata": {},
   "outputs": [],
   "source": [
    "execute cell: \n",
    "    1. ctrl+ enter >> run current cell\n",
    "    2. shift + enter >> execute current cell and goto next cell"
   ]
  },
  {
   "cell_type": "markdown",
   "id": "831f7905",
   "metadata": {},
   "source": [
    "## Print"
   ]
  },
  {
   "cell_type": "code",
   "execution_count": 1,
   "id": "f602a514",
   "metadata": {},
   "outputs": [
    {
     "name": "stdout",
     "output_type": "stream",
     "text": [
      "this is output\n"
     ]
    }
   ],
   "source": [
    "print(\"this is output\")"
   ]
  },
  {
   "cell_type": "code",
   "execution_count": 2,
   "id": "ae35be9b",
   "metadata": {},
   "outputs": [
    {
     "name": "stdout",
     "output_type": "stream",
     "text": [
      "hello everyone\n"
     ]
    }
   ],
   "source": [
    "print('hello everyone')"
   ]
  },
  {
   "cell_type": "code",
   "execution_count": 3,
   "id": "1c8e9a43",
   "metadata": {},
   "outputs": [
    {
     "name": "stdout",
     "output_type": "stream",
     "text": [
      "this is the class for python\n"
     ]
    }
   ],
   "source": [
    "print(\"this is the class for python\")"
   ]
  },
  {
   "cell_type": "code",
   "execution_count": 4,
   "id": "a36ce8e1",
   "metadata": {},
   "outputs": [
    {
     "name": "stdout",
     "output_type": "stream",
     "text": [
      "34\n"
     ]
    }
   ],
   "source": [
    "print(34)"
   ]
  },
  {
   "cell_type": "code",
   "execution_count": 5,
   "id": "5cd0dcfe",
   "metadata": {},
   "outputs": [],
   "source": [
    "a=45\n",
    "b=23\n",
    "c=34\n",
    "d=a+b+c"
   ]
  },
  {
   "cell_type": "code",
   "execution_count": 6,
   "id": "95fed493",
   "metadata": {},
   "outputs": [
    {
     "name": "stdout",
     "output_type": "stream",
     "text": [
      "102\n"
     ]
    }
   ],
   "source": [
    "print(d)"
   ]
  },
  {
   "cell_type": "code",
   "execution_count": 7,
   "id": "8e740dcb",
   "metadata": {},
   "outputs": [
    {
     "name": "stdout",
     "output_type": "stream",
     "text": [
      "data science and machine learning\n"
     ]
    }
   ],
   "source": [
    "string1=\"data science and machine learning\"\n",
    "print(string1)"
   ]
  },
  {
   "cell_type": "markdown",
   "id": "ffaa4070",
   "metadata": {},
   "source": [
    "## comments"
   ]
  },
  {
   "cell_type": "code",
   "execution_count": null,
   "id": "5ca184c8",
   "metadata": {},
   "outputs": [],
   "source": [
    "Comments: \n",
    "    >> used to explain code\n",
    "    >> it makes code readable\n",
    "    >> Comments/ commented lines can prevent execution of code\n",
    "    >> Explaining the logic behind the code\n",
    "    >> Temporarily disabling parts of the code for debugging"
   ]
  },
  {
   "cell_type": "code",
   "execution_count": null,
   "id": "02f99d4c",
   "metadata": {},
   "outputs": [],
   "source": [
    "# this is comment- code i am going to write is for filtering the odd and oven number"
   ]
  },
  {
   "cell_type": "code",
   "execution_count": null,
   "id": "5b9bf305",
   "metadata": {},
   "outputs": [],
   "source": [
    "# this is first line\n",
    "# this is second line\n",
    "# this is third line"
   ]
  },
  {
   "cell_type": "code",
   "execution_count": null,
   "id": "ec9cc2bc",
   "metadata": {},
   "outputs": [],
   "source": [
    "1. single line comment \n",
    "use # at the begining of line\n",
    "2. for multiple line comment >> control + / \n",
    "3. triple quotes>>>    \"\"\" write here \"\"\""
   ]
  },
  {
   "cell_type": "markdown",
   "id": "67eb23cc",
   "metadata": {},
   "source": [
    "## Indentation:"
   ]
  },
  {
   "cell_type": "code",
   "execution_count": null,
   "id": "4d5ee45c",
   "metadata": {},
   "outputs": [],
   "source": [
    "Indentation:\n",
    "    \n",
    "space at the beginning\n",
    "\n",
    "Python uses indentation (spaces/tabs) to define code blocks"
   ]
  },
  {
   "cell_type": "code",
   "execution_count": 8,
   "id": "5e9a2a0e",
   "metadata": {},
   "outputs": [
    {
     "name": "stdout",
     "output_type": "stream",
     "text": [
      " we are learning indentation\n"
     ]
    }
   ],
   "source": [
    "if 10> 4:\n",
    "    print(\" we are learning indentation\")"
   ]
  },
  {
   "cell_type": "code",
   "execution_count": 9,
   "id": "09ef4df1",
   "metadata": {},
   "outputs": [
    {
     "name": "stdout",
     "output_type": "stream",
     "text": [
      "Five is greater than two!\n"
     ]
    }
   ],
   "source": [
    "if 5 > 2:  \n",
    "    print(\"Five is greater than two!\")  # Indented block  "
   ]
  },
  {
   "cell_type": "markdown",
   "id": "d2e5a35d",
   "metadata": {},
   "source": [
    "# Variables"
   ]
  },
  {
   "cell_type": "code",
   "execution_count": null,
   "id": "92908ff1",
   "metadata": {},
   "outputs": [],
   "source": [
    ">> Container to store data\n",
    ">> No need to specify data type of variable\n",
    ">> = sign is used to assign values to variable"
   ]
  },
  {
   "cell_type": "code",
   "execution_count": null,
   "id": "b834e95d",
   "metadata": {},
   "outputs": [],
   "source": [
    "Rules for Defining Variables:\n",
    "    >> Start with a letter/underscore (_name).\n",
    "    >> They cannot start with a number.\n",
    "    >> They are case-sensitive (age is different from Age).\n",
    "    >> Avoid using Python keywords (e.g., if, else, for, while) as variable names (reserved keywords)\n",
    "    >> Variable names should be descriptive and meaningful (not a rule)"
   ]
  },
  {
   "cell_type": "code",
   "execution_count": 11,
   "id": "ea274171",
   "metadata": {},
   "outputs": [
    {
     "data": {
      "text/plain": [
       "'this is variable'"
      ]
     },
     "execution_count": 11,
     "metadata": {},
     "output_type": "execute_result"
    }
   ],
   "source": [
    "variable1=\"this is variable\"\n",
    "variable1"
   ]
  },
  {
   "cell_type": "code",
   "execution_count": 12,
   "id": "2ca9deae",
   "metadata": {},
   "outputs": [
    {
     "name": "stdout",
     "output_type": "stream",
     "text": [
      "[1, 2, 3]\n",
      "this is variable\n"
     ]
    }
   ],
   "source": [
    "variable2=[1,2,3]\n",
    "variable2\n",
    "print(variable2)\n",
    "print(variable1)"
   ]
  },
  {
   "cell_type": "code",
   "execution_count": 13,
   "id": "c7e6d389",
   "metadata": {},
   "outputs": [
    {
     "data": {
      "text/plain": [
       "str"
      ]
     },
     "execution_count": 13,
     "metadata": {},
     "output_type": "execute_result"
    }
   ],
   "source": [
    "type(variable1)"
   ]
  },
  {
   "cell_type": "code",
   "execution_count": 14,
   "id": "e1b2e68c",
   "metadata": {},
   "outputs": [
    {
     "data": {
      "text/plain": [
       "list"
      ]
     },
     "execution_count": 14,
     "metadata": {},
     "output_type": "execute_result"
    }
   ],
   "source": [
    "type(variable2)"
   ]
  },
  {
   "cell_type": "code",
   "execution_count": 15,
   "id": "16e62ebe",
   "metadata": {},
   "outputs": [
    {
     "name": "stdout",
     "output_type": "stream",
     "text": [
      "<class 'str'>\n"
     ]
    }
   ],
   "source": [
    "print(type(variable1))"
   ]
  },
  {
   "cell_type": "code",
   "execution_count": 16,
   "id": "c7414684",
   "metadata": {},
   "outputs": [
    {
     "name": "stdout",
     "output_type": "stream",
     "text": [
      "this is the message that will be showed to the uservishnu\n"
     ]
    }
   ],
   "source": [
    "var=input(\"this is the message that will be showed to the user\")"
   ]
  },
  {
   "cell_type": "code",
   "execution_count": 17,
   "id": "c6978d04",
   "metadata": {},
   "outputs": [
    {
     "name": "stdout",
     "output_type": "stream",
     "text": [
      "please enter your age 56\n"
     ]
    }
   ],
   "source": [
    "var2=input(\"please enter your age \")"
   ]
  },
  {
   "cell_type": "code",
   "execution_count": 18,
   "id": "a647ffe9",
   "metadata": {},
   "outputs": [
    {
     "name": "stdout",
     "output_type": "stream",
     "text": [
      "please enter your age 89\n"
     ]
    }
   ],
   "source": [
    "var4=input(\"please enter your age \")"
   ]
  },
  {
   "cell_type": "code",
   "execution_count": 19,
   "id": "79c91688",
   "metadata": {},
   "outputs": [],
   "source": [
    "string1=\"hello everyone\""
   ]
  },
  {
   "cell_type": "code",
   "execution_count": 20,
   "id": "fa42af73",
   "metadata": {},
   "outputs": [
    {
     "data": {
      "text/plain": [
       "str"
      ]
     },
     "execution_count": 20,
     "metadata": {},
     "output_type": "execute_result"
    }
   ],
   "source": [
    "type(string1)"
   ]
  },
  {
   "cell_type": "code",
   "execution_count": null,
   "id": "846f980c",
   "metadata": {},
   "outputs": [],
   "source": [
    "12variable=\"ghj\"\n",
    "12variable"
   ]
  },
  {
   "cell_type": "code",
   "execution_count": 27,
   "id": "0c4728fd",
   "metadata": {},
   "outputs": [
    {
     "name": "stdout",
     "output_type": "stream",
     "text": [
      "this is example\n"
     ]
    }
   ],
   "source": [
    "abc=\"this is example\"\n",
    "abc\n",
    "print(abc)"
   ]
  },
  {
   "cell_type": "code",
   "execution_count": 22,
   "id": "43ea5035",
   "metadata": {},
   "outputs": [],
   "source": [
    "del abc"
   ]
  },
  {
   "cell_type": "code",
   "execution_count": 23,
   "id": "597843ce",
   "metadata": {},
   "outputs": [
    {
     "ename": "NameError",
     "evalue": "name 'abc' is not defined",
     "output_type": "error",
     "traceback": [
      "\u001b[1;31m---------------------------------------------------------------------------\u001b[0m",
      "\u001b[1;31mNameError\u001b[0m                                 Traceback (most recent call last)",
      "Input \u001b[1;32mIn [23]\u001b[0m, in \u001b[0;36m<cell line: 1>\u001b[1;34m()\u001b[0m\n\u001b[1;32m----> 1\u001b[0m \u001b[43mabc\u001b[49m\n",
      "\u001b[1;31mNameError\u001b[0m: name 'abc' is not defined"
     ]
    }
   ],
   "source": [
    "abc #because we have deleted the variable abc"
   ]
  },
  {
   "cell_type": "code",
   "execution_count": 24,
   "id": "a39283fb",
   "metadata": {},
   "outputs": [
    {
     "data": {
      "text/plain": [
       "[12, 34, 56]"
      ]
     },
     "execution_count": 24,
     "metadata": {},
     "output_type": "execute_result"
    }
   ],
   "source": [
    "list1=[12,34,56]\n",
    "list1"
   ]
  },
  {
   "cell_type": "code",
   "execution_count": 25,
   "id": "365af855",
   "metadata": {},
   "outputs": [
    {
     "name": "stdout",
     "output_type": "stream",
     "text": [
      "[12, 34, 56]\n"
     ]
    }
   ],
   "source": [
    "print(list1)"
   ]
  }
 ],
 "metadata": {
  "kernelspec": {
   "display_name": "Python 3 (ipykernel)",
   "language": "python",
   "name": "python3"
  },
  "language_info": {
   "codemirror_mode": {
    "name": "ipython",
    "version": 3
   },
   "file_extension": ".py",
   "mimetype": "text/x-python",
   "name": "python",
   "nbconvert_exporter": "python",
   "pygments_lexer": "ipython3",
   "version": "3.9.12"
  }
 },
 "nbformat": 4,
 "nbformat_minor": 5
}
