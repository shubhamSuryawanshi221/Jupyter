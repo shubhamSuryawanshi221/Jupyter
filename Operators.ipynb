{
 "cells": [
  {
   "cell_type": "markdown",
   "id": "5b4231db-5a5e-47f6-807b-d0be16dbded5",
   "metadata": {},
   "source": [
    "Access Characters by using loop:"
   ]
  },
  {
   "cell_type": "code",
   "execution_count": 3,
   "id": "5145871f-7e45-4beb-9efb-ddbc7372d897",
   "metadata": {},
   "outputs": [
    {
     "name": "stdout",
     "output_type": "stream",
     "text": [
      "123456789\n",
      "1\n",
      "*********\n",
      "2\n",
      "*********\n",
      "3\n",
      "*********\n",
      "4\n",
      "*********\n",
      "5\n",
      "*********\n",
      "6\n",
      "*********\n",
      "7\n",
      "*********\n",
      "8\n",
      "*********\n",
      "9\n",
      "*********\n"
     ]
    }
   ],
   "source": [
    "string='123456789'\n",
    "print(string)\n",
    "for char in string:\n",
    "    print(char)\n",
    "    print(\"*********\")"
   ]
  },
  {
   "cell_type": "code",
   "execution_count": 4,
   "id": "4d078296-5ef9-4345-ba85-a4d446f3bc86",
   "metadata": {},
   "outputs": [
    {
     "name": "stdout",
     "output_type": "stream",
     "text": [
      "P\n",
      "*********\n",
      "y\n",
      "*********\n",
      "t\n",
      "*********\n",
      "h\n",
      "*********\n",
      "o\n",
      "*********\n",
      "n\n",
      "*********\n"
     ]
    }
   ],
   "source": [
    "string='Python'\n",
    "\n",
    "for char in string:\n",
    "    print(char)\n",
    "    print(\"*********\")"
   ]
  },
  {
   "cell_type": "code",
   "execution_count": null,
   "id": "5ecd6162-3212-4550-b3fc-e08a7215b12a",
   "metadata": {},
   "outputs": [],
   "source": [
    "Dot Formating"
   ]
  },
  {
   "cell_type": "code",
   "execution_count": 7,
   "id": "ef0c1e5f-1f47-465b-9699-fbc79e6615c2",
   "metadata": {},
   "outputs": [
    {
     "name": "stdout",
     "output_type": "stream",
     "text": [
      "Hello, Amar! You are 25 Years Old.\n"
     ]
    }
   ],
   "source": [
    "name=\"Amar\"\n",
    "age=25\n",
    "print(f\"Hello, {name}! You are {age} Years Old.\")"
   ]
  },
  {
   "cell_type": "code",
   "execution_count": 8,
   "id": "4e057c52-3b90-45cf-aae5-78c4b306b1c6",
   "metadata": {},
   "outputs": [
    {
     "name": "stdout",
     "output_type": "stream",
     "text": [
      "5+3=8\n"
     ]
    }
   ],
   "source": [
    "a=5\n",
    "b=3\n",
    "print(f\"{a}+{b}={a+b}\") "
   ]
  },
  {
   "cell_type": "markdown",
   "id": "36d6b140-af93-473a-bd10-ce0958fd2abd",
   "metadata": {},
   "source": [
    "Enumerate Function"
   ]
  },
  {
   "cell_type": "code",
   "execution_count": 14,
   "id": "82533505-569a-4b72-a624-bf5171aaf38b",
   "metadata": {},
   "outputs": [
    {
     "name": "stdout",
     "output_type": "stream",
     "text": [
      "character at index (index): H\n",
      "character at index (index): e\n",
      "character at index (index): l\n",
      "character at index (index): l\n",
      "character at index (index): o\n"
     ]
    }
   ],
   "source": [
    "my_string = \"Hello\"\n",
    "for index,   character in enumerate(my_string):\n",
    "    print(f\"character at index (index): {character}\")"
   ]
  },
  {
   "cell_type": "code",
   "execution_count": 15,
   "id": "056a0812-d8f0-4b56-8354-c70b51b42ebb",
   "metadata": {},
   "outputs": [
    {
     "ename": "_IncompleteInputError",
     "evalue": "incomplete input (1566586654.py, line 3)",
     "output_type": "error",
     "traceback": [
      "  \u001b[36mCell\u001b[39m\u001b[36m \u001b[39m\u001b[32mIn[15]\u001b[39m\u001b[32m, line 3\u001b[39m\n\u001b[31m    \u001b[39m\n    ^\n\u001b[31m_IncompleteInputError\u001b[39m\u001b[31m:\u001b[39m incomplete input\n"
     ]
    }
   ],
   "source": [
    "string = 'python'\n",
    "for index, value in enumerate(string):\n",
    "    "
   ]
  },
  {
   "cell_type": "code",
   "execution_count": null,
   "id": "5047d268-52a6-4a6b-81c3-893fd99c8e06",
   "metadata": {},
   "outputs": [],
   "source": [
    "Range Function"
   ]
  },
  {
   "cell_type": "code",
   "execution_count": null,
   "id": "46ebdab1-6d48-4f14-a984-bbff0e2ac006",
   "metadata": {},
   "outputs": [],
   "source": [
    "Syntax:\n",
    "range(start, stop, step)"
   ]
  },
  {
   "cell_type": "code",
   "execution_count": null,
   "id": "fe4d9d9d-b980-47f5-984b-8f10f64fa508",
   "metadata": {},
   "outputs": [],
   "source": [
    "num=[1,2,3,4,5,6,7,8,9,10]"
   ]
  },
  {
   "cell_type": "code",
   "execution_count": 17,
   "id": "418dcaf5-6766-4989-a41e-8d04b8fd6036",
   "metadata": {},
   "outputs": [
    {
     "data": {
      "text/plain": [
       "[0, 1, 2, 3, 4, 5, 6, 7, 8, 9]"
      ]
     },
     "execution_count": 17,
     "metadata": {},
     "output_type": "execute_result"
    }
   ],
   "source": [
    "ab=range(0, 10)\n",
    "list(ab)"
   ]
  },
  {
   "cell_type": "code",
   "execution_count": 19,
   "id": "f00ec68d-2533-4cf4-9a6c-9f7f4d3b0c06",
   "metadata": {},
   "outputs": [
    {
     "name": "stdout",
     "output_type": "stream",
     "text": [
      "range(0, 5)\n"
     ]
    }
   ],
   "source": [
    "numbers=range(0, 5)\n",
    "print(numbers)"
   ]
  },
  {
   "cell_type": "code",
   "execution_count": null,
   "id": "f7a8f085-8b64-449a-b551-511784b67ea4",
   "metadata": {},
   "outputs": [],
   "source": []
  }
 ],
 "metadata": {
  "kernelspec": {
   "display_name": "Python 3 (ipykernel)",
   "language": "python",
   "name": "python3"
  },
  "language_info": {
   "codemirror_mode": {
    "name": "ipython",
    "version": 3
   },
   "file_extension": ".py",
   "mimetype": "text/x-python",
   "name": "python",
   "nbconvert_exporter": "python",
   "pygments_lexer": "ipython3",
   "version": "3.13.5"
  }
 },
 "nbformat": 4,
 "nbformat_minor": 5
}
