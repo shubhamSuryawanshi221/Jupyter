{
 "cells": [
  {
   "cell_type": "markdown",
   "id": "5597ccd9",
   "metadata": {},
   "source": [
    "## merge() function"
   ]
  },
  {
   "cell_type": "code",
   "execution_count": null,
   "id": "f9a42bc3",
   "metadata": {},
   "outputs": [],
   "source": [
    "Join two DataFrames like SQL tables.There are different types of joins in merge."
   ]
  },
  {
   "cell_type": "code",
   "execution_count": null,
   "id": "7df06f89",
   "metadata": {},
   "outputs": [],
   "source": [
    "# 1. Inner Join >> Returns only matching records from both DataFrames\n"
   ]
  },
  {
   "cell_type": "code",
   "execution_count": 3,
   "id": "68a65166",
   "metadata": {},
   "outputs": [
    {
     "name": "stdout",
     "output_type": "stream",
     "text": [
      "        City  Population (M)\n",
      "0     Mumbai            20.4\n",
      "1      Delhi            19.1\n",
      "2  Bengaluru            13.5\n",
      "3    Chennai            11.5\n",
      "****************************************\n",
      "     City  Annual Tourists (M)\n",
      "0  Mumbai                  5.8\n",
      "1   Delhi                  6.2\n",
      "2  Jaipur                  3.5\n",
      "****************************************\n",
      "Inner Join Result:\n",
      "     City  Population (M)  Annual Tourists (M)\n",
      "0  Mumbai            20.4                  5.8\n",
      "1   Delhi            19.1                  6.2\n"
     ]
    }
   ],
   "source": [
    "import pandas as pd\n",
    "\n",
    "# City population data\n",
    "population = pd.DataFrame({\n",
    "    'City': ['Mumbai', 'Delhi', 'Bengaluru', 'Chennai'],\n",
    "    'Population (M)': [20.4, 19.1, 13.5, 11.5]\n",
    "})\n",
    "\n",
    "# Tourism data\n",
    "tourism = pd.DataFrame({\n",
    "    'City': ['Mumbai', 'Delhi', 'Jaipur'],\n",
    "    'Annual Tourists (M)': [5.8, 6.2, 3.5]\n",
    "})\n",
    "\n",
    "inner_merged = pd.merge(population, tourism, on='City', how='inner')\n",
    "\n",
    "# Specifies the key column(s) used to merge DataFrames.\n",
    "\n",
    "\n",
    "print(population)\n",
    "print(\"*\"*40)\n",
    "print(tourism)\n",
    "print(\"*\"*40)\n",
    "print(\"Inner Join Result:\")\n",
    "print(inner_merged)"
   ]
  },
  {
   "cell_type": "code",
   "execution_count": null,
   "id": "f5af9f53",
   "metadata": {},
   "outputs": [],
   "source": [
    "# 2. Left Join\n",
    "Returns all records from left DF + matching from right DF"
   ]
  },
  {
   "cell_type": "code",
   "execution_count": 4,
   "id": "6f4f9d90",
   "metadata": {},
   "outputs": [
    {
     "name": "stdout",
     "output_type": "stream",
     "text": [
      "\n",
      "Left Join Result:\n",
      "        City  Population (M)  Annual Tourists (M)\n",
      "0     Mumbai            20.4                  5.8\n",
      "1      Delhi            19.1                  6.2\n",
      "2  Bengaluru            13.5                  NaN\n",
      "3    Chennai            11.5                  NaN\n"
     ]
    }
   ],
   "source": [
    "left_merged = pd.merge(population, tourism, on='City', how='left')\n",
    "print(\"\\nLeft Join Result:\")\n",
    "print(left_merged)"
   ]
  },
  {
   "cell_type": "code",
   "execution_count": null,
   "id": "9e9eaa53",
   "metadata": {},
   "outputs": [],
   "source": [
    "# 3. Right Join\n",
    "Returns all records from right DF + matching records from left DF"
   ]
  },
  {
   "cell_type": "code",
   "execution_count": 5,
   "id": "d0d92c48",
   "metadata": {
    "scrolled": true
   },
   "outputs": [
    {
     "name": "stdout",
     "output_type": "stream",
     "text": [
      "\n",
      "Right Join Result:\n",
      "     City  Population (M)  Annual Tourists (M)\n",
      "0  Mumbai            20.4                  5.8\n",
      "1   Delhi            19.1                  6.2\n",
      "2  Jaipur             NaN                  3.5\n"
     ]
    }
   ],
   "source": [
    "right_merged = pd.merge(population, tourism, on='City', how='right')\n",
    "print(\"\\nRight Join Result:\")\n",
    "print(right_merged)"
   ]
  },
  {
   "cell_type": "code",
   "execution_count": null,
   "id": "7a6b662b",
   "metadata": {},
   "outputs": [],
   "source": [
    "# 4. Outer Join\n",
    "Returns all records from both DFs"
   ]
  },
  {
   "cell_type": "code",
   "execution_count": 6,
   "id": "92a7e3bf",
   "metadata": {},
   "outputs": [
    {
     "name": "stdout",
     "output_type": "stream",
     "text": [
      "\n",
      "Outer Join Result:\n",
      "        City  Population (M)  Annual Tourists (M)\n",
      "0     Mumbai            20.4                  5.8\n",
      "1      Delhi            19.1                  6.2\n",
      "2  Bengaluru            13.5                  NaN\n",
      "3    Chennai            11.5                  NaN\n",
      "4     Jaipur             NaN                  3.5\n"
     ]
    }
   ],
   "source": [
    "outer_merged = pd.merge(population, tourism, on='City', how='outer')\n",
    "print(\"\\nOuter Join Result:\")\n",
    "print(outer_merged)"
   ]
  },
  {
   "cell_type": "code",
   "execution_count": null,
   "id": "90ab91f0",
   "metadata": {},
   "outputs": [],
   "source": []
  },
  {
   "cell_type": "code",
   "execution_count": 1,
   "id": "3cc627f0",
   "metadata": {},
   "outputs": [
    {
     "name": "stdout",
     "output_type": "stream",
     "text": [
      "Original DataFrame:\n",
      "   emp_id          name       city  salary department  experience\n",
      "0     101  Aarav Sharma     Mumbai   75000      Sales           3\n",
      "1     102   Priya Patel      Delhi   92000         HR           5\n",
      "2     103   Rohan Singh  Bangalore   68000         IT           2\n",
      "3     104  Anjali Gupta     Mumbai  115000      Sales           7\n",
      "4     105  Vikram Reddy    Chennai   82000         IT           4\n",
      "5     106    Neha Desai      Delhi   55000  Marketing           1\n",
      "6     107    Arun Kumar    Kolkata   98000         IT           6\n",
      "7     108  Deepika Iyer  Hyderabad   72000         HR           2\n",
      "8     109  Suresh Menon       Pune  105000      Sales           8\n",
      "9     110  Kavita Joshi  Ahmedabad   61000  Marketing           3\n"
     ]
    },
    {
     "data": {
      "text/html": [
       "<div>\n",
       "<style scoped>\n",
       "    .dataframe tbody tr th:only-of-type {\n",
       "        vertical-align: middle;\n",
       "    }\n",
       "\n",
       "    .dataframe tbody tr th {\n",
       "        vertical-align: top;\n",
       "    }\n",
       "\n",
       "    .dataframe thead th {\n",
       "        text-align: right;\n",
       "    }\n",
       "</style>\n",
       "<table border=\"1\" class=\"dataframe\">\n",
       "  <thead>\n",
       "    <tr style=\"text-align: right;\">\n",
       "      <th></th>\n",
       "      <th>emp_id</th>\n",
       "      <th>name</th>\n",
       "      <th>city</th>\n",
       "      <th>salary</th>\n",
       "      <th>department</th>\n",
       "      <th>experience</th>\n",
       "    </tr>\n",
       "  </thead>\n",
       "  <tbody>\n",
       "    <tr>\n",
       "      <th>0</th>\n",
       "      <td>101</td>\n",
       "      <td>Aarav Sharma</td>\n",
       "      <td>Mumbai</td>\n",
       "      <td>75000</td>\n",
       "      <td>Sales</td>\n",
       "      <td>3</td>\n",
       "    </tr>\n",
       "    <tr>\n",
       "      <th>1</th>\n",
       "      <td>102</td>\n",
       "      <td>Priya Patel</td>\n",
       "      <td>Delhi</td>\n",
       "      <td>92000</td>\n",
       "      <td>HR</td>\n",
       "      <td>5</td>\n",
       "    </tr>\n",
       "    <tr>\n",
       "      <th>2</th>\n",
       "      <td>103</td>\n",
       "      <td>Rohan Singh</td>\n",
       "      <td>Bangalore</td>\n",
       "      <td>68000</td>\n",
       "      <td>IT</td>\n",
       "      <td>2</td>\n",
       "    </tr>\n",
       "    <tr>\n",
       "      <th>3</th>\n",
       "      <td>104</td>\n",
       "      <td>Anjali Gupta</td>\n",
       "      <td>Mumbai</td>\n",
       "      <td>115000</td>\n",
       "      <td>Sales</td>\n",
       "      <td>7</td>\n",
       "    </tr>\n",
       "    <tr>\n",
       "      <th>4</th>\n",
       "      <td>105</td>\n",
       "      <td>Vikram Reddy</td>\n",
       "      <td>Chennai</td>\n",
       "      <td>82000</td>\n",
       "      <td>IT</td>\n",
       "      <td>4</td>\n",
       "    </tr>\n",
       "    <tr>\n",
       "      <th>5</th>\n",
       "      <td>106</td>\n",
       "      <td>Neha Desai</td>\n",
       "      <td>Delhi</td>\n",
       "      <td>55000</td>\n",
       "      <td>Marketing</td>\n",
       "      <td>1</td>\n",
       "    </tr>\n",
       "    <tr>\n",
       "      <th>6</th>\n",
       "      <td>107</td>\n",
       "      <td>Arun Kumar</td>\n",
       "      <td>Kolkata</td>\n",
       "      <td>98000</td>\n",
       "      <td>IT</td>\n",
       "      <td>6</td>\n",
       "    </tr>\n",
       "    <tr>\n",
       "      <th>7</th>\n",
       "      <td>108</td>\n",
       "      <td>Deepika Iyer</td>\n",
       "      <td>Hyderabad</td>\n",
       "      <td>72000</td>\n",
       "      <td>HR</td>\n",
       "      <td>2</td>\n",
       "    </tr>\n",
       "    <tr>\n",
       "      <th>8</th>\n",
       "      <td>109</td>\n",
       "      <td>Suresh Menon</td>\n",
       "      <td>Pune</td>\n",
       "      <td>105000</td>\n",
       "      <td>Sales</td>\n",
       "      <td>8</td>\n",
       "    </tr>\n",
       "    <tr>\n",
       "      <th>9</th>\n",
       "      <td>110</td>\n",
       "      <td>Kavita Joshi</td>\n",
       "      <td>Ahmedabad</td>\n",
       "      <td>61000</td>\n",
       "      <td>Marketing</td>\n",
       "      <td>3</td>\n",
       "    </tr>\n",
       "  </tbody>\n",
       "</table>\n",
       "</div>"
      ],
      "text/plain": [
       "   emp_id          name       city  salary department  experience\n",
       "0     101  Aarav Sharma     Mumbai   75000      Sales           3\n",
       "1     102   Priya Patel      Delhi   92000         HR           5\n",
       "2     103   Rohan Singh  Bangalore   68000         IT           2\n",
       "3     104  Anjali Gupta     Mumbai  115000      Sales           7\n",
       "4     105  Vikram Reddy    Chennai   82000         IT           4\n",
       "5     106    Neha Desai      Delhi   55000  Marketing           1\n",
       "6     107    Arun Kumar    Kolkata   98000         IT           6\n",
       "7     108  Deepika Iyer  Hyderabad   72000         HR           2\n",
       "8     109  Suresh Menon       Pune  105000      Sales           8\n",
       "9     110  Kavita Joshi  Ahmedabad   61000  Marketing           3"
      ]
     },
     "execution_count": 1,
     "metadata": {},
     "output_type": "execute_result"
    }
   ],
   "source": [
    "import pandas as pd\n",
    "import numpy as np\n",
    "\n",
    "#sample dataset\n",
    "data = {\n",
    "    'emp_id': [101, 102, 103, 104, 105, 106, 107, 108, 109, 110],\n",
    "    'name': ['Aarav Sharma', 'Priya Patel', 'Rohan Singh', 'Anjali Gupta', \n",
    "            'Vikram Reddy', 'Neha Desai', 'Arun Kumar', 'Deepika Iyer', \n",
    "            'Suresh Menon', 'Kavita Joshi'],\n",
    "    'city': ['Mumbai', 'Delhi', 'Bangalore', 'Mumbai', 'Chennai', \n",
    "            'Delhi', 'Kolkata', 'Hyderabad', 'Pune', 'Ahmedabad'],\n",
    "    'salary': [75000, 92000, 68000, 115000, 82000, \n",
    "              55000, 98000, 72000, 105000, 61000],\n",
    "    'department': ['Sales', 'HR', 'IT', 'Sales', 'IT', \n",
    "                  'Marketing', 'IT', 'HR', 'Sales', 'Marketing'],\n",
    "    'experience': [3, 5, 2, 7, 4, 1, 6, 2, 8, 3]\n",
    "}\n",
    "\n",
    "df = pd.DataFrame(data)\n",
    "print(\"Original DataFrame:\")\n",
    "print(df)\n",
    "df"
   ]
  },
  {
   "cell_type": "markdown",
   "id": "778b74b1",
   "metadata": {},
   "source": [
    "## apply() Function"
   ]
  },
  {
   "cell_type": "markdown",
   "id": "df975f18",
   "metadata": {},
   "source": [
    "The apply() function lets you apply a custom function to each element, row, or column of a DataFrame/Series"
   ]
  },
  {
   "cell_type": "code",
   "execution_count": 2,
   "id": "9636d70f",
   "metadata": {},
   "outputs": [
    {
     "name": "stdout",
     "output_type": "stream",
     "text": [
      "           name  salary  updated_salary\n",
      "0  Aarav Sharma   75000         82500.0\n",
      "1   Priya Patel   92000        101200.0\n",
      "2   Rohan Singh   68000         74800.0\n",
      "3  Anjali Gupta  115000        126500.0\n",
      "4  Vikram Reddy   82000         90200.0\n",
      "5    Neha Desai   55000         60500.0\n",
      "6    Arun Kumar   98000        107800.0\n",
      "7  Deepika Iyer   72000         79200.0\n",
      "8  Suresh Menon  105000        115500.0\n",
      "9  Kavita Joshi   61000         67100.0\n"
     ]
    }
   ],
   "source": [
    "#10% bonus to employees.\n",
    "df[\"updated_salary\"] = df[\"salary\"].apply(lambda x: x * 1.10)\n",
    "print(df[[\"name\",\"salary\",\"updated_salary\"]])\n"
   ]
  },
  {
   "cell_type": "code",
   "execution_count": 3,
   "id": "73f1961b",
   "metadata": {},
   "outputs": [
    {
     "name": "stdout",
     "output_type": "stream",
     "text": [
      "           name  experience emp_level\n",
      "0  Aarav Sharma           3    Junior\n",
      "1   Priya Patel           5    Senior\n",
      "2   Rohan Singh           2    Junior\n",
      "3  Anjali Gupta           7    Senior\n",
      "4  Vikram Reddy           4    Junior\n",
      "5    Neha Desai           1    Junior\n",
      "6    Arun Kumar           6    Senior\n",
      "7  Deepika Iyer           2    Junior\n",
      "8  Suresh Menon           8    Senior\n",
      "9  Kavita Joshi           3    Junior\n"
     ]
    }
   ],
   "source": [
    "def experience_level(x):\n",
    "    return \"Senior\" if x >= 5 else \"Junior\"\n",
    "\n",
    "df[\"emp_level\"] = df[\"experience\"].apply(experience_level)\n",
    "print(df[[\"name\", \"experience\", \"emp_level\"]])\n"
   ]
  },
  {
   "cell_type": "code",
   "execution_count": null,
   "id": "b62e022c",
   "metadata": {},
   "outputs": [],
   "source": [
    "#Calculate annual bonus (5% of salary)\n"
   ]
  },
  {
   "cell_type": "code",
   "execution_count": 5,
   "id": "69864d78",
   "metadata": {},
   "outputs": [
    {
     "name": "stdout",
     "output_type": "stream",
     "text": [
      "\n",
      "With Bonus Column:\n",
      "           name  salary   bonus\n",
      "0  Aarav Sharma   75000  3750.0\n",
      "1   Priya Patel   92000  4600.0\n",
      "2   Rohan Singh   68000  3400.0\n"
     ]
    }
   ],
   "source": [
    "df['bonus'] = df['salary'].apply(lambda x: x * 0.05)\n",
    "print(\"\\nWith Bonus Column:\")\n",
    "print(df[['name', 'salary', 'bonus']].head(3))"
   ]
  },
  {
   "cell_type": "code",
   "execution_count": 4,
   "id": "c11579c9",
   "metadata": {},
   "outputs": [
    {
     "data": {
      "text/html": [
       "<div>\n",
       "<style scoped>\n",
       "    .dataframe tbody tr th:only-of-type {\n",
       "        vertical-align: middle;\n",
       "    }\n",
       "\n",
       "    .dataframe tbody tr th {\n",
       "        vertical-align: top;\n",
       "    }\n",
       "\n",
       "    .dataframe thead th {\n",
       "        text-align: right;\n",
       "    }\n",
       "</style>\n",
       "<table border=\"1\" class=\"dataframe\">\n",
       "  <thead>\n",
       "    <tr style=\"text-align: right;\">\n",
       "      <th></th>\n",
       "      <th>bonus</th>\n",
       "    </tr>\n",
       "  </thead>\n",
       "  <tbody>\n",
       "    <tr>\n",
       "      <th>0</th>\n",
       "      <td>3750.0</td>\n",
       "    </tr>\n",
       "    <tr>\n",
       "      <th>1</th>\n",
       "      <td>4600.0</td>\n",
       "    </tr>\n",
       "    <tr>\n",
       "      <th>2</th>\n",
       "      <td>3400.0</td>\n",
       "    </tr>\n",
       "    <tr>\n",
       "      <th>3</th>\n",
       "      <td>5750.0</td>\n",
       "    </tr>\n",
       "    <tr>\n",
       "      <th>4</th>\n",
       "      <td>4100.0</td>\n",
       "    </tr>\n",
       "    <tr>\n",
       "      <th>5</th>\n",
       "      <td>2750.0</td>\n",
       "    </tr>\n",
       "    <tr>\n",
       "      <th>6</th>\n",
       "      <td>4900.0</td>\n",
       "    </tr>\n",
       "    <tr>\n",
       "      <th>7</th>\n",
       "      <td>3600.0</td>\n",
       "    </tr>\n",
       "    <tr>\n",
       "      <th>8</th>\n",
       "      <td>5250.0</td>\n",
       "    </tr>\n",
       "    <tr>\n",
       "      <th>9</th>\n",
       "      <td>3050.0</td>\n",
       "    </tr>\n",
       "  </tbody>\n",
       "</table>\n",
       "</div>"
      ],
      "text/plain": [
       "    bonus\n",
       "0  3750.0\n",
       "1  4600.0\n",
       "2  3400.0\n",
       "3  5750.0\n",
       "4  4100.0\n",
       "5  2750.0\n",
       "6  4900.0\n",
       "7  3600.0\n",
       "8  5250.0\n",
       "9  3050.0"
      ]
     },
     "execution_count": 4,
     "metadata": {},
     "output_type": "execute_result"
    }
   ],
   "source": [
    "df[['bonus']]"
   ]
  },
  {
   "cell_type": "markdown",
   "id": "34a68060",
   "metadata": {},
   "source": [
    "## Sorting"
   ]
  },
  {
   "cell_type": "code",
   "execution_count": null,
   "id": "42a076af",
   "metadata": {},
   "outputs": [],
   "source": [
    "Organize data by column values"
   ]
  },
  {
   "cell_type": "code",
   "execution_count": 10,
   "id": "afac83d0",
   "metadata": {},
   "outputs": [
    {
     "name": "stdout",
     "output_type": "stream",
     "text": [
      "\n",
      "Top 3 Salaries:\n",
      "           name  salary\n",
      "3  Anjali Gupta  115000\n",
      "8  Suresh Menon  105000\n",
      "6    Arun Kumar   98000\n"
     ]
    }
   ],
   "source": [
    "#Sort by salary (descending)\n",
    "sorted_salary = df.sort_values('salary', ascending=False)\n",
    "print(\"\\nTop 3 Salaries:\")\n",
    "print(sorted_salary[['name', 'salary']].head(3))"
   ]
  },
  {
   "cell_type": "markdown",
   "id": "66d6b209",
   "metadata": {},
   "source": [
    "## Aggregate (agg())"
   ]
  },
  {
   "cell_type": "code",
   "execution_count": null,
   "id": "2d180523",
   "metadata": {},
   "outputs": [],
   "source": [
    ">> The aggregate() function allows you to apply multiple aggregation functions \n",
    "  (like min, max, sum, mean, etc.) at the same time on grouped data.\n",
    ">> Instead of writing many lines of code for different stats, you get everything in one go."
   ]
  },
  {
   "cell_type": "code",
   "execution_count": 7,
   "id": "82edc1a9",
   "metadata": {},
   "outputs": [
    {
     "name": "stdout",
     "output_type": "stream",
     "text": [
      "\n",
      "Salary Statistics:\n",
      "         salary  emp_id\n",
      "sum    823000.0     NaN\n",
      "mean    82300.0     NaN\n",
      "count       NaN    10.0\n"
     ]
    }
   ],
   "source": [
    "salary_stats = df.agg({\n",
    "    'salary': ['sum', 'mean'],\n",
    "    'emp_id': 'count'\n",
    "})\n",
    "print(\"\\nSalary Statistics:\")\n",
    "print(salary_stats)"
   ]
  },
  {
   "cell_type": "code",
   "execution_count": null,
   "id": "da3f56fd",
   "metadata": {},
   "outputs": [],
   "source": []
  },
  {
   "cell_type": "markdown",
   "id": "43b60d1b",
   "metadata": {},
   "source": [
    "## groupby()"
   ]
  },
  {
   "cell_type": "code",
   "execution_count": null,
   "id": "347f373e",
   "metadata": {},
   "outputs": [],
   "source": [
    ">> to Analyze data by categories\n",
    ">> The groupby() function splits data into groups based on some column(s), \n",
    "then lets you perform calculations on each group.\n",
    ">> "
   ]
  },
  {
   "cell_type": "code",
   "execution_count": 4,
   "id": "fb46191f",
   "metadata": {},
   "outputs": [
    {
     "name": "stdout",
     "output_type": "stream",
     "text": [
      "department\n",
      "HR           82000.000000\n",
      "IT           82666.666667\n",
      "Marketing    58000.000000\n",
      "Sales        98333.333333\n",
      "Name: salary, dtype: float64\n"
     ]
    }
   ],
   "source": [
    "# Average salary by department\n",
    "dept_salary = df.groupby(\"department\")[\"salary\"].mean()\n",
    "print(dept_salary)\n"
   ]
  },
  {
   "cell_type": "code",
   "execution_count": 5,
   "id": "a9c2c989",
   "metadata": {},
   "outputs": [
    {
     "name": "stdout",
     "output_type": "stream",
     "text": [
      "city\n",
      "Ahmedabad    1\n",
      "Bangalore    1\n",
      "Chennai      1\n",
      "Delhi        2\n",
      "Hyderabad    1\n",
      "Kolkata      1\n",
      "Mumbai       2\n",
      "Pune         1\n",
      "Name: emp_id, dtype: int64\n"
     ]
    }
   ],
   "source": [
    "#Employee count per city\n",
    "\n",
    "city_count = df.groupby(\"city\")[\"emp_id\"].count()\n",
    "print(city_count)\n"
   ]
  },
  {
   "cell_type": "code",
   "execution_count": 6,
   "id": "69dc58f3",
   "metadata": {},
   "outputs": [
    {
     "name": "stdout",
     "output_type": "stream",
     "text": [
      "              min     max          mean\n",
      "department                             \n",
      "HR          72000   92000  82000.000000\n",
      "IT          68000   98000  82666.666667\n",
      "Marketing   55000   61000  58000.000000\n",
      "Sales       75000  115000  98333.333333\n"
     ]
    }
   ],
   "source": [
    "#Min, Max, Mean salary by department\n",
    "dept_stats = df.groupby(\"department\")[\"salary\"].agg([\"min\", \"max\", \"mean\"])\n",
    "print(dept_stats)\n"
   ]
  },
  {
   "cell_type": "code",
   "execution_count": 14,
   "id": "2015f3af",
   "metadata": {},
   "outputs": [
    {
     "name": "stdout",
     "output_type": "stream",
     "text": [
      "\n",
      "Department-City Combined Analysis:\n",
      "                      salary                   experience      \n",
      "                         min     max    median       mean count\n",
      "department city                                                \n",
      "HR         Delhi       92000   92000   92000.0        5.0     1\n",
      "           Hyderabad   72000   72000   72000.0        2.0     1\n",
      "IT         Bangalore   68000   68000   68000.0        2.0     1\n",
      "           Chennai     82000   82000   82000.0        4.0     1\n",
      "           Kolkata     98000   98000   98000.0        6.0     1\n",
      "Marketing  Ahmedabad   61000   61000   61000.0        3.0     1\n",
      "           Delhi       55000   55000   55000.0        1.0     1\n",
      "Sales      Mumbai      75000  115000   95000.0        5.0     2\n",
      "           Pune       105000  105000  105000.0        8.0     1\n"
     ]
    }
   ],
   "source": [
    "#Total salary & Avg experience by department\n",
    "dept_summary = df.groupby(\"department\").agg({\n",
    "    \"salary\": \"sum\",\n",
    "    \"experience\": \"mean\"\n",
    "})\n",
    "print(dept_summary)\n"
   ]
  },
  {
   "cell_type": "markdown",
   "id": "beed053a",
   "metadata": {},
   "source": [
    "## Renaming Columns"
   ]
  },
  {
   "cell_type": "code",
   "execution_count": null,
   "id": "13c27bca",
   "metadata": {},
   "outputs": [],
   "source": [
    ">>> Improve column readability"
   ]
  },
  {
   "cell_type": "code",
   "execution_count": 15,
   "id": "6c998c4c",
   "metadata": {},
   "outputs": [
    {
     "name": "stdout",
     "output_type": "stream",
     "text": [
      "\n",
      "Renamed emp_id column:\n",
      "Index(['employee_id', 'name', 'city', 'salary', 'department', 'experience',\n",
      "       'bonus'],\n",
      "      dtype='object')\n"
     ]
    }
   ],
   "source": [
    "df_renamed = df.rename(columns={'emp_id': 'employee_id'})\n",
    "print(\"\\nRenamed emp_id column:\")\n",
    "print(df_renamed.columns)"
   ]
  },
  {
   "cell_type": "code",
   "execution_count": null,
   "id": "fcf03cb2",
   "metadata": {},
   "outputs": [],
   "source": [
    "pivot table, concatenate, "
   ]
  },
  {
   "cell_type": "markdown",
   "id": "ccad2d56",
   "metadata": {},
   "source": [
    "## pivot_table"
   ]
  },
  {
   "cell_type": "markdown",
   "id": "b2d555fa",
   "metadata": {},
   "source": [
    "summarizes data into a table format, very similar to Excel pivot tables. You choose rows, columns, values, and an aggregation function."
   ]
  },
  {
   "cell_type": "code",
   "execution_count": 8,
   "id": "aea771eb",
   "metadata": {},
   "outputs": [
    {
     "name": "stdout",
     "output_type": "stream",
     "text": [
      "department     HR     IT  Marketing   Sales\n",
      "city                                       \n",
      "Ahmedabad       0      0      61000       0\n",
      "Bangalore       0  68000          0       0\n",
      "Chennai         0  82000          0       0\n",
      "Delhi       92000      0      55000       0\n",
      "Hyderabad   72000      0          0       0\n",
      "Kolkata         0  98000          0       0\n",
      "Mumbai          0      0          0  190000\n",
      "Pune            0      0          0  105000\n"
     ]
    }
   ],
   "source": [
    "pivot2 = pd.pivot_table(df, values=\"salary\", index=\"city\", columns=\"department\", aggfunc=\"sum\", fill_value=0)\n",
    "print(pivot2)\n"
   ]
  },
  {
   "cell_type": "code",
   "execution_count": null,
   "id": "b0780624",
   "metadata": {},
   "outputs": [],
   "source": []
  },
  {
   "cell_type": "code",
   "execution_count": null,
   "id": "84e4c158",
   "metadata": {},
   "outputs": [],
   "source": []
  },
  {
   "cell_type": "code",
   "execution_count": null,
   "id": "53c7675b",
   "metadata": {},
   "outputs": [],
   "source": []
  }
 ],
 "metadata": {
  "kernelspec": {
   "display_name": "Python 3 (ipykernel)",
   "language": "python",
   "name": "python3"
  },
  "language_info": {
   "codemirror_mode": {
    "name": "ipython",
    "version": 3
   },
   "file_extension": ".py",
   "mimetype": "text/x-python",
   "name": "python",
   "nbconvert_exporter": "python",
   "pygments_lexer": "ipython3",
   "version": "3.9.12"
  }
 },
 "nbformat": 4,
 "nbformat_minor": 5
}
