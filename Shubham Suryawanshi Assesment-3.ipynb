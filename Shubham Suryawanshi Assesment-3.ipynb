{
 "cells": [
  {
   "cell_type": "markdown",
   "id": "6d81f69d-8b60-474b-b979-111dc96164eb",
   "metadata": {},
   "source": [
    "# 1. Create a list of 5 numbers. Print the first and last elements using indexing.\n"
   ]
  },
  {
   "cell_type": "code",
   "execution_count": 1,
   "id": "12aaeb1f-d2d9-40ae-a8df-4f23dc0040b8",
   "metadata": {},
   "outputs": [
    {
     "name": "stdout",
     "output_type": "stream",
     "text": [
      "First element: 10\n",
      "Last element: 50\n"
     ]
    }
   ],
   "source": [
    "numbers = [10, 20, 30, 40, 50]\n",
    "print(\"First element:\", numbers[0])\n",
    "print(\"Last element:\", numbers[-1])\n"
   ]
  },
  {
   "cell_type": "markdown",
   "id": "7c6f72c5-5ce3-4a8c-8d02-44e85dfdb7e9",
   "metadata": {},
   "source": [
    "# 2. Print the list in reverse using slicing.\n"
   ]
  },
  {
   "cell_type": "code",
   "execution_count": 1,
   "id": "61a7ca72-6433-4f0a-9954-37beacf5b76d",
   "metadata": {},
   "outputs": [
    {
     "name": "stdout",
     "output_type": "stream",
     "text": [
      "Reversed list: [50, 40, 30, 20, 10]\n"
     ]
    }
   ],
   "source": [
    "numbers = [10, 20, 30, 40, 50]\n",
    "reversed_list = numbers[::-1]\n",
    "print(\"Reversed list:\", reversed_list)\n"
   ]
  },
  {
   "cell_type": "markdown",
   "id": "9df4ada3-3c9d-47ff-8217-d4e00e89fe13",
   "metadata": {},
   "source": [
    "# 3. Print the elements from index 1 to 3 (inclusive).\n"
   ]
  },
  {
   "cell_type": "code",
   "execution_count": 2,
   "id": "7a26b328-697d-423e-8ba6-8b2f50a44856",
   "metadata": {},
   "outputs": [
    {
     "name": "stdout",
     "output_type": "stream",
     "text": [
      "Elements from index 1 to 3: [20, 30, 40]\n"
     ]
    }
   ],
   "source": [
    "numbers = [10, 20, 30, 40, 50]\n",
    "subset = numbers[1:4]\n",
    "print(\"Elements from index 1 to 3:\", subset)\n"
   ]
  },
  {
   "cell_type": "markdown",
   "id": "f9f8a80a-e0e3-4ebc-82de-97a7890d81d3",
   "metadata": {},
   "source": [
    "# 4. Find the sum of all elements in the list using a for loop.\n"
   ]
  },
  {
   "cell_type": "code",
   "execution_count": 3,
   "id": "88dc6d62-0824-4331-8fcc-657420131d39",
   "metadata": {},
   "outputs": [
    {
     "name": "stdout",
     "output_type": "stream",
     "text": [
      "Sum of all elements: 150\n"
     ]
    }
   ],
   "source": [
    "numbers = [10, 20, 30, 40, 50]\n",
    "total = 0\n",
    "for num in numbers:\n",
    "    total += num\n",
    "\n",
    "print(\"Sum of all elements:\", total)\n"
   ]
  },
  {
   "cell_type": "markdown",
   "id": "0db2be44-9e17-4478-b280-cb2d3dcbf553",
   "metadata": {},
   "source": [
    "# 5. Count how many even numbers are present in the list.\n"
   ]
  },
  {
   "cell_type": "code",
   "execution_count": 4,
   "id": "520b326d-21d2-4098-927a-3fa341ec1e2e",
   "metadata": {},
   "outputs": [
    {
     "name": "stdout",
     "output_type": "stream",
     "text": [
      "Total even numbers: 3\n"
     ]
    }
   ],
   "source": [
    "numbers = [10, 21, 32, 43, 54]\n",
    "\n",
    "even_count = 0\n",
    "for num in numbers:\n",
    "    if num % 2 == 0:\n",
    "        even_count += 1\n",
    "\n",
    "print(\"Total even numbers:\", even_count)\n"
   ]
  },
  {
   "cell_type": "markdown",
   "id": "4037d9f9-9ace-49ba-ae5b-b8e2ada34bc4",
   "metadata": {},
   "source": [
    "# 6. Print only the elements at even index positions.\n"
   ]
  },
  {
   "cell_type": "code",
   "execution_count": 5,
   "id": "9a1d0b12-eff5-49a7-b27e-e9fd3af29ffa",
   "metadata": {},
   "outputs": [
    {
     "name": "stdout",
     "output_type": "stream",
     "text": [
      "Elements at even index positions:\n",
      "10\n",
      "32\n",
      "54\n"
     ]
    }
   ],
   "source": [
    "numbers = [10, 21, 32, 43, 54]\n",
    "\n",
    "print(\"Elements at even index positions:\")\n",
    "for i in range(0, len(numbers), 2):\n",
    "    print(numbers[i])\n"
   ]
  },
  {
   "cell_type": "markdown",
   "id": "d9f1769b-8451-48da-97ea-d6f073a2bcc2",
   "metadata": {},
   "source": [
    "# 7. Create a list of 5 names. Print each name in uppercase using a for loop.\n"
   ]
  },
  {
   "cell_type": "code",
   "execution_count": 6,
   "id": "c873a9b1-5a99-455c-bbad-6de2713e2a04",
   "metadata": {},
   "outputs": [
    {
     "name": "stdout",
     "output_type": "stream",
     "text": [
      "Names in uppercase:\n",
      "LATUR\n",
      "MAHARASHTRA\n",
      "PUNE\n",
      "MUMBAI\n"
     ]
    }
   ],
   "source": [
    "names = [\"Latur\", \"Maharashtra\", \"Pune\", \"Mumbai\"]\n",
    "\n",
    "print(\"Names in uppercase:\")\n",
    "for name in names:\n",
    "    print(name.upper())\n"
   ]
  },
  {
   "cell_type": "markdown",
   "id": "bd32cb3f-48a9-44e8-a5e7-91b5a7ff0b4a",
   "metadata": {},
   "source": [
    "# 8. Print the length of the list using len() function.\n"
   ]
  },
  {
   "cell_type": "code",
   "execution_count": 7,
   "id": "d71153f7-4cbf-4717-9223-96a1714f1503",
   "metadata": {},
   "outputs": [
    {
     "name": "stdout",
     "output_type": "stream",
     "text": [
      "Length of the list: 4\n"
     ]
    }
   ],
   "source": [
    "names = [\"Latur\", \"Maharashtra\", \"Pune\", \"Mumbai\"]\n",
    "print(\"Length of the list:\", len(names))\n"
   ]
  },
  {
   "cell_type": "markdown",
   "id": "afed54d9-9dc7-487f-a50a-921311237839",
   "metadata": {},
   "source": [
    "# 9. Replace the 3rd element of the list with a new value."
   ]
  },
  {
   "cell_type": "code",
   "execution_count": 9,
   "id": "0066cbe6-0e5c-4de0-945d-fbf88150cc99",
   "metadata": {},
   "outputs": [
    {
     "name": "stdout",
     "output_type": "stream",
     "text": [
      "Updated list: ['Latur', 'Maharashtra', 'Ambajogai', 'Mumbai']\n"
     ]
    }
   ],
   "source": [
    "names = [\"Latur\", \"Maharashtra\", \"Pune\", \"Mumbai\"]\n",
    "names[2] = \"Ambajogai\"\n",
    "print(\"Updated list:\", names)\n"
   ]
  },
  {
   "cell_type": "markdown",
   "id": "a0058244-2705-4436-883b-dc3559e8a796",
   "metadata": {},
   "source": [
    "# 1.What is a list in Python? How does it differ from a tuple?\n"
   ]
  },
  {
   "cell_type": "code",
   "execution_count": null,
   "id": "ce42dfa9-bd1b-4ab4-975d-fcf705e21171",
   "metadata": {},
   "outputs": [],
   "source": [
    ">> A list in Python is a collection of items that can be changed and is written using square brackets [].\n",
    ">> A tuple is similar to a list, but it cannot be changed (it’s immutable) and is written using parentheses ()."
   ]
  },
  {
   "cell_type": "markdown",
   "id": "0cd1565b-2f63-4d30-8f8d-860274c2679d",
   "metadata": {},
   "source": [
    "# 2.Explain the concept of mutability in the context of Python lists.\n"
   ]
  },
  {
   "cell_type": "markdown",
   "id": "c914fc96-fea2-4ba2-b1db-a395b00a19be",
   "metadata": {},
   "source": [
    ">> Mutability means the ability to change.\n",
    ">>  you can add, remove, or change items after the list is created."
   ]
  },
  {
   "cell_type": "markdown",
   "id": "2e954061-e937-4468-a8d0-a406bc4064f6",
   "metadata": {},
   "source": [
    "# 3.How do you access elements in a list? What is negative indexing?\n"
   ]
  },
  {
   "cell_type": "markdown",
   "id": "272a8989-39c7-4e12-ba38-218f5f9487f5",
   "metadata": {},
   "source": [
    ">> using indexing, like list[0]\n",
    ">> Negative indexing lets you access elements from the end of the list, like list[-1] for the last"
   ]
  },
  {
   "cell_type": "code",
   "execution_count": 11,
   "id": "179b5b34-269d-4835-b6cb-e788bd928a4e",
   "metadata": {},
   "outputs": [
    {
     "name": "stdout",
     "output_type": "stream",
     "text": [
      "First fruit: apple\n",
      "Second fruit: banana\n",
      "Last fruit: Watermelon\n",
      "Second last fruit: Grapes\n"
     ]
    }
   ],
   "source": [
    "fruits = [\"apple\", \"banana\", \"Mango\", \"Grapes\", \"Watermelon\"]\n",
    "\n",
    "print(\"First fruit:\", fruits[0])       \n",
    "print(\"Second fruit:\", fruits[1])      \n",
    "\n",
    "print(\"Last fruit:\", fruits[-1])       \n",
    "print(\"Second last fruit:\", fruits[-2])  \n"
   ]
  },
  {
   "cell_type": "markdown",
   "id": "c9ac8af4-df6f-4b46-9f84-55d9e0eed4aa",
   "metadata": {},
   "source": [
    "# 4.Explain list slicing with an example. How can you reverse a list using slicing?\n"
   ]
  },
  {
   "cell_type": "code",
   "execution_count": 12,
   "id": "6f6d4e0a-ff9b-4ca2-9aa4-9cacf3bc8ca4",
   "metadata": {},
   "outputs": [
    {
     "name": "stdout",
     "output_type": "stream",
     "text": [
      "Sliced list: [20, 30, 40, 50]\n",
      "Reversed list: [60, 50, 40, 30, 20, 10]\n"
     ]
    }
   ],
   "source": [
    "numbers = [10, 20, 30, 40, 50, 60]\n",
    "print(\"Sliced list:\", numbers[1:5])  \n",
    "\n",
    "print(\"Reversed list:\", numbers[::-1]) \n"
   ]
  },
  {
   "cell_type": "markdown",
   "id": "9a3e629a-a3f0-43fe-8da1-74b36d7e6602",
   "metadata": {},
   "source": [
    "# 5.Describe the purpose and behavior of the append() and insert() list methods. What are their differences?\n"
   ]
  },
  {
   "cell_type": "code",
   "execution_count": 13,
   "id": "6c1b248b-5e03-45a4-be20-1ac80fe9d721",
   "metadata": {},
   "outputs": [
    {
     "name": "stdout",
     "output_type": "stream",
     "text": [
      "[1, 2, 3, 4]\n"
     ]
    }
   ],
   "source": [
    "#append() --> always element at the end of list\n",
    "my_list = [1, 2, 3]\n",
    "my_list.append(4)\n",
    "print(my_list)  \n"
   ]
  },
  {
   "cell_type": "code",
   "execution_count": 14,
   "id": "a7a7a44a-e8ab-4f11-9dc4-ae8371a2772c",
   "metadata": {},
   "outputs": [
    {
     "name": "stdout",
     "output_type": "stream",
     "text": [
      "[1, 10, 2, 3]\n"
     ]
    }
   ],
   "source": [
    "#insert()  --> insert at a specific position\n",
    "my_list = [1, 2, 3]\n",
    "my_list.insert(1, 10)  \n",
    "print(my_list) \n"
   ]
  },
  {
   "cell_type": "markdown",
   "id": "1438500a-9afa-49cc-a951-d7b1b2cd264d",
   "metadata": {},
   "source": [
    "# 6.How do the remove() and pop() list methods work? What value does pop() return? What happens if you try to remove an element that doesn't exist?\n"
   ]
  },
  {
   "cell_type": "code",
   "execution_count": 19,
   "id": "4f483c68-60e0-4cf0-9229-aefc99b4b825",
   "metadata": {},
   "outputs": [
    {
     "name": "stdout",
     "output_type": "stream",
     "text": [
      "[1, 3, 2]\n"
     ]
    }
   ],
   "source": [
    "#remove()\n",
    "my_list = [1, 2, 3, 2]\n",
    "my_list.remove(2)\n",
    "print(my_list)  \n",
    "\n",
    "my_list.remove(3) \n"
   ]
  },
  {
   "cell_type": "code",
   "execution_count": 20,
   "id": "5ca15459-f94f-4a23-bba6-2beb73c90dbb",
   "metadata": {},
   "outputs": [
    {
     "name": "stdout",
     "output_type": "stream",
     "text": [
      "30\n",
      "[10, 20]\n",
      "10\n"
     ]
    }
   ],
   "source": [
    "#pop()\n",
    "my_list = [10, 20, 30]\n",
    "x = my_list.pop()\n",
    "print(x)       \n",
    "print(my_list)  \n",
    "\n",
    "y = my_list.pop(0)\n",
    "print(y)        \n"
   ]
  },
  {
   "cell_type": "markdown",
   "id": "6067305c-3b30-48ac-8b2d-121bfab6d7f4",
   "metadata": {},
   "source": [
    "# 7.What is the purpose of the index() and count() list methods?\n"
   ]
  },
  {
   "cell_type": "code",
   "execution_count": 21,
   "id": "a8a6d2bb-b268-4f7a-b44e-e04b1e55bb64",
   "metadata": {},
   "outputs": [
    {
     "name": "stdout",
     "output_type": "stream",
     "text": [
      "1\n"
     ]
    }
   ],
   "source": [
    "#index()\n",
    "my_list = [10, 20, 30, 20]\n",
    "print(my_list.index(20)) \n"
   ]
  },
  {
   "cell_type": "code",
   "execution_count": 22,
   "id": "46d103bd-d57d-4a14-83b2-0f49bed0e26c",
   "metadata": {},
   "outputs": [
    {
     "name": "stdout",
     "output_type": "stream",
     "text": [
      "2\n"
     ]
    }
   ],
   "source": [
    "#count()\n",
    "my_list = [10, 20, 30, 20]\n",
    "print(my_list.count(20)) \n"
   ]
  },
  {
   "cell_type": "markdown",
   "id": "7c6499b8-1e27-4587-b67f-7729c36a26f2",
   "metadata": {},
   "source": [
    "# 8.Explain how the sort() method works. How can you sort a list in descending order? Does sort() return a new list?\n",
    " "
   ]
  },
  {
   "cell_type": "code",
   "execution_count": 24,
   "id": "30a28f2b-3981-41bb-b8bc-9868457010f2",
   "metadata": {},
   "outputs": [
    {
     "name": "stdout",
     "output_type": "stream",
     "text": [
      "[1, 2, 5, 9]\n"
     ]
    }
   ],
   "source": [
    "numbers = [5, 2, 9, 1]\n",
    "numbers.sort()\n",
    "print(numbers)  \n"
   ]
  },
  {
   "cell_type": "code",
   "execution_count": 25,
   "id": "e4dc37e1-ae02-45c0-9e70-14d0c88b1087",
   "metadata": {},
   "outputs": [
    {
     "name": "stdout",
     "output_type": "stream",
     "text": [
      "[4, 3, 2, 1]\n"
     ]
    }
   ],
   "source": [
    "#Descending order\n",
    "numbers = [3, 1, 4, 2]\n",
    "numbers.sort(reverse=True)\n",
    "print(numbers)  \n"
   ]
  },
  {
   "cell_type": "markdown",
   "id": "0f336a83-e07d-48cf-b355-0849c15ca5bd",
   "metadata": {},
   "source": [
    "No sort() changes the list directly and returns None."
   ]
  },
  {
   "cell_type": "markdown",
   "id": "0fe0c744-2de3-4a04-8dda-29d6cd20f70b",
   "metadata": {},
   "source": [
    "# 9.What does the reverse() method do to a list? Does it return a new list?\n"
   ]
  },
  {
   "cell_type": "code",
   "execution_count": 26,
   "id": "a654e8f2-6f08-4009-813d-4319ea20fd21",
   "metadata": {},
   "outputs": [
    {
     "name": "stdout",
     "output_type": "stream",
     "text": [
      "[5, 4, 3, 2, 1]\n"
     ]
    }
   ],
   "source": [
    "#reverse() --> modifies the original list.\n",
    "numbers = [1, 2, 3, 4, 5]\n",
    "numbers.reverse()\n",
    "print(numbers)\n"
   ]
  },
  {
   "cell_type": "markdown",
   "id": "c9672a9f-7409-4c4b-8584-918581b58603",
   "metadata": {},
   "source": [
    "It does not create a new list."
   ]
  },
  {
   "cell_type": "markdown",
   "id": "b330357e-0c93-4d79-899a-f5732d7ab514",
   "metadata": {},
   "source": [
    "# 10.What is a nested list in Python? How do you access elements within a nested list? Provide an example.\n"
   ]
  },
  {
   "cell_type": "code",
   "execution_count": 27,
   "id": "a4ca0847-9de7-451b-bed7-98746f153cb6",
   "metadata": {},
   "outputs": [
    {
     "name": "stdout",
     "output_type": "stream",
     "text": [
      "[30, 40]\n",
      "30\n"
     ]
    }
   ],
   "source": [
    "nested_list = [[10, 20], [30, 40], [50, 60]]\n",
    "print(nested_list[1])     \n",
    "print(nested_list[1][0])   \n"
   ]
  },
  {
   "cell_type": "markdown",
   "id": "198942d7-6de3-495c-8389-59ba2a1f49af",
   "metadata": {},
   "source": [
    "# 11.Explain list comprehension with its basic syntax. What are the advantages of using list comprehension over traditional for loops for list creation?\n"
   ]
  },
  {
   "cell_type": "code",
   "execution_count": null,
   "id": "70db1b7a-22df-41a7-b0fb-14263d70efcb",
   "metadata": {},
   "outputs": [],
   "source": [
    "#Syntax\n",
    "[expression for item in iterable if condition]\n",
    "Advantages:\n",
    ">> Shorter & Cleaner Code\n",
    ">> Execution will be fast\n",
    ">> Easy to code and understand\n"
   ]
  },
  {
   "cell_type": "markdown",
   "id": "b7757efb-778e-4174-bf84-7fee240376e8",
   "metadata": {},
   "source": [
    "# 12.What is the purpose of the list() constructor? Give an example of how it can be used.\n"
   ]
  },
  {
   "cell_type": "markdown",
   "id": "ecd55b5e-2b3a-43d6-8300-4db8ce47a6a1",
   "metadata": {},
   "source": [
    ">> The list() constructor is used to create a new list from another iterable (like strings, tuples, sets, or dictionaries)."
   ]
  },
  {
   "cell_type": "code",
   "execution_count": 1,
   "id": "0af09f2a-a740-4501-8198-d2798e39abb6",
   "metadata": {},
   "outputs": [
    {
     "name": "stdout",
     "output_type": "stream",
     "text": [
      "['h', 'e', 'l', 'l', 'o']\n"
     ]
    }
   ],
   "source": [
    "#string to a list of characters\n",
    "s = \"hello\"\n",
    "chars = list(s)\n",
    "print(chars)  \n"
   ]
  },
  {
   "cell_type": "code",
   "execution_count": 2,
   "id": "51a43c64-8d8c-49bf-adc0-05111f5d233c",
   "metadata": {},
   "outputs": [
    {
     "name": "stdout",
     "output_type": "stream",
     "text": [
      "[1, 2, 3]\n"
     ]
    }
   ],
   "source": [
    "# Tuple to a list\n",
    "t = (1, 2, 3)\n",
    "lst = list(t)\n",
    "print(lst) \n"
   ]
  },
  {
   "cell_type": "code",
   "execution_count": 3,
   "id": "4a03a9b2-619e-497e-878f-8b44f60b48f5",
   "metadata": {},
   "outputs": [
    {
     "name": "stdout",
     "output_type": "stream",
     "text": [
      "[]\n"
     ]
    }
   ],
   "source": [
    "# Create an empty list\n",
    "empty_list = list()\n",
    "print(empty_list)  # Output: []\n"
   ]
  },
  {
   "cell_type": "markdown",
   "id": "74678b30-e26d-4d44-a7ee-d0f1242b25af",
   "metadata": {},
   "source": [
    "# 13.What does the del keyword do in Python when used with lists? How can you delete elements by index or slice? How can you delete the entire list?\n"
   ]
  },
  {
   "cell_type": "markdown",
   "id": "aa77046c-f037-44ae-8103-fe8f46181264",
   "metadata": {},
   "source": [
    ">> is used to delete the specific keyword."
   ]
  },
  {
   "cell_type": "code",
   "execution_count": 4,
   "id": "6f1538f3-7771-4f0b-b9e7-f7a2d858d2dc",
   "metadata": {},
   "outputs": [
    {
     "name": "stdout",
     "output_type": "stream",
     "text": [
      "[10, 20, 40]\n"
     ]
    }
   ],
   "source": [
    "# Delete an element by index.\n",
    "numbers = [10, 20, 30, 40]\n",
    "del numbers[2]\n",
    "print(numbers)  \n"
   ]
  },
  {
   "cell_type": "code",
   "execution_count": 5,
   "id": "992a421f-d013-4dbf-860f-4996629bab1a",
   "metadata": {},
   "outputs": [
    {
     "name": "stdout",
     "output_type": "stream",
     "text": [
      "[10, 50]\n"
     ]
    }
   ],
   "source": [
    "# Delete a slice \n",
    "numbers = [10, 20, 30, 40, 50]\n",
    "del numbers[1:4]\n",
    "print(numbers)  \n"
   ]
  },
  {
   "cell_type": "code",
   "execution_count": 13,
   "id": "40ff7f0f-ac20-45a0-91cc-df4d51503a35",
   "metadata": {},
   "outputs": [],
   "source": [
    "# Delete the list\n",
    "number=[1,2,3]\n",
    "del number\n"
   ]
  },
  {
   "cell_type": "markdown",
   "id": "dbcc227c-f237-4a17-992e-ff7148b1f05b",
   "metadata": {},
   "source": [
    "# 14.What are some built-in functions that can be used with lists (e.g., len(), sum(), min(), max(), sorted())? Explain their purpose.\n"
   ]
  },
  {
   "cell_type": "markdown",
   "id": "b11c1fc8-9c5a-4ef7-b186-12f653152d6e",
   "metadata": {},
   "source": [
    ">> Built in function is mainly used in the list"
   ]
  },
  {
   "cell_type": "code",
   "execution_count": 14,
   "id": "aef54c0a-40ff-4cbe-b553-09f45aa8e43c",
   "metadata": {},
   "outputs": [
    {
     "data": {
      "text/plain": [
       "3"
      ]
     },
     "execution_count": 14,
     "metadata": {},
     "output_type": "execute_result"
    }
   ],
   "source": [
    "# 1.len() -->Returns the number of elements in the list.\n",
    "len([1, 2, 3])  \n"
   ]
  },
  {
   "cell_type": "code",
   "execution_count": 15,
   "id": "c126ae5d-9cc9-459f-87da-c245e84d1f7f",
   "metadata": {},
   "outputs": [
    {
     "data": {
      "text/plain": [
       "60"
      ]
     },
     "execution_count": 15,
     "metadata": {},
     "output_type": "execute_result"
    }
   ],
   "source": [
    "# 2.sum() --> Returns the sum of all numeric values in the list.\n",
    "sum([10, 20, 30])  \n"
   ]
  },
  {
   "cell_type": "code",
   "execution_count": 16,
   "id": "53b48451-ca33-4063-b994-682d485351ff",
   "metadata": {},
   "outputs": [
    {
     "data": {
      "text/plain": [
       "3"
      ]
     },
     "execution_count": 16,
     "metadata": {},
     "output_type": "execute_result"
    }
   ],
   "source": [
    "# 3.min() --> Returns the smallest element in the list.\n",
    "min([5, 3, 9]) \n"
   ]
  },
  {
   "cell_type": "code",
   "execution_count": 17,
   "id": "184d78d3-229b-4645-966d-a2f92b8eb88b",
   "metadata": {},
   "outputs": [
    {
     "data": {
      "text/plain": [
       "9"
      ]
     },
     "execution_count": 17,
     "metadata": {},
     "output_type": "execute_result"
    }
   ],
   "source": [
    "# 4.Max() --> Returns the largest element in the list.\n",
    "max([5, 3, 9])  \n"
   ]
  },
  {
   "cell_type": "code",
   "execution_count": 18,
   "id": "f18da776-f2e8-4507-b308-bc6b3fbd9ae6",
   "metadata": {},
   "outputs": [
    {
     "data": {
      "text/plain": [
       "[1, 2, 3]"
      ]
     },
     "execution_count": 18,
     "metadata": {},
     "output_type": "execute_result"
    }
   ],
   "source": [
    "# 5.sorted() --> Returns a new sorted list in ascending order \n",
    "sorted([3, 1, 2]) \n"
   ]
  },
  {
   "cell_type": "code",
   "execution_count": 19,
   "id": "909d2b10-4c04-42ca-a545-c49a539ebc10",
   "metadata": {},
   "outputs": [
    {
     "data": {
      "text/plain": [
       "['a', 'b', 'c']"
      ]
     },
     "execution_count": 19,
     "metadata": {},
     "output_type": "execute_result"
    }
   ],
   "source": [
    "# 6.list() --> Converts other iterables (like strings, tuples) into a list.\n",
    "list(\"abc\")  \n"
   ]
  },
  {
   "cell_type": "markdown",
   "id": "b8bd3563-d7d2-4cc2-b1b5-491ad2886224",
   "metadata": {},
   "source": [
    "programming questions:\n"
   ]
  },
  {
   "cell_type": "markdown",
   "id": "d11d4b35-e9e4-456f-b28a-ab92fdc2d7b6",
   "metadata": {},
   "source": [
    "1.write a programming to Reverse a list without using the reverse() method (use slicing or a loop).\n"
   ]
  },
  {
   "cell_type": "code",
   "execution_count": 20,
   "id": "aa5e3133-6658-4bbe-9106-ccecefd4e806",
   "metadata": {},
   "outputs": [
    {
     "name": "stdout",
     "output_type": "stream",
     "text": [
      "Reversed list using slicing: [5, 4, 3, 2, 1]\n"
     ]
    }
   ],
   "source": [
    "# using slicing\n",
    "my_list = [1, 2, 3, 4, 5]\n",
    "reversed_list = my_list[::-1]\n",
    "print(\"Reversed list using slicing:\", reversed_list)\n"
   ]
  },
  {
   "cell_type": "code",
   "execution_count": 21,
   "id": "65269521-f6da-45f2-a301-3f621f8c821f",
   "metadata": {},
   "outputs": [
    {
     "name": "stdout",
     "output_type": "stream",
     "text": [
      "Reversed list using loop: [5, 4, 3, 2, 1]\n"
     ]
    }
   ],
   "source": [
    "# using for loop\n",
    "my_list = [1, 2, 3, 4, 5]\n",
    "reversed_list = []\n",
    "\n",
    "for item in my_list:\n",
    "    reversed_list = [item] + reversed_list\n",
    "\n",
    "print(\"Reversed list using loop:\", reversed_list)\n"
   ]
  },
  {
   "cell_type": "markdown",
   "id": "561cd681-f4a6-40a1-9842-8a56f2d09ed5",
   "metadata": {},
   "source": [
    "# 2.Remove all occurrences of a specific element from a list.\n"
   ]
  },
  {
   "cell_type": "code",
   "execution_count": 23,
   "id": "0fd5d50c-04ea-495b-920a-af1c7beda87f",
   "metadata": {},
   "outputs": [
    {
     "name": "stdout",
     "output_type": "stream",
     "text": [
      "Original list: [1, 2, 3, 2, 4, 2, 5]\n",
      "After removing 2 : [1, 3, 4, 5]\n"
     ]
    }
   ],
   "source": [
    "\n",
    "numbers = [1, 2, 3, 2, 4, 2, 5]\n",
    "remove_num = 2\n",
    "\n",
    "new_list = []\n",
    "for num in numbers:\n",
    "    if num != remove_num:\n",
    "        new_list.append(num)\n",
    "\n",
    "\n",
    "print(\"Original list:\", numbers)\n",
    "print(\"After removing\", remove_num, \":\", new_list)\n"
   ]
  },
  {
   "cell_type": "markdown",
   "id": "a8f5e2fa-6b24-4eae-9145-391237ad9c50",
   "metadata": {},
   "source": [
    "#3.write a program to Find the second largest number in a list.\n",
    " "
   ]
  },
  {
   "cell_type": "code",
   "execution_count": 24,
   "id": "f392ee30-b8ff-4c93-b060-6a06612fa47c",
   "metadata": {},
   "outputs": [
    {
     "name": "stdout",
     "output_type": "stream",
     "text": [
      "Second largest number is: 25\n"
     ]
    }
   ],
   "source": [
    "numbers = [10, 25, 8, 30, 16]\n",
    "largest = max(numbers)\n",
    "numbers.remove(largest)\n",
    "second_largest = max(numbers)\n",
    "\n",
    "print(\"Second largest number is:\", second_largest)\n"
   ]
  },
  {
   "cell_type": "markdown",
   "id": "46504b39-e794-4299-bb7d-44873d565d29",
   "metadata": {},
   "source": [
    "# 4. Use list comprehension to create a list of all even numbers between 1 and 20 (inclusive).\n"
   ]
  },
  {
   "cell_type": "code",
   "execution_count": 26,
   "id": "dab24930-ace4-43da-8d29-9784bdd004c8",
   "metadata": {},
   "outputs": [
    {
     "name": "stdout",
     "output_type": "stream",
     "text": [
      "Even numbers from 1 to 20: [2, 4, 6, 8, 10, 12, 14, 16, 18, 20]\n"
     ]
    }
   ],
   "source": [
    "\n",
    "even_numbers = [number for number in range(1, 21) if number % 2 == 0]\n",
    "\n",
    "print(\"Even numbers from 1 to 20:\", even_numbers)\n"
   ]
  },
  {
   "cell_type": "markdown",
   "id": "7388b856-4e2b-47ed-b6f0-64dd67778bf1",
   "metadata": {},
   "source": [
    "# 5. Given a list of numbers, use list comprehension to create a new list containing only the numbers greater than 5.\n"
   ]
  },
  {
   "cell_type": "code",
   "execution_count": 29,
   "id": "1ab1022b-a43b-46f4-bf39-5c722d471b3e",
   "metadata": {},
   "outputs": [
    {
     "name": "stdout",
     "output_type": "stream",
     "text": [
      "Numbers greater than 5: [6, 8, 9, 7]\n"
     ]
    }
   ],
   "source": [
    "numbers = [2, 6, 3, 8, 1, 9, 4, 7]\n",
    "\n",
    "greater_than_five = [num for num in numbers if num > 5]\n",
    "print(\"Numbers greater than 5:\", greater_than_five)\n"
   ]
  },
  {
   "cell_type": "markdown",
   "id": "12080ad0-3fe2-4ddb-a229-9cccc3713884",
   "metadata": {},
   "source": [
    "# 6. Given a list, remove a specific range of elements (defined by start and end indices) using the del keyword and slicing.\n"
   ]
  },
  {
   "cell_type": "code",
   "execution_count": 30,
   "id": "18cc188f-1106-479b-9cbf-1b59947ece0b",
   "metadata": {},
   "outputs": [
    {
     "name": "stdout",
     "output_type": "stream",
     "text": [
      "List after deleting elements from index 2 to 4: [10, 20, 60, 70]\n"
     ]
    }
   ],
   "source": [
    "\n",
    "my_list = [10, 20, 30, 40, 50, 60, 70]\n",
    "\n",
    "start = 2\n",
    "end = 5\n",
    "\n",
    "del my_list[start:end]\n",
    "\n",
    "print(\"List after deleting elements from index 2 to 4:\", my_list)\n"
   ]
  },
  {
   "cell_type": "markdown",
   "id": "06fff9a9-5d53-491e-9c67-cfabd307c403",
   "metadata": {},
   "source": [
    "# 7. Given a list of words, use list comprehension to create a new list containing the length of each word.\n"
   ]
  },
  {
   "cell_type": "code",
   "execution_count": 31,
   "id": "e6de480b-8ebc-4d9c-85a6-a5520fb6df51",
   "metadata": {},
   "outputs": [
    {
     "name": "stdout",
     "output_type": "stream",
     "text": [
      "Length of each word: [5, 6, 6, 4]\n"
     ]
    }
   ],
   "source": [
    "words = [\"apple\", \"banana\", \"cherry\", \"kiwi\"]\n",
    "word_lengths = [len(word) for word in words]\n",
    "\n",
    "print(\"Length of each word:\", word_lengths)\n"
   ]
  },
  {
   "cell_type": "markdown",
   "id": "76e5ea92-6eff-4ce5-904f-7e0affa5f56e",
   "metadata": {},
   "source": [
    "# 8. Write a function that takes a list and a value as input and removes all occurrences of that value from the list in-place.\n"
   ]
  },
  {
   "cell_type": "code",
   "execution_count": 32,
   "id": "757f443f-df5e-4d8f-a766-3cae02472548",
   "metadata": {},
   "outputs": [
    {
     "name": "stdout",
     "output_type": "stream",
     "text": [
      "Updated list: [1, 3, 4, 5]\n"
     ]
    }
   ],
   "source": [
    "def remove_value_in_place(lst, value):\n",
    "    while value in lst:\n",
    "        lst.remove(value)\n",
    "\n",
    "my_list = [1, 2, 3, 2, 4, 2, 5]\n",
    "remove_value_in_place(my_list, 2)\n",
    "print(\"Updated list:\", my_list)\n"
   ]
  },
  {
   "cell_type": "markdown",
   "id": "5004aef4-cb30-4076-b031-c5f8d01a65f8",
   "metadata": {},
   "source": [
    "# 9. Write a program that takes a string as input, converts it into a list of characters, reverses the list, and then joins the characters back into a reversed string. Print the reversed string.\n"
   ]
  },
  {
   "cell_type": "code",
   "execution_count": 33,
   "id": "56fc6020-a6e9-4e81-8fae-109b4dcb69fa",
   "metadata": {},
   "outputs": [
    {
     "name": "stdin",
     "output_type": "stream",
     "text": [
      "Enter a string:  Python\n"
     ]
    },
    {
     "name": "stdout",
     "output_type": "stream",
     "text": [
      "Reversed string: nohtyP\n"
     ]
    }
   ],
   "source": [
    "input_str = input(\"Enter a string: \")\n",
    "char_list = list(input_str)\n",
    "char_list.reverse()\n",
    "reversed_str = ''.join(char_list)\n",
    "\n",
    "print(\"Reversed string:\", reversed_str)\n"
   ]
  },
  {
   "cell_type": "markdown",
   "id": "cebac161-7e8d-4462-8350-ae4a7a760501",
   "metadata": {},
   "source": [
    "# 10. Write a program that takes a sentence as input. Split the sentence into a list of words. Then, iterate through the list of words and count the total number of vowels (a, e, i, o, u - case-insensitive) in all the words combined. Print the total vowel count."
   ]
  },
  {
   "cell_type": "code",
   "execution_count": 34,
   "id": "38834af7-0201-4707-a934-b98f005f8d0c",
   "metadata": {},
   "outputs": [
    {
     "name": "stdin",
     "output_type": "stream",
     "text": [
      "Enter a sentence:  Python is awesome\n"
     ]
    },
    {
     "name": "stdout",
     "output_type": "stream",
     "text": [
      "Total number of vowels: 6\n"
     ]
    }
   ],
   "source": [
    "sentence = input(\"Enter a sentence: \")\n",
    "words = sentence.split()\n",
    "\n",
    "vowels = 'aeiouAEIOU'\n",
    "vowel_count = 1\n",
    "\n",
    "# Iterate through each word and each character\n",
    "for word in words:\n",
    "    for char in word:\n",
    "        if char in vowels:\n",
    "            vowel_count += 1\n",
    "print(\"Total number of vowels:\", vowel_count)\n"
   ]
  },
  {
   "cell_type": "markdown",
   "id": "7352fce7-a51a-4e4f-b1d9-2976ef99a2f0",
   "metadata": {},
   "source": [
    "# 1. What is a set in Python? How does it differ from a list and a tuple? What are its key properties?\n"
   ]
  },
  {
   "cell_type": "markdown",
   "id": "a3f97b29-a943-45cb-8cc7-a22b89b76418",
   "metadata": {},
   "source": [
    ">> Set in python is a collection of unique elements\n",
    ">> elements have no fixed position\n",
    ">> We can add remove the elements after creation\n",
    ">> used {} or () Function"
   ]
  },
  {
   "cell_type": "markdown",
   "id": "9d4fa380-d1f9-4fb3-a924-e08111dc3655",
   "metadata": {},
   "source": [
    "# 2. What is a frozenset? How does it differ from a regular set? When might you use a frozenset?"
   ]
  },
  {
   "cell_type": "markdown",
   "id": "f82ba139-f264-4d1d-a327-98dfd2709d34",
   "metadata": {},
   "source": [
    ">> we cannot add, remove, or change its elements after it’s created.\n",
    ">> It is hashable, so it can be used as a key in dictionaries or as an element inside another set"
   ]
  },
  {
   "cell_type": "markdown",
   "id": "175d80aa-7eac-40cc-8781-f38ee7068e06",
   "metadata": {},
   "source": [
    "# 3. Can you have mutable data types as elements of a set? Why or why not? What about frozensets?\n"
   ]
  },
  {
   "cell_type": "markdown",
   "id": "e3bdc233-079d-43e5-8efb-0b041ed8c3ea",
   "metadata": {},
   "source": [
    "#1 No, you cannot have mutable data types (e.g., list, dict, set) as elements of a set.\n",
    "#2 Reason: Sets store elements in a hash table, and elements must be hashable.\n",
    "#3 Mutable objects are not hashable because their contents can change, which would change their hash value and break set lookup."
   ]
  },
  {
   "cell_type": "markdown",
   "id": "77a4b813-6f25-4725-9fbb-94ee0918e78d",
   "metadata": {},
   "source": [
    "# 4. Explain the purpose and usage of the split() method for strings. Provide an example.\n"
   ]
  },
  {
   "cell_type": "markdown",
   "id": "463c8679-4021-4d6d-88fa-2049a2cdcc86",
   "metadata": {},
   "source": [
    ">> The split() method is used to divide a string into a list of substrings based on a specified delimiter.\n"
   ]
  },
  {
   "cell_type": "code",
   "execution_count": 1,
   "id": "3dfb212d-17f9-43d2-aeb3-6b1bc8aedb11",
   "metadata": {},
   "outputs": [
    {
     "name": "stdout",
     "output_type": "stream",
     "text": [
      "['Python', 'is', 'fun']\n"
     ]
    }
   ],
   "source": [
    "text = \"Python is fun\"\n",
    "result = text.split()\n",
    "print(result)  \n",
    "\n"
   ]
  },
  {
   "cell_type": "markdown",
   "id": "628bd156-3c00-46ac-9444-7e453353b24b",
   "metadata": {},
   "source": [
    "# 5. Explain the purpose and usage of the join() method for strings. Provide an example.\n"
   ]
  },
  {
   "cell_type": "markdown",
   "id": "6a4406a5-f42a-49f4-b50b-c57a488584aa",
   "metadata": {},
   "source": [
    ">> The join() method is used to combine (concatenate) elements of an iterable (like a list, tuple, or set) into a single string.\n",
    ">> It is used separator string — the string that will be placed between each element.\n",
    ">> Syntax : separator.join(iterable)\n",
    "separator → The string that separates each element.\n",
    "iterable → Any iterable containing string elements (all items must be strings)."
   ]
  },
  {
   "cell_type": "code",
   "execution_count": 2,
   "id": "0fc0be78-c175-45f6-86e2-ca7372b46654",
   "metadata": {},
   "outputs": [
    {
     "name": "stdout",
     "output_type": "stream",
     "text": [
      "Python is fun\n"
     ]
    }
   ],
   "source": [
    "#joining with space\n",
    "words = [\"Python\", \"is\", \"fun\"]\n",
    "result = \" \".join(words)\n",
    "print(result)\n",
    "\n"
   ]
  },
  {
   "cell_type": "code",
   "execution_count": 3,
   "id": "64e5e563-b9bb-4c0a-a453-9313d3c88f04",
   "metadata": {},
   "outputs": [
    {
     "name": "stdout",
     "output_type": "stream",
     "text": [
      "apple, banana, cherry\n"
     ]
    }
   ],
   "source": [
    "#Joining with a comma\n",
    "fruits = [\"apple\", \"banana\", \"cherry\"]\n",
    "result = \", \".join(fruits)\n",
    "print(result)\n",
    "\n"
   ]
  },
  {
   "cell_type": "code",
   "execution_count": 4,
   "id": "1ee2cddb-f2cb-4732-bd24-8f33a1fa91c7",
   "metadata": {},
   "outputs": [
    {
     "name": "stdout",
     "output_type": "stream",
     "text": [
      "Hello\n"
     ]
    }
   ],
   "source": [
    "#joining without a separator\n",
    "letters = [\"H\", \"e\", \"l\", \"l\", \"o\"]\n",
    "result = \"\".join(letters)\n",
    "print(result)\n",
    "\n"
   ]
  },
  {
   "cell_type": "markdown",
   "id": "e46e5feb-2583-4ac6-ab70-c64b8bc10cf0",
   "metadata": {},
   "source": [
    "# 6. What is a dictionary in Python? How does it store data? What are the key properties of a dictionary?\n"
   ]
  },
  {
   "cell_type": "markdown",
   "id": "30af0a1e-f35f-483b-9af0-c5f830b9e181",
   "metadata": {},
   "source": [
    ">> A dictionary is a mutable, unordered collection of key–value pairs in Python.\n",
    ">> Data is stored in the form of key an value (key: value)\n",
    ">> 1.Unordered 2. Mutable 3.unique Keys 4.Fast Lookup\n",
    ">> Syntax: my_dict = {\"name\": \"Shubham\", \"age\": 22}\n"
   ]
  },
  {
   "cell_type": "code",
   "execution_count": 6,
   "id": "196dfe71-f99f-4ce2-8b7f-78e2551b2cd2",
   "metadata": {},
   "outputs": [
    {
     "name": "stdout",
     "output_type": "stream",
     "text": [
      "Shubham\n",
      "20\n",
      "A\n"
     ]
    }
   ],
   "source": [
    "student = {\"name\": \"Shubham\", \"age\": 20, \"grade\": \"A\"}\n",
    "print(student[\"name\"]) \n",
    "print(student[\"age\"])\n",
    "print(student[\"grade\"])\n",
    "\n"
   ]
  },
  {
   "cell_type": "markdown",
   "id": "7c0540fb-8603-4c3c-bc7a-11c34353d09f",
   "metadata": {},
   "source": [
    "# 7. What are the requirements for keys in a Python dictionary? Why are these requirements in place? Can you use a list as a key?\n"
   ]
  },
  {
   "cell_type": "markdown",
   "id": "27d8090d-e5ca-4a50-8590-3ef2296fd896",
   "metadata": {},
   "source": [
    ">>1. Key Must be immutable 2. Keys must be hashable 3. Keys must be unique.\n",
    ">> Dictionaries use hashing to store and access keys efficiently.\n",
    "If keys could change (mutable), their hash value would also change → making them unreliable for lookup.\n",
    ">> No, List are mutable--> Their contents can change--> not hashable--> will raise a TypeError if used as a key"
   ]
  },
  {
   "cell_type": "code",
   "execution_count": 10,
   "id": "129fb252-f4cc-4c76-8e4a-0d22e5b33521",
   "metadata": {},
   "outputs": [
    {
     "name": "stdout",
     "output_type": "stream",
     "text": [
      "{(1, 2, 3): 'tuple key'}\n"
     ]
    }
   ],
   "source": [
    "my_dict = {(1, 2, 3): \"tuple key\"}   # ✅ Works\n",
    "print(my_dict)  "
   ]
  },
  {
   "cell_type": "code",
   "execution_count": 11,
   "id": "b8eac158-e10c-4da8-a9cd-4688770af2fd",
   "metadata": {},
   "outputs": [
    {
     "ename": "TypeError",
     "evalue": "unhashable type: 'list'",
     "output_type": "error",
     "traceback": [
      "\u001b[31m---------------------------------------------------------------------------\u001b[39m",
      "\u001b[31mTypeError\u001b[39m                                 Traceback (most recent call last)",
      "\u001b[36mCell\u001b[39m\u001b[36m \u001b[39m\u001b[32mIn[11]\u001b[39m\u001b[32m, line 1\u001b[39m\n\u001b[32m----> \u001b[39m\u001b[32m1\u001b[39m \u001b[43mmy_dict\u001b[49m\u001b[43m[\u001b[49m\u001b[43m[\u001b[49m\u001b[32;43m1\u001b[39;49m\u001b[43m,\u001b[49m\u001b[43m \u001b[49m\u001b[32;43m2\u001b[39;49m\u001b[43m,\u001b[49m\u001b[43m \u001b[49m\u001b[32;43m3\u001b[39;49m\u001b[43m]\u001b[49m\u001b[43m]\u001b[49m = \u001b[33m\"\u001b[39m\u001b[33mlist key\u001b[39m\u001b[33m\"\u001b[39m\n\u001b[32m      2\u001b[39m \u001b[38;5;28mprint\u001b[39m(my_dict)  \n",
      "\u001b[31mTypeError\u001b[39m: unhashable type: 'list'"
     ]
    }
   ],
   "source": [
    "my_dict[[1, 2, 3]] = \"list key\"\n",
    "print(my_dict)  "
   ]
  },
  {
   "cell_type": "markdown",
   "id": "9ad74044-1fb3-4f15-b93e-6c10d446e7d8",
   "metadata": {},
   "source": [
    "# 8. Create two sets, set1 with elements [1, 2, 3, 4, 5] and set2 with elements [4, 5, 6, 7, 8]. Convert these lists to sets.\n"
   ]
  },
  {
   "cell_type": "code",
   "execution_count": 12,
   "id": "beb4bfc3-eb48-416f-b9f8-8a7256976156",
   "metadata": {},
   "outputs": [
    {
     "name": "stdout",
     "output_type": "stream",
     "text": [
      "Set 1: {1, 2, 3, 4, 5}\n",
      "Set 2: {4, 5, 6, 7, 8}\n"
     ]
    }
   ],
   "source": [
    "list1 = [1, 2, 3, 4, 5]\n",
    "list2 = [4, 5, 6, 7, 8]\n",
    "\n",
    "set1 = set(list1)\n",
    "set2 = set(list2)\n",
    "print(\"Set 1:\", set1)\n",
    "print(\"Set 2:\", set2)\n"
   ]
  },
  {
   "cell_type": "markdown",
   "id": "37bb9887-732f-47bd-9773-69e1701cd1ee",
   "metadata": {},
   "source": [
    "# 9. Find and print the common elements between set1 and set2 created in the previous question.\n"
   ]
  },
  {
   "cell_type": "code",
   "execution_count": 13,
   "id": "904c3f2b-a883-4b4f-92a4-6f32c63c0198",
   "metadata": {},
   "outputs": [
    {
     "name": "stdout",
     "output_type": "stream",
     "text": [
      "Common elements: {4, 5}\n"
     ]
    }
   ],
   "source": [
    "# Previous sets\n",
    "set1 = {1, 2, 3, 4, 5}\n",
    "set2 = {4, 5, 6, 7, 8}\n",
    "\n",
    "common_elements = set1.intersection(set2)\n",
    "\n",
    "print(\"Common elements:\", common_elements)\n"
   ]
  },
  {
   "cell_type": "markdown",
   "id": "37120dfe-a6ca-4669-94e0-baa75956260e",
   "metadata": {},
   "source": [
    "# 10. Write a program that takes a sentence as input, splits it into words, and then prints the unique words in the sentence.\n"
   ]
  },
  {
   "cell_type": "code",
   "execution_count": 15,
   "id": "9d43f191-0cfe-45d4-bf1b-fc617e68eb3c",
   "metadata": {},
   "outputs": [
    {
     "name": "stdin",
     "output_type": "stream",
     "text": [
      "Enter a sentence:  python is fun and python is easy\n"
     ]
    },
    {
     "name": "stdout",
     "output_type": "stream",
     "text": [
      "Unique words in the sentence: {'python', 'and', 'fun', 'easy', 'is'}\n"
     ]
    }
   ],
   "source": [
    "sentence = input(\"Enter a sentence: \")\n",
    "words = sentence.split()\n",
    "unique_words = set(words)\n",
    "\n",
    "print(\"Unique words in the sentence:\", unique_words)\n"
   ]
  },
  {
   "cell_type": "markdown",
   "id": "7d658b8e-2be4-40a9-a603-0fa09c0c462f",
   "metadata": {},
   "source": [
    ".split() breaks the sentence into a list of words.\n",
    "set() removes duplicate words automatically."
   ]
  },
  {
   "cell_type": "markdown",
   "id": "25810558-def7-489b-8c07-77e5ea3ca8a7",
   "metadata": {},
   "source": [
    "# 11. You have a list of words: [\"Hello\", \"World\", \"Python\"]. Use the join() method to create a single string with these words separated by a hyphen \"-\".\n"
   ]
  },
  {
   "cell_type": "code",
   "execution_count": 16,
   "id": "d4ca65e9-0225-43eb-aa47-add61d27a290",
   "metadata": {},
   "outputs": [
    {
     "name": "stdout",
     "output_type": "stream",
     "text": [
      "Hello-World-Python\n"
     ]
    }
   ],
   "source": [
    "words = [\"Hello\", \"World\", \"Python\"]\n",
    "result = \"-\".join(words)\n",
    "print(result)\n"
   ]
  },
  {
   "cell_type": "markdown",
   "id": "d747cbdd-ac37-4292-8d0c-ccce231b2058",
   "metadata": {},
   "source": [
    "# 12. Create a dictionary that stores the capital cities of three countries (e.g., \"USA\": \"Washington D.C.\", \"France\": \"Paris\", \"Japan\": \"Tokyo\").\n"
   ]
  },
  {
   "cell_type": "code",
   "execution_count": 17,
   "id": "825a5952-3ef0-4aaa-b344-f553f196f5bc",
   "metadata": {},
   "outputs": [
    {
     "name": "stdout",
     "output_type": "stream",
     "text": [
      "{'USA': 'Washington D.C.', 'France': 'Paris', 'Japan': 'Tokyo'}\n"
     ]
    }
   ],
   "source": [
    "capitals = {\n",
    "    \"USA\": \"Washington D.C.\",\n",
    "    \"France\": \"Paris\",\n",
    "    \"Japan\": \"Tokyo\"\n",
    "}\n",
    "\n",
    "print(capitals)\n"
   ]
  },
  {
   "cell_type": "markdown",
   "id": "7fdf0f42-b4b7-49c2-95fa-95f7ff25b734",
   "metadata": {},
   "source": [
    "This dictionary stores country names as keys and their capitals as values."
   ]
  },
  {
   "cell_type": "markdown",
   "id": "8a3f5a8f-f2e5-4fb8-9f4c-1507f0975442",
   "metadata": {},
   "source": [
    "# 13. Given the dictionary from the previous question, ask the user to enter a country and print its capital city. Handle the case where the country is not in the dictionary."
   ]
  },
  {
   "cell_type": "code",
   "execution_count": 18,
   "id": "5936ad8f-1aa4-466c-b0a2-3c7c9ba0c5d6",
   "metadata": {},
   "outputs": [
    {
     "name": "stdin",
     "output_type": "stream",
     "text": [
      "Enter a country name:  France\n"
     ]
    },
    {
     "name": "stdout",
     "output_type": "stream",
     "text": [
      "The capital of France is Paris.\n"
     ]
    }
   ],
   "source": [
    "capitals = {\n",
    "    \"USA\": \"Washington D.C.\",\n",
    "    \"France\": \"Paris\",\n",
    "    \"Japan\": \"Tokyo\"\n",
    "}\n",
    "\n",
    "country = input(\"Enter a country name: \")\n",
    "\n",
    "if country in capitals:\n",
    "    print(f\"The capital of {country} is {capitals[country]}.\")\n",
    "else:\n",
    "    print(\"Sorry, the country is not in the dictionary.\")\n"
   ]
  },
  {
   "cell_type": "code",
   "execution_count": 19,
   "id": "129d685a-67be-42e0-bd2f-4d88d6cc183b",
   "metadata": {},
   "outputs": [
    {
     "name": "stdin",
     "output_type": "stream",
     "text": [
      "Enter a country name:  India\n"
     ]
    },
    {
     "name": "stdout",
     "output_type": "stream",
     "text": [
      "Sorry, the country is not in the dictionary.\n"
     ]
    }
   ],
   "source": [
    "capitals = {\n",
    "    \"USA\": \"Washington D.C.\",\n",
    "    \"France\": \"Paris\",\n",
    "    \"Japan\": \"Tokyo\"\n",
    "}\n",
    "\n",
    "country = input(\"Enter a country name: \")\n",
    "\n",
    "if country in capitals:\n",
    "    print(f\"The capital of {country} is {capitals[country]}.\")\n",
    "else:\n",
    "    print(\"Sorry, the country is not in the dictionary.\")\n"
   ]
  },
  {
   "cell_type": "code",
   "execution_count": null,
   "id": "1b12b802-283b-4043-8a31-4867d81f7a61",
   "metadata": {},
   "outputs": [],
   "source": []
  }
 ],
 "metadata": {
  "kernelspec": {
   "display_name": "Python 3 (ipykernel)",
   "language": "python",
   "name": "python3"
  },
  "language_info": {
   "codemirror_mode": {
    "name": "ipython",
    "version": 3
   },
   "file_extension": ".py",
   "mimetype": "text/x-python",
   "name": "python",
   "nbconvert_exporter": "python",
   "pygments_lexer": "ipython3",
   "version": "3.13.5"
  }
 },
 "nbformat": 4,
 "nbformat_minor": 5
}
