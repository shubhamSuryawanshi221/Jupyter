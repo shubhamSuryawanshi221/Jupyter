{
 "cells": [
  {
   "cell_type": "markdown",
   "id": "bcb6f919",
   "metadata": {},
   "source": [
    "# string"
   ]
  },
  {
   "cell_type": "raw",
   "id": "75263750",
   "metadata": {},
   "source": [
    "\n",
    "string is a collection of characters \n",
    "it is surrounded by single quotes, double quotes or triple (single or double ) quotes\n",
    "\n",
    "Used to represent text data (e.g., names, messages, file paths).\n",
    "\n",
    "alphabets(a-z,A-Z), digit(0-9), space, special character(!@#$%^&*) can be there in string \n",
    "                                     \n",
    "Immutable: Once created, strings cannot be modified (but new strings can be created).\n",
    "                                     \n"
   ]
  },
  {
   "cell_type": "code",
   "execution_count": 1,
   "id": "b689ecf6",
   "metadata": {},
   "outputs": [
    {
     "data": {
      "text/plain": [
       "str"
      ]
     },
     "execution_count": 1,
     "metadata": {},
     "output_type": "execute_result"
    }
   ],
   "source": [
    "#Creating Strings:\n",
    "\n",
    "string1 = 'Hello'\n",
    "string2 = \"World\"\n",
    "string3 = 'This is a string.'\n",
    "string4 = \"Another string here.\"\n",
    "type(string2)"
   ]
  },
  {
   "cell_type": "code",
   "execution_count": null,
   "id": "806f1c8c",
   "metadata": {},
   "outputs": [],
   "source": []
  },
  {
   "cell_type": "code",
   "execution_count": null,
   "id": "28a6bde4",
   "metadata": {},
   "outputs": [],
   "source": [
    "# Triple quotes (''' or \"\"\") are used for multi-line strings or docstrings (documentation strings):\n",
    "\n",
    "multi_line_string = '''This is a\n",
    "string that spans\n",
    "multiple lines.'''\n",
    "\n",
    "another_multi_line = \"\"\"You can also use\n",
    "double triple quotes.\"\"\""
   ]
  },
  {
   "cell_type": "code",
   "execution_count": 2,
   "id": "5b24478e",
   "metadata": {
    "scrolled": true
   },
   "outputs": [
    {
     "ename": "SyntaxError",
     "evalue": "EOL while scanning string literal (542473280.py, line 1)",
     "output_type": "error",
     "traceback": [
      "\u001b[1;36m  Input \u001b[1;32mIn [2]\u001b[1;36m\u001b[0m\n\u001b[1;33m    string4 = \"Another string\u001b[0m\n\u001b[1;37m                             ^\u001b[0m\n\u001b[1;31mSyntaxError\u001b[0m\u001b[1;31m:\u001b[0m EOL while scanning string literal\n"
     ]
    }
   ],
   "source": [
    "string4 = \"Another string\n",
    "here.\"\n",
    "string4"
   ]
  },
  {
   "cell_type": "code",
   "execution_count": null,
   "id": "bcb7288e",
   "metadata": {},
   "outputs": [],
   "source": []
  },
  {
   "cell_type": "code",
   "execution_count": null,
   "id": "95fec7d3",
   "metadata": {},
   "outputs": [],
   "source": [
    "we can not use single quotes inside single quotes\n",
    "we can not use double quotes inside double quotes\n",
    "we can not use triple quotes inside triple quotes\n",
    "\n",
    "we cam use single quotes and double quotes"
   ]
  },
  {
   "cell_type": "code",
   "execution_count": 3,
   "id": "1c79459a",
   "metadata": {},
   "outputs": [
    {
     "ename": "SyntaxError",
     "evalue": "invalid syntax (2957277004.py, line 1)",
     "output_type": "error",
     "traceback": [
      "\u001b[1;36m  Input \u001b[1;32mIn [3]\u001b[1;36m\u001b[0m\n\u001b[1;33m    la=\"where are you going, \"are you going to park\"\"\u001b[0m\n\u001b[1;37m                              ^\u001b[0m\n\u001b[1;31mSyntaxError\u001b[0m\u001b[1;31m:\u001b[0m invalid syntax\n"
     ]
    }
   ],
   "source": [
    "la=\"where are you going, \"are you going to park\"\"\n",
    "la"
   ]
  },
  {
   "cell_type": "code",
   "execution_count": 4,
   "id": "96d9f57b",
   "metadata": {},
   "outputs": [
    {
     "name": "stdout",
     "output_type": "stream",
     "text": [
      "python\n"
     ]
    }
   ],
   "source": [
    "str1='python'\n",
    "print(str1)"
   ]
  },
  {
   "cell_type": "code",
   "execution_count": null,
   "id": "72d234b4",
   "metadata": {},
   "outputs": [],
   "source": [
    "#practice\n"
   ]
  },
  {
   "cell_type": "code",
   "execution_count": 5,
   "id": "e5b82a41",
   "metadata": {},
   "outputs": [
    {
     "name": "stdout",
     "output_type": "stream",
     "text": [
      "python\n"
     ]
    }
   ],
   "source": [
    "str1=\"python\"\n",
    "print(str1)"
   ]
  },
  {
   "cell_type": "code",
   "execution_count": 6,
   "id": "1867e22c",
   "metadata": {},
   "outputs": [
    {
     "name": "stdout",
     "output_type": "stream",
     "text": [
      "python\n"
     ]
    }
   ],
   "source": [
    "str1=\"\"\"python\"\"\"\n",
    "print(str1)"
   ]
  },
  {
   "cell_type": "code",
   "execution_count": 7,
   "id": "9ea43522",
   "metadata": {},
   "outputs": [
    {
     "name": "stdout",
     "output_type": "stream",
     "text": [
      "python\n"
     ]
    }
   ],
   "source": [
    "str1='''python'''\n",
    "print(str1)"
   ]
  },
  {
   "cell_type": "code",
   "execution_count": 2,
   "id": "60336494",
   "metadata": {},
   "outputs": [
    {
     "data": {
      "text/plain": [
       "'this is the class\\nwe are in python class'"
      ]
     },
     "execution_count": 2,
     "metadata": {},
     "output_type": "execute_result"
    }
   ],
   "source": [
    "str2=\"\"\"this is the class\n",
    "we are in python class\"\"\"\n",
    "str2"
   ]
  },
  {
   "cell_type": "code",
   "execution_count": 8,
   "id": "f55fed95",
   "metadata": {},
   "outputs": [
    {
     "ename": "SyntaxError",
     "evalue": "invalid syntax (1062345633.py, line 1)",
     "output_type": "error",
     "traceback": [
      "\u001b[1;36m  Input \u001b[1;32mIn [8]\u001b[1;36m\u001b[0m\n\u001b[1;33m    str2 = 'python and 'data' science'\u001b[0m\n\u001b[1;37m                        ^\u001b[0m\n\u001b[1;31mSyntaxError\u001b[0m\u001b[1;31m:\u001b[0m invalid syntax\n"
     ]
    }
   ],
   "source": [
    "str2 = 'python and 'data' science'\n",
    "print(str2)"
   ]
  },
  {
   "cell_type": "code",
   "execution_count": 10,
   "id": "71e77f10",
   "metadata": {},
   "outputs": [
    {
     "name": "stdout",
     "output_type": "stream",
     "text": [
      "python and \"data\" science\n"
     ]
    }
   ],
   "source": [
    "str2 = 'python and \"data\" science'\n",
    "print(str2)"
   ]
  },
  {
   "cell_type": "code",
   "execution_count": 11,
   "id": "3f2da218",
   "metadata": {},
   "outputs": [
    {
     "ename": "SyntaxError",
     "evalue": "invalid syntax (2896244630.py, line 1)",
     "output_type": "error",
     "traceback": [
      "\u001b[1;36m  Input \u001b[1;32mIn [11]\u001b[1;36m\u001b[0m\n\u001b[1;33m    str2 = \"python and \"data\" science\"\u001b[0m\n\u001b[1;37m                        ^\u001b[0m\n\u001b[1;31mSyntaxError\u001b[0m\u001b[1;31m:\u001b[0m invalid syntax\n"
     ]
    }
   ],
   "source": [
    "str2 = \"python and \"data\" science\"\n",
    "print(str2)"
   ]
  },
  {
   "cell_type": "code",
   "execution_count": 12,
   "id": "84871bd9",
   "metadata": {},
   "outputs": [
    {
     "name": "stdout",
     "output_type": "stream",
     "text": [
      "python and 'data' science\n"
     ]
    }
   ],
   "source": [
    "str2 = \"python and 'data' science\"\n",
    "print(str2)"
   ]
  },
  {
   "cell_type": "markdown",
   "id": "982cb91f",
   "metadata": {},
   "source": [
    "## escape character"
   ]
  },
  {
   "cell_type": "code",
   "execution_count": null,
   "id": "4f14858f",
   "metadata": {},
   "outputs": [],
   "source": [
    "Escape characters in Python are special sequences of characters starting with a backslash (\\).\n",
    "\n"
   ]
  },
  {
   "cell_type": "code",
   "execution_count": null,
   "id": "fee54219",
   "metadata": {},
   "outputs": [],
   "source": [
    "Include quotes inside a string (e.g., \"She said, \\\"Hello!\\\"\")."
   ]
  },
  {
   "cell_type": "code",
   "execution_count": 13,
   "id": "41f3808d",
   "metadata": {},
   "outputs": [
    {
     "name": "stdout",
     "output_type": "stream",
     "text": [
      "She said, \"Hello!\"\n"
     ]
    }
   ],
   "source": [
    "s=\"She said, \\\"Hello!\\\"\"\n",
    "print(s)"
   ]
  },
  {
   "cell_type": "code",
   "execution_count": null,
   "id": "2c069366",
   "metadata": {},
   "outputs": [],
   "source": [
    "Newline (\\n)"
   ]
  },
  {
   "cell_type": "code",
   "execution_count": 2,
   "id": "d67133b6",
   "metadata": {},
   "outputs": [
    {
     "name": "stdout",
     "output_type": "stream",
     "text": [
      "Hello\n",
      "World!\n"
     ]
    }
   ],
   "source": [
    "print(\"Hello\\nWorld!\")"
   ]
  },
  {
   "cell_type": "code",
   "execution_count": 14,
   "id": "6cdc29ae",
   "metadata": {},
   "outputs": [
    {
     "data": {
      "text/plain": [
       "'Data science is an interdisciplinary field that uses scientific methods, processes, algorithms and systems to extract knowledge and insights from noisy'"
      ]
     },
     "execution_count": 14,
     "metadata": {},
     "output_type": "execute_result"
    }
   ],
   "source": [
    "str3= 'Data science is an interdisciplinary field that uses scientific methods, processes, algorithms and systems to extract knowledge and insights from noisy'\n",
    "str3"
   ]
  },
  {
   "cell_type": "code",
   "execution_count": 7,
   "id": "340acaff",
   "metadata": {},
   "outputs": [
    {
     "name": "stdout",
     "output_type": "stream",
     "text": [
      "Data science is an interdisciplinary \n",
      "field that uses scientific methods \n",
      "processes algorithms and systems to \n",
      "extract knowledge and insights from noisy\n"
     ]
    }
   ],
   "source": [
    "str3= \"Data science is an interdisciplinary \\nfield that uses scientific methods \\nprocesses algorithms and systems to \\nextract knowledge and insights from noisy\"\n",
    "print(str3)"
   ]
  },
  {
   "cell_type": "code",
   "execution_count": null,
   "id": "e80cc9f1",
   "metadata": {},
   "outputs": [],
   "source": [
    "Tab (\\t)"
   ]
  },
  {
   "cell_type": "code",
   "execution_count": 15,
   "id": "78214c4a",
   "metadata": {},
   "outputs": [
    {
     "name": "stdout",
     "output_type": "stream",
     "text": [
      "Name:John Doe\n",
      "Age:30\n"
     ]
    }
   ],
   "source": [
    "print(\"Name:John Doe\")\n",
    "print(\"Age:30\")"
   ]
  },
  {
   "cell_type": "code",
   "execution_count": 3,
   "id": "19d7876d",
   "metadata": {},
   "outputs": [
    {
     "name": "stdout",
     "output_type": "stream",
     "text": [
      "Name:\tJohn Doe\n",
      "Age:\t30\n"
     ]
    }
   ],
   "source": [
    "print(\"Name:\\tJohn Doe\")\n",
    "print(\"Age:\\t30\")"
   ]
  },
  {
   "cell_type": "code",
   "execution_count": 16,
   "id": "45a76331",
   "metadata": {},
   "outputs": [
    {
     "name": "stdout",
     "output_type": "stream",
     "text": [
      "python\tdata\tscience\n"
     ]
    }
   ],
   "source": [
    "# python data science\n",
    "str5=\"python\\tdata\\tscience\"\n",
    "print(str5)"
   ]
  },
  {
   "cell_type": "code",
   "execution_count": null,
   "id": "7234d1f7",
   "metadata": {},
   "outputs": [],
   "source": [
    "Single Quote (\\')"
   ]
  },
  {
   "cell_type": "code",
   "execution_count": 4,
   "id": "1ba9ace7",
   "metadata": {},
   "outputs": [
    {
     "name": "stdout",
     "output_type": "stream",
     "text": [
      "This is John's book.\n"
     ]
    }
   ],
   "source": [
    "print('This is John\\'s book.')"
   ]
  },
  {
   "cell_type": "code",
   "execution_count": 5,
   "id": "4224e332",
   "metadata": {
    "scrolled": true
   },
   "outputs": [
    {
     "name": "stdout",
     "output_type": "stream",
     "text": [
      "python and \"data\" science\n"
     ]
    }
   ],
   "source": [
    "str2 = \"python and \\\"data\\\" science\"\n",
    "print(str2)"
   ]
  },
  {
   "cell_type": "markdown",
   "id": "1d434493",
   "metadata": {},
   "source": [
    "# Raw string"
   ]
  },
  {
   "cell_type": "code",
   "execution_count": null,
   "id": "d92a3574",
   "metadata": {},
   "outputs": [],
   "source": [
    ">> to give file path"
   ]
  },
  {
   "cell_type": "code",
   "execution_count": null,
   "id": "b0e3d66c",
   "metadata": {},
   "outputs": [],
   "source": [
    "path = r\"C:\\\\Users\\\\Documents\\\\file.txt\"  "
   ]
  },
  {
   "cell_type": "markdown",
   "id": "96244f86",
   "metadata": {},
   "source": [
    "## Indexing"
   ]
  },
  {
   "cell_type": "code",
   "execution_count": null,
   "id": "4476cbb3",
   "metadata": {},
   "outputs": [],
   "source": [
    ">> it is used to access only one character/particular characters from string.\n",
    ">> positive index will always start from zero (0).Negative indexing is also allowed (starts from -1 for the last character).\n",
    ">> use [] to print particular string item."
   ]
  },
  {
   "cell_type": "code",
   "execution_count": 3,
   "id": "87421242",
   "metadata": {},
   "outputs": [],
   "source": [
    "sample = 'python'"
   ]
  },
  {
   "cell_type": "code",
   "execution_count": null,
   "id": "03a4f113",
   "metadata": {},
   "outputs": [],
   "source": [
    "             p y t h o n\n",
    "             0 1 2 3 4 5"
   ]
  },
  {
   "cell_type": "code",
   "execution_count": null,
   "id": "a95155c0",
   "metadata": {},
   "outputs": [],
   "source": [
    "Positive Indexing: Starts at 0 (left to right).\n",
    "\n",
    "Negative Indexing: Starts at -1 (right to left).\n",
    "\n",
    "Immutability: You can’t modify a character using indexing (e.g., text[0] = \"h\""
   ]
  },
  {
   "cell_type": "code",
   "execution_count": null,
   "id": "9fc0bc37",
   "metadata": {},
   "outputs": [],
   "source": [
    "                          p y t h o n\n",
    "positive indexing         0 1 2 3 4 5\n",
    "negative indexing        -6-5-4-3-2-1"
   ]
  },
  {
   "cell_type": "code",
   "execution_count": 4,
   "id": "abb48de8",
   "metadata": {},
   "outputs": [
    {
     "data": {
      "text/plain": [
       "'p'"
      ]
     },
     "execution_count": 4,
     "metadata": {},
     "output_type": "execute_result"
    }
   ],
   "source": [
    "sample[0]"
   ]
  },
  {
   "cell_type": "code",
   "execution_count": 27,
   "id": "27c10a71",
   "metadata": {},
   "outputs": [
    {
     "name": "stdout",
     "output_type": "stream",
     "text": [
      "p\n",
      "y\n",
      "t\n",
      "h\n",
      "o\n",
      "n\n"
     ]
    }
   ],
   "source": [
    "print(sample[0])\n",
    "print(sample[1])\n",
    "print(sample[2])\n",
    "print(sample[3])\n",
    "print(sample[4])\n",
    "print(sample[5])\n",
    "# print(sample[6])"
   ]
  },
  {
   "cell_type": "code",
   "execution_count": 28,
   "id": "6cc6a1b8",
   "metadata": {},
   "outputs": [
    {
     "name": "stdout",
     "output_type": "stream",
     "text": [
      "p\n",
      "n\n"
     ]
    }
   ],
   "source": [
    "print(sample[-6])\n",
    "print(sample[-1])\n",
    "# print(sample[2])\n",
    "# print(sample[3])\n",
    "# print(sample[4])\n",
    "# print(sample[5])"
   ]
  }
 ],
 "metadata": {
  "kernelspec": {
   "display_name": "Python 3 (ipykernel)",
   "language": "python",
   "name": "python3"
  },
  "language_info": {
   "codemirror_mode": {
    "name": "ipython",
    "version": 3
   },
   "file_extension": ".py",
   "mimetype": "text/x-python",
   "name": "python",
   "nbconvert_exporter": "python",
   "pygments_lexer": "ipython3",
   "version": "3.9.12"
  }
 },
 "nbformat": 4,
 "nbformat_minor": 5
}
