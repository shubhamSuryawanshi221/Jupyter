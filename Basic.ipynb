{
 "cells": [
  {
   "cell_type": "markdown",
   "id": "92b4b94b",
   "metadata": {},
   "source": [
    "## Variables"
   ]
  },
  {
   "cell_type": "raw",
   "id": "f42185e2",
   "metadata": {},
   "source": [
    ">> Container to store data\n",
    ">> No need to specify data type of variable\n",
    ">> = sign is used to assign values to variable"
   ]
  },
  {
   "cell_type": "code",
   "execution_count": 4,
   "id": "87931c0b",
   "metadata": {},
   "outputs": [
    {
     "data": {
      "text/plain": [
       "'this is variable'"
      ]
     },
     "execution_count": 4,
     "metadata": {},
     "output_type": "execute_result"
    }
   ],
   "source": [
    "variable1=\"this is variable\"\n",
    "variable1"
   ]
  },
  {
   "cell_type": "code",
   "execution_count": 7,
   "id": "72fec958",
   "metadata": {},
   "outputs": [
    {
     "name": "stdout",
     "output_type": "stream",
     "text": [
      "[1, 2, 3]\n",
      "this is variable\n"
     ]
    }
   ],
   "source": [
    "variable2=[1,2,3]\n",
    "variable2\n",
    "print(variable2)\n",
    "print(variable1)"
   ]
  },
  {
   "cell_type": "code",
   "execution_count": 8,
   "id": "82a27179",
   "metadata": {},
   "outputs": [
    {
     "data": {
      "text/plain": [
       "str"
      ]
     },
     "execution_count": 8,
     "metadata": {},
     "output_type": "execute_result"
    }
   ],
   "source": [
    "type(variable1)"
   ]
  },
  {
   "cell_type": "code",
   "execution_count": 9,
   "id": "d957e18f",
   "metadata": {},
   "outputs": [
    {
     "data": {
      "text/plain": [
       "list"
      ]
     },
     "execution_count": 9,
     "metadata": {},
     "output_type": "execute_result"
    }
   ],
   "source": [
    "type(variable2)"
   ]
  },
  {
   "cell_type": "code",
   "execution_count": 10,
   "id": "085bf67e",
   "metadata": {},
   "outputs": [
    {
     "name": "stdout",
     "output_type": "stream",
     "text": [
      "<class 'str'>\n"
     ]
    }
   ],
   "source": [
    "print(type(variable1))"
   ]
  },
  {
   "cell_type": "code",
   "execution_count": null,
   "id": "b562d23e",
   "metadata": {},
   "outputs": [],
   "source": []
  },
  {
   "cell_type": "code",
   "execution_count": 11,
   "id": "72cc4626",
   "metadata": {},
   "outputs": [
    {
     "name": "stdout",
     "output_type": "stream",
     "text": [
      "this is the message that will be showed to the usermy name is vishnu\n"
     ]
    }
   ],
   "source": [
    "var=input(\"this is the message that will be showed to the user\")"
   ]
  },
  {
   "cell_type": "code",
   "execution_count": null,
   "id": "d39bf64a",
   "metadata": {},
   "outputs": [],
   "source": [
    "var2=input(\"please enter your age \")"
   ]
  },
  {
   "cell_type": "code",
   "execution_count": 14,
   "id": "6952eed1",
   "metadata": {},
   "outputs": [
    {
     "name": "stdout",
     "output_type": "stream",
     "text": [
      "please enter your age 78\n"
     ]
    }
   ],
   "source": [
    "var4=input(\"please enter your age \")"
   ]
  },
  {
   "cell_type": "code",
   "execution_count": null,
   "id": "b3bb4481",
   "metadata": {},
   "outputs": [],
   "source": [
    "VAR5=45\n",
    "var5=67\n"
   ]
  },
  {
   "cell_type": "code",
   "execution_count": 16,
   "id": "09f2d7d2",
   "metadata": {},
   "outputs": [],
   "source": [
    "string1=\"hello everyone\""
   ]
  },
  {
   "cell_type": "code",
   "execution_count": 17,
   "id": "97503341",
   "metadata": {},
   "outputs": [
    {
     "data": {
      "text/plain": [
       "str"
      ]
     },
     "execution_count": 17,
     "metadata": {},
     "output_type": "execute_result"
    }
   ],
   "source": [
    "type(string1)"
   ]
  },
  {
   "cell_type": "code",
   "execution_count": null,
   "id": "71e94881",
   "metadata": {},
   "outputs": [],
   "source": [
    "number=12"
   ]
  },
  {
   "cell_type": "code",
   "execution_count": 18,
   "id": "e0cd862d",
   "metadata": {
    "scrolled": true
   },
   "outputs": [
    {
     "data": {
      "text/plain": [
       "int"
      ]
     },
     "execution_count": 18,
     "metadata": {},
     "output_type": "execute_result"
    }
   ],
   "source": [
    "type(number)"
   ]
  },
  {
   "cell_type": "code",
   "execution_count": 19,
   "id": "b3f8c64a",
   "metadata": {},
   "outputs": [
    {
     "data": {
      "text/plain": [
       "float"
      ]
     },
     "execution_count": 19,
     "metadata": {},
     "output_type": "execute_result"
    }
   ],
   "source": [
    "f=3.23\n",
    "type(f)"
   ]
  },
  {
   "cell_type": "code",
   "execution_count": null,
   "id": "bbd1e75e",
   "metadata": {},
   "outputs": [],
   "source": [
    "list1=[12,34,56,43,56]\n"
   ]
  },
  {
   "cell_type": "code",
   "execution_count": 3,
   "id": "a7eb2033",
   "metadata": {},
   "outputs": [],
   "source": [
    "_char=12"
   ]
  },
  {
   "cell_type": "code",
   "execution_count": 5,
   "id": "adcfba70",
   "metadata": {},
   "outputs": [
    {
     "data": {
      "text/plain": [
       "12"
      ]
     },
     "execution_count": 5,
     "metadata": {},
     "output_type": "execute_result"
    }
   ],
   "source": [
    "NUMBER=12\n",
    "NUMBER"
   ]
  },
  {
   "cell_type": "code",
   "execution_count": 9,
   "id": "4e74fff2",
   "metadata": {},
   "outputs": [
    {
     "data": {
      "text/plain": [
       "13"
      ]
     },
     "execution_count": 9,
     "metadata": {},
     "output_type": "execute_result"
    }
   ],
   "source": [
    "number=13\n",
    "number"
   ]
  },
  {
   "cell_type": "code",
   "execution_count": 15,
   "id": "d4864cb6",
   "metadata": {},
   "outputs": [
    {
     "ename": "SyntaxError",
     "evalue": "invalid syntax (785603705.py, line 1)",
     "output_type": "error",
     "traceback": [
      "\u001b[1;36m  Input \u001b[1;32mIn [15]\u001b[1;36m\u001b[0m\n\u001b[1;33m    12variable=\"ghj\"\u001b[0m\n\u001b[1;37m      ^\u001b[0m\n\u001b[1;31mSyntaxError\u001b[0m\u001b[1;31m:\u001b[0m invalid syntax\n"
     ]
    }
   ],
   "source": [
    "12variable=\"ghj\"\n",
    "12variable"
   ]
  },
  {
   "cell_type": "raw",
   "id": "8467767b",
   "metadata": {},
   "source": [
    "Rules for Defining Variables:\n",
    "    >> Start with a letter/underscore (_name).\n",
    "    >> They cannot start with a number.\n",
    "    >> They are case-sensitive (age is different from Age).\n",
    "    >> Avoid using Python keywords (e.g., if, else, for, while, print) as variable names (reserved keywords)\n",
    "    >> Variable names should be descriptive and meaningful (not a rule)"
   ]
  },
  {
   "cell_type": "code",
   "execution_count": 16,
   "id": "76a63436",
   "metadata": {},
   "outputs": [
    {
     "data": {
      "text/plain": [
       "'viable'"
      ]
     },
     "execution_count": 16,
     "metadata": {},
     "output_type": "execute_result"
    }
   ],
   "source": [
    "print=\"viable\"\n"
   ]
  },
  {
   "cell_type": "code",
   "execution_count": null,
   "id": "428b267a",
   "metadata": {},
   "outputs": [],
   "source": [
    "name=\" ganesh, vishakha, amar\"\n",
    "age=[65, 34,54]"
   ]
  },
  {
   "cell_type": "code",
   "execution_count": 17,
   "id": "4052c229",
   "metadata": {},
   "outputs": [
    {
     "ename": "SyntaxError",
     "evalue": "invalid syntax (3929146603.py, line 1)",
     "output_type": "error",
     "traceback": [
      "\u001b[1;36m  Input \u001b[1;32mIn [17]\u001b[1;36m\u001b[0m\n\u001b[1;33m    for=\"variable\"\u001b[0m\n\u001b[1;37m       ^\u001b[0m\n\u001b[1;31mSyntaxError\u001b[0m\u001b[1;31m:\u001b[0m invalid syntax\n"
     ]
    }
   ],
   "source": [
    "for=\"variable\"\n",
    "for"
   ]
  },
  {
   "cell_type": "code",
   "execution_count": 8,
   "id": "7edd6c66",
   "metadata": {},
   "outputs": [],
   "source": [
    "Deleting Variables:\n",
    "    del "
   ]
  },
  {
   "cell_type": "code",
   "execution_count": null,
   "id": "9f71338b",
   "metadata": {},
   "outputs": [],
   "source": [
    "examples:"
   ]
  },
  {
   "cell_type": "code",
   "execution_count": 19,
   "id": "3ad09626",
   "metadata": {},
   "outputs": [
    {
     "data": {
      "text/plain": [
       "'this is example'"
      ]
     },
     "execution_count": 19,
     "metadata": {},
     "output_type": "execute_result"
    }
   ],
   "source": [
    "abc=\"this is example\"\n",
    "abc"
   ]
  },
  {
   "cell_type": "code",
   "execution_count": 23,
   "id": "4d5225bf",
   "metadata": {},
   "outputs": [
    {
     "ename": "NameError",
     "evalue": "name 'abc' is not defined",
     "output_type": "error",
     "traceback": [
      "\u001b[1;31m---------------------------------------------------------------------------\u001b[0m",
      "\u001b[1;31mNameError\u001b[0m                                 Traceback (most recent call last)",
      "Input \u001b[1;32mIn [23]\u001b[0m, in \u001b[0;36m<cell line: 1>\u001b[1;34m()\u001b[0m\n\u001b[1;32m----> 1\u001b[0m \u001b[38;5;28;01mdel\u001b[39;00m abc\n\u001b[0;32m      2\u001b[0m \u001b[38;5;28;01mdel\u001b[39;00m list1\n",
      "\u001b[1;31mNameError\u001b[0m: name 'abc' is not defined"
     ]
    }
   ],
   "source": [
    "del abc\n"
   ]
  },
  {
   "cell_type": "code",
   "execution_count": 24,
   "id": "bc436a13",
   "metadata": {},
   "outputs": [],
   "source": [
    "del list1"
   ]
  },
  {
   "cell_type": "code",
   "execution_count": 22,
   "id": "9d4ba499",
   "metadata": {},
   "outputs": [
    {
     "data": {
      "text/plain": [
       "[12, 34, 56]"
      ]
     },
     "execution_count": 22,
     "metadata": {},
     "output_type": "execute_result"
    }
   ],
   "source": [
    "list1=[12,34,56]\n",
    "list1"
   ]
  },
  {
   "cell_type": "code",
   "execution_count": null,
   "id": "467c6a53",
   "metadata": {},
   "outputs": [],
   "source": [
    "types of variable:\n",
    "    >> global variable \n",
    "    >> local variable"
   ]
  },
  {
   "cell_type": "code",
   "execution_count": null,
   "id": "bc927cae",
   "metadata": {},
   "outputs": [],
   "source": [
    "example:"
   ]
  },
  {
   "cell_type": "markdown",
   "id": "c48de4a2",
   "metadata": {},
   "source": [
    "## Data types"
   ]
  },
  {
   "cell_type": "code",
   "execution_count": null,
   "id": "f67982bd",
   "metadata": {},
   "outputs": [],
   "source": [
    ">> variable can store data of different types \n",
    ">> python has various built-in data types by defaults\n",
    "\n",
    "Numeric >> int, float, complex.\n",
    "text >> str.\n",
    "sequence >> list, tuple, range, set, frozenset\n",
    "mapping >> dict >> { 'Name': \"Rahul\", 'age': 19}\n",
    "set datatypes >>set, frozenset\n",
    "boolean >> bool (True/ False)\n",
    "Nonetype>> None"
   ]
  },
  {
   "cell_type": "code",
   "execution_count": null,
   "id": "8b476e55",
   "metadata": {},
   "outputs": [],
   "source": [
    "Integer (int): Whole numbers (age = 30, count = 100).\n",
    "Float (float): Decimal numbers (price = 99.99, pi = 3.14159)\n",
    "String (str): Sequences of characters enclosed in single or double quotes (name = \"vishal\", message = 'Hello!').\n",
    "Boolean (bool): Represents truth values, either True or False\n"
   ]
  },
  {
   "cell_type": "code",
   "execution_count": 1,
   "id": "603220ad",
   "metadata": {},
   "outputs": [
    {
     "data": {
      "text/plain": [
       "int"
      ]
     },
     "execution_count": 1,
     "metadata": {},
     "output_type": "execute_result"
    }
   ],
   "source": [
    "num=34\n",
    "type(num)"
   ]
  },
  {
   "cell_type": "code",
   "execution_count": 2,
   "id": "f1ac1b99",
   "metadata": {},
   "outputs": [
    {
     "data": {
      "text/plain": [
       "float"
      ]
     },
     "execution_count": 2,
     "metadata": {},
     "output_type": "execute_result"
    }
   ],
   "source": [
    "num1=45.45\n",
    "type(num1)"
   ]
  },
  {
   "cell_type": "code",
   "execution_count": 3,
   "id": "03c6da44",
   "metadata": {},
   "outputs": [
    {
     "data": {
      "text/plain": [
       "str"
      ]
     },
     "execution_count": 3,
     "metadata": {},
     "output_type": "execute_result"
    }
   ],
   "source": [
    "string1=\"this is string\"\n",
    "type(string1)"
   ]
  },
  {
   "cell_type": "code",
   "execution_count": 5,
   "id": "85d0f94f",
   "metadata": {},
   "outputs": [
    {
     "data": {
      "text/plain": [
       "str"
      ]
     },
     "execution_count": 5,
     "metadata": {},
     "output_type": "execute_result"
    }
   ],
   "source": [
    "ns=\"34\"\n",
    "type(ns)"
   ]
  },
  {
   "cell_type": "code",
   "execution_count": null,
   "id": "e8f19cfe",
   "metadata": {},
   "outputs": [],
   "source": [
    "how to check the datatype of variable?\n",
    "\n",
    "type(variable)"
   ]
  },
  {
   "cell_type": "code",
   "execution_count": null,
   "id": "7e4aa649",
   "metadata": {},
   "outputs": [],
   "source": []
  },
  {
   "cell_type": "markdown",
   "id": "92921c20",
   "metadata": {},
   "source": [
    "## Python Type Casting"
   ]
  },
  {
   "cell_type": "code",
   "execution_count": null,
   "id": "b8c98e9b",
   "metadata": {},
   "outputs": [],
   "source": [
    ">> used to specify variable type\n",
    ">> to change data type of variable"
   ]
  },
  {
   "cell_type": "code",
   "execution_count": null,
   "id": "c2f1b7ba",
   "metadata": {},
   "outputs": [],
   "source": [
    "Not all conversions are possible"
   ]
  },
  {
   "cell_type": "markdown",
   "id": "d3bb4b1b",
   "metadata": {},
   "source": [
    "## 1. int to float"
   ]
  },
  {
   "cell_type": "code",
   "execution_count": 1,
   "id": "b7219c47",
   "metadata": {},
   "outputs": [
    {
     "name": "stdout",
     "output_type": "stream",
     "text": [
      "a= 45 <class 'int'>\n",
      "b= 45.0 <class 'float'>\n"
     ]
    }
   ],
   "source": [
    "a= 45\n",
    "b = float(a)\n",
    "print('a=',a, type(a)) #  a=45 int\n",
    "print('b=',b, type(b)) # b= 45.0 float"
   ]
  },
  {
   "cell_type": "code",
   "execution_count": 4,
   "id": "995dc826",
   "metadata": {},
   "outputs": [
    {
     "data": {
      "text/plain": [
       "float"
      ]
     },
     "execution_count": 4,
     "metadata": {},
     "output_type": "execute_result"
    }
   ],
   "source": [
    "a=45\n",
    "s=float(a)\n",
    "type(s)\n",
    "# type(a)"
   ]
  },
  {
   "cell_type": "code",
   "execution_count": 11,
   "id": "50212999",
   "metadata": {},
   "outputs": [
    {
     "name": "stdout",
     "output_type": "stream",
     "text": [
      "A >>  12457895 <class 'int'>\n",
      "b=== 12457895.0 <class 'float'>\n"
     ]
    }
   ],
   "source": [
    "A= 12457895\n",
    "b = float(A)\n",
    "print('A >> ',A, type(A)) \n",
    "print('b===',b, type(b)) "
   ]
  },
  {
   "cell_type": "markdown",
   "id": "236ac9d1",
   "metadata": {},
   "source": [
    "## 2. float to int"
   ]
  },
  {
   "cell_type": "code",
   "execution_count": 12,
   "id": "0c45c4a7",
   "metadata": {},
   "outputs": [
    {
     "name": "stdout",
     "output_type": "stream",
     "text": [
      "a= 45.9999999999999 <class 'float'>\n",
      "b= 45 <class 'int'>\n"
     ]
    }
   ],
   "source": [
    "a= 45.9999999999999\n",
    "b= int(a)\n",
    "print('a=',a, type(a))\n",
    "print('b=',b, type(b))"
   ]
  },
  {
   "cell_type": "code",
   "execution_count": 13,
   "id": "be067c40",
   "metadata": {},
   "outputs": [
    {
     "data": {
      "text/plain": [
       "int"
      ]
     },
     "execution_count": 13,
     "metadata": {},
     "output_type": "execute_result"
    }
   ],
   "source": [
    "a=23.33\n",
    "b=int(a)\n",
    "type(b)"
   ]
  },
  {
   "cell_type": "code",
   "execution_count": 14,
   "id": "238ba899",
   "metadata": {},
   "outputs": [
    {
     "name": "stdout",
     "output_type": "stream",
     "text": [
      "a= 3.14 <class 'float'>\n",
      "b= 3 <class 'int'>\n"
     ]
    }
   ],
   "source": [
    "a= 3.14\n",
    "b= int(a)\n",
    "print('a=',a, type(a))\n",
    "print('b=',b, type(b))"
   ]
  },
  {
   "cell_type": "markdown",
   "id": "70162681",
   "metadata": {},
   "source": [
    "## 3. int to complex"
   ]
  },
  {
   "cell_type": "code",
   "execution_count": 15,
   "id": "42e7b2c8",
   "metadata": {},
   "outputs": [
    {
     "name": "stdout",
     "output_type": "stream",
     "text": [
      "a= 4 <class 'int'>\n",
      "b= (4+0j) <class 'complex'>\n"
     ]
    }
   ],
   "source": [
    "a= 4\n",
    "b= complex(a)\n",
    "print('a=',a, type(a))  #4, int\n",
    "print('b=',b, type(b))  # 4+0j,   4+j   complex"
   ]
  },
  {
   "cell_type": "code",
   "execution_count": 16,
   "id": "15c3a901",
   "metadata": {},
   "outputs": [
    {
     "name": "stdout",
     "output_type": "stream",
     "text": [
      "a= -44 <class 'int'>\n",
      "b= (-44+0j) <class 'complex'>\n"
     ]
    }
   ],
   "source": [
    "a= -44\n",
    "b= complex(a)\n",
    "print('a=',a, type(a))\n",
    "print('b=',b, type(b))"
   ]
  },
  {
   "cell_type": "markdown",
   "id": "70c5bfb7",
   "metadata": {},
   "source": [
    "## 4. float to complex"
   ]
  },
  {
   "cell_type": "code",
   "execution_count": 5,
   "id": "b187c54b",
   "metadata": {},
   "outputs": [
    {
     "name": "stdout",
     "output_type": "stream",
     "text": [
      "a= -56.5 <class 'float'>\n",
      "b= (-56.5+0j) <class 'complex'>\n"
     ]
    }
   ],
   "source": [
    "a= -56.5\n",
    "b= complex(a)\n",
    "print('a=',a, type(a))\n",
    "print('b=',b, type(b))"
   ]
  },
  {
   "cell_type": "code",
   "execution_count": 6,
   "id": "c3ee72dc",
   "metadata": {},
   "outputs": [
    {
     "data": {
      "text/plain": [
       "complex"
      ]
     },
     "execution_count": 6,
     "metadata": {},
     "output_type": "execute_result"
    }
   ],
   "source": [
    "a=complex(78)\n",
    "type(a)"
   ]
  },
  {
   "cell_type": "code",
   "execution_count": 18,
   "id": "0deb5de7",
   "metadata": {},
   "outputs": [
    {
     "name": "stdout",
     "output_type": "stream",
     "text": [
      "a= 56.5 <class 'float'>\n",
      "b= (56.5+0j) <class 'complex'>\n"
     ]
    }
   ],
   "source": [
    "a= 56.5\n",
    "b= complex(a)\n",
    "print('a=',a, type(a))\n",
    "print('b=',b, type(b))"
   ]
  },
  {
   "cell_type": "markdown",
   "id": "fa7871bd",
   "metadata": {},
   "source": [
    "## 5. complex to int"
   ]
  },
  {
   "cell_type": "code",
   "execution_count": null,
   "id": "46709e8e",
   "metadata": {},
   "outputs": [],
   "source": [
    "TypeError: can't convert complex to int"
   ]
  },
  {
   "cell_type": "code",
   "execution_count": 19,
   "id": "683f6955",
   "metadata": {},
   "outputs": [
    {
     "ename": "TypeError",
     "evalue": "can't convert complex to int",
     "output_type": "error",
     "traceback": [
      "\u001b[1;31m---------------------------------------------------------------------------\u001b[0m",
      "\u001b[1;31mTypeError\u001b[0m                                 Traceback (most recent call last)",
      "Input \u001b[1;32mIn [19]\u001b[0m, in \u001b[0;36m<cell line: 2>\u001b[1;34m()\u001b[0m\n\u001b[0;32m      1\u001b[0m a\u001b[38;5;241m=\u001b[39m \u001b[38;5;241m5\u001b[39m\u001b[38;5;241m+\u001b[39m\u001b[38;5;241m6\u001b[39mj\n\u001b[1;32m----> 2\u001b[0m b\u001b[38;5;241m=\u001b[39m \u001b[38;5;28;43mint\u001b[39;49m\u001b[43m(\u001b[49m\u001b[43ma\u001b[49m\u001b[43m)\u001b[49m\n\u001b[0;32m      3\u001b[0m \u001b[38;5;28mprint\u001b[39m(\u001b[38;5;124m'\u001b[39m\u001b[38;5;124ma=\u001b[39m\u001b[38;5;124m'\u001b[39m,a, \u001b[38;5;28mtype\u001b[39m(a))\n\u001b[0;32m      4\u001b[0m \u001b[38;5;28mprint\u001b[39m(\u001b[38;5;124m'\u001b[39m\u001b[38;5;124mb=\u001b[39m\u001b[38;5;124m'\u001b[39m,b, \u001b[38;5;28mtype\u001b[39m(b))\n",
      "\u001b[1;31mTypeError\u001b[0m: can't convert complex to int"
     ]
    }
   ],
   "source": [
    "a= 5+6j\n",
    "b= int(a)\n",
    "print('a=',a, type(a))\n",
    "print('b=',b, type(b))"
   ]
  },
  {
   "cell_type": "markdown",
   "id": "e0317ea0",
   "metadata": {},
   "source": [
    "## 6. complex to float"
   ]
  },
  {
   "cell_type": "code",
   "execution_count": 20,
   "id": "c9786c69",
   "metadata": {},
   "outputs": [
    {
     "ename": "TypeError",
     "evalue": "can't convert complex to float",
     "output_type": "error",
     "traceback": [
      "\u001b[1;31m---------------------------------------------------------------------------\u001b[0m",
      "\u001b[1;31mTypeError\u001b[0m                                 Traceback (most recent call last)",
      "Input \u001b[1;32mIn [20]\u001b[0m, in \u001b[0;36m<cell line: 2>\u001b[1;34m()\u001b[0m\n\u001b[0;32m      1\u001b[0m a\u001b[38;5;241m=\u001b[39m \u001b[38;5;241m5\u001b[39m\u001b[38;5;241m+\u001b[39m\u001b[38;5;241m6\u001b[39mj\n\u001b[1;32m----> 2\u001b[0m b\u001b[38;5;241m=\u001b[39m \u001b[38;5;28;43mfloat\u001b[39;49m\u001b[43m(\u001b[49m\u001b[43ma\u001b[49m\u001b[43m)\u001b[49m\n\u001b[0;32m      3\u001b[0m \u001b[38;5;28mprint\u001b[39m(\u001b[38;5;124m'\u001b[39m\u001b[38;5;124ma=\u001b[39m\u001b[38;5;124m'\u001b[39m,a, \u001b[38;5;28mtype\u001b[39m(a))\n\u001b[0;32m      4\u001b[0m \u001b[38;5;28mprint\u001b[39m(\u001b[38;5;124m'\u001b[39m\u001b[38;5;124mb=\u001b[39m\u001b[38;5;124m'\u001b[39m,b, \u001b[38;5;28mtype\u001b[39m(b))\n",
      "\u001b[1;31mTypeError\u001b[0m: can't convert complex to float"
     ]
    }
   ],
   "source": [
    "a= 5+6j\n",
    "b= float(a)\n",
    "print('a=',a, type(a))\n",
    "print('b=',b, type(b))"
   ]
  },
  {
   "cell_type": "markdown",
   "id": "3aef6047",
   "metadata": {},
   "source": [
    "## 7. int to string"
   ]
  },
  {
   "cell_type": "code",
   "execution_count": 7,
   "id": "85dca13e",
   "metadata": {},
   "outputs": [
    {
     "data": {
      "text/plain": [
       "str"
      ]
     },
     "execution_count": 7,
     "metadata": {},
     "output_type": "execute_result"
    }
   ],
   "source": [
    "a=7899\n",
    "b=str(a)\n",
    "type(b)\n",
    "type(a)\n",
    "type(b)"
   ]
  },
  {
   "cell_type": "code",
   "execution_count": 22,
   "id": "139dd5ac",
   "metadata": {},
   "outputs": [
    {
     "name": "stdout",
     "output_type": "stream",
     "text": [
      "a= 55 <class 'int'>\n",
      "b= 55 <class 'str'>\n"
     ]
    }
   ],
   "source": [
    "a= 55\n",
    "b= str(a)\n",
    "print('a=',a, type(a)) #55,int\n",
    "print('b=',b, type(b)) #'55', str"
   ]
  },
  {
   "cell_type": "markdown",
   "id": "1c4de418",
   "metadata": {},
   "source": [
    "## 8. float to string"
   ]
  },
  {
   "cell_type": "code",
   "execution_count": 23,
   "id": "d4d0d38d",
   "metadata": {},
   "outputs": [
    {
     "name": "stdout",
     "output_type": "stream",
     "text": [
      "a= 55.6 <class 'float'>\n",
      "b= 55.6 <class 'str'>\n"
     ]
    },
    {
     "data": {
      "text/plain": [
       "'55.6'"
      ]
     },
     "execution_count": 23,
     "metadata": {},
     "output_type": "execute_result"
    }
   ],
   "source": [
    "a= 55.6\n",
    "b= str(a)\n",
    "print('a=',a, type(a))\n",
    "print('b=',b, type(b))\n",
    "b"
   ]
  },
  {
   "cell_type": "code",
   "execution_count": 24,
   "id": "56e906bb",
   "metadata": {},
   "outputs": [
    {
     "name": "stdout",
     "output_type": "stream",
     "text": [
      "a= (5+6j) <class 'complex'>\n",
      "b= (5+6j) <class 'str'>\n"
     ]
    },
    {
     "data": {
      "text/plain": [
       "'(5+6j)'"
      ]
     },
     "execution_count": 24,
     "metadata": {},
     "output_type": "execute_result"
    }
   ],
   "source": [
    "a= 5+6j\n",
    "b= str(a)\n",
    "print('a=',a, type(a))\n",
    "print('b=',b, type(b))\n",
    "b"
   ]
  },
  {
   "cell_type": "markdown",
   "id": "177eb4dc",
   "metadata": {},
   "source": [
    "## 9. string to int"
   ]
  },
  {
   "cell_type": "code",
   "execution_count": 10,
   "id": "f917bcd8",
   "metadata": {},
   "outputs": [
    {
     "data": {
      "text/plain": [
       "int"
      ]
     },
     "execution_count": 10,
     "metadata": {},
     "output_type": "execute_result"
    }
   ],
   "source": [
    "a=\"123vgg@$##\"\n",
    "aa=123\n",
    "type(aa)\n"
   ]
  },
  {
   "cell_type": "code",
   "execution_count": 25,
   "id": "5840d836",
   "metadata": {},
   "outputs": [
    {
     "name": "stdout",
     "output_type": "stream",
     "text": [
      "a= 1234 <class 'str'>\n",
      "b= 1234 <class 'int'>\n"
     ]
    }
   ],
   "source": [
    "string1 = '1234'\n",
    "b = int(string1)\n",
    "print('a=',string1, type(string1))\n",
    "print('b=',b, type(b))"
   ]
  },
  {
   "cell_type": "code",
   "execution_count": 11,
   "id": "f2ba5219",
   "metadata": {},
   "outputs": [
    {
     "ename": "ValueError",
     "evalue": "invalid literal for int() with base 10: '1234as'",
     "output_type": "error",
     "traceback": [
      "\u001b[1;31m---------------------------------------------------------------------------\u001b[0m",
      "\u001b[1;31mValueError\u001b[0m                                Traceback (most recent call last)",
      "Input \u001b[1;32mIn [11]\u001b[0m, in \u001b[0;36m<cell line: 2>\u001b[1;34m()\u001b[0m\n\u001b[0;32m      1\u001b[0m string1 \u001b[38;5;241m=\u001b[39m \u001b[38;5;124m'\u001b[39m\u001b[38;5;124m1234as\u001b[39m\u001b[38;5;124m'\u001b[39m\n\u001b[1;32m----> 2\u001b[0m b \u001b[38;5;241m=\u001b[39m \u001b[38;5;28;43mint\u001b[39;49m\u001b[43m(\u001b[49m\u001b[43mstring1\u001b[49m\u001b[43m)\u001b[49m\n\u001b[0;32m      3\u001b[0m \u001b[38;5;28mprint\u001b[39m(\u001b[38;5;124m'\u001b[39m\u001b[38;5;124ma=\u001b[39m\u001b[38;5;124m'\u001b[39m,string1, \u001b[38;5;28mtype\u001b[39m(string1))\n\u001b[0;32m      4\u001b[0m \u001b[38;5;28mprint\u001b[39m(\u001b[38;5;124m'\u001b[39m\u001b[38;5;124mb=\u001b[39m\u001b[38;5;124m'\u001b[39m,b, \u001b[38;5;28mtype\u001b[39m(b))\n",
      "\u001b[1;31mValueError\u001b[0m: invalid literal for int() with base 10: '1234as'"
     ]
    }
   ],
   "source": [
    "string1 = '1234as'\n",
    "b = int(string1)\n",
    "print('a=',string1, type(string1))\n",
    "print('b=',b, type(b))"
   ]
  },
  {
   "cell_type": "code",
   "execution_count": 26,
   "id": "bb2aed65",
   "metadata": {},
   "outputs": [
    {
     "data": {
      "text/plain": [
       "'54'"
      ]
     },
     "execution_count": 26,
     "metadata": {},
     "output_type": "execute_result"
    }
   ],
   "source": [
    "d= '4'\n",
    "g= '5'\n",
    "g+d #54"
   ]
  },
  {
   "cell_type": "code",
   "execution_count": null,
   "id": "8535ad47",
   "metadata": {},
   "outputs": [],
   "source": [
    "a="
   ]
  },
  {
   "cell_type": "code",
   "execution_count": 27,
   "id": "308b109b",
   "metadata": {},
   "outputs": [
    {
     "data": {
      "text/plain": [
       "9"
      ]
     },
     "execution_count": 27,
     "metadata": {},
     "output_type": "execute_result"
    }
   ],
   "source": [
    "d= '4'\n",
    "g= '5'\n",
    "int(d)+int(g)"
   ]
  },
  {
   "cell_type": "markdown",
   "id": "efd2101c",
   "metadata": {},
   "source": [
    "# string"
   ]
  },
  {
   "cell_type": "code",
   "execution_count": null,
   "id": "20a52dbd",
   "metadata": {},
   "outputs": [],
   "source": [
    ">> A string is a sequence of characters enclosed in quotes.\n",
    "\n",
    ">> Used to represent text data (e.g., names, messages, file paths).\n",
    "\n",
    ">> digit(0-9), space, special character(!@#$%^&*) can be there in string \n",
    "                                     \n",
    ">> Immutable: Once created, strings cannot be modified (but new strings can be created).\n",
    "                                     \n",
    ">> Strings are used to represent textual data\n",
    "    "
   ]
  },
  {
   "cell_type": "code",
   "execution_count": null,
   "id": "20b4e859",
   "metadata": {},
   "outputs": [],
   "source": [
    "#Creating Strings:\n",
    "\n",
    "string1 = 'Hello'\n",
    "string2 = \"World\"\n",
    "string3 = 'This is a string.'\n",
    "string4 = \"Another string here.\"\n",
    "string=  \"23 fgj !@#\" "
   ]
  },
  {
   "cell_type": "code",
   "execution_count": null,
   "id": "d2e15aed",
   "metadata": {},
   "outputs": [],
   "source": [
    "# Triple quotes (''' or \"\"\") are used for multi-line strings or docstrings (documentation strings):\n",
    "\n",
    "multi_line_string = '''This is a\n",
    "string that spans\n",
    "multiple lines.'''\n",
    "\n",
    "another_multi_line = \"\"\"You can also use\n",
    "double triple quotes.\"\"\""
   ]
  },
  {
   "cell_type": "code",
   "execution_count": null,
   "id": "be34ac29",
   "metadata": {},
   "outputs": [],
   "source": []
  }
 ],
 "metadata": {
  "kernelspec": {
   "display_name": "Python 3 (ipykernel)",
   "language": "python",
   "name": "python3"
  },
  "language_info": {
   "codemirror_mode": {
    "name": "ipython",
    "version": 3
   },
   "file_extension": ".py",
   "mimetype": "text/x-python",
   "name": "python",
   "nbconvert_exporter": "python",
   "pygments_lexer": "ipython3",
   "version": "3.9.12"
  }
 },
 "nbformat": 4,
 "nbformat_minor": 5
}
