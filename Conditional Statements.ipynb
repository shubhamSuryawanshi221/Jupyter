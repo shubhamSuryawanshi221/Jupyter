{
 "cells": [
  {
   "cell_type": "markdown",
   "id": "2c65c65a",
   "metadata": {},
   "source": [
    "# conditional statements in Python"
   ]
  },
  {
   "cell_type": "markdown",
   "id": "1bf92d8c",
   "metadata": {},
   "source": [
    ">> They allow the program to make decisions based on conditions (True/False) and control the flow of execution."
   ]
  },
  {
   "cell_type": "markdown",
   "id": "5c31e621",
   "metadata": {},
   "source": [
    "### If statement"
   ]
  },
  {
   "cell_type": "code",
   "execution_count": null,
   "id": "12ae6ac0",
   "metadata": {},
   "outputs": [],
   "source": [
    "if condition:\n",
    "    operation\n",
    "    "
   ]
  },
  {
   "cell_type": "code",
   "execution_count": null,
   "id": "f1253eaf",
   "metadata": {},
   "outputs": [],
   "source": [
    "#syntax\n",
    "if condition:\n",
    "    operation\n",
    "    "
   ]
  },
  {
   "cell_type": "code",
   "execution_count": 2,
   "id": "75783d03",
   "metadata": {
    "scrolled": true
   },
   "outputs": [],
   "source": [
    "#Executes a block of code only if the condition is True\n",
    "age = 16  \n",
    "if age >= 18:  \n",
    "    print(\"You are eligible to vote.\")  \n",
    "  "
   ]
  },
  {
   "cell_type": "code",
   "execution_count": 1,
   "id": "b21bbb6f",
   "metadata": {},
   "outputs": [
    {
     "name": "stdout",
     "output_type": "stream",
     "text": [
      "Please enter your age56\n",
      "you are eligible to vote\n"
     ]
    }
   ],
   "source": [
    "#Age=input(\"Please enter your age\")\n",
    "\n",
    "Age=int(input(\"Please enter your age\"))\n",
    "\n",
    "if Age >=18:\n",
    "    print(\"you are eligible to vote\")\n",
    "  "
   ]
  },
  {
   "cell_type": "code",
   "execution_count": null,
   "id": "51657609",
   "metadata": {},
   "outputs": [],
   "source": []
  },
  {
   "cell_type": "markdown",
   "id": "f8e36e3c",
   "metadata": {},
   "source": [
    "### if else statement"
   ]
  },
  {
   "cell_type": "code",
   "execution_count": null,
   "id": "7ff7fe0c",
   "metadata": {},
   "outputs": [],
   "source": [
    ">> Adds an alternative block to execute when the condition is False."
   ]
  },
  {
   "cell_type": "code",
   "execution_count": null,
   "id": "1f6c5abc",
   "metadata": {},
   "outputs": [],
   "source": []
  },
  {
   "cell_type": "code",
   "execution_count": 6,
   "id": "2a67cb96",
   "metadata": {},
   "outputs": [
    {
     "name": "stdout",
     "output_type": "stream",
     "text": [
      "number is negative\n"
     ]
    }
   ],
   "source": [
    "num=-6\n",
    "\n",
    "if num>=0:\n",
    "    print(\"number is positive\")\n",
    "else:\n",
    "    print(\"number is negative\")\n",
    "    \n"
   ]
  },
  {
   "cell_type": "code",
   "execution_count": 3,
   "id": "3f16d8ca",
   "metadata": {},
   "outputs": [
    {
     "name": "stdout",
     "output_type": "stream",
     "text": [
      "Negative number\n"
     ]
    }
   ],
   "source": [
    "num = -5  \n",
    "if num >= 0:  \n",
    "    print(\"Positive or zero\")  \n",
    "else:  \n",
    "    print(\"Negative number\")  \n",
    " "
   ]
  },
  {
   "cell_type": "code",
   "execution_count": null,
   "id": "670447b2",
   "metadata": {},
   "outputs": [],
   "source": []
  },
  {
   "cell_type": "code",
   "execution_count": null,
   "id": "0f8da360",
   "metadata": {},
   "outputs": [],
   "source": []
  },
  {
   "cell_type": "markdown",
   "id": "4a6c5f3d",
   "metadata": {},
   "source": [
    "### nested if else statements"
   ]
  },
  {
   "cell_type": "code",
   "execution_count": null,
   "id": "88e45aa6",
   "metadata": {},
   "outputs": [],
   "source": [
    ">> Multiple if-else blocks inside each other for complex logic."
   ]
  },
  {
   "cell_type": "code",
   "execution_count": null,
   "id": "a5161fc0",
   "metadata": {},
   "outputs": [],
   "source": [
    "if\n",
    "if>>>else\n",
    "if>>>elif\n",
    "if>>>elif>>>elif>>>elif\n",
    "if>>>elif>>>else\n",
    "if>>>elif>>>elif>>>elif>>>else"
   ]
  },
  {
   "cell_type": "markdown",
   "id": "9ceb85b5",
   "metadata": {},
   "source": [
    "## program to find if number is positive, negative or zero"
   ]
  },
  {
   "cell_type": "code",
   "execution_count": 9,
   "id": "3045e481",
   "metadata": {},
   "outputs": [
    {
     "name": "stdout",
     "output_type": "stream",
     "text": [
      "Enter an integer: 45\n",
      "The number is positive.\n"
     ]
    }
   ],
   "source": [
    "\n",
    "number = int(input(\"Enter an integer: \"))\n",
    "\n",
    "if number > 0:\n",
    "    print(\"The number is positive.\")\n",
    "elif number < 0:\n",
    "    print(\"The number is negative.\")\n",
    "else:\n",
    "    print(\"The number is zero.\")"
   ]
  },
  {
   "cell_type": "code",
   "execution_count": 12,
   "id": "fd87171b",
   "metadata": {},
   "outputs": [
    {
     "data": {
      "text/plain": [
       "0"
      ]
     },
     "execution_count": 12,
     "metadata": {},
     "output_type": "execute_result"
    }
   ],
   "source": [
    "34 % 2"
   ]
  },
  {
   "cell_type": "code",
   "execution_count": 11,
   "id": "bc3efc6d",
   "metadata": {},
   "outputs": [
    {
     "data": {
      "text/plain": [
       "2"
      ]
     },
     "execution_count": 11,
     "metadata": {},
     "output_type": "execute_result"
    }
   ],
   "source": [
    "23%3"
   ]
  },
  {
   "cell_type": "markdown",
   "id": "6aadfe48",
   "metadata": {},
   "source": [
    "## program to find if number is positive, negative or zero"
   ]
  },
  {
   "cell_type": "code",
   "execution_count": null,
   "id": "6c99bbac",
   "metadata": {},
   "outputs": [],
   "source": [
    "# if i want to find if number is odd or even\n",
    "num%2==0:\n",
    "    print(\"number is even\")"
   ]
  },
  {
   "cell_type": "code",
   "execution_count": 2,
   "id": "6204db18",
   "metadata": {},
   "outputs": [
    {
     "name": "stdout",
     "output_type": "stream",
     "text": [
      "Enter an integer: 3\n",
      "The number is positive.\n",
      "And it is also an odd number.\n"
     ]
    }
   ],
   "source": [
    "\n",
    "number = int(input(\"Enter an integer: \"))\n",
    "\n",
    "if number > 0:\n",
    "    print(\"The number is positive.\")\n",
    "    # Nested if-else to check if the positive number is even or odd\n",
    "    if number % 2 == 0:\n",
    "        print(\"And it is also an even number.\")\n",
    "    else:\n",
    "        print(\"And it is also an odd number.\")\n",
    "elif number < 0:\n",
    "    print(\"The number is negative.\")\n",
    "else:\n",
    "    print(\"The number is zero.\")"
   ]
  },
  {
   "cell_type": "markdown",
   "id": "d9516add",
   "metadata": {},
   "source": [
    "## program to calculate grade of the students"
   ]
  },
  {
   "cell_type": "code",
   "execution_count": 4,
   "id": "951c4d98",
   "metadata": {},
   "outputs": [
    {
     "name": "stdout",
     "output_type": "stream",
     "text": [
      "Grade: D\n"
     ]
    }
   ],
   "source": [
    "#Grading System\n",
    "score = 50\n",
    "\n",
    "if score >= 90:  \n",
    "    grade = \"A\"  \n",
    "elif score >= 80:  \n",
    "    grade = \"B\"  \n",
    "elif score >= 70:  \n",
    "    grade = \"C\"  \n",
    "else:  \n",
    "    grade = \"D\"  \n",
    "print(f\"Grade: {grade}\") "
   ]
  },
  {
   "cell_type": "code",
   "execution_count": null,
   "id": "fd2cd1e5",
   "metadata": {},
   "outputs": [],
   "source": [
    "score = float(input(\"Enter your score (0-100): \"))  \n",
    "\n",
    "if score >= 60:  \n",
    "    if score >= 90:  \n",
    "        print(\"Grade: A\")  \n",
    "    elif score >= 80:  \n",
    "        print(\"Grade: B\")  \n",
    "    elif score >= 70:  \n",
    "        print(\"Grade: C\")  \n",
    "    else:  \n",
    "        print(\"Grade: D\")  \n",
    "else:  \n",
    "    print(\"Grade: F\")  "
   ]
  },
  {
   "cell_type": "code",
   "execution_count": null,
   "id": "e5808dec",
   "metadata": {},
   "outputs": [],
   "source": [
    "T T >>>T\n",
    "T F >>>F\n",
    "F T >>>F\n",
    "F F >>>F"
   ]
  },
  {
   "cell_type": "markdown",
   "id": "feb8b913",
   "metadata": {},
   "source": [
    "## program Check if a user’s login credentials are valid"
   ]
  },
  {
   "cell_type": "code",
   "execution_count": null,
   "id": "c598e5d4",
   "metadata": {},
   "outputs": [],
   "source": [
    "username=vikas_123, password=vikas@123\n",
    "= \n",
    "=="
   ]
  },
  {
   "cell_type": "code",
   "execution_count": 6,
   "id": "7698e211",
   "metadata": {},
   "outputs": [
    {
     "name": "stdout",
     "output_type": "stream",
     "text": [
      "Enter username: vikas_123\n",
      "Enter password: fghjk\n",
      "Invalid credentials!\n"
     ]
    }
   ],
   "source": [
    "#Check if a user’s login credentials are valid\n",
    "\n",
    "username = input(\"Enter username: \")  \n",
    "password = input(\"Enter password: \")  \n",
    "\n",
    "if username == \"vikas_123\" and password == \"vikas@123\":  \n",
    "    print(\"Login successful!\")  \n",
    "else:  \n",
    "    print(\"Invalid credentials!\")  "
   ]
  },
  {
   "cell_type": "markdown",
   "id": "8212871a",
   "metadata": {},
   "source": [
    "## Suggest outfits based on weather conditions."
   ]
  },
  {
   "cell_type": "code",
   "execution_count": 7,
   "id": "7f7d2c61",
   "metadata": {},
   "outputs": [
    {
     "name": "stdout",
     "output_type": "stream",
     "text": [
      "Carry an umbrella and wear a raincoat!\n"
     ]
    }
   ],
   "source": [
    "# Suggest outfits based on weather conditions.\n",
    "weather = \"rainy\"  # Options: sunny, rainy, snowy  \n",
    "\n",
    "if weather == \"sunny\":  \n",
    "    print(\"Wear sunglasses and a hat!\")  \n",
    "elif weather == \"rainy\":  \n",
    "    print(\"Carry an umbrella and wear a raincoat!\")  \n",
    "elif weather == \"snowy\":  \n",
    "    print(\"Wear a heavy jacket and boots!\")  \n",
    "else:  \n",
    "    print(\"Check the weather forecast again.\")  "
   ]
  },
  {
   "cell_type": "code",
   "execution_count": null,
   "id": "13573fab",
   "metadata": {},
   "outputs": [],
   "source": []
  },
  {
   "cell_type": "code",
   "execution_count": null,
   "id": "879b7fcb",
   "metadata": {},
   "outputs": [],
   "source": []
  },
  {
   "cell_type": "code",
   "execution_count": null,
   "id": "8539d37c",
   "metadata": {},
   "outputs": [],
   "source": []
  }
 ],
 "metadata": {
  "kernelspec": {
   "display_name": "Python 3 (ipykernel)",
   "language": "python",
   "name": "python3"
  },
  "language_info": {
   "codemirror_mode": {
    "name": "ipython",
    "version": 3
   },
   "file_extension": ".py",
   "mimetype": "text/x-python",
   "name": "python",
   "nbconvert_exporter": "python",
   "pygments_lexer": "ipython3",
   "version": "3.9.12"
  }
 },
 "nbformat": 4,
 "nbformat_minor": 5
}
