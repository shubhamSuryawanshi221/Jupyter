{
 "cells": [
  {
   "cell_type": "markdown",
   "id": "aebeaa37",
   "metadata": {},
   "source": [
    "# list comprehension"
   ]
  },
  {
   "cell_type": "raw",
   "id": "bf20d744",
   "metadata": {},
   "source": [
    ">> A list comprehension is a compact, readable way to create lists by applying an expression to each item in an iterable (e.g., list, string, range)."
   ]
  },
  {
   "cell_type": "code",
   "execution_count": 1,
   "id": "e2a7a9f8",
   "metadata": {},
   "outputs": [
    {
     "name": "stdout",
     "output_type": "stream",
     "text": [
      "[1, 4, 16]\n"
     ]
    }
   ],
   "source": [
    "list1=[1,2,4]\n",
    "sqr_list=[]\n",
    "for item in list1:\n",
    "    sqr_list.append(item**2)\n",
    "print(sqr_list)"
   ]
  },
  {
   "cell_type": "code",
   "execution_count": 2,
   "id": "b738388f",
   "metadata": {},
   "outputs": [
    {
     "data": {
      "text/plain": [
       "[1, 4, 16]"
      ]
     },
     "execution_count": 2,
     "metadata": {},
     "output_type": "execute_result"
    }
   ],
   "source": [
    "sqr_lst=[item**2 for item in list1]\n",
    "sqr_lst"
   ]
  },
  {
   "cell_type": "code",
   "execution_count": null,
   "id": "13892305",
   "metadata": {},
   "outputs": [],
   "source": [
    "Syntax:\n",
    "    [expression for item in iterable if condition]  \n",
    "    \n",
    "    Expression:>>>> Operation applied to each item.\n",
    "    for item in iterable:>>> This is the same as the for loop we've learned. It iterates through each item in the iterable (like a list, range, or string).\n",
    "    Iterable:>>>>> Source of items (e.g., list, range).\n",
    "    Condition (optional):>>>> Filters items."
   ]
  },
  {
   "cell_type": "markdown",
   "id": "057b55b5",
   "metadata": {},
   "source": [
    "### Generate squares of numbers from 0 to 9:"
   ]
  },
  {
   "cell_type": "code",
   "execution_count": 3,
   "id": "2a9a1283",
   "metadata": {},
   "outputs": [
    {
     "name": "stdout",
     "output_type": "stream",
     "text": [
      "[0, 1, 4, 9, 16, 25, 36, 49, 64, 81]\n"
     ]
    }
   ],
   "source": [
    "# Without List Comprehension (Traditional Loop)\n",
    "squrs =[]\n",
    "for i in range(0,10):\n",
    "    squrs.append(i**2)\n",
    "    \n",
    "print(squrs)"
   ]
  },
  {
   "cell_type": "code",
   "execution_count": 4,
   "id": "206f9a39",
   "metadata": {},
   "outputs": [
    {
     "data": {
      "text/plain": [
       "[0, 1, 4, 9, 16, 25, 36, 49, 64, 81]"
      ]
     },
     "execution_count": 4,
     "metadata": {},
     "output_type": "execute_result"
    }
   ],
   "source": [
    "squrs = [i**2 for i in range(0,10)]\n",
    "squrs"
   ]
  },
  {
   "cell_type": "markdown",
   "id": "05f95008",
   "metadata": {},
   "source": [
    "### create a list containing cubes from 11 to 20"
   ]
  },
  {
   "cell_type": "code",
   "execution_count": 5,
   "id": "b18de027",
   "metadata": {},
   "outputs": [
    {
     "name": "stdout",
     "output_type": "stream",
     "text": [
      "[1331, 1728, 2197, 2744, 3375, 4096, 4913, 5832, 6859, 8000]\n"
     ]
    }
   ],
   "source": [
    "# Without List Comprehension (Traditional Loop)\n",
    "cube =[]\n",
    "for i in range(11,21):\n",
    "    cube.append(i**3)\n",
    "    \n",
    "print(cube)"
   ]
  },
  {
   "cell_type": "code",
   "execution_count": 7,
   "id": "c1a0e73d",
   "metadata": {},
   "outputs": [
    {
     "data": {
      "text/plain": [
       "[1331, 1728, 2197, 2744, 3375, 4096, 4913, 5832, 6859, 8000]"
      ]
     },
     "execution_count": 7,
     "metadata": {},
     "output_type": "execute_result"
    }
   ],
   "source": [
    "#list comprehension\n",
    "cube = [i**3 for i in range(11,21)]\n",
    "cube"
   ]
  },
  {
   "cell_type": "markdown",
   "id": "060dcf9e",
   "metadata": {},
   "source": [
    "### create new list using existing list such that new list have all characters in upper case"
   ]
  },
  {
   "cell_type": "code",
   "execution_count": 8,
   "id": "71be6f8f",
   "metadata": {},
   "outputs": [
    {
     "name": "stdout",
     "output_type": "stream",
     "text": [
      "['KIWI', 'BANANA', 'ORANGE', 'APPLE', 'DRAGONFRUIT', 'CHERRY']\n"
     ]
    }
   ],
   "source": [
    "#create new list using existing list such that new list have all characters in upper case\n",
    "# Without List Comprehension (Traditional Loop)\n",
    "fruit = ['Kiwi', 'banana', 'Orange', 'Apple', 'Dragonfruit', 'cherry']\n",
    "\n",
    "result = []\n",
    "\n",
    "for frt in fruit:\n",
    "    result.append(frt.upper())\n",
    "    \n",
    "print(result)"
   ]
  },
  {
   "cell_type": "code",
   "execution_count": 9,
   "id": "63cec863",
   "metadata": {},
   "outputs": [
    {
     "data": {
      "text/plain": [
       "['KIWI', 'BANANA', 'ORANGE', 'APPLE', 'DRAGONFRUIT', 'CHERRY']"
      ]
     },
     "execution_count": 9,
     "metadata": {},
     "output_type": "execute_result"
    }
   ],
   "source": [
    "result = [frt.upper() for frt in fruit]\n",
    "result"
   ]
  },
  {
   "cell_type": "code",
   "execution_count": null,
   "id": "c1169020",
   "metadata": {},
   "outputs": [],
   "source": []
  },
  {
   "cell_type": "markdown",
   "id": "5c53a106",
   "metadata": {},
   "source": [
    "### Categorize Numbers as \"Even\" or \"Odd\""
   ]
  },
  {
   "cell_type": "code",
   "execution_count": 10,
   "id": "87de6f8f",
   "metadata": {},
   "outputs": [
    {
     "name": "stdout",
     "output_type": "stream",
     "text": [
      "['odd', 'even', 'odd', 'even', 'odd']\n"
     ]
    }
   ],
   "source": [
    "# Without List Comprehension (Traditional Loop)\n",
    "\n",
    "numbers = [1, 2, 3, 4, 5]  \n",
    "labels = []  \n",
    "\n",
    "for num in numbers:  \n",
    "    if num % 2 == 0:  \n",
    "        labels.append(\"even\")  \n",
    "    else:  \n",
    "        labels.append(\"odd\")  \n",
    "\n",
    "print(labels)"
   ]
  },
  {
   "cell_type": "code",
   "execution_count": 11,
   "id": "415b68ba",
   "metadata": {},
   "outputs": [
    {
     "name": "stdout",
     "output_type": "stream",
     "text": [
      "['odd', 'even', 'odd', 'even', 'odd']\n"
     ]
    }
   ],
   "source": [
    "# With List Comprehension\n",
    "numbers = [1, 2, 3, 4, 5]  \n",
    "labels = [\"even\" if num % 2 == 0 else \"odd\" for num in numbers]\n",
    "\n",
    "print(labels)"
   ]
  },
  {
   "cell_type": "markdown",
   "id": "179dde97",
   "metadata": {},
   "source": [
    "### Filtering positive numbers from a list:"
   ]
  },
  {
   "cell_type": "code",
   "execution_count": 12,
   "id": "29beed61",
   "metadata": {},
   "outputs": [
    {
     "name": "stdout",
     "output_type": "stream",
     "text": [
      "[1, 2, 3]\n"
     ]
    }
   ],
   "source": [
    "\n",
    "# without using list comprehenstion:\n",
    "numbers = [-2, -1, 0, 1, 2, 3]\n",
    "positive_numbers_loop = []\n",
    "for num in numbers:\n",
    "    if num > 0:\n",
    "        positive_numbers_loop.append(num)\n",
    "print(positive_numbers_loop)"
   ]
  },
  {
   "cell_type": "code",
   "execution_count": 13,
   "id": "763d32e9",
   "metadata": {},
   "outputs": [
    {
     "name": "stdout",
     "output_type": "stream",
     "text": [
      "[1, 2, 3]\n"
     ]
    }
   ],
   "source": [
    "# with using list comprehension\n",
    "numbers = [-2, -1, 0, 1, 2, 3]\n",
    "positive_numbers = [num for num in numbers if num > 0]\n",
    "print(positive_numbers)"
   ]
  },
  {
   "cell_type": "code",
   "execution_count": null,
   "id": "a060f9f8",
   "metadata": {},
   "outputs": [],
   "source": []
  },
  {
   "cell_type": "code",
   "execution_count": null,
   "id": "7928ff05",
   "metadata": {},
   "outputs": [],
   "source": []
  }
 ],
 "metadata": {
  "kernelspec": {
   "display_name": "Python 3 (ipykernel)",
   "language": "python",
   "name": "python3"
  },
  "language_info": {
   "codemirror_mode": {
    "name": "ipython",
    "version": 3
   },
   "file_extension": ".py",
   "mimetype": "text/x-python",
   "name": "python",
   "nbconvert_exporter": "python",
   "pygments_lexer": "ipython3",
   "version": "3.9.12"
  }
 },
 "nbformat": 4,
 "nbformat_minor": 5
}
