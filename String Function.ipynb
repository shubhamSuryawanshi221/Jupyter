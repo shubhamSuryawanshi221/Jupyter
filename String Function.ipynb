{
 "cells": [
  {
   "cell_type": "markdown",
   "id": "b0ffa86d",
   "metadata": {},
   "source": [
    "# string functions/methods"
   ]
  },
  {
   "cell_type": "code",
   "execution_count": null,
   "id": "ef9a44db",
   "metadata": {},
   "outputs": [],
   "source": [
    "example:\n",
    "    \n",
    "name             age         graduation percentage\n",
    "NARENDRA MODI\n",
    "narendra modi\n",
    "Narendra Modi\n",
    "\n",
    "Amit shah\n",
    "AMIT SHAH_*()\n",
    "\n"
   ]
  },
  {
   "cell_type": "code",
   "execution_count": null,
   "id": "e9e0514b",
   "metadata": {},
   "outputs": [],
   "source": [
    ">>> data cleaning\n",
    ">>> feature engineering\n",
    ">>> to extract a particular text from data\n",
    ">>> NLP \n",
    ">>> Regex "
   ]
  },
  {
   "cell_type": "code",
   "execution_count": null,
   "id": "f8eebb8a",
   "metadata": {},
   "outputs": [],
   "source": [
    "string11=\"   AAAABBBBDDafghjk12345     \"\n",
    "print\n",
    "input\n",
    "type\n"
   ]
  },
  {
   "cell_type": "code",
   "execution_count": null,
   "id": "09b33b4d",
   "metadata": {},
   "outputs": [],
   "source": [
    "string functions:\n",
    "1. capitalize()\n",
    "2. lower()\n",
    "3. upper()\n",
    "4. title()\n",
    "5. lstrip()\n",
    "6. rstrip()\n",
    "7. strip()\n",
    "8. replace()\n",
    "9. count()\n",
    "10. index()"
   ]
  },
  {
   "cell_type": "markdown",
   "id": "ef235bec",
   "metadata": {},
   "source": [
    "# 1. capitalize()"
   ]
  },
  {
   "cell_type": "code",
   "execution_count": null,
   "id": "da87b686",
   "metadata": {},
   "outputs": [],
   "source": [
    ">>> it will capitalize only first char of string, other char will be in small case\n",
    "first cchar>> zero index char string\n",
    "syntax\n",
    "variable_name.capitalize()"
   ]
  },
  {
   "cell_type": "code",
   "execution_count": 1,
   "id": "2d50b4dd",
   "metadata": {},
   "outputs": [
    {
     "data": {
      "text/plain": [
       "'Besant'"
      ]
     },
     "execution_count": 1,
     "metadata": {},
     "output_type": "execute_result"
    }
   ],
   "source": [
    "a=\"besant\"\n",
    "aa=a.capitalize()\n",
    "aa"
   ]
  },
  {
   "cell_type": "code",
   "execution_count": 4,
   "id": "8c1031bd",
   "metadata": {},
   "outputs": [
    {
     "name": "stdout",
     "output_type": "stream",
     "text": [
      "Data science\n",
      "Data science\n",
      "data science\n"
     ]
    }
   ],
   "source": [
    "string = \"data science\"\n",
    "st=string.capitalize()\n",
    "print(string.capitalize())\n",
    "print(st)\n",
    "print(string)"
   ]
  },
  {
   "cell_type": "code",
   "execution_count": 3,
   "id": "8aaf1d1c",
   "metadata": {},
   "outputs": [
    {
     "name": "stdout",
     "output_type": "stream",
     "text": [
      "Data science\n"
     ]
    }
   ],
   "source": [
    "string = \"datA Science\"\n",
    "print(string.capitalize())"
   ]
  },
  {
   "cell_type": "code",
   "execution_count": 3,
   "id": "6a737e1f",
   "metadata": {},
   "outputs": [
    {
     "name": "stdout",
     "output_type": "stream",
     "text": [
      "Besant technologies\n"
     ]
    }
   ],
   "source": [
    "ss=\"beSANT TECHNOLOGIES\"\n",
    "print(ss.capitalize())"
   ]
  },
  {
   "cell_type": "markdown",
   "id": "c5ea2285",
   "metadata": {},
   "source": [
    "# 2. lower()"
   ]
  },
  {
   "cell_type": "code",
   "execution_count": null,
   "id": "ca610d9d",
   "metadata": {},
   "outputs": [],
   "source": [
    ">> It return lower case string\n",
    ">> syntax: \n",
    "    variable_name.lower() "
   ]
  },
  {
   "cell_type": "code",
   "execution_count": 4,
   "id": "af98c84d",
   "metadata": {},
   "outputs": [
    {
     "name": "stdout",
     "output_type": "stream",
     "text": [
      "data scienace bb\n"
     ]
    }
   ],
   "source": [
    "string1 = \"DatA ScienAce BB\"\n",
    "print(string1.lower())"
   ]
  },
  {
   "cell_type": "code",
   "execution_count": 6,
   "id": "28d61e03",
   "metadata": {},
   "outputs": [
    {
     "name": "stdout",
     "output_type": "stream",
     "text": [
      "data science\n"
     ]
    }
   ],
   "source": [
    "string = \"DATA SCIENCE\"\n",
    "print(string.lower())"
   ]
  },
  {
   "cell_type": "markdown",
   "id": "c010d2ca",
   "metadata": {},
   "source": [
    "# 3. upper()"
   ]
  },
  {
   "cell_type": "code",
   "execution_count": null,
   "id": "5aae3a37",
   "metadata": {},
   "outputs": [],
   "source": [
    ">> it returns upper case string\n",
    "syntax:\n",
    "    variable_name.upper()"
   ]
  },
  {
   "cell_type": "code",
   "execution_count": 8,
   "id": "4bb7d21f",
   "metadata": {},
   "outputs": [
    {
     "name": "stdout",
     "output_type": "stream",
     "text": [
      "MACHINE LEARNING IS A FIELD OF INQUIRY DEVOTED TO UNDERSTANDING AND BUILDING METHODS\n"
     ]
    }
   ],
   "source": [
    "ml = 'MacHine Learning is a field of inquiry devoted to Understanding and building methods'\n",
    "print(ml.upper())"
   ]
  },
  {
   "cell_type": "code",
   "execution_count": 6,
   "id": "339da4e4",
   "metadata": {},
   "outputs": [
    {
     "name": "stdout",
     "output_type": "stream",
     "text": [
      "DATA SCIENAHGFCE\n"
     ]
    }
   ],
   "source": [
    "string = \"DatA ScienAHGFce\"\n",
    "print(string.upper())"
   ]
  },
  {
   "cell_type": "markdown",
   "id": "11b7aab2",
   "metadata": {},
   "source": [
    "# 4. title()"
   ]
  },
  {
   "cell_type": "code",
   "execution_count": null,
   "id": "bc8ea94a",
   "metadata": {},
   "outputs": [],
   "source": [
    ">> it will convert string into title case\n",
    ">> title case>> capitilize first char of every word\n",
    "variable_name.title()"
   ]
  },
  {
   "cell_type": "code",
   "execution_count": 5,
   "id": "aadb3e47",
   "metadata": {},
   "outputs": [
    {
     "name": "stdout",
     "output_type": "stream",
     "text": [
      "This Is Python Class\n"
     ]
    }
   ],
   "source": [
    "vl=\"this is python class\"\n",
    "print(vl.title())"
   ]
  },
  {
   "cell_type": "code",
   "execution_count": 10,
   "id": "f597a887",
   "metadata": {},
   "outputs": [
    {
     "name": "stdout",
     "output_type": "stream",
     "text": [
      "Machine Learning Is A Field Of Inquiry Devoted To Understanding And Building Methods\n"
     ]
    }
   ],
   "source": [
    "ml = 'MacHine Learning is a field of inquiry devoted to Understanding and building methods'\n",
    "print(ml.title())"
   ]
  },
  {
   "cell_type": "code",
   "execution_count": 11,
   "id": "be6d5ae8",
   "metadata": {},
   "outputs": [
    {
     "name": "stdout",
     "output_type": "stream",
     "text": [
      "Python And Data Science\n"
     ]
    }
   ],
   "source": [
    "var= 'python and data science'\n",
    "print(var.title())"
   ]
  },
  {
   "cell_type": "code",
   "execution_count": 12,
   "id": "488a7b96",
   "metadata": {},
   "outputs": [
    {
     "data": {
      "text/plain": [
       "'Narendra Modi'"
      ]
     },
     "execution_count": 12,
     "metadata": {},
     "output_type": "execute_result"
    }
   ],
   "source": [
    "name = 'narendra modi'\n",
    "name.title()"
   ]
  },
  {
   "cell_type": "markdown",
   "id": "e908e096",
   "metadata": {},
   "source": [
    "# 5. lstrip()"
   ]
  },
  {
   "cell_type": "code",
   "execution_count": null,
   "id": "5ef2d556",
   "metadata": {},
   "outputs": [],
   "source": [
    ">> it will remove leading white spaces\n",
    ">> it returns left trim version string\n",
    "syntax:\n",
    "    string.lstrip()"
   ]
  },
  {
   "cell_type": "code",
   "execution_count": 7,
   "id": "b5f06641",
   "metadata": {},
   "outputs": [
    {
     "name": "stdout",
     "output_type": "stream",
     "text": [
      "31\n",
      "        this is       python   \n",
      "********************\n",
      "23\n",
      "this is       python   \n"
     ]
    }
   ],
   "source": [
    "df=\"        this is       python   \"\n",
    "df1=df.lstrip()\n",
    "print(len(df))\n",
    "print(df)\n",
    "print(\"*\"*20)\n",
    "print(len(df1))\n",
    "print(df1)"
   ]
  },
  {
   "cell_type": "code",
   "execution_count": 13,
   "id": "9a627c5f",
   "metadata": {},
   "outputs": [
    {
     "name": "stdout",
     "output_type": "stream",
     "text": [
      "6\n"
     ]
    },
    {
     "data": {
      "text/plain": [
       "'python'"
      ]
     },
     "execution_count": 13,
     "metadata": {},
     "output_type": "execute_result"
    }
   ],
   "source": [
    "s1 = 'python'\n",
    "aprint(len(s1))\n",
    "s1.lstrip()"
   ]
  },
  {
   "cell_type": "code",
   "execution_count": null,
   "id": "599126a4",
   "metadata": {},
   "outputs": [],
   "source": []
  },
  {
   "cell_type": "code",
   "execution_count": 14,
   "id": "97b77b7b",
   "metadata": {
    "scrolled": true
   },
   "outputs": [
    {
     "name": "stdout",
     "output_type": "stream",
     "text": [
      "           python\n",
      "17\n",
      "python\n"
     ]
    }
   ],
   "source": [
    "s1 = '           python'\n",
    "print(s1)\n",
    "print(len(s1))\n",
    "print(s1.lstrip())"
   ]
  },
  {
   "cell_type": "code",
   "execution_count": 15,
   "id": "9da8bb45",
   "metadata": {},
   "outputs": [
    {
     "name": "stdout",
     "output_type": "stream",
     "text": [
      "                python and data science\n",
      "39\n",
      "python and data science\n",
      "23\n"
     ]
    }
   ],
   "source": [
    "s2 = '                python and data science'\n",
    "print(s2)\n",
    "print(len(s2))\n",
    "print(s2.lstrip())\n",
    "print(len(s2.lstrip()))"
   ]
  },
  {
   "cell_type": "markdown",
   "id": "ca9c2b4e",
   "metadata": {},
   "source": [
    "# 6. rstrip()"
   ]
  },
  {
   "cell_type": "code",
   "execution_count": null,
   "id": "944c4a26",
   "metadata": {},
   "outputs": [],
   "source": [
    ">>> it will remove trailing white spaces\n",
    ">>> it returns right trim version string\n",
    "syntax:\n",
    "    string_name.rstip()"
   ]
  },
  {
   "cell_type": "code",
   "execution_count": 16,
   "id": "fb7175c0",
   "metadata": {},
   "outputs": [
    {
     "name": "stdout",
     "output_type": "stream",
     "text": [
      "6\n"
     ]
    },
    {
     "data": {
      "text/plain": [
       "'python'"
      ]
     },
     "execution_count": 16,
     "metadata": {},
     "output_type": "execute_result"
    }
   ],
   "source": [
    "s1 = 'python'\n",
    "print(len(s1))\n",
    "s1.lstrip()"
   ]
  },
  {
   "cell_type": "code",
   "execution_count": null,
   "id": "23dc7b18",
   "metadata": {},
   "outputs": [],
   "source": [
    "hg=\"\""
   ]
  },
  {
   "cell_type": "code",
   "execution_count": 17,
   "id": "e701a165",
   "metadata": {},
   "outputs": [
    {
     "name": "stdout",
     "output_type": "stream",
     "text": [
      "python and          \n",
      "20\n",
      "python and\n",
      "10\n"
     ]
    }
   ],
   "source": [
    "s3 = 'python and          '\n",
    "print(s3)\n",
    "print(len(s3))\n",
    "print(s3.rstrip())\n",
    "print(len(s3.rstrip()))"
   ]
  },
  {
   "cell_type": "code",
   "execution_count": 18,
   "id": "059107ad",
   "metadata": {},
   "outputs": [
    {
     "name": "stdout",
     "output_type": "stream",
     "text": [
      "PYTHON\n"
     ]
    }
   ],
   "source": [
    "s1 = '        python        '\n",
    "print(s1.lstrip().rstrip().upper())"
   ]
  },
  {
   "cell_type": "code",
   "execution_count": 19,
   "id": "c2ae0fd4",
   "metadata": {},
   "outputs": [
    {
     "name": "stdout",
     "output_type": "stream",
     "text": [
      "python\n"
     ]
    }
   ],
   "source": [
    "s1 = '        PYthON        '\n",
    "print(s1.lstrip().rstrip().lower())"
   ]
  },
  {
   "cell_type": "code",
   "execution_count": 20,
   "id": "240c0d58",
   "metadata": {},
   "outputs": [
    {
     "name": "stdout",
     "output_type": "stream",
     "text": [
      "PYTHON\n"
     ]
    }
   ],
   "source": [
    "s1 = '        PYthON        '\n",
    "print(s1.lstrip().rstrip().upper())"
   ]
  },
  {
   "cell_type": "code",
   "execution_count": 11,
   "id": "a97f3db3",
   "metadata": {},
   "outputs": [
    {
     "name": "stdout",
     "output_type": "stream",
     "text": [
      "50\n",
      "        this is       python       this  is       \n",
      "********************\n",
      "43\n",
      "        this is       python       this  is\n"
     ]
    }
   ],
   "source": [
    "df1=\"        this is       python       this  is       \"\n",
    "df2=df1.rstrip()\n",
    "print(len(df1))\n",
    "print(df1)\n",
    "print(\"*\"*20)\n",
    "print(len(df2))\n",
    "print(df2)"
   ]
  },
  {
   "cell_type": "markdown",
   "id": "3ead645f",
   "metadata": {},
   "source": [
    "# 7. strip()"
   ]
  },
  {
   "cell_type": "code",
   "execution_count": null,
   "id": "b6842809",
   "metadata": {},
   "outputs": [],
   "source": [
    ">> it will remove leading as well as trailing white spaces\n",
    ">> it will give trimmed version of string\n",
    "sytax:\n",
    "    string.strip()\n",
    "strip()= lstrip()+ rstrip()"
   ]
  },
  {
   "cell_type": "code",
   "execution_count": 7,
   "id": "38a9d028",
   "metadata": {},
   "outputs": [
    {
     "name": "stdout",
     "output_type": "stream",
     "text": [
      "PYthON\n"
     ]
    }
   ],
   "source": [
    "s1 = '        PYthON        '\n",
    "print(s1.strip())"
   ]
  },
  {
   "cell_type": "code",
   "execution_count": 22,
   "id": "f8c7eb71",
   "metadata": {},
   "outputs": [
    {
     "name": "stdout",
     "output_type": "stream",
     "text": [
      "python and data science\n"
     ]
    }
   ],
   "source": [
    "s2 = '                python and data science          '\n",
    "print(s2.strip())"
   ]
  },
  {
   "cell_type": "code",
   "execution_count": 23,
   "id": "7dec6179",
   "metadata": {},
   "outputs": [
    {
     "name": "stdout",
     "output_type": "stream",
     "text": [
      "python       and        data         science\n"
     ]
    }
   ],
   "source": [
    "s2 = '                python       and        data         science          '\n",
    "print(s2.strip())"
   ]
  },
  {
   "cell_type": "markdown",
   "id": "019d722a",
   "metadata": {},
   "source": [
    "# 8. replace()"
   ]
  },
  {
   "cell_type": "code",
   "execution_count": null,
   "id": "1bf4d9c9",
   "metadata": {},
   "outputs": [],
   "source": [
    ">> it will return a string where a substing is replaced with that value\n",
    "syntax:\n",
    "    string.replace(old_substring, new_substring, occurances)"
   ]
  },
  {
   "cell_type": "code",
   "execution_count": null,
   "id": "155fb60d",
   "metadata": {},
   "outputs": [],
   "source": [
    "str1=\"      data     data ananalytics     data science    \"\n",
    "# replace data with machine"
   ]
  },
  {
   "cell_type": "code",
   "execution_count": 15,
   "id": "d80c220c",
   "metadata": {},
   "outputs": [
    {
     "name": "stdout",
     "output_type": "stream",
     "text": [
      "AAZZBBBCCDD\n",
      "AAZZZZZCCDD\n"
     ]
    }
   ],
   "source": [
    "aa=\"AABBBBBCCDD\"\n",
    "s=aa.replace(\"B\",\"Z\",2)\n",
    "ss=aa.replace(\"B\",\"Z\")\n",
    "print(s) #replacing the first 2 occurances of B with Z\n",
    "print(ss) #replacing all the occurances of B with Z"
   ]
  },
  {
   "cell_type": "code",
   "execution_count": 8,
   "id": "bc6024e3",
   "metadata": {},
   "outputs": [
    {
     "name": "stdout",
     "output_type": "stream",
     "text": [
      "Python and machine learning\n",
      "Python and deep learning\n"
     ]
    }
   ],
   "source": [
    "string1 = 'Python and machine learning'\n",
    "print(string1)\n",
    "string2 = string1.replace('machine','deep')\n",
    "print(string2)"
   ]
  },
  {
   "cell_type": "code",
   "execution_count": 9,
   "id": "1fabe7c4",
   "metadata": {},
   "outputs": [
    {
     "name": "stdout",
     "output_type": "stream",
     "text": [
      "Python and machine learning\n",
      "PYTHON and machine learning\n"
     ]
    }
   ],
   "source": [
    "string1 = 'Python and machine learning'\n",
    "print(string1)\n",
    "string2 = string1.replace('Python','PYTHON')\n",
    "print(string2)"
   ]
  },
  {
   "cell_type": "code",
   "execution_count": 27,
   "id": "99129d89",
   "metadata": {},
   "outputs": [
    {
     "name": "stdout",
     "output_type": "stream",
     "text": [
      "Python and machine learning\n",
      "PYTHON and machine learning\n"
     ]
    }
   ],
   "source": [
    "string1 = 'Python and machine learning'\n",
    "substring1 = 'Python'\n",
    "substring2 = 'PYTHON'\n",
    "string2 = string1.replace(substring1,substring2)\n",
    "print(string1)\n",
    "print(string2)"
   ]
  },
  {
   "cell_type": "code",
   "execution_count": 35,
   "id": "d851bc07",
   "metadata": {},
   "outputs": [],
   "source": [
    "ml = '''Machine learning is a field of inquiry devoted to understanding and building methods that 'learn', that is, methods that leverage data to improve performance on some set of tasks. It is seen as a part of artificial intelligence'''"
   ]
  },
  {
   "cell_type": "code",
   "execution_count": 36,
   "id": "f03ff476",
   "metadata": {},
   "outputs": [
    {
     "name": "stdout",
     "output_type": "stream",
     "text": [
      "Machine learning is a field of inquiry devoted to understanding and building methods that 'learn', that is, methods that leverage data to improve performance on some set of tasks. It is seen as a part of artificial intelligence\n"
     ]
    }
   ],
   "source": [
    "print(ml)"
   ]
  },
  {
   "cell_type": "code",
   "execution_count": 37,
   "id": "84447ad2",
   "metadata": {},
   "outputs": [
    {
     "name": "stdout",
     "output_type": "stream",
     "text": [
      "Deep learning is a field of inquiry devoted to understanding and building methods that 'learn', that is, methods that leverage data to improve performance on some set of tasks. It is seen as a part of artificial intelligence\n"
     ]
    }
   ],
   "source": [
    "print(ml.replace('Machine','Deep'))"
   ]
  },
  {
   "cell_type": "code",
   "execution_count": 10,
   "id": "0190cbbe",
   "metadata": {},
   "outputs": [
    {
     "data": {
      "text/plain": [
       "'pytHoN'"
      ]
     },
     "execution_count": 10,
     "metadata": {},
     "output_type": "execute_result"
    }
   ],
   "source": [
    "str1 ='python'\n",
    "str1.replace('h','H').replace('n','N')"
   ]
  },
  {
   "cell_type": "code",
   "execution_count": 14,
   "id": "ead458d8",
   "metadata": {},
   "outputs": [
    {
     "data": {
      "text/plain": [
       "'Python And mAch!ne leArn!ng'"
      ]
     },
     "execution_count": 14,
     "metadata": {},
     "output_type": "execute_result"
    }
   ],
   "source": [
    "string1 = 'Python and machine learning'\n",
    "string1.replace('a', 'A').replace('i', '!')"
   ]
  },
  {
   "cell_type": "code",
   "execution_count": 32,
   "id": "a7bdfce1",
   "metadata": {},
   "outputs": [
    {
     "data": {
      "text/plain": [
       "'Python*and*machine*learning'"
      ]
     },
     "execution_count": 32,
     "metadata": {},
     "output_type": "execute_result"
    }
   ],
   "source": [
    "string1 = 'Python and machine learning'\n",
    "string1.replace(' ', '*')"
   ]
  },
  {
   "cell_type": "code",
   "execution_count": 33,
   "id": "83f42d81",
   "metadata": {},
   "outputs": [
    {
     "data": {
      "text/plain": [
       "'+++++++++Python+++++++++and++++++++++machine+++++++++learning++++++++++'"
      ]
     },
     "execution_count": 33,
     "metadata": {},
     "output_type": "execute_result"
    }
   ],
   "source": [
    "string1 = '         Python         and          machine         learning          '\n",
    "string1.replace(' ', '+')"
   ]
  },
  {
   "cell_type": "code",
   "execution_count": 38,
   "id": "b32f8904",
   "metadata": {},
   "outputs": [
    {
     "name": "stdout",
     "output_type": "stream",
     "text": [
      "Machine learning is a field of inquiry devoted to understanding and building methods that 'learn', that is, methods that leverage data to improve performance on some set of tasks. It is seen as a part of artificial intelligence\n"
     ]
    }
   ],
   "source": [
    "print(ml)"
   ]
  },
  {
   "cell_type": "code",
   "execution_count": 39,
   "id": "dcec0fe2",
   "metadata": {},
   "outputs": [
    {
     "data": {
      "text/plain": [
       "\"Machine LEARNING is a field of inquiry devoted to understanding and building methods that 'learn', that is, methods that leverage data to improve performance on some set of tasks. It is seen as a part of artificial intelligence\""
      ]
     },
     "execution_count": 39,
     "metadata": {},
     "output_type": "execute_result"
    }
   ],
   "source": [
    "ml.replace('learning','LEARNING')"
   ]
  },
  {
   "cell_type": "code",
   "execution_count": 40,
   "id": "c150ab93",
   "metadata": {
    "scrolled": true
   },
   "outputs": [
    {
     "data": {
      "text/plain": [
       "\"MAchine learning is a field of inquiry devoted to understanding and building methods that 'learn', that is, methods that leverage data to improve performance on some set of tasks. It is seen as a part of artificial intelligence\""
      ]
     },
     "execution_count": 40,
     "metadata": {},
     "output_type": "execute_result"
    }
   ],
   "source": [
    "ml.replace('a','A',1)"
   ]
  },
  {
   "cell_type": "code",
   "execution_count": 13,
   "id": "48acbde3",
   "metadata": {},
   "outputs": [
    {
     "data": {
      "text/plain": [
       "'sssssssAAAjjjjkkkkkkkk'"
      ]
     },
     "execution_count": 13,
     "metadata": {},
     "output_type": "execute_result"
    }
   ],
   "source": [
    "s=\"sssssssjjjjjjjkkkkkkkk\"\n",
    "s.replace(\"j\",\"A\",3)"
   ]
  },
  {
   "cell_type": "markdown",
   "id": "7e6db096",
   "metadata": {},
   "source": [
    "# 9. count()"
   ]
  },
  {
   "cell_type": "code",
   "execution_count": null,
   "id": "40e1a3f9",
   "metadata": {},
   "outputs": [],
   "source": [
    ">> It will return the number of times a specified substring occurs in string"
   ]
  },
  {
   "cell_type": "code",
   "execution_count": null,
   "id": "3737ae5c",
   "metadata": {},
   "outputs": [],
   "source": [
    "syntax:\n",
    "string.count('substring',[start_index], [end_index])"
   ]
  },
  {
   "cell_type": "code",
   "execution_count": 16,
   "id": "cb59cd0c",
   "metadata": {},
   "outputs": [],
   "source": [
    "ml = '''Machine learning is a field of inquiry devoted machine  to understanding and building methods that 'learn', that is, methods that leverage data to improve performance on some set of tasks. It is seen as a part of artificial intelligence'''"
   ]
  },
  {
   "cell_type": "code",
   "execution_count": 17,
   "id": "00857227",
   "metadata": {},
   "outputs": [
    {
     "name": "stdout",
     "output_type": "stream",
     "text": [
      "Machine learning is a field of inquiry devoted machine  to understanding and building methods that 'learn', that is, methods that leverage data to improve performance on some set of tasks. It is seen as a part of artificial intelligence\n"
     ]
    }
   ],
   "source": [
    "print(ml)"
   ]
  },
  {
   "cell_type": "code",
   "execution_count": 18,
   "id": "7b6d3b45",
   "metadata": {},
   "outputs": [
    {
     "data": {
      "text/plain": [
       "1"
      ]
     },
     "execution_count": 18,
     "metadata": {},
     "output_type": "execute_result"
    }
   ],
   "source": [
    "ml.count('Machine')"
   ]
  },
  {
   "cell_type": "code",
   "execution_count": 19,
   "id": "9017a476",
   "metadata": {},
   "outputs": [],
   "source": [
    "string1= ml.lower()"
   ]
  },
  {
   "cell_type": "code",
   "execution_count": 20,
   "id": "609c8ba8",
   "metadata": {
    "scrolled": true
   },
   "outputs": [
    {
     "name": "stdout",
     "output_type": "stream",
     "text": [
      "machine learning is a field of inquiry devoted machine  to understanding and building methods that 'learn', that is, methods that leverage data to improve performance on some set of tasks. it is seen as a part of artificial intelligence\n"
     ]
    }
   ],
   "source": [
    "print(string1)"
   ]
  },
  {
   "cell_type": "code",
   "execution_count": 21,
   "id": "57a751cc",
   "metadata": {},
   "outputs": [
    {
     "data": {
      "text/plain": [
       "2"
      ]
     },
     "execution_count": 21,
     "metadata": {},
     "output_type": "execute_result"
    }
   ],
   "source": [
    "string1.count(\"machine\")"
   ]
  },
  {
   "cell_type": "code",
   "execution_count": 21,
   "id": "fbd0c823",
   "metadata": {},
   "outputs": [
    {
     "name": "stdout",
     "output_type": "stream",
     "text": [
      "c\n",
      "d\n"
     ]
    },
    {
     "data": {
      "text/plain": [
       "4"
      ]
     },
     "execution_count": 21,
     "metadata": {},
     "output_type": "execute_result"
    }
   ],
   "source": [
    "a=\"aaaabbbbbccccddddd\"\n",
    "print(a[10])\n",
    "print(a[15])\n",
    "a.count(\"c\")"
   ]
  },
  {
   "cell_type": "code",
   "execution_count": 46,
   "id": "135d650e",
   "metadata": {},
   "outputs": [
    {
     "data": {
      "text/plain": [
       "19"
      ]
     },
     "execution_count": 46,
     "metadata": {},
     "output_type": "execute_result"
    }
   ],
   "source": [
    "string1.count('a')"
   ]
  },
  {
   "cell_type": "code",
   "execution_count": 47,
   "id": "722fb9d6",
   "metadata": {},
   "outputs": [
    {
     "data": {
      "text/plain": [
       "18"
      ]
     },
     "execution_count": 47,
     "metadata": {},
     "output_type": "execute_result"
    }
   ],
   "source": [
    "string1.count('i')"
   ]
  },
  {
   "cell_type": "code",
   "execution_count": 48,
   "id": "08f8a159",
   "metadata": {},
   "outputs": [
    {
     "data": {
      "text/plain": [
       "3"
      ]
     },
     "execution_count": 48,
     "metadata": {},
     "output_type": "execute_result"
    }
   ],
   "source": [
    "string1.count('p')"
   ]
  },
  {
   "cell_type": "code",
   "execution_count": 49,
   "id": "fb2cc9c4",
   "metadata": {},
   "outputs": [
    {
     "data": {
      "text/plain": [
       "0"
      ]
     },
     "execution_count": 49,
     "metadata": {},
     "output_type": "execute_result"
    }
   ],
   "source": [
    "string1.count('A')"
   ]
  },
  {
   "cell_type": "code",
   "execution_count": 50,
   "id": "07b58065",
   "metadata": {},
   "outputs": [
    {
     "data": {
      "text/plain": [
       "0"
      ]
     },
     "execution_count": 50,
     "metadata": {},
     "output_type": "execute_result"
    }
   ],
   "source": [
    "string1.count('Data Science')"
   ]
  },
  {
   "cell_type": "code",
   "execution_count": 51,
   "id": "c4de5cd5",
   "metadata": {},
   "outputs": [
    {
     "data": {
      "text/plain": [
       "37"
      ]
     },
     "execution_count": 51,
     "metadata": {},
     "output_type": "execute_result"
    }
   ],
   "source": [
    "string1.count(' ')"
   ]
  },
  {
   "cell_type": "code",
   "execution_count": 52,
   "id": "e3679004",
   "metadata": {},
   "outputs": [
    {
     "name": "stdout",
     "output_type": "stream",
     "text": [
      "machine learning is a field of inquiry devoted to understanding and building methods that 'learn', that is, methods that leverage data to improve performance on some set of tasks. it is seen as a part of artificial intelligence\n"
     ]
    }
   ],
   "source": [
    "print(string1)"
   ]
  },
  {
   "cell_type": "code",
   "execution_count": 53,
   "id": "bacde724",
   "metadata": {},
   "outputs": [
    {
     "data": {
      "text/plain": [
       "2"
      ]
     },
     "execution_count": 53,
     "metadata": {},
     "output_type": "execute_result"
    }
   ],
   "source": [
    "string1.count('a',0,20)"
   ]
  },
  {
   "cell_type": "code",
   "execution_count": 54,
   "id": "3dc4f0e8",
   "metadata": {},
   "outputs": [
    {
     "data": {
      "text/plain": [
       "19"
      ]
     },
     "execution_count": 54,
     "metadata": {},
     "output_type": "execute_result"
    }
   ],
   "source": [
    "string1.count('a')"
   ]
  },
  {
   "cell_type": "code",
   "execution_count": 55,
   "id": "8782f37e",
   "metadata": {},
   "outputs": [
    {
     "data": {
      "text/plain": [
       "3"
      ]
     },
     "execution_count": 55,
     "metadata": {},
     "output_type": "execute_result"
    }
   ],
   "source": [
    "string1.count('a ')"
   ]
  },
  {
   "cell_type": "code",
   "execution_count": 56,
   "id": "0708d8ed",
   "metadata": {},
   "outputs": [
    {
     "data": {
      "text/plain": [
       "5"
      ]
     },
     "execution_count": 56,
     "metadata": {},
     "output_type": "execute_result"
    }
   ],
   "source": [
    "string1.count('m',50,)"
   ]
  },
  {
   "cell_type": "markdown",
   "id": "80f02205",
   "metadata": {},
   "source": [
    "# 10. index"
   ]
  },
  {
   "cell_type": "code",
   "execution_count": null,
   "id": "e2c83625",
   "metadata": {},
   "outputs": [],
   "source": [
    ">>> it searches the string for a substring and returns the position\n",
    "syntax:\n",
    "    string.index(\"substing\")"
   ]
  },
  {
   "cell_type": "code",
   "execution_count": 22,
   "id": "f61cb173",
   "metadata": {},
   "outputs": [
    {
     "data": {
      "text/plain": [
       "0"
      ]
     },
     "execution_count": 22,
     "metadata": {},
     "output_type": "execute_result"
    }
   ],
   "source": [
    "string= 'Python and Data Scince'\n",
    "string.index('P')"
   ]
  },
  {
   "cell_type": "code",
   "execution_count": 58,
   "id": "11cc67ae",
   "metadata": {},
   "outputs": [
    {
     "data": {
      "text/plain": [
       "4"
      ]
     },
     "execution_count": 58,
     "metadata": {},
     "output_type": "execute_result"
    }
   ],
   "source": [
    "string= 'Python and Data Scince'\n",
    "string.index('o')"
   ]
  },
  {
   "cell_type": "code",
   "execution_count": 23,
   "id": "15fc491f",
   "metadata": {},
   "outputs": [
    {
     "name": "stdout",
     "output_type": "stream",
     "text": [
      "22\n"
     ]
    },
    {
     "data": {
      "text/plain": [
       "17"
      ]
     },
     "execution_count": 23,
     "metadata": {},
     "output_type": "execute_result"
    }
   ],
   "source": [
    "string= 'Python and Data Scince'\n",
    "print(len(string))\n",
    "string.index('c',12,20)"
   ]
  },
  {
   "cell_type": "code",
   "execution_count": 60,
   "id": "1d25c05b",
   "metadata": {},
   "outputs": [
    {
     "name": "stdout",
     "output_type": "stream",
     "text": [
      "Machine learning is a field of inquiry devoted to understanding and building methods that 'learn', that is, methods that leverage data to improve performance on some set of tasks. It is seen as a part of artificial intelligence\n"
     ]
    }
   ],
   "source": [
    "print(ml)"
   ]
  },
  {
   "cell_type": "code",
   "execution_count": null,
   "id": "a88bc02a",
   "metadata": {},
   "outputs": [],
   "source": [
    "ml.index('is')"
   ]
  },
  {
   "cell_type": "code",
   "execution_count": 3,
   "id": "5a1ddd9f",
   "metadata": {},
   "outputs": [
    {
     "data": {
      "text/plain": [
       "7"
      ]
     },
     "execution_count": 3,
     "metadata": {},
     "output_type": "execute_result"
    }
   ],
   "source": []
  },
  {
   "cell_type": "code",
   "execution_count": null,
   "id": "0de88ce6",
   "metadata": {},
   "outputs": [],
   "source": []
  },
  {
   "cell_type": "code",
   "execution_count": null,
   "id": "5579fb63",
   "metadata": {},
   "outputs": [],
   "source": []
  },
  {
   "cell_type": "code",
   "execution_count": null,
   "id": "6e32f103",
   "metadata": {},
   "outputs": [],
   "source": []
  },
  {
   "cell_type": "code",
   "execution_count": null,
   "id": "ef77651d",
   "metadata": {},
   "outputs": [],
   "source": []
  }
 ],
 "metadata": {
  "kernelspec": {
   "display_name": "Python 3 (ipykernel)",
   "language": "python",
   "name": "python3"
  },
  "language_info": {
   "codemirror_mode": {
    "name": "ipython",
    "version": 3
   },
   "file_extension": ".py",
   "mimetype": "text/x-python",
   "name": "python",
   "nbconvert_exporter": "python",
   "pygments_lexer": "ipython3",
   "version": "3.9.12"
  }
 },
 "nbformat": 4,
 "nbformat_minor": 5
}
