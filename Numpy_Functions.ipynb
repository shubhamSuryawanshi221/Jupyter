{
 "cells": [
  {
   "cell_type": "markdown",
   "id": "d33fb186",
   "metadata": {},
   "source": [
    "# Numpy Function"
   ]
  },
  {
   "cell_type": "code",
   "execution_count": 1,
   "id": "d9bba75a",
   "metadata": {},
   "outputs": [
    {
     "data": {
      "text/plain": [
       "'C:\\\\Users\\\\VISHNU KALE\\\\Desktop\\\\python july mid'"
      ]
     },
     "execution_count": 1,
     "metadata": {},
     "output_type": "execute_result"
    }
   ],
   "source": [
    "import os\n",
    "os.getcwd()"
   ]
  },
  {
   "cell_type": "markdown",
   "id": "dba8016e",
   "metadata": {},
   "source": [
    "# 1. Array Creation"
   ]
  },
  {
   "cell_type": "markdown",
   "id": "458bcd5e",
   "metadata": {},
   "source": [
    "## 1. np.array()"
   ]
  },
  {
   "cell_type": "code",
   "execution_count": null,
   "id": "f0b07b26",
   "metadata": {},
   "outputs": [],
   "source": [
    "Create an array from Python lists/tuples.\n",
    "Syntax: np.array(object, dtype=None)"
   ]
  },
  {
   "cell_type": "code",
   "execution_count": 2,
   "id": "a9eef362",
   "metadata": {},
   "outputs": [
    {
     "name": "stdout",
     "output_type": "stream",
     "text": [
      "[1 2 3]\n"
     ]
    }
   ],
   "source": [
    "arr = np.array([1, 2, 3])  #1D array from list\n",
    "print(arr)"
   ]
  },
  {
   "cell_type": "code",
   "execution_count": null,
   "id": "af408026",
   "metadata": {},
   "outputs": [],
   "source": [
    "arr = np.array([[1, 2], [3, 4]])  #2D array from nested list\n",
    "print(arr)"
   ]
  },
  {
   "cell_type": "markdown",
   "id": "2799a99e",
   "metadata": {},
   "source": [
    "## 2. np.zeros()"
   ]
  },
  {
   "cell_type": "code",
   "execution_count": null,
   "id": "cf3859ca",
   "metadata": {},
   "outputs": [],
   "source": [
    " Create an array filled with 0s.\n",
    "Syntax: np.zeros(shape, dtype=float)"
   ]
  },
  {
   "cell_type": "code",
   "execution_count": 3,
   "id": "d92741b3",
   "metadata": {},
   "outputs": [
    {
     "name": "stdout",
     "output_type": "stream",
     "text": [
      "[[0. 0. 0.]\n",
      " [0. 0. 0.]]\n"
     ]
    }
   ],
   "source": [
    "arr = np.zeros((2, 3))  \n",
    "print(arr)"
   ]
  },
  {
   "cell_type": "code",
   "execution_count": null,
   "id": "ea83a891",
   "metadata": {},
   "outputs": [],
   "source": [
    "arr = np.zeros(5, dtype=int)  \n",
    "print(arr) "
   ]
  },
  {
   "cell_type": "markdown",
   "id": "1bff46d2",
   "metadata": {},
   "source": [
    "## 3. np.ones()"
   ]
  },
  {
   "cell_type": "code",
   "execution_count": null,
   "id": "74161505",
   "metadata": {},
   "outputs": [],
   "source": [
    "Create an array filled with 1s.\n",
    "Syntax: np.ones(shape, dtype=float)"
   ]
  },
  {
   "cell_type": "code",
   "execution_count": 4,
   "id": "bcfeb1fc",
   "metadata": {},
   "outputs": [
    {
     "name": "stdout",
     "output_type": "stream",
     "text": [
      "[[1. 1.]\n",
      " [1. 1.]\n",
      " [1. 1.]]\n"
     ]
    }
   ],
   "source": [
    "ar1 = np.ones((3, 2))  \n",
    "print(ar1)"
   ]
  },
  {
   "cell_type": "code",
   "execution_count": null,
   "id": "005a115b",
   "metadata": {},
   "outputs": [],
   "source": []
  },
  {
   "cell_type": "code",
   "execution_count": null,
   "id": "ff649142",
   "metadata": {},
   "outputs": [],
   "source": []
  },
  {
   "cell_type": "markdown",
   "id": "3e6d1f0e",
   "metadata": {},
   "source": [
    "## 4. np.arange()"
   ]
  },
  {
   "cell_type": "code",
   "execution_count": null,
   "id": "39859ee2",
   "metadata": {},
   "outputs": [],
   "source": [
    "Create evenly spaced values within a range.\n",
    "Syntax: np.arange(start, stop, step)"
   ]
  },
  {
   "cell_type": "code",
   "execution_count": 5,
   "id": "c1cab72b",
   "metadata": {},
   "outputs": [
    {
     "name": "stdout",
     "output_type": "stream",
     "text": [
      "[0 2 4 6 8]\n"
     ]
    }
   ],
   "source": [
    "arr = np.arange(0, 10, 2)  \n",
    "print(arr)"
   ]
  },
  {
   "cell_type": "code",
   "execution_count": 6,
   "id": "a9fcf10e",
   "metadata": {},
   "outputs": [
    {
     "name": "stdout",
     "output_type": "stream",
     "text": [
      "[5 4 3 2 1]\n"
     ]
    }
   ],
   "source": [
    "arr = np.arange(5, 0, -1)  \n",
    "print(arr)"
   ]
  },
  {
   "cell_type": "markdown",
   "id": "b380630e",
   "metadata": {},
   "source": [
    "## 5. np.linspace()"
   ]
  },
  {
   "cell_type": "code",
   "execution_count": null,
   "id": "0b1e935b",
   "metadata": {},
   "outputs": [],
   "source": [
    "Create linearly spaced values (fixed number of points).\n",
    "Syntax: np.linspace(start, stop, num=50)"
   ]
  },
  {
   "cell_type": "code",
   "execution_count": null,
   "id": "7a8065db",
   "metadata": {},
   "outputs": [],
   "source": [
    "arr = np.linspace(0, 1, 5)   #5 points between 0 and 1 (inclusive)\n",
    "print(arr)"
   ]
  },
  {
   "cell_type": "markdown",
   "id": "621ec629",
   "metadata": {},
   "source": [
    "## 6. np.random.rand()"
   ]
  },
  {
   "cell_type": "code",
   "execution_count": null,
   "id": "f2d1cac2",
   "metadata": {},
   "outputs": [],
   "source": [
    "Create an array of random floats between 0 and 1.\n",
    "Syntax: np.random.rand(d0, d1, ..., dn)"
   ]
  },
  {
   "cell_type": "code",
   "execution_count": 7,
   "id": "35f25e6a",
   "metadata": {},
   "outputs": [
    {
     "name": "stdout",
     "output_type": "stream",
     "text": [
      "[[0.84884575 0.8568548 ]\n",
      " [0.08607903 0.4678061 ]]\n"
     ]
    }
   ],
   "source": [
    "arr = np.random.rand(2, 2)  \n",
    "print(arr)"
   ]
  },
  {
   "cell_type": "code",
   "execution_count": 8,
   "id": "8b48e1b1",
   "metadata": {},
   "outputs": [
    {
     "name": "stdout",
     "output_type": "stream",
     "text": [
      "(2, 2, 2)\n"
     ]
    }
   ],
   "source": [
    "arr = np.random.rand(2, 2, 2)  \n",
    "print(arr.shape) "
   ]
  },
  {
   "cell_type": "markdown",
   "id": "2fec3209",
   "metadata": {},
   "source": [
    "## 7. np.full()"
   ]
  },
  {
   "cell_type": "code",
   "execution_count": null,
   "id": "150a198a",
   "metadata": {},
   "outputs": [],
   "source": [
    ">> Create an array filled with a specific value.\n",
    ">> Syntax: np.full(shape, fill_value, dtype=None)"
   ]
  },
  {
   "cell_type": "code",
   "execution_count": 2,
   "id": "cb52cad8",
   "metadata": {},
   "outputs": [],
   "source": [
    "import numpy as np"
   ]
  },
  {
   "cell_type": "code",
   "execution_count": 3,
   "id": "2d132096",
   "metadata": {
    "scrolled": true
   },
   "outputs": [
    {
     "data": {
      "text/plain": [
       "array([[11, 11],\n",
       "       [11, 11]])"
      ]
     },
     "execution_count": 3,
     "metadata": {},
     "output_type": "execute_result"
    }
   ],
   "source": [
    "a1=np.full((2,2),11)\n",
    "a1"
   ]
  },
  {
   "cell_type": "code",
   "execution_count": 9,
   "id": "6f83cad6",
   "metadata": {},
   "outputs": [
    {
     "name": "stdout",
     "output_type": "stream",
     "text": [
      "[[5 5 5]\n",
      " [5 5 5]\n",
      " [5 5 5]]\n"
     ]
    }
   ],
   "source": [
    "arr = np.full((3, 3), 5)  \n",
    "print(arr)"
   ]
  },
  {
   "cell_type": "code",
   "execution_count": 6,
   "id": "24cc3287",
   "metadata": {
    "scrolled": true
   },
   "outputs": [
    {
     "name": "stdout",
     "output_type": "stream",
     "text": [
      "['A' 'A' 'A' 'A']\n"
     ]
    }
   ],
   "source": [
    "ara = np.full(4, \"A\", dtype=str)  \n",
    "print(ara)"
   ]
  },
  {
   "cell_type": "code",
   "execution_count": null,
   "id": "69caba99",
   "metadata": {},
   "outputs": [],
   "source": []
  },
  {
   "cell_type": "code",
   "execution_count": 16,
   "id": "30c6cb7f",
   "metadata": {},
   "outputs": [
    {
     "name": "stdout",
     "output_type": "stream",
     "text": [
      "['AA' 'AA' 'AA' 'AA']\n"
     ]
    }
   ],
   "source": [
    "ara = np.full(4, \"AA\", dtype=\"U6\")  \n",
    "print(ara)"
   ]
  },
  {
   "cell_type": "markdown",
   "id": "b9dcc849",
   "metadata": {},
   "source": [
    "## 8.np.eye() / np.identity()"
   ]
  },
  {
   "cell_type": "code",
   "execution_count": null,
   "id": "785fe6e8",
   "metadata": {},
   "outputs": [],
   "source": [
    ">> Create an identity matrix (1s on the diagonal, 0s elsewhere).\n",
    ">> Syntax: \n",
    "    np.eye(N, k=0)"
   ]
  },
  {
   "cell_type": "code",
   "execution_count": 4,
   "id": "a329ad8c",
   "metadata": {},
   "outputs": [
    {
     "data": {
      "text/plain": [
       "array([[1., 0., 0., 0.],\n",
       "       [0., 1., 0., 0.],\n",
       "       [0., 0., 1., 0.],\n",
       "       [0., 0., 0., 1.]])"
      ]
     },
     "execution_count": 4,
     "metadata": {},
     "output_type": "execute_result"
    }
   ],
   "source": [
    "asa=np.eye(4)\n",
    "asa"
   ]
  },
  {
   "cell_type": "code",
   "execution_count": 7,
   "id": "82796e0a",
   "metadata": {},
   "outputs": [
    {
     "name": "stdout",
     "output_type": "stream",
     "text": [
      "[[1. 0. 0.]\n",
      " [0. 1. 0.]\n",
      " [0. 0. 1.]]\n"
     ]
    }
   ],
   "source": [
    "arr = np.eye(3)  \n",
    "print(arr)"
   ]
  },
  {
   "cell_type": "code",
   "execution_count": 5,
   "id": "b6fdffdb",
   "metadata": {
    "scrolled": true
   },
   "outputs": [
    {
     "name": "stdout",
     "output_type": "stream",
     "text": [
      "[[0. 1. 0.]\n",
      " [0. 0. 1.]\n",
      " [0. 0. 0.]]\n"
     ]
    }
   ],
   "source": [
    "arr = np.eye(3, k=1)  \n",
    "print(arr)  #Offset diagonal (k=1):"
   ]
  },
  {
   "cell_type": "code",
   "execution_count": 14,
   "id": "ba43f255",
   "metadata": {
    "scrolled": true
   },
   "outputs": [
    {
     "name": "stdout",
     "output_type": "stream",
     "text": [
      "[[0. 0. 0.]\n",
      " [1. 0. 0.]\n",
      " [0. 1. 0.]]\n"
     ]
    }
   ],
   "source": [
    "arr = np.eye(3, k=-1)  \n",
    "print(arr)"
   ]
  },
  {
   "cell_type": "markdown",
   "id": "821981df",
   "metadata": {},
   "source": [
    "## 9. np.diag()"
   ]
  },
  {
   "cell_type": "code",
   "execution_count": null,
   "id": "d5341ad7",
   "metadata": {},
   "outputs": [],
   "source": [
    "Create a diagonal matrix or extract the diagonal from a 2D array.\n",
    "Syntax: np.diag(v)"
   ]
  },
  {
   "cell_type": "code",
   "execution_count": 6,
   "id": "de19ef8b",
   "metadata": {},
   "outputs": [
    {
     "data": {
      "text/plain": [
       "array([[11,  0,  0,  0],\n",
       "       [ 0, 22,  0,  0],\n",
       "       [ 0,  0, 33,  0],\n",
       "       [ 0,  0,  0, 44]])"
      ]
     },
     "execution_count": 6,
     "metadata": {},
     "output_type": "execute_result"
    }
   ],
   "source": [
    "#[11,22,33,44]\n",
    "az=np.diag([11,22,33,44])\n",
    "az"
   ]
  },
  {
   "cell_type": "code",
   "execution_count": null,
   "id": "922eb2b7",
   "metadata": {},
   "outputs": [],
   "source": [
    "arr = np.diag([1, 2, 3])  \n",
    "print(arr)"
   ]
  },
  {
   "cell_type": "markdown",
   "id": "45f11aa3",
   "metadata": {},
   "source": [
    "## 10. np.random.randint()"
   ]
  },
  {
   "cell_type": "code",
   "execution_count": null,
   "id": "11518c87",
   "metadata": {},
   "outputs": [],
   "source": [
    "Generate random integers within a range.\n",
    "Syntax: np.random.randint(low, high, size_array)"
   ]
  },
  {
   "cell_type": "code",
   "execution_count": 17,
   "id": "415bf523",
   "metadata": {},
   "outputs": [
    {
     "name": "stdout",
     "output_type": "stream",
     "text": [
      "[2 6 2 9 3]\n"
     ]
    }
   ],
   "source": [
    "arr = np.random.randint(1, 10, 5)  \n",
    "print(arr)"
   ]
  },
  {
   "cell_type": "code",
   "execution_count": 18,
   "id": "7702afd5",
   "metadata": {},
   "outputs": [
    {
     "name": "stdout",
     "output_type": "stream",
     "text": [
      "[[10 11]\n",
      " [12 16]]\n"
     ]
    }
   ],
   "source": [
    "arr = np.random.randint(10, 20, (2, 2))  \n",
    "print(arr) "
   ]
  },
  {
   "cell_type": "code",
   "execution_count": null,
   "id": "cbad4ad4",
   "metadata": {},
   "outputs": [],
   "source": []
  },
  {
   "cell_type": "markdown",
   "id": "9f57d9fa",
   "metadata": {},
   "source": [
    "# 2. Array Manipulation"
   ]
  },
  {
   "cell_type": "code",
   "execution_count": null,
   "id": "7b521076",
   "metadata": {},
   "outputs": [],
   "source": [
    "(Functions to modify array shape, structure, and content)"
   ]
  },
  {
   "cell_type": "code",
   "execution_count": 2,
   "id": "19cb3648",
   "metadata": {},
   "outputs": [],
   "source": [
    "import numpy as np"
   ]
  },
  {
   "cell_type": "markdown",
   "id": "f8f2c26f",
   "metadata": {},
   "source": [
    "## 2.1 reshape()"
   ]
  },
  {
   "cell_type": "code",
   "execution_count": null,
   "id": "b3a2667d",
   "metadata": {},
   "outputs": [],
   "source": [
    ">> Change array dimensions without altering data.\n",
    "Syntax: \n",
    "    arr.reshape(new_shape)"
   ]
  },
  {
   "cell_type": "code",
   "execution_count": 15,
   "id": "85e6d30d",
   "metadata": {},
   "outputs": [
    {
     "name": "stdout",
     "output_type": "stream",
     "text": [
      "[ 0  1  2  3  4  5  6  7  8  9 10 11]\n",
      "dimension of array before reshape 1\n",
      "size of array before reshape 12\n",
      "********************\n",
      "[[ 0  1  2]\n",
      " [ 3  4  5]\n",
      " [ 6  7  8]\n",
      " [ 9 10 11]]\n",
      "2\n",
      "12\n"
     ]
    }
   ],
   "source": [
    "arz=np.arange(12)\n",
    "print(arz)\n",
    "print(\"dimension of array before reshape\",arz.ndim)\n",
    "print(\"size of array before reshape\", arz.size)\n",
    "reshaped1=arz.reshape(4,3)\n",
    "print(\"*\"*20)\n",
    "print(reshaped1)\n",
    "print(reshaped1.ndim)  \n",
    "print(reshaped1.size)    #4*3, 3*4, 6*2"
   ]
  },
  {
   "cell_type": "code",
   "execution_count": 19,
   "id": "3c354639",
   "metadata": {},
   "outputs": [
    {
     "name": "stdout",
     "output_type": "stream",
     "text": [
      "[0 1 2 3 4 5]\n",
      "[[0 1 2]\n",
      " [3 4 5]]\n"
     ]
    }
   ],
   "source": [
    "arr11 = np.arange(6)  #1D to 2D\n",
    "reshaped = arr11.reshape(2, 3) #3*2...6*1  \n",
    "print(arr11)\n",
    "print(reshaped)"
   ]
  },
  {
   "cell_type": "code",
   "execution_count": null,
   "id": "a0384e78",
   "metadata": {},
   "outputs": [],
   "source": []
  },
  {
   "cell_type": "markdown",
   "id": "2d543021",
   "metadata": {},
   "source": [
    "## 2.2 resize()"
   ]
  },
  {
   "cell_type": "code",
   "execution_count": null,
   "id": "aea37377",
   "metadata": {},
   "outputs": [],
   "source": [
    ">> Change array size (repeats elements if new size is larger).\n",
    "Syntax: np.resize(arr, new_shape)"
   ]
  },
  {
   "cell_type": "code",
   "execution_count": 16,
   "id": "79438b3e",
   "metadata": {},
   "outputs": [
    {
     "data": {
      "text/plain": [
       "array([[99, 88],\n",
       "       [77, 99],\n",
       "       [88, 77]])"
      ]
     },
     "execution_count": 16,
     "metadata": {},
     "output_type": "execute_result"
    }
   ],
   "source": [
    "a2=np.array([99,88,77])\n",
    "a21=np.resize(a2, (3,2))\n",
    "a21"
   ]
  },
  {
   "cell_type": "code",
   "execution_count": 22,
   "id": "b089f50d",
   "metadata": {},
   "outputs": [
    {
     "name": "stdout",
     "output_type": "stream",
     "text": [
      "[1 2 3 1 2]\n"
     ]
    }
   ],
   "source": [
    "arr = np.array([1, 2, 3])  \n",
    "resized = np.resize(arr, (5,))  # Repeats elements  \n",
    "print(resized)"
   ]
  },
  {
   "cell_type": "code",
   "execution_count": 10,
   "id": "314645f3",
   "metadata": {},
   "outputs": [
    {
     "name": "stdout",
     "output_type": "stream",
     "text": [
      "[[1 2]\n",
      " [3 4]]\n",
      "[[1 2 3]\n",
      " [4 1 2]\n",
      " [3 4 1]]\n"
     ]
    }
   ],
   "source": [
    "arr = np.array([[1, 2], [3, 4]])  \n",
    "resized = np.resize(arr, (3, 3))  # Adds new rows \n",
    "print(arr)\n",
    "print(resized) "
   ]
  },
  {
   "cell_type": "markdown",
   "id": "2871375c",
   "metadata": {},
   "source": [
    "## 2.3 flatten() \n"
   ]
  },
  {
   "cell_type": "code",
   "execution_count": null,
   "id": "b75aaca0",
   "metadata": {},
   "outputs": [],
   "source": [
    ">>> to Convert N-dimensional arrays to 1D.\n",
    "[[1,2,3],[5,45,67]]>>>>[1,2,3,5,45,67]"
   ]
  },
  {
   "cell_type": "code",
   "execution_count": null,
   "id": "ed9d1094",
   "metadata": {},
   "outputs": [],
   "source": [
    "flatten(): Returns a copy.\n"
   ]
  },
  {
   "cell_type": "code",
   "execution_count": 17,
   "id": "f7387d3f",
   "metadata": {},
   "outputs": [
    {
     "name": "stdout",
     "output_type": "stream",
     "text": [
      "[[1 2]\n",
      " [3 4]]\n",
      "********************\n",
      "[1 2 3 4]\n"
     ]
    }
   ],
   "source": [
    "arr = np.array([[1, 2], [3, 4]])  \n",
    "flat = arr.flatten()  \n",
    "#flat[0] = 99  # Original array remains unchanged  \n",
    "print(arr)\n",
    "print(\"*\"*20)\n",
    "print(flat)"
   ]
  },
  {
   "cell_type": "markdown",
   "id": "96f6209e",
   "metadata": {},
   "source": [
    "## 2.3 transpose()"
   ]
  },
  {
   "cell_type": "code",
   "execution_count": null,
   "id": "685e0aab",
   "metadata": {},
   "outputs": [],
   "source": [
    ">> Reverse or permute array axes.\n",
    "Syntax: \n",
    "    arr.transpose() or arr.T"
   ]
  },
  {
   "cell_type": "code",
   "execution_count": 18,
   "id": "62947a22",
   "metadata": {},
   "outputs": [
    {
     "name": "stdout",
     "output_type": "stream",
     "text": [
      "[[1 2 3]\n",
      " [4 5 6]]\n",
      "####################\n",
      "[[1 4]\n",
      " [2 5]\n",
      " [3 6]]\n"
     ]
    }
   ],
   "source": [
    "arr = np.array([[1, 2, 3], [4, 5, 6]])  \n",
    "transposed = arr.T  #rows will be converted into columns and columns will be converted into rows\n",
    "print(arr)\n",
    "print(\"#\"*20)\n",
    "print(transposed)  "
   ]
  },
  {
   "cell_type": "markdown",
   "id": "5a02b6a9",
   "metadata": {},
   "source": [
    "## 2.4 concatenate()"
   ]
  },
  {
   "cell_type": "code",
   "execution_count": null,
   "id": "45c537fa",
   "metadata": {},
   "outputs": [],
   "source": [
    ">> Join arrays along an existing axis.\n",
    "Syntax: np.concatenate((arr1, arr2), axis=0)"
   ]
  },
  {
   "cell_type": "code",
   "execution_count": 19,
   "id": "b852ec53",
   "metadata": {
    "scrolled": true
   },
   "outputs": [
    {
     "name": "stdout",
     "output_type": "stream",
     "text": [
      "before concatenate fnction\n",
      "[[1 2]\n",
      " [3 4]]\n",
      "***************\n",
      "[[5 6]]\n",
      "***************\n",
      "[[1 2]\n",
      " [3 4]\n",
      " [5 6]]\n"
     ]
    }
   ],
   "source": [
    "# Along rows (axis=0):\n",
    "arr1 = np.array([[1, 2], [3, 4]])  \n",
    "arr2 = np.array([[5, 6]])\n",
    "\n",
    "print(\"before concatenate fnction\")\n",
    "\n",
    "result = np.concatenate((arr1, arr2), axis=0)\n",
    "print(arr1)\n",
    "print(\"*\"*15)\n",
    "print(arr2)\n",
    "print(\"*\"*15)\n",
    "print(result)"
   ]
  },
  {
   "cell_type": "code",
   "execution_count": 22,
   "id": "0fe9773a",
   "metadata": {},
   "outputs": [
    {
     "name": "stdout",
     "output_type": "stream",
     "text": [
      "***************\n",
      "[[1]\n",
      " [2]]\n",
      "***************\n",
      "[[3]\n",
      " [4]]\n",
      "***************\n",
      "[[1 3]\n",
      " [2 4]]\n"
     ]
    }
   ],
   "source": [
    "#Along columns (axis=1)\n",
    "arr1 = np.array([[1], [2]])  \n",
    "arr2 = np.array([[3], [4]])  \n",
    "result = np.concatenate((arr1, arr2), axis=1)  \n",
    "print(\"*\"*15)\n",
    "print(arr1)\n",
    "print(\"*\"*15)\n",
    "print(arr2)\n",
    "print(\"*\"*15)\n",
    "print(result)"
   ]
  },
  {
   "cell_type": "markdown",
   "id": "b56fdeb4",
   "metadata": {},
   "source": [
    "## 2.5 append()"
   ]
  },
  {
   "cell_type": "code",
   "execution_count": null,
   "id": "21c1c496",
   "metadata": {},
   "outputs": [],
   "source": [
    ">> Add values to the end of an array.\n",
    "Syntax: np.append(arr, values, axis=None)"
   ]
  },
  {
   "cell_type": "code",
   "execution_count": 23,
   "id": "115da22d",
   "metadata": {},
   "outputs": [
    {
     "name": "stdout",
     "output_type": "stream",
     "text": [
      "[1 2 3 4 5]\n"
     ]
    }
   ],
   "source": [
    "arr1 = np.array([1, 2, 3])  \n",
    "new_arr = np.append(arr1, [4, 5])  \n",
    "print(new_arr)"
   ]
  },
  {
   "cell_type": "markdown",
   "id": "3d0f122e",
   "metadata": {},
   "source": [
    "## 2.6 insert()"
   ]
  },
  {
   "cell_type": "code",
   "execution_count": null,
   "id": "22460f44",
   "metadata": {},
   "outputs": [],
   "source": [
    ">>> Insert values at a specific position.\n",
    "Syntax: np.insert(arr, index, values, axis=None)"
   ]
  },
  {
   "cell_type": "code",
   "execution_count": 31,
   "id": "8f868fe8",
   "metadata": {},
   "outputs": [
    {
     "name": "stdout",
     "output_type": "stream",
     "text": [
      "[10 99 20 30]\n"
     ]
    }
   ],
   "source": [
    "arr = np.array([10, 20, 30])  \n",
    "new_arr = np.insert(arr, 1, 99)  # Insert 99 at index 1  \n",
    "print(new_arr) "
   ]
  },
  {
   "cell_type": "code",
   "execution_count": 25,
   "id": "f4c332ad",
   "metadata": {},
   "outputs": [
    {
     "data": {
      "text/plain": [
       "array([  0,   1,   2, 300,   3,   4,   5,   6,   7,   8,   9])"
      ]
     },
     "execution_count": 25,
     "metadata": {},
     "output_type": "execute_result"
    }
   ],
   "source": [
    "array1=np.arange(10)\n",
    "nw=np.insert(array1, 3, 300)\n",
    "nw"
   ]
  },
  {
   "cell_type": "markdown",
   "id": "ab3e17fb",
   "metadata": {},
   "source": [
    "## 2.7 delete()"
   ]
  },
  {
   "cell_type": "code",
   "execution_count": null,
   "id": "70f082d1",
   "metadata": {},
   "outputs": [],
   "source": [
    ">> Remove elements along an axis.\n",
    "Syntax: \n",
    "    np.delete(arr, index, axis=None)"
   ]
  },
  {
   "cell_type": "code",
   "execution_count": 32,
   "id": "864a4cf8",
   "metadata": {},
   "outputs": [
    {
     "name": "stdout",
     "output_type": "stream",
     "text": [
      "[1 3 4]\n"
     ]
    }
   ],
   "source": [
    "arr = np.array([1, 2, 3, 4])  \n",
    "new_arr = np.delete(arr, 1)  # Remove index 1  \n",
    "print(new_arr)"
   ]
  },
  {
   "cell_type": "markdown",
   "id": "1bfced53",
   "metadata": {},
   "source": [
    "## 2.8 sort()"
   ]
  },
  {
   "cell_type": "code",
   "execution_count": null,
   "id": "eb6ea72c",
   "metadata": {},
   "outputs": [],
   "source": [
    ">>> Sort array elements.\n",
    ">>> Syntax: \n",
    "    np.sort(arr)"
   ]
  },
  {
   "cell_type": "code",
   "execution_count": 28,
   "id": "1f958596",
   "metadata": {},
   "outputs": [
    {
     "name": "stdout",
     "output_type": "stream",
     "text": [
      "[1 2 3]\n"
     ]
    }
   ],
   "source": [
    "arr = np.array([3, 1, 2])  \n",
    "sorted_arr = np.sort(arr, axis=-1)  \n",
    "print(sorted_arr)"
   ]
  },
  {
   "cell_type": "code",
   "execution_count": null,
   "id": "f231e8ab",
   "metadata": {},
   "outputs": [],
   "source": []
  },
  {
   "cell_type": "markdown",
   "id": "601c740c",
   "metadata": {},
   "source": [
    "# 3. Mathematical Operations"
   ]
  },
  {
   "cell_type": "code",
   "execution_count": null,
   "id": "2a7fc0a5",
   "metadata": {},
   "outputs": [],
   "source": [
    ">> Functions for element-wise, statistical, and algebraic operations"
   ]
  },
  {
   "cell_type": "markdown",
   "id": "249648b3",
   "metadata": {},
   "source": [
    "## 3.1 np.sum()"
   ]
  },
  {
   "cell_type": "code",
   "execution_count": null,
   "id": "24028edb",
   "metadata": {},
   "outputs": [],
   "source": [
    ">>> Compute the sum of array elements.\n",
    ">>> Syntax:\n",
    "    np.sum(arr, axis=None)"
   ]
  },
  {
   "cell_type": "code",
   "execution_count": 34,
   "id": "db970a9a",
   "metadata": {},
   "outputs": [
    {
     "name": "stdout",
     "output_type": "stream",
     "text": [
      "6\n"
     ]
    }
   ],
   "source": [
    "arr = np.array([1, 2, 3])  \n",
    "total = np.sum(arr)  \n",
    "print(total)"
   ]
  },
  {
   "cell_type": "code",
   "execution_count": 29,
   "id": "e0b7bb41",
   "metadata": {},
   "outputs": [
    {
     "name": "stdout",
     "output_type": "stream",
     "text": [
      "[[1 2]\n",
      " [3 4]]\n",
      "**********\n",
      "[4 6]\n"
     ]
    }
   ],
   "source": [
    "arr = np.array([[1, 2], [3, 4]])  \n",
    "col_sum = np.sum(arr, axis=0)  \n",
    "print(arr)\n",
    "print(\"*\"*10)\n",
    "print(col_sum)"
   ]
  },
  {
   "cell_type": "code",
   "execution_count": 37,
   "id": "d067c4be",
   "metadata": {},
   "outputs": [
    {
     "name": "stdout",
     "output_type": "stream",
     "text": [
      "[[1 2]\n",
      " [3 4]]\n",
      "[3 7]\n"
     ]
    }
   ],
   "source": [
    "arr = np.array([[1, 2], [3, 4]])  \n",
    "col_sum = np.sum(arr, axis=1)  \n",
    "print(arr)\n",
    "print(col_sum)"
   ]
  },
  {
   "cell_type": "markdown",
   "id": "95490b45",
   "metadata": {},
   "source": [
    "## 3.2 np.mean()"
   ]
  },
  {
   "cell_type": "code",
   "execution_count": null,
   "id": "a9eda379",
   "metadata": {},
   "outputs": [],
   "source": [
    ">>> Compute the arithmetic mean (average).\n",
    ">>>> Syntax:\n",
    "    np.mean(arr, axis=None)"
   ]
  },
  {
   "cell_type": "code",
   "execution_count": 39,
   "id": "2d4772c4",
   "metadata": {},
   "outputs": [
    {
     "data": {
      "text/plain": [
       "20.0"
      ]
     },
     "execution_count": 39,
     "metadata": {},
     "output_type": "execute_result"
    }
   ],
   "source": [
    "arr = np.array([10, 20, 30])  #Mean of all elements:\n",
    "avg = np.mean(arr)\n",
    "avg"
   ]
  },
  {
   "cell_type": "code",
   "execution_count": 40,
   "id": "1d02b213",
   "metadata": {},
   "outputs": [
    {
     "name": "stdout",
     "output_type": "stream",
     "text": [
      "[1.5 3.5]\n"
     ]
    }
   ],
   "source": [
    "arr = np.array([[1, 2], [3, 4]])  \n",
    "row_avg = np.mean(arr, axis=1)  \n",
    "print(row_avg)"
   ]
  },
  {
   "cell_type": "markdown",
   "id": "2329b429",
   "metadata": {},
   "source": [
    "## 3.3 np.max() & np.min()"
   ]
  },
  {
   "cell_type": "code",
   "execution_count": null,
   "id": "ad109935",
   "metadata": {},
   "outputs": [],
   "source": [
    "Find the maximum or minimum value.\n",
    "Syntax: np.max(arr)"
   ]
  },
  {
   "cell_type": "code",
   "execution_count": 30,
   "id": "e9e2999a",
   "metadata": {},
   "outputs": [
    {
     "name": "stdout",
     "output_type": "stream",
     "text": [
      "9\n",
      "1\n"
     ]
    }
   ],
   "source": [
    "arr = np.array([5, 2, 9, 1])  \n",
    "print(np.max(arr))  # Output: 9  \n",
    "print(np.min(arr))"
   ]
  },
  {
   "cell_type": "markdown",
   "id": "a4f729e1",
   "metadata": {},
   "source": [
    "## 3.4 np.std() & np.var()"
   ]
  },
  {
   "cell_type": "code",
   "execution_count": null,
   "id": "2fb0b773",
   "metadata": {},
   "outputs": [],
   "source": [
    ">> Compute standard deviation or variance.\n",
    "Syntax: \n",
    "    np.std(arr) / np.var(arr)"
   ]
  },
  {
   "cell_type": "code",
   "execution_count": 42,
   "id": "e806d196",
   "metadata": {},
   "outputs": [
    {
     "name": "stdout",
     "output_type": "stream",
     "text": [
      "1.118033988749895\n"
     ]
    }
   ],
   "source": [
    "arr = np.array([1, 2, 3, 4])  #Standard deviation:\n",
    "print(np.std(arr))"
   ]
  },
  {
   "cell_type": "code",
   "execution_count": 43,
   "id": "12ad27dd",
   "metadata": {},
   "outputs": [
    {
     "name": "stdout",
     "output_type": "stream",
     "text": [
      "[1. 1.]\n"
     ]
    }
   ],
   "source": [
    "arr = np.array([[2, 4], [6, 8]])  #Variance of rows\n",
    "row_var = np.var(arr, axis=1)  \n",
    "print(row_var)"
   ]
  },
  {
   "cell_type": "raw",
   "id": "ef9530ed",
   "metadata": {},
   "source": [
    "Variance and standard deviation are statistical measures that quantify the spread or dispersion of data points around the mean."
   ]
  },
  {
   "cell_type": "markdown",
   "id": "19c8e844",
   "metadata": {},
   "source": [
    "## 3.5 np.sqrt() & np.power()"
   ]
  },
  {
   "cell_type": "code",
   "execution_count": null,
   "id": "fc019b2a",
   "metadata": {},
   "outputs": [],
   "source": [
    "Compute square roots or raise elements to a power.\n",
    "Syntax: np.sqrt(arr) / np.power(arr, exponent)"
   ]
  },
  {
   "cell_type": "code",
   "execution_count": 44,
   "id": "e91a617c",
   "metadata": {},
   "outputs": [
    {
     "name": "stdout",
     "output_type": "stream",
     "text": [
      "[2. 3. 4.]\n"
     ]
    }
   ],
   "source": [
    "arr = np.array([4, 9, 16])  \n",
    "print(np.sqrt(arr))"
   ]
  },
  {
   "cell_type": "code",
   "execution_count": 45,
   "id": "fc207e17",
   "metadata": {},
   "outputs": [
    {
     "name": "stdout",
     "output_type": "stream",
     "text": [
      "[ 8 27]\n"
     ]
    }
   ],
   "source": [
    "arr = np.array([2, 3])  \n",
    "print(np.power(arr, 3))"
   ]
  },
  {
   "cell_type": "markdown",
   "id": "8a6a0603",
   "metadata": {},
   "source": [
    "## 3.6 np.dot()"
   ]
  },
  {
   "cell_type": "code",
   "execution_count": null,
   "id": "ba33e765",
   "metadata": {},
   "outputs": [],
   "source": [
    "Compute the dot product of two arrays.\n",
    "Syntax: np.dot(a, b)"
   ]
  },
  {
   "cell_type": "code",
   "execution_count": 46,
   "id": "92e57584",
   "metadata": {},
   "outputs": [
    {
     "name": "stdout",
     "output_type": "stream",
     "text": [
      "11\n"
     ]
    }
   ],
   "source": [
    "a = np.array([1, 2])  \n",
    "b = np.array([3, 4])  \n",
    "print(np.dot(a, b))  #(1*3 + 2*4)  "
   ]
  },
  {
   "cell_type": "markdown",
   "id": "9582255c",
   "metadata": {},
   "source": [
    "## 3.7 np.add(), np.subtract(), np.multiply(), np.divide()"
   ]
  },
  {
   "cell_type": "code",
   "execution_count": null,
   "id": "c4513988",
   "metadata": {},
   "outputs": [],
   "source": [
    "Element-wise arithmetic operations.\n",
    "\n",
    "Syntax: np.add(a, b)"
   ]
  },
  {
   "cell_type": "code",
   "execution_count": 47,
   "id": "2658a0df",
   "metadata": {},
   "outputs": [
    {
     "name": "stdout",
     "output_type": "stream",
     "text": [
      "[4 6]\n"
     ]
    }
   ],
   "source": [
    "a = np.array([1, 2])  \n",
    "b = np.array([3, 4])  \n",
    "print(np.add(a, b)) "
   ]
  },
  {
   "cell_type": "code",
   "execution_count": 33,
   "id": "9659e7a7",
   "metadata": {},
   "outputs": [
    {
     "name": "stdout",
     "output_type": "stream",
     "text": [
      "[[5 6]\n",
      " [7 8]]\n",
      "----------\n",
      "[[1 2]\n",
      " [3 4]]\n",
      "----------\n",
      "[[4 4]\n",
      " [4 4]]\n"
     ]
    }
   ],
   "source": [
    "a = np.array([[5, 6], [7, 8]])  \n",
    "b = np.array([[1, 2], [3, 4]])\n",
    "print(a)\n",
    "print(\"-\"*10)\n",
    "print(b)\n",
    "print(\"-\"*10)\n",
    "print(np.subtract(a, b))"
   ]
  },
  {
   "cell_type": "code",
   "execution_count": 49,
   "id": "73306429",
   "metadata": {},
   "outputs": [
    {
     "name": "stdout",
     "output_type": "stream",
     "text": [
      "[3 8]\n"
     ]
    }
   ],
   "source": [
    "a = np.array([1, 2])  \n",
    "b = np.array([3, 4])  \n",
    "print(np.multiply(a, b))"
   ]
  },
  {
   "cell_type": "code",
   "execution_count": 50,
   "id": "f723f1c1",
   "metadata": {},
   "outputs": [
    {
     "name": "stdout",
     "output_type": "stream",
     "text": [
      "[0.33333333 0.5       ]\n"
     ]
    }
   ],
   "source": [
    "a = np.array([1, 2])  \n",
    "b = np.array([3, 4])  \n",
    "print(np.divide(a, b))"
   ]
  },
  {
   "cell_type": "markdown",
   "id": "4e068864",
   "metadata": {},
   "source": [
    "## 3.8 np.round()"
   ]
  },
  {
   "cell_type": "code",
   "execution_count": null,
   "id": "4520f3e8",
   "metadata": {},
   "outputs": [],
   "source": [
    ">> Round elements to the nearest integer.\n",
    "Syntax: np.round(arr, decimals=0)"
   ]
  },
  {
   "cell_type": "code",
   "execution_count": 51,
   "id": "bf06e784",
   "metadata": {},
   "outputs": [
    {
     "name": "stdout",
     "output_type": "stream",
     "text": [
      "[2. 5. 6.]\n"
     ]
    }
   ],
   "source": [
    "arr = np.array([2.3, 4.7, 5.5])  #Round to nearest integer\n",
    "print(np.round(arr))"
   ]
  },
  {
   "cell_type": "code",
   "execution_count": 52,
   "id": "e92ddb84",
   "metadata": {},
   "outputs": [
    {
     "name": "stdout",
     "output_type": "stream",
     "text": [
      "[3.1 2.7]\n"
     ]
    }
   ],
   "source": [
    "arr = np.array([3.1415, 2.718])  #Round to 1 decimal\n",
    "print(np.round(arr, 1))"
   ]
  },
  {
   "cell_type": "markdown",
   "id": "6c052e85",
   "metadata": {},
   "source": [
    "# 5. Logical & Indexing"
   ]
  },
  {
   "cell_type": "code",
   "execution_count": null,
   "id": "8d6c5324",
   "metadata": {},
   "outputs": [],
   "source": [
    ">> Return indices or values based on a condition.\n",
    ">> Returns indices where condition is True."
   ]
  },
  {
   "cell_type": "code",
   "execution_count": null,
   "id": "7f0cf880",
   "metadata": {},
   "outputs": [],
   "source": [
    "#np.where"
   ]
  },
  {
   "cell_type": "code",
   "execution_count": 55,
   "id": "42e11b58",
   "metadata": {
    "scrolled": true
   },
   "outputs": [
    {
     "name": "stdout",
     "output_type": "stream",
     "text": [
      "(array([1, 3], dtype=int64),)\n"
     ]
    }
   ],
   "source": [
    "arr = np.array([2, 6, 1, 8, 3])  \n",
    "result = np.where(arr > 5)  \n",
    "print(result) # we will get index numbers"
   ]
  },
  {
   "cell_type": "code",
   "execution_count": 53,
   "id": "9ac72e59",
   "metadata": {},
   "outputs": [
    {
     "name": "stdout",
     "output_type": "stream",
     "text": [
      "[  0   0   0 100 100]\n"
     ]
    }
   ],
   "source": [
    "arr = np.array([5, 10, 15, 20, 25])\n",
    "result = np.where(arr > 15, 100, 0)  \n",
    "print(result) "
   ]
  },
  {
   "cell_type": "markdown",
   "id": "f662ecbc",
   "metadata": {},
   "source": [
    "# np.any()"
   ]
  },
  {
   "cell_type": "code",
   "execution_count": null,
   "id": "d301773b",
   "metadata": {},
   "outputs": [],
   "source": [
    "\n",
    "Check if any element satisfies a condition. output is in True or False"
   ]
  },
  {
   "cell_type": "code",
   "execution_count": 35,
   "id": "8ec05142",
   "metadata": {},
   "outputs": [
    {
     "name": "stdout",
     "output_type": "stream",
     "text": [
      "True\n"
     ]
    }
   ],
   "source": [
    "arr = np.array([1, -2, 3, 4])  \n",
    "print(np.any(arr < 0))"
   ]
  },
  {
   "cell_type": "markdown",
   "id": "b3336a3f",
   "metadata": {},
   "source": [
    "# np.unique()"
   ]
  },
  {
   "cell_type": "code",
   "execution_count": null,
   "id": "39895b8c",
   "metadata": {},
   "outputs": [],
   "source": [
    "#np.unique()\n",
    "Extract unique elements and optionally count them\n"
   ]
  },
  {
   "cell_type": "code",
   "execution_count": 57,
   "id": "f780ffc2",
   "metadata": {},
   "outputs": [
    {
     "name": "stdout",
     "output_type": "stream",
     "text": [
      "[2 3 5]\n"
     ]
    }
   ],
   "source": [
    "arr = np.array([2, 2, 3, 5, 3, 5])  \n",
    "unique_values = np.unique(arr)  \n",
    "print(unique_values)"
   ]
  },
  {
   "cell_type": "code",
   "execution_count": 58,
   "id": "6a2566f2",
   "metadata": {},
   "outputs": [
    {
     "name": "stdout",
     "output_type": "stream",
     "text": [
      "[2 3 5]\n",
      "[2 2 2]\n"
     ]
    }
   ],
   "source": [
    "unique, counts = np.unique(arr, return_counts=True)\n",
    "print(unique)\n",
    "print(counts) "
   ]
  }
 ],
 "metadata": {
  "kernelspec": {
   "display_name": "Python 3 (ipykernel)",
   "language": "python",
   "name": "python3"
  },
  "language_info": {
   "codemirror_mode": {
    "name": "ipython",
    "version": 3
   },
   "file_extension": ".py",
   "mimetype": "text/x-python",
   "name": "python",
   "nbconvert_exporter": "python",
   "pygments_lexer": "ipython3",
   "version": "3.9.12"
  }
 },
 "nbformat": 4,
 "nbformat_minor": 5
}
