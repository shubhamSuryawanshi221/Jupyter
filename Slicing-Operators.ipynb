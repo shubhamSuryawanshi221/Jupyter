{
 "cells": [
  {
   "cell_type": "markdown",
   "id": "9246da56",
   "metadata": {},
   "source": [
    "# Length of string"
   ]
  },
  {
   "cell_type": "code",
   "execution_count": 1,
   "id": "c26e42f5",
   "metadata": {},
   "outputs": [],
   "source": [
    "string = 'python'"
   ]
  },
  {
   "cell_type": "code",
   "execution_count": 3,
   "id": "7a3db616",
   "metadata": {},
   "outputs": [
    {
     "data": {
      "text/plain": [
       "6"
      ]
     },
     "execution_count": 3,
     "metadata": {},
     "output_type": "execute_result"
    }
   ],
   "source": [
    "length= len(string)\n",
    "length"
   ]
  },
  {
   "cell_type": "code",
   "execution_count": null,
   "id": "7ce044bd",
   "metadata": {},
   "outputs": [],
   "source": [
    "lenght=len(string)"
   ]
  },
  {
   "cell_type": "code",
   "execution_count": 4,
   "id": "cd6ed165",
   "metadata": {},
   "outputs": [],
   "source": [
    "string1 = 'Machine learning is a field of inquiry devoted to understanding and building methods that learn, that is, methods that leverage data to improve performance on some set of tasks. It is seen as a part of artificial intelligence'"
   ]
  },
  {
   "cell_type": "code",
   "execution_count": 5,
   "id": "186b6fff",
   "metadata": {
    "scrolled": true
   },
   "outputs": [
    {
     "name": "stdout",
     "output_type": "stream",
     "text": [
      "Machine learning is a field of inquiry devoted to understanding and building methods that learn, that is, methods that leverage data to improve performance on some set of tasks. It is seen as a part of artificial intelligence\n"
     ]
    }
   ],
   "source": [
    "print(string1)"
   ]
  },
  {
   "cell_type": "code",
   "execution_count": null,
   "id": "d3d9632d",
   "metadata": {},
   "outputs": [],
   "source": []
  },
  {
   "cell_type": "code",
   "execution_count": 6,
   "id": "22cfc554",
   "metadata": {},
   "outputs": [
    {
     "data": {
      "text/plain": [
       "225"
      ]
     },
     "execution_count": 6,
     "metadata": {},
     "output_type": "execute_result"
    }
   ],
   "source": [
    "len(string1)"
   ]
  },
  {
   "cell_type": "code",
   "execution_count": 7,
   "id": "f806ced3",
   "metadata": {},
   "outputs": [
    {
     "name": "stdout",
     "output_type": "stream",
     "text": [
      "e\n"
     ]
    }
   ],
   "source": [
    "print(string1[6])"
   ]
  },
  {
   "cell_type": "code",
   "execution_count": 8,
   "id": "d5d4f1a7",
   "metadata": {},
   "outputs": [
    {
     "name": "stdout",
     "output_type": "stream",
     "text": [
      "n\n",
      "n\n"
     ]
    }
   ],
   "source": [
    "string2 = 'python'\n",
    "length = len(string2)\n",
    "print(string2[length-1])\n",
    "print(string2[-1])"
   ]
  },
  {
   "cell_type": "code",
   "execution_count": null,
   "id": "ff9ba2fb",
   "metadata": {},
   "outputs": [],
   "source": []
  },
  {
   "cell_type": "markdown",
   "id": "0632ed85",
   "metadata": {},
   "source": [
    "# Slicing"
   ]
  },
  {
   "cell_type": "code",
   "execution_count": null,
   "id": "0e563fd8",
   "metadata": {},
   "outputs": [],
   "source": [
    ">> Slicing allows you to extract a substring (portion) of a string by specifying a range of indices."
   ]
  },
  {
   "cell_type": "code",
   "execution_count": null,
   "id": "3f8f715e",
   "metadata": {},
   "outputs": [],
   "source": [
    ">> default start index is 0.\n",
    ">> default end index is len(string)\n",
    "syntax:\n",
    "    string[start_index(include) : end_index[excluded] : [step_size]]"
   ]
  },
  {
   "cell_type": "code",
   "execution_count": 9,
   "id": "9c0ca314",
   "metadata": {},
   "outputs": [],
   "source": [
    "string='python'"
   ]
  },
  {
   "cell_type": "code",
   "execution_count": 10,
   "id": "ae9ea94a",
   "metadata": {},
   "outputs": [
    {
     "data": {
      "text/plain": [
       "'y'"
      ]
     },
     "execution_count": 10,
     "metadata": {},
     "output_type": "execute_result"
    }
   ],
   "source": [
    "string[1]"
   ]
  },
  {
   "cell_type": "code",
   "execution_count": null,
   "id": "df19fbe6",
   "metadata": {},
   "outputs": [],
   "source": [
    "                         p y t h o n\n",
    "positive insexing        0 1 2 3 4 5\n",
    "negative indexing       -6-5-4-3-2-1\n",
    "\n",
    "\n",
    "string[0:3]"
   ]
  },
  {
   "cell_type": "code",
   "execution_count": 11,
   "id": "efd6e8f1",
   "metadata": {},
   "outputs": [
    {
     "data": {
      "text/plain": [
       "'pyt'"
      ]
     },
     "execution_count": 11,
     "metadata": {},
     "output_type": "execute_result"
    }
   ],
   "source": [
    "string[0:3]"
   ]
  },
  {
   "cell_type": "code",
   "execution_count": 12,
   "id": "c56e077f",
   "metadata": {},
   "outputs": [
    {
     "data": {
      "text/plain": [
       "'pytho'"
      ]
     },
     "execution_count": 12,
     "metadata": {},
     "output_type": "execute_result"
    }
   ],
   "source": [
    "string[0:5]"
   ]
  },
  {
   "cell_type": "code",
   "execution_count": 1,
   "id": "44568d6e",
   "metadata": {},
   "outputs": [
    {
     "data": {
      "text/plain": [
       "'pto'"
      ]
     },
     "execution_count": 1,
     "metadata": {},
     "output_type": "execute_result"
    }
   ],
   "source": [
    "string='python'\n",
    "string[0:6:2]\n",
    "string[::2]"
   ]
  },
  {
   "cell_type": "code",
   "execution_count": 14,
   "id": "711255e9",
   "metadata": {},
   "outputs": [
    {
     "data": {
      "text/plain": [
       "'ph'"
      ]
     },
     "execution_count": 14,
     "metadata": {},
     "output_type": "execute_result"
    }
   ],
   "source": [
    "string='python'\n",
    "string[0:6:3]"
   ]
  },
  {
   "cell_type": "code",
   "execution_count": 15,
   "id": "90f9ebe3",
   "metadata": {},
   "outputs": [
    {
     "name": "stdout",
     "output_type": "stream",
     "text": [
      "python\n"
     ]
    }
   ],
   "source": [
    "print(string[0:6:1])"
   ]
  },
  {
   "cell_type": "code",
   "execution_count": 16,
   "id": "c4c91cc7",
   "metadata": {},
   "outputs": [
    {
     "name": "stdout",
     "output_type": "stream",
     "text": [
      "th\n"
     ]
    }
   ],
   "source": [
    "print(string[2:4])"
   ]
  },
  {
   "cell_type": "code",
   "execution_count": 17,
   "id": "270473e6",
   "metadata": {},
   "outputs": [
    {
     "name": "stdout",
     "output_type": "stream",
     "text": [
      "python\n"
     ]
    }
   ],
   "source": [
    "print(string[0:8])"
   ]
  },
  {
   "cell_type": "code",
   "execution_count": 18,
   "id": "80bf1871",
   "metadata": {},
   "outputs": [
    {
     "data": {
      "text/plain": [
       "'y'"
      ]
     },
     "execution_count": 18,
     "metadata": {},
     "output_type": "execute_result"
    }
   ],
   "source": [
    "string='python'\n",
    "string[-5:2]"
   ]
  },
  {
   "cell_type": "code",
   "execution_count": null,
   "id": "0a32813c",
   "metadata": {},
   "outputs": [],
   "source": [
    "                         p y t h o n\n",
    "positive insexing        0 1 2 3 4 5\n",
    "negative indexing       -6-5-4-3-2-1"
   ]
  },
  {
   "cell_type": "code",
   "execution_count": 19,
   "id": "70a3ebb8",
   "metadata": {},
   "outputs": [
    {
     "data": {
      "text/plain": [
       "'ython'"
      ]
     },
     "execution_count": 19,
     "metadata": {},
     "output_type": "execute_result"
    }
   ],
   "source": [
    "string='python'\n",
    "string[-5:]"
   ]
  },
  {
   "cell_type": "code",
   "execution_count": 20,
   "id": "38d34a4a",
   "metadata": {},
   "outputs": [],
   "source": [
    "string3 = 'Machine learning is a field of inquiry devoted to understanding and building methods that learn, that is, methods that leverage data to improve performance on some set of tasks. It is seen as a part of artificial intelligence'"
   ]
  },
  {
   "cell_type": "code",
   "execution_count": 22,
   "id": "2ffdff70",
   "metadata": {},
   "outputs": [
    {
     "data": {
      "text/plain": [
       "'Machine learning is a field of inquiry devoted to understanding and building methods that learn, that is, methods that leverage data to improve performance on some set of tasks. It is seen as a part of artificial intelligence'"
      ]
     },
     "execution_count": 22,
     "metadata": {},
     "output_type": "execute_result"
    }
   ],
   "source": [
    "string3"
   ]
  },
  {
   "cell_type": "code",
   "execution_count": 23,
   "id": "40110961",
   "metadata": {},
   "outputs": [
    {
     "name": "stdout",
     "output_type": "stream",
     "text": [
      "225\n"
     ]
    }
   ],
   "source": [
    "print(len(string3))"
   ]
  },
  {
   "cell_type": "code",
   "execution_count": 24,
   "id": "0abffcd8",
   "metadata": {},
   "outputs": [
    {
     "name": "stdout",
     "output_type": "stream",
     "text": [
      "215\n"
     ]
    }
   ],
   "source": [
    "x = string3[10:]\n",
    "print(len(x))"
   ]
  },
  {
   "cell_type": "code",
   "execution_count": 25,
   "id": "dca35e1b",
   "metadata": {},
   "outputs": [
    {
     "name": "stdout",
     "output_type": "stream",
     "text": [
      "Mcielann safedo nur eoe oudrtnigadbidn ehd htlan hti,mtosta eeaedt oipoepromneo oesto ak.I sse sapr fatfca nelgne\n"
     ]
    }
   ],
   "source": [
    "print(string3[::2])"
   ]
  },
  {
   "cell_type": "code",
   "execution_count": 26,
   "id": "e9a22246",
   "metadata": {},
   "outputs": [
    {
     "name": "stdout",
     "output_type": "stream",
     "text": [
      "Mheengs e  qrdodonrai dudgeo alr ai tdtterea  pvpfmcoseeotk   eaaa  tiaiein\n"
     ]
    }
   ],
   "source": [
    "print(string3[::3])"
   ]
  },
  {
   "cell_type": "markdown",
   "id": "1d48c7fe",
   "metadata": {},
   "source": [
    "# operators"
   ]
  },
  {
   "cell_type": "code",
   "execution_count": null,
   "id": "cfbca805",
   "metadata": {},
   "outputs": [],
   "source": [
    ">> Operators are special symbols or keywords that tell the Python interpreter to \n",
    "   perform some kind of operation on values and variables.\n",
    "    + - / *\n",
    "    \n",
    "    x = 20,     x and 20 are the operands.\n",
    "\n",
    ">> Without operators, our programs would just be static data.\n",
    ">> Operators bring them to life by allowing us to do things with that data."
   ]
  },
  {
   "cell_type": "code",
   "execution_count": null,
   "id": "cb26b9af",
   "metadata": {},
   "outputs": [],
   "source": [
    "Arithmetic Operators:\n",
    "    \n",
    " + (Addition): x + y\n",
    "\n",
    " - (Subtraction): x - y\n",
    "\n",
    " * (Multiplication): x * y\n",
    "\n",
    " / (Division): x / y (always returns a float)\n",
    "\n",
    " % (Modulus): x % y (returns the remainder of the division)\n",
    "\n",
    " ** (Exponentiation): x ** y (x to the power of y)"
   ]
  },
  {
   "cell_type": "code",
   "execution_count": 2,
   "id": "102510bd",
   "metadata": {},
   "outputs": [
    {
     "data": {
      "text/plain": [
       "1"
      ]
     },
     "execution_count": 2,
     "metadata": {},
     "output_type": "execute_result"
    }
   ],
   "source": [
    "4%3"
   ]
  },
  {
   "cell_type": "code",
   "execution_count": 7,
   "id": "90694ad4",
   "metadata": {},
   "outputs": [
    {
     "data": {
      "text/plain": [
       "2"
      ]
     },
     "execution_count": 7,
     "metadata": {},
     "output_type": "execute_result"
    }
   ],
   "source": [
    "Assignment Operators:\n",
    "    \n",
    "Used to assign values to variables.\n",
    "\n",
    "= (Assign): x = 5\n",
    "\n",
    "+= (Add AND assign): x += 3 is equivalent to x = x + 3\n",
    "\n",
    "-= (Subtract AND assign): x -= 3 is equivalent to x = x - 3\n",
    "\n",
    "*= (Multiply AND assign): x *= 3 is equivalent to x = x * 3\n",
    "\n",
    "/= (Divide AND assign): x /= 3 is equivalent to x = x / 3\n"
   ]
  },
  {
   "cell_type": "code",
   "execution_count": null,
   "id": "7010c93e",
   "metadata": {},
   "outputs": [],
   "source": [
    "Comparison (Relational) Operators:\n",
    "    \n",
    ">> Used to compare two values and return a True or False (Boolean) result.\n",
    "\n",
    "== (Equal to): x == y\n",
    "\n",
    "!= (Not equal to): x != y\n",
    "\n",
    "> (Greater than): x > y\n",
    "\n",
    "< (Less than): x < y\n",
    "\n",
    ">= (Greater than or equal to): x >= y\n",
    "\n",
    "<= (Less than or equal to): x <= y"
   ]
  },
  {
   "cell_type": "code",
   "execution_count": null,
   "id": "14add4f7",
   "metadata": {},
   "outputs": [],
   "source": [
    "Logical Operators:\n",
    "    \n",
    ">> Used to combine conditional statements.\n",
    "\n",
    "and : Returns True if both statements are true. x > 5 and x < 10\n",
    "\n",
    "or: Returns True if at least one of the statements is true. x > 5 or x < 4\n",
    "\n",
    "not: Reverses the result; returns False if the result is true. not(x > 5 and x < 10)\n",
    "\n"
   ]
  },
  {
   "cell_type": "code",
   "execution_count": null,
   "id": "edc0630d",
   "metadata": {},
   "outputs": [],
   "source": [
    "Membership Operators:\n",
    "    \n",
    ">> Used to test if a sequence (like a string, list, or tuple) contains a specified value.\n",
    "\n",
    "in: Returns True if a sequence with the specified value is present in the object. 'apple' in fruits\n",
    "\n",
    "not in: Returns True if a sequence with the specified value is not present in the object. 'grape' not in fruits"
   ]
  },
  {
   "cell_type": "code",
   "execution_count": null,
   "id": "465a4ce7",
   "metadata": {},
   "outputs": [],
   "source": []
  },
  {
   "cell_type": "code",
   "execution_count": null,
   "id": "70ae06b3",
   "metadata": {},
   "outputs": [],
   "source": []
  },
  {
   "cell_type": "markdown",
   "id": "13f98f07",
   "metadata": {},
   "source": [
    "# if else"
   ]
  },
  {
   "cell_type": "code",
   "execution_count": 1,
   "id": "127b869f",
   "metadata": {},
   "outputs": [
    {
     "name": "stdout",
     "output_type": "stream",
     "text": [
      "The number is positive!\n"
     ]
    }
   ],
   "source": [
    "my_number = 7\n",
    "\n",
    "if my_number > 0:\n",
    "  print(\"The number is positive!\")\n",
    "else:\n",
    "  print(\"The number is not positive.\")"
   ]
  },
  {
   "cell_type": "code",
   "execution_count": 3,
   "id": "65e0453c",
   "metadata": {},
   "outputs": [
    {
     "name": "stdout",
     "output_type": "stream",
     "text": [
      "The number is not positive.\n"
     ]
    }
   ],
   "source": [
    "my_number = -3\n",
    "\n",
    "\n",
    "if my_number > 0:\n",
    "  print(\"The number is positive!\")\n",
    "else:\n",
    "  print(\"The number is not positive.\")"
   ]
  },
  {
   "cell_type": "code",
   "execution_count": 4,
   "id": "de862550",
   "metadata": {},
   "outputs": [
    {
     "name": "stdout",
     "output_type": "stream",
     "text": [
      "Yes! I can buy the candy.\n"
     ]
    }
   ],
   "source": [
    "my_money = 20  # You have 20 rupees\n",
    "candy_price = 10 # The candy costs 10 rupees\n",
    "\n",
    "# Can I buy the candy?\n",
    "if my_money >= candy_price:\n",
    "  print(\"Yes! I can buy the candy.\")\n",
    "else:\n",
    "  print(\"Oh no, I don't have enough money.\")"
   ]
  },
  {
   "cell_type": "code",
   "execution_count": 5,
   "id": "84adc558",
   "metadata": {},
   "outputs": [
    {
     "name": "stdout",
     "output_type": "stream",
     "text": [
      "Oh no, I don't have enough money.\n"
     ]
    }
   ],
   "source": [
    "my_money = 5\n",
    "candy_price = 10\n",
    "\n",
    "if my_money >= candy_price:\n",
    "  print(\"Yes! I can buy the candy.\")\n",
    "else:\n",
    "  print(\"Oh no, I don't have enough money.\")"
   ]
  }
 ],
 "metadata": {
  "kernelspec": {
   "display_name": "Python 3 (ipykernel)",
   "language": "python",
   "name": "python3"
  },
  "language_info": {
   "codemirror_mode": {
    "name": "ipython",
    "version": 3
   },
   "file_extension": ".py",
   "mimetype": "text/x-python",
   "name": "python",
   "nbconvert_exporter": "python",
   "pygments_lexer": "ipython3",
   "version": "3.13.5"
  }
 },
 "nbformat": 4,
 "nbformat_minor": 5
}
