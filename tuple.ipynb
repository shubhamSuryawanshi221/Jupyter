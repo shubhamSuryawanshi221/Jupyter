{
 "cells": [
  {
   "cell_type": "markdown",
   "id": "a0b50d44",
   "metadata": {},
   "source": [
    "# tuple"
   ]
  },
  {
   "cell_type": "markdown",
   "id": "4b4d76b7",
   "metadata": {},
   "source": [
    ">>> A tuple is an immutable, ordered collection of elements enclosed in parentheses () and values are separated by , [comma.] Once created, its contents cannot be modified (no additions, deletions, or changes).\n",
    "\n",
    "\n",
    ">>> Allow duplicates\n",
    ">>> Items are comma separated\n",
    ">>> Requires less memory\n",
    ">>> Faster than list\n",
    "\n"
   ]
  },
  {
   "cell_type": "code",
   "execution_count": null,
   "id": "7dbb8488",
   "metadata": {},
   "outputs": [],
   "source": [
    "Properties of Tuples:\n",
    "    \n",
    "Ordered:>> Items in a tuple have a specific order that is maintained.\n",
    "Immutable:>> Once a tuple is created, its elements cannot be changed (no adding, removing, or modifying). This is the key difference from lists.\n",
    "Allows Duplicates:>> Tuples can contain duplicate items.\n",
    "Heterogeneous Items:>> A single tuple can contain items of different data types.\n",
    "Fixed Size:>> Unlike lists, the size of a tuple is fixed upon creation."
   ]
  },
  {
   "cell_type": "code",
   "execution_count": null,
   "id": "66bf0c6f",
   "metadata": {},
   "outputs": [],
   "source": [
    "Use of tuple:\n",
    "    customer ID\n",
    "    pan number \n",
    "    passport no\n",
    "    UAN no\n",
    "    Adhar number"
   ]
  },
  {
   "cell_type": "code",
   "execution_count": null,
   "id": "44790c59",
   "metadata": {},
   "outputs": [],
   "source": [
    "syntax:\n",
    "    \n",
    "# Empty tuple\n",
    "empty_tuple = ()\n",
    "\n",
    "# Tuple with one item (note the trailing comma)\n",
    "single_item_tuple = (5,)\n",
    "\n",
    "# Tuple with multiple items\n",
    "my_tuple = (1, 2, 'hello', 3.14, True)"
   ]
  },
  {
   "cell_type": "code",
   "execution_count": 1,
   "id": "f2fe3bef",
   "metadata": {},
   "outputs": [
    {
     "data": {
      "text/plain": [
       "tuple"
      ]
     },
     "execution_count": 1,
     "metadata": {},
     "output_type": "execute_result"
    }
   ],
   "source": [
    "tuple1=(23,\"string\",4.5, 34)\n",
    "type(tuple1)"
   ]
  },
  {
   "cell_type": "code",
   "execution_count": null,
   "id": "ccc0284e",
   "metadata": {},
   "outputs": [],
   "source": []
  },
  {
   "cell_type": "code",
   "execution_count": null,
   "id": "141902ae",
   "metadata": {},
   "outputs": [],
   "source": []
  },
  {
   "cell_type": "markdown",
   "id": "f0222514",
   "metadata": {},
   "source": [
    "# How to create tuple"
   ]
  },
  {
   "cell_type": "code",
   "execution_count": 3,
   "id": "e93c5676",
   "metadata": {},
   "outputs": [
    {
     "name": "stdout",
     "output_type": "stream",
     "text": [
      "<class 'tuple'>\n",
      "<class 'tuple'>\n"
     ]
    }
   ],
   "source": [
    "tup=(\"laptop\", \"table\",\"chair\")\n",
    "print(type(tup))\n",
    "\n",
    "tup1=(1,2,5,3,23)\n",
    "print(type(tup1))"
   ]
  },
  {
   "cell_type": "code",
   "execution_count": 5,
   "id": "26def27a",
   "metadata": {},
   "outputs": [
    {
     "name": "stdout",
     "output_type": "stream",
     "text": [
      "(1, 2, 3)\n",
      "<class 'tuple'>\n"
     ]
    }
   ],
   "source": [
    "# 1. From a list\n",
    "my_list = [1, 2, 3]\n",
    "my_tuple_from_list = tuple(my_list)\n",
    "print(my_tuple_from_list)\n",
    "print(type(my_tuple_from_list))"
   ]
  },
  {
   "cell_type": "code",
   "execution_count": 2,
   "id": "aca27732",
   "metadata": {},
   "outputs": [
    {
     "data": {
      "text/plain": [
       "tuple"
      ]
     },
     "execution_count": 2,
     "metadata": {},
     "output_type": "execute_result"
    }
   ],
   "source": [
    "l=[1,23,45]\n",
    "t=tuple(l)\n",
    "type(t)"
   ]
  },
  {
   "cell_type": "code",
   "execution_count": 6,
   "id": "135ef532",
   "metadata": {},
   "outputs": [
    {
     "name": "stdout",
     "output_type": "stream",
     "text": [
      "('p', 'y', 't', 'h', 'o', 'n')\n"
     ]
    }
   ],
   "source": [
    "# 2.From a string\n",
    "my_string = \"python\"\n",
    "my_tuple_from_string = tuple(my_string)\n",
    "print(my_tuple_from_string)"
   ]
  },
  {
   "cell_type": "code",
   "execution_count": 7,
   "id": "665eacea",
   "metadata": {},
   "outputs": [
    {
     "name": "stdout",
     "output_type": "stream",
     "text": [
      "(0, 1, 2, 3, 4)\n"
     ]
    }
   ],
   "source": [
    "# 3.From a range\n",
    "my_range = range(5)\n",
    "my_tuple_from_range = tuple(my_range)\n",
    "print(my_tuple_from_range)"
   ]
  },
  {
   "cell_type": "code",
   "execution_count": 5,
   "id": "3e9ccaf5",
   "metadata": {},
   "outputs": [
    {
     "name": "stdout",
     "output_type": "stream",
     "text": [
      "()\n"
     ]
    }
   ],
   "source": [
    "# Empty tuple\n",
    "empty_tuple = tuple()\n",
    "print(empty_tuple)"
   ]
  },
  {
   "cell_type": "markdown",
   "id": "2c5c8186",
   "metadata": {},
   "source": [
    "# How to access the elements from tuple"
   ]
  },
  {
   "cell_type": "code",
   "execution_count": null,
   "id": "6cbbe2f0",
   "metadata": {},
   "outputs": [],
   "source": [
    ">> Use indexing (like lists)"
   ]
  },
  {
   "cell_type": "code",
   "execution_count": 9,
   "id": "e0d4a9c7",
   "metadata": {},
   "outputs": [
    {
     "name": "stdout",
     "output_type": "stream",
     "text": [
      "apple\n",
      "cherry\n"
     ]
    }
   ],
   "source": [
    "fruits = (\"apple\", \"banana\", \"cherry\") \n",
    "print(fruits[0])    \n",
    "print(fruits[-1])   "
   ]
  },
  {
   "cell_type": "markdown",
   "id": "e2ce87f2",
   "metadata": {},
   "source": [
    "# Functions/Methods in Tuple:"
   ]
  },
  {
   "cell_type": "markdown",
   "id": "6be647c9",
   "metadata": {},
   "source": [
    "## 1.count(item): "
   ]
  },
  {
   "cell_type": "code",
   "execution_count": null,
   "id": "b5c08d95",
   "metadata": {},
   "outputs": [],
   "source": [
    ">>  Returns the number of times a specified item appears in the tuple."
   ]
  },
  {
   "cell_type": "code",
   "execution_count": 8,
   "id": "e28e5d6f",
   "metadata": {},
   "outputs": [
    {
     "name": "stdout",
     "output_type": "stream",
     "text": [
      "3\n"
     ]
    }
   ],
   "source": [
    "my_tuple = (1, 2, 2, 3, 2, 4)\n",
    "count_of_2 = my_tuple.count(2)\n",
    "print(count_of_2)"
   ]
  },
  {
   "cell_type": "markdown",
   "id": "fe26a5e1",
   "metadata": {},
   "source": [
    "### 2.index(item): "
   ]
  },
  {
   "cell_type": "code",
   "execution_count": null,
   "id": "d89b0838",
   "metadata": {},
   "outputs": [],
   "source": [
    "2.index(item): \n",
    "    Returns the index of the first occurrence of a specified item. \n",
    "    If the item is not found, it raises a ValueError."
   ]
  },
  {
   "cell_type": "code",
   "execution_count": 9,
   "id": "d9f2c469",
   "metadata": {},
   "outputs": [
    {
     "name": "stdout",
     "output_type": "stream",
     "text": [
      "1\n"
     ]
    }
   ],
   "source": [
    "my_tuple = ('a', 'b', 'c', 'b')\n",
    "index_of_b = my_tuple.index('b')\n",
    "print(index_of_b)"
   ]
  },
  {
   "cell_type": "code",
   "execution_count": null,
   "id": "1688f4f5",
   "metadata": {},
   "outputs": [],
   "source": [
    "tuple11=('a', 'b', 'c', 'b')\n"
   ]
  },
  {
   "cell_type": "code",
   "execution_count": 8,
   "id": "4e8b8c51",
   "metadata": {
    "scrolled": true
   },
   "outputs": [
    {
     "ename": "ValueError",
     "evalue": "tuple.index(x): x not in tuple",
     "output_type": "error",
     "traceback": [
      "\u001b[1;31m---------------------------------------------------------------------------\u001b[0m",
      "\u001b[1;31mValueError\u001b[0m                                Traceback (most recent call last)",
      "Input \u001b[1;32mIn [8]\u001b[0m, in \u001b[0;36m<cell line: 1>\u001b[1;34m()\u001b[0m\n\u001b[1;32m----> 1\u001b[0m index_of_z \u001b[38;5;241m=\u001b[39m \u001b[43mmy_tuple\u001b[49m\u001b[38;5;241;43m.\u001b[39;49m\u001b[43mindex\u001b[49m\u001b[43m(\u001b[49m\u001b[38;5;124;43m'\u001b[39;49m\u001b[38;5;124;43mz\u001b[39;49m\u001b[38;5;124;43m'\u001b[39;49m\u001b[43m)\u001b[49m\n\u001b[0;32m      2\u001b[0m \u001b[38;5;28mprint\u001b[39m(index_of_z)\n",
      "\u001b[1;31mValueError\u001b[0m: tuple.index(x): x not in tuple"
     ]
    }
   ],
   "source": [
    "index_of_z = my_tuple.index('z')\n",
    "print(index_of_z)"
   ]
  },
  {
   "cell_type": "markdown",
   "id": "eeda762b",
   "metadata": {},
   "source": [
    "# Inbuilt functions we can use with Tuples:\n",
    "\n"
   ]
  },
  {
   "cell_type": "code",
   "execution_count": 10,
   "id": "f6381402",
   "metadata": {},
   "outputs": [
    {
     "name": "stdout",
     "output_type": "stream",
     "text": [
      "The length of the tuple is: 4\n"
     ]
    }
   ],
   "source": [
    "# 1.len(tuple): Get the length of a tuple\n",
    "\n",
    "my_tuple = (10, 20, 'hello', 3.14)\n",
    "length = len(my_tuple)\n",
    "print(f\"The length of the tuple is: {length}\")"
   ]
  },
  {
   "cell_type": "code",
   "execution_count": 11,
   "id": "e001cbb5",
   "metadata": {},
   "outputs": [
    {
     "name": "stdout",
     "output_type": "stream",
     "text": [
      "The largest number in the tuple is: 9\n"
     ]
    }
   ],
   "source": [
    "# 2.max(tuple): Find the largest item\n",
    "\n",
    "numbers = (5, 2, 8, 1, 9)\n",
    "largest = max(numbers)\n",
    "print(f\"The largest number in the tuple is: {largest}\")\n",
    " \n",
    "    \n",
    "\n"
   ]
  },
  {
   "cell_type": "code",
   "execution_count": 12,
   "id": "1cfc09be",
   "metadata": {},
   "outputs": [
    {
     "name": "stdout",
     "output_type": "stream",
     "text": [
      "The smallest number in the tuple is: 1\n"
     ]
    }
   ],
   "source": [
    "# 3.min(tuple): Find the smallest item\n",
    "\n",
    "\n",
    "numbers = (5, 2, 8, 1, 9)\n",
    "smallest = min(numbers)\n",
    "print(f\"The smallest number in the tuple is: {smallest}\") "
   ]
  },
  {
   "cell_type": "code",
   "execution_count": 13,
   "id": "c004a3ec",
   "metadata": {},
   "outputs": [
    {
     "name": "stdout",
     "output_type": "stream",
     "text": [
      "The sum of the numbers in the tuple is: 15\n"
     ]
    }
   ],
   "source": [
    "# 4.sum(tuple): Calculate the sum of numeric items\n",
    "\n",
    "numbers_tuple = (1, 2, 3, 4, 5)\n",
    "total = sum(numbers_tuple)\n",
    "print(f\"The sum of the numbers in the tuple is: {total}\")"
   ]
  },
  {
   "cell_type": "code",
   "execution_count": 17,
   "id": "0ccedb78",
   "metadata": {},
   "outputs": [
    {
     "name": "stdout",
     "output_type": "stream",
     "text": [
      "Original tuple: (5, 1, 8, 3, 2)\n",
      "Sorted tuple: (1, 2, 3, 5, 8)\n"
     ]
    },
    {
     "data": {
      "text/plain": [
       "tuple"
      ]
     },
     "execution_count": 17,
     "metadata": {},
     "output_type": "execute_result"
    }
   ],
   "source": [
    "# 5.sorted(tuple): Get a new sorted list\n",
    "\n",
    "unsorted_tuple = (5, 1, 8, 3, 2)\n",
    "sorted_tuple = tuple(sorted(unsorted_tuple))\n",
    "print(f\"Original tuple: {unsorted_tuple}\")   \n",
    "print(f\"Sorted tuple: {sorted_tuple}\") \n",
    "type(sorted_tuple)"
   ]
  },
  {
   "cell_type": "code",
   "execution_count": null,
   "id": "c236bee6",
   "metadata": {},
   "outputs": [],
   "source": [
    "t=(1,2,4,5,6)\n"
   ]
  },
  {
   "cell_type": "markdown",
   "id": "e044ecf2",
   "metadata": {},
   "source": [
    "# Ways to update tuple"
   ]
  },
  {
   "cell_type": "markdown",
   "id": "1ac4e8bd",
   "metadata": {},
   "source": [
    "### 1.Converting to a List, Modifying, and Converting Back"
   ]
  },
  {
   "cell_type": "code",
   "execution_count": null,
   "id": "a33191b6",
   "metadata": {},
   "outputs": [],
   "source": [
    ">> Note that these are direct ways to update tuple"
   ]
  },
  {
   "cell_type": "code",
   "execution_count": 19,
   "id": "80171b37",
   "metadata": {},
   "outputs": [
    {
     "name": "stdout",
     "output_type": "stream",
     "text": [
      "original tuple is: (1, 2, 3)\n",
      "List: [1, 2, 3]\n",
      "Updated Tuple: (1, 2, 3, 4)\n"
     ]
    }
   ],
   "source": [
    "my_tuple = (1, 2, 3)\n",
    "\n",
    "print(f\"original tuple is: {my_tuple}\")\n",
    "# Convert to a list\n",
    "my_list = list(my_tuple)\n",
    "print(f\"List: {my_list}\") #my_list=[1,2,3]\n",
    "\n",
    "\n",
    "\n",
    "# Modify the list (add an element)\n",
    "my_list.append(4) #my_list=[1,2,3,4]\n",
    "\n",
    "\n",
    "# Convert back to a tuple\n",
    "updated_tuple = tuple(my_list)\n",
    "print(f\"Updated Tuple: {updated_tuple}\")\n"
   ]
  },
  {
   "cell_type": "code",
   "execution_count": 20,
   "id": "16ad60ac",
   "metadata": {},
   "outputs": [
    {
     "name": "stdout",
     "output_type": "stream",
     "text": [
      "original tuple is : (10, 20, 30)\n",
      "Modified Tuple: (10, 25, 30)\n"
     ]
    }
   ],
   "source": [
    "my_tuple_new = (10, 20, 30)\n",
    "print(f\"original tuple is : {my_tuple_new}\")\n",
    "list_again = list(my_tuple_new)\n",
    "\n",
    "list_again[1] = 25  # Modify an existing element\n",
    "\n",
    "modified_tuple = tuple(list_again)\n",
    "print(f\"Modified Tuple: {modified_tuple}\")"
   ]
  },
  {
   "cell_type": "code",
   "execution_count": null,
   "id": "d8b7092f",
   "metadata": {},
   "outputs": [],
   "source": []
  },
  {
   "cell_type": "code",
   "execution_count": null,
   "id": "3c084248",
   "metadata": {},
   "outputs": [],
   "source": []
  },
  {
   "cell_type": "markdown",
   "id": "00eb39e8",
   "metadata": {},
   "source": [
    "### 2. Concatenation: You can combine two or more tuples to create a new tuple."
   ]
  },
  {
   "cell_type": "code",
   "execution_count": 3,
   "id": "c653b22d",
   "metadata": {},
   "outputs": [
    {
     "name": "stdout",
     "output_type": "stream",
     "text": [
      "(1, 2, 3, 'a', 'b')\n",
      "***************\n",
      "(1, 2, 3, 'a', 'b', 'z')\n"
     ]
    }
   ],
   "source": [
    "tuple1 = (1, 2, 3)\n",
    "tuple2 = ('a', 'b')\n",
    "tuple3=(\"z\",)\n",
    "# Concatenating two tuples\n",
    "new_tuple = tuple1 + tuple2\n",
    "print(new_tuple)\n",
    "print(\"*\"*15)\n",
    "n_tuple=new_tuple+tuple3\n",
    "print(n_tuple)"
   ]
  },
  {
   "cell_type": "code",
   "execution_count": 21,
   "id": "0bfd3c07",
   "metadata": {},
   "outputs": [
    {
     "name": "stdout",
     "output_type": "stream",
     "text": [
      "(1, 2, 3, 4)\n"
     ]
    }
   ],
   "source": [
    "# Adding a single element (remember the comma for a single-element tuple)\n",
    "element_to_add = 4\n",
    "new_tuple_with_element = tuple1 + (element_to_add,)\n",
    "print(new_tuple_with_element)"
   ]
  },
  {
   "cell_type": "code",
   "execution_count": null,
   "id": "830dd0a2",
   "metadata": {},
   "outputs": [],
   "source": []
  },
  {
   "cell_type": "markdown",
   "id": "afe09b5f",
   "metadata": {},
   "source": [
    "### Question: Create a tuple named student_info containing the student's name (string), age (integer), and grade (float). Then, access and print each element of the tuple using its index."
   ]
  },
  {
   "cell_type": "code",
   "execution_count": 21,
   "id": "8ca8f121",
   "metadata": {},
   "outputs": [
    {
     "name": "stdout",
     "output_type": "stream",
     "text": [
      "Name: shubham\n",
      "Age: 20\n",
      "Grade: 85.5\n"
     ]
    }
   ],
   "source": [
    "student_info = (\"shubham\", 20, 85.5)\n",
    "print(\"Name:\", student_info[0])\n",
    "print(\"Age:\", student_info[1])\n",
    "print(\"Grade:\", student_info[2])"
   ]
  },
  {
   "cell_type": "markdown",
   "id": "ed62bb3b",
   "metadata": {},
   "source": [
    "## Question: You have two tuples, tuple1 = (1, 2, 3) and tuple2 = ('a', 'b', 'c'). Concatenate these two tuples to create a new tuple named combined_tuple and print it."
   ]
  },
  {
   "cell_type": "code",
   "execution_count": 22,
   "id": "ee02f485",
   "metadata": {},
   "outputs": [
    {
     "name": "stdout",
     "output_type": "stream",
     "text": [
      "Combined Tuple: (1, 2, 3, 'a', 'b', 'c')\n"
     ]
    }
   ],
   "source": [
    "tuple1 = (1, 2, 3)\n",
    "tuple2 = ('a', 'b', 'c')\n",
    "combined_tuple = tuple1 + tuple2\n",
    "print(\"Combined Tuple:\", combined_tuple)"
   ]
  },
  {
   "cell_type": "markdown",
   "id": "16862c19",
   "metadata": {},
   "source": [
    "### Question:Given a tuple data = (5, 10, 5, 15, 20, 5), find the length of the tuple and the number of times the value 5 appears in it. Print both results."
   ]
  },
  {
   "cell_type": "code",
   "execution_count": 24,
   "id": "f1e885ff",
   "metadata": {},
   "outputs": [
    {
     "name": "stdout",
     "output_type": "stream",
     "text": [
      "Length of the tuple: 6\n",
      "Count of 5: 3\n"
     ]
    }
   ],
   "source": [
    "data = (5, 10, 5, 15, 20, 5)\n",
    "length = len(data)\n",
    "count_of_5 = data.count(5)\n",
    "print(\"Length of the tuple:\", length)\n",
    "print(\"Count of 5:\", count_of_5)"
   ]
  },
  {
   "cell_type": "markdown",
   "id": "2e97f41c",
   "metadata": {},
   "source": [
    "## Question: Write a program that takes an element as input and checks if it exists in the tuple fruits = ('apple', 'banana', 'cherry'). Print \"Element found\" if it exists, and \"Element not found\" otherwise.\n",
    "\n"
   ]
  },
  {
   "cell_type": "code",
   "execution_count": 25,
   "id": "e62fc4a8",
   "metadata": {},
   "outputs": [
    {
     "name": "stdout",
     "output_type": "stream",
     "text": [
      "Enter an element to search: strawberry\n",
      "Element not found\n"
     ]
    }
   ],
   "source": [
    "fruits = ('apple', 'banana', 'cherry')\n",
    "element_to_check = input(\"Enter an element to search: \")\n",
    "if element_to_check in fruits:\n",
    "    print(\"Element found\")\n",
    "else:\n",
    "    print(\"Element not found\")"
   ]
  },
  {
   "cell_type": "raw",
   "id": "2242cb74",
   "metadata": {},
   "source": [
    "Question: You have a list my_list = [1, 2, 3, 4, 5]. Convert this list into a tuple named my_tuple and print the tuple."
   ]
  },
  {
   "cell_type": "code",
   "execution_count": 26,
   "id": "cfc06b1b",
   "metadata": {},
   "outputs": [
    {
     "name": "stdout",
     "output_type": "stream",
     "text": [
      "Tuple from list: (1, 2, 3, 4, 5)\n"
     ]
    }
   ],
   "source": [
    "my_list = [1, 2, 3, 4, 5]\n",
    "my_tuple = tuple(my_list)\n",
    "print(\"Tuple from list:\", my_tuple)"
   ]
  },
  {
   "cell_type": "raw",
   "id": "2d8b350c",
   "metadata": {},
   "source": [
    "Question: Given a tuple numbers = (10, 20, 30, 40, 50, 60), print the elements from index 1 to 4 (inclusive) using slicing."
   ]
  },
  {
   "cell_type": "code",
   "execution_count": 27,
   "id": "4515a957",
   "metadata": {},
   "outputs": [
    {
     "name": "stdout",
     "output_type": "stream",
     "text": [
      "Sliced tuple: (20, 30, 40, 50)\n"
     ]
    }
   ],
   "source": [
    "numbers = (10, 20, 30, 40, 50, 60)\n",
    "sliced_tuple = numbers[1:5]\n",
    "print(\"Sliced tuple:\", sliced_tuple)"
   ]
  },
  {
   "cell_type": "code",
   "execution_count": null,
   "id": "76fdb1cc",
   "metadata": {},
   "outputs": [],
   "source": []
  },
  {
   "cell_type": "markdown",
   "id": "d8047a32",
   "metadata": {},
   "source": [
    "# shallow copy and deep copy"
   ]
  },
  {
   "cell_type": "raw",
   "id": "06e28da4",
   "metadata": {},
   "source": [
    ">>> Shallow Copy: Creates a new copy but the contents are still linked to the original. changes in items does not affect shallow copy. Changes in the inner items of one, affect the other."
   ]
  },
  {
   "cell_type": "raw",
   "id": "33228c83",
   "metadata": {},
   "source": [
    ">>> Deep Copy: Creates a completely independent copies of all the contents. Changes in one do not affect the other."
   ]
  },
  {
   "cell_type": "code",
   "execution_count": 7,
   "id": "080378c3",
   "metadata": {},
   "outputs": [
    {
     "data": {
      "text/plain": [
       "[1, 2, [999, 44]]"
      ]
     },
     "execution_count": 7,
     "metadata": {},
     "output_type": "execute_result"
    }
   ],
   "source": [
    "list1=[1,2,[33,44]]\n",
    "copy_of_list1=list1.copy()\n",
    "list1[0]=99\n",
    "list1\n",
    "copy_of_list1\n",
    "list1[2][0]=999\n",
    "list1\n",
    "copy_of_list1"
   ]
  },
  {
   "cell_type": "code",
   "execution_count": 23,
   "id": "c99e0e71",
   "metadata": {
    "scrolled": true
   },
   "outputs": [
    {
     "name": "stdout",
     "output_type": "stream",
     "text": [
      "Original list: [1, 2, [3, 4]]\n",
      "Shallow copy: [1, 2, [3, 4]]\n",
      "\n",
      "After changing an element in the original:\n",
      "Original list: [10, 2, [3, 4]]\n",
      "Shallow copy: [1, 2, [3, 4]]\n",
      "\n",
      "After changing an element in the nested list in the original:\n",
      "Original list: [10, 2, [30, 4]]\n",
      "Shallow copy: [1, 2, [30, 4]]\n"
     ]
    }
   ],
   "source": [
    "original_list = [1, 2, [3, 4]]\n",
    "shallow_copy = list(original_list)  #istead of this we can write it as original_list.copy()\n",
    "\n",
    "print(\"Original list:\", original_list)\n",
    "print(\"Shallow copy:\", shallow_copy)\n",
    "\n",
    "\n",
    "# Let's change an element in the original list\n",
    "original_list[0] = 10\n",
    "\n",
    "\n",
    "print(\"\\nAfter changing an element in the original:\")\n",
    "print(\"Original list:\", original_list)\n",
    "print(\"Shallow copy:\", shallow_copy) # The change in the top level is NOT reflected\n",
    "\n",
    "\n",
    "# Now, let's change an element inside the nested list in the original\n",
    "original_list[2][0] = 30\n",
    "\n",
    "\n",
    "\n",
    "\n",
    "\n",
    "print(\"\\nAfter changing an element in the nested list in the original:\")\n",
    "print(\"Original list:\", original_list)\n",
    "print(\"Shallow copy:\", shallow_copy) # The change in the nested list IS reflected!"
   ]
  },
  {
   "cell_type": "code",
   "execution_count": null,
   "id": "0eed021b",
   "metadata": {},
   "outputs": [],
   "source": []
  },
  {
   "cell_type": "code",
   "execution_count": 24,
   "id": "5194cb4c",
   "metadata": {},
   "outputs": [
    {
     "name": "stdout",
     "output_type": "stream",
     "text": [
      "\n",
      "Original list: [1, 2, [3, 4]]\n",
      "Deep copy: [1, 2, [3, 4]]\n",
      "\n",
      "After changing an element in the original:\n",
      "Original list: [100, 2, [3, 4]]\n",
      "Deep copy: [1, 2, [3, 4]]\n",
      "\n",
      "After changing an element in the nested list in the original:\n",
      "Original list: [100, 2, [300, 4]]\n",
      "Deep copy: [1, 2, [3, 4]]\n"
     ]
    }
   ],
   "source": [
    "import copy\n",
    "\n",
    "original_list = [1, 2, [3, 4]]\n",
    "deep_copy = copy.deepcopy(original_list)\n",
    "\n",
    "\n",
    "\n",
    "print(\"\\nOriginal list:\", original_list)\n",
    "print(\"Deep copy:\", deep_copy)\n",
    "\n",
    "\n",
    "\n",
    "# Let's change an element in the original list\n",
    "original_list[0] = 100\n",
    "\n",
    "print(\"\\nAfter changing an element in the original:\")\n",
    "print(\"Original list:\", original_list)\n",
    "print(\"Deep copy:\", deep_copy) # No change in the deep copy\n",
    "\n",
    "\n",
    "\n",
    "# Now, let's change an element inside the nested list in the original\n",
    "original_list[2][0] = 300\n",
    "\n",
    "print(\"\\nAfter changing an element in the nested list in the original:\")\n",
    "print(\"Original list:\", original_list)\n",
    "print(\"Deep copy:\", deep_copy) # Still no change in the deep copy!"
   ]
  },
  {
   "cell_type": "code",
   "execution_count": null,
   "id": "65e78a64",
   "metadata": {},
   "outputs": [],
   "source": []
  },
  {
   "cell_type": "code",
   "execution_count": null,
   "id": "0731549f",
   "metadata": {},
   "outputs": [],
   "source": []
  }
 ],
 "metadata": {
  "kernelspec": {
   "display_name": "Python 3 (ipykernel)",
   "language": "python",
   "name": "python3"
  },
  "language_info": {
   "codemirror_mode": {
    "name": "ipython",
    "version": 3
   },
   "file_extension": ".py",
   "mimetype": "text/x-python",
   "name": "python",
   "nbconvert_exporter": "python",
   "pygments_lexer": "ipython3",
   "version": "3.9.12"
  }
 },
 "nbformat": 4,
 "nbformat_minor": 5
}
