{
 "cells": [
  {
   "cell_type": "markdown",
   "id": "64a120f3",
   "metadata": {},
   "source": [
    "# OS Module"
   ]
  },
  {
   "cell_type": "code",
   "execution_count": 17,
   "id": "935f3441",
   "metadata": {},
   "outputs": [],
   "source": [
    "os >> operating system\n"
   ]
  },
  {
   "cell_type": "code",
   "execution_count": 1,
   "id": "827d9235",
   "metadata": {},
   "outputs": [],
   "source": [
    "import os\n",
    "import shutil"
   ]
  },
  {
   "cell_type": "code",
   "execution_count": 2,
   "id": "f9f1e6c6",
   "metadata": {},
   "outputs": [
    {
     "data": {
      "text/plain": [
       "'C:\\\\Users\\\\VISHNU KALE\\\\Desktop\\\\python july mid\\\\python_20,21'"
      ]
     },
     "execution_count": 2,
     "metadata": {},
     "output_type": "execute_result"
    }
   ],
   "source": [
    "os.getcwd()"
   ]
  },
  {
   "cell_type": "markdown",
   "id": "7126b1b4",
   "metadata": {},
   "source": [
    "# OS Functions"
   ]
  },
  {
   "cell_type": "code",
   "execution_count": null,
   "id": "1a0548b4",
   "metadata": {},
   "outputs": [],
   "source": [
    "OS Module:\n",
    "    1. os.rename()  # To rename or move files \n",
    "    2. os.remove()  # To remove the file\n",
    "    3. os.path.exists() # To check file/ folder exists or nor\n",
    "    4. os.mkdir()     # to create folder\n",
    "    5. os.makedirs()    # to create multiple folders(Tree structure)\n",
    "    6. os.rmdir()    # to remove empty directory\n",
    "    7. os.listdir()  # list of files\n",
    "    8. os.getcwd()   # to get current working directory\n",
    "  \n",
    "    \n",
    "Shutil Module:\n",
    "    1. shutil.copy() # Copy files from one location to another\n",
    "    2. shutil.rmtree() # to remove empty or non-empty directory\n",
    "\n",
    "    \n",
    "path = r'c:\\\\'"
   ]
  },
  {
   "cell_type": "code",
   "execution_count": 3,
   "id": "ef5c70ba",
   "metadata": {},
   "outputs": [],
   "source": [
    "import os"
   ]
  },
  {
   "cell_type": "markdown",
   "id": "bcc9506c",
   "metadata": {},
   "source": [
    "## 1. Rename / Move"
   ]
  },
  {
   "cell_type": "code",
   "execution_count": null,
   "id": "4b862f9d",
   "metadata": {},
   "outputs": [],
   "source": [
    "syntax:\n",
    "    os.rename(source_file_path, destination_file_path)\n",
    "\n",
    ">> rename function is used to rename the file or to move the \n",
    "file from one location to another location"
   ]
  },
  {
   "cell_type": "code",
   "execution_count": 3,
   "id": "ed4ef747",
   "metadata": {},
   "outputs": [],
   "source": [
    "with open('machine.txt','w')as f:\n",
    "    f.write('We are in Rename Function')"
   ]
  },
  {
   "cell_type": "code",
   "execution_count": 4,
   "id": "654e4a14",
   "metadata": {},
   "outputs": [],
   "source": [
    "os.rename('machine.txt', 'machine_learning.txt')"
   ]
  },
  {
   "cell_type": "code",
   "execution_count": 5,
   "id": "a7b99bc8",
   "metadata": {},
   "outputs": [],
   "source": [
    "source_file_path = r'C:\\Users\\VISHNU KALE\\Desktop\\python july mid\\python_20,21\\C.txt'\n",
    "destination_file_path =r'C:\\Users\\VISHNU KALE\\Desktop\\python july mid\\python_20,21\\XYZ.txt'\n",
    "os.rename(source_file_path, destination_file_path)"
   ]
  },
  {
   "cell_type": "code",
   "execution_count": 5,
   "id": "281cbce7",
   "metadata": {},
   "outputs": [],
   "source": [
    "source_file_path = r'path'\n",
    "destination_file_path =r'path'\n",
    "os.rename(source_file_path,destination_file_path)"
   ]
  },
  {
   "cell_type": "markdown",
   "id": "a61382f0",
   "metadata": {},
   "source": [
    "### 2. Remove Files"
   ]
  },
  {
   "cell_type": "code",
   "execution_count": null,
   "id": "e551e0ff",
   "metadata": {},
   "outputs": [],
   "source": [
    "os.remove(file_path)"
   ]
  },
  {
   "cell_type": "code",
   "execution_count": 9,
   "id": "b51f7c8a",
   "metadata": {},
   "outputs": [],
   "source": [
    "with open('Data.txt','w')as f:\n",
    "    f.write('We are in Remove Function')"
   ]
  },
  {
   "cell_type": "code",
   "execution_count": 10,
   "id": "22d44a7b",
   "metadata": {},
   "outputs": [],
   "source": [
    "os.remove('Data.txt')"
   ]
  },
  {
   "cell_type": "code",
   "execution_count": 10,
   "id": "e1811fca",
   "metadata": {},
   "outputs": [],
   "source": [
    "file_path = r'path'\n",
    "os.remove(file_path)"
   ]
  },
  {
   "cell_type": "markdown",
   "id": "b2a3a14f",
   "metadata": {},
   "source": [
    "### 3. Check file exist or not"
   ]
  },
  {
   "cell_type": "code",
   "execution_count": null,
   "id": "a77077f4",
   "metadata": {},
   "outputs": [],
   "source": [
    "os.path.exists(folder_path)\n",
    "True >> If file exists\n",
    "False >> If file does not exists"
   ]
  },
  {
   "cell_type": "code",
   "execution_count": 11,
   "id": "50d6c3b7",
   "metadata": {},
   "outputs": [
    {
     "data": {
      "text/plain": [
       "False"
      ]
     },
     "execution_count": 11,
     "metadata": {},
     "output_type": "execute_result"
    }
   ],
   "source": [
    "os.path.exists('Data.txt')"
   ]
  },
  {
   "cell_type": "code",
   "execution_count": 12,
   "id": "7040969b",
   "metadata": {},
   "outputs": [
    {
     "data": {
      "text/plain": [
       "True"
      ]
     },
     "execution_count": 12,
     "metadata": {},
     "output_type": "execute_result"
    }
   ],
   "source": [
    "os.path.exists('decision_tree_model.pkl')"
   ]
  },
  {
   "cell_type": "code",
   "execution_count": 13,
   "id": "29ddf874",
   "metadata": {},
   "outputs": [
    {
     "name": "stdout",
     "output_type": "stream",
     "text": [
      "Specified file is not found\n"
     ]
    }
   ],
   "source": [
    "if os.path.exists('Data.txt'):\n",
    "    os.remove('Data.txt')\n",
    "    print('Specified file Removed')\n",
    "else:\n",
    "    print('Specified file is not found')"
   ]
  },
  {
   "cell_type": "markdown",
   "id": "00474b1f",
   "metadata": {},
   "source": [
    "### 4. Create folder"
   ]
  },
  {
   "cell_type": "code",
   "execution_count": null,
   "id": "fef2efc6",
   "metadata": {},
   "outputs": [],
   "source": [
    "Create a single directory.\n",
    "Fails if the directory already exists\n",
    "\n",
    "os.mkdir(folder_path)"
   ]
  },
  {
   "cell_type": "code",
   "execution_count": 14,
   "id": "d1576418",
   "metadata": {},
   "outputs": [],
   "source": [
    "os.mkdir('deep_learning')"
   ]
  },
  {
   "cell_type": "code",
   "execution_count": 15,
   "id": "659bf3d4",
   "metadata": {},
   "outputs": [],
   "source": [
    "path = r''\n",
    "os.mkdir(path)"
   ]
  },
  {
   "cell_type": "code",
   "execution_count": null,
   "id": "94491282",
   "metadata": {},
   "outputs": [],
   "source": [
    "f_path = 'Images'\n",
    "if not os.path.exists(f_path):\n",
    "    os.mkdir(f_path)\n",
    "    print('Folder Created')\n",
    "else:\n",
    "    print('Folder already exists')"
   ]
  },
  {
   "cell_type": "markdown",
   "id": "9b36bfb3",
   "metadata": {},
   "source": [
    "### 5. os.makedirs()"
   ]
  },
  {
   "cell_type": "code",
   "execution_count": 10,
   "id": "a2ea7813",
   "metadata": {},
   "outputs": [],
   "source": [
    "#Create nested directories recursively.\n",
    "\n",
    "folder_path = 'besant\\Testing\\ml\\python\\os_module'\n",
    "\n",
    "os.makedirs(folder_path)"
   ]
  },
  {
   "cell_type": "code",
   "execution_count": 19,
   "id": "af520235",
   "metadata": {},
   "outputs": [],
   "source": [
    "folder_path = 'besant\\Testing\\ml\\python\\os_module'\n",
    "os.makedirs(folder_path)"
   ]
  },
  {
   "cell_type": "markdown",
   "id": "70559065",
   "metadata": {},
   "source": [
    "### 6. delete directory"
   ]
  },
  {
   "cell_type": "code",
   "execution_count": null,
   "id": "0aa2740e",
   "metadata": {},
   "outputs": [],
   "source": [
    "Remove an empty directory.\n",
    "os.rmdir(folder_path) "
   ]
  },
  {
   "cell_type": "code",
   "execution_count": 20,
   "id": "1968bb9a",
   "metadata": {},
   "outputs": [],
   "source": [
    "os.rmdir('Images')"
   ]
  },
  {
   "cell_type": "markdown",
   "id": "5eb6295f",
   "metadata": {},
   "source": [
    "### shutil.rmtree"
   ]
  },
  {
   "cell_type": "code",
   "execution_count": 22,
   "id": "b750e8e5",
   "metadata": {},
   "outputs": [],
   "source": [
    "import shutil"
   ]
  },
  {
   "cell_type": "code",
   "execution_count": null,
   "id": "56458fa5",
   "metadata": {},
   "outputs": [],
   "source": [
    "to delete non-empty directories \n",
    "\n",
    "shutil.rmtree(folder_path)\n"
   ]
  },
  {
   "cell_type": "code",
   "execution_count": 24,
   "id": "5ccc6a64",
   "metadata": {},
   "outputs": [
    {
     "name": "stdout",
     "output_type": "stream",
     "text": [
      "Folder not Found\n"
     ]
    }
   ],
   "source": [
    "folder_path = 'Test'   #this is non empty folder\n",
    " \n",
    "if os.path.exists(folder_path):\n",
    "    shutil.rmtree(folder_path)\n",
    "    print('Folder Deleted')\n",
    "else:\n",
    "    print('Folder not Found')"
   ]
  },
  {
   "cell_type": "markdown",
   "id": "bce76185",
   "metadata": {},
   "source": [
    "### 7. Check file / folder in directory"
   ]
  },
  {
   "cell_type": "code",
   "execution_count": null,
   "id": "78ae4838",
   "metadata": {},
   "outputs": [],
   "source": [
    "os.listdir(folder_path)"
   ]
  },
  {
   "cell_type": "code",
   "execution_count": 25,
   "id": "ce607b90",
   "metadata": {},
   "outputs": [
    {
     "data": {
      "text/plain": [
       "['.ipynb_checkpoints',\n",
       " '1207_385_bank_statement11.pdf',\n",
       " 'cv005_29443.txt',\n",
       " 'cv007_4968.txt',\n",
       " 'cv008_29435.txt',\n",
       " 'cv009_29592.txt',\n",
       " 'cv010_29198.txt',\n",
       " 'cv011_12166.txt',\n",
       " 'File_Handling.ipynb',\n",
       " 'machine_learning.txt',\n",
       " 'sample.txt',\n",
       " 'synchronous machine (1).csv',\n",
       " 'synchronous machine.csv']"
      ]
     },
     "execution_count": 25,
     "metadata": {},
     "output_type": "execute_result"
    }
   ],
   "source": [
    "folder_path = 'MovieReviews'\n",
    "os.listdir(folder_path)"
   ]
  },
  {
   "cell_type": "code",
   "execution_count": 12,
   "id": "a25017bb",
   "metadata": {},
   "outputs": [
    {
     "data": {
      "text/plain": [
       "['1207_385_bank_statement11.pdf', 'cv009_29592.txt']"
      ]
     },
     "execution_count": 12,
     "metadata": {},
     "output_type": "execute_result"
    }
   ],
   "source": [
    "folder_path = r'testing_os'\n",
    "os.listdir(folder_path)"
   ]
  },
  {
   "cell_type": "markdown",
   "id": "f57b2877",
   "metadata": {},
   "source": [
    "### 8.current working directory"
   ]
  },
  {
   "cell_type": "code",
   "execution_count": null,
   "id": "e1a9c67b",
   "metadata": {},
   "outputs": [],
   "source": [
    "os.getcwd()"
   ]
  },
  {
   "cell_type": "code",
   "execution_count": null,
   "id": "b223517f",
   "metadata": {},
   "outputs": [],
   "source": [
    "os.getcwd()"
   ]
  },
  {
   "cell_type": "code",
   "execution_count": null,
   "id": "7d72288b",
   "metadata": {},
   "outputs": [],
   "source": []
  },
  {
   "cell_type": "code",
   "execution_count": null,
   "id": "1e3fca3f",
   "metadata": {},
   "outputs": [],
   "source": []
  },
  {
   "cell_type": "code",
   "execution_count": null,
   "id": "9a6e4929",
   "metadata": {},
   "outputs": [],
   "source": []
  }
 ],
 "metadata": {
  "kernelspec": {
   "display_name": "Python 3 (ipykernel)",
   "language": "python",
   "name": "python3"
  },
  "language_info": {
   "codemirror_mode": {
    "name": "ipython",
    "version": 3
   },
   "file_extension": ".py",
   "mimetype": "text/x-python",
   "name": "python",
   "nbconvert_exporter": "python",
   "pygments_lexer": "ipython3",
   "version": "3.9.12"
  }
 },
 "nbformat": 4,
 "nbformat_minor": 5
}
