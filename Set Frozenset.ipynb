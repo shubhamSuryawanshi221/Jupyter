{
 "cells": [
  {
   "cell_type": "markdown",
   "id": "226d8e09",
   "metadata": {},
   "source": [
    "# set"
   ]
  },
  {
   "cell_type": "raw",
   "id": "fdf9c121",
   "metadata": {},
   "source": [
    ">> A set is an unordered collection of unique elements. Sets are defined by enclosing a sequence of items in curly braces {}, with items separated by commas.\n",
    " \n",
    ">> This means that a set cannot contain duplicate values, and the order 1  in which elements are stored is not guaranteed or maintained.\n"
   ]
  },
  {
   "cell_type": "raw",
   "id": "a3bb4258",
   "metadata": {},
   "source": [
    "Properties of Sets:\n",
    "    \n",
    "1.Unordered: Elements in a set have no specific order.\n",
    "2.Unique Elements: Sets automatically remove duplicate values.\n",
    "3.Mutable: Sets are changeable. You can add and remove elements from a set after it's created.\n",
    "4.Heterogeneous Items: A single set can contain items of different immutable data types (e.g., integers, floats, strings, tuples).\n",
    "However, mutable objects like lists cannot be elements of a set.\n",
    "5.Not Sequence Type: Unlike lists and tuples, sets are not sequences. This means you cannot access elements using indices or slicing."
   ]
  },
  {
   "cell_type": "markdown",
   "id": "148760d2",
   "metadata": {},
   "source": [
    "# How to Create a Set:"
   ]
  },
  {
   "cell_type": "code",
   "execution_count": 3,
   "id": "c821b61f",
   "metadata": {},
   "outputs": [
    {
     "name": "stdout",
     "output_type": "stream",
     "text": [
      "<class 'set'>\n",
      "<class 'set'>\n"
     ]
    },
    {
     "ename": "TypeError",
     "evalue": "unhashable type: 'list'",
     "output_type": "error",
     "traceback": [
      "\u001b[1;31m---------------------------------------------------------------------------\u001b[0m",
      "\u001b[1;31mTypeError\u001b[0m                                 Traceback (most recent call last)",
      "Input \u001b[1;32mIn [3]\u001b[0m, in \u001b[0;36m<cell line: 5>\u001b[1;34m()\u001b[0m\n\u001b[0;32m      3\u001b[0m \u001b[38;5;28mprint\u001b[39m(\u001b[38;5;28mtype\u001b[39m(set1))\n\u001b[0;32m      4\u001b[0m \u001b[38;5;28mprint\u001b[39m(\u001b[38;5;28mtype\u001b[39m(set2))\n\u001b[1;32m----> 5\u001b[0m set3\u001b[38;5;241m=\u001b[39m{[\u001b[38;5;241m1\u001b[39m,\u001b[38;5;241m3\u001b[39m,\u001b[38;5;241m4\u001b[39m],[\u001b[38;5;241m3\u001b[39m,\u001b[38;5;241m5\u001b[39m,\u001b[38;5;241m6\u001b[39m]}\n\u001b[0;32m      6\u001b[0m set3\n",
      "\u001b[1;31mTypeError\u001b[0m: unhashable type: 'list'"
     ]
    }
   ],
   "source": [
    "set1={1,2,3,4,5}\n",
    "set2={\"we\",\"are\",\"learning\",\"python\"}\n",
    "print(type(set1))\n",
    "print(type(set2))\n",
    "set3={[1,3,4],[3,5,6]}\n",
    "set3"
   ]
  },
  {
   "cell_type": "code",
   "execution_count": 1,
   "id": "832a6cf8",
   "metadata": {},
   "outputs": [
    {
     "data": {
      "text/plain": [
       "set"
      ]
     },
     "execution_count": 1,
     "metadata": {},
     "output_type": "execute_result"
    }
   ],
   "source": [
    "var1={78,89,78,89,90,100,70}\n",
    "type(var1)"
   ]
  },
  {
   "cell_type": "code",
   "execution_count": 2,
   "id": "b807ac0a",
   "metadata": {},
   "outputs": [
    {
     "name": "stdout",
     "output_type": "stream",
     "text": [
      "{1, 2, 3}\n"
     ]
    }
   ],
   "source": [
    "my_set = {1, 2, 3}\n",
    "print(my_set)"
   ]
  },
  {
   "cell_type": "code",
   "execution_count": 3,
   "id": "f24dd66f",
   "metadata": {
    "scrolled": true
   },
   "outputs": [
    {
     "name": "stdout",
     "output_type": "stream",
     "text": [
      "{1, 2, 3}\n"
     ]
    }
   ],
   "source": [
    "# Sets automatically remove duplicates\n",
    "duplicate_set = {1, 2, 2, 3, 3, 3}\n",
    "print(duplicate_set)"
   ]
  },
  {
   "cell_type": "code",
   "execution_count": 2,
   "id": "44ec096a",
   "metadata": {},
   "outputs": [
    {
     "name": "stdout",
     "output_type": "stream",
     "text": [
      "{1, 3.14, 'hello'}\n"
     ]
    }
   ],
   "source": [
    "# Set with mixed data types\n",
    "mixed_set = {1, \"hello\", 3.14, True}\n",
    "print(mixed_set)"
   ]
  },
  {
   "cell_type": "code",
   "execution_count": 2,
   "id": "a6b37e77",
   "metadata": {},
   "outputs": [
    {
     "name": "stdout",
     "output_type": "stream",
     "text": [
      "{1, 2, 3, 4, 5}\n",
      "<class 'set'>\n"
     ]
    }
   ],
   "source": [
    "# From a list\n",
    "my_list = [1, 2, 2, 3, 4, 4, 5]\n",
    "set_from_list = set(my_list)\n",
    "print(set_from_list)\n",
    "print(type(set_from_list))"
   ]
  },
  {
   "cell_type": "code",
   "execution_count": 5,
   "id": "6536e6d3",
   "metadata": {},
   "outputs": [
    {
     "name": "stdout",
     "output_type": "stream",
     "text": [
      "{8, 5, 6, 7}\n"
     ]
    }
   ],
   "source": [
    "# From a tuple\n",
    "my_tuple = (5, 6, 6, 7, 8, 8, 8)\n",
    "set_from_tuple = set(my_tuple)\n",
    "print(set_from_tuple)"
   ]
  },
  {
   "cell_type": "code",
   "execution_count": 6,
   "id": "112b8e9f",
   "metadata": {},
   "outputs": [
    {
     "name": "stdout",
     "output_type": "stream",
     "text": [
      "{'o', 'l', 'e', 'h'}\n"
     ]
    }
   ],
   "source": [
    "# From a string\n",
    "my_string = \"hello\"\n",
    "set_from_string = set(my_string)\n",
    "print(set_from_string)"
   ]
  },
  {
   "cell_type": "code",
   "execution_count": null,
   "id": "13c08f88",
   "metadata": {},
   "outputs": [],
   "source": []
  },
  {
   "cell_type": "code",
   "execution_count": null,
   "id": "603ea184",
   "metadata": {},
   "outputs": [],
   "source": []
  },
  {
   "cell_type": "raw",
   "id": "a9ad90ab",
   "metadata": {},
   "source": [
    "# type casting in set: \n",
    "As seen above with the set() constructor, you can perform type casting to create a set from other iterable types like lists string and tuples."
   ]
  },
  {
   "cell_type": "markdown",
   "id": "85885c0a",
   "metadata": {},
   "source": [
    "# How to Access Items from a Set:"
   ]
  },
  {
   "cell_type": "raw",
   "id": "309efa25",
   "metadata": {},
   "source": [
    ">> Because sets are unordered, you cannot access items using indices like you do with lists or tuples. "
   ]
  },
  {
   "cell_type": "code",
   "execution_count": 7,
   "id": "c52c832b",
   "metadata": {},
   "outputs": [
    {
     "ename": "TypeError",
     "evalue": "'set' object is not subscriptable",
     "output_type": "error",
     "traceback": [
      "\u001b[1;31m---------------------------------------------------------------------------\u001b[0m",
      "\u001b[1;31mTypeError\u001b[0m                                 Traceback (most recent call last)",
      "Input \u001b[1;32mIn [7]\u001b[0m, in \u001b[0;36m<cell line: 2>\u001b[1;34m()\u001b[0m\n\u001b[0;32m      1\u001b[0m set1\u001b[38;5;241m=\u001b[39m{\u001b[38;5;241m1\u001b[39m, \u001b[38;5;241m2\u001b[39m, \u001b[38;5;241m3\u001b[39m, \u001b[38;5;241m4\u001b[39m, \u001b[38;5;241m5\u001b[39m}\n\u001b[1;32m----> 2\u001b[0m \u001b[43mset1\u001b[49m\u001b[43m[\u001b[49m\u001b[38;5;241;43m1\u001b[39;49m\u001b[43m]\u001b[49m\n",
      "\u001b[1;31mTypeError\u001b[0m: 'set' object is not subscriptable"
     ]
    }
   ],
   "source": [
    "set1={1, 2, 3, 4, 5}\n",
    "set1[1]"
   ]
  },
  {
   "cell_type": "code",
   "execution_count": null,
   "id": "c2a42714",
   "metadata": {},
   "outputs": [],
   "source": [
    "we can access or work with the elements of set by:\n",
    "    1.Iteration using for loop\n",
    "    2.checking for membership using in operator  #membership operators>>>>in, not in"
   ]
  },
  {
   "cell_type": "code",
   "execution_count": null,
   "id": "d4703cce",
   "metadata": {},
   "outputs": [],
   "source": []
  },
  {
   "cell_type": "code",
   "execution_count": 10,
   "id": "b8de22ea",
   "metadata": {},
   "outputs": [
    {
     "name": "stdout",
     "output_type": "stream",
     "text": [
      "apple\n",
      "cherry\n",
      "banana\n"
     ]
    }
   ],
   "source": [
    "for fruits in my_set:\n",
    "    print(fruits)"
   ]
  },
  {
   "cell_type": "code",
   "execution_count": 8,
   "id": "8312e5bb",
   "metadata": {},
   "outputs": [
    {
     "name": "stdout",
     "output_type": "stream",
     "text": [
      "Banana is in the set\n"
     ]
    }
   ],
   "source": [
    "my_set = {\"apple\", \"banana\", \"cherry\"}\n",
    "if \"banana\" in my_set:\n",
    "    print(\"Banana is in the set\")"
   ]
  },
  {
   "cell_type": "code",
   "execution_count": 15,
   "id": "dec8634a",
   "metadata": {},
   "outputs": [
    {
     "name": "stdout",
     "output_type": "stream",
     "text": [
      "Grape is not in the set\n"
     ]
    }
   ],
   "source": [
    "if \"grape\" not in my_set:\n",
    "    print(\"Grape is not in the set\")"
   ]
  },
  {
   "cell_type": "code",
   "execution_count": null,
   "id": "26e92345",
   "metadata": {},
   "outputs": [],
   "source": [
    "#take any list, convert that into set and then use membership operators to access the elements from that set."
   ]
  },
  {
   "cell_type": "code",
   "execution_count": 1,
   "id": "db71364e",
   "metadata": {},
   "outputs": [
    {
     "name": "stdout",
     "output_type": "stream",
     "text": [
      "{'vikas', 'girish', 'nalini', 'shubham'}\n",
      "vishnu in not in the set\n"
     ]
    }
   ],
   "source": [
    "list1=[\"shubham\",\"nalini\",\"vikas\",\"girish\"]\n",
    "type(list1)\n",
    "set1=set(list1)\n",
    "type(set1)\n",
    "print(set1)\n",
    "if \"vishnu\" not in set1:\n",
    "    print(\"vishnu in not in the set\")"
   ]
  },
  {
   "cell_type": "markdown",
   "id": "56beea92",
   "metadata": {},
   "source": [
    "# List of Set Functions "
   ]
  },
  {
   "cell_type": "markdown",
   "id": "5750fe8f",
   "metadata": {},
   "source": [
    "### 1.add(element)"
   ]
  },
  {
   "cell_type": "raw",
   "id": "2c2cb421",
   "metadata": {},
   "source": [
    "Adds a single element to the set. If the element is already present, it does nothing."
   ]
  },
  {
   "cell_type": "code",
   "execution_count": 19,
   "id": "1f5c0abc",
   "metadata": {},
   "outputs": [
    {
     "name": "stdout",
     "output_type": "stream",
     "text": [
      "{1, 2, 3, 4}\n"
     ]
    }
   ],
   "source": [
    "my_set = {1, 2, 3}\n",
    "my_set.add(4)\n",
    "print(my_set)"
   ]
  },
  {
   "cell_type": "code",
   "execution_count": 20,
   "id": "f3904616",
   "metadata": {},
   "outputs": [
    {
     "name": "stdout",
     "output_type": "stream",
     "text": [
      "{1, 2, 3, 4}\n"
     ]
    }
   ],
   "source": [
    "my_set.add(2)  # Adding a duplicate has no effect\n",
    "print(my_set)"
   ]
  },
  {
   "cell_type": "markdown",
   "id": "4eeca9df",
   "metadata": {},
   "source": [
    "### 2.update(iterable)"
   ]
  },
  {
   "cell_type": "markdown",
   "id": "184c9280",
   "metadata": {},
   "source": [
    ">> Adds multiple elements to the set from an iterables (like a list, tuple, or another set). \n",
    ">> Duplicate elements are automatically ignored."
   ]
  },
  {
   "cell_type": "code",
   "execution_count": null,
   "id": "e7659098",
   "metadata": {},
   "outputs": [],
   "source": []
  },
  {
   "cell_type": "code",
   "execution_count": 3,
   "id": "902ce574",
   "metadata": {},
   "outputs": [
    {
     "name": "stdout",
     "output_type": "stream",
     "text": [
      "{1, 2, 3, 4, 5}\n"
     ]
    }
   ],
   "source": [
    "my_set = {1, 2, 3}\n",
    "my_set.update([3, 4, 5])\n",
    "print(my_set)"
   ]
  },
  {
   "cell_type": "code",
   "execution_count": 19,
   "id": "69775b54",
   "metadata": {},
   "outputs": [
    {
     "name": "stdout",
     "output_type": "stream",
     "text": [
      "{1, 2, 3, 4, 5, 6}\n"
     ]
    }
   ],
   "source": [
    "my_set.update((5, 6))\n",
    "print(my_set)"
   ]
  },
  {
   "cell_type": "markdown",
   "id": "1cf652a2",
   "metadata": {},
   "source": [
    "### 3  .remove(element)"
   ]
  },
  {
   "cell_type": "markdown",
   "id": "0f384261",
   "metadata": {},
   "source": [
    ">> Removes a specified element from the set. If the element is not found, it raises a KeyError."
   ]
  },
  {
   "cell_type": "code",
   "execution_count": 4,
   "id": "1a0cef57",
   "metadata": {},
   "outputs": [
    {
     "name": "stdout",
     "output_type": "stream",
     "text": [
      "{1, 3}\n"
     ]
    }
   ],
   "source": [
    "my_set = {1, 2, 3}\n",
    "my_set.remove(2)\n",
    "print(my_set)"
   ]
  },
  {
   "cell_type": "code",
   "execution_count": 21,
   "id": "6b818728",
   "metadata": {},
   "outputs": [
    {
     "ename": "KeyError",
     "evalue": "4",
     "output_type": "error",
     "traceback": [
      "\u001b[1;31m---------------------------------------------------------------------------\u001b[0m",
      "\u001b[1;31mKeyError\u001b[0m                                  Traceback (most recent call last)",
      "Input \u001b[1;32mIn [21]\u001b[0m, in \u001b[0;36m<cell line: 1>\u001b[1;34m()\u001b[0m\n\u001b[1;32m----> 1\u001b[0m \u001b[43mmy_set\u001b[49m\u001b[38;5;241;43m.\u001b[39;49m\u001b[43mremove\u001b[49m\u001b[43m(\u001b[49m\u001b[38;5;241;43m4\u001b[39;49m\u001b[43m)\u001b[49m\n",
      "\u001b[1;31mKeyError\u001b[0m: 4"
     ]
    }
   ],
   "source": [
    "my_set.remove(4)"
   ]
  },
  {
   "cell_type": "markdown",
   "id": "973678cb",
   "metadata": {},
   "source": [
    "### 4  .discard(element)"
   ]
  },
  {
   "cell_type": "raw",
   "id": "beaa9916",
   "metadata": {},
   "source": [
    ">> Removes a specified element from the set if it is present. If the element is not found, it does nothing (no error is raised)."
   ]
  },
  {
   "cell_type": "code",
   "execution_count": 23,
   "id": "5e180bf3",
   "metadata": {},
   "outputs": [
    {
     "name": "stdout",
     "output_type": "stream",
     "text": [
      "{1, 3}\n"
     ]
    }
   ],
   "source": [
    "my_set = {1, 2, 3}\n",
    "my_set.discard(2)\n",
    "print(my_set)"
   ]
  },
  {
   "cell_type": "code",
   "execution_count": 5,
   "id": "126bc986",
   "metadata": {},
   "outputs": [
    {
     "name": "stdout",
     "output_type": "stream",
     "text": [
      "{1, 3}\n"
     ]
    }
   ],
   "source": [
    "my_set.discard(4)  # Does nothing\n",
    "print(my_set)"
   ]
  },
  {
   "cell_type": "markdown",
   "id": "02c057e0",
   "metadata": {},
   "source": [
    "### 5  .pop()"
   ]
  },
  {
   "cell_type": "markdown",
   "id": "f61e8b61",
   "metadata": {},
   "source": [
    ">> Removes and returns an arbitrary element from the set. \n",
    ">> Since sets are unordered, you don't know which element will be removed.\n",
    ">> If the set is empty, it raises a KeyError"
   ]
  },
  {
   "cell_type": "code",
   "execution_count": 25,
   "id": "55738d83",
   "metadata": {},
   "outputs": [
    {
     "name": "stdout",
     "output_type": "stream",
     "text": [
      "1\n",
      "{2, 3}\n"
     ]
    }
   ],
   "source": [
    "my_set = {1, 2, 3} \n",
    "removed_element = my_set.pop()\n",
    "print(removed_element)\n",
    "print(my_set)"
   ]
  },
  {
   "cell_type": "code",
   "execution_count": 29,
   "id": "8bb1a80f",
   "metadata": {},
   "outputs": [
    {
     "name": "stdout",
     "output_type": "stream",
     "text": [
      "2\n",
      "{3, 6, 24, 9, 60}\n"
     ]
    }
   ],
   "source": [
    "my_set1 = {2, 3, 6, 9, 60,24}\n",
    "rem=my_set1.pop()\n",
    "print(rem)\n",
    "print(my_set1)"
   ]
  },
  {
   "cell_type": "markdown",
   "id": "663cbaf6",
   "metadata": {},
   "source": [
    "### 6  .clear()"
   ]
  },
  {
   "cell_type": "markdown",
   "id": "4598b583",
   "metadata": {},
   "source": [
    ">> Removes all elements from the set, making it an empty set."
   ]
  },
  {
   "cell_type": "code",
   "execution_count": 27,
   "id": "35f2c5cc",
   "metadata": {},
   "outputs": [
    {
     "name": "stdout",
     "output_type": "stream",
     "text": [
      "set()\n"
     ]
    }
   ],
   "source": [
    "my_set = {1, 2, 3}\n",
    "my_set.clear()\n",
    "print(my_set)"
   ]
  },
  {
   "cell_type": "markdown",
   "id": "ae3c901d",
   "metadata": {},
   "source": [
    "### 7 .union(other_set)"
   ]
  },
  {
   "cell_type": "raw",
   "id": "46f14eb5",
   "metadata": {},
   "source": [
    ">> Returns a new set containing all elements from the original set and all the specified other sets."
   ]
  },
  {
   "cell_type": "code",
   "execution_count": 30,
   "id": "743c6966",
   "metadata": {},
   "outputs": [
    {
     "name": "stdout",
     "output_type": "stream",
     "text": [
      "{1, 2, 3, 4, 5}\n"
     ]
    }
   ],
   "source": [
    "set1 = {1, 2, 3}\n",
    "set2 = {3, 4, 5}\n",
    "union_set = set1.union(set2)\n",
    "print(union_set)"
   ]
  },
  {
   "cell_type": "markdown",
   "id": "74b64443",
   "metadata": {},
   "source": [
    "### 8  .intersection(other_set, ...)"
   ]
  },
  {
   "cell_type": "markdown",
   "id": "e530e64c",
   "metadata": {},
   "source": [
    ">> Returns a new set containing only the elements that are common to the original set and all the specified other sets."
   ]
  },
  {
   "cell_type": "code",
   "execution_count": 31,
   "id": "ee9dd0cf",
   "metadata": {},
   "outputs": [
    {
     "name": "stdout",
     "output_type": "stream",
     "text": [
      "{3}\n"
     ]
    }
   ],
   "source": [
    "set1 = {1, 2, 3}\n",
    "set2 = {3, 4, 5}\n",
    "\n",
    "\n",
    "intersection_set = set1.intersection(set2)\n",
    "print(intersection_set)"
   ]
  },
  {
   "cell_type": "code",
   "execution_count": 38,
   "id": "8795517b",
   "metadata": {},
   "outputs": [
    {
     "name": "stdout",
     "output_type": "stream",
     "text": [
      "{3, 4, 5}\n"
     ]
    }
   ],
   "source": [
    "set1 = {1, 2, 3, 4, 5,7,8}\n",
    "set2 = {3, 4, 5, 10,11}\n",
    "set3 = {10, 11, 3, 4, 5}\n",
    "\n",
    "inter=set1.intersection(set2,set3)\n",
    "print(inter)"
   ]
  },
  {
   "cell_type": "markdown",
   "id": "f7bd34cf",
   "metadata": {},
   "source": [
    "### 9 .difference(other_set, ...)"
   ]
  },
  {
   "cell_type": "markdown",
   "id": "00cbd60f",
   "metadata": {},
   "source": [
    ">> Returns a new set containing elements in the original set that are not in any of the specified other sets."
   ]
  },
  {
   "cell_type": "code",
   "execution_count": 30,
   "id": "907da068",
   "metadata": {},
   "outputs": [
    {
     "name": "stdout",
     "output_type": "stream",
     "text": [
      "{1, 2}\n"
     ]
    }
   ],
   "source": [
    "set1 = {1, 2, 3}\n",
    "set2 = {3, 4, 5}\n",
    "difference_set = set1.difference(set2)\n",
    "print(difference_set)"
   ]
  },
  {
   "cell_type": "markdown",
   "id": "f5de19a0",
   "metadata": {},
   "source": [
    "### 10 .symmetric_difference(other_set)"
   ]
  },
  {
   "cell_type": "markdown",
   "id": "f346022c",
   "metadata": {},
   "source": [
    ">> Returns a new set containing elements that are in either the original set or the other set, but not in both."
   ]
  },
  {
   "cell_type": "code",
   "execution_count": 32,
   "id": "5c150532",
   "metadata": {},
   "outputs": [
    {
     "name": "stdout",
     "output_type": "stream",
     "text": [
      "{1, 2, 4, 5}\n"
     ]
    }
   ],
   "source": [
    "set1 = {1, 2, 3}\n",
    "set2 = {3, 4, 5}\n",
    "symmetric_difference_set = set1.symmetric_difference(set2)\n",
    "print(symmetric_difference_set)"
   ]
  },
  {
   "cell_type": "markdown",
   "id": "f5123e72",
   "metadata": {},
   "source": [
    "### 11  .isdisjoint(other_set)"
   ]
  },
  {
   "cell_type": "raw",
   "id": "1f44e1dc",
   "metadata": {},
   "source": [
    ">> Returns True if the set has no elements in common with the other set, and False otherwise\n",
    "\n",
    ">> returns true or false"
   ]
  },
  {
   "cell_type": "code",
   "execution_count": 33,
   "id": "e501075d",
   "metadata": {},
   "outputs": [
    {
     "name": "stdout",
     "output_type": "stream",
     "text": [
      "True\n"
     ]
    }
   ],
   "source": [
    "set1 = {1, 2}\n",
    "set2 = {3, 4}\n",
    "is_disjoint = set1.isdisjoint(set2)\n",
    "print(is_disjoint)"
   ]
  },
  {
   "cell_type": "code",
   "execution_count": 33,
   "id": "1deb0a2a",
   "metadata": {},
   "outputs": [
    {
     "name": "stdout",
     "output_type": "stream",
     "text": [
      "False\n"
     ]
    }
   ],
   "source": [
    "set3 = {2, 5}\n",
    "is_disjoint_2 = set1.isdisjoint(set3)\n",
    "print(is_disjoint_2)"
   ]
  },
  {
   "cell_type": "markdown",
   "id": "b703aab9",
   "metadata": {},
   "source": [
    "### 12 .issubset(other_set)"
   ]
  },
  {
   "cell_type": "raw",
   "id": "dbf8d558",
   "metadata": {},
   "source": [
    ">> Returns True if all elements of the set are present in the other set, and False otherwise.\n",
    ">> returns true or false"
   ]
  },
  {
   "cell_type": "code",
   "execution_count": 36,
   "id": "1f07f5f3",
   "metadata": {},
   "outputs": [
    {
     "name": "stdout",
     "output_type": "stream",
     "text": [
      "True\n",
      "False\n"
     ]
    }
   ],
   "source": [
    "set1 = {1, 2}\n",
    "set2 = {1, 2, 3}\n",
    "is_subset = set1.issubset(set2) \n",
    "print(is_subset)\n",
    "\n",
    "set3={1,4}\n",
    "is_subset2=set3.issubset(set2)\n",
    "print(is_subset2)"
   ]
  },
  {
   "cell_type": "markdown",
   "id": "14291057",
   "metadata": {},
   "source": [
    "### 13. issuperset(other_set)"
   ]
  },
  {
   "cell_type": "markdown",
   "id": "cbe25c5f",
   "metadata": {},
   "source": [
    ">> Returns True if all elements of the other set are present in the set, and False otherwise."
   ]
  },
  {
   "cell_type": "code",
   "execution_count": 37,
   "id": "524df408",
   "metadata": {},
   "outputs": [
    {
     "name": "stdout",
     "output_type": "stream",
     "text": [
      "True\n"
     ]
    }
   ],
   "source": [
    "set1 = {1, 2, 3}\n",
    "set2 = {1, 2}\n",
    "is_superset = set1.issuperset(set2)\n",
    "print(is_superset)"
   ]
  },
  {
   "cell_type": "code",
   "execution_count": null,
   "id": "29715055",
   "metadata": {},
   "outputs": [],
   "source": []
  },
  {
   "cell_type": "markdown",
   "id": "8f944e8f",
   "metadata": {},
   "source": [
    "# frozenset"
   ]
  },
  {
   "cell_type": "markdown",
   "id": "67533b92",
   "metadata": {},
   "source": [
    ">> A frozenset is an immutable version of a Python set, meaning its contents cannot be modified after creation.\n",
    " \n",
    ">> A frozenset is an unordered collection of unique and immutable elements. \n",
    "Once created, you cannot add, remove, or modify the elements within a frozenset. \n",
    "Frozensets are created using the frozenset() constructor."
   ]
  },
  {
   "cell_type": "markdown",
   "id": "0f5ffa6a",
   "metadata": {},
   "source": [
    "# properties"
   ]
  },
  {
   "cell_type": "code",
   "execution_count": null,
   "id": "93c7110b",
   "metadata": {},
   "outputs": [],
   "source": [
    ">> Unordered:  Elements in a frozenset have no specific order.\n",
    ">> Unique Elements:  Frozensets like sets, only store unique elements.\n",
    ">> Immutable:  Once created, the elements of a frozenset cannot be changed.\n",
    ">> Frozensets can contain different immutable data types.\n"
   ]
  },
  {
   "cell_type": "markdown",
   "id": "e4af2b78",
   "metadata": {},
   "source": [
    "# How to Create a Frozenset:"
   ]
  },
  {
   "cell_type": "code",
   "execution_count": 1,
   "id": "0a761ac8",
   "metadata": {},
   "outputs": [
    {
     "name": "stdout",
     "output_type": "stream",
     "text": [
      "frozenset({1, 2, 3, 4})\n"
     ]
    }
   ],
   "source": [
    "# From a list\n",
    "my_list = [1, 2, 2, 3, 4]\n",
    "my_frozenset_from_list = frozenset(my_list)\n",
    "print(my_frozenset_from_list)"
   ]
  },
  {
   "cell_type": "code",
   "execution_count": 2,
   "id": "f280939f",
   "metadata": {},
   "outputs": [
    {
     "name": "stdout",
     "output_type": "stream",
     "text": [
      "frozenset({5, 6, 7})\n"
     ]
    }
   ],
   "source": [
    "# From a tuple\n",
    "my_tuple = (5, 6, 6, 7)\n",
    "my_frozenset_from_tuple = frozenset(my_tuple)\n",
    "print(my_frozenset_from_tuple)"
   ]
  },
  {
   "cell_type": "code",
   "execution_count": 3,
   "id": "3cb07439",
   "metadata": {},
   "outputs": [
    {
     "name": "stdout",
     "output_type": "stream",
     "text": [
      "frozenset({'l', 'e', 'o', 'h'})\n"
     ]
    }
   ],
   "source": [
    "# From a string\n",
    "my_string = \"hello\"\n",
    "my_frozenset_from_string = frozenset(my_string)\n",
    "print(my_frozenset_from_string)"
   ]
  },
  {
   "cell_type": "code",
   "execution_count": 4,
   "id": "c4f34c13",
   "metadata": {},
   "outputs": [
    {
     "name": "stdout",
     "output_type": "stream",
     "text": [
      "frozenset({8, 9, 10})\n"
     ]
    }
   ],
   "source": [
    "# From a regular set\n",
    "my_set = {8, 9, 9, 10}\n",
    "my_frozenset_from_set = frozenset(my_set)\n",
    "print(my_frozenset_from_set)"
   ]
  },
  {
   "cell_type": "code",
   "execution_count": 5,
   "id": "b7b35d45",
   "metadata": {},
   "outputs": [
    {
     "name": "stdout",
     "output_type": "stream",
     "text": [
      "frozenset()\n"
     ]
    }
   ],
   "source": [
    "# Creating an empty frozenset\n",
    "empty_frozenset = frozenset()\n",
    "print(empty_frozenset)"
   ]
  },
  {
   "cell_type": "markdown",
   "id": "7aadc090",
   "metadata": {},
   "source": [
    "# Functions for frozenset"
   ]
  },
  {
   "cell_type": "markdown",
   "id": "bed0151d",
   "metadata": {},
   "source": [
    "# 1.copy()"
   ]
  },
  {
   "cell_type": "code",
   "execution_count": null,
   "id": "1c9e19dd",
   "metadata": {},
   "outputs": [],
   "source": [
    " >> Returns a shallow copy of the frozenset. "
   ]
  },
  {
   "cell_type": "code",
   "execution_count": 39,
   "id": "a30554a5",
   "metadata": {},
   "outputs": [
    {
     "name": "stdout",
     "output_type": "stream",
     "text": [
      "frozenset({1, 2, 3})\n",
      "True\n"
     ]
    }
   ],
   "source": [
    "fs = frozenset({1, 2, 3})\n",
    "fs_copy = fs.copy()\n",
    "print(fs_copy)  \n",
    "print(fs is fs_copy)"
   ]
  },
  {
   "cell_type": "markdown",
   "id": "d8748371",
   "metadata": {},
   "source": [
    "# 2.union(other_set, ...) "
   ]
  },
  {
   "cell_type": "raw",
   "id": "160a7cb0",
   "metadata": {},
   "source": [
    ">> Returns a new frozenset containing all elements from the frozenset and all the specified other sets"
   ]
  },
  {
   "cell_type": "code",
   "execution_count": 7,
   "id": "7a4936b2",
   "metadata": {},
   "outputs": [
    {
     "name": "stdout",
     "output_type": "stream",
     "text": [
      "frozenset({1, 2, 3})\n"
     ]
    }
   ],
   "source": [
    "fs1 = frozenset({1, 2})\n",
    "set2 = {2, 3}\n",
    "union_fs = fs1.union(set2)\n",
    "print(union_fs)"
   ]
  },
  {
   "cell_type": "markdown",
   "id": "c41a8536",
   "metadata": {},
   "source": [
    "# 3.intersection(other_set, ...)"
   ]
  },
  {
   "cell_type": "code",
   "execution_count": null,
   "id": "43317125",
   "metadata": {},
   "outputs": [],
   "source": [
    ">> Returns a new frozenset containing elements common to the frozenset and all the specified other sets."
   ]
  },
  {
   "cell_type": "code",
   "execution_count": 8,
   "id": "f44478b5",
   "metadata": {},
   "outputs": [
    {
     "name": "stdout",
     "output_type": "stream",
     "text": [
      "frozenset({3})\n"
     ]
    }
   ],
   "source": [
    "fs1 = frozenset({1, 2, 3})\n",
    "set2 = {3, 4}\n",
    "intersection_fs = fs1.intersection(set2)\n",
    "print(intersection_fs)"
   ]
  },
  {
   "cell_type": "markdown",
   "id": "2a3b4930",
   "metadata": {},
   "source": [
    "# 4.difference(other_set, ...)"
   ]
  },
  {
   "cell_type": "markdown",
   "id": "69fd8280",
   "metadata": {},
   "source": [
    ">> Returns a new frozenset containing elements in the frozenset that are not in any of the specified other sets."
   ]
  },
  {
   "cell_type": "code",
   "execution_count": 9,
   "id": "f15b7e9e",
   "metadata": {},
   "outputs": [
    {
     "name": "stdout",
     "output_type": "stream",
     "text": [
      "frozenset({1, 2})\n"
     ]
    }
   ],
   "source": [
    "fs1 = frozenset({1, 2, 3})\n",
    "set2 = {3, 4}\n",
    "difference_fs = fs1.difference(set2)\n",
    "print(difference_fs)"
   ]
  },
  {
   "cell_type": "markdown",
   "id": "6b6b65f7",
   "metadata": {},
   "source": [
    "#  5.symmetric_difference(other_set)"
   ]
  },
  {
   "cell_type": "raw",
   "id": "15df1b54",
   "metadata": {},
   "source": [
    ">> Returns a new frozenset containing elements that are in either the frozenset or the other set, but not in both."
   ]
  },
  {
   "cell_type": "code",
   "execution_count": 10,
   "id": "44ad5a62",
   "metadata": {},
   "outputs": [
    {
     "name": "stdout",
     "output_type": "stream",
     "text": [
      "frozenset({1, 2, 4})\n"
     ]
    }
   ],
   "source": [
    "fs1 = frozenset({1, 2, 3})\n",
    "set2 = {3, 4}\n",
    "symmetric_difference_fs = fs1.symmetric_difference(set2)\n",
    "print(symmetric_difference_fs)"
   ]
  },
  {
   "cell_type": "markdown",
   "id": "727b04cc",
   "metadata": {},
   "source": [
    "# 6.isdisjoint(other_set)"
   ]
  },
  {
   "cell_type": "markdown",
   "id": "3ba2b0a4",
   "metadata": {},
   "source": [
    ">>Returns True if the frozenset has no elements in common with the other set, and False otherwise."
   ]
  },
  {
   "cell_type": "code",
   "execution_count": 40,
   "id": "49d87472",
   "metadata": {},
   "outputs": [
    {
     "name": "stdout",
     "output_type": "stream",
     "text": [
      "True\n"
     ]
    }
   ],
   "source": [
    "fs1 = frozenset({1, 2})\n",
    "set2 = {3, 4}\n",
    "is_disjoint_fs = fs1.isdisjoint(set2)\n",
    "print(is_disjoint_fs)"
   ]
  },
  {
   "cell_type": "markdown",
   "id": "4b198ec8",
   "metadata": {},
   "source": [
    "# 7.issubset(other_set)"
   ]
  },
  {
   "cell_type": "code",
   "execution_count": null,
   "id": "5fded50c",
   "metadata": {},
   "outputs": [],
   "source": [
    "Returns True if all elements of the frozenset are present in the other set, and False otherwise."
   ]
  },
  {
   "cell_type": "code",
   "execution_count": 41,
   "id": "7db16c99",
   "metadata": {},
   "outputs": [
    {
     "name": "stdout",
     "output_type": "stream",
     "text": [
      "True\n"
     ]
    }
   ],
   "source": [
    "fs1 = frozenset({1, 2})\n",
    "set2 = {1, 2, 3}\n",
    "is_subset_fs = fs1.issubset(set2)\n",
    "print(is_subset_fs)"
   ]
  },
  {
   "cell_type": "markdown",
   "id": "25c72700",
   "metadata": {},
   "source": [
    "# 8.issuperset(other_set)"
   ]
  },
  {
   "cell_type": "code",
   "execution_count": null,
   "id": "0569da36",
   "metadata": {},
   "outputs": [],
   "source": [
    "subset>>>smaller\n",
    "superset>>>bigger"
   ]
  },
  {
   "cell_type": "code",
   "execution_count": null,
   "id": "077fa3b0",
   "metadata": {},
   "outputs": [],
   "source": [
    "Returns True if all elements of the other set are present in the frozenset, and False otherwise."
   ]
  },
  {
   "cell_type": "code",
   "execution_count": 42,
   "id": "f099ab8e",
   "metadata": {},
   "outputs": [
    {
     "name": "stdout",
     "output_type": "stream",
     "text": [
      "True\n"
     ]
    }
   ],
   "source": [
    "fs1 = frozenset({1, 2, 3})\n",
    "set2 = {1, 2}\n",
    "is_superset_fs = fs1.issuperset(set2)\n",
    "print(is_superset_fs)"
   ]
  },
  {
   "cell_type": "code",
   "execution_count": null,
   "id": "82a66a23",
   "metadata": {},
   "outputs": [],
   "source": [
    ">> inbuilt functions can be used: min(),len(), max(), sum(), sorted() can be used."
   ]
  },
  {
   "cell_type": "code",
   "execution_count": null,
   "id": "ec09394d",
   "metadata": {},
   "outputs": [],
   "source": []
  },
  {
   "cell_type": "raw",
   "id": "f518dafc",
   "metadata": {},
   "source": [
    "# take any list, tuple and make set, frozenset by using type casting or set constructor. print that list, tuple, set, frozenset."
   ]
  },
  {
   "cell_type": "code",
   "execution_count": null,
   "id": "a426c999",
   "metadata": {},
   "outputs": [],
   "source": []
  }
 ],
 "metadata": {
  "kernelspec": {
   "display_name": "Python 3 (ipykernel)",
   "language": "python",
   "name": "python3"
  },
  "language_info": {
   "codemirror_mode": {
    "name": "ipython",
    "version": 3
   },
   "file_extension": ".py",
   "mimetype": "text/x-python",
   "name": "python",
   "nbconvert_exporter": "python",
   "pygments_lexer": "ipython3",
   "version": "3.9.12"
  }
 },
 "nbformat": 4,
 "nbformat_minor": 5
}
