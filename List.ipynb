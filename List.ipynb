{
 "cells": [
  {
   "cell_type": "markdown",
   "id": "8a529bee",
   "metadata": {},
   "source": [
    "# List"
   ]
  },
  {
   "cell_type": "code",
   "execution_count": null,
   "id": "620cf4fb",
   "metadata": {},
   "outputs": [],
   "source": [
    ">> list is a collection of items\n",
    ">> we can add any datatypes in list\n",
    ">> datatypes>> int, float, str, complex, list, dict, tuple, frozenset, set, numpy array, pandas dataframes\n",
    "pandas series"
   ]
  },
  {
   "cell_type": "code",
   "execution_count": 2,
   "id": "1ae69f92",
   "metadata": {},
   "outputs": [
    {
     "data": {
      "text/plain": [
       "4"
      ]
     },
     "execution_count": 2,
     "metadata": {},
     "output_type": "execute_result"
    }
   ],
   "source": [
    "list11=[12,23,56,78]\n",
    "type(list11)\n",
    "len(list11)"
   ]
  },
  {
   "cell_type": "code",
   "execution_count": 3,
   "id": "ed1e5dff",
   "metadata": {},
   "outputs": [
    {
     "data": {
      "text/plain": [
       "4"
      ]
     },
     "execution_count": 3,
     "metadata": {},
     "output_type": "execute_result"
    }
   ],
   "source": [
    "l=[12,45,[45,67,65],[45,65,75]] #nested list>>>list inside list\n",
    "len(l)"
   ]
  },
  {
   "cell_type": "code",
   "execution_count": 4,
   "id": "8458c87b",
   "metadata": {},
   "outputs": [
    {
     "data": {
      "text/plain": [
       "list"
      ]
     },
     "execution_count": 4,
     "metadata": {},
     "output_type": "execute_result"
    }
   ],
   "source": [
    "list12=[\"narendra\",\"amit\",\"jay\",\"nirmala\"]\n",
    "type(list12)\n",
    "list13=[\"narendra\",12,34.34,(3+4j)]\n",
    "type(list13)"
   ]
  },
  {
   "cell_type": "code",
   "execution_count": 5,
   "id": "b2bd1ce7",
   "metadata": {},
   "outputs": [
    {
     "name": "stdout",
     "output_type": "stream",
     "text": [
      "<class 'list'>\n",
      "<class 'str'>\n",
      "<class 'int'>\n",
      "4\n"
     ]
    }
   ],
   "source": [
    "list13=[\"narendra\",12,34.34,(3+4j)]\n",
    "\n",
    "print(type(list13))\n",
    "print(type(list13[0]))\n",
    "print(type(list13[1]))\n",
    "print(len(list13))\n"
   ]
  },
  {
   "cell_type": "code",
   "execution_count": 6,
   "id": "51391233",
   "metadata": {},
   "outputs": [
    {
     "data": {
      "text/plain": [
       "list"
      ]
     },
     "execution_count": 6,
     "metadata": {},
     "output_type": "execute_result"
    }
   ],
   "source": [
    "list1=[12,34,12,45]\n",
    "type(list1)"
   ]
  },
  {
   "cell_type": "markdown",
   "id": "3a772d77",
   "metadata": {},
   "source": [
    "# Properties of list data type"
   ]
  },
  {
   "cell_type": "code",
   "execution_count": null,
   "id": "8237eeb4",
   "metadata": {},
   "outputs": [],
   "source": [
    "1. lists are mutable >> changeble (add, delete,update)\n",
    "2. it is an ordered datatypes.\n",
    "3. Duplicate items are allowed.\n",
    "4. lists are enclosed by []\n",
    "5. Heterogeneous: Supports different data types (e.g., int, str, list).\n",
    "6. list items are comma seperated"
   ]
  },
  {
   "cell_type": "code",
   "execution_count": null,
   "id": "081685a7",
   "metadata": {},
   "outputs": [],
   "source": [
    "Mutable >> we can change, add, remove items in list\n",
    "Ordered >> list items have a defined order and that order will not change\n",
    "Allow Duplicates >> since list are indexed, list can have items with same value"
   ]
  },
  {
   "cell_type": "code",
   "execution_count": 7,
   "id": "99a4bffc",
   "metadata": {},
   "outputs": [
    {
     "data": {
      "text/plain": [
       "['data', 2, 2.3, 'python', 20, (2+5j)]"
      ]
     },
     "execution_count": 7,
     "metadata": {},
     "output_type": "execute_result"
    }
   ],
   "source": [
    "list7 = [1,2,2.3,'python',20,2+5j]\n",
    "list7\n",
    "list7[0]=\"data\"\n",
    "list7"
   ]
  },
  {
   "cell_type": "code",
   "execution_count": 8,
   "id": "913bd73f",
   "metadata": {},
   "outputs": [
    {
     "ename": "TypeError",
     "evalue": "'str' object does not support item assignment",
     "output_type": "error",
     "traceback": [
      "\u001b[1;31m---------------------------------------------------------------------------\u001b[0m",
      "\u001b[1;31mTypeError\u001b[0m                                 Traceback (most recent call last)",
      "Input \u001b[1;32mIn [8]\u001b[0m, in \u001b[0;36m<cell line: 2>\u001b[1;34m()\u001b[0m\n\u001b[0;32m      1\u001b[0m st\u001b[38;5;241m=\u001b[39m\u001b[38;5;124m\"\u001b[39m\u001b[38;5;124mdata science\u001b[39m\u001b[38;5;124m\"\u001b[39m\n\u001b[1;32m----> 2\u001b[0m st[\u001b[38;5;241m0\u001b[39m]\u001b[38;5;241m=\u001b[39m\u001b[38;5;124m\"\u001b[39m\u001b[38;5;124mA\u001b[39m\u001b[38;5;124m\"\u001b[39m\n\u001b[0;32m      3\u001b[0m st\n",
      "\u001b[1;31mTypeError\u001b[0m: 'str' object does not support item assignment"
     ]
    }
   ],
   "source": [
    "st=\"data science\"\n",
    "st[0]=\"A\"\n",
    "st"
   ]
  },
  {
   "cell_type": "code",
   "execution_count": 9,
   "id": "cdf55d2b",
   "metadata": {},
   "outputs": [
    {
     "data": {
      "text/plain": [
       "[1, 2, 2.3, 'python', 20, (2+5j)]"
      ]
     },
     "execution_count": 9,
     "metadata": {},
     "output_type": "execute_result"
    }
   ],
   "source": [
    "list1 = [1,2,2.3,'python',20,2+5j]\n",
    "list1"
   ]
  },
  {
   "cell_type": "code",
   "execution_count": 10,
   "id": "5f2ce9af",
   "metadata": {},
   "outputs": [
    {
     "name": "stdout",
     "output_type": "stream",
     "text": [
      "4\n"
     ]
    },
    {
     "data": {
      "text/plain": [
       "['d', 'a', 't', 'a']"
      ]
     },
     "execution_count": 10,
     "metadata": {},
     "output_type": "execute_result"
    }
   ],
   "source": [
    "l3 = ['d', 'a', 't','a']\n",
    "print(len(l3))\n",
    "l3"
   ]
  },
  {
   "cell_type": "markdown",
   "id": "ce724914",
   "metadata": {},
   "source": [
    "# Indexing"
   ]
  },
  {
   "cell_type": "code",
   "execution_count": null,
   "id": "77dcda74",
   "metadata": {},
   "outputs": [],
   "source": [
    ">> positive index will starts with zero from left\n",
    ">> negative index starts with -1 from right"
   ]
  },
  {
   "cell_type": "code",
   "execution_count": 11,
   "id": "177cab7b",
   "metadata": {},
   "outputs": [
    {
     "name": "stdout",
     "output_type": "stream",
     "text": [
      "4\n"
     ]
    },
    {
     "data": {
      "text/plain": [
       "'d'"
      ]
     },
     "execution_count": 11,
     "metadata": {},
     "output_type": "execute_result"
    }
   ],
   "source": [
    "list1 = ['d', 'a', 't','a']\n",
    "print(len(list1))\n",
    "list1[0]"
   ]
  },
  {
   "cell_type": "code",
   "execution_count": null,
   "id": "fb0b7778",
   "metadata": {},
   "outputs": [],
   "source": [
    "list1      =   [1,  2,   3,  4,   5]\n",
    "\n",
    "+ve index       0   1    2   3    4\n",
    "-ve index      -5  -4   -3   -2   -1"
   ]
  },
  {
   "cell_type": "code",
   "execution_count": 12,
   "id": "4356278f",
   "metadata": {},
   "outputs": [
    {
     "name": "stdout",
     "output_type": "stream",
     "text": [
      "nirmala\n",
      "shaha\n"
     ]
    }
   ],
   "source": [
    "listss=[\"modi\",\"shaha\",\"nirmala\"]\n",
    "# print(listss[1])\n",
    "# print(listss[2])\n",
    "print(listss[-1])\n",
    "print(listss[-2])"
   ]
  },
  {
   "cell_type": "markdown",
   "id": "b738733c",
   "metadata": {},
   "source": [
    "# Slicing"
   ]
  },
  {
   "cell_type": "code",
   "execution_count": null,
   "id": "39024366",
   "metadata": {},
   "outputs": [],
   "source": [
    ">> list(list_name[start_index(included): end_index(excluded): step_size])\n",
    "list[start:end:step]"
   ]
  },
  {
   "cell_type": "code",
   "execution_count": null,
   "id": "5e166b77",
   "metadata": {},
   "outputs": [],
   "source": [
    ">> Default start index >> 0\n",
    ">> Default end index   >> len('list')"
   ]
  },
  {
   "cell_type": "code",
   "execution_count": 13,
   "id": "5075a9be",
   "metadata": {},
   "outputs": [
    {
     "data": {
      "text/plain": [
       "[1, 5, 'data', 500, 3.14, 'machine learning', 20, 30]"
      ]
     },
     "execution_count": 13,
     "metadata": {},
     "output_type": "execute_result"
    }
   ],
   "source": [
    "list9 = [1,5,'data',500,3.14,'machine learning',20,30]\n",
    "list9"
   ]
  },
  {
   "cell_type": "code",
   "execution_count": 14,
   "id": "4be40c06",
   "metadata": {},
   "outputs": [
    {
     "data": {
      "text/plain": [
       "['data', 500, 3.14]"
      ]
     },
     "execution_count": 14,
     "metadata": {},
     "output_type": "execute_result"
    }
   ],
   "source": [
    "list9[2:5]"
   ]
  },
  {
   "cell_type": "code",
   "execution_count": 15,
   "id": "ce2d32cd",
   "metadata": {},
   "outputs": [
    {
     "data": {
      "text/plain": [
       "[1, 5, 'data', 500, 3.14, 'machine learning']"
      ]
     },
     "execution_count": 15,
     "metadata": {},
     "output_type": "execute_result"
    }
   ],
   "source": [
    "list9[:6]"
   ]
  },
  {
   "cell_type": "code",
   "execution_count": 16,
   "id": "7a0337e7",
   "metadata": {},
   "outputs": [
    {
     "data": {
      "text/plain": [
       "[1, 'data', 3.14, 20]"
      ]
     },
     "execution_count": 16,
     "metadata": {},
     "output_type": "execute_result"
    }
   ],
   "source": [
    "list9[::2]"
   ]
  },
  {
   "cell_type": "code",
   "execution_count": 17,
   "id": "cf3f48d0",
   "metadata": {},
   "outputs": [
    {
     "name": "stdout",
     "output_type": "stream",
     "text": [
      "[2, 3, 4, 5, 6]\n",
      "[9, 10, 1, 2, 4]\n",
      "[2, 3, 4, 5, 6, 7, 8, 9, 10, 1, 2, 4]\n",
      "[1, 4, 7]\n"
     ]
    }
   ],
   "source": [
    "list2 = [1,2,3,4,5,6,7,8,9,10,1,2,4,5,2]\n",
    "print(list2[1:6])\n",
    "print(list2[-7:-2])\n",
    "print(list2[1:-2])\n",
    "print(list2[:8:3])"
   ]
  },
  {
   "cell_type": "code",
   "execution_count": 18,
   "id": "1b4e069a",
   "metadata": {},
   "outputs": [
    {
     "name": "stdout",
     "output_type": "stream",
     "text": [
      "[3, 4, 5, 6, 7, 8, 9]\n",
      "[1, 3, 5, 7, 9]\n",
      "[9, 8, 7, 6, 5, 4, 3, 2, 1]\n"
     ]
    }
   ],
   "source": [
    "list11=[1,2,3,4,5,6,7,8,9]\n",
    "print(list11[2:])\n",
    "print(list11[::2]) #alternate items from list\n",
    "print(list11[::-1]) #reversed list"
   ]
  },
  {
   "cell_type": "code",
   "execution_count": 19,
   "id": "b9ada373",
   "metadata": {},
   "outputs": [
    {
     "name": "stdout",
     "output_type": "stream",
     "text": [
      "[44, 55, 66]\n",
      "[55, 66]\n",
      "999\n",
      "999\n"
     ]
    }
   ],
   "source": [
    "ls1=[1,2,3,[44,55,66],[777,888,999]]\n",
    "len(ls1)\n",
    "print(ls1[3])\n",
    "print(ls1[3][1:])\n",
    "print(ls1[4][2])\n",
    "print(ls1[4][-1])"
   ]
  },
  {
   "cell_type": "code",
   "execution_count": 20,
   "id": "b26fea6d",
   "metadata": {},
   "outputs": [],
   "source": [
    "#alternate numbers from item with index number 5\n",
    "ls1=[1,2,3,[44,55,66],[777,888,999],[12,34,56,78,98]]"
   ]
  },
  {
   "cell_type": "code",
   "execution_count": 21,
   "id": "38336831",
   "metadata": {},
   "outputs": [
    {
     "data": {
      "text/plain": [
       "[2, 5, 4, 2, 1, 10, 9, 8, 7, 6, 5, 4, 3, 2, 1]"
      ]
     },
     "execution_count": 21,
     "metadata": {},
     "output_type": "execute_result"
    }
   ],
   "source": [
    "list2 = [1,2,3,4,5,6,7,8,9,10,1,2,4,5,2]\n",
    "list2[::-1] #Reverse list"
   ]
  },
  {
   "cell_type": "markdown",
   "id": "027015f3",
   "metadata": {},
   "source": [
    "# Access list items by using for loop"
   ]
  },
  {
   "cell_type": "markdown",
   "id": "c1c1041a",
   "metadata": {},
   "source": [
    "for variable in sequence:\n",
    "    statement1\n",
    "    statement2"
   ]
  },
  {
   "cell_type": "code",
   "execution_count": 23,
   "id": "582e99f0",
   "metadata": {},
   "outputs": [
    {
     "name": "stdout",
     "output_type": "stream",
     "text": [
      "34\n",
      "56\n"
     ]
    }
   ],
   "source": [
    "ls=[34,56]\n",
    "for items in ls:\n",
    "    print(items)"
   ]
  },
  {
   "cell_type": "code",
   "execution_count": 24,
   "id": "c08cc9f4",
   "metadata": {},
   "outputs": [
    {
     "name": "stdout",
     "output_type": "stream",
     "text": [
      "1\n",
      "2\n",
      "3\n",
      "4\n",
      "5\n",
      "6\n"
     ]
    }
   ],
   "source": [
    "list2 = [1,2,3,4,5,6]\n",
    "\n",
    "for val in list2:\n",
    "    print(val)"
   ]
  },
  {
   "cell_type": "code",
   "execution_count": 25,
   "id": "71808313",
   "metadata": {},
   "outputs": [
    {
     "name": "stdout",
     "output_type": "stream",
     "text": [
      "1 2 3 4 5 6 "
     ]
    }
   ],
   "source": [
    "list2 = [1,2,3,4,5,6]\n",
    "\n",
    "for item in list2:\n",
    "    print(item,end= \" \")\n",
    "# print(list2)"
   ]
  },
  {
   "cell_type": "code",
   "execution_count": null,
   "id": "4b7b2b61",
   "metadata": {},
   "outputs": [],
   "source": []
  },
  {
   "cell_type": "code",
   "execution_count": null,
   "id": "aacc1157",
   "metadata": {},
   "outputs": [],
   "source": []
  },
  {
   "cell_type": "code",
   "execution_count": 26,
   "id": "462fb725",
   "metadata": {},
   "outputs": [
    {
     "name": "stdout",
     "output_type": "stream",
     "text": [
      "city name is  pune\n",
      "city name is  ahemadnagar\n",
      "city name is  mumbai\n",
      "city name is  amravati\n"
     ]
    }
   ],
   "source": [
    "city_names_list = ['pune', 'ahemadnagar', 'mumbai','amravati']\n",
    "\n",
    "for city_name in city_names_list:\n",
    "    print('city name is ',city_name)"
   ]
  },
  {
   "cell_type": "code",
   "execution_count": 27,
   "id": "dc2008ea",
   "metadata": {},
   "outputs": [
    {
     "name": "stdout",
     "output_type": "stream",
     "text": [
      "city name is  pune\n",
      "****************************************\n",
      "city name is  ahemadnagar\n",
      "****************************************\n",
      "city name is  mumbai\n",
      "****************************************\n",
      "city name is  amravati\n",
      "****************************************\n"
     ]
    }
   ],
   "source": [
    "city_names = ['pune', 'ahemadnagar', 'mumbai','amravati']\n",
    "\n",
    "for city_name in city_names:\n",
    "    print('city name is ',city_name)\n",
    "    print(\"*\"*40)"
   ]
  },
  {
   "cell_type": "code",
   "execution_count": 28,
   "id": "0298be92",
   "metadata": {},
   "outputs": [
    {
     "name": "stdout",
     "output_type": "stream",
     "text": [
      "city name is  PUNE\n",
      "**********************************************************************\n",
      "city name is  AHEMADNAGAR\n",
      "**********************************************************************\n",
      "city name is  MUMBAI\n",
      "**********************************************************************\n",
      "city name is  AMRAVATI\n",
      "**********************************************************************\n"
     ]
    }
   ],
   "source": [
    "city_names = ['pune', 'ahemadnagar', 'mumbai','amravati']\n",
    "\n",
    "for city in city_names:\n",
    "    print('city name is ',city.upper())\n",
    "    print(\"*\"*70)"
   ]
  },
  {
   "cell_type": "code",
   "execution_count": 29,
   "id": "a0e4d682",
   "metadata": {},
   "outputs": [
    {
     "name": "stdout",
     "output_type": "stream",
     "text": [
      "pune\n",
      "ahemadnagar\n",
      "mumbai\n",
      "amravati\n"
     ]
    }
   ],
   "source": [
    "city_names = ['pune', 'ahemadnagar', 'mumbai','amravati']\n",
    "for index,city in enumerate(city_names):\n",
    "    print(city)"
   ]
  },
  {
   "cell_type": "code",
   "execution_count": null,
   "id": "8621e24e",
   "metadata": {},
   "outputs": [],
   "source": [
    "print, type, len>>"
   ]
  },
  {
   "cell_type": "code",
   "execution_count": 30,
   "id": "63ae4146",
   "metadata": {},
   "outputs": [
    {
     "name": "stdout",
     "output_type": "stream",
     "text": [
      "index is 0 and city name is pune\n",
      "index is 1 and city name is ahemadnagar\n",
      "index is 2 and city name is mumbai\n",
      "index is 3 and city name is amravati\n"
     ]
    }
   ],
   "source": [
    "city_names = ['pune', 'ahemadnagar', 'mumbai','amravati']\n",
    "for index,city in enumerate(city_names):\n",
    "    print(f\"index is {index} and city name is {city}\")"
   ]
  },
  {
   "cell_type": "code",
   "execution_count": 31,
   "id": "b648c1bd",
   "metadata": {},
   "outputs": [
    {
     "name": "stdout",
     "output_type": "stream",
     "text": [
      "city at index 0  is pune\n",
      "********************************************************************************\n",
      "city at index 1  is ahemadnagar\n",
      "********************************************************************************\n",
      "city at index 2  is mumbai\n",
      "********************************************************************************\n",
      "city at index 3  is amravati\n",
      "********************************************************************************\n"
     ]
    }
   ],
   "source": [
    "city_names = ['pune', 'ahemadnagar', 'mumbai','amravati']\n",
    "for index,city in enumerate(city_names):\n",
    "    print(f\"city at index {index}  is {city}\")\n",
    "    print(\"*\"*80)"
   ]
  },
  {
   "cell_type": "code",
   "execution_count": null,
   "id": "842bd7b5",
   "metadata": {},
   "outputs": [],
   "source": []
  },
  {
   "cell_type": "code",
   "execution_count": null,
   "id": "9b1855a1",
   "metadata": {},
   "outputs": [],
   "source": []
  },
  {
   "cell_type": "code",
   "execution_count": null,
   "id": "51bd9b32",
   "metadata": {},
   "outputs": [],
   "source": []
  },
  {
   "cell_type": "code",
   "execution_count": null,
   "id": "f17d951b",
   "metadata": {},
   "outputs": [],
   "source": []
  },
  {
   "cell_type": "code",
   "execution_count": null,
   "id": "d9f26330",
   "metadata": {},
   "outputs": [],
   "source": []
  },
  {
   "cell_type": "code",
   "execution_count": null,
   "id": "bd787812",
   "metadata": {},
   "outputs": [],
   "source": []
  },
  {
   "cell_type": "code",
   "execution_count": null,
   "id": "c755cc4d",
   "metadata": {},
   "outputs": [],
   "source": []
  },
  {
   "cell_type": "code",
   "execution_count": null,
   "id": "dac6a8bc",
   "metadata": {},
   "outputs": [],
   "source": []
  }
 ],
 "metadata": {
  "kernelspec": {
   "display_name": "Python 3 (ipykernel)",
   "language": "python",
   "name": "python3"
  },
  "language_info": {
   "codemirror_mode": {
    "name": "ipython",
    "version": 3
   },
   "file_extension": ".py",
   "mimetype": "text/x-python",
   "name": "python",
   "nbconvert_exporter": "python",
   "pygments_lexer": "ipython3",
   "version": "3.9.12"
  }
 },
 "nbformat": 4,
 "nbformat_minor": 5
}
