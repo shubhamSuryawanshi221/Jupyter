{
 "cells": [
  {
   "cell_type": "markdown",
   "id": "79aee0fd",
   "metadata": {},
   "source": [
    "# 1. split()"
   ]
  },
  {
   "cell_type": "markdown",
   "id": "a76f61ab",
   "metadata": {},
   "source": [
    ">> The split() method is like taking a whole sentence and chopping it up into individual words (or pieces) based on a specific separator.\n",
    "\n",
    ">> It divides a string into a list of substrings.\n",
    "\n",
    ">> You can tell split() where to break the string. If you don't specify a separator, it defaults to splitting on whitespace (spaces, tabs, newlines)."
   ]
  },
  {
   "cell_type": "code",
   "execution_count": 2,
   "id": "27d90c4d",
   "metadata": {},
   "outputs": [
    {
     "name": "stdout",
     "output_type": "stream",
     "text": [
      "['we', 'a#re', 'learning', 'data', '#', 'science', '#']\n",
      "['we a', 're learning data ', ' science ', ' ']\n"
     ]
    }
   ],
   "source": [
    "string1=\"we a#re learning data # science # \"\n",
    "list_from_string=string1.split()\n",
    "print(list_from_string)\n",
    "list_from_string1=string1.split('#')\n",
    "print(list_from_string1)"
   ]
  },
  {
   "cell_type": "code",
   "execution_count": 1,
   "id": "6cb6720b",
   "metadata": {},
   "outputs": [
    {
     "name": "stdout",
     "output_type": "stream",
     "text": [
      "['This', 'is', 'a', 'sample', 'sentence.']\n"
     ]
    }
   ],
   "source": [
    "my_sentence = \"This is a sample sentence.\"\n",
    "words = my_sentence.split() #string.split()\n",
    "print(words)"
   ]
  },
  {
   "cell_type": "code",
   "execution_count": 2,
   "id": "c5a065b4",
   "metadata": {},
   "outputs": [
    {
     "name": "stdout",
     "output_type": "stream",
     "text": [
      "['apple', 'banana', 'orange', 'grape']\n"
     ]
    }
   ],
   "source": [
    "data = \"apple,banana,orange,grape\"\n",
    "fruits = data.split(\",\")  #split() to break the string wherever it finds a comma (,).\n",
    "print(fruits)"
   ]
  },
  {
   "cell_type": "code",
   "execution_count": null,
   "id": "e72568ee",
   "metadata": {},
   "outputs": [],
   "source": []
  },
  {
   "cell_type": "markdown",
   "id": "7c192cec",
   "metadata": {},
   "source": [
    "# join()"
   ]
  },
  {
   "cell_type": "markdown",
   "id": "70ad1a00",
   "metadata": {},
   "source": [
    "2. join(): Putting Strings Back Together\n",
    ">> The join() method is the opposite of split(). It takes a list of strings and combines them into a single string, using a specified string as a separator between each element.\n",
    ">>  It concatenates elements of an iterable (like a list or tuple) into a single string."
   ]
  },
  {
   "cell_type": "code",
   "execution_count": null,
   "id": "d5334789",
   "metadata": {},
   "outputs": [],
   "source": []
  },
  {
   "cell_type": "code",
   "execution_count": 3,
   "id": "4ba90140",
   "metadata": {},
   "outputs": [
    {
     "name": "stdout",
     "output_type": "stream",
     "text": [
      "Hello world from Python\n",
      "Hello*world*from*Python\n"
     ]
    }
   ],
   "source": [
    "word_list = ['Hello', 'world', 'from', 'Python']\n",
    "sentence = \" \".join(word_list)  #Joining with a Space\n",
    "print(sentence)     #we used a space (\" \") as the separator to join the words in word_list back into a sentence.\n",
    "\n",
    "sentence1=\"*\".join(word_list)\n",
    "print(sentence1)"
   ]
  },
  {
   "cell_type": "code",
   "execution_count": 4,
   "id": "52ca5186",
   "metadata": {},
   "outputs": [
    {
     "name": "stdout",
     "output_type": "stream",
     "text": [
      "file-path-to-resource\n"
     ]
    }
   ],
   "source": [
    "parts = ['file', 'path', 'to', 'resource']\n",
    "full_path = \"-\".join(parts) #We used a hyphen (\"-\") to join the elements of the parts list.\n",
    "print(full_path)"
   ]
  },
  {
   "cell_type": "code",
   "execution_count": 5,
   "id": "b9763dce",
   "metadata": {},
   "outputs": [
    {
     "name": "stdout",
     "output_type": "stream",
     "text": [
      "abc\n"
     ]
    }
   ],
   "source": [
    "letters = ['a', 'b', 'c']\n",
    "combined = \"\".join(letters) #Joining with an Empty String\n",
    "print(combined)"
   ]
  }
 ],
 "metadata": {
  "kernelspec": {
   "display_name": "Python 3 (ipykernel)",
   "language": "python",
   "name": "python3"
  },
  "language_info": {
   "codemirror_mode": {
    "name": "ipython",
    "version": 3
   },
   "file_extension": ".py",
   "mimetype": "text/x-python",
   "name": "python",
   "nbconvert_exporter": "python",
   "pygments_lexer": "ipython3",
   "version": "3.9.12"
  }
 },
 "nbformat": 4,
 "nbformat_minor": 5
}
