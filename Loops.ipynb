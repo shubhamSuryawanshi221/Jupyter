{
 "cells": [
  {
   "cell_type": "markdown",
   "id": "075473e2",
   "metadata": {},
   "source": [
    "# Loops"
   ]
  },
  {
   "cell_type": "markdown",
   "id": "87786d2f",
   "metadata": {},
   "source": [
    ">> Loops automate repetitive tasks by executing a block of code multiple times.\n",
    ">> Instead of writing the same code over and over, loops allow us to repeat a block of code as many times as we need.\n",
    ">> Used to Iterate over a sequence (list, string, range, etc.)"
   ]
  },
  {
   "cell_type": "code",
   "execution_count": null,
   "id": "ee7e9e4a",
   "metadata": {},
   "outputs": [],
   "source": [
    "l=[12,34,56,78]\n"
   ]
  },
  {
   "cell_type": "code",
   "execution_count": 2,
   "id": "3500ac33",
   "metadata": {},
   "outputs": [
    {
     "name": "stdout",
     "output_type": "stream",
     "text": [
      "B\n",
      "e\n",
      "s\n",
      "a\n",
      "n\n",
      "t\n"
     ]
    }
   ],
   "source": [
    "string=\"Besant\"\n",
    "print(string[0])\n",
    "print(string[1])\n",
    "print(string[2])\n",
    "print(string[3])\n",
    "print(string[4])\n",
    "print(string[5])"
   ]
  },
  {
   "cell_type": "code",
   "execution_count": null,
   "id": "cc0a602f",
   "metadata": {},
   "outputs": [],
   "source": [
    "list1=[34,56,67]\n"
   ]
  },
  {
   "cell_type": "code",
   "execution_count": 3,
   "id": "4b9345cf",
   "metadata": {},
   "outputs": [
    {
     "name": "stdout",
     "output_type": "stream",
     "text": [
      "B\n",
      "e\n",
      "s\n",
      "a\n",
      "n\n",
      "t\n"
     ]
    }
   ],
   "source": [
    "for num in string:\n",
    "    print(num)"
   ]
  },
  {
   "cell_type": "code",
   "execution_count": 20,
   "id": "b7f7984f",
   "metadata": {},
   "outputs": [
    {
     "name": "stdout",
     "output_type": "stream",
     "text": [
      "s\n",
      "t\n",
      "r\n",
      "i\n",
      "n\n",
      "g\n"
     ]
    }
   ],
   "source": [
    "s=\"string\"\n",
    "for moh in s:\n",
    "    print(moh)"
   ]
  },
  {
   "cell_type": "markdown",
   "id": "bd4e3d09",
   "metadata": {},
   "source": [
    "**types of loops-\n",
    "\n",
    ">> for loop: Used for iterating over a sequence (like a list, tuple, string, or the result of the range() function) one item at a time.\n",
    "\n",
    ">> while loop: Used for repeating a block of code as long as a certain condition remains True."
   ]
  },
  {
   "cell_type": "code",
   "execution_count": null,
   "id": "e03583b1",
   "metadata": {},
   "outputs": [],
   "source": [
    "\n",
    "list1=[\"ram\", \"laxman\", \"bharat\", \"arjun\"]\n",
    "for names in list1:\n",
    "    #operation we want do\n",
    "    "
   ]
  },
  {
   "cell_type": "code",
   "execution_count": null,
   "id": "80c60b63",
   "metadata": {},
   "outputs": [],
   "source": []
  },
  {
   "cell_type": "code",
   "execution_count": null,
   "id": "0a462f5f",
   "metadata": {},
   "outputs": [],
   "source": [
    "#syntax:\n",
    " \n",
    "for item in sequence:  \n",
    "    # Code to repeat  \n",
    "#Used for known iterations (e.g., lists).\n",
    "\n",
    " \n",
    "while condition:  \n",
    "    # Code to repeat \n",
    "#Used for unknown iterations (e.g., user input)."
   ]
  },
  {
   "cell_type": "code",
   "execution_count": null,
   "id": "8d5460d7",
   "metadata": {},
   "outputs": [],
   "source": [
    "#time sleep"
   ]
  },
  {
   "cell_type": "markdown",
   "id": "16a78fba",
   "metadata": {},
   "source": [
    "## program to write each character in new line\n"
   ]
  },
  {
   "cell_type": "code",
   "execution_count": 1,
   "id": "c3a4c3a2",
   "metadata": {},
   "outputs": [],
   "source": [
    "import time"
   ]
  },
  {
   "cell_type": "code",
   "execution_count": 3,
   "id": "78c05204",
   "metadata": {
    "scrolled": true
   },
   "outputs": [
    {
     "name": "stdout",
     "output_type": "stream",
     "text": [
      "P\n",
      "***********\n",
      "y\n",
      "***********\n",
      "t\n",
      "***********\n",
      "h\n",
      "***********\n",
      "o\n",
      "***********\n",
      "n\n",
      "***********\n",
      "program end\n"
     ]
    }
   ],
   "source": [
    "\n",
    "message = \"Python\"\n",
    "for char in message:\n",
    "    print(char)\n",
    "    print(\"***********\")\n",
    "    time.sleep(3)\n",
    "print(\"program end\")"
   ]
  },
  {
   "cell_type": "code",
   "execution_count": 11,
   "id": "10a47029",
   "metadata": {},
   "outputs": [
    {
     "name": "stdout",
     "output_type": "stream",
     "text": [
      "apple\n",
      "iteration is finished\n",
      "banana\n",
      "iteration is finished\n",
      "cherry\n",
      "iteration is finished\n"
     ]
    }
   ],
   "source": [
    "fruits = [\"apple\", \"banana\", \"cherry\"]  #time>>sleep\n",
    "for fruit in fruits:  \n",
    "    print(fruit)  \n",
    "    print(\"iteration is finished\")\n",
    "    "
   ]
  },
  {
   "cell_type": "code",
   "execution_count": 14,
   "id": "eabb4a9c",
   "metadata": {
    "scrolled": true
   },
   "outputs": [
    {
     "name": "stdout",
     "output_type": "stream",
     "text": [
      "The number is: 0\n",
      "The number is: 1\n",
      "The number is: 2\n",
      "The number is: 3\n",
      "The number is: 4\n",
      "done\n"
     ]
    }
   ],
   "source": [
    "#program to Generates numbers 0, 1, 2, 3, 4\n",
    "\n",
    "for number in range(5):  \n",
    "    print(\"The number is:\", number)\n",
    "    \n",
    "print(\"done\")"
   ]
  },
  {
   "cell_type": "code",
   "execution_count": null,
   "id": "467dafc1",
   "metadata": {},
   "outputs": [],
   "source": []
  },
  {
   "cell_type": "code",
   "execution_count": 8,
   "id": "5bd57ae8",
   "metadata": {
    "scrolled": true
   },
   "outputs": [
    {
     "name": "stdout",
     "output_type": "stream",
     "text": [
      "Another number: 2\n",
      "Another number: 3\n",
      "Another number: 4\n",
      "Another number: 5\n",
      "Another number: 6\n"
     ]
    }
   ],
   "source": [
    "# program Generates numbers 1,3,5 ....50\n",
    "\n",
    "\n",
    "for i in range(2, 7):  \n",
    "    print(\"Another number:\", i)"
   ]
  },
  {
   "cell_type": "code",
   "execution_count": 9,
   "id": "72cebfb4",
   "metadata": {
    "scrolled": true
   },
   "outputs": [
    {
     "name": "stdout",
     "output_type": "stream",
     "text": [
      "Stepping: 0\n",
      "Stepping: 2\n",
      "Stepping: 4\n",
      "Stepping: 6\n",
      "Stepping: 8\n"
     ]
    }
   ],
   "source": [
    "# Generates numbers 0, 2, 4, 6, 8 (with a step of 2)\n",
    "\n",
    "\n",
    "for step in range(0, 10, 2): \n",
    "    print(\"Stepping:\", step)"
   ]
  },
  {
   "cell_type": "code",
   "execution_count": 4,
   "id": "b9f5d144",
   "metadata": {},
   "outputs": [
    {
     "name": "stdout",
     "output_type": "stream",
     "text": [
      "0\n",
      "total is  1\n",
      "total is  3\n",
      "total is  6\n",
      "total is  10\n",
      "total is  15\n",
      "total is  21\n",
      "total is  28\n",
      "total is  36\n",
      "total is  45\n",
      "total is  55\n",
      "55\n"
     ]
    }
   ],
   "source": [
    "#program to find Sum of First 10 Numbers:\n",
    "\n",
    "\n",
    "total = 0  \n",
    "print(total)\n",
    "for num in range(1, 11):  \n",
    "    total += num\n",
    "    #print(f\"total is  {total}\")\n",
    "print(total)\n",
    "\n",
    "\n",
    "\n",
    "# 1st iteration:\n",
    "#     total=0+1\n",
    "# 2nd iteration:\n",
    "#     total=1+2\n",
    "# 3rd iteration:\n",
    "#     total=3+3\n",
    "# 4th iteration:\n",
    "#     total=6+4"
   ]
  },
  {
   "cell_type": "code",
   "execution_count": 17,
   "id": "1f9a379f",
   "metadata": {},
   "outputs": [
    {
     "name": "stdout",
     "output_type": "stream",
     "text": [
      "Total Sales: rupees750\n"
     ]
    }
   ],
   "source": [
    "# program to Calculate total sales from a list \n",
    "\n",
    "\n",
    "sales = [100, 200, 150, 300]  \n",
    "total = 0  \n",
    "for amount in sales:  \n",
    "    total += amount  \n",
    "    \n",
    "print(f\"Total Sales: rupees {total}\")    "
   ]
  },
  {
   "cell_type": "code",
   "execution_count": null,
   "id": "43ee2780",
   "metadata": {},
   "outputs": [],
   "source": []
  },
  {
   "cell_type": "code",
   "execution_count": 7,
   "id": "b8a088d5",
   "metadata": {},
   "outputs": [
    {
     "name": "stdout",
     "output_type": "stream",
     "text": [
      "Numbers divisible by 3:\n",
      "3\n",
      "9\n",
      "15\n",
      "21\n",
      "30\n"
     ]
    }
   ],
   "source": [
    "# program to find Numbers Divisible by 3\n",
    "numbers = [3, 10, 9, 15, 22, 21, 30]\n",
    "\n",
    "print(\"Numbers divisible by 3:\")\n",
    "for num in numbers:\n",
    "    if num % 3 == 0:\n",
    "        print(num)"
   ]
  },
  {
   "cell_type": "code",
   "execution_count": 8,
   "id": "4ecdb384",
   "metadata": {},
   "outputs": [
    {
     "name": "stdout",
     "output_type": "stream",
     "text": [
      "Two-digit numbers in the list:\n",
      "12\n",
      "45\n",
      "99\n"
     ]
    }
   ],
   "source": [
    "# program to Find Two-Digit Numbers\n",
    "data = [5, 12, 110, 45, 9, 99, 101, 7]\n",
    "\n",
    "print(\"Two-digit numbers in the list:\")\n",
    "for number in data:\n",
    "    if number >= 10 and number <= 99:\n",
    "        print(number)"
   ]
  },
  {
   "cell_type": "markdown",
   "id": "cb648adb",
   "metadata": {},
   "source": [
    "###  Loop Control statements"
   ]
  },
  {
   "cell_type": "code",
   "execution_count": null,
   "id": "cc5cf826",
   "metadata": {},
   "outputs": [],
   "source": [
    "\n",
    "\n",
    "#break>> Exit the loop immediately.\n",
    "#continue>> Skip the current iteration and proceed to the next.\n",
    "#pass>> A placeholder for empty loops (avoids syntax errors)."
   ]
  },
  {
   "cell_type": "code",
   "execution_count": 4,
   "id": "fd4c9a4a",
   "metadata": {
    "scrolled": true
   },
   "outputs": [
    {
     "name": "stdout",
     "output_type": "stream",
     "text": [
      "1\n",
      "2\n"
     ]
    }
   ],
   "source": [
    "# to check if number 3 is there or not, if yes then stop the loop\n",
    "numbers = [1, 2, 3, 4, 5]  \n",
    "for num in numbers:  \n",
    "    if num == 3:  \n",
    "        break  \n",
    "    print(num)   "
   ]
  },
  {
   "cell_type": "markdown",
   "id": "5027c278",
   "metadata": {},
   "source": [
    "## program to find odd between range 0 to 5"
   ]
  },
  {
   "cell_type": "code",
   "execution_count": 1,
   "id": "2d3efa49",
   "metadata": {},
   "outputs": [
    {
     "name": "stdout",
     "output_type": "stream",
     "text": [
      "1\n",
      "3\n"
     ]
    }
   ],
   "source": [
    "#program to find odd between range 0 to 5\n",
    "\n",
    "for num in range(5):  #1 2 3 4\n",
    "    if num % 2 == 0:  \n",
    "        continue  \n",
    "    print(num)  # Output: 1, 3  "
   ]
  },
  {
   "cell_type": "code",
   "execution_count": 18,
   "id": "6211dd10",
   "metadata": {
    "scrolled": true
   },
   "outputs": [
    {
     "name": "stdout",
     "output_type": "stream",
     "text": [
      "0\n",
      "1\n",
      "2\n",
      "3\n",
      "4\n"
     ]
    }
   ],
   "source": [
    "for num in range(5):  #1 2 3 4\n",
    "    if num % 2 == 0:  \n",
    "        pass  \n",
    "    print(num) "
   ]
  },
  {
   "cell_type": "markdown",
   "id": "6f4aa897",
   "metadata": {},
   "source": [
    "# while loop"
   ]
  },
  {
   "cell_type": "code",
   "execution_count": null,
   "id": "8d990ce2",
   "metadata": {},
   "outputs": [],
   "source": []
  },
  {
   "cell_type": "markdown",
   "id": "a26c7ff1",
   "metadata": {},
   "source": [
    ">>> A while loop repeats a block of code as long as a condition is True. \n",
    ">>> It’s used when you don’t know the number of iterations in advance."
   ]
  },
  {
   "cell_type": "code",
   "execution_count": null,
   "id": "638e007e",
   "metadata": {},
   "outputs": [],
   "source": [
    ">>> The loop will keep running as long as the condition is True.\n",
    ">>> The moment the condition becomes False, the loop stops."
   ]
  },
  {
   "cell_type": "code",
   "execution_count": null,
   "id": "ec8c5eb5",
   "metadata": {},
   "outputs": [],
   "source": [
    "#syntax\n",
    "while condition:\n",
    "    #code that we want to repeat"
   ]
  },
  {
   "cell_type": "code",
   "execution_count": 10,
   "id": "e8409cf6",
   "metadata": {},
   "outputs": [
    {
     "name": "stdout",
     "output_type": "stream",
     "text": [
      "1\n",
      "2\n",
      "3\n",
      "4\n",
      "5\n"
     ]
    }
   ],
   "source": [
    "count = 1  \n",
    "\n",
    "while count <= 5:  \n",
    "    print(count)  \n",
    "    count += 1  # Increment to avoid infinite loop. Don't forget to update loop variable \n",
    "  "
   ]
  },
  {
   "cell_type": "code",
   "execution_count": 11,
   "id": "0be9bdeb",
   "metadata": {},
   "outputs": [
    {
     "name": "stdout",
     "output_type": "stream",
     "text": [
      "1\n",
      "2\n",
      "3\n",
      "4\n",
      "5\n",
      "Done counting!\n"
     ]
    }
   ],
   "source": [
    "count = 1\n",
    "while count <= 5:\n",
    "    print(count)\n",
    "    count = count + 1\n",
    "print(\"Done counting!\")"
   ]
  },
  {
   "cell_type": "code",
   "execution_count": 6,
   "id": "707a7ddc",
   "metadata": {},
   "outputs": [
    {
     "name": "stdout",
     "output_type": "stream",
     "text": [
      "5\n",
      "4\n",
      "3\n",
      "2\n",
      "1\n",
      "counter complete\n"
     ]
    }
   ],
   "source": [
    "count = 5\n",
    "\n",
    "while count > 0:\n",
    "    print(count)\n",
    "    count = count - 1\n",
    "print(\"counter complete\")"
   ]
  },
  {
   "cell_type": "code",
   "execution_count": null,
   "id": "ac2a9927",
   "metadata": {},
   "outputs": [],
   "source": []
  }
 ],
 "metadata": {
  "kernelspec": {
   "display_name": "Python 3 (ipykernel)",
   "language": "python",
   "name": "python3"
  },
  "language_info": {
   "codemirror_mode": {
    "name": "ipython",
    "version": 3
   },
   "file_extension": ".py",
   "mimetype": "text/x-python",
   "name": "python",
   "nbconvert_exporter": "python",
   "pygments_lexer": "ipython3",
   "version": "3.9.12"
  }
 },
 "nbformat": 4,
 "nbformat_minor": 5
}
