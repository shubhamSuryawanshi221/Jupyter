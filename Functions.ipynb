{
 "cells": [
  {
   "cell_type": "markdown",
   "id": "d34fb498",
   "metadata": {},
   "source": [
    "# Functions"
   ]
  },
  {
   "cell_type": "markdown",
   "id": "649e9268",
   "metadata": {},
   "source": [
    "Types of Functions-\n",
    "\n",
    ">> Built-in Functions : Already available in Python (e.g., print(), len(), sum(), min(),max(), type()) \n",
    ">> User-Defined Functions : Created by you (the programmer) using def.\n",
    ">> Lambda Functions : Small anonymous functions (used for quick tasks).\n",
    ">> Recursive Functions : Functions that call themselves (e.g., calculating factorials) \n"
   ]
  },
  {
   "cell_type": "markdown",
   "id": "ffcd80a3",
   "metadata": {},
   "source": [
    "\n",
    ">> Functions are resuable block of code that performs a specific, single task. You define it once and can use it many times.\n",
    ">> function run when it is called\n",
    ">> def keyword is used to define a function\n",
    ">> def function_name\n",
    "\n",
    "function_name >> we need to follow identifier rules\n",
    "to call the function use >> function_name()\n",
    "\n",
    "def function_name(parameters):\n",
    "    \"\"\"docstring...\"\"\"\n",
    "\n",
    "    \n",
    "parameters >>> optional- The inputs that the function accepts. These are variables that exist only inside the function.\n",
    "colon >> mandatory\n",
    "docstring >> Documentation string , used to describe functionality of function >> optional\n",
    "\n",
    "return >> optional\n",
    "\n",
    "Return >> used at the end of function\n",
    ">> if we want to continue with the result of our function and want to do some operation on result\n",
    "then we need to use return statement"
   ]
  },
  {
   "cell_type": "markdown",
   "id": "59db3776",
   "metadata": {},
   "source": [
    "# syntax"
   ]
  },
  {
   "cell_type": "code",
   "execution_count": null,
   "id": "3e59b3f2",
   "metadata": {},
   "outputs": [],
   "source": []
  },
  {
   "cell_type": "code",
   "execution_count": null,
   "id": "a387fd28",
   "metadata": {},
   "outputs": [],
   "source": [
    "def function_name(parameter):\n",
    "    \"\"\"Documentation string >> functionality \"\"\"\n",
    "    statement1\n",
    "    statement2\n",
    "    .\n",
    "    .\n",
    "    .\n",
    "    statementN\n",
    "    \n",
    "    return value\n",
    "\n",
    "\n",
    "\n",
    "\n",
    "function_name(argument)"
   ]
  },
  {
   "cell_type": "code",
   "execution_count": null,
   "id": "2c3cf370",
   "metadata": {},
   "outputs": [],
   "source": [
    "def function_name(a,b):\n",
    "    \"\"\"Documentation string >> functionality \"\"\"\n",
    "    statement1\n",
    "    statement2\n",
    "    .\n",
    "    .\n",
    "    .\n",
    "    statementN\n",
    "    \n",
    "    return value\n",
    "\n",
    "function_name(a,b)"
   ]
  },
  {
   "cell_type": "code",
   "execution_count": 1,
   "id": "bbe04012",
   "metadata": {},
   "outputs": [
    {
     "name": "stdout",
     "output_type": "stream",
     "text": [
      "hello jaisai welcome to our website\n"
     ]
    }
   ],
   "source": [
    "print(\"hello jaisai!  welcome to our website\")"
   ]
  },
  {
   "cell_type": "code",
   "execution_count": 8,
   "id": "7a9491b6",
   "metadata": {},
   "outputs": [
    {
     "name": "stdout",
     "output_type": "stream",
     "text": [
      "hello jaisai! welcome to our website\n",
      "hello ram! welcome to our website\n",
      "hello rohit! welcome to our website\n"
     ]
    }
   ],
   "source": [
    "def greeting(name):\n",
    "    print(f\"hello {name}! welcome to our website\")\n",
    "    \n",
    "greeting(\"jaisai\") \n",
    "greeting(\"ram\")\n",
    "greeting(\"rohit\")"
   ]
  },
  {
   "cell_type": "code",
   "execution_count": null,
   "id": "7784b5f7",
   "metadata": {},
   "outputs": [],
   "source": []
  },
  {
   "cell_type": "code",
   "execution_count": 1,
   "id": "32c6451c",
   "metadata": {},
   "outputs": [
    {
     "name": "stdout",
     "output_type": "stream",
     "text": [
      "hello,xyz welcome to python class \n",
      "hello,shivam welcome to python class \n"
     ]
    }
   ],
   "source": [
    "print(\"hello,xyz welcome to python class \")\n",
    "print(\"hello,shivam welcome to python class \")\n"
   ]
  },
  {
   "cell_type": "code",
   "execution_count": 3,
   "id": "928a44d4",
   "metadata": {},
   "outputs": [],
   "source": [
    "def greet(name):\n",
    "    print(f\"Hello, {name}! Welcome to Python class.\")\n",
    "    \n"
   ]
  },
  {
   "cell_type": "code",
   "execution_count": 4,
   "id": "0f7cf976",
   "metadata": {},
   "outputs": [
    {
     "name": "stdout",
     "output_type": "stream",
     "text": [
      "Hello, Raju! Welcome to Python class.\n"
     ]
    }
   ],
   "source": [
    "greet(\"Raju\")  \n"
   ]
  },
  {
   "cell_type": "code",
   "execution_count": 5,
   "id": "0ce08218",
   "metadata": {},
   "outputs": [
    {
     "name": "stdout",
     "output_type": "stream",
     "text": [
      "Hello, vikas! Welcome to Python class.\n"
     ]
    }
   ],
   "source": [
    "greet(\"vikas\")"
   ]
  },
  {
   "cell_type": "code",
   "execution_count": 4,
   "id": "4aeda338",
   "metadata": {},
   "outputs": [
    {
     "name": "stdout",
     "output_type": "stream",
     "text": [
      "hello python\n",
      "we are learning functions\n",
      "Machine Learning\n",
      "Python and Data Science\n",
      "********************************************************************************\n",
      "hello python\n",
      "we are learning functions\n",
      "Machine Learning\n",
      "Python and Data Science\n",
      "********************************************************************************\n",
      "hello python\n",
      "we are learning functions\n",
      "Machine Learning\n",
      "Python and Data Science\n"
     ]
    }
   ],
   "source": [
    "print('hello python')\n",
    "print('we are learning functions')\n",
    "print('Machine Learning')\n",
    "print('Python and Data Science')\n",
    "\n",
    "print('*'*80)\n",
    "\n",
    "x = 4\n",
    "y = 10\n",
    "\n",
    "print('hello python')\n",
    "print('we are learning functions')\n",
    "print('Machine Learning')\n",
    "print('Python and Data Science')\n",
    "\n",
    "x = 5\n",
    "y = 11\n",
    "\n",
    "print('*'*80)\n",
    "\n",
    "print('hello python')\n",
    "print('we are learning functions')\n",
    "print('Machine Learning')\n",
    "print('Python and Data Science')"
   ]
  },
  {
   "cell_type": "code",
   "execution_count": 8,
   "id": "4099982e",
   "metadata": {},
   "outputs": [
    {
     "name": "stdout",
     "output_type": "stream",
     "text": [
      "Deep Learning\n",
      "hello python\n",
      "we are learning functions\n",
      "Machine Learning\n",
      "Python and Data Science\n"
     ]
    }
   ],
   "source": [
    "def testing():\n",
    "    print('hello python')\n",
    "    print('we are learning functions')\n",
    "    print('Machine Learning')\n",
    "    print('Python and Data Science')\n",
    "\n",
    "print('Deep Learning')\n",
    "\n",
    "testing()"
   ]
  },
  {
   "cell_type": "code",
   "execution_count": 9,
   "id": "b25d778e",
   "metadata": {},
   "outputs": [
    {
     "name": "stdout",
     "output_type": "stream",
     "text": [
      "hello python\n",
      "we are learning functions\n",
      "Machine Learning\n",
      "Python and Data Science\n"
     ]
    }
   ],
   "source": [
    "testing()"
   ]
  },
  {
   "cell_type": "code",
   "execution_count": 9,
   "id": "68acb3eb",
   "metadata": {},
   "outputs": [
    {
     "name": "stdout",
     "output_type": "stream",
     "text": [
      "we are in my_function\n"
     ]
    }
   ],
   "source": [
    "def my_function():\n",
    "    print('we are in my_function')\n",
    "    \n",
    "my_function()"
   ]
  },
  {
   "cell_type": "markdown",
   "id": "8b4c9656",
   "metadata": {},
   "source": [
    "## program to calculate the average of 3 numbers\n"
   ]
  },
  {
   "cell_type": "code",
   "execution_count": 12,
   "id": "28632153",
   "metadata": {},
   "outputs": [
    {
     "name": "stdout",
     "output_type": "stream",
     "text": [
      "a == 10, b == 20, c == 50\n",
      "average of 3 number is:  26.666666666666668\n",
      "a == 52, b == 26, c == 59\n",
      "average of 3 number is:  45.666666666666664\n",
      "a == 152, b == 208, c == 500\n",
      "average of 3 number is:  286.6666666666667\n"
     ]
    }
   ],
   "source": [
    "#program to calculate the average of 3 numbers\n",
    "\n",
    "a = 10\n",
    "b = 20\n",
    "c = 50\n",
    "\n",
    "print(f\"a == {a}, b == {b}, c == {c}\")\n",
    "\n",
    "avg = (a+b+c)/3\n",
    "\n",
    "print('average of 3 number is: ',avg)\n",
    "\n",
    "a = 52\n",
    "b = 26\n",
    "c = 59\n",
    "\n",
    "print(f\"a == {a}, b == {b}, c == {c}\")\n",
    "\n",
    "avg = (a+b+c)/3\n",
    "\n",
    "print('average of 3 number is: ',avg)\n",
    "\n",
    "a = 152\n",
    "b = 208\n",
    "c = 500\n",
    "\n",
    "print(f\"a == {a}, b == {b}, c == {c}\")\n",
    "\n",
    "avg = (a+b+c)/3\n",
    "\n",
    "print('average of 3 number is: ',avg)"
   ]
  },
  {
   "cell_type": "code",
   "execution_count": 10,
   "id": "1a0281ce",
   "metadata": {},
   "outputs": [],
   "source": [
    "#same operation/program by using function.\n",
    "\n",
    "def average(a,b,c):\n",
    "    print(f\"a == {a}, b == {b}, c == {c}\")\n",
    "    avg = (a+b+c)/3\n",
    "    print('average of 3 number is: ',avg)\n",
    "\n"
   ]
  },
  {
   "cell_type": "code",
   "execution_count": 12,
   "id": "54db4a2a",
   "metadata": {},
   "outputs": [
    {
     "name": "stdout",
     "output_type": "stream",
     "text": [
      "a == 21, b == 45, c == 56\n",
      "average of 3 number is:  40.666666666666664\n",
      "a == 10, b == 20, c == 50\n",
      "average of 3 number is:  26.666666666666668\n"
     ]
    }
   ],
   "source": [
    "average(21,45,56)\n",
    "\n",
    "\n",
    "average(10,20,50)\n",
    "# average(52,26,59)\n",
    "# average(152,208,500)"
   ]
  },
  {
   "cell_type": "code",
   "execution_count": 19,
   "id": "4dc0e232",
   "metadata": {
    "scrolled": true
   },
   "outputs": [
    {
     "name": "stdout",
     "output_type": "stream",
     "text": [
      "a == 10, b == 20, c == 50\n"
     ]
    },
    {
     "data": {
      "text/plain": [
       "26.666666666666668"
      ]
     },
     "execution_count": 19,
     "metadata": {},
     "output_type": "execute_result"
    }
   ],
   "source": [
    "def average(a,b,c):\n",
    "    print(f\"a == {a}, b == {b}, c == {c}\")\n",
    "    avg = (a+b+c)/3\n",
    "    return avg\n",
    "\n",
    "average(10,20,50)\n",
    "# average(52,26,59)\n",
    "# average(152,208,500)"
   ]
  },
  {
   "cell_type": "code",
   "execution_count": 3,
   "id": "f46c0d05",
   "metadata": {},
   "outputs": [
    {
     "name": "stdout",
     "output_type": "stream",
     "text": [
      "a == 10, b == 20, c == 50\n"
     ]
    },
    {
     "data": {
      "text/plain": [
       "85"
      ]
     },
     "execution_count": 3,
     "metadata": {},
     "output_type": "execute_result"
    }
   ],
   "source": [
    "def addition(a,b,c):\n",
    "    print(f\"a == {a}, b == {b}, c == {c}\")\n",
    "    add = (a+b+c)\n",
    "    return add +5\n",
    "\n",
    "addition(10,20,50)"
   ]
  },
  {
   "cell_type": "code",
   "execution_count": 13,
   "id": "ad66db21",
   "metadata": {},
   "outputs": [],
   "source": [
    "def addition(a,b,c):\n",
    "    print(f\"a == {a}, b == {b}, c == {c}\")\n",
    "    add = (a+b+c)\n",
    "    print(add + 5)"
   ]
  },
  {
   "cell_type": "code",
   "execution_count": 14,
   "id": "8707be9d",
   "metadata": {},
   "outputs": [
    {
     "name": "stdout",
     "output_type": "stream",
     "text": [
      "a == 10, b == 20, c == 50\n",
      "85\n"
     ]
    }
   ],
   "source": [
    "addition(10, 20, 50)"
   ]
  },
  {
   "cell_type": "code",
   "execution_count": 15,
   "id": "71fadce6",
   "metadata": {
    "scrolled": true
   },
   "outputs": [
    {
     "name": "stdout",
     "output_type": "stream",
     "text": [
      "a == 10, b == 20, c == 50\n",
      "85\n"
     ]
    }
   ],
   "source": [
    "result = addition(10, 20, 50)"
   ]
  },
  {
   "cell_type": "code",
   "execution_count": 16,
   "id": "c5c118b1",
   "metadata": {
    "scrolled": false
   },
   "outputs": [
    {
     "name": "stdout",
     "output_type": "stream",
     "text": [
      "None\n"
     ]
    }
   ],
   "source": [
    "print(result)"
   ]
  },
  {
   "cell_type": "code",
   "execution_count": 17,
   "id": "c452c99b",
   "metadata": {},
   "outputs": [],
   "source": [
    "def addition(a,b,c):\n",
    "    print(f\"a == {a}, b == {b}, c == {c}\")\n",
    "    add = (a+b+c)\n",
    "    return add"
   ]
  },
  {
   "cell_type": "code",
   "execution_count": 18,
   "id": "f52a39b1",
   "metadata": {},
   "outputs": [
    {
     "name": "stdout",
     "output_type": "stream",
     "text": [
      "a == 1, b == 2, c == 3\n"
     ]
    },
    {
     "data": {
      "text/plain": [
       "6"
      ]
     },
     "execution_count": 18,
     "metadata": {},
     "output_type": "execute_result"
    }
   ],
   "source": [
    "addition(1,2,3)"
   ]
  },
  {
   "cell_type": "code",
   "execution_count": 19,
   "id": "4fee2ffc",
   "metadata": {},
   "outputs": [
    {
     "name": "stdout",
     "output_type": "stream",
     "text": [
      "a == 1, b == 2, c == 3\n"
     ]
    }
   ],
   "source": [
    "result = addition(1,2,3)\n"
   ]
  },
  {
   "cell_type": "code",
   "execution_count": 28,
   "id": "fd39f684",
   "metadata": {},
   "outputs": [
    {
     "name": "stdout",
     "output_type": "stream",
     "text": [
      "6\n"
     ]
    }
   ],
   "source": [
    "print(result)"
   ]
  },
  {
   "cell_type": "raw",
   "id": "4487541d",
   "metadata": {},
   "source": [
    ">>> `print` displays information on the screen. It's like showing something to the user. \n",
    ">>> `return` sends a value back from a function. This value can then be used in other parts of your code."
   ]
  },
  {
   "cell_type": "code",
   "execution_count": 30,
   "id": "d59ad2e1",
   "metadata": {},
   "outputs": [
    {
     "name": "stdout",
     "output_type": "stream",
     "text": [
      "**************************************************\n",
      "a == 10, b == 20, c == 50\n"
     ]
    },
    {
     "data": {
      "text/plain": [
       "75"
      ]
     },
     "execution_count": 30,
     "metadata": {},
     "output_type": "execute_result"
    }
   ],
   "source": [
    "def addition(a,b,c):\n",
    "    print('*'*50)\n",
    "    print(f\"a == {a}, b == {b}, c == {c}\")  \n",
    "    add = (a+b+c)\n",
    "    return add - 5\n",
    "    \n",
    "\n",
    "\n",
    "\n",
    "addition(10,20,50)"
   ]
  },
  {
   "cell_type": "code",
   "execution_count": 31,
   "id": "ed3bb217",
   "metadata": {},
   "outputs": [
    {
     "ename": "IndentationError",
     "evalue": "expected an indented block (3188005223.py, line 3)",
     "output_type": "error",
     "traceback": [
      "\u001b[1;36m  Input \u001b[1;32mIn [31]\u001b[1;36m\u001b[0m\n\u001b[1;33m    my_fun()\u001b[0m\n\u001b[1;37m    ^\u001b[0m\n\u001b[1;31mIndentationError\u001b[0m\u001b[1;31m:\u001b[0m expected an indented block\n"
     ]
    }
   ],
   "source": [
    "def my_fun():\n",
    "    \n",
    "my_fun()"
   ]
  },
  {
   "cell_type": "code",
   "execution_count": 32,
   "id": "f25fd2ef",
   "metadata": {},
   "outputs": [],
   "source": [
    "def my_fun():\n",
    "    pass\n",
    "    \n",
    "my_fun()"
   ]
  },
  {
   "cell_type": "markdown",
   "id": "30229af2",
   "metadata": {},
   "source": [
    "# factorial"
   ]
  },
  {
   "cell_type": "markdown",
   "id": "071d47b5",
   "metadata": {},
   "source": [
    "## write a code to find factorial of a number"
   ]
  },
  {
   "cell_type": "code",
   "execution_count": null,
   "id": "f695fb4d",
   "metadata": {},
   "outputs": [],
   "source": [
    "5>>5*4*3*2*1"
   ]
  },
  {
   "cell_type": "code",
   "execution_count": 20,
   "id": "50ba00b4",
   "metadata": {},
   "outputs": [
    {
     "name": "stdout",
     "output_type": "stream",
     "text": [
      "Factorial of 5 is : 120\n"
     ]
    }
   ],
   "source": [
    "#write a code to find factorial of a number\n",
    "num =5\n",
    "fact =1 #1>>>1*2>>>>>1*2*3>>>1*2*3*4>>>>1*2*3*4*5\n",
    "if num <0:\n",
    "    print('Factorial does not exists')\n",
    "else:\n",
    "    for i in range(1,num+1):    #range from 1 to 6>>>>1,2,3,4,5\n",
    "        fact*=i\n",
    "    print(f\"Factorial of {num} is : {fact}\")"
   ]
  },
  {
   "cell_type": "code",
   "execution_count": 34,
   "id": "3c2137bb",
   "metadata": {},
   "outputs": [
    {
     "name": "stdout",
     "output_type": "stream",
     "text": [
      "Factorial of 5 is : 120\n",
      "Factorial of 9 is : 362880\n",
      "Factorial of 4 is : 24\n",
      "Factorial of 2 is : 2\n"
     ]
    }
   ],
   "source": [
    "num =5\n",
    "fact =1\n",
    "if num <0:\n",
    "    print('Factorial does not exists')\n",
    "else:\n",
    "    for i in range(1,num+1):\n",
    "        fact*=i\n",
    "    print(f\"Factorial of {num} is : {fact}\")\n",
    "\n",
    "    \n",
    "    \n",
    "num =9\n",
    "fact =1\n",
    "if num <0:\n",
    "    print('Factorial does not exists')\n",
    "else:\n",
    "    for i in range(1,num+1):\n",
    "        fact*=i\n",
    "    print(f\"Factorial of {num} is : {fact}\")\n",
    "    \n",
    "num =4\n",
    "fact =1\n",
    "if num <0:\n",
    "    print('Factorial does not exists')\n",
    "else:\n",
    "    for i in range(1,num+1):\n",
    "        fact*=i\n",
    "    print(f\"Factorial of {num} is : {fact}\")\n",
    "\n",
    "num =2\n",
    "fact =1\n",
    "if num <0:\n",
    "    print('Factorial does not exists')\n",
    "else:\n",
    "    for i in range(1,num+1):\n",
    "        fact*=i\n",
    "    print(f\"Factorial of {num} is : {fact}\")\n",
    "    \n"
   ]
  },
  {
   "cell_type": "code",
   "execution_count": 2,
   "id": "0c8a1d08",
   "metadata": {},
   "outputs": [
    {
     "name": "stdout",
     "output_type": "stream",
     "text": [
      "Factorial of 5 is : 120\n",
      "Factorial of 13 is : 6227020800\n",
      "Factorial of 9 is : 362880\n",
      "Factorial of 4 is : 24\n",
      "this is documentation string>>> this function is used for finding the factorial of number\n"
     ]
    }
   ],
   "source": [
    "def factorial(num):\n",
    "    \"\"\"this is documentation string>>> this function is used for finding the factorial of number\"\"\"\n",
    "    fact =1\n",
    "    if num <0:\n",
    "        print('Factorial does not exists')\n",
    "    else:\n",
    "        for i in range(1,num+1):\n",
    "            fact*=i\n",
    "    print(f\"Factorial of {num} is : {fact}\")\n",
    "\n",
    "factorial(5)\n",
    "factorial(13)\n",
    "factorial(9)\n",
    "factorial(4)\n",
    "# factorial(2)\n",
    "# factorial(7)\n",
    "print(factorial.__doc__)    #to get the documentation string"
   ]
  },
  {
   "cell_type": "code",
   "execution_count": 3,
   "id": "37445555",
   "metadata": {},
   "outputs": [
    {
     "name": "stdout",
     "output_type": "stream",
     "text": [
      "Factorial of 4 is : 24\n"
     ]
    }
   ],
   "source": [
    "factorial(4)"
   ]
  },
  {
   "cell_type": "markdown",
   "id": "eed7a45a",
   "metadata": {},
   "source": [
    "# sum()"
   ]
  },
  {
   "cell_type": "code",
   "execution_count": 51,
   "id": "12706581",
   "metadata": {},
   "outputs": [
    {
     "name": "stdout",
     "output_type": "stream",
     "text": [
      "25\n",
      "21\n",
      "24\n"
     ]
    }
   ],
   "source": [
    "list1 = [3,4,5,6,7]\n",
    "tuple1 = (1,2,4,5,9)\n",
    "set1= {4,5,8,7}\n",
    "\n",
    "x = sum(list1)\n",
    "y = sum(tuple1)\n",
    "z = sum(set1)\n",
    "print(x)\n",
    "print(y)\n",
    "print(z)"
   ]
  },
  {
   "cell_type": "code",
   "execution_count": 57,
   "id": "ff5b67c5",
   "metadata": {
    "scrolled": true
   },
   "outputs": [
    {
     "name": "stdout",
     "output_type": "stream",
     "text": [
      "25\n",
      "21\n",
      "24\n",
      "This function is used to find sum of iterable items\n"
     ]
    }
   ],
   "source": [
    "list1 = [3,4,5,6,7]\n",
    "tuple1 = (1,2,4,5,9)\n",
    "set1= {4,5,8,7}\n",
    "\n",
    "def get_sum(iterable):\n",
    "    \"\"\"This function is used to find sum of iterable items\"\"\"\n",
    "    sum1 =0\n",
    "    for i in iterable:\n",
    "        sum1+=i\n",
    "    return sum1\n",
    "    \n",
    "x =get_sum(list1)\n",
    "y =get_sum(tuple1)\n",
    "z =get_sum(set1)   \n",
    "    \n",
    "print(x)\n",
    "print(y)\n",
    "print(z)\n",
    "print(get_sum.__doc__)"
   ]
  },
  {
   "cell_type": "code",
   "execution_count": 4,
   "id": "f84f3032",
   "metadata": {},
   "outputs": [
    {
     "name": "stdout",
     "output_type": "stream",
     "text": [
      "Factorial of 4 is : 24\n",
      "this is documentation string>>> this function is used for finding the factorial of number\n"
     ]
    }
   ],
   "source": [
    "factorial(4)\n",
    "print(factorial.__doc__)"
   ]
  },
  {
   "cell_type": "code",
   "execution_count": 10,
   "id": "7120ff37",
   "metadata": {},
   "outputs": [
    {
     "name": "stdout",
     "output_type": "stream",
     "text": [
      "25\n",
      "21\n",
      "24\n",
      "PYTHON\n",
      "PYTHON\n",
      "PYTHON\n",
      "This function is used to find sum of iterable items\n"
     ]
    }
   ],
   "source": [
    "list1 = [3,4,5,6,7]\n",
    "tuple1 = (1,2,4,5,9)\n",
    "set1= {4,5,8,7}\n",
    "\n",
    "def get_sum(iterable):\n",
    "    \"\"\"This function is used to find sum of iterable items\"\"\"\n",
    "    sum1 =0\n",
    "    for i in iterable:\n",
    "        sum1+=i\n",
    "    print(sum1)\n",
    "    return 'PYTHON'\n",
    "    \n",
    "x =get_sum(list1)\n",
    "y =get_sum(tuple1)\n",
    "z =get_sum(set1)   \n",
    "    \n",
    "print(x)\n",
    "print(y)\n",
    "print(z)\n",
    "print(get_sum.__doc__)"
   ]
  },
  {
   "cell_type": "code",
   "execution_count": 60,
   "id": "2da71663",
   "metadata": {
    "scrolled": true
   },
   "outputs": [
    {
     "name": "stdout",
     "output_type": "stream",
     "text": [
      "This function is used to find sum of iterable items\n"
     ]
    }
   ],
   "source": [
    "print(get_sum.__doc__)"
   ]
  },
  {
   "cell_type": "code",
   "execution_count": 63,
   "id": "04b4c3c6",
   "metadata": {},
   "outputs": [
    {
     "name": "stdout",
     "output_type": "stream",
     "text": [
      "25\n",
      "21\n",
      "24\n",
      "PYTHON\n",
      "PYTHON\n",
      "PYTHON\n",
      "Data science is an interdisciplinary field that uses scientific methods, processes, algorithms and systems to extract knowledge and insights from noisy, structured and unstructured data, and apply knowledge from data across a broad range of application domains\n"
     ]
    }
   ],
   "source": [
    "list1 = [3,4,5,6,7]\n",
    "tuple1 = (1,2,4,5,9)\n",
    "set1= {4,5,8,7}\n",
    "\n",
    "def get_sum(iterable):\n",
    "    \"\"\"Data science is an interdisciplinary field that uses scientific methods, processes, algorithms and systems to extract knowledge and insights from noisy, structured and unstructured data, and apply knowledge from data across a broad range of application domains\"\"\"\n",
    "    sum1 =0\n",
    "    for i in iterable:\n",
    "        sum1+=i\n",
    "    print(sum1)\n",
    "        \n",
    "    return 'PYTHON'\n",
    "\n",
    "    \n",
    "x =get_sum(list1)\n",
    "y =get_sum(tuple1)\n",
    "z =get_sum(set1)   \n",
    "    \n",
    "print(x)\n",
    "print(y)\n",
    "print(z)\n",
    "print(get_sum.__doc__)"
   ]
  },
  {
   "cell_type": "code",
   "execution_count": 36,
   "id": "93929530",
   "metadata": {},
   "outputs": [
    {
     "name": "stdout",
     "output_type": "stream",
     "text": [
      "25\n",
      "21\n",
      "24\n",
      "PYTHON\n",
      "PYTHON\n",
      "PYTHON\n",
      "None\n"
     ]
    }
   ],
   "source": [
    "list1 = [3,4,5,6,7]\n",
    "tuple1 = (1,2,4,5,9)\n",
    "set1= {4,5,8,7}\n",
    "\n",
    "def get_sum(iterable):\n",
    "#    \"\"\"Data science is an interdisciplinary field that uses scientific methods, processes, algorithms and systems to extract knowledge and insights from noisy, structured and unstructured data, and apply knowledge from data across a broad range of application domains\"\"\"\n",
    "    sum1 =0\n",
    "    for i in iterable:\n",
    "        sum1+=i\n",
    "    print(sum1)\n",
    "        \n",
    "    return 'PYTHON'\n",
    "\n",
    "    \n",
    "x =get_sum(list1)\n",
    "y =get_sum(tuple1)\n",
    "z =get_sum(set1)   \n",
    "    \n",
    "print(x)\n",
    "print(y)\n",
    "print(z)\n",
    "print(get_sum.__doc__)"
   ]
  },
  {
   "cell_type": "code",
   "execution_count": 16,
   "id": "69d0cb62",
   "metadata": {},
   "outputs": [
    {
     "name": "stdout",
     "output_type": "stream",
     "text": [
      "(21, 360)\n"
     ]
    }
   ],
   "source": [
    "def calculation(iterable):\n",
    "    sum1 =0\n",
    "    mul = 1\n",
    "    for i in iterable:\n",
    "        sum1+= i\n",
    "        mul*= i\n",
    "    return sum1,mul\n",
    "\n",
    "list1 = [3,4,8,6,7]\n",
    "tuple1 = (1,2,4,5,9)\n",
    "set1= {4,5,8,7}\n",
    "\n",
    "calculation(list1)\n",
    "a=calculation(tuple1)\n",
    "#print(a)\n",
    "print(a)"
   ]
  }
 ],
 "metadata": {
  "kernelspec": {
   "display_name": "Python 3 (ipykernel)",
   "language": "python",
   "name": "python3"
  },
  "language_info": {
   "codemirror_mode": {
    "name": "ipython",
    "version": 3
   },
   "file_extension": ".py",
   "mimetype": "text/x-python",
   "name": "python",
   "nbconvert_exporter": "python",
   "pygments_lexer": "ipython3",
   "version": "3.9.12"
  }
 },
 "nbformat": 4,
 "nbformat_minor": 5
}
