{
 "cells": [
  {
   "cell_type": "markdown",
   "id": "9e17c903",
   "metadata": {},
   "source": [
    "# Datetime"
   ]
  },
  {
   "cell_type": "code",
   "execution_count": null,
   "id": "ad43be43",
   "metadata": {},
   "outputs": [],
   "source": [
    ">> The datetime module supplies classes to work with dates and times. \n",
    ">> These classes provide a way to represent and manipulate date and time information in a more object-oriented manner       compared to simply using strings or numbers. \n",
    ">> The primary classes within the datetime module are:"
   ]
  },
  {
   "cell_type": "code",
   "execution_count": null,
   "id": "90a1cce2",
   "metadata": {},
   "outputs": [],
   "source": []
  },
  {
   "cell_type": "code",
   "execution_count": null,
   "id": "26886d2f",
   "metadata": {},
   "outputs": [],
   "source": [
    "log file>>>\n",
    "facebook:\n",
    "    1st login\n",
    "    last successful\n",
    "    last unsuccessful\n",
    "    active session\n",
    "upload time and date\n",
    "logistic regression >>> 30 min start and end \n",
    "KNN >> 50 min "
   ]
  },
  {
   "cell_type": "code",
   "execution_count": null,
   "id": "ef3b6531",
   "metadata": {},
   "outputs": [],
   "source": [
    "datetime.date: Represents a date (year, month, day).\n",
    "datetime.time: Represents a time (hour, minute, second, microsecond).\n",
    "datetime.datetime: Represents a specific point in time, combining date and time.\n",
    "datetime.timedelta: Represents a duration, the difference between two dates or times."
   ]
  },
  {
   "cell_type": "code",
   "execution_count": null,
   "id": "f84f6d13",
   "metadata": {},
   "outputs": [],
   "source": [
    "date1 = 15-08-2025\n",
    "date2 = 15 Aug 2025\n",
    "date3 = 15 August 2025\n",
    "date4 = 15.08.2025\n",
    "date5 = 2025-08-15"
   ]
  },
  {
   "cell_type": "code",
   "execution_count": null,
   "id": "362c51ab",
   "metadata": {},
   "outputs": [],
   "source": [
    "import time    >>> for time\n",
    "import datetime  >> for datetime"
   ]
  },
  {
   "cell_type": "code",
   "execution_count": 1,
   "id": "8d47f53d",
   "metadata": {},
   "outputs": [],
   "source": [
    "import time\n",
    "import datetime\n"
   ]
  },
  {
   "cell_type": "markdown",
   "id": "8b0785b0",
   "metadata": {},
   "source": [
    "# Time()"
   ]
  },
  {
   "cell_type": "code",
   "execution_count": 5,
   "id": "c56d5d7f",
   "metadata": {},
   "outputs": [
    {
     "data": {
      "text/plain": [
       "1747793150.5593634"
      ]
     },
     "execution_count": 5,
     "metadata": {},
     "output_type": "execute_result"
    }
   ],
   "source": [
    "time.time()   #>> epoch time in seconds since  1 Jan 1970 UTC"
   ]
  },
  {
   "cell_type": "code",
   "execution_count": 4,
   "id": "1e364f59",
   "metadata": {},
   "outputs": [
    {
     "data": {
      "text/plain": [
       "1755743370.432358"
      ]
     },
     "execution_count": 4,
     "metadata": {},
     "output_type": "execute_result"
    }
   ],
   "source": [
    "time.time()"
   ]
  },
  {
   "cell_type": "markdown",
   "id": "b2104698",
   "metadata": {},
   "source": [
    "## 1. time.time()"
   ]
  },
  {
   "cell_type": "code",
   "execution_count": 5,
   "id": "648378db",
   "metadata": {},
   "outputs": [
    {
     "name": "stdout",
     "output_type": "stream",
     "text": [
      "total_time requitrd for processing 0.12700819969177246\n"
     ]
    }
   ],
   "source": [
    "start_time = time.time() #\n",
    "\n",
    "\n",
    "for i in range(2000000):\n",
    "    pass\n",
    "\n",
    "\n",
    "end_time = time.time()\n",
    "\n",
    "total_time = end_time - start_time\n",
    "print('total_time requitrd for processing',total_time)"
   ]
  },
  {
   "cell_type": "code",
   "execution_count": 6,
   "id": "e566ebf4",
   "metadata": {},
   "outputs": [
    {
     "name": "stdout",
     "output_type": "stream",
     "text": [
      "total_time requitrd for processing 10.176283121109009\n"
     ]
    }
   ],
   "source": [
    "start_time = time.time()\n",
    "\n",
    "for i in range(200000000):\n",
    "    pass\n",
    "\n",
    "end_time = time.time()\n",
    "\n",
    "total_time = end_time - start_time\n",
    "print('total_time requitrd for processing',total_time)"
   ]
  },
  {
   "cell_type": "code",
   "execution_count": 9,
   "id": "5f76c0c9",
   "metadata": {},
   "outputs": [
    {
     "name": "stdout",
     "output_type": "stream",
     "text": [
      "Testing time taken by function\n",
      "total_time requitrd for processing 1.2560901641845703\n"
     ]
    }
   ],
   "source": [
    "start_time = time.time()\n",
    "\n",
    "def test_time():\n",
    "    print('Testing time taken by function')\n",
    "    for i in range(30000000):\n",
    "        pass\n",
    "test_time()\n",
    "end_time = time.time()\n",
    "total_time = end_time - start_time\n",
    "print('total_time requitrd for processing',total_time)"
   ]
  },
  {
   "cell_type": "markdown",
   "id": "a873c9a5",
   "metadata": {},
   "source": [
    "## 2. time.perf_counter()"
   ]
  },
  {
   "cell_type": "code",
   "execution_count": null,
   "id": "01bafdb7",
   "metadata": {},
   "outputs": [],
   "source": [
    ">> measure the time elapsed between two points in your code."
   ]
  },
  {
   "cell_type": "code",
   "execution_count": 7,
   "id": "087aeb36",
   "metadata": {},
   "outputs": [
    {
     "name": "stdout",
     "output_type": "stream",
     "text": [
      "Testing time taken by function\n",
      "Testing time taken by function 9.073516499999869\n"
     ]
    }
   ],
   "source": [
    "start_time = time.perf_counter()\n",
    "\n",
    "def test_time():\n",
    "    print('Testing time taken by function')\n",
    "    for i in range(300000000):\n",
    "        pass\n",
    "    \n",
    "test_time()\n",
    "end_time = time.perf_counter()\n",
    "total_time = end_time - start_time\n",
    "print('Testing time taken by function',total_time)"
   ]
  },
  {
   "cell_type": "markdown",
   "id": "6df8d888",
   "metadata": {},
   "source": [
    "## 3. time.sleep()"
   ]
  },
  {
   "cell_type": "code",
   "execution_count": 9,
   "id": "b0af456a",
   "metadata": {},
   "outputs": [
    {
     "name": "stdout",
     "output_type": "stream",
     "text": [
      "python\n",
      "Data Science\n"
     ]
    }
   ],
   "source": [
    "print('python')\n",
    "print('Data Science')"
   ]
  },
  {
   "cell_type": "code",
   "execution_count": 14,
   "id": "559d1261",
   "metadata": {},
   "outputs": [
    {
     "name": "stdout",
     "output_type": "stream",
     "text": [
      "first line\n",
      "second line\n"
     ]
    }
   ],
   "source": [
    "print(\"first line\")\n",
    "time.sleep(3)\n",
    "print(\"second line\")\n",
    "time.sleep(3)"
   ]
  },
  {
   "cell_type": "code",
   "execution_count": 11,
   "id": "ed7df11f",
   "metadata": {},
   "outputs": [
    {
     "name": "stdout",
     "output_type": "stream",
     "text": [
      "python\n",
      "Data Science\n"
     ]
    }
   ],
   "source": [
    "print('python')   #instant execution\n",
    "time.sleep(5)\n",
    "print('Data Science')    # it should be executed after 5  sec "
   ]
  },
  {
   "cell_type": "code",
   "execution_count": 13,
   "id": "c7d02d5f",
   "metadata": {},
   "outputs": [
    {
     "name": "stdout",
     "output_type": "stream",
     "text": [
      "python\n",
      "Data Science\n",
      "Data Science\n"
     ]
    }
   ],
   "source": [
    "print('python')   \n",
    "time.sleep(0.003)\n",
    "print('Data Science') \n",
    "time.sleep(0.4)\n",
    "print('Data Science') \n",
    "time.sleep(0.4)"
   ]
  },
  {
   "cell_type": "code",
   "execution_count": 14,
   "id": "d2cb2b98",
   "metadata": {},
   "outputs": [
    {
     "name": "stdout",
     "output_type": "stream",
     "text": [
      "python\n",
      "Data Science\n",
      "Data Science\n",
      "total_time requitrd for processing 9.006592988967896\n"
     ]
    }
   ],
   "source": [
    "start_time = time.time()\n",
    "def test():\n",
    "    print('python')   \n",
    "    time.sleep(2)\n",
    "    print('Data Science') \n",
    "    time.sleep(3)\n",
    "    print('Data Science') \n",
    "    time.sleep(4)\n",
    "\n",
    "test()\n",
    "\n",
    "end_time = time.time()\n",
    "total_time = end_time - start_time\n",
    "print('total_time requitrd for processing',total_time)"
   ]
  },
  {
   "cell_type": "markdown",
   "id": "2bb993f1",
   "metadata": {},
   "source": [
    "# Datetime()"
   ]
  },
  {
   "cell_type": "markdown",
   "id": "2bf054d3",
   "metadata": {},
   "source": [
    "### 1. Current Datetime"
   ]
  },
  {
   "cell_type": "code",
   "execution_count": 16,
   "id": "ecaed228",
   "metadata": {},
   "outputs": [
    {
     "data": {
      "text/plain": [
       "datetime.datetime(2025, 8, 21, 8, 20, 1, 446575)"
      ]
     },
     "execution_count": 16,
     "metadata": {},
     "output_type": "execute_result"
    }
   ],
   "source": [
    "import datetime\n",
    "cutrretnt_datetime = datetime.datetime.now()\n",
    "cutrretnt_datetime    # year , month , date, hour, minute, second, nsec"
   ]
  },
  {
   "cell_type": "markdown",
   "id": "6a9cc282",
   "metadata": {},
   "source": [
    "### now()"
   ]
  },
  {
   "cell_type": "code",
   "execution_count": 17,
   "id": "7cd0f507",
   "metadata": {},
   "outputs": [
    {
     "name": "stdout",
     "output_type": "stream",
     "text": [
      "Current Datetime:  2025-08-21 08:20:19.815418\n"
     ]
    }
   ],
   "source": [
    "cutrretnt_datetime = datetime.datetime.now()\n",
    "print('Current Datetime: ',cutrretnt_datetime)"
   ]
  },
  {
   "cell_type": "markdown",
   "id": "8cc4ccf8",
   "metadata": {},
   "source": [
    "### today()"
   ]
  },
  {
   "cell_type": "code",
   "execution_count": 18,
   "id": "25294b7e",
   "metadata": {},
   "outputs": [
    {
     "name": "stdout",
     "output_type": "stream",
     "text": [
      "Today Datetime:  2025-08-21 08:21:24.921725\n"
     ]
    }
   ],
   "source": [
    "cutrretnt_datetime = datetime.datetime.today()\n",
    "print('Today Datetime: ',cutrretnt_datetime)"
   ]
  },
  {
   "cell_type": "markdown",
   "id": "589a5ac3",
   "metadata": {},
   "source": [
    "### current_date()"
   ]
  },
  {
   "cell_type": "code",
   "execution_count": 20,
   "id": "18984b93",
   "metadata": {},
   "outputs": [
    {
     "name": "stdout",
     "output_type": "stream",
     "text": [
      "Current Date:  2025-08-21\n"
     ]
    },
    {
     "data": {
      "text/plain": [
       "datetime.date(2025, 8, 21)"
      ]
     },
     "execution_count": 20,
     "metadata": {},
     "output_type": "execute_result"
    }
   ],
   "source": [
    "current_date = datetime.datetime.now().date()\n",
    "print('Current Date: ',current_date)\n",
    "current_date"
   ]
  },
  {
   "cell_type": "code",
   "execution_count": 5,
   "id": "338f058c",
   "metadata": {},
   "outputs": [
    {
     "name": "stdout",
     "output_type": "stream",
     "text": [
      "Current Date:  2025-08-21\n"
     ]
    }
   ],
   "source": [
    "current_date = datetime.datetime.today().date()\n",
    "print('Current Date: ',current_date)"
   ]
  },
  {
   "cell_type": "markdown",
   "id": "7495e1dc",
   "metadata": {},
   "source": [
    "### current time"
   ]
  },
  {
   "cell_type": "code",
   "execution_count": 22,
   "id": "edd27ff8",
   "metadata": {},
   "outputs": [
    {
     "name": "stdout",
     "output_type": "stream",
     "text": [
      "Current time:  08:23:25.209233\n"
     ]
    }
   ],
   "source": [
    "current_time = datetime.datetime.now().time()\n",
    "print('Current time: ',current_time)"
   ]
  },
  {
   "cell_type": "code",
   "execution_count": 7,
   "id": "4053a5a2",
   "metadata": {},
   "outputs": [
    {
     "name": "stdout",
     "output_type": "stream",
     "text": [
      "Current time:  00:51:26.966523\n"
     ]
    }
   ],
   "source": [
    "current_time = datetime.datetime.today().time()\n",
    "print('Current time: ',current_time)"
   ]
  },
  {
   "cell_type": "code",
   "execution_count": 24,
   "id": "b5037d26",
   "metadata": {},
   "outputs": [
    {
     "data": {
      "text/plain": [
       "2025"
      ]
     },
     "execution_count": 24,
     "metadata": {},
     "output_type": "execute_result"
    }
   ],
   "source": [
    "cutrretnt_datetime.year"
   ]
  },
  {
   "cell_type": "code",
   "execution_count": 25,
   "id": "b34db8c4",
   "metadata": {},
   "outputs": [
    {
     "data": {
      "text/plain": [
       "2025"
      ]
     },
     "execution_count": 25,
     "metadata": {},
     "output_type": "execute_result"
    }
   ],
   "source": [
    "cutrretnt_datetime.year"
   ]
  },
  {
   "cell_type": "code",
   "execution_count": 26,
   "id": "afc7dabd",
   "metadata": {},
   "outputs": [
    {
     "data": {
      "text/plain": [
       "2025"
      ]
     },
     "execution_count": 26,
     "metadata": {},
     "output_type": "execute_result"
    }
   ],
   "source": [
    "datetime.datetime.today().year"
   ]
  },
  {
   "cell_type": "code",
   "execution_count": 27,
   "id": "5494a3d3",
   "metadata": {},
   "outputs": [
    {
     "data": {
      "text/plain": [
       "8"
      ]
     },
     "execution_count": 27,
     "metadata": {},
     "output_type": "execute_result"
    }
   ],
   "source": [
    "datetime.datetime.today().month"
   ]
  },
  {
   "cell_type": "code",
   "execution_count": 28,
   "id": "78c75f48",
   "metadata": {},
   "outputs": [
    {
     "data": {
      "text/plain": [
       "21"
      ]
     },
     "execution_count": 28,
     "metadata": {},
     "output_type": "execute_result"
    }
   ],
   "source": [
    "datetime.datetime.today().day"
   ]
  },
  {
   "cell_type": "code",
   "execution_count": 29,
   "id": "2906098f",
   "metadata": {},
   "outputs": [
    {
     "data": {
      "text/plain": [
       "8"
      ]
     },
     "execution_count": 29,
     "metadata": {},
     "output_type": "execute_result"
    }
   ],
   "source": [
    "datetime.datetime.today().hour"
   ]
  },
  {
   "cell_type": "code",
   "execution_count": 30,
   "id": "adf4f78b",
   "metadata": {},
   "outputs": [
    {
     "data": {
      "text/plain": [
       "27"
      ]
     },
     "execution_count": 30,
     "metadata": {},
     "output_type": "execute_result"
    }
   ],
   "source": [
    "datetime.datetime.today().minute"
   ]
  },
  {
   "cell_type": "code",
   "execution_count": 9,
   "id": "32788369",
   "metadata": {},
   "outputs": [
    {
     "data": {
      "text/plain": [
       "8"
      ]
     },
     "execution_count": 9,
     "metadata": {},
     "output_type": "execute_result"
    }
   ],
   "source": [
    "cutrretnt_datetime.month"
   ]
  },
  {
   "cell_type": "code",
   "execution_count": 10,
   "id": "f065a423",
   "metadata": {},
   "outputs": [
    {
     "data": {
      "text/plain": [
       "21"
      ]
     },
     "execution_count": 10,
     "metadata": {},
     "output_type": "execute_result"
    }
   ],
   "source": [
    "cutrretnt_datetime.day"
   ]
  },
  {
   "cell_type": "code",
   "execution_count": 11,
   "id": "e25bf613",
   "metadata": {},
   "outputs": [
    {
     "data": {
      "text/plain": [
       "0"
      ]
     },
     "execution_count": 11,
     "metadata": {},
     "output_type": "execute_result"
    }
   ],
   "source": [
    "cutrretnt_datetime.hour"
   ]
  },
  {
   "cell_type": "code",
   "execution_count": 12,
   "id": "95aedea1",
   "metadata": {},
   "outputs": [
    {
     "data": {
      "text/plain": [
       "51"
      ]
     },
     "execution_count": 12,
     "metadata": {},
     "output_type": "execute_result"
    }
   ],
   "source": [
    "cutrretnt_datetime.minute"
   ]
  },
  {
   "cell_type": "markdown",
   "id": "4c3fc1a5",
   "metadata": {},
   "source": [
    "## TimeDelta"
   ]
  },
  {
   "cell_type": "code",
   "execution_count": 35,
   "id": "f775efc1",
   "metadata": {},
   "outputs": [],
   "source": [
    "from datetime import datetime, timedelta "
   ]
  },
  {
   "cell_type": "code",
   "execution_count": 14,
   "id": "1305b476",
   "metadata": {},
   "outputs": [],
   "source": [
    "import datetime"
   ]
  },
  {
   "cell_type": "code",
   "execution_count": 31,
   "id": "36063ae6",
   "metadata": {
    "scrolled": true
   },
   "outputs": [
    {
     "name": "stdout",
     "output_type": "stream",
     "text": [
      "Current time:  2025-08-21 08:34:21.994193\n"
     ]
    }
   ],
   "source": [
    "current_datetime = datetime.datetime.today()\n",
    "print('Current time: ',current_datetime)"
   ]
  },
  {
   "cell_type": "code",
   "execution_count": null,
   "id": "5e16854a",
   "metadata": {},
   "outputs": [],
   "source": [
    "#there is module datetime and class also by same name"
   ]
  },
  {
   "cell_type": "code",
   "execution_count": 32,
   "id": "d17f2217",
   "metadata": {},
   "outputs": [
    {
     "data": {
      "text/plain": [
       "datetime.datetime(2025, 8, 21, 8, 35, 3, 38187)"
      ]
     },
     "execution_count": 32,
     "metadata": {},
     "output_type": "execute_result"
    }
   ],
   "source": [
    "from datetime import datetime  #  Import the class\n",
    "now = datetime.now()           # Use the class method\n",
    "now"
   ]
  },
  {
   "cell_type": "code",
   "execution_count": 38,
   "id": "1c63b107",
   "metadata": {},
   "outputs": [
    {
     "name": "stdout",
     "output_type": "stream",
     "text": [
      "Current Date: 2025-08-21 08:38:28.895205\n",
      "Future Date: 2025-08-28 08:38:28.895205\n",
      "Past Date: 2025-08-19 03:38:28.895205\n"
     ]
    }
   ],
   "source": [
    "# Today's date  \n",
    "now = datetime.now()  \n",
    "print(\"Current Date:\", now)  \n",
    "\n",
    "# Add 1 week to the current date  \n",
    "future_date = now + timedelta(weeks=1)  \n",
    "print(\"Future Date:\", future_date)  \n",
    "\n",
    "# Subtract 2 days and 5 hours  \n",
    "past_date = now - timedelta(days=2, hours=5)  \n",
    "print(\"Past Date:\", past_date)  "
   ]
  },
  {
   "cell_type": "code",
   "execution_count": 40,
   "id": "0b364ce8",
   "metadata": {},
   "outputs": [
    {
     "name": "stdout",
     "output_type": "stream",
     "text": [
      "New_Date: 2025-08-31 08:38:28.895205\n"
     ]
    }
   ],
   "source": [
    "import datetime\n",
    "new_date = now + datetime.timedelta(days=10)\n",
    "print('New_Date:',new_date)"
   ]
  },
  {
   "cell_type": "code",
   "execution_count": 43,
   "id": "8d45640e",
   "metadata": {},
   "outputs": [
    {
     "name": "stdout",
     "output_type": "stream",
     "text": [
      "New_Date: 2025-08-11 08:34:21.994193\n"
     ]
    }
   ],
   "source": [
    "new_date = current_datetime + datetime.timedelta(days= -10)\n",
    "print('New_Date:',new_date)"
   ]
  },
  {
   "cell_type": "code",
   "execution_count": 42,
   "id": "4b08b5a1",
   "metadata": {},
   "outputs": [
    {
     "name": "stdout",
     "output_type": "stream",
     "text": [
      "New_Date: 2026-08-21 08:34:21.994193\n"
     ]
    }
   ],
   "source": [
    "new_date = current_datetime + datetime.timedelta(days=365)\n",
    "print('New_Date:',new_date)\n"
   ]
  },
  {
   "cell_type": "code",
   "execution_count": 21,
   "id": "94232072",
   "metadata": {},
   "outputs": [
    {
     "name": "stdout",
     "output_type": "stream",
     "text": [
      "New_Date: 2025-11-29 00:51:42.865837\n"
     ]
    }
   ],
   "source": [
    "new_date = current_datetime + datetime.timedelta(days=100)\n",
    "print('New_Date:',new_date)"
   ]
  },
  {
   "cell_type": "code",
   "execution_count": 22,
   "id": "e0cf33dd",
   "metadata": {},
   "outputs": [
    {
     "name": "stdout",
     "output_type": "stream",
     "text": [
      "New_Date: 2025-05-13 00:51:42.865837\n"
     ]
    }
   ],
   "source": [
    "new_date = current_datetime + datetime.timedelta(days=-100)\n",
    "print('New_Date:',new_date)"
   ]
  },
  {
   "cell_type": "code",
   "execution_count": 23,
   "id": "70636733",
   "metadata": {
    "scrolled": true
   },
   "outputs": [
    {
     "name": "stdout",
     "output_type": "stream",
     "text": [
      "Date is : 2025-08-16 00:52:13.183534\n",
      "Date is : 2025-08-17 00:52:13.183534\n",
      "Date is : 2025-08-18 00:52:13.183534\n",
      "Date is : 2025-08-19 00:52:13.183534\n",
      "Date is : 2025-08-20 00:52:13.183534\n",
      "Date is : 2025-08-21 00:52:13.183534\n",
      "Date is : 2025-08-22 00:52:13.183534\n",
      "Date is : 2025-08-23 00:52:13.183534\n",
      "Date is : 2025-08-24 00:52:13.183534\n",
      "Date is : 2025-08-25 00:52:13.183534\n",
      "Date is : 2025-08-26 00:52:13.183534\n"
     ]
    }
   ],
   "source": [
    "for i in range(-5,6):\n",
    "    new_date = now + datetime.timedelta(days=i)\n",
    "    print('Date is :',new_date)"
   ]
  },
  {
   "cell_type": "code",
   "execution_count": 24,
   "id": "44365ac5",
   "metadata": {},
   "outputs": [
    {
     "data": {
      "text/plain": [
       "datetime.timedelta(days=5, seconds=12600)"
      ]
     },
     "execution_count": 24,
     "metadata": {},
     "output_type": "execute_result"
    }
   ],
   "source": [
    "# Create a duration of 5 days, 3 hours, and 30 minutes  \n",
    "delta = timedelta(  \n",
    "    days=5,  \n",
    "    hours=3,  \n",
    "    minutes=30  \n",
    ")  \n",
    "delta"
   ]
  },
  {
   "cell_type": "code",
   "execution_count": 45,
   "id": "bd932975",
   "metadata": {},
   "outputs": [
    {
     "name": "stdout",
     "output_type": "stream",
     "text": [
      "Deadline: 31-08-2025\n"
     ]
    }
   ],
   "source": [
    "#3. Schedule Tasks (e.g., Reminders)\n",
    "\n",
    "today = datetime.datetime.now()  \n",
    "deadline = today + timedelta(days=10)  \n",
    "print(f\"Deadline: {deadline.strftime('%d-%m-%Y')}\")  "
   ]
  },
  {
   "cell_type": "code",
   "execution_count": 26,
   "id": "a93591d8",
   "metadata": {},
   "outputs": [
    {
     "name": "stdout",
     "output_type": "stream",
     "text": [
      "Task took 5.006905 seconds.\n"
     ]
    }
   ],
   "source": [
    "#4. Measure Execution Time\n",
    "import time  \n",
    "\n",
    "start_time = datetime.datetime.now()  \n",
    "time.sleep(5)  # Simulate a task  \n",
    "end_time = datetime.datetime.now()  \n",
    "\n",
    "duration = end_time - start_time  \n",
    "print(f\"Task took {duration.total_seconds()} seconds.\")  "
   ]
  },
  {
   "cell_type": "markdown",
   "id": "d0a8712a",
   "metadata": {},
   "source": [
    "## 1. strftime()"
   ]
  },
  {
   "cell_type": "raw",
   "id": "614dd242",
   "metadata": {},
   "source": [
    "The strftime() function in Python is used to format date and time objects into readable strings based on specified format codes."
   ]
  },
  {
   "cell_type": "code",
   "execution_count": null,
   "id": "06e0a85b",
   "metadata": {},
   "outputs": [],
   "source": [
    "strftime >>> string from time object"
   ]
  },
  {
   "cell_type": "code",
   "execution_count": 27,
   "id": "25bba336",
   "metadata": {},
   "outputs": [
    {
     "name": "stdout",
     "output_type": "stream",
     "text": [
      "Current time:  2025-08-21 00:53:28.703219\n"
     ]
    }
   ],
   "source": [
    "current_datetime = datetime.datetime.today()\n",
    "print('Current time: ',current_datetime)"
   ]
  },
  {
   "cell_type": "code",
   "execution_count": null,
   "id": "90b9f082",
   "metadata": {},
   "outputs": [],
   "source": [
    "2022-08-15   >> \"15 Aug 2022\"\n",
    "2022-08-15   >> \"15 August 2022\"\n",
    "2022-08-15   >> \"15/08/2022\""
   ]
  },
  {
   "cell_type": "code",
   "execution_count": 75,
   "id": "3f824981",
   "metadata": {},
   "outputs": [
    {
     "name": "stdout",
     "output_type": "stream",
     "text": [
      "Current time:  2022-08-15 21:13:10.737253\n"
     ]
    },
    {
     "data": {
      "text/plain": [
       "'PM'"
      ]
     },
     "execution_count": 75,
     "metadata": {},
     "output_type": "execute_result"
    }
   ],
   "source": [
    "current_datetime = datetime.datetime.today()\n",
    "print('Current time: ',current_datetime)\n",
    "\n",
    "# Year\n",
    "current_datetime.strftime('%Y')    # year  2022\n",
    "\n",
    "current_datetime.strftime('%y')     # year 22\n",
    "\n",
    "#Month\n",
    "current_datetime.strftime('%m')   #month 08\n",
    "  \n",
    "current_datetime.strftime('%B')   # month June, August, February, May\n",
    "\n",
    "current_datetime.strftime('%b')   # Abbrivated month Aug Jan Feb\n",
    "\n",
    "# Date\n",
    "current_datetime.strftime('%d')   #Day 15\n",
    "\n",
    "# weekday\n",
    "current_datetime.strftime('%A')   # Full Name of weekday >>Monday, Friday\n",
    "\n",
    "current_datetime.strftime('%a')    # abbrivated name of weekday Mon, Tue\n",
    "\n",
    "current_datetime.strftime('%w')   # Weekday Number Sun=0, Mon=1,Tue=2\n",
    "\n",
    "#Day number\n",
    "current_datetime.strftime('%j')   # day number from year\n",
    "\n",
    "#Weekday Number\n",
    "current_datetime.strftime('%U')  # weekday number of year\n",
    "\n",
    "#AM or PM\n",
    "current_datetime.strftime('%p')   #AM / PM"
   ]
  },
  {
   "cell_type": "code",
   "execution_count": 46,
   "id": "e956fa16",
   "metadata": {},
   "outputs": [
    {
     "name": "stdout",
     "output_type": "stream",
     "text": [
      "Current time:  2025-08-21 08:49:59.804953\n"
     ]
    }
   ],
   "source": [
    "current_datetime = datetime.datetime.today()\n",
    "print('Current time: ',current_datetime)\n",
    "\n",
    "\n",
    "date1= \"20-May-2025\"\n",
    "date2= \"20 May 2025\"\n",
    "date3= \"20/05/2025\""
   ]
  },
  {
   "cell_type": "code",
   "execution_count": 49,
   "id": "9275ae5f",
   "metadata": {},
   "outputs": [
    {
     "data": {
      "text/plain": [
       "'21-Aug-2025'"
      ]
     },
     "execution_count": 49,
     "metadata": {},
     "output_type": "execute_result"
    }
   ],
   "source": [
    "date1= \"20.May.2025\"\n",
    "current_datetime.strftime(\"%d.%b.%Y\")\n",
    "current_datetime.strftime(\"%d-%b-%Y\")"
   ]
  },
  {
   "cell_type": "code",
   "execution_count": 30,
   "id": "8e0ab5c2",
   "metadata": {},
   "outputs": [
    {
     "data": {
      "text/plain": [
       "'21 August 2025'"
      ]
     },
     "execution_count": 30,
     "metadata": {},
     "output_type": "execute_result"
    }
   ],
   "source": [
    "date1= \"21 May 2025\"\n",
    "current_datetime.strftime(\"%d %B %Y\")"
   ]
  },
  {
   "cell_type": "code",
   "execution_count": 31,
   "id": "e002ece0",
   "metadata": {},
   "outputs": [
    {
     "data": {
      "text/plain": [
       "'21 08 2025'"
      ]
     },
     "execution_count": 31,
     "metadata": {},
     "output_type": "execute_result"
    }
   ],
   "source": [
    "date1= \"20 05 2025\"\n",
    "current_datetime.strftime(\"%d %m %Y\")"
   ]
  },
  {
   "cell_type": "code",
   "execution_count": 32,
   "id": "e1158260",
   "metadata": {},
   "outputs": [
    {
     "data": {
      "text/plain": [
       "'21/08/25'"
      ]
     },
     "execution_count": 32,
     "metadata": {},
     "output_type": "execute_result"
    }
   ],
   "source": [
    "date1= \"21/05/25\"\n",
    "current_datetime.strftime(\"%d/%m/%y\")"
   ]
  },
  {
   "cell_type": "code",
   "execution_count": 33,
   "id": "352958f7",
   "metadata": {},
   "outputs": [
    {
     "data": {
      "text/plain": [
       "'2025 Aug 21'"
      ]
     },
     "execution_count": 33,
     "metadata": {},
     "output_type": "execute_result"
    }
   ],
   "source": [
    "date1= \"2025 May 20\"\n",
    "current_datetime.strftime(\"%Y %b %d\")"
   ]
  },
  {
   "cell_type": "code",
   "execution_count": 34,
   "id": "05459859",
   "metadata": {},
   "outputs": [
    {
     "data": {
      "text/plain": [
       "'2025.August.21'"
      ]
     },
     "execution_count": 34,
     "metadata": {},
     "output_type": "execute_result"
    }
   ],
   "source": [
    "date1= \"2025.May.20\"\n",
    "current_datetime.strftime(\"%Y.%B.%d\")"
   ]
  },
  {
   "cell_type": "markdown",
   "id": "9efc15d7",
   "metadata": {},
   "source": [
    "# strptime()"
   ]
  },
  {
   "cell_type": "raw",
   "id": "c001aa4c",
   "metadata": {},
   "source": [
    ">> The strptime() function in Python is used to convert a string representing a date and time into a datetime object\n",
    "\n",
    ">> When parsing dates/times from strings (e.g., logs, CSVs, user input)."
   ]
  },
  {
   "cell_type": "code",
   "execution_count": 50,
   "id": "11f6f6fe",
   "metadata": {},
   "outputs": [
    {
     "name": "stdout",
     "output_type": "stream",
     "text": [
      "2028-08-15\n"
     ]
    }
   ],
   "source": [
    "date1= \"15/08/28\"\n",
    "date_format = \"%d/%m/%y\"\n",
    "new_date= datetime.datetime.strptime(date1,date_format).date()\n",
    "print(new_date)"
   ]
  },
  {
   "cell_type": "code",
   "execution_count": 74,
   "id": "a1dc0a7e",
   "metadata": {},
   "outputs": [
    {
     "name": "stdout",
     "output_type": "stream",
     "text": [
      "2028-08-15\n"
     ]
    }
   ],
   "source": [
    "date1= \"15.08.28\"\n",
    "date_format = \"%d.%m.%y\"\n",
    "new_date= datetime.datetime.strptime(date1,date_format).date()\n",
    "print(new_date)"
   ]
  },
  {
   "cell_type": "code",
   "execution_count": 75,
   "id": "e51adc88",
   "metadata": {},
   "outputs": [
    {
     "name": "stdout",
     "output_type": "stream",
     "text": [
      "2028-08-15\n"
     ]
    }
   ],
   "source": [
    "date1= \"15-08-28\"\n",
    "date_format = \"%d-%m-%y\"\n",
    "new_date= datetime.datetime.strptime(date1,date_format).date()\n",
    "print(new_date)"
   ]
  },
  {
   "cell_type": "code",
   "execution_count": 4,
   "id": "477c08c9",
   "metadata": {},
   "outputs": [
    {
     "name": "stdout",
     "output_type": "stream",
     "text": [
      "Current datetime: 2025-05-20 22:46:12.130936\n"
     ]
    }
   ],
   "source": [
    "# 1. How to get the current date and time?\n",
    "from datetime import datetime\n",
    "now = datetime.now()  \n",
    "print(\"Current datetime:\", now)"
   ]
  },
  {
   "cell_type": "code",
   "execution_count": 5,
   "id": "a47c1d4f",
   "metadata": {},
   "outputs": [
    {
     "name": "stdout",
     "output_type": "stream",
     "text": [
      "Formatted date: 2025-05-20\n"
     ]
    }
   ],
   "source": [
    "# 2. How to format a datetime object as a string like \"YYYY-MM-DD\"?\n",
    "from datetime import datetime  \n",
    "now = datetime.now()  \n",
    "formatted = now.strftime(\"%Y-%m-%d\")  \n",
    "print(\"Formatted date:\", formatted)  "
   ]
  },
  {
   "cell_type": "code",
   "execution_count": 6,
   "id": "51e143fb",
   "metadata": {},
   "outputs": [
    {
     "name": "stdout",
     "output_type": "stream",
     "text": [
      "Parsed datetime: 2025-05-21 00:00:00\n"
     ]
    }
   ],
   "source": [
    "#3. How to parse a date string \"2025-05-21\" into a datetime object?\n",
    "date_str = \"2025-05-21\"  \n",
    "dt = datetime.strptime(date_str, \"%Y-%m-%d\")  \n",
    "print(\"Parsed datetime:\", dt) "
   ]
  },
  {
   "cell_type": "code",
   "execution_count": 46,
   "id": "40a5dcba",
   "metadata": {},
   "outputs": [
    {
     "name": "stdout",
     "output_type": "stream",
     "text": [
      "5 days later: 2025-05-26 08:14:26.711347\n"
     ]
    }
   ],
   "source": [
    "# 4. How to add 5 days to a given date?\n",
    "from datetime import datetime, timedelta  \n",
    "now = datetime.now()  \n",
    "future = now + timedelta(days=5)  \n",
    "print(\"5 days later:\", future)"
   ]
  },
  {
   "cell_type": "code",
   "execution_count": 47,
   "id": "6575d867",
   "metadata": {},
   "outputs": [
    {
     "name": "stdout",
     "output_type": "stream",
     "text": [
      "Days between: 11\n"
     ]
    }
   ],
   "source": [
    "# 5. How to calculate the difference between two dates in days?\n",
    "start = datetime(2025, 5, 10)  \n",
    "end = datetime(2025, 5, 21)  \n",
    "delta = end - start  \n",
    "print(\"Days between:\", delta.days) "
   ]
  },
  {
   "cell_type": "code",
   "execution_count": null,
   "id": "a1324146",
   "metadata": {},
   "outputs": [],
   "source": []
  }
 ],
 "metadata": {
  "kernelspec": {
   "display_name": "Python 3 (ipykernel)",
   "language": "python",
   "name": "python3"
  },
  "language_info": {
   "codemirror_mode": {
    "name": "ipython",
    "version": 3
   },
   "file_extension": ".py",
   "mimetype": "text/x-python",
   "name": "python",
   "nbconvert_exporter": "python",
   "pygments_lexer": "ipython3",
   "version": "3.9.12"
  }
 },
 "nbformat": 4,
 "nbformat_minor": 5
}
