{
 "cells": [
  {
   "cell_type": "markdown",
   "id": "4347ae76",
   "metadata": {},
   "source": [
    "# Inheritance"
   ]
  },
  {
   "cell_type": "code",
   "execution_count": null,
   "id": "3944a8bb",
   "metadata": {},
   "outputs": [],
   "source": [
    "Reusability : Reuse code from parent class.\n",
    "Add new features without modifying existing code."
   ]
  },
  {
   "cell_type": "code",
   "execution_count": null,
   "id": "4be6b699",
   "metadata": {},
   "outputs": [],
   "source": [
    "Parent class (Base class) : Has common methods/attributes.\n",
    "Child class (Derived class) : Inherits from parent + adds its own features."
   ]
  },
  {
   "cell_type": "code",
   "execution_count": 1,
   "id": "fccd1627",
   "metadata": {},
   "outputs": [],
   "source": [
    "class BasicCalculator:  #parent class/base class\n",
    "    def add(self, a, b):\n",
    "        return a + b\n",
    "\n",
    "    def subtract(self, a, b):\n",
    "        return a - b"
   ]
  },
  {
   "cell_type": "code",
   "execution_count": 3,
   "id": "a4089780",
   "metadata": {},
   "outputs": [],
   "source": [
    "class ScientificCalculator(BasicCalculator): #child class/derived class\n",
    "    def square(self, a):\n",
    "        return a * a\n",
    "\n",
    "    def power(self, a, b):\n",
    "        return a ** b"
   ]
  },
  {
   "cell_type": "code",
   "execution_count": 5,
   "id": "d1734365",
   "metadata": {},
   "outputs": [
    {
     "name": "stdout",
     "output_type": "stream",
     "text": [
      "8\n",
      "16\n",
      "5\n"
     ]
    }
   ],
   "source": [
    "calc = ScientificCalculator()\n",
    "print(calc.add(5, 3))      \n",
    "print(calc.square(4))  \n",
    "print(calc.subtract(10,5))"
   ]
  },
  {
   "cell_type": "markdown",
   "id": "45a1ab0f",
   "metadata": {},
   "source": [
    "## Types of Inheritance with Examples:\n"
   ]
  },
  {
   "cell_type": "code",
   "execution_count": null,
   "id": "0649cc6b",
   "metadata": {},
   "outputs": [],
   "source": [
    "1. Single Inheritance\n",
    "One parent class, one child class"
   ]
  },
  {
   "cell_type": "code",
   "execution_count": 4,
   "id": "7444736e",
   "metadata": {},
   "outputs": [
    {
     "name": "stdout",
     "output_type": "stream",
     "text": [
      "5\n",
      "6\n"
     ]
    }
   ],
   "source": [
    "class MathOperations:\n",
    "    def add(self, a, b):\n",
    "        return a + b\n",
    "\n",
    "class Multiplication(MathOperations):\n",
    "    def multiply(self, a, b):\n",
    "        return a * b\n",
    "\n",
    "calc = Multiplication()\n",
    "print(calc.add(2, 3))       # Inherited from parent\n",
    "print(calc.multiply(2, 3))  # New method"
   ]
  },
  {
   "cell_type": "markdown",
   "id": "ca9b59b7",
   "metadata": {},
   "source": [
    "## 2. Multiple Inheritance"
   ]
  },
  {
   "cell_type": "code",
   "execution_count": null,
   "id": "deb57480",
   "metadata": {},
   "outputs": [],
   "source": [
    "One child inherits properties/functions from multiple parents."
   ]
  },
  {
   "cell_type": "code",
   "execution_count": 5,
   "id": "0e386e44",
   "metadata": {},
   "outputs": [
    {
     "name": "stdout",
     "output_type": "stream",
     "text": [
      "8\n",
      "15\n"
     ]
    }
   ],
   "source": [
    "class Addition:\n",
    "    def add(self, a, b):\n",
    "        return a + b\n",
    "\n",
    "class Multiplication:\n",
    "    def multiply(self, a, b):\n",
    "        return a * b\n",
    "\n",
    "class Calculator(Addition, Multiplication):\n",
    "    pass  # No new methods, just combines both\n",
    "\n",
    "calc = Calculator()\n",
    "print(calc.add(5, 3))        # From Addition\n",
    "print(calc.multiply(5, 3))   # From Multiplication"
   ]
  },
  {
   "cell_type": "markdown",
   "id": "d003a657",
   "metadata": {},
   "source": [
    "##  3. Multilevel Inheritance"
   ]
  },
  {
   "cell_type": "code",
   "execution_count": null,
   "id": "2e5edd81",
   "metadata": {},
   "outputs": [],
   "source": [
    "Chain of inheritance (Grandparent >> Parent >> Child)."
   ]
  },
  {
   "cell_type": "code",
   "execution_count": 6,
   "id": "ff055811",
   "metadata": {},
   "outputs": [
    {
     "name": "stdout",
     "output_type": "stream",
     "text": [
      "Breathing...\n",
      "Walking...\n",
      "Barking!\n"
     ]
    }
   ],
   "source": [
    "class Animal:\n",
    "    def breathe(self):\n",
    "        print(\"Breathing...\")\n",
    "\n",
    "class Mammal(Animal):\n",
    "    def walk(self):\n",
    "        print(\"Walking...\")\n",
    "\n",
    "class Dog(Mammal): #>>>dog class will have properties of class mammal and class animanl\n",
    "    def bark(self):\n",
    "        print(\"Barking!\")\n",
    "\n",
    "my_dog = Dog()\n",
    "my_dog.breathe()  # From Animal\n",
    "my_dog.walk()     # From Mammal\n",
    "my_dog.bark()     # From Dog"
   ]
  },
  {
   "cell_type": "markdown",
   "id": "6dc61bc9",
   "metadata": {},
   "source": [
    "# 4. Hierarchical Inheritance:"
   ]
  },
  {
   "cell_type": "code",
   "execution_count": null,
   "id": "8a107103",
   "metadata": {},
   "outputs": [],
   "source": [
    "One parent, multiple children."
   ]
  },
  {
   "cell_type": "code",
   "execution_count": 7,
   "id": "a224a945",
   "metadata": {},
   "outputs": [
    {
     "name": "stdout",
     "output_type": "stream",
     "text": [
      "8\n",
      "6\n",
      "14\n"
     ]
    }
   ],
   "source": [
    "# Parent Class\n",
    "class Calculator:\n",
    "    def do_math(self, a, b):\n",
    "        print(\"Basic math operation\")\n",
    "\n",
    "# Child Class 1\n",
    "class Adder(Calculator):\n",
    "    def add(self, a, b):\n",
    "        return a + b\n",
    "\n",
    "# Child Class 2\n",
    "class Subtractor(Calculator):\n",
    "    def subtract(self, a, b):\n",
    "        return a - b\n",
    "\n",
    "# Child Class 3\n",
    "class Multiplier(Calculator):\n",
    "    def multiply(self, a, b):\n",
    "        return a * b\n",
    "\n",
    "# Usage\n",
    "adder = Adder()\n",
    "print(adder.add(5, 3))  \n",
    "\n",
    "subtractor = Subtractor()\n",
    "print(subtractor.subtract(10, 4)) \n",
    "\n",
    "multiplier = Multiplier()\n",
    "print(multiplier.multiply(7, 2)) "
   ]
  },
  {
   "cell_type": "markdown",
   "id": "cb4c78f2",
   "metadata": {},
   "source": [
    "## 5. Hybrid Inheritance"
   ]
  },
  {
   "cell_type": "code",
   "execution_count": null,
   "id": "4371a6a9",
   "metadata": {},
   "outputs": [],
   "source": [
    "Mix of multiple and multilevel inheritance."
   ]
  },
  {
   "cell_type": "markdown",
   "id": "9111c8d7",
   "metadata": {},
   "source": [
    " A child inherits traits from two parents , who themselves inherited from a grandparent."
   ]
  },
  {
   "cell_type": "code",
   "execution_count": 7,
   "id": "ed6d26ec",
   "metadata": {},
   "outputs": [
    {
     "name": "stdout",
     "output_type": "stream",
     "text": [
      "Basic math: addition, subtraction\n",
      "Advanced math: exponents, roots\n",
      "Logical math: AND, OR\n",
      "Super math: AI-powered calculations\n"
     ]
    }
   ],
   "source": [
    "# Grandparent Class\n",
    "class BasicMath:\n",
    "    def basic_op(self):\n",
    "        print(\"Basic math: addition, subtraction\")\n",
    "\n",
    "# Parent Class 1\n",
    "class AdvancedMath(BasicMath):\n",
    "    def advanced_op(self):\n",
    "        print(\"Advanced math: exponents, roots\")\n",
    "\n",
    "# Parent Class 2\n",
    "class LogicalMath:\n",
    "    def logical_op(self):\n",
    "        print(\"Logical math: AND, OR\")\n",
    "\n",
    "# Hybrid Child Class\n",
    "class SuperCalculator(AdvancedMath, LogicalMath):\n",
    "    def new_op(self):\n",
    "        print(\"Super math: AI-powered calculations\")\n",
    "\n",
    "# Usage\n",
    "calc = SuperCalculator()\n",
    "calc.basic_op()       # From BasicMath (multilevel)\n",
    "calc.advanced_op()    # From AdvancedMath (parent)\n",
    "calc.logical_op()     # From LogicalMath (multiple)\n",
    "calc.new_op()         # Own method"
   ]
  },
  {
   "cell_type": "code",
   "execution_count": null,
   "id": "1b537357",
   "metadata": {},
   "outputs": [],
   "source": []
  }
 ],
 "metadata": {
  "kernelspec": {
   "display_name": "Python 3 (ipykernel)",
   "language": "python",
   "name": "python3"
  },
  "language_info": {
   "codemirror_mode": {
    "name": "ipython",
    "version": 3
   },
   "file_extension": ".py",
   "mimetype": "text/x-python",
   "name": "python",
   "nbconvert_exporter": "python",
   "pygments_lexer": "ipython3",
   "version": "3.9.12"
  }
 },
 "nbformat": 4,
 "nbformat_minor": 5
}
