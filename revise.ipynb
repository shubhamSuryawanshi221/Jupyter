{
 "cells": [
  {
   "cell_type": "code",
   "execution_count": 1,
   "id": "abc7eaaa",
   "metadata": {},
   "outputs": [],
   "source": [
    "import os"
   ]
  },
  {
   "cell_type": "code",
   "execution_count": 2,
   "id": "4aa1ea47",
   "metadata": {},
   "outputs": [
    {
     "data": {
      "text/plain": [
       "['1207_385_bank_statement11.pdf',\n",
       " '97_134_bank_statement21.pdf',\n",
       " 'AmesHousing.csv',\n",
       " 'autos_dataset.csv',\n",
       " 'Country_clusters.csv',\n",
       " 'credit-card.csv',\n",
       " 'Customers.csv',\n",
       " 'cv004_11636.txt',\n",
       " 'cv005_29443.txt',\n",
       " 'cv007_4968.txt',\n",
       " 'cv008_29435.txt',\n",
       " 'cv009_29592.txt']"
      ]
     },
     "execution_count": 2,
     "metadata": {},
     "output_type": "execute_result"
    }
   ],
   "source": [
    "files_list=os.listdir(\"test_files\")\n",
    "files_list"
   ]
  },
  {
   "cell_type": "code",
   "execution_count": null,
   "id": "36d88711",
   "metadata": {},
   "outputs": [],
   "source": [
    "endswith>>> which is used check of string ends\n",
    "with particular substring or not"
   ]
  },
  {
   "cell_type": "code",
   "execution_count": null,
   "id": "058d00f2",
   "metadata": {},
   "outputs": [],
   "source": [
    "for loop to perform any operation on each item in iterable.\n"
   ]
  },
  {
   "cell_type": "code",
   "execution_count": 3,
   "id": "4c349890",
   "metadata": {},
   "outputs": [
    {
     "name": "stdout",
     "output_type": "stream",
     "text": [
      "1207_385_bank_statement11.pdf\n",
      "97_134_bank_statement21.pdf\n"
     ]
    }
   ],
   "source": [
    "for item in files_list:\n",
    "    if item.endswith(\".pdf\"):\n",
    "        print(item)"
   ]
  },
  {
   "cell_type": "raw",
   "id": "b8f5d5dd",
   "metadata": {},
   "source": [
    ">> if your working directory and directory of folder is not same then,\n",
    " you have to give path by using raw string\n"
   ]
  },
  {
   "cell_type": "code",
   "execution_count": 6,
   "id": "b8158320",
   "metadata": {},
   "outputs": [
    {
     "name": "stdout",
     "output_type": "stream",
     "text": [
      "ML_wine.ipynb\n",
      "new.ipynb\n"
     ]
    }
   ],
   "source": [
    "\n",
    "\n",
    "file_path=r\"C:\\Users\\VISHNU KALE\\Desktop\\ML mid may\\wine_quality_prediction_project\"\n",
    "list_files=os.listdir(file_path)\n",
    "list_files\n",
    "for item in list_files:\n",
    "    if item.endswith(\".ipynb\"):\n",
    "        print(item)"
   ]
  }
 ],
 "metadata": {
  "kernelspec": {
   "display_name": "Python 3 (ipykernel)",
   "language": "python",
   "name": "python3"
  },
  "language_info": {
   "codemirror_mode": {
    "name": "ipython",
    "version": 3
   },
   "file_extension": ".py",
   "mimetype": "text/x-python",
   "name": "python",
   "nbconvert_exporter": "python",
   "pygments_lexer": "ipython3",
   "version": "3.9.12"
  }
 },
 "nbformat": 4,
 "nbformat_minor": 5
}
