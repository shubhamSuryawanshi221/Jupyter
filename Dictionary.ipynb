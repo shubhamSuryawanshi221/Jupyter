{
 "cells": [
  {
   "cell_type": "markdown",
   "id": "6203e918",
   "metadata": {},
   "source": [
    "# Dictionary"
   ]
  },
  {
   "cell_type": "code",
   "execution_count": null,
   "id": "00d443af",
   "metadata": {},
   "outputs": [],
   "source": [
    "str     : immutable,ordered,duplicates are allowed, '', \"\"\"\"\"\",\n",
    "list:     mutable ,ordered, duplicates are allowed, [], ,\n",
    "tuple   : immutable,ordered, duplicates are allowed,()\n",
    "set     : mutable, unordered, duplicates are not allowed, indexing is not allowed, set(),{}\n",
    "frozenset: immutable, unordered,duplicates are not allowed, indexing is not allowed,frozensetset(),{}"
   ]
  },
  {
   "cell_type": "raw",
   "id": "04ce764a",
   "metadata": {},
   "source": [
    ">> A dictionary is an ordered collection of key-value pairs. \n",
    "\n",
    ">> Each key in a dictionary must be unique and immutable (like strings, numbers, or tuples), while the corresponding value can be of any data type.\n",
    "\n",
    ">> Dictionaries are defined by enclosing key-value pairs in curly braces {}, with each pair separated by a colon : and the pairs themselves separated by commas."
   ]
  },
  {
   "cell_type": "code",
   "execution_count": null,
   "id": "8bf32fbe",
   "metadata": {},
   "outputs": [],
   "source": [
    "properties:\n",
    "    \n",
    "1. Mutable\n",
    "2. it is collection of key and value pairs\n",
    "3. we can not use indexing\n",
    "4. duplicate keys are not allowed.\n",
    "5. duplicate values are allowed.\n",
    "6. are enclosed by {}, pairs of key and values are separated by ,\n",
    "7. ordered\n",
    "\n",
    "key >> int, float, str,complex,tuple,frozenset(Immutable data type)\n",
    "values >> int, float, str,complex,tuple,frozenset,set, list, dict\n",
    "\n",
    "ordered or not?\n",
    "Ordered : if python version >=3.7\n",
    "Unordered: if python version <3.7"
   ]
  },
  {
   "cell_type": "code",
   "execution_count": 16,
   "id": "2955c172",
   "metadata": {},
   "outputs": [
    {
     "name": "stdout",
     "output_type": "stream",
     "text": [
      "{'suyash': 25, 'vikas': 28, 'vilas': 40}\n"
     ]
    }
   ],
   "source": [
    "dict2={\"suyash\":25, \"vikas\":28, \"vilas\":40} #>>key=shubham, vikas, vilas >> value=25,28,40\n",
    "type(dict2)\n",
    "print(dict2)"
   ]
  },
  {
   "cell_type": "code",
   "execution_count": 1,
   "id": "431987f6",
   "metadata": {},
   "outputs": [],
   "source": [
    "dict1 = {'A': 20,'B':30}  #key >>> A and B , Value>> 20,30"
   ]
  },
  {
   "cell_type": "code",
   "execution_count": 2,
   "id": "8c16818f",
   "metadata": {},
   "outputs": [
    {
     "data": {
      "text/plain": [
       "dict"
      ]
     },
     "execution_count": 2,
     "metadata": {},
     "output_type": "execute_result"
    }
   ],
   "source": [
    "dict1 = {'A': 20,'B':30}\n",
    "type(dict1)"
   ]
  },
  {
   "cell_type": "code",
   "execution_count": 3,
   "id": "c903110a",
   "metadata": {},
   "outputs": [
    {
     "name": "stdout",
     "output_type": "stream",
     "text": [
      "{'A': 20, 'B': 30}\n"
     ]
    }
   ],
   "source": [
    "dict1 = {'A': 20,'B':30}\n",
    "print(dict1)"
   ]
  },
  {
   "cell_type": "code",
   "execution_count": null,
   "id": "7021cde3",
   "metadata": {},
   "outputs": [],
   "source": []
  },
  {
   "cell_type": "code",
   "execution_count": 4,
   "id": "a47091d9",
   "metadata": {},
   "outputs": [
    {
     "data": {
      "text/plain": [
       "dict"
      ]
     },
     "execution_count": 4,
     "metadata": {},
     "output_type": "execute_result"
    }
   ],
   "source": [
    "dict1 = {1:35,3.5:'python',\"L\": 45, \"data\": \"science\"}\n",
    "type(dict1)"
   ]
  },
  {
   "cell_type": "code",
   "execution_count": 3,
   "id": "02039401",
   "metadata": {
    "scrolled": true
   },
   "outputs": [
    {
     "name": "stdout",
     "output_type": "stream",
     "text": [
      "{1: 35, 3.5: 'python', 'L': 45, 'data': 'science'}\n"
     ]
    }
   ],
   "source": [
    "dict1 = {1:35,3.5:'python',\"L\": 45, \"data\": \"science\"}\n",
    "print(dict1)"
   ]
  },
  {
   "cell_type": "markdown",
   "id": "08740a78",
   "metadata": {},
   "source": [
    "# How to access Items from dictionary:"
   ]
  },
  {
   "cell_type": "raw",
   "id": "22a9c977",
   "metadata": {},
   "source": [
    "You can access the values in a dictionary using their corresponding keys."
   ]
  },
  {
   "cell_type": "code",
   "execution_count": 1,
   "id": "1d4f4f40",
   "metadata": {},
   "outputs": [
    {
     "name": "stdout",
     "output_type": "stream",
     "text": [
      "100\n",
      "500\n"
     ]
    }
   ],
   "source": [
    "dict2 = {'A':100,'B':300,'C':500,'D':600}\n",
    "print(dict2['A'])\n",
    "print(dict2[\"C\"])"
   ]
  },
  {
   "cell_type": "code",
   "execution_count": 7,
   "id": "6d8b5676",
   "metadata": {
    "scrolled": true
   },
   "outputs": [
    {
     "ename": "KeyError",
     "evalue": "0",
     "output_type": "error",
     "traceback": [
      "\u001b[1;31m---------------------------------------------------------------------------\u001b[0m",
      "\u001b[1;31mKeyError\u001b[0m                                  Traceback (most recent call last)",
      "Input \u001b[1;32mIn [7]\u001b[0m, in \u001b[0;36m<cell line: 2>\u001b[1;34m()\u001b[0m\n\u001b[0;32m      1\u001b[0m dict2 \u001b[38;5;241m=\u001b[39m {\u001b[38;5;124m'\u001b[39m\u001b[38;5;124mA\u001b[39m\u001b[38;5;124m'\u001b[39m:\u001b[38;5;241m100\u001b[39m,\u001b[38;5;124m'\u001b[39m\u001b[38;5;124mB\u001b[39m\u001b[38;5;124m'\u001b[39m:\u001b[38;5;241m100\u001b[39m,\u001b[38;5;124m'\u001b[39m\u001b[38;5;124mC\u001b[39m\u001b[38;5;124m'\u001b[39m:\u001b[38;5;241m100\u001b[39m,\u001b[38;5;124m'\u001b[39m\u001b[38;5;124mD\u001b[39m\u001b[38;5;124m'\u001b[39m:\u001b[38;5;241m100\u001b[39m}\n\u001b[1;32m----> 2\u001b[0m \u001b[43mdict2\u001b[49m\u001b[43m[\u001b[49m\u001b[38;5;241;43m0\u001b[39;49m\u001b[43m]\u001b[49m\n",
      "\u001b[1;31mKeyError\u001b[0m: 0"
     ]
    }
   ],
   "source": [
    "dict2 = {'A':100,'B':100,'C':100,'D':100}\n",
    "dict2[0] #by using index number"
   ]
  },
  {
   "cell_type": "markdown",
   "id": "b4e9cb81",
   "metadata": {},
   "source": [
    "# functions in dictionary:"
   ]
  },
  {
   "cell_type": "markdown",
   "id": "f31eb5af",
   "metadata": {},
   "source": [
    "### 1. .get(key, default=None)"
   ]
  },
  {
   "cell_type": "code",
   "execution_count": null,
   "id": "67973c62",
   "metadata": {},
   "outputs": [],
   "source": [
    " Returns the value for the specified key."
   ]
  },
  {
   "cell_type": "code",
   "execution_count": 8,
   "id": "6ce11432",
   "metadata": {},
   "outputs": [
    {
     "name": "stdout",
     "output_type": "stream",
     "text": [
      "shubham\n",
      "30\n"
     ]
    }
   ],
   "source": [
    "my_dict = {\"name\": \"shubham\", \"age\": 30}\n",
    "print(my_dict.get(\"name\"))    \n",
    "print(my_dict.get(\"age\"))"
   ]
  },
  {
   "cell_type": "markdown",
   "id": "54ed3b61",
   "metadata": {},
   "source": [
    "### 2.  .keys()"
   ]
  },
  {
   "cell_type": "raw",
   "id": "2010ae31",
   "metadata": {},
   "source": [
    "Returns a view object that displays a list of all the keys in the dictionary."
   ]
  },
  {
   "cell_type": "code",
   "execution_count": 9,
   "id": "221e3d88",
   "metadata": {},
   "outputs": [
    {
     "name": "stdout",
     "output_type": "stream",
     "text": [
      "dict_keys(['name', 'age', 'city'])\n",
      "['name', 'age', 'city']\n"
     ]
    }
   ],
   "source": [
    "my_dict = {\"name\": \"shubham\", \"age\": 30, \"city\": \"bengaluru\"}\n",
    "keys = my_dict.keys()\n",
    "print(keys)     \n",
    "print(list(keys))"
   ]
  },
  {
   "cell_type": "markdown",
   "id": "dce4ebf6",
   "metadata": {},
   "source": [
    "### 3. values()"
   ]
  },
  {
   "cell_type": "raw",
   "id": "973fb5f4",
   "metadata": {},
   "source": [
    "Returns a view object that displays a list of all the values in the dictionary."
   ]
  },
  {
   "cell_type": "code",
   "execution_count": 1,
   "id": "9056891c",
   "metadata": {
    "scrolled": true
   },
   "outputs": [
    {
     "name": "stdout",
     "output_type": "stream",
     "text": [
      "dict_values(['suyash', 30, 'bengaluru'])\n",
      "['suyash', 30, 'bengaluru']\n"
     ]
    }
   ],
   "source": [
    "my_dict = {\"name\": \"suyash\", \"age\": 30, \"city\": \"bengaluru\"}\n",
    "values = my_dict.values()\n",
    "print(values)     \n",
    "print(list(values))"
   ]
  },
  {
   "cell_type": "markdown",
   "id": "3f801757",
   "metadata": {},
   "source": [
    "### 4. .items()"
   ]
  },
  {
   "cell_type": "raw",
   "id": "1de01997",
   "metadata": {},
   "source": [
    " Returns a view object that displays a list of all the key-value pairs as tuples."
   ]
  },
  {
   "cell_type": "code",
   "execution_count": 2,
   "id": "a0e75bb3",
   "metadata": {},
   "outputs": [
    {
     "name": "stdout",
     "output_type": "stream",
     "text": [
      "dict_items([('name', 'suyash'), ('age', 30), ('city', 'bengaluru')])\n",
      "[('name', 'suyash'), ('age', 30), ('city', 'bengaluru')]\n"
     ]
    }
   ],
   "source": [
    "my_dict = {\"name\": \"suyash\", \"age\": 30, \"city\": \"bengaluru\"}\n",
    "items  = my_dict.items ()\n",
    "print(items )     \n",
    "print(list(items ))"
   ]
  },
  {
   "cell_type": "markdown",
   "id": "49475f26",
   "metadata": {},
   "source": [
    "### 5. .update()"
   ]
  },
  {
   "cell_type": "code",
   "execution_count": null,
   "id": "3899b38b",
   "metadata": {},
   "outputs": [],
   "source": [
    "it updates the dictionary with specified key value pair"
   ]
  },
  {
   "cell_type": "code",
   "execution_count": 6,
   "id": "ef764e66",
   "metadata": {},
   "outputs": [
    {
     "data": {
      "text/plain": [
       "{4: 16, 5: 20, 6: 25}"
      ]
     },
     "execution_count": 6,
     "metadata": {},
     "output_type": "execute_result"
    }
   ],
   "source": [
    "d1 = {}\n",
    "d2 ={4:16,5:20,6:25}\n",
    "d1.update(d2)\n",
    "d1"
   ]
  },
  {
   "cell_type": "code",
   "execution_count": 13,
   "id": "fe6a205d",
   "metadata": {},
   "outputs": [
    {
     "data": {
      "text/plain": [
       "{'A': 16, 5: 20, 'data': 25, 3.5: 98}"
      ]
     },
     "execution_count": 13,
     "metadata": {},
     "output_type": "execute_result"
    }
   ],
   "source": [
    "d1 = {'A':16,5:20,\"data\":25}\n",
    "d2 ={3.5:98}\n",
    "d1.update(d2)\n",
    "d1"
   ]
  },
  {
   "cell_type": "code",
   "execution_count": 7,
   "id": "9009d90a",
   "metadata": {},
   "outputs": [
    {
     "data": {
      "text/plain": [
       "{'Name': 'Virat Kohli',\n",
       " 'Age': 35,\n",
       " 'Team': 'India',\n",
       " 'Score': 100,\n",
       " 'City': 'Mumbai'}"
      ]
     },
     "execution_count": 7,
     "metadata": {},
     "output_type": "execute_result"
    }
   ],
   "source": [
    "player = {'Name': 'Virat Kohli','Age': 35, 'Team':'India','Score': 100}\n",
    "player.update({'City':\"Mumbai\"})\n",
    "player"
   ]
  },
  {
   "cell_type": "code",
   "execution_count": 15,
   "id": "1f0dface",
   "metadata": {},
   "outputs": [
    {
     "data": {
      "text/plain": [
       "{'Name': 'Virat Kohli',\n",
       " 'Age': 35,\n",
       " 'Team': 'India',\n",
       " 'Score': 100,\n",
       " 'Country': 'IND'}"
      ]
     },
     "execution_count": 15,
     "metadata": {},
     "output_type": "execute_result"
    }
   ],
   "source": [
    "player = {'Name': 'Virat Kohli','Age': 35, 'Team':'India','Score': 100}\n",
    "player.update({'Country':\"IND\"})\n",
    "player"
   ]
  },
  {
   "cell_type": "code",
   "execution_count": 8,
   "id": "95332cd0",
   "metadata": {},
   "outputs": [
    {
     "name": "stdout",
     "output_type": "stream",
     "text": [
      "D1   : {'a': 97, 'b': 56, 'c': 98, 'd': 57}\n",
      "D2   : {'c': 98, 'd': 57}\n"
     ]
    }
   ],
   "source": [
    "d1 = {'a':97,'b':56}\n",
    "d2 = {'c':98,'d':57}\n",
    "d1.update(d2)\n",
    "print('D1   :',d1)\n",
    "print('D2   :',d2)"
   ]
  },
  {
   "cell_type": "markdown",
   "id": "9abc9f19",
   "metadata": {},
   "source": [
    "# 6 .fromkeys()"
   ]
  },
  {
   "cell_type": "markdown",
   "id": "c82acbea",
   "metadata": {},
   "source": [
    ">> This method is a quick way to create a new dictionary where all keys have the same initial value.\n",
    ">> To initialize a dictionary with a default value for a set of keys."
   ]
  },
  {
   "cell_type": "markdown",
   "id": "9b859a6e",
   "metadata": {},
   "source": [
    "Syntax: \n",
    "    dict.fromkeys(keys, value)\n",
    "\n",
    "keys: A list or any sequence of items that will become the keys.\n",
    "\n",
    "value: The single value you want to assign to all the keys. If you don't provide this, the value will be None."
   ]
  },
  {
   "cell_type": "code",
   "execution_count": 10,
   "id": "7c509f89",
   "metadata": {},
   "outputs": [
    {
     "name": "stdout",
     "output_type": "stream",
     "text": [
      "{'name': None, 'email': None, 'phone': None}\n"
     ]
    }
   ],
   "source": [
    "user_data_keys = [\"name\", \"email\", \"phone\"]\n",
    "\n",
    "# Create a dictionary without a default value\n",
    "user_profile = dict.fromkeys(user_data_keys)\n",
    "\n",
    "print(user_profile)"
   ]
  },
  {
   "cell_type": "code",
   "execution_count": 1,
   "id": "1d1498dd",
   "metadata": {},
   "outputs": [
    {
     "data": {
      "text/plain": [
       "{'name': 0, 'email': 0, 'phone': 0}"
      ]
     },
     "execution_count": 1,
     "metadata": {},
     "output_type": "execute_result"
    }
   ],
   "source": [
    "user_data_keys = [\"name\", \"email\", \"phone\"]\n",
    "\n",
    "dict1=dict.fromkeys(user_data_keys, 0)\n",
    "dict1"
   ]
  },
  {
   "cell_type": "markdown",
   "id": "ae95ac02",
   "metadata": {},
   "source": [
    "# 7.zip()"
   ]
  },
  {
   "cell_type": "markdown",
   "id": "fbf8f4f5",
   "metadata": {},
   "source": [
    ">> used to pair up items from two or more lists.\n",
    ">> useful for creating a dictionary when you have your keys in one list and your values in another.\n",
    "\n",
    ">> It \"zips\" together two lists, pairing the first item of the first list with the first item of the second list, and so on."
   ]
  },
  {
   "cell_type": "code",
   "execution_count": 12,
   "id": "74470288",
   "metadata": {},
   "outputs": [
    {
     "data": {
      "text/plain": [
       "{'name': 'Sita', 'company': 'Google', 'city': 'Bengaluru'}"
      ]
     },
     "execution_count": 12,
     "metadata": {},
     "output_type": "execute_result"
    }
   ],
   "source": [
    "keys_list = [\"name\", \"company\", \"city\"]\n",
    "values_list = [\"Sita\", \"Google\", \"Bengaluru\"]\n",
    "\n",
    "employee_data = dict(zip(keys_list, values_list))\n",
    "employee_data"
   ]
  },
  {
   "cell_type": "code",
   "execution_count": 15,
   "id": "22d50f7f",
   "metadata": {},
   "outputs": [
    {
     "data": {
      "text/plain": [
       "{'a': 1, 'b': 2}"
      ]
     },
     "execution_count": 15,
     "metadata": {},
     "output_type": "execute_result"
    }
   ],
   "source": [
    "keys = [\"a\", \"b\"]\n",
    "values = [1, 2, 3] # This list is longer\n",
    "\n",
    "dict11 = dict(zip(keys, values))\n",
    "dict11\n",
    "# The value 3 is ignored because there is no corresponding key."
   ]
  },
  {
   "cell_type": "code",
   "execution_count": null,
   "id": "8b762582",
   "metadata": {},
   "outputs": [],
   "source": []
  },
  {
   "cell_type": "markdown",
   "id": "9bdc75e3",
   "metadata": {},
   "source": [
    "# Nested Dictionary"
   ]
  },
  {
   "cell_type": "code",
   "execution_count": null,
   "id": "8558e934",
   "metadata": {},
   "outputs": [],
   "source": [
    ">> Dict in dict"
   ]
  },
  {
   "cell_type": "code",
   "execution_count": 4,
   "id": "13e31bb4",
   "metadata": {},
   "outputs": [
    {
     "data": {
      "text/plain": [
       "3"
      ]
     },
     "execution_count": 4,
     "metadata": {},
     "output_type": "execute_result"
    }
   ],
   "source": [
    "employee_details = {\"TCS10005\": {'Name': 'Vishal',\n",
    "                                'Age' : 28,\n",
    "                                'Designation': 'Data Scientist',\n",
    "                                'Location': 'Pune',\n",
    "                                'Salary': 95000},\n",
    "                    \"TCS10006\" :{'Name': 'Pravin',\n",
    "                                'Age' : 27,\n",
    "                                'Designation': 'Python Developer',\n",
    "                                'Location': 'Mumbai',\n",
    "                                'Salary': 80000},\n",
    "                    \"TCS10007\" :{'Name': 'Anand',\n",
    "                                'Age' : 29,\n",
    "                                'Designation': 'Data Analyst',\n",
    "                                'Location': 'Banglore',\n",
    "                                'Salary': 90000}}\n",
    "len(employee_details)"
   ]
  },
  {
   "cell_type": "code",
   "execution_count": 5,
   "id": "7a3e2479",
   "metadata": {},
   "outputs": [
    {
     "data": {
      "text/plain": [
       "1"
      ]
     },
     "execution_count": 5,
     "metadata": {},
     "output_type": "execute_result"
    }
   ],
   "source": [
    "employee_details = {\"TCS10005\": {'Name': 'Vishal',\n",
    "                                'Age' : 28,\n",
    "                                'Designation': 'Data Scientist',\n",
    "                                'Location': 'Pune',\n",
    "                                'Salary': 95000}}\n",
    "len(employee_details)"
   ]
  },
  {
   "cell_type": "code",
   "execution_count": 3,
   "id": "91bf35c6",
   "metadata": {},
   "outputs": [
    {
     "data": {
      "text/plain": [
       "95000"
      ]
     },
     "execution_count": 3,
     "metadata": {},
     "output_type": "execute_result"
    }
   ],
   "source": [
    "employee_details = {\"TCS10005\": {'Name': 'Vishal',\n",
    "                                'Age' : 28,\n",
    "                                'Designation': 'Data Scientist',\n",
    "                                'Location': 'Pune',\n",
    "                                'Salary': 95000},\n",
    "                    \"TCS10006\" :{'Name': 'Pravin',\n",
    "                                'Age' : 27,\n",
    "                                'Designation': 'Python Developer',\n",
    "                                'Location': 'Mumbai',\n",
    "                                'Salary': 80000},\n",
    "                    \"TCS10007\" :{'Name': 'Anand',\n",
    "                                'Age' : 29,\n",
    "                                'Designation': 'Data Analyst',\n",
    "                                'Location': 'Banglore',\n",
    "                                'Salary': 90000}}\n",
    "\n",
    "employee_details['TCS10005']['Name'] #dict\n",
    "employee_details['TCS10005']['Salary']"
   ]
  },
  {
   "cell_type": "code",
   "execution_count": 7,
   "id": "33d5df89",
   "metadata": {},
   "outputs": [
    {
     "data": {
      "text/plain": [
       "'Pravin'"
      ]
     },
     "execution_count": 7,
     "metadata": {},
     "output_type": "execute_result"
    }
   ],
   "source": [
    "employee_details = {\"TCS10005\": {'Name': 'Vishal',\n",
    "                                'Age' : 28,\n",
    "                                'Designation': 'Data Scientist',\n",
    "                                'Location': 'Pune',\n",
    "                                'Salary': 95000},\n",
    "                    \"TCS10006\" :{'Name': 'Pravin',\n",
    "                                'Age' : 27,\n",
    "                                'Designation': 'Python Developer',\n",
    "                                'Location': 'Mumbai',\n",
    "                                'Salary': 80000},\n",
    "                    \"TCS10007\" :{'Name': 'Anand',\n",
    "                                'Age' : 29,\n",
    "                                'Designation': 'Data Analyst',\n",
    "                                'Location': 'Banglore',\n",
    "                                'Salary': 90000}}\n",
    "\n",
    "employee_details['TCS10006']['Name']"
   ]
  },
  {
   "cell_type": "code",
   "execution_count": 5,
   "id": "58c82597",
   "metadata": {},
   "outputs": [
    {
     "data": {
      "text/plain": [
       "40000"
      ]
     },
     "execution_count": 5,
     "metadata": {},
     "output_type": "execute_result"
    }
   ],
   "source": [
    "employee_details = {\"TCS10005\": {'Name': 'Vishal',\n",
    "                                'Age' : 28,\n",
    "                                'Designation': 'Data Scientist',\n",
    "                                'Location': 'Pune',\n",
    "                                'Salary': 95000},\n",
    "                    \"TCS10006\" :{'Name': 'Pravin',\n",
    "                                'Age' : 27,\n",
    "                                'Designation': 'Python Developer',\n",
    "                                'Location': 'Mumbai',\n",
    "                                'Salary': [80000,40000,60000,70000]},\n",
    "                    \"TCS10007\" :{'Name': 'Anand',\n",
    "                                'Age' : 29,\n",
    "                                'Designation': 'Data Analyst',\n",
    "                                'Location': 'Banglore',\n",
    "                                'Salary': 90000}}\n",
    "\n",
    "employee_details['TCS10006']['Salary']#[1]\n",
    "employee_details['TCS10006']['Salary'][1]"
   ]
  },
  {
   "cell_type": "code",
   "execution_count": 8,
   "id": "089ad439",
   "metadata": {
    "scrolled": true
   },
   "outputs": [
    {
     "data": {
      "text/plain": [
       "{'TCS10005': {'Name': 'Vishal',\n",
       "  'Age': 28,\n",
       "  'Designation': 'Data Scientist',\n",
       "  'Location': 'Pune',\n",
       "  'Salary': 95000},\n",
       " 'TCS10006': {'Name': 'Pravin',\n",
       "  'Age': 27,\n",
       "  'Designation': 'Application Developer',\n",
       "  'Location': 'Mumbai',\n",
       "  'Salary': [80000, 40000, 60000, 70000]},\n",
       " 'TCS10007': {'Name': 'Anand',\n",
       "  'Age': 29,\n",
       "  'Designation': 'Data Analyst',\n",
       "  'Location': 'Banglore',\n",
       "  'Salary': 90000}}"
      ]
     },
     "execution_count": 8,
     "metadata": {},
     "output_type": "execute_result"
    }
   ],
   "source": [
    "employee_details = {\"TCS10005\": {'Name': 'Vishal',\n",
    "                                'Age' : 28,\n",
    "                                'Designation': 'Data Scientist',\n",
    "                                'Location': 'Pune',\n",
    "                                'Salary': 95000},\n",
    "                    \"TCS10006\" :{'Name': 'Pravin',\n",
    "                                'Age' : 27,\n",
    "                                'Designation': 'Python Developer', #aplication developer\n",
    "                                'Location': 'Mumbai',\n",
    "                                'Salary': [80000,40000,60000,70000]},\n",
    "                    \"TCS10007\" :{'Name': 'Anand',\n",
    "                                'Age' : 29,\n",
    "                                'Designation': 'Data Analyst',\n",
    "                                'Location': 'Banglore',\n",
    "                                'Salary': 90000}}\n",
    "\n",
    "employee_details['TCS10006']['Designation'] #= \"Application Developer\"\n",
    "#employee_details\n",
    "employee_details['TCS10006']['Designation'] = \"Application Developer\"\n",
    "employee_details\n"
   ]
  },
  {
   "cell_type": "code",
   "execution_count": null,
   "id": "898aa1ac",
   "metadata": {},
   "outputs": [],
   "source": []
  },
  {
   "cell_type": "code",
   "execution_count": null,
   "id": "99a895ca",
   "metadata": {},
   "outputs": [],
   "source": []
  },
  {
   "cell_type": "code",
   "execution_count": null,
   "id": "080531ca",
   "metadata": {},
   "outputs": [],
   "source": []
  },
  {
   "cell_type": "code",
   "execution_count": null,
   "id": "7e91ba52",
   "metadata": {},
   "outputs": [],
   "source": []
  },
  {
   "cell_type": "markdown",
   "id": "b1e9713e",
   "metadata": {},
   "source": [
    "# How to delete items from dict"
   ]
  },
  {
   "cell_type": "raw",
   "id": "350ea03c",
   "metadata": {},
   "source": [
    "1. pop()\n",
    "2. popitem()\n",
    "3. clear()"
   ]
  },
  {
   "cell_type": "code",
   "execution_count": 9,
   "id": "bee66cee",
   "metadata": {},
   "outputs": [
    {
     "data": {
      "text/plain": [
       "{'Name': 'Vikram',\n",
       " 'Age': 29,\n",
       " 'Company': 'Wipro',\n",
       " 'Designation': 'Data Scientist',\n",
       " 'Location': 'Pune',\n",
       " 'Salary': 95000}"
      ]
     },
     "execution_count": 9,
     "metadata": {},
     "output_type": "execute_result"
    }
   ],
   "source": [
    "employee_details = {'Name': 'Vikram',\n",
    "                    'Age' : 29,\n",
    "                    'Company': 'Wipro',\n",
    "                    'Designation': 'Data Scientist',\n",
    "                    'Location': 'Pune',\n",
    "                    'Salary': 95000}\n",
    "# print(employee_details)\n",
    "employee_details"
   ]
  },
  {
   "cell_type": "markdown",
   "id": "14868352",
   "metadata": {},
   "source": [
    "### 1. pop()"
   ]
  },
  {
   "cell_type": "code",
   "execution_count": null,
   "id": "b3f76e9b",
   "metadata": {},
   "outputs": [],
   "source": [
    "removes element with specified key"
   ]
  },
  {
   "cell_type": "code",
   "execution_count": 10,
   "id": "6ab0625b",
   "metadata": {},
   "outputs": [
    {
     "data": {
      "text/plain": [
       "{'Name': 'Vikram',\n",
       " 'Age': 29,\n",
       " 'Company': 'Wipro',\n",
       " 'Designation': 'Data Scientist',\n",
       " 'Salary': 95000}"
      ]
     },
     "execution_count": 10,
     "metadata": {},
     "output_type": "execute_result"
    }
   ],
   "source": [
    "employee_details = {'Name': 'Vikram',\n",
    "                    'Age' : 29,\n",
    "                    'Company': 'Wipro',\n",
    "                    'Designation': 'Data Scientist',\n",
    "                    'Location': 'Pune',\n",
    "                    'Salary': 95000}   #remove Location\n",
    "\n",
    "employee_details.pop('Location')\n",
    "employee_details"
   ]
  },
  {
   "cell_type": "code",
   "execution_count": 11,
   "id": "592f75b4",
   "metadata": {},
   "outputs": [
    {
     "data": {
      "text/plain": [
       "{'Name': 'Vikram',\n",
       " 'Age': 29,\n",
       " 'Company': 'Wipro',\n",
       " 'Designation': 'Data Scientist',\n",
       " 'Location': 'Pune'}"
      ]
     },
     "execution_count": 11,
     "metadata": {},
     "output_type": "execute_result"
    }
   ],
   "source": [
    "employee_details = {'Name': 'Vikram',\n",
    "                    'Age' : 29,\n",
    "                    'Company': 'Wipro',\n",
    "                    'Designation': 'Data Scientist',\n",
    "                    'Location': 'Pune',\n",
    "                    'Salary': 95000}\n",
    "\n",
    "\n",
    "employee_details.pop('Salary')\n",
    "employee_details"
   ]
  },
  {
   "cell_type": "code",
   "execution_count": 12,
   "id": "20d23d69",
   "metadata": {
    "scrolled": true
   },
   "outputs": [
    {
     "ename": "KeyError",
     "evalue": "'age'",
     "output_type": "error",
     "traceback": [
      "\u001b[1;31m---------------------------------------------------------------------------\u001b[0m",
      "\u001b[1;31mKeyError\u001b[0m                                  Traceback (most recent call last)",
      "Input \u001b[1;32mIn [12]\u001b[0m, in \u001b[0;36m<cell line: 8>\u001b[1;34m()\u001b[0m\n\u001b[0;32m      1\u001b[0m employee_details \u001b[38;5;241m=\u001b[39m {\u001b[38;5;124m'\u001b[39m\u001b[38;5;124mName\u001b[39m\u001b[38;5;124m'\u001b[39m: \u001b[38;5;124m'\u001b[39m\u001b[38;5;124mVikram\u001b[39m\u001b[38;5;124m'\u001b[39m,\n\u001b[0;32m      2\u001b[0m                     \u001b[38;5;124m'\u001b[39m\u001b[38;5;124mAge\u001b[39m\u001b[38;5;124m'\u001b[39m : \u001b[38;5;241m29\u001b[39m,\n\u001b[0;32m      3\u001b[0m                     \u001b[38;5;124m'\u001b[39m\u001b[38;5;124mCompany\u001b[39m\u001b[38;5;124m'\u001b[39m: \u001b[38;5;124m'\u001b[39m\u001b[38;5;124mWipro\u001b[39m\u001b[38;5;124m'\u001b[39m,\n\u001b[0;32m      4\u001b[0m                     \u001b[38;5;124m'\u001b[39m\u001b[38;5;124mDesignation\u001b[39m\u001b[38;5;124m'\u001b[39m: \u001b[38;5;124m'\u001b[39m\u001b[38;5;124mData Scientist\u001b[39m\u001b[38;5;124m'\u001b[39m,\n\u001b[0;32m      5\u001b[0m                     \u001b[38;5;124m'\u001b[39m\u001b[38;5;124mLocation\u001b[39m\u001b[38;5;124m'\u001b[39m: \u001b[38;5;124m'\u001b[39m\u001b[38;5;124mPune\u001b[39m\u001b[38;5;124m'\u001b[39m,\n\u001b[0;32m      6\u001b[0m                     \u001b[38;5;124m'\u001b[39m\u001b[38;5;124mSalary\u001b[39m\u001b[38;5;124m'\u001b[39m: \u001b[38;5;241m95000\u001b[39m} \n\u001b[1;32m----> 8\u001b[0m \u001b[43memployee_details\u001b[49m\u001b[38;5;241;43m.\u001b[39;49m\u001b[43mpop\u001b[49m\u001b[43m(\u001b[49m\u001b[38;5;124;43m'\u001b[39;49m\u001b[38;5;124;43mage\u001b[39;49m\u001b[38;5;124;43m'\u001b[39;49m\u001b[43m)\u001b[49m\n\u001b[0;32m      9\u001b[0m employee_details\n",
      "\u001b[1;31mKeyError\u001b[0m: 'age'"
     ]
    }
   ],
   "source": [
    "employee_details = {'Name': 'Vikram',\n",
    "                    'Age' : 29,\n",
    "                    'Company': 'Wipro',\n",
    "                    'Designation': 'Data Scientist',\n",
    "                    'Location': 'Pune',\n",
    "                    'Salary': 95000} \n",
    "\n",
    "employee_details.pop('age')\n",
    "employee_details"
   ]
  },
  {
   "cell_type": "markdown",
   "id": "164f7fec",
   "metadata": {},
   "source": [
    "### 2. popitem()"
   ]
  },
  {
   "cell_type": "code",
   "execution_count": null,
   "id": "ad0120f2",
   "metadata": {},
   "outputs": [],
   "source": [
    "used to remove/delete last inserted item"
   ]
  },
  {
   "cell_type": "code",
   "execution_count": 13,
   "id": "322ce118",
   "metadata": {},
   "outputs": [
    {
     "data": {
      "text/plain": [
       "{'Name': 'Vikram',\n",
       " 'Age': 29,\n",
       " 'Company': 'Wipro',\n",
       " 'Designation': 'Data Scientist',\n",
       " 'Location': 'Pune'}"
      ]
     },
     "execution_count": 13,
     "metadata": {},
     "output_type": "execute_result"
    }
   ],
   "source": [
    "employee_details = {'Name': 'Vikram',\n",
    "                    'Age' : 29,\n",
    "                    'Company': 'Wipro',\n",
    "                    'Designation': 'Data Scientist',\n",
    "                    'Location': 'Pune',\n",
    "                    'Salary': 95000}  \n",
    "\n",
    "employee_details.popitem()\n",
    "employee_details"
   ]
  },
  {
   "cell_type": "code",
   "execution_count": 14,
   "id": "f384e9c4",
   "metadata": {},
   "outputs": [
    {
     "name": "stdout",
     "output_type": "stream",
     "text": [
      "len of dict before popitem is:  6\n",
      "len of dict after popitem is :  5\n"
     ]
    },
    {
     "data": {
      "text/plain": [
       "{'Name': 'Vikram',\n",
       " 'Age': 29,\n",
       " 'Company': 'Wipro',\n",
       " 'Designation': 'Data Scientist',\n",
       " 'Location': 'Pune'}"
      ]
     },
     "execution_count": 14,
     "metadata": {},
     "output_type": "execute_result"
    }
   ],
   "source": [
    "employee_details = {'Name': 'Vikram',\n",
    "                    'Age' : 29,\n",
    "                    'Company': 'Wipro',\n",
    "                    'Designation': 'Data Scientist',\n",
    "                    'Location': 'Pune',\n",
    "                    'Salary': 95000}  \n",
    "print('len of dict before popitem is: ',len(employee_details))\n",
    "\n",
    "employee_details.popitem()\n",
    "print('len of dict after popitem is : ',len(employee_details))\n",
    "employee_details"
   ]
  },
  {
   "cell_type": "markdown",
   "id": "fe49452e",
   "metadata": {},
   "source": [
    "### 3. clear()"
   ]
  },
  {
   "cell_type": "code",
   "execution_count": null,
   "id": "a5ab49bc",
   "metadata": {},
   "outputs": [],
   "source": [
    "remove all element from dict"
   ]
  },
  {
   "cell_type": "code",
   "execution_count": 15,
   "id": "8e582fd2",
   "metadata": {},
   "outputs": [
    {
     "data": {
      "text/plain": [
       "{}"
      ]
     },
     "execution_count": 15,
     "metadata": {},
     "output_type": "execute_result"
    }
   ],
   "source": [
    "employee_details = {'Name': 'Vikram',\n",
    "                    'Age' : 29,\n",
    "                    'Company': 'Wipro',\n",
    "                    'Designation': 'Data Scientist',\n",
    "                    'Location': 'Pune',\n",
    "                    'Salary': 95000}\n",
    "\n",
    "employee_details.clear()\n",
    "employee_details"
   ]
  },
  {
   "cell_type": "markdown",
   "id": "9322303d",
   "metadata": {},
   "source": [
    "### 4. del keyword"
   ]
  },
  {
   "cell_type": "code",
   "execution_count": 16,
   "id": "0a37bb10",
   "metadata": {},
   "outputs": [
    {
     "ename": "NameError",
     "evalue": "name 'employee_details' is not defined",
     "output_type": "error",
     "traceback": [
      "\u001b[1;31m---------------------------------------------------------------------------\u001b[0m",
      "\u001b[1;31mNameError\u001b[0m                                 Traceback (most recent call last)",
      "Input \u001b[1;32mIn [16]\u001b[0m, in \u001b[0;36m<cell line: 8>\u001b[1;34m()\u001b[0m\n\u001b[0;32m      1\u001b[0m employee_details \u001b[38;5;241m=\u001b[39m {\u001b[38;5;124m'\u001b[39m\u001b[38;5;124mName\u001b[39m\u001b[38;5;124m'\u001b[39m: \u001b[38;5;124m'\u001b[39m\u001b[38;5;124mVikram\u001b[39m\u001b[38;5;124m'\u001b[39m,\n\u001b[0;32m      2\u001b[0m                     \u001b[38;5;124m'\u001b[39m\u001b[38;5;124mAge\u001b[39m\u001b[38;5;124m'\u001b[39m : \u001b[38;5;241m29\u001b[39m,\n\u001b[0;32m      3\u001b[0m                     \u001b[38;5;124m'\u001b[39m\u001b[38;5;124mCompany\u001b[39m\u001b[38;5;124m'\u001b[39m: \u001b[38;5;124m'\u001b[39m\u001b[38;5;124mWipro\u001b[39m\u001b[38;5;124m'\u001b[39m,\n\u001b[0;32m      4\u001b[0m                     \u001b[38;5;124m'\u001b[39m\u001b[38;5;124mDesignation\u001b[39m\u001b[38;5;124m'\u001b[39m: \u001b[38;5;124m'\u001b[39m\u001b[38;5;124mData Scientist\u001b[39m\u001b[38;5;124m'\u001b[39m,\n\u001b[0;32m      5\u001b[0m                     \u001b[38;5;124m'\u001b[39m\u001b[38;5;124mLocation\u001b[39m\u001b[38;5;124m'\u001b[39m: \u001b[38;5;124m'\u001b[39m\u001b[38;5;124mPune\u001b[39m\u001b[38;5;124m'\u001b[39m,\n\u001b[0;32m      6\u001b[0m                     \u001b[38;5;124m'\u001b[39m\u001b[38;5;124mSalary\u001b[39m\u001b[38;5;124m'\u001b[39m: \u001b[38;5;241m95000\u001b[39m}\n\u001b[0;32m      7\u001b[0m \u001b[38;5;28;01mdel\u001b[39;00m employee_details\n\u001b[1;32m----> 8\u001b[0m \u001b[43memployee_details\u001b[49m\n",
      "\u001b[1;31mNameError\u001b[0m: name 'employee_details' is not defined"
     ]
    }
   ],
   "source": [
    "employee_details = {'Name': 'Vikram',\n",
    "                    'Age' : 29,\n",
    "                    'Company': 'Wipro',\n",
    "                    'Designation': 'Data Scientist',\n",
    "                    'Location': 'Pune',\n",
    "                    'Salary': 95000}\n",
    "del employee_details\n",
    "employee_details"
   ]
  },
  {
   "cell_type": "code",
   "execution_count": 33,
   "id": "5a27cbc6",
   "metadata": {},
   "outputs": [
    {
     "ename": "NameError",
     "evalue": "name 'employee_details' is not defined",
     "output_type": "error",
     "traceback": [
      "\u001b[1;31m---------------------------------------------------------------------------\u001b[0m",
      "\u001b[1;31mNameError\u001b[0m                                 Traceback (most recent call last)",
      "Input \u001b[1;32mIn [33]\u001b[0m, in \u001b[0;36m<cell line: 8>\u001b[1;34m()\u001b[0m\n\u001b[0;32m      1\u001b[0m employee_details \u001b[38;5;241m=\u001b[39m {\u001b[38;5;124m'\u001b[39m\u001b[38;5;124mName\u001b[39m\u001b[38;5;124m'\u001b[39m: \u001b[38;5;124m'\u001b[39m\u001b[38;5;124mVikram\u001b[39m\u001b[38;5;124m'\u001b[39m,\n\u001b[0;32m      2\u001b[0m                     \u001b[38;5;124m'\u001b[39m\u001b[38;5;124mAge\u001b[39m\u001b[38;5;124m'\u001b[39m : \u001b[38;5;241m29\u001b[39m,\n\u001b[0;32m      3\u001b[0m                     \u001b[38;5;124m'\u001b[39m\u001b[38;5;124mCompany\u001b[39m\u001b[38;5;124m'\u001b[39m: \u001b[38;5;124m'\u001b[39m\u001b[38;5;124mWipro\u001b[39m\u001b[38;5;124m'\u001b[39m,\n\u001b[0;32m      4\u001b[0m                     \u001b[38;5;124m'\u001b[39m\u001b[38;5;124mDesignation\u001b[39m\u001b[38;5;124m'\u001b[39m: \u001b[38;5;124m'\u001b[39m\u001b[38;5;124mData Scientist\u001b[39m\u001b[38;5;124m'\u001b[39m,\n\u001b[0;32m      5\u001b[0m                     \u001b[38;5;124m'\u001b[39m\u001b[38;5;124mLocation\u001b[39m\u001b[38;5;124m'\u001b[39m: \u001b[38;5;124m'\u001b[39m\u001b[38;5;124mPune\u001b[39m\u001b[38;5;124m'\u001b[39m,\n\u001b[0;32m      6\u001b[0m                     \u001b[38;5;124m'\u001b[39m\u001b[38;5;124mSalary\u001b[39m\u001b[38;5;124m'\u001b[39m: \u001b[38;5;241m95000\u001b[39m}\n\u001b[0;32m      7\u001b[0m \u001b[38;5;28;01mdel\u001b[39;00m employee_details\n\u001b[1;32m----> 8\u001b[0m \u001b[43memployee_details\u001b[49m\n",
      "\u001b[1;31mNameError\u001b[0m: name 'employee_details' is not defined"
     ]
    }
   ],
   "source": [
    "employee_details = {'Name': 'Vikram',\n",
    "                    'Age' : 29,\n",
    "                    'Company': 'Wipro',\n",
    "                    'Designation': 'Data Scientist',\n",
    "                    'Location': 'Pune',\n",
    "                    'Salary': 95000}\n",
    "del employee_details\n",
    "employee_details"
   ]
  },
  {
   "cell_type": "code",
   "execution_count": 17,
   "id": "8005f0eb",
   "metadata": {},
   "outputs": [
    {
     "data": {
      "text/plain": [
       "{'Name': 'Vikram',\n",
       " 'Company': 'Wipro',\n",
       " 'Designation': 'Data Scientist',\n",
       " 'Location': 'Pune',\n",
       " 'Salary': 95000}"
      ]
     },
     "execution_count": 17,
     "metadata": {},
     "output_type": "execute_result"
    }
   ],
   "source": [
    "employee_details = {'Name': 'Vikram',\n",
    "                    'Age' : 29,\n",
    "                    'Company': 'Wipro',\n",
    "                    'Designation': 'Data Scientist',\n",
    "                    'Location': 'Pune',\n",
    "                    'Salary': 95000}\n",
    "\n",
    "del employee_details['Age']\n",
    "employee_details"
   ]
  },
  {
   "cell_type": "code",
   "execution_count": null,
   "id": "b54e0ec9",
   "metadata": {},
   "outputs": [],
   "source": [
    "# Questions:"
   ]
  },
  {
   "cell_type": "raw",
   "id": "66467f6b",
   "metadata": {},
   "source": [
    "Question: Create an empty dictionary named my_info. Then, add the key-value pairs \"name\": \"shraddha\" and \"age\": 24 to it. Print the dictionary."
   ]
  },
  {
   "cell_type": "code",
   "execution_count": 20,
   "id": "089e78e7",
   "metadata": {},
   "outputs": [
    {
     "name": "stdout",
     "output_type": "stream",
     "text": [
      "{'name': 'shraddha', 'age': 24}\n",
      "{'name': 'shraddha', 'age': 30}\n"
     ]
    }
   ],
   "source": [
    "my_info = {}\n",
    "my_info[\"name\"] = \"shraddha\"\n",
    "my_info[\"age\"] = 24\n",
    "print(my_info)\n",
    "my_info[\"age\"]=30\n",
    "print(my_info)"
   ]
  },
  {
   "cell_type": "code",
   "execution_count": 3,
   "id": "7ce6478a",
   "metadata": {},
   "outputs": [
    {
     "data": {
      "text/plain": [
       "{'name': 'shraddha', 'age': 24}"
      ]
     },
     "execution_count": 3,
     "metadata": {},
     "output_type": "execute_result"
    }
   ],
   "source": [
    "my_info={}\n",
    "my_info.update({\"name\":\"shraddha\",\"age\":24})\n",
    "my_info"
   ]
  },
  {
   "cell_type": "raw",
   "id": "f8ec0b65",
   "metadata": {},
   "source": [
    "Question:Given the dictionary student = {\"name\": \"Aman\", \"grade\": \"A\"}, access and print the value associated with the key \"name\"."
   ]
  },
  {
   "cell_type": "code",
   "execution_count": 37,
   "id": "6f35d7fd",
   "metadata": {},
   "outputs": [
    {
     "name": "stdout",
     "output_type": "stream",
     "text": [
      "Aman\n"
     ]
    }
   ],
   "source": [
    "student = {\"name\": \"Aman\", \"grade\": \"A\"}\n",
    "print(student[\"name\"])"
   ]
  },
  {
   "cell_type": "code",
   "execution_count": null,
   "id": "be521073",
   "metadata": {},
   "outputs": [],
   "source": []
  },
  {
   "cell_type": "raw",
   "id": "8f541cfc",
   "metadata": {},
   "source": [
    "Question: Given the dictionary items = {\"apple\": 1, \"banana\": 2, \"cherry\": 3}, how would you get a list of all the keys in this dictionary?"
   ]
  },
  {
   "cell_type": "code",
   "execution_count": 21,
   "id": "ab336fd0",
   "metadata": {},
   "outputs": [
    {
     "name": "stdout",
     "output_type": "stream",
     "text": [
      "['apple', 'banana', 'cherry']\n"
     ]
    }
   ],
   "source": [
    "items = {\"apple\": 1, \"banana\": 2, \"cherry\": 3}\n",
    "keys_list = list(items.keys())\n",
    "print(keys_list)"
   ]
  },
  {
   "cell_type": "code",
   "execution_count": null,
   "id": "7186fbec",
   "metadata": {},
   "outputs": [],
   "source": []
  },
  {
   "cell_type": "code",
   "execution_count": null,
   "id": "11915693",
   "metadata": {},
   "outputs": [],
   "source": []
  }
 ],
 "metadata": {
  "kernelspec": {
   "display_name": "Python 3 (ipykernel)",
   "language": "python",
   "name": "python3"
  },
  "language_info": {
   "codemirror_mode": {
    "name": "ipython",
    "version": 3
   },
   "file_extension": ".py",
   "mimetype": "text/x-python",
   "name": "python",
   "nbconvert_exporter": "python",
   "pygments_lexer": "ipython3",
   "version": "3.9.12"
  }
 },
 "nbformat": 4,
 "nbformat_minor": 5
}
