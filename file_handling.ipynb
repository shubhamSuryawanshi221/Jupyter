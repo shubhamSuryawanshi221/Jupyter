{
 "cells": [
  {
   "cell_type": "markdown",
   "id": "2a6021f5",
   "metadata": {},
   "source": [
    "# File Handling"
   ]
  },
  {
   "cell_type": "code",
   "execution_count": null,
   "id": "e8d63a7f",
   "metadata": {},
   "outputs": [],
   "source": [
    "text>>>"
   ]
  },
  {
   "cell_type": "code",
   "execution_count": null,
   "id": "1fde539e",
   "metadata": {},
   "outputs": [],
   "source": [
    "Text  >>> \n",
    "JSON\n",
    "ML Model (pickle)"
   ]
  },
  {
   "cell_type": "code",
   "execution_count": null,
   "id": "ba3f92e9",
   "metadata": {},
   "outputs": [],
   "source": [
    "Data needs to be stored\n",
    ">> writing file >> storage\n",
    ">> reading file >> retrival"
   ]
  },
  {
   "cell_type": "markdown",
   "id": "ce1f0696",
   "metadata": {},
   "source": [
    "# File Operations"
   ]
  },
  {
   "cell_type": "code",
   "execution_count": null,
   "id": "9a314e47",
   "metadata": {},
   "outputs": [],
   "source": [
    "The process involves three main steps: \n",
    "    opening a file, performing an action (reading or writing), and closing the file."
   ]
  },
  {
   "cell_type": "code",
   "execution_count": null,
   "id": "417e4c8f",
   "metadata": {},
   "outputs": [],
   "source": [
    "1. write  \n",
    "2. read  \n",
    "3. append "
   ]
  },
  {
   "cell_type": "markdown",
   "id": "81ecdb94",
   "metadata": {},
   "source": [
    "# open function"
   ]
  },
  {
   "cell_type": "code",
   "execution_count": null,
   "id": "d965b360",
   "metadata": {},
   "outputs": [],
   "source": [
    "syntax:\n",
    "    open(file_name or file_path , mode = 'r')\n",
    "#we need to close the function\n",
    "    close()"
   ]
  },
  {
   "cell_type": "markdown",
   "id": "9ef26aa1",
   "metadata": {},
   "source": [
    "# Modes:"
   ]
  },
  {
   "cell_type": "code",
   "execution_count": null,
   "id": "08dd3b3f",
   "metadata": {},
   "outputs": [],
   "source": [
    "Modes:\n",
    "    1. read mode   >> 'r'\n",
    "    2. write mode  >> 'w'\n",
    "    3. write mode  >> 'x'\n",
    "    4. append mode >> 'a'\n",
    "    5. read bytes  >> 'rb'\n",
    "    6. write bytes  >> 'wb'"
   ]
  },
  {
   "cell_type": "markdown",
   "id": "bc1cc215",
   "metadata": {},
   "source": [
    "# 1. Write Mode"
   ]
  },
  {
   "cell_type": "code",
   "execution_count": null,
   "id": "8aa47f0c",
   "metadata": {},
   "outputs": [],
   "source": [
    ">> write mode >> 'w'\n",
    "It will create a new file, if not exists.\n",
    "It will overwrite a text , if file is already exists."
   ]
  },
  {
   "cell_type": "code",
   "execution_count": 1,
   "id": "1db1e7b1",
   "metadata": {},
   "outputs": [],
   "source": [
    "f = open('sample.txt', 'w')\n",
    "f.write('We are learning File Handling')\n",
    "f.close()"
   ]
  },
  {
   "cell_type": "code",
   "execution_count": 2,
   "id": "2e65b849",
   "metadata": {},
   "outputs": [],
   "source": [
    "f = open('sample.txt', 'w')\n",
    "f.write('We are learning Data Science')\n",
    "f.close()"
   ]
  },
  {
   "cell_type": "code",
   "execution_count": 4,
   "id": "e893af25",
   "metadata": {},
   "outputs": [],
   "source": [
    "text = '''Data science is an interdisciplinary field that \n",
    "uses scientific methods, processes, algorithms and systems \n",
    "to extract knowledge and insights from noisy, structured and \n",
    "unstructured data, and apply knowledge \n",
    "from data across a broad range of application domains'''\n",
    "\n",
    "f = open('data_science.txt', 'w')\n",
    "f.write(text)\n",
    "f.close()"
   ]
  },
  {
   "cell_type": "markdown",
   "id": "ecbbf314",
   "metadata": {},
   "source": [
    "# 2. append()"
   ]
  },
  {
   "cell_type": "code",
   "execution_count": null,
   "id": "6d29eea6",
   "metadata": {},
   "outputs": [],
   "source": [
    "append mode >> 'a'\n",
    "it create a new file if not exists.\n",
    "It will add text in existing text file.\n"
   ]
  },
  {
   "cell_type": "code",
   "execution_count": 5,
   "id": "ed077585",
   "metadata": {},
   "outputs": [],
   "source": [
    "f = open('new_file.txt', 'a')\n",
    "f.write('We are learning file handling\\n')\n",
    "f.close()"
   ]
  },
  {
   "cell_type": "code",
   "execution_count": 6,
   "id": "5038bfaf",
   "metadata": {},
   "outputs": [],
   "source": [
    "f = open('new_file.txt', 'a')\n",
    "f.write('We are learning append mode')\n",
    "f.close()"
   ]
  },
  {
   "cell_type": "code",
   "execution_count": 7,
   "id": "aaae7f8d",
   "metadata": {},
   "outputs": [],
   "source": [
    "f = open('new_file.txt', 'a')\n",
    "f.write('\\nWe are learning last added item')\n",
    "f.close()"
   ]
  },
  {
   "cell_type": "code",
   "execution_count": 8,
   "id": "30c9dffa",
   "metadata": {},
   "outputs": [],
   "source": [
    "f = open('new_file.txt', 'a')\n",
    "f.write('\\n1233456789')\n",
    "f.close()"
   ]
  },
  {
   "cell_type": "markdown",
   "id": "825e7171",
   "metadata": {},
   "source": [
    "# 3. read()"
   ]
  },
  {
   "cell_type": "code",
   "execution_count": null,
   "id": "7e590aa7",
   "metadata": {},
   "outputs": [],
   "source": [
    "f = open(file_name , 'r')"
   ]
  },
  {
   "cell_type": "code",
   "execution_count": 9,
   "id": "2296b5d8",
   "metadata": {},
   "outputs": [],
   "source": [
    "text = '''Data science is an interdisciplinary field that \n",
    "uses scientific methods, processes, algorithms and systems \n",
    "to extract knowledge and insights from noisy, structured and \n",
    "unstructured data, and apply knowledge \n",
    "from data across a broad range of application domains'''\n",
    "\n",
    "f = open('ds_read.txt', 'w')\n",
    "f.write(text)\n",
    "f.close()"
   ]
  },
  {
   "cell_type": "code",
   "execution_count": 7,
   "id": "219e2529",
   "metadata": {},
   "outputs": [
    {
     "name": "stdout",
     "output_type": "stream",
     "text": [
      "Data science is an interdisciplinary field that \n",
      "uses scientific methods, processes, algorithms and systems \n",
      "to extract knowledge and insights from noisy, structured and \n",
      "unstructured data, and apply knowledge \n",
      "from data across a broad range of application domains\n"
     ]
    }
   ],
   "source": [
    "f = open('ds_read.txt', 'r')\n",
    "data =f.read()\n",
    "f.close()\n",
    "\n",
    "print(data)"
   ]
  },
  {
   "cell_type": "code",
   "execution_count": 8,
   "id": "558e250d",
   "metadata": {},
   "outputs": [
    {
     "name": "stdout",
     "output_type": "stream",
     "text": [
      "Data science is an interdisciplinary field that \n",
      "uses scientific methods, processes, algorithms and systems \n",
      "to extract knowledge and insights from noisy, structured and \n",
      "unstructured data, and apply knowledge \n",
      "from data across a broad range of application domains\n"
     ]
    }
   ],
   "source": [
    "f = open('data_science.txt', 'r')\n",
    "data =f.read()\n",
    "f.close()\n",
    "\n",
    "print(data)"
   ]
  },
  {
   "cell_type": "markdown",
   "id": "b0b385e4",
   "metadata": {},
   "source": [
    "# 4. write()"
   ]
  },
  {
   "cell_type": "code",
   "execution_count": null,
   "id": "42427b54",
   "metadata": {},
   "outputs": [],
   "source": [
    "write mode >> 'x'\n",
    "it creates file if not exists\n",
    "it avoids overwriting"
   ]
  },
  {
   "cell_type": "code",
   "execution_count": 10,
   "id": "916cf1b9",
   "metadata": {},
   "outputs": [],
   "source": [
    "f = open('testing.txt', 'x')\n",
    "f.write('We are learning data science')\n",
    "f.close()"
   ]
  },
  {
   "cell_type": "code",
   "execution_count": 11,
   "id": "868de79f",
   "metadata": {},
   "outputs": [
    {
     "ename": "FileExistsError",
     "evalue": "[Errno 17] File exists: 'testing.txt'",
     "output_type": "error",
     "traceback": [
      "\u001b[1;31m---------------------------------------------------------------------------\u001b[0m",
      "\u001b[1;31mFileExistsError\u001b[0m                           Traceback (most recent call last)",
      "Input \u001b[1;32mIn [11]\u001b[0m, in \u001b[0;36m<cell line: 1>\u001b[1;34m()\u001b[0m\n\u001b[1;32m----> 1\u001b[0m f \u001b[38;5;241m=\u001b[39m \u001b[38;5;28;43mopen\u001b[39;49m\u001b[43m(\u001b[49m\u001b[38;5;124;43m'\u001b[39;49m\u001b[38;5;124;43mtesting.txt\u001b[39;49m\u001b[38;5;124;43m'\u001b[39;49m\u001b[43m,\u001b[49m\u001b[43m \u001b[49m\u001b[38;5;124;43m'\u001b[39;49m\u001b[38;5;124;43mx\u001b[39;49m\u001b[38;5;124;43m'\u001b[39;49m\u001b[43m)\u001b[49m\n\u001b[0;32m      2\u001b[0m f\u001b[38;5;241m.\u001b[39mwrite(\u001b[38;5;124m'\u001b[39m\u001b[38;5;124mWe are learning data science\u001b[39m\u001b[38;5;124m'\u001b[39m)\n\u001b[0;32m      3\u001b[0m f\u001b[38;5;241m.\u001b[39mclose()\n",
      "\u001b[1;31mFileExistsError\u001b[0m: [Errno 17] File exists: 'testing.txt'"
     ]
    }
   ],
   "source": [
    "f = open('testing.txt', 'x')\n",
    "f.write('We are learning data science')\n",
    "f.close() #error"
   ]
  },
  {
   "cell_type": "markdown",
   "id": "0e52f11b",
   "metadata": {},
   "source": [
    "# with statement"
   ]
  },
  {
   "cell_type": "code",
   "execution_count": null,
   "id": "abd7912a",
   "metadata": {},
   "outputs": [],
   "source": [
    ">> no need to use close function\n",
    "with statement automatically close file operation"
   ]
  },
  {
   "cell_type": "code",
   "execution_count": null,
   "id": "461f1a79",
   "metadata": {},
   "outputs": [],
   "source": [
    "f = open('close.txt', 'w')\n",
    "f.write('We are learning Data Science')\n",
    "f.close()"
   ]
  },
  {
   "cell_type": "code",
   "execution_count": null,
   "id": "a9448484",
   "metadata": {},
   "outputs": [],
   "source": [
    "with open(\"python.txt\",\"w\") as f:\n",
    "    f.write(\"python and data analysis\")"
   ]
  },
  {
   "cell_type": "code",
   "execution_count": 12,
   "id": "8d66a925",
   "metadata": {},
   "outputs": [],
   "source": [
    "with open('data1.txt', 'w') as f:\n",
    "    f.write('We are learning with statement')"
   ]
  },
  {
   "cell_type": "code",
   "execution_count": 13,
   "id": "7340a9b8",
   "metadata": {},
   "outputs": [],
   "source": [
    "with open('data1.txt', 'a') as f:\n",
    "    f.write('\\nWe are learning with statement')"
   ]
  },
  {
   "cell_type": "code",
   "execution_count": 13,
   "id": "a2e8d668",
   "metadata": {},
   "outputs": [],
   "source": [
    "with open('data1.txt','r')as f:\n",
    "    text=f.read()"
   ]
  },
  {
   "cell_type": "code",
   "execution_count": 14,
   "id": "f1167cb4",
   "metadata": {},
   "outputs": [
    {
     "name": "stdout",
     "output_type": "stream",
     "text": [
      "We are learning with statement\n",
      "We are learning with statement\n"
     ]
    }
   ],
   "source": [
    "print(text)"
   ]
  },
  {
   "cell_type": "markdown",
   "id": "4dfba52b",
   "metadata": {},
   "source": [
    "# JSON Files"
   ]
  },
  {
   "cell_type": "code",
   "execution_count": null,
   "id": "cda30a53",
   "metadata": {},
   "outputs": [],
   "source": [
    "import json"
   ]
  },
  {
   "cell_type": "code",
   "execution_count": 14,
   "id": "1800b902",
   "metadata": {},
   "outputs": [],
   "source": [
    "dict1 ={'key':'value'}\n",
    "data = \"\"\"{'Name':'Virat', 'Age':29,'Designation': 'Data Scientist'}\"\"\"\n",
    "\n",
    "with open('emp_data.json', 'w')as f:\n",
    "    f.write(data)"
   ]
  },
  {
   "cell_type": "code",
   "execution_count": 16,
   "id": "e6ed5e95",
   "metadata": {},
   "outputs": [
    {
     "name": "stdout",
     "output_type": "stream",
     "text": [
      "{'Name':'Virat', 'Age':29,'Designation': 'Data Scientist'}\n"
     ]
    }
   ],
   "source": [
    "with open('emp_data.json', 'r')as f:\n",
    "    json=f.read()\n",
    "\n",
    "print(json)"
   ]
  },
  {
   "cell_type": "code",
   "execution_count": 15,
   "id": "ff2bd547",
   "metadata": {},
   "outputs": [],
   "source": [
    "import json\n",
    "employee_details = { \"TCS1005\": {'Name':'Virat',\n",
    "                                 'Age':29,\n",
    "                                 'Designation': 'Data Scientist'},\n",
    "                    \"TCS1006\": {'Name':'Rahul',\n",
    "                                 'Age':30,\n",
    "                                 'Designation': 'Data Analyst'},\n",
    "                    \"TCS1007\": {'Name':'Alok',\n",
    "                                 'Age':28,\n",
    "                                 'Designation': 'Application Developer'}}\n",
    "\n",
    "with open('employee_details.json', 'w') as f:\n",
    "    json.dump(employee_details, f)"
   ]
  },
  {
   "cell_type": "markdown",
   "id": "2420813d",
   "metadata": {},
   "source": [
    "# Read Json File"
   ]
  },
  {
   "cell_type": "code",
   "execution_count": 18,
   "id": "5dd4a58d",
   "metadata": {},
   "outputs": [
    {
     "name": "stdout",
     "output_type": "stream",
     "text": [
      "{'TCS1005': {'Name': 'Virat', 'Age': 29, 'Designation': 'Data Scientist'}, 'TCS1006': {'Name': 'Rahul', 'Age': 30, 'Designation': 'Data Analyst'}, 'TCS1007': {'Name': 'Alok', 'Age': 28, 'Designation': 'Application Developer'}}\n"
     ]
    }
   ],
   "source": [
    "with open('employee_details.json', 'r') as f:\n",
    "    data=json.load(f)\n",
    "    \n",
    "print(data)"
   ]
  },
  {
   "cell_type": "markdown",
   "id": "172750b0",
   "metadata": {},
   "source": [
    "# Machine Learning Models"
   ]
  },
  {
   "cell_type": "code",
   "execution_count": null,
   "id": "5abe7d01",
   "metadata": {},
   "outputs": [],
   "source": [
    ">> we save machine learning models in pickle form\n",
    "\n"
   ]
  },
  {
   "cell_type": "code",
   "execution_count": null,
   "id": "8c7ab8ae",
   "metadata": {},
   "outputs": [],
   "source": [
    "# Save the model to a file\n",
    "with open(\"model.pkl\", \"wb\") as file:\n",
    "    pickle.dump(model, file)  # Serialize and save the model"
   ]
  },
  {
   "cell_type": "code",
   "execution_count": null,
   "id": "e7273655",
   "metadata": {},
   "outputs": [],
   "source": [
    "# Load the saved model\n",
    "with open(\"model.pkl\", \"rb\") as file:\n",
    "    loaded_model = pickle.load(file)  # Deserialize the model"
   ]
  },
  {
   "cell_type": "code",
   "execution_count": null,
   "id": "d02d2587",
   "metadata": {},
   "outputs": [],
   "source": []
  }
 ],
 "metadata": {
  "kernelspec": {
   "display_name": "Python 3 (ipykernel)",
   "language": "python",
   "name": "python3"
  },
  "language_info": {
   "codemirror_mode": {
    "name": "ipython",
    "version": 3
   },
   "file_extension": ".py",
   "mimetype": "text/x-python",
   "name": "python",
   "nbconvert_exporter": "python",
   "pygments_lexer": "ipython3",
   "version": "3.9.12"
  }
 },
 "nbformat": 4,
 "nbformat_minor": 5
}
