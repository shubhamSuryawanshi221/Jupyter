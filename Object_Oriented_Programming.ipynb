{
 "cells": [
  {
   "cell_type": "markdown",
   "id": "8f00aa22",
   "metadata": {},
   "source": [
    "# Object Oriented Programming"
   ]
  },
  {
   "cell_type": "markdown",
   "id": "303cc06c",
   "metadata": {},
   "source": [
    ">> Imagine you're building a car .\n",
    "\n",
    ">> Instead of thinking about thousands of parts separately, you group them into meaningful components like:\n",
    "\n",
    "Engine >>\n",
    "Wheels >>\n",
    "Brakes >>\n",
    "Steering >>\n",
    "\n",
    ">> Each component has its own properties (like speed, fuel level) and can do things (like accelerate, brake).\n",
    "\n",
    ">> In programming, we call these components objects , and the blueprint for creating them is called a class ."
   ]
  },
  {
   "cell_type": "code",
   "execution_count": null,
   "id": "e0c97dd8",
   "metadata": {},
   "outputs": [],
   "source": [
    "Why OOP is Needed?\n",
    "Let’s say you’re working on a data cleaning script for multiple datasets.\n",
    "\n",
    ">> Without OOP:\n",
    "\n",
    ">> You write separate functions for each dataset.\n",
    ">> Code gets messy.\n",
    "Hard to maintain or reuse. >>100 dataset-10 function...1000 functions\n",
    "\n",
    "\n",
    ">> With OOP:\n",
    "\n",
    "Create a DataCleaner class.\n",
    "Define methods like remove_missing_values, handle outlier, remove text, normalize_columns.\n",
    "Reuse it for any dataset.\n",
    "\n",
    ">> This makes your code:\n",
    "\n",
    "Cleaner\n",
    "Reusable\n",
    "Easier to test and debug"
   ]
  },
  {
   "cell_type": "markdown",
   "id": "b4680b20",
   "metadata": {},
   "source": [
    "dir(str)"
   ]
  },
  {
   "cell_type": "raw",
   "id": "4f231c1c",
   "metadata": {},
   "source": [
    "OOP (Object-Oriented Programming) is a way of organizing code around objects and classes , rather than just functions and logic."
   ]
  },
  {
   "cell_type": "code",
   "execution_count": null,
   "id": "5ad4b7e1",
   "metadata": {},
   "outputs": [],
   "source": [
    "1. object \n",
    "2. class\n",
    "3. inheretance (5 types)\n",
    "4. Encapsulation\n",
    "5. Polymorphism\n",
    "6. Abstraction"
   ]
  },
  {
   "cell_type": "code",
   "execution_count": null,
   "id": "f908c96d",
   "metadata": {},
   "outputs": [],
   "source": []
  },
  {
   "cell_type": "code",
   "execution_count": null,
   "id": "cb63f39c",
   "metadata": {},
   "outputs": [],
   "source": []
  },
  {
   "cell_type": "code",
   "execution_count": null,
   "id": "bd3ac0b5",
   "metadata": {},
   "outputs": [],
   "source": [
    ">> An object is an instance of a class.\n",
    "\n",
    "Class: a blueprint (definition) of attributes (data) and methods (behavior).\n",
    "\n",
    "Object (Instance): a concrete thing created from a class."
   ]
  },
  {
   "cell_type": "code",
   "execution_count": null,
   "id": "3e6ebe51",
   "metadata": {},
   "outputs": [],
   "source": [
    "object >>> real world entities (laptop, mobile,Tv, House.....,)   \n",
    "\n",
    "Class >>> Blueprint of an object that defines methods(functions) \n",
    "and variables( class variable, instance variable,local variable)\n",
    "\n",
    "\n",
    "class >> method(functions)>>>  variable>>>"
   ]
  },
  {
   "cell_type": "code",
   "execution_count": null,
   "id": "f3e4b0df",
   "metadata": {},
   "outputs": [],
   "source": [
    "class data_cleaning:\n",
    "    variable1=\"this is example\"\n",
    "    def handling_missing_values():\n",
    "        \"code for handling missing values\"\n",
    "    \n",
    "    def treat_outliers():\n",
    "        \"code for treating outliers\"\n",
    "\n",
    "\n",
    "data=data_cleaning()\n"
   ]
  },
  {
   "cell_type": "code",
   "execution_count": null,
   "id": "f03ba1e8",
   "metadata": {},
   "outputs": [],
   "source": []
  },
  {
   "cell_type": "code",
   "execution_count": 3,
   "id": "0960a1d6",
   "metadata": {},
   "outputs": [],
   "source": []
  },
  {
   "cell_type": "markdown",
   "id": "3893b977",
   "metadata": {},
   "source": [
    "# Syntax:"
   ]
  },
  {
   "cell_type": "code",
   "execution_count": null,
   "id": "ed02627b",
   "metadata": {},
   "outputs": [],
   "source": [
    "when working with objects, variables are called attributes and functions are called methods."
   ]
  },
  {
   "cell_type": "code",
   "execution_count": null,
   "id": "03d876c0",
   "metadata": {},
   "outputs": [],
   "source": [
    "Self >>> It is used to represent an instance of the given class\n",
    "self >> If you don’t use self, Python won’t know which object’s data to use."
   ]
  },
  {
   "cell_type": "code",
   "execution_count": null,
   "id": "2a6dcd3d",
   "metadata": {},
   "outputs": [],
   "source": [
    "class keyword is used to create a new Class\n",
    "\n",
    "Class Name should follow identifier rule\n",
    "\n"
   ]
  },
  {
   "cell_type": "code",
   "execution_count": 6,
   "id": "f9b05653",
   "metadata": {},
   "outputs": [
    {
     "name": "stdout",
     "output_type": "stream",
     "text": [
      "<class 'list'>\n",
      "['Rahul', 'Priya', 'X']\n",
      "[85, 92, 87]\n"
     ]
    }
   ],
   "source": [
    "# Check the type of an actual list:\n",
    "students = [\"Rahul\", \"Priya\"]\n",
    "marks = [85, 92]\n",
    "print(type(students))\n",
    "\n",
    "students.append('X')\n",
    "marks.append(87)\n",
    "print(students)\n",
    "print(marks)"
   ]
  },
  {
   "cell_type": "code",
   "execution_count": 3,
   "id": "fe3e2f5d",
   "metadata": {},
   "outputs": [
    {
     "data": {
      "text/plain": [
       "['__add__',\n",
       " '__class__',\n",
       " '__class_getitem__',\n",
       " '__contains__',\n",
       " '__delattr__',\n",
       " '__delitem__',\n",
       " '__dir__',\n",
       " '__doc__',\n",
       " '__eq__',\n",
       " '__format__',\n",
       " '__ge__',\n",
       " '__getattribute__',\n",
       " '__getitem__',\n",
       " '__gt__',\n",
       " '__hash__',\n",
       " '__iadd__',\n",
       " '__imul__',\n",
       " '__init__',\n",
       " '__init_subclass__',\n",
       " '__iter__',\n",
       " '__le__',\n",
       " '__len__',\n",
       " '__lt__',\n",
       " '__mul__',\n",
       " '__ne__',\n",
       " '__new__',\n",
       " '__reduce__',\n",
       " '__reduce_ex__',\n",
       " '__repr__',\n",
       " '__reversed__',\n",
       " '__rmul__',\n",
       " '__setattr__',\n",
       " '__setitem__',\n",
       " '__sizeof__',\n",
       " '__str__',\n",
       " '__subclasshook__',\n",
       " 'append',\n",
       " 'clear',\n",
       " 'copy',\n",
       " 'count',\n",
       " 'extend',\n",
       " 'index',\n",
       " 'insert',\n",
       " 'pop',\n",
       " 'remove',\n",
       " 'reverse',\n",
       " 'sort']"
      ]
     },
     "execution_count": 3,
     "metadata": {},
     "output_type": "execute_result"
    }
   ],
   "source": [
    "dir(list) >>> class list >>>> these functions"
   ]
  },
  {
   "cell_type": "code",
   "execution_count": null,
   "id": "877ef4c9",
   "metadata": {},
   "outputs": [],
   "source": [
    ".append(), .pop(), .sort() etc. are methods defined inside the list class."
   ]
  },
  {
   "cell_type": "code",
   "execution_count": 2,
   "id": "f255afb3",
   "metadata": {},
   "outputs": [],
   "source": [
    "# Create two separate list OBJECTS\n",
    "students = [\"Rahul\", \"Priya\"]\n",
    "marks = [85, 92]"
   ]
  },
  {
   "cell_type": "code",
   "execution_count": 3,
   "id": "e98aebe1",
   "metadata": {},
   "outputs": [
    {
     "name": "stdout",
     "output_type": "stream",
     "text": [
      "['Rahul', 'Priya', 'Amit']\n",
      "[85, 92, 89]\n"
     ]
    }
   ],
   "source": [
    "students.append(\"Amit\")   # Adds string\n",
    "marks.append(89)          # Adds integer\n",
    "print(students)\n",
    "print(marks)"
   ]
  },
  {
   "cell_type": "code",
   "execution_count": null,
   "id": "2cc58bb6",
   "metadata": {},
   "outputs": [],
   "source": [
    "#how this class list may have made????\n",
    "class list():\n",
    "    def append():\n",
    "        \"code to add item in the list\"\n",
    "    \n",
    "    def pop():\n",
    "        \"code for removing the item from list\"\n",
    "        \n",
    "\n",
    "    "
   ]
  },
  {
   "cell_type": "markdown",
   "id": "3305bba2",
   "metadata": {},
   "source": [
    ">> \n",
    "\n"
   ]
  },
  {
   "cell_type": "markdown",
   "id": "21d5b1e9",
   "metadata": {},
   "source": [
    "Project:\n",
    "    \n",
    "    \n",
    "project.py\n",
    "\n",
    "Data_gathering  >> 3 functions\n",
    "Preprocessing   >> 10 functions\n",
    "Feature Engineering >> 8 functions\n",
    "Feature Selection   >> 13 functions\n",
    "\n",
    "\n",
    "450  functions\n"
   ]
  },
  {
   "cell_type": "code",
   "execution_count": null,
   "id": "d6e64cb7",
   "metadata": {},
   "outputs": [],
   "source": [
    "class Data_gathering():\n",
    "    pass\n",
    "class Preprocessing():\n",
    "    def detect_missing_values():      \n",
    "        print('missing values')\n",
    "        \n",
    "    def outliers():      # age 1-100 ,     user 1000 \n",
    "        self.outliers = [100,1000]\n",
    "        \n",
    "class Feature_Engineering():\n",
    "    def remove_outliers():\n",
    "        print('Outlier')\n",
    "class Feature_Selection():\n",
    "    pass\n",
    "class Model_Training():\n",
    "    def linear_reg():\n",
    "        pass\n",
    "    def logistic_reg():\n",
    "        pass\n",
    "    def random_forest():\n",
    "        pass\n",
    "class Model_Evaluation():\n",
    "    print('result')"
   ]
  },
  {
   "cell_type": "code",
   "execution_count": null,
   "id": "97114adc",
   "metadata": {},
   "outputs": [],
   "source": [
    "functions are called as methods and variables are called as attributes."
   ]
  },
  {
   "cell_type": "code",
   "execution_count": 8,
   "id": "f50799e0",
   "metadata": {},
   "outputs": [
    {
     "name": "stdout",
     "output_type": "stream",
     "text": [
      "this is brand of car\n",
      "this is color of car\n"
     ]
    }
   ],
   "source": [
    "class car():\n",
    "    variable1=\"this is variable\"\n",
    "    def brand(self):\n",
    "        print(\"this is brand of car\")\n",
    "    \n",
    "    def color(self):\n",
    "        print(\"this is color of car\")\n",
    "\n",
    "car1=car()\n",
    "car1.brand()\n",
    "car1.color()"
   ]
  },
  {
   "cell_type": "markdown",
   "id": "94bae59b",
   "metadata": {},
   "source": [
    "# __init__ method:"
   ]
  },
  {
   "cell_type": "code",
   "execution_count": null,
   "id": "be91df71",
   "metadata": {},
   "outputs": [],
   "source": [
    ">> init method is called as constructor\n",
    ">> it will be automatically executed whenever we create new object\n",
    ">> It initialize the object's attrubutes (give them initial value)"
   ]
  },
  {
   "cell_type": "code",
   "execution_count": 9,
   "id": "583e61fa",
   "metadata": {},
   "outputs": [
    {
     "name": "stdout",
     "output_type": "stream",
     "text": [
      "tata is driving\n"
     ]
    }
   ],
   "source": [
    "class car:\n",
    "    def __init__(self, color, model):\n",
    "        self.color=color   #attribute\n",
    "        self.model=model\n",
    "        \n",
    "    def drive(self):\n",
    "        print(f\"{self.model} is driving\")\n",
    "\n",
    "m_car=car(\"red\", \"tata\")\n",
    "m_car.drive()\n",
    "        "
   ]
  },
  {
   "cell_type": "code",
   "execution_count": 13,
   "id": "321c6cd8",
   "metadata": {},
   "outputs": [
    {
     "name": "stdout",
     "output_type": "stream",
     "text": [
      "46\n",
      "408\n"
     ]
    }
   ],
   "source": [
    "class calculator:\n",
    "    \n",
    "    def __init__(self,a,b):\n",
    "        self.a=a\n",
    "        self.b=b\n",
    "    \n",
    "    def add(self):\n",
    "        return self.a+self.b\n",
    "    \n",
    "    def multiply(self):\n",
    "        return self.a*self.b\n",
    "    \n",
    "answer=calculator(12,34)\n",
    "print(answer.add())\n",
    "print(answer.multiply())"
   ]
  },
  {
   "cell_type": "code",
   "execution_count": null,
   "id": "7427e252",
   "metadata": {},
   "outputs": [],
   "source": [
    "x=10 #glabal variable\n",
    "\n",
    "class calculator:\n",
    "    \n",
    "    y=20 # class variable\n",
    "    def __init__(self,a,b):\n",
    "        self.a=a\n",
    "        self.b=b\n",
    "        \n",
    "        z=30 #local/instance variable\n",
    "        \n",
    "    def add(self):\n",
    "        return self.a+self.b\n",
    "    \n",
    "    def multiply(self):\n",
    "        return self.a*self.b\n",
    "    \n",
    "answer=calculator(12,34)\n",
    "print(answer.add())\n",
    "print(answer.multiply())"
   ]
  }
 ],
 "metadata": {
  "kernelspec": {
   "display_name": "Python 3 (ipykernel)",
   "language": "python",
   "name": "python3"
  },
  "language_info": {
   "codemirror_mode": {
    "name": "ipython",
    "version": 3
   },
   "file_extension": ".py",
   "mimetype": "text/x-python",
   "name": "python",
   "nbconvert_exporter": "python",
   "pygments_lexer": "ipython3",
   "version": "3.9.12"
  }
 },
 "nbformat": 4,
 "nbformat_minor": 5
}
