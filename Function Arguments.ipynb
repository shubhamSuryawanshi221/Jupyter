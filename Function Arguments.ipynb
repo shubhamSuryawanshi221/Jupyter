{
 "cells": [
  {
   "cell_type": "code",
   "execution_count": null,
   "id": "ffdc954e",
   "metadata": {},
   "outputs": [],
   "source": []
  },
  {
   "cell_type": "code",
   "execution_count": 1,
   "id": "a27f3f09",
   "metadata": {},
   "outputs": [],
   "source": [
    "def my_function(parameters):\n",
    "    \"\"\"here we write the functionality of function. it is called as docstring\"\"\"\n",
    "    statement1\n",
    "    statement2\n",
    "    statement3\n",
    "    .\n",
    "    .\n",
    "    .\n",
    "    return "
   ]
  },
  {
   "cell_type": "code",
   "execution_count": null,
   "id": "574c5ced",
   "metadata": {},
   "outputs": [],
   "source": [
    "my_function(arguments)"
   ]
  },
  {
   "cell_type": "markdown",
   "id": "fd83a6ed",
   "metadata": {},
   "source": [
    ">> A function's arguments are the inputs you provide to it so it can perform its task.\n",
    ">> How you provide these inputs can be very flexible."
   ]
  },
  {
   "cell_type": "markdown",
   "id": "d43f0198",
   "metadata": {},
   "source": [
    "# Functions Arguments"
   ]
  },
  {
   "cell_type": "code",
   "execution_count": null,
   "id": "9589fb81",
   "metadata": {},
   "outputs": [],
   "source": [
    "1. Positional Arguments\n",
    "2. Keyword Arguments\n",
    "3. Default arguments \n",
    "4. Arbitrary positional arguments\n",
    "5. Arbitrary keyword arguments"
   ]
  },
  {
   "cell_type": "markdown",
   "id": "31bf32a2",
   "metadata": {},
   "source": [
    "### 1. Positional Arguments"
   ]
  },
  {
   "cell_type": "raw",
   "id": "e033afed",
   "metadata": {},
   "source": [
    ">> These are arguments passed to a function in order (based on their position in the function definition).\n",
    ">> The order matters!"
   ]
  },
  {
   "cell_type": "code",
   "execution_count": null,
   "id": "490fa762",
   "metadata": {},
   "outputs": [],
   "source": [
    "Number of parameters == Number of arguments"
   ]
  },
  {
   "cell_type": "code",
   "execution_count": null,
   "id": "ac09b6a5",
   "metadata": {},
   "outputs": [],
   "source": [
    "def my_fun(parameter1, parameter2):\n",
    "    print(parameter1)\n",
    "    print(parameter2)\n",
    "\n",
    "my_fun(arg1,arg2)"
   ]
  },
  {
   "cell_type": "code",
   "execution_count": 1,
   "id": "1657804a",
   "metadata": {},
   "outputs": [
    {
     "name": "stdout",
     "output_type": "stream",
     "text": [
      "a == 5, b == 6\n",
      "addition of number is:  11\n",
      "a == 6, b == 5\n",
      "addition of number is:  11\n"
     ]
    }
   ],
   "source": [
    "def addition(a,b):\n",
    "    print(f\"a == {a}, b == {b}\")\n",
    "    add = a+b\n",
    "    print('addition of number is: ',add)\n",
    "\n",
    "addition(5,6)\n",
    "addition(6,5)"
   ]
  },
  {
   "cell_type": "code",
   "execution_count": 3,
   "id": "a98b121c",
   "metadata": {},
   "outputs": [
    {
     "name": "stdout",
     "output_type": "stream",
     "text": [
      "Hello, Raju Sharma!\n",
      "Hello, sharma raju!\n"
     ]
    }
   ],
   "source": [
    "def greet(first_name, last_name):\n",
    "    print(f\"Hello, {first_name} {last_name}!\")\n",
    "\n",
    "greet(\"Raju\", \"Sharma\")\n",
    "greet(\"sharma\", \"raju\")"
   ]
  },
  {
   "cell_type": "code",
   "execution_count": 4,
   "id": "43f428f5",
   "metadata": {},
   "outputs": [
    {
     "ename": "TypeError",
     "evalue": "addition() missing 1 required positional argument: 'b'",
     "output_type": "error",
     "traceback": [
      "\u001b[1;31m---------------------------------------------------------------------------\u001b[0m",
      "\u001b[1;31mTypeError\u001b[0m                                 Traceback (most recent call last)",
      "Input \u001b[1;32mIn [4]\u001b[0m, in \u001b[0;36m<cell line: 6>\u001b[1;34m()\u001b[0m\n\u001b[0;32m      3\u001b[0m     add \u001b[38;5;241m=\u001b[39m a\u001b[38;5;241m+\u001b[39mb\n\u001b[0;32m      4\u001b[0m     \u001b[38;5;28mprint\u001b[39m(\u001b[38;5;124m'\u001b[39m\u001b[38;5;124maddition of number is: \u001b[39m\u001b[38;5;124m'\u001b[39m,add)\n\u001b[1;32m----> 6\u001b[0m \u001b[43maddition\u001b[49m\u001b[43m(\u001b[49m\u001b[38;5;241;43m5\u001b[39;49m\u001b[43m)\u001b[49m\n",
      "\u001b[1;31mTypeError\u001b[0m: addition() missing 1 required positional argument: 'b'"
     ]
    }
   ],
   "source": [
    "def addition(a,b):\n",
    "    print(f\"a == {a}, b == {b}\")\n",
    "    add = a+b\n",
    "    print('addition of number is: ',add)\n",
    "\n",
    "addition(5)"
   ]
  },
  {
   "cell_type": "code",
   "execution_count": 3,
   "id": "ae93c5bc",
   "metadata": {},
   "outputs": [
    {
     "name": "stdout",
     "output_type": "stream",
     "text": [
      "a == 45, b == 5\n",
      "addition of number is:  50\n"
     ]
    }
   ],
   "source": [
    "def addition(a,b):\n",
    "    print(f\"a == {a}, b == {b}\")\n",
    "    add = a+b\n",
    "    print('addition of number is: ',add)\n",
    "\n",
    "addition(45,5)"
   ]
  },
  {
   "cell_type": "code",
   "execution_count": 4,
   "id": "ef8aa811",
   "metadata": {},
   "outputs": [
    {
     "ename": "TypeError",
     "evalue": "addition() takes 2 positional arguments but 3 were given",
     "output_type": "error",
     "traceback": [
      "\u001b[1;31m---------------------------------------------------------------------------\u001b[0m",
      "\u001b[1;31mTypeError\u001b[0m                                 Traceback (most recent call last)",
      "\u001b[1;32m<ipython-input-4-13155d3f2cd6>\u001b[0m in \u001b[0;36m<module>\u001b[1;34m\u001b[0m\n\u001b[0;32m      4\u001b[0m     \u001b[0mprint\u001b[0m\u001b[1;33m(\u001b[0m\u001b[1;34m'addition of number is: '\u001b[0m\u001b[1;33m,\u001b[0m\u001b[0madd\u001b[0m\u001b[1;33m)\u001b[0m\u001b[1;33m\u001b[0m\u001b[1;33m\u001b[0m\u001b[0m\n\u001b[0;32m      5\u001b[0m \u001b[1;33m\u001b[0m\u001b[0m\n\u001b[1;32m----> 6\u001b[1;33m \u001b[0maddition\u001b[0m\u001b[1;33m(\u001b[0m\u001b[1;36m45\u001b[0m\u001b[1;33m,\u001b[0m\u001b[1;36m5\u001b[0m\u001b[1;33m,\u001b[0m\u001b[1;36m6\u001b[0m\u001b[1;33m)\u001b[0m\u001b[1;33m\u001b[0m\u001b[1;33m\u001b[0m\u001b[0m\n\u001b[0m",
      "\u001b[1;31mTypeError\u001b[0m: addition() takes 2 positional arguments but 3 were given"
     ]
    }
   ],
   "source": [
    "def addition(a,b):\n",
    "    print(f\"a == {a}, b == {b}\")\n",
    "    add = a+b\n",
    "    print('addition of number is: ',add)\n",
    "\n",
    "addition(45,5,6)"
   ]
  },
  {
   "cell_type": "code",
   "execution_count": 5,
   "id": "499f96e2",
   "metadata": {},
   "outputs": [
    {
     "name": "stdout",
     "output_type": "stream",
     "text": [
      "a == 10, b == 5\n",
      "addition of number is:  15\n"
     ]
    }
   ],
   "source": [
    "def addition(a,b):\n",
    "    print(f\"a == {a}, b == {b}\")\n",
    "    add = a+b\n",
    "    print('addition of number is: ',add)\n",
    "\n",
    "addition(10,5)"
   ]
  },
  {
   "cell_type": "code",
   "execution_count": 3,
   "id": "94472f2d",
   "metadata": {},
   "outputs": [
    {
     "name": "stdout",
     "output_type": "stream",
     "text": [
      "Factorial of 5 is : 120\n"
     ]
    }
   ],
   "source": [
    "def factorial(num):\n",
    "    fact =1\n",
    "    if num <0:\n",
    "        print('Factorial does not exists')\n",
    "    else:\n",
    "        for i in range(1,num+1):\n",
    "            fact*=i\n",
    "    print(f\"Factorial of {num} is : {fact}\")\n",
    "\n",
    "factorial(5)"
   ]
  },
  {
   "cell_type": "code",
   "execution_count": 8,
   "id": "27d7e540",
   "metadata": {},
   "outputs": [
    {
     "ename": "TypeError",
     "evalue": "factorial() missing 1 required positional argument: 'num'",
     "output_type": "error",
     "traceback": [
      "\u001b[1;31m---------------------------------------------------------------------------\u001b[0m",
      "\u001b[1;31mTypeError\u001b[0m                                 Traceback (most recent call last)",
      "\u001b[1;32m<ipython-input-8-1c20f4082b41>\u001b[0m in \u001b[0;36m<module>\u001b[1;34m\u001b[0m\n\u001b[0;32m      8\u001b[0m     \u001b[0mprint\u001b[0m\u001b[1;33m(\u001b[0m\u001b[1;34mf\"Factorial of {num} is : {fact}\"\u001b[0m\u001b[1;33m)\u001b[0m\u001b[1;33m\u001b[0m\u001b[1;33m\u001b[0m\u001b[0m\n\u001b[0;32m      9\u001b[0m \u001b[1;33m\u001b[0m\u001b[0m\n\u001b[1;32m---> 10\u001b[1;33m \u001b[0mfactorial\u001b[0m\u001b[1;33m(\u001b[0m\u001b[1;33m)\u001b[0m\u001b[1;33m\u001b[0m\u001b[1;33m\u001b[0m\u001b[0m\n\u001b[0m",
      "\u001b[1;31mTypeError\u001b[0m: factorial() missing 1 required positional argument: 'num'"
     ]
    }
   ],
   "source": [
    "def factorial(num):\n",
    "    fact =1\n",
    "    if num <0:\n",
    "        print('Factorial does not exists')\n",
    "    else:\n",
    "        for i in range(1,num+1):\n",
    "            fact*=i\n",
    "    print(f\"Factorial of {num} is : {fact}\")\n",
    "    \n",
    "factorial()"
   ]
  },
  {
   "cell_type": "code",
   "execution_count": 9,
   "id": "7e63994f",
   "metadata": {},
   "outputs": [
    {
     "ename": "TypeError",
     "evalue": "factorial() takes 1 positional argument but 2 were given",
     "output_type": "error",
     "traceback": [
      "\u001b[1;31m---------------------------------------------------------------------------\u001b[0m",
      "\u001b[1;31mTypeError\u001b[0m                                 Traceback (most recent call last)",
      "\u001b[1;32m<ipython-input-9-5a08258c5b4c>\u001b[0m in \u001b[0;36m<module>\u001b[1;34m\u001b[0m\n\u001b[0;32m      8\u001b[0m     \u001b[0mprint\u001b[0m\u001b[1;33m(\u001b[0m\u001b[1;34mf\"Factorial of {num} is : {fact}\"\u001b[0m\u001b[1;33m)\u001b[0m\u001b[1;33m\u001b[0m\u001b[1;33m\u001b[0m\u001b[0m\n\u001b[0;32m      9\u001b[0m \u001b[1;33m\u001b[0m\u001b[0m\n\u001b[1;32m---> 10\u001b[1;33m \u001b[0mfactorial\u001b[0m\u001b[1;33m(\u001b[0m\u001b[1;36m5\u001b[0m\u001b[1;33m,\u001b[0m\u001b[1;36m8\u001b[0m\u001b[1;33m)\u001b[0m\u001b[1;33m\u001b[0m\u001b[1;33m\u001b[0m\u001b[0m\n\u001b[0m",
      "\u001b[1;31mTypeError\u001b[0m: factorial() takes 1 positional argument but 2 were given"
     ]
    }
   ],
   "source": [
    "def factorial(num):\n",
    "    fact =1\n",
    "    if num <0:\n",
    "        print('Factorial does not exists')\n",
    "    else:\n",
    "        for i in range(1,num+1):\n",
    "            fact*=i\n",
    "    print(f\"Factorial of {num} is : {fact}\")\n",
    "    \n",
    "factorial(5,8)"
   ]
  },
  {
   "cell_type": "code",
   "execution_count": 10,
   "id": "9814df28",
   "metadata": {},
   "outputs": [
    {
     "name": "stdout",
     "output_type": "stream",
     "text": [
      "Factorial of 6 is : 720\n"
     ]
    }
   ],
   "source": [
    "def factorial(num):\n",
    "    fact =1\n",
    "    if num <0:\n",
    "        print('Factorial does not exists')\n",
    "    else:\n",
    "        for i in range(1,num+1):\n",
    "            fact*=i\n",
    "    print(f\"Factorial of {num} is : {fact}\")\n",
    "    \n",
    "factorial(6)"
   ]
  },
  {
   "cell_type": "code",
   "execution_count": 11,
   "id": "16809d14",
   "metadata": {},
   "outputs": [
    {
     "ename": "TypeError",
     "evalue": "'float' object cannot be interpreted as an integer",
     "output_type": "error",
     "traceback": [
      "\u001b[1;31m---------------------------------------------------------------------------\u001b[0m",
      "\u001b[1;31mTypeError\u001b[0m                                 Traceback (most recent call last)",
      "\u001b[1;32m<ipython-input-11-ad66d404c43a>\u001b[0m in \u001b[0;36m<module>\u001b[1;34m\u001b[0m\n\u001b[0;32m      8\u001b[0m     \u001b[0mprint\u001b[0m\u001b[1;33m(\u001b[0m\u001b[1;34mf\"Factorial of {num} is : {fact}\"\u001b[0m\u001b[1;33m)\u001b[0m\u001b[1;33m\u001b[0m\u001b[1;33m\u001b[0m\u001b[0m\n\u001b[0;32m      9\u001b[0m \u001b[1;33m\u001b[0m\u001b[0m\n\u001b[1;32m---> 10\u001b[1;33m \u001b[0mfactorial\u001b[0m\u001b[1;33m(\u001b[0m\u001b[1;36m3.5\u001b[0m\u001b[1;33m)\u001b[0m\u001b[1;33m\u001b[0m\u001b[1;33m\u001b[0m\u001b[0m\n\u001b[0m",
      "\u001b[1;32m<ipython-input-11-ad66d404c43a>\u001b[0m in \u001b[0;36mfactorial\u001b[1;34m(num)\u001b[0m\n\u001b[0;32m      4\u001b[0m         \u001b[0mprint\u001b[0m\u001b[1;33m(\u001b[0m\u001b[1;34m'Factorial does not exists'\u001b[0m\u001b[1;33m)\u001b[0m\u001b[1;33m\u001b[0m\u001b[1;33m\u001b[0m\u001b[0m\n\u001b[0;32m      5\u001b[0m     \u001b[1;32melse\u001b[0m\u001b[1;33m:\u001b[0m\u001b[1;33m\u001b[0m\u001b[1;33m\u001b[0m\u001b[0m\n\u001b[1;32m----> 6\u001b[1;33m         \u001b[1;32mfor\u001b[0m \u001b[0mi\u001b[0m \u001b[1;32min\u001b[0m \u001b[0mrange\u001b[0m\u001b[1;33m(\u001b[0m\u001b[1;36m1\u001b[0m\u001b[1;33m,\u001b[0m\u001b[0mnum\u001b[0m\u001b[1;33m+\u001b[0m\u001b[1;36m1\u001b[0m\u001b[1;33m)\u001b[0m\u001b[1;33m:\u001b[0m\u001b[1;33m\u001b[0m\u001b[1;33m\u001b[0m\u001b[0m\n\u001b[0m\u001b[0;32m      7\u001b[0m             \u001b[0mfact\u001b[0m\u001b[1;33m*=\u001b[0m\u001b[0mi\u001b[0m\u001b[1;33m\u001b[0m\u001b[1;33m\u001b[0m\u001b[0m\n\u001b[0;32m      8\u001b[0m     \u001b[0mprint\u001b[0m\u001b[1;33m(\u001b[0m\u001b[1;34mf\"Factorial of {num} is : {fact}\"\u001b[0m\u001b[1;33m)\u001b[0m\u001b[1;33m\u001b[0m\u001b[1;33m\u001b[0m\u001b[0m\n",
      "\u001b[1;31mTypeError\u001b[0m: 'float' object cannot be interpreted as an integer"
     ]
    }
   ],
   "source": [
    "def factorial(num):\n",
    "    fact =1\n",
    "    if num <0:\n",
    "        print('Factorial does not exists')\n",
    "    else:\n",
    "        for i in range(1,num+1):  #range should be in int\n",
    "            fact*=i\n",
    "    print(f\"Factorial of {num} is : {fact}\")\n",
    "    \n",
    "factorial(3.5)"
   ]
  },
  {
   "cell_type": "code",
   "execution_count": 12,
   "id": "a3c7561e",
   "metadata": {},
   "outputs": [
    {
     "name": "stdout",
     "output_type": "stream",
     "text": [
      "Factorial of 3 is : 6\n"
     ]
    }
   ],
   "source": [
    "def factorial(num):\n",
    "    fact =1\n",
    "    if num <0:\n",
    "        print('Factorial does not exists')\n",
    "    else:\n",
    "        for i in range(1,num+1):\n",
    "            fact*=i\n",
    "    print(f\"Factorial of {num} is : {fact}\")\n",
    "    \n",
    "factorial(3)"
   ]
  },
  {
   "cell_type": "code",
   "execution_count": 13,
   "id": "7b82de32",
   "metadata": {},
   "outputs": [
    {
     "name": "stdout",
     "output_type": "stream",
     "text": [
      "Factorial of 3 is : 6\n"
     ]
    }
   ],
   "source": [
    "def factorial(num):\n",
    "    fact =1\n",
    "    if num <0:\n",
    "        print('Factorial does not exists')\n",
    "    else:\n",
    "        for i in range(1,num+1):\n",
    "            fact*=i\n",
    "    print(f\"Factorial of {num} is : {fact}\")\n",
    "    \n",
    "factorial(int(3.5))"
   ]
  },
  {
   "cell_type": "markdown",
   "id": "f96cd2c7",
   "metadata": {},
   "source": [
    "### 2. Keyword Arguments"
   ]
  },
  {
   "cell_type": "code",
   "execution_count": null,
   "id": "c89ed82c",
   "metadata": {},
   "outputs": [],
   "source": [
    ">> You can explicitly name the arguments when you call the function. \n",
    ">> When you use keyword arguments, the order no longer matters."
   ]
  },
  {
   "cell_type": "code",
   "execution_count": 7,
   "id": "868a0cdc",
   "metadata": {},
   "outputs": [
    {
     "name": "stdout",
     "output_type": "stream",
     "text": [
      "I have a dog.\n",
      "Its name is Bruno.\n",
      "I have a dog.\n",
      "Its name is rocky.\n"
     ]
    }
   ],
   "source": [
    "def describe_pet(animal_type, pet_name):\n",
    "    \"\"\"Displays information about a pet.\"\"\"\n",
    "    print(f\"I have a {animal_type}.\")\n",
    "    print(f\"Its name is {pet_name}.\")\n",
    "\n",
    "describe_pet(\"dog\", \"Bruno\") \n",
    "describe_pet(pet_name=\"rocky\", animal_type=\"dog\")"
   ]
  },
  {
   "cell_type": "code",
   "execution_count": 6,
   "id": "2edf2201",
   "metadata": {},
   "outputs": [
    {
     "name": "stdout",
     "output_type": "stream",
     "text": [
      "I have a dog.\n",
      "Its name is Bruno.\n",
      "I have a cat.\n",
      "Its name is german.\n"
     ]
    }
   ],
   "source": [
    "# The order is different, but the output is correct because we've\n",
    "# used keywords to assign the values.\n",
    "describe_pet(pet_name=\"Bruno\", animal_type=\"dog\")\n",
    "describe_pet(animal_type=\"cat\", pet_name=\"german\")"
   ]
  },
  {
   "cell_type": "markdown",
   "id": "f6e91e18",
   "metadata": {},
   "source": [
    "### 3. Default arguments"
   ]
  },
  {
   "cell_type": "raw",
   "id": "6610fc11",
   "metadata": {},
   "source": [
    ">> These are arguments that have predefined values in the function definition. \n",
    ">> If no value is provided during the function call, the default is used."
   ]
  },
  {
   "cell_type": "code",
   "execution_count": 22,
   "id": "4f40b4fa",
   "metadata": {},
   "outputs": [
    {
     "name": "stdout",
     "output_type": "stream",
     "text": [
      "a == 50, b == 60, c == 20\n",
      "addition of number is:  130\n"
     ]
    }
   ],
   "source": [
    "def addition(a, b=60, c=20):     #b,c are default args\n",
    "    print(f\"a == {a}, b == {b}, c == {c}\")\n",
    "    add = a+b+c\n",
    "    print('addition of number is: ',add)\n",
    "    \n",
    "\n",
    "\n",
    "addition(50)    #50 is positional"
   ]
  },
  {
   "cell_type": "code",
   "execution_count": 19,
   "id": "d3b5f660",
   "metadata": {},
   "outputs": [
    {
     "name": "stdout",
     "output_type": "stream",
     "text": [
      "a == 50, b == 60, c == 20\n",
      "addition of number is:  130\n"
     ]
    }
   ],
   "source": [
    "def addition(a, b, c):\n",
    "    print(f\"a == {a}, b == {b}, c == {c}\")\n",
    "    add = a+b+c\n",
    "    print('addition of number is: ',add)\n",
    "    \n",
    "\n",
    "\n",
    "addition(50,b=60,c=20)"
   ]
  },
  {
   "cell_type": "code",
   "execution_count": 8,
   "id": "67932cd9",
   "metadata": {},
   "outputs": [
    {
     "ename": "SyntaxError",
     "evalue": "positional argument follows keyword argument (1350786473.py, line 1)",
     "output_type": "error",
     "traceback": [
      "\u001b[1;36m  Input \u001b[1;32mIn [8]\u001b[1;36m\u001b[0m\n\u001b[1;33m    addition(b=40,c=32,12)\u001b[0m\n\u001b[1;37m                         ^\u001b[0m\n\u001b[1;31mSyntaxError\u001b[0m\u001b[1;31m:\u001b[0m positional argument follows keyword argument\n"
     ]
    }
   ],
   "source": [
    "addition(b=40,c=32,12)"
   ]
  },
  {
   "cell_type": "markdown",
   "id": "0ddf6bad",
   "metadata": {},
   "source": [
    "## positional argument>>default argument"
   ]
  },
  {
   "cell_type": "code",
   "execution_count": 21,
   "id": "5a1e2da9",
   "metadata": {},
   "outputs": [
    {
     "name": "stdout",
     "output_type": "stream",
     "text": [
      "a == 50, b == 60, c == 20\n",
      "addition of number is:  130\n"
     ]
    }
   ],
   "source": [
    "def addition(a,b,c):\n",
    "    print(f\"a == {a}, b == {b}, c == {c}\")\n",
    "    add = a+b+c\n",
    "    print('addition of number is: ',add)\n",
    "    \n",
    "\n",
    "\n",
    "addition(b=60, c=20, a=50)"
   ]
  },
  {
   "cell_type": "code",
   "execution_count": 9,
   "id": "fe0592b2",
   "metadata": {},
   "outputs": [
    {
     "ename": "TypeError",
     "evalue": "addition() missing 1 required positional argument: 'a'",
     "output_type": "error",
     "traceback": [
      "\u001b[1;31m---------------------------------------------------------------------------\u001b[0m",
      "\u001b[1;31mTypeError\u001b[0m                                 Traceback (most recent call last)",
      "Input \u001b[1;32mIn [9]\u001b[0m, in \u001b[0;36m<cell line: 8>\u001b[1;34m()\u001b[0m\n\u001b[0;32m      3\u001b[0m     add \u001b[38;5;241m=\u001b[39m a\u001b[38;5;241m+\u001b[39mb\u001b[38;5;241m+\u001b[39mc\n\u001b[0;32m      4\u001b[0m     \u001b[38;5;28mprint\u001b[39m(\u001b[38;5;124m'\u001b[39m\u001b[38;5;124maddition of number is: \u001b[39m\u001b[38;5;124m'\u001b[39m,add)\n\u001b[1;32m----> 8\u001b[0m \u001b[43maddition\u001b[49m\u001b[43m(\u001b[49m\u001b[43m)\u001b[49m\n",
      "\u001b[1;31mTypeError\u001b[0m: addition() missing 1 required positional argument: 'a'"
     ]
    }
   ],
   "source": [
    "def addition(a,b =60,c=20):     #b,c are default args\n",
    "    print(f\"a == {a}, b == {b}, c == {c}\")\n",
    "    add = a+b+c\n",
    "    print('addition of number is: ',add)\n",
    "    \n",
    "\n",
    "\n",
    "addition()    "
   ]
  },
  {
   "cell_type": "code",
   "execution_count": 24,
   "id": "8d1fa277",
   "metadata": {},
   "outputs": [
    {
     "name": "stdout",
     "output_type": "stream",
     "text": [
      "a == 10, b == 60, c == 20\n",
      "addition of number is:  90\n"
     ]
    }
   ],
   "source": [
    "def addition(a =10,b =60,c=20):     #a, b,c are default args\n",
    "    print(f\"a == {a}, b == {b}, c == {c}\")\n",
    "    add = a+b+c\n",
    "    print('addition of number is: ',add)\n",
    "    \n",
    "\n",
    "\n",
    "addition()  "
   ]
  },
  {
   "cell_type": "code",
   "execution_count": 5,
   "id": "c6c59311",
   "metadata": {},
   "outputs": [
    {
     "ename": "SyntaxError",
     "evalue": "non-default argument follows default argument (3610987110.py, line 1)",
     "output_type": "error",
     "traceback": [
      "\u001b[1;36m  Input \u001b[1;32mIn [5]\u001b[1;36m\u001b[0m\n\u001b[1;33m    def addition(a =10,b =60,c):     #a, b,c are default args\u001b[0m\n\u001b[1;37m                              ^\u001b[0m\n\u001b[1;31mSyntaxError\u001b[0m\u001b[1;31m:\u001b[0m non-default argument follows default argument\n"
     ]
    }
   ],
   "source": [
    "def addition(a =10,b =60,c):     #a, b,c are default args\n",
    "    print(f\"a == {a}, b == {b}, c == {c}\")\n",
    "    add = a+b+c\n",
    "    print('addition of number is: ',add)\n",
    "    \n",
    "\n",
    "\n",
    "addition(20)  "
   ]
  },
  {
   "cell_type": "code",
   "execution_count": 8,
   "id": "22d23548",
   "metadata": {
    "scrolled": true
   },
   "outputs": [
    {
     "ename": "TypeError",
     "evalue": "addition() got multiple values for argument 'a'",
     "output_type": "error",
     "traceback": [
      "\u001b[1;31m---------------------------------------------------------------------------\u001b[0m",
      "\u001b[1;31mTypeError\u001b[0m                                 Traceback (most recent call last)",
      "Input \u001b[1;32mIn [8]\u001b[0m, in \u001b[0;36m<cell line: 1>\u001b[1;34m()\u001b[0m\n\u001b[1;32m----> 1\u001b[0m \u001b[43maddition\u001b[49m\u001b[43m(\u001b[49m\u001b[38;5;241;43m100\u001b[39;49m\u001b[43m,\u001b[49m\u001b[43ma\u001b[49m\u001b[38;5;241;43m=\u001b[39;49m\u001b[38;5;241;43m24\u001b[39;49m\u001b[43m,\u001b[49m\u001b[43mb\u001b[49m\u001b[38;5;241;43m=\u001b[39;49m\u001b[38;5;241;43m80\u001b[39;49m\u001b[43m)\u001b[49m\n",
      "\u001b[1;31mTypeError\u001b[0m: addition() got multiple values for argument 'a'"
     ]
    }
   ],
   "source": [
    "addition(100,a=24,b=80)"
   ]
  },
  {
   "cell_type": "code",
   "execution_count": null,
   "id": "404c4acc",
   "metadata": {},
   "outputs": [],
   "source": []
  },
  {
   "cell_type": "code",
   "execution_count": 9,
   "id": "82a88f6f",
   "metadata": {},
   "outputs": [
    {
     "name": "stdout",
     "output_type": "stream",
     "text": [
      "a == 10, b == 60, c == 20\n",
      "addition of number is:  90\n"
     ]
    }
   ],
   "source": [
    "def addition(c,a =10,b =60):     #a, b,c are default args\n",
    "    print(f\"a == {a}, b == {b}, c == {c}\")\n",
    "    add = a+b+c\n",
    "    print('addition of number is: ',add)\n",
    "    \n",
    "\n",
    "    \n",
    "\n",
    "addition(20)  "
   ]
  },
  {
   "cell_type": "markdown",
   "id": "16f729d8",
   "metadata": {},
   "source": [
    "### 4. Arbitrary positional Argument"
   ]
  },
  {
   "cell_type": "markdown",
   "id": "8df12381",
   "metadata": {},
   "source": [
    "*args >>> *arguments\n",
    ">> if we dont know number of arguments to be passed, then use arbitrary positional arguments\n",
    "\n",
    ">> datatype of args will be tuple"
   ]
  },
  {
   "cell_type": "code",
   "execution_count": 10,
   "id": "fe056463",
   "metadata": {},
   "outputs": [
    {
     "name": "stdout",
     "output_type": "stream",
     "text": [
      "n1,n2,n3,n4,n5 4 5 6 7 8\n"
     ]
    }
   ],
   "source": [
    "def addition(n1,n2,n3,n4,n5):\n",
    "    print('n1,n2,n3,n4,n5',n1,n2,n3,n4,n5)\n",
    "    \n",
    "addition(4,5,6,7,8)"
   ]
  },
  {
   "cell_type": "code",
   "execution_count": 11,
   "id": "3b1dd9b6",
   "metadata": {
    "scrolled": true
   },
   "outputs": [
    {
     "ename": "TypeError",
     "evalue": "addition() missing 1 required positional argument: 'n5'",
     "output_type": "error",
     "traceback": [
      "\u001b[1;31m---------------------------------------------------------------------------\u001b[0m",
      "\u001b[1;31mTypeError\u001b[0m                                 Traceback (most recent call last)",
      "Input \u001b[1;32mIn [11]\u001b[0m, in \u001b[0;36m<cell line: 4>\u001b[1;34m()\u001b[0m\n\u001b[0;32m      1\u001b[0m \u001b[38;5;28;01mdef\u001b[39;00m \u001b[38;5;21maddition\u001b[39m(n1,n2,n3,n4,n5):\n\u001b[0;32m      2\u001b[0m     \u001b[38;5;28mprint\u001b[39m(\u001b[38;5;124m'\u001b[39m\u001b[38;5;124mn1,n2,n3,n4,n5\u001b[39m\u001b[38;5;124m'\u001b[39m,n1,n2,n3,n4,n5)\n\u001b[1;32m----> 4\u001b[0m \u001b[43maddition\u001b[49m\u001b[43m(\u001b[49m\u001b[38;5;241;43m4\u001b[39;49m\u001b[43m,\u001b[49m\u001b[38;5;241;43m5\u001b[39;49m\u001b[43m,\u001b[49m\u001b[38;5;241;43m6\u001b[39;49m\u001b[43m,\u001b[49m\u001b[38;5;241;43m7\u001b[39;49m\u001b[43m)\u001b[49m\n\u001b[0;32m      5\u001b[0m addition(\u001b[38;5;241m3\u001b[39m,\u001b[38;5;241m4\u001b[39m,\u001b[38;5;241m5\u001b[39m,\u001b[38;5;241m6\u001b[39m,\u001b[38;5;241m7\u001b[39m,\u001b[38;5;241m5\u001b[39m)\n",
      "\u001b[1;31mTypeError\u001b[0m: addition() missing 1 required positional argument: 'n5'"
     ]
    }
   ],
   "source": [
    "def addition(n1,n2,n3,n4,n5):\n",
    "    print('n1,n2,n3,n4,n5',n1,n2,n3,n4,n5)\n",
    "    \n",
    "addition(4,5,6,7)\n",
    "addition(3,4,5,6,7,5)"
   ]
  },
  {
   "cell_type": "code",
   "execution_count": 12,
   "id": "a9ddcd7d",
   "metadata": {},
   "outputs": [
    {
     "ename": "TypeError",
     "evalue": "addition() takes 5 positional arguments but 6 were given",
     "output_type": "error",
     "traceback": [
      "\u001b[1;31m---------------------------------------------------------------------------\u001b[0m",
      "\u001b[1;31mTypeError\u001b[0m                                 Traceback (most recent call last)",
      "Input \u001b[1;32mIn [12]\u001b[0m, in \u001b[0;36m<cell line: 1>\u001b[1;34m()\u001b[0m\n\u001b[1;32m----> 1\u001b[0m \u001b[43maddition\u001b[49m\u001b[43m(\u001b[49m\u001b[38;5;241;43m3\u001b[39;49m\u001b[43m,\u001b[49m\u001b[38;5;241;43m4\u001b[39;49m\u001b[43m,\u001b[49m\u001b[38;5;241;43m5\u001b[39;49m\u001b[43m,\u001b[49m\u001b[38;5;241;43m6\u001b[39;49m\u001b[43m,\u001b[49m\u001b[38;5;241;43m7\u001b[39;49m\u001b[43m,\u001b[49m\u001b[38;5;241;43m5\u001b[39;49m\u001b[43m)\u001b[49m\n",
      "\u001b[1;31mTypeError\u001b[0m: addition() takes 5 positional arguments but 6 were given"
     ]
    }
   ],
   "source": [
    "addition(3,4,5,6,7,5)"
   ]
  },
  {
   "cell_type": "code",
   "execution_count": 29,
   "id": "2bf2600d",
   "metadata": {},
   "outputs": [
    {
     "name": "stdout",
     "output_type": "stream",
     "text": [
      "n1,n2,n3,n4,n5 4 5 6 7 8\n"
     ]
    }
   ],
   "source": [
    "def addition(n1,n2,n3,n4,n5):\n",
    "    print('n1,n2,n3,n4,n5',n1,n2,n3,n4,n5)\n",
    "    \n",
    "addition(4,5,6,7,8)"
   ]
  },
  {
   "cell_type": "code",
   "execution_count": 30,
   "id": "9d35a418",
   "metadata": {},
   "outputs": [
    {
     "ename": "TypeError",
     "evalue": "addition() missing 4 required positional arguments: 'n6', 'n7', 'n8', and 'n9'",
     "output_type": "error",
     "traceback": [
      "\u001b[1;31m---------------------------------------------------------------------------\u001b[0m",
      "\u001b[1;31mTypeError\u001b[0m                                 Traceback (most recent call last)",
      "\u001b[1;32m<ipython-input-30-bc8ca79dea23>\u001b[0m in \u001b[0;36m<module>\u001b[1;34m\u001b[0m\n\u001b[0;32m      2\u001b[0m     \u001b[0mprint\u001b[0m\u001b[1;33m(\u001b[0m\u001b[1;34m'n1,n2,n3,n4,n5,n6,n7,n8,n9'\u001b[0m\u001b[1;33m,\u001b[0m\u001b[0mn1\u001b[0m\u001b[1;33m,\u001b[0m\u001b[0mn2\u001b[0m\u001b[1;33m,\u001b[0m\u001b[0mn3\u001b[0m\u001b[1;33m,\u001b[0m\u001b[0mn4\u001b[0m\u001b[1;33m,\u001b[0m\u001b[0mn5\u001b[0m\u001b[1;33m,\u001b[0m\u001b[0mn6\u001b[0m\u001b[1;33m,\u001b[0m\u001b[0mn7\u001b[0m\u001b[1;33m,\u001b[0m\u001b[0mn8\u001b[0m\u001b[1;33m,\u001b[0m\u001b[0mn9\u001b[0m\u001b[1;33m)\u001b[0m\u001b[1;33m\u001b[0m\u001b[1;33m\u001b[0m\u001b[0m\n\u001b[0;32m      3\u001b[0m \u001b[1;33m\u001b[0m\u001b[0m\n\u001b[1;32m----> 4\u001b[1;33m \u001b[0maddition\u001b[0m\u001b[1;33m(\u001b[0m\u001b[1;36m4\u001b[0m\u001b[1;33m,\u001b[0m\u001b[1;36m5\u001b[0m\u001b[1;33m,\u001b[0m\u001b[1;36m6\u001b[0m\u001b[1;33m,\u001b[0m\u001b[1;36m7\u001b[0m\u001b[1;33m,\u001b[0m\u001b[1;36m8\u001b[0m\u001b[1;33m)\u001b[0m\u001b[1;33m\u001b[0m\u001b[1;33m\u001b[0m\u001b[0m\n\u001b[0m",
      "\u001b[1;31mTypeError\u001b[0m: addition() missing 4 required positional arguments: 'n6', 'n7', 'n8', and 'n9'"
     ]
    }
   ],
   "source": [
    "def addition(n1,n2,n3,n4,n5,n6,n7,n8,n9):\n",
    "    print('n1,n2,n3,n4,n5,n6,n7,n8,n9',n1,n2,n3,n4,n5,n6,n7,n8,n9)\n",
    "    \n",
    "addition(4,5,6,7,8)"
   ]
  },
  {
   "cell_type": "code",
   "execution_count": 31,
   "id": "343291da",
   "metadata": {},
   "outputs": [
    {
     "name": "stdout",
     "output_type": "stream",
     "text": [
      "n1,n2,n3,n4,n5,n6,n7,n8,n9 4 5 6 7 8 5 4 6 87\n"
     ]
    }
   ],
   "source": [
    "def addition(n1,n2,n3,n4,n5,n6,n7,n8,n9):\n",
    "    print('n1,n2,n3,n4,n5,n6,n7,n8,n9',n1,n2,n3,n4,n5,n6,n7,n8,n9)\n",
    "    \n",
    "addition(4,5,6,7,8,5,4,6,87)"
   ]
  },
  {
   "cell_type": "code",
   "execution_count": 14,
   "id": "611e8683",
   "metadata": {},
   "outputs": [
    {
     "name": "stdout",
     "output_type": "stream",
     "text": [
      "args >>  (4, 5, 6, 7, 4, 5)\n",
      "Addition of all items is :  31\n",
      "args >>  (23, 34, 56)\n",
      "Addition of all items is :  113\n"
     ]
    }
   ],
   "source": [
    "def addition(*args):\n",
    "    print('args >> ',args)\n",
    "    sum2 = 0\n",
    "    for i in args:\n",
    "        sum2+=i\n",
    "    print(\"Addition of all items is : \",sum2)\n",
    "\n",
    "addition(4,5,6,7,4,5)\n",
    "addition(23,34,56)"
   ]
  },
  {
   "cell_type": "code",
   "execution_count": null,
   "id": "b9bf9402",
   "metadata": {},
   "outputs": [],
   "source": []
  },
  {
   "cell_type": "code",
   "execution_count": 33,
   "id": "80579c06",
   "metadata": {},
   "outputs": [
    {
     "name": "stdout",
     "output_type": "stream",
     "text": [
      "args >>  (4, 5, 6, 7, 4, 5, 87, 5, 78, 212, 52, 52, 52, 25, 21, 4)\n",
      "Addition of all items is :  619\n"
     ]
    }
   ],
   "source": [
    "def addition(*args):\n",
    "    print('args >> ',args)\n",
    "    sum2 = 0\n",
    "    for i in args:\n",
    "        sum2+=i\n",
    "    print(\"Addition of all items is : \",sum2)\n",
    "\n",
    "addition(4,5,6,7,4,5,87,5,78,212,52,52,52,25,21,4)"
   ]
  },
  {
   "cell_type": "code",
   "execution_count": 36,
   "id": "0e3c6bb6",
   "metadata": {},
   "outputs": [
    {
     "name": "stdout",
     "output_type": "stream",
     "text": [
      "args >>  (4, 5, 6, 7, 4, 5, 87, 5, 78, 212, 52, 52, 52, 25, 21, 4)\n",
      "Addition of all items is :  621\n"
     ]
    }
   ],
   "source": [
    "def addition(*args,a):\n",
    "    print('args >> ',args)\n",
    "    sum2 = a\n",
    "    for i in args:\n",
    "        sum2+=i\n",
    "    print(\"Addition of all items is : \",sum2)\n",
    "\n",
    "addition(4,5,6,7,4,5,87,5,78,212,52,52,52,25,21,4,a=2)"
   ]
  },
  {
   "cell_type": "markdown",
   "id": "20c014d8",
   "metadata": {},
   "source": [
    "### 5.  Arbitrary Keyword Arguments"
   ]
  },
  {
   "cell_type": "code",
   "execution_count": null,
   "id": "33880b4a",
   "metadata": {},
   "outputs": [],
   "source": [
    "**kwargs >> key word arguments\n",
    "\n",
    ">> if we dont know the number of keyword arguments to be passed, \n",
    "then we use arbitrary keyword arguments\n",
    "\n",
    ">> default data type of kwargs will be dict"
   ]
  },
  {
   "cell_type": "code",
   "execution_count": null,
   "id": "6571a12b",
   "metadata": {},
   "outputs": [],
   "source": [
    "result(a=\"x\",b=\"y\",c=\"z\")"
   ]
  },
  {
   "cell_type": "code",
   "execution_count": 16,
   "id": "a933eb3a",
   "metadata": {},
   "outputs": [
    {
     "data": {
      "text/plain": [
       "dict_values([90, 85, 80, 89, 92])"
      ]
     },
     "execution_count": 16,
     "metadata": {},
     "output_type": "execute_result"
    }
   ],
   "source": [
    "d={'phy': 90, 'che': 85, 'eng': 80, 'math': 89, 'bio': 92}\n",
    "d.values()"
   ]
  },
  {
   "cell_type": "code",
   "execution_count": 17,
   "id": "87cdf93a",
   "metadata": {},
   "outputs": [
    {
     "name": "stdout",
     "output_type": "stream",
     "text": [
      "KW args :  {'phy': 90, 'che': 85, 'eng': 80, 'math': 89, 'bio': 92}\n",
      "Average :  87.2\n",
      "KW args :  {'phy': 45, 'che': 35}\n",
      "Average :  40.0\n"
     ]
    }
   ],
   "source": [
    "def result(**kwargs):\n",
    "    print('KW args : ',kwargs)\n",
    "    average = sum(kwargs.values())/len(kwargs)\n",
    "    print('Average : ',average)\n",
    "    \n",
    "result(phy =90, che =85, eng = 80, math = 89, bio = 92)\n",
    "result(phy=45, che=35)"
   ]
  },
  {
   "cell_type": "code",
   "execution_count": 3,
   "id": "cd3bc643",
   "metadata": {},
   "outputs": [
    {
     "name": "stdout",
     "output_type": "stream",
     "text": [
      "KW args :  {'eng': 80, 'math': 89, 'bio': 92}\n",
      "Percentage :  87.0\n"
     ]
    }
   ],
   "source": [
    "def result(phy =100, che =100,**kwargs):\n",
    "    print('KW args : ',kwargs)\n",
    "    percentage = sum(kwargs.values())/len(kwargs)\n",
    "    print('Percentage : ',percentage)\n",
    "    \n",
    "result( eng = 80, math = 89, bio = 92)"
   ]
  },
  {
   "cell_type": "code",
   "execution_count": null,
   "id": "8a5aecad",
   "metadata": {},
   "outputs": [],
   "source": [
    "positional argument>>arbitrary positional argument>>default argument>>arbitrary keyword argument"
   ]
  },
  {
   "cell_type": "code",
   "execution_count": null,
   "id": "eb0d55df",
   "metadata": {},
   "outputs": [],
   "source": [
    "def function(a,b,*args,c=30,d=223,**kwargs)"
   ]
  },
  {
   "cell_type": "code",
   "execution_count": 18,
   "id": "d1ea5690",
   "metadata": {},
   "outputs": [
    {
     "name": "stdout",
     "output_type": "stream",
     "text": [
      "Positional Args:   2 3 4\n",
      "Arbitrary Args :  (5, 6)\n",
      "Default Args  :  500 200\n",
      "Keyword Args:   {'n1': 20, 'h1': 56, 'k1': 85, 'c1': 90}\n"
     ]
    }
   ],
   "source": [
    "def test_args(a,b,c,*args,x=100,y=200,**kwargs):\n",
    "    print(\"Positional Args:  \",a,b,c)\n",
    "    print('Arbitrary Args : ',args)\n",
    "    print('Default Args  : ',x,y)\n",
    "    print('Keyword Args:  ',kwargs)\n",
    "    \n",
    "    \n",
    "test_args(2,3,4,5,6,x=500,n1=20,h1=56,k1=85,c1=90)"
   ]
  },
  {
   "cell_type": "code",
   "execution_count": null,
   "id": "9c019b52",
   "metadata": {},
   "outputs": [],
   "source": []
  },
  {
   "cell_type": "code",
   "execution_count": null,
   "id": "c167ed77",
   "metadata": {},
   "outputs": [],
   "source": []
  },
  {
   "cell_type": "code",
   "execution_count": null,
   "id": "88fd3c52",
   "metadata": {},
   "outputs": [],
   "source": []
  }
 ],
 "metadata": {
  "kernelspec": {
   "display_name": "Python 3 (ipykernel)",
   "language": "python",
   "name": "python3"
  },
  "language_info": {
   "codemirror_mode": {
    "name": "ipython",
    "version": 3
   },
   "file_extension": ".py",
   "mimetype": "text/x-python",
   "name": "python",
   "nbconvert_exporter": "python",
   "pygments_lexer": "ipython3",
   "version": "3.9.12"
  }
 },
 "nbformat": 4,
 "nbformat_minor": 5
}
