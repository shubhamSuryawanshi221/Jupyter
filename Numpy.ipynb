{
 "cells": [
  {
   "cell_type": "code",
   "execution_count": null,
   "id": "d742b4a6",
   "metadata": {},
   "outputs": [],
   "source": [
    "-numpy array is collection of homogeneous datatypes\n",
    "-numpy is faster than list\n",
    "-numpy array"
   ]
  },
  {
   "cell_type": "code",
   "execution_count": null,
   "id": "10eab1ad",
   "metadata": {},
   "outputs": [],
   "source": [
    "!pip install numpy"
   ]
  },
  {
   "cell_type": "code",
   "execution_count": 4,
   "id": "106e4295",
   "metadata": {
    "scrolled": true
   },
   "outputs": [
    {
     "name": "stdout",
     "output_type": "stream",
     "text": [
      "Requirement already satisfied: numpy in c:\\anaconda\\lib\\site-packages (1.26.4)Note: you may need to restart the kernel to use updated packages.\n",
      "\n"
     ]
    }
   ],
   "source": [
    "pip install numpy\n"
   ]
  },
  {
   "cell_type": "code",
   "execution_count": 3,
   "id": "a72f226e",
   "metadata": {
    "scrolled": true
   },
   "outputs": [
    {
     "name": "stdout",
     "output_type": "stream",
     "text": [
      "Requirement already satisfied: pandas in c:\\anaconda\\lib\\site-packages (1.5.3)\n",
      "Requirement already satisfied: python-dateutil>=2.8.1 in c:\\anaconda\\lib\\site-packages (from pandas) (2.8.2)\n",
      "Requirement already satisfied: pytz>=2020.1 in c:\\anaconda\\lib\\site-packages (from pandas) (2021.3)\n",
      "Requirement already satisfied: numpy>=1.20.3 in c:\\anaconda\\lib\\site-packages (from pandas) (1.26.4)\n",
      "Requirement already satisfied: six>=1.5 in c:\\anaconda\\lib\\site-packages (from python-dateutil>=2.8.1->pandas) (1.16.0)\n",
      "Note: you may need to restart the kernel to use updated packages.\n"
     ]
    }
   ],
   "source": [
    "pip install pandas"
   ]
  },
  {
   "cell_type": "code",
   "execution_count": 2,
   "id": "6d0c1496",
   "metadata": {},
   "outputs": [],
   "source": [
    "import numpy as np\n",
    "import pandas as pd"
   ]
  },
  {
   "cell_type": "code",
   "execution_count": 1,
   "id": "0b95cf6e",
   "metadata": {},
   "outputs": [],
   "source": [
    "import numpy as np"
   ]
  },
  {
   "cell_type": "markdown",
   "id": "e6a627b1",
   "metadata": {},
   "source": [
    "# how to create numpy array"
   ]
  },
  {
   "cell_type": "code",
   "execution_count": 5,
   "id": "839b223e",
   "metadata": {},
   "outputs": [
    {
     "name": "stdout",
     "output_type": "stream",
     "text": [
      "[1 3 4 5]\n",
      "[[0. 0.]\n",
      " [0. 0.]\n",
      " [0. 0.]]\n"
     ]
    }
   ],
   "source": [
    "array1=np.array([1,3,4,5])\n",
    "print(array1)\n",
    "array12=np.zeros((3,2))\n",
    "print(array12)"
   ]
  },
  {
   "cell_type": "code",
   "execution_count": 3,
   "id": "9dd82016",
   "metadata": {},
   "outputs": [
    {
     "data": {
      "text/plain": [
       "dtype('int32')"
      ]
     },
     "execution_count": 3,
     "metadata": {},
     "output_type": "execute_result"
    }
   ],
   "source": [
    "array11=np.array([11,22,33,44])\n",
    "type(array11)\n",
    "array11.dtype"
   ]
  },
  {
   "cell_type": "code",
   "execution_count": 5,
   "id": "9de32943",
   "metadata": {},
   "outputs": [
    {
     "name": "stdout",
     "output_type": "stream",
     "text": [
      "<class 'numpy.ndarray'>\n"
     ]
    }
   ],
   "source": [
    "print(type(array1))"
   ]
  },
  {
   "cell_type": "code",
   "execution_count": 7,
   "id": "37d5c6b5",
   "metadata": {},
   "outputs": [
    {
     "data": {
      "text/plain": [
       "dtype('int32')"
      ]
     },
     "execution_count": 7,
     "metadata": {},
     "output_type": "execute_result"
    }
   ],
   "source": [
    "array1.dtype"
   ]
  },
  {
   "cell_type": "markdown",
   "id": "412998aa",
   "metadata": {},
   "source": [
    "## various functions to create arrays"
   ]
  },
  {
   "cell_type": "markdown",
   "id": "b3657108",
   "metadata": {},
   "source": [
    "## zeros()"
   ]
  },
  {
   "cell_type": "code",
   "execution_count": null,
   "id": "f23ad82e",
   "metadata": {},
   "outputs": [],
   "source": [
    "Create an array filled with zeros.\n",
    ">> np.zeros()\n"
   ]
  },
  {
   "cell_type": "code",
   "execution_count": 8,
   "id": "f3a7edfc",
   "metadata": {},
   "outputs": [
    {
     "data": {
      "text/plain": [
       "array([[0., 0., 0.],\n",
       "       [0., 0., 0.]])"
      ]
     },
     "execution_count": 8,
     "metadata": {},
     "output_type": "execute_result"
    }
   ],
   "source": [
    "a=np.zeros((2, 3))\n",
    "a"
   ]
  },
  {
   "cell_type": "code",
   "execution_count": 4,
   "id": "bbdecb47",
   "metadata": {},
   "outputs": [
    {
     "data": {
      "text/plain": [
       "array([[0., 0.],\n",
       "       [0., 0.]])"
      ]
     },
     "execution_count": 4,
     "metadata": {},
     "output_type": "execute_result"
    }
   ],
   "source": [
    "a11=np.zeros((2,2))\n",
    "a11"
   ]
  },
  {
   "cell_type": "markdown",
   "id": "38249427",
   "metadata": {},
   "source": [
    "## ones()"
   ]
  },
  {
   "cell_type": "code",
   "execution_count": null,
   "id": "572f9a2c",
   "metadata": {},
   "outputs": [],
   "source": [
    ">> Create an array filled with ones.\n",
    "np.ones()\n"
   ]
  },
  {
   "cell_type": "code",
   "execution_count": 8,
   "id": "9bdf7834",
   "metadata": {},
   "outputs": [
    {
     "data": {
      "text/plain": [
       "dtype('float64')"
      ]
     },
     "execution_count": 8,
     "metadata": {},
     "output_type": "execute_result"
    }
   ],
   "source": [
    "one1=np.ones((2,2))\n",
    "one1.dtype"
   ]
  },
  {
   "cell_type": "code",
   "execution_count": 9,
   "id": "e33d0a3f",
   "metadata": {},
   "outputs": [
    {
     "data": {
      "text/plain": [
       "array([[1., 1.],\n",
       "       [1., 1.],\n",
       "       [1., 1.]])"
      ]
     },
     "execution_count": 9,
     "metadata": {},
     "output_type": "execute_result"
    }
   ],
   "source": [
    "ab=np.ones((3, 2))\n",
    "ab"
   ]
  },
  {
   "cell_type": "markdown",
   "id": "8d610cea",
   "metadata": {},
   "source": [
    "## np.arange()"
   ]
  },
  {
   "cell_type": "code",
   "execution_count": null,
   "id": "0a61030a",
   "metadata": {},
   "outputs": [],
   "source": [
    ">> Create array of equally spaced values.\n",
    "np.arange()\n"
   ]
  },
  {
   "cell_type": "code",
   "execution_count": 6,
   "id": "dc7924bb",
   "metadata": {
    "scrolled": true
   },
   "outputs": [
    {
     "data": {
      "text/plain": [
       "array([0, 2, 4, 6, 8])"
      ]
     },
     "execution_count": 6,
     "metadata": {},
     "output_type": "execute_result"
    }
   ],
   "source": [
    "aa=np.arange(0, 10, 2)\n",
    "aa"
   ]
  },
  {
   "cell_type": "code",
   "execution_count": 10,
   "id": "4ca5165e",
   "metadata": {},
   "outputs": [
    {
     "data": {
      "text/plain": [
       "array([10, 13, 16, 19])"
      ]
     },
     "execution_count": 10,
     "metadata": {},
     "output_type": "execute_result"
    }
   ],
   "source": [
    "a1=np.arange(10,20,3)\n",
    "a1"
   ]
  },
  {
   "cell_type": "markdown",
   "id": "87e796c0",
   "metadata": {},
   "source": [
    "## np.linspace()"
   ]
  },
  {
   "cell_type": "code",
   "execution_count": null,
   "id": "fcef2852",
   "metadata": {},
   "outputs": [],
   "source": [
    ">> Create linearly spaced values.\n",
    "np.linspace()\n",
    "10>>>20....12"
   ]
  },
  {
   "cell_type": "code",
   "execution_count": 11,
   "id": "bc4675ce",
   "metadata": {},
   "outputs": [
    {
     "data": {
      "text/plain": [
       "array([10.        , 10.90909091, 11.81818182, 12.72727273, 13.63636364,\n",
       "       14.54545455, 15.45454545, 16.36363636, 17.27272727, 18.18181818,\n",
       "       19.09090909, 20.        ])"
      ]
     },
     "execution_count": 11,
     "metadata": {},
     "output_type": "execute_result"
    }
   ],
   "source": [
    "s1=np.linspace(10,20,12)\n",
    "s1"
   ]
  },
  {
   "cell_type": "code",
   "execution_count": 11,
   "id": "1fe588ce",
   "metadata": {
    "scrolled": true
   },
   "outputs": [
    {
     "data": {
      "text/plain": [
       "array([0.  , 0.25, 0.5 , 0.75, 1.  ])"
      ]
     },
     "execution_count": 11,
     "metadata": {},
     "output_type": "execute_result"
    }
   ],
   "source": [
    "x=np.linspace(0, 1, 5)"
   ]
  },
  {
   "cell_type": "markdown",
   "id": "fea0cb49",
   "metadata": {},
   "source": [
    "## np.random.rand()"
   ]
  },
  {
   "cell_type": "code",
   "execution_count": null,
   "id": "8995c936",
   "metadata": {},
   "outputs": [],
   "source": [
    ">> Generate random values (0 to 1).\n",
    "np.random.rand()\n",
    ">> to create array of having numbers between o to 1"
   ]
  },
  {
   "cell_type": "code",
   "execution_count": 12,
   "id": "fec9344d",
   "metadata": {},
   "outputs": [
    {
     "data": {
      "text/plain": [
       "array([[0.54527607, 0.69129111, 0.59635576],\n",
       "       [0.46532202, 0.90900278, 0.2988599 ]])"
      ]
     },
     "execution_count": 12,
     "metadata": {},
     "output_type": "execute_result"
    }
   ],
   "source": [
    "bb1=np.random.rand(2,3)\n",
    "bb1"
   ]
  },
  {
   "cell_type": "code",
   "execution_count": 12,
   "id": "af9b3ccd",
   "metadata": {},
   "outputs": [
    {
     "data": {
      "text/plain": [
       "array([[0.65539101, 0.68724475],\n",
       "       [0.23582696, 0.59737571]])"
      ]
     },
     "execution_count": 12,
     "metadata": {},
     "output_type": "execute_result"
    }
   ],
   "source": [
    "bb=np.random.rand(2, 2)\n",
    "bb"
   ]
  },
  {
   "cell_type": "markdown",
   "id": "2d9458b4",
   "metadata": {},
   "source": [
    "## np.random.randint()"
   ]
  },
  {
   "cell_type": "code",
   "execution_count": null,
   "id": "a7699142",
   "metadata": {},
   "outputs": [],
   "source": [
    ">> to create array having random elements of certain range\n",
    ">> np.random.randint(start,end,array_size)"
   ]
  },
  {
   "cell_type": "code",
   "execution_count": 13,
   "id": "bca52789",
   "metadata": {},
   "outputs": [
    {
     "data": {
      "text/plain": [
       "array([[7, 4],\n",
       "       [3, 8]])"
      ]
     },
     "execution_count": 13,
     "metadata": {},
     "output_type": "execute_result"
    }
   ],
   "source": [
    "np.random.randint(1,10,(2,2))"
   ]
  },
  {
   "cell_type": "code",
   "execution_count": 20,
   "id": "81af3444",
   "metadata": {},
   "outputs": [
    {
     "data": {
      "text/plain": [
       "array([[79, 22, 50],\n",
       "       [53, 39, 25],\n",
       "       [70, 28, 24]])"
      ]
     },
     "execution_count": 20,
     "metadata": {},
     "output_type": "execute_result"
    }
   ],
   "source": [
    "aaa=np.random.randint(10,100,(3,3))\n",
    "aaa"
   ]
  },
  {
   "cell_type": "markdown",
   "id": "9bca6d32",
   "metadata": {},
   "source": [
    "# Type casting in Numpy Array"
   ]
  },
  {
   "cell_type": "code",
   "execution_count": 18,
   "id": "4321701c",
   "metadata": {},
   "outputs": [],
   "source": [
    "import numpy as np"
   ]
  },
  {
   "cell_type": "code",
   "execution_count": null,
   "id": "b9195a9e",
   "metadata": {},
   "outputs": [],
   "source": [
    ">> changing the data type of element of numpy array"
   ]
  },
  {
   "cell_type": "code",
   "execution_count": 20,
   "id": "895a2586",
   "metadata": {},
   "outputs": [
    {
     "data": {
      "text/plain": [
       "dtype('int32')"
      ]
     },
     "execution_count": 20,
     "metadata": {},
     "output_type": "execute_result"
    }
   ],
   "source": [
    "array1 =np.array([2,4,5,6])\n",
    "array1.dtype"
   ]
  },
  {
   "cell_type": "code",
   "execution_count": 21,
   "id": "78a48283",
   "metadata": {},
   "outputs": [
    {
     "name": "stdout",
     "output_type": "stream",
     "text": [
      "[ 15.+0.j 353.+0.j 454.+0.j]\n",
      "complex128\n"
     ]
    }
   ],
   "source": [
    "aa=np.array([15,353,454],dtype=complex)\n",
    "print(aa)\n",
    "print(aa.dtype)"
   ]
  },
  {
   "cell_type": "code",
   "execution_count": 7,
   "id": "8395e806",
   "metadata": {},
   "outputs": [
    {
     "data": {
      "text/plain": [
       "dtype('float64')"
      ]
     },
     "execution_count": 7,
     "metadata": {},
     "output_type": "execute_result"
    }
   ],
   "source": [
    "array1 =np.array([2,4,5,6],dtype=float)\n",
    "array1.dtype"
   ]
  },
  {
   "cell_type": "code",
   "execution_count": 24,
   "id": "89fe68bf",
   "metadata": {},
   "outputs": [
    {
     "name": "stdout",
     "output_type": "stream",
     "text": [
      "[2 4 5 6]\n",
      "int32\n"
     ]
    }
   ],
   "source": [
    "array1 =np.array([2,4,5.5,6],dtype = int)\n",
    "print(array1)\n",
    "print(array1.dtype)"
   ]
  },
  {
   "cell_type": "code",
   "execution_count": 26,
   "id": "bae9be5b",
   "metadata": {},
   "outputs": [
    {
     "name": "stdout",
     "output_type": "stream",
     "text": [
      "<class 'numpy.ndarray'>\n",
      "[2. +0.j 4. +0.j 5.5+0.j 6. +0.j]\n",
      "complex128\n"
     ]
    }
   ],
   "source": [
    "array1 =np.array([2,4,5.5,6],dtype = complex)\n",
    "print(type(array1))\n",
    "print(array1)\n",
    "print(array1.dtype)"
   ]
  },
  {
   "cell_type": "code",
   "execution_count": 27,
   "id": "c66304d5",
   "metadata": {},
   "outputs": [
    {
     "name": "stdout",
     "output_type": "stream",
     "text": [
      "<class 'numpy.ndarray'>\n",
      "['2' '4' '5.5' '6']\n",
      "<U3\n"
     ]
    }
   ],
   "source": [
    "array1 =np.array([2,4,5.5,6],dtype = str)\n",
    "print(type(array1))\n",
    "print(array1)\n",
    "print(array1.dtype)"
   ]
  },
  {
   "cell_type": "code",
   "execution_count": 28,
   "id": "f6e30acc",
   "metadata": {},
   "outputs": [
    {
     "name": "stdout",
     "output_type": "stream",
     "text": [
      "<class 'numpy.ndarray'>\n",
      "[2.  4.  5.5 6. ]\n",
      "float64\n"
     ]
    }
   ],
   "source": [
    "array1 =np.array([2,4,5.5,6],dtype = float)\n",
    "print(type(array1))\n",
    "print(array1)\n",
    "print(array1.dtype)"
   ]
  },
  {
   "cell_type": "code",
   "execution_count": 30,
   "id": "2470ff08",
   "metadata": {},
   "outputs": [
    {
     "name": "stdout",
     "output_type": "stream",
     "text": [
      "<class 'numpy.ndarray'>\n",
      "[2 4 5.5 6]\n",
      "object\n"
     ]
    }
   ],
   "source": [
    "array1 =np.array([2,4,5.5,6],dtype = object)\n",
    "print(type(array1))\n",
    "print(array1)\n",
    "print(array1.dtype)"
   ]
  },
  {
   "cell_type": "code",
   "execution_count": 31,
   "id": "4d4519c1",
   "metadata": {},
   "outputs": [
    {
     "ename": "TypeError",
     "evalue": "can't convert complex to float",
     "output_type": "error",
     "traceback": [
      "\u001b[1;31m---------------------------------------------------------------------------\u001b[0m",
      "\u001b[1;31mTypeError\u001b[0m                                 Traceback (most recent call last)",
      "\u001b[1;32m<ipython-input-31-c307b74c126b>\u001b[0m in \u001b[0;36m<module>\u001b[1;34m\u001b[0m\n\u001b[1;32m----> 1\u001b[1;33m \u001b[0marray1\u001b[0m \u001b[1;33m=\u001b[0m\u001b[0mnp\u001b[0m\u001b[1;33m.\u001b[0m\u001b[0marray\u001b[0m\u001b[1;33m(\u001b[0m\u001b[1;33m[\u001b[0m\u001b[1;36m2\u001b[0m\u001b[1;33m,\u001b[0m\u001b[1;36m4\u001b[0m\u001b[1;33m+\u001b[0m\u001b[1;36m5j\u001b[0m\u001b[1;33m,\u001b[0m\u001b[1;36m5.5\u001b[0m\u001b[1;33m,\u001b[0m\u001b[1;36m6\u001b[0m\u001b[1;33m]\u001b[0m\u001b[1;33m,\u001b[0m\u001b[0mdtype\u001b[0m \u001b[1;33m=\u001b[0m \u001b[0mfloat\u001b[0m\u001b[1;33m)\u001b[0m\u001b[1;33m\u001b[0m\u001b[1;33m\u001b[0m\u001b[0m\n\u001b[0m\u001b[0;32m      2\u001b[0m \u001b[0mprint\u001b[0m\u001b[1;33m(\u001b[0m\u001b[0mtype\u001b[0m\u001b[1;33m(\u001b[0m\u001b[0marray1\u001b[0m\u001b[1;33m)\u001b[0m\u001b[1;33m)\u001b[0m\u001b[1;33m\u001b[0m\u001b[1;33m\u001b[0m\u001b[0m\n\u001b[0;32m      3\u001b[0m \u001b[0mprint\u001b[0m\u001b[1;33m(\u001b[0m\u001b[0marray1\u001b[0m\u001b[1;33m)\u001b[0m\u001b[1;33m\u001b[0m\u001b[1;33m\u001b[0m\u001b[0m\n\u001b[0;32m      4\u001b[0m \u001b[0mprint\u001b[0m\u001b[1;33m(\u001b[0m\u001b[0marray1\u001b[0m\u001b[1;33m.\u001b[0m\u001b[0mdtype\u001b[0m\u001b[1;33m)\u001b[0m\u001b[1;33m\u001b[0m\u001b[1;33m\u001b[0m\u001b[0m\n",
      "\u001b[1;31mTypeError\u001b[0m: can't convert complex to float"
     ]
    }
   ],
   "source": [
    "array1 =np.array([2,4+5j,5.5,6],dtype = float)\n",
    "print(type(array1))\n",
    "print(array1)\n",
    "print(array1.dtype)"
   ]
  },
  {
   "cell_type": "code",
   "execution_count": 32,
   "id": "a13e0046",
   "metadata": {},
   "outputs": [
    {
     "ename": "TypeError",
     "evalue": "can't convert complex to int",
     "output_type": "error",
     "traceback": [
      "\u001b[1;31m---------------------------------------------------------------------------\u001b[0m",
      "\u001b[1;31mTypeError\u001b[0m                                 Traceback (most recent call last)",
      "\u001b[1;32m<ipython-input-32-78d34b9563b5>\u001b[0m in \u001b[0;36m<module>\u001b[1;34m\u001b[0m\n\u001b[1;32m----> 1\u001b[1;33m \u001b[0marray1\u001b[0m \u001b[1;33m=\u001b[0m\u001b[0mnp\u001b[0m\u001b[1;33m.\u001b[0m\u001b[0marray\u001b[0m\u001b[1;33m(\u001b[0m\u001b[1;33m[\u001b[0m\u001b[1;36m2\u001b[0m\u001b[1;33m,\u001b[0m\u001b[1;36m4\u001b[0m\u001b[1;33m+\u001b[0m\u001b[1;36m5j\u001b[0m\u001b[1;33m,\u001b[0m\u001b[1;36m5.5\u001b[0m\u001b[1;33m,\u001b[0m\u001b[1;36m6\u001b[0m\u001b[1;33m]\u001b[0m\u001b[1;33m,\u001b[0m\u001b[0mdtype\u001b[0m \u001b[1;33m=\u001b[0m \u001b[0mint\u001b[0m\u001b[1;33m)\u001b[0m\u001b[1;33m\u001b[0m\u001b[1;33m\u001b[0m\u001b[0m\n\u001b[0m\u001b[0;32m      2\u001b[0m \u001b[0mprint\u001b[0m\u001b[1;33m(\u001b[0m\u001b[0mtype\u001b[0m\u001b[1;33m(\u001b[0m\u001b[0marray1\u001b[0m\u001b[1;33m)\u001b[0m\u001b[1;33m)\u001b[0m\u001b[1;33m\u001b[0m\u001b[1;33m\u001b[0m\u001b[0m\n\u001b[0;32m      3\u001b[0m \u001b[0mprint\u001b[0m\u001b[1;33m(\u001b[0m\u001b[0marray1\u001b[0m\u001b[1;33m)\u001b[0m\u001b[1;33m\u001b[0m\u001b[1;33m\u001b[0m\u001b[0m\n\u001b[0;32m      4\u001b[0m \u001b[0mprint\u001b[0m\u001b[1;33m(\u001b[0m\u001b[0marray1\u001b[0m\u001b[1;33m.\u001b[0m\u001b[0mdtype\u001b[0m\u001b[1;33m)\u001b[0m\u001b[1;33m\u001b[0m\u001b[1;33m\u001b[0m\u001b[0m\n",
      "\u001b[1;31mTypeError\u001b[0m: can't convert complex to int"
     ]
    }
   ],
   "source": [
    "array1 =np.array([2,4+5j,5.5,6],dtype = int)\n",
    "print(type(array1))\n",
    "print(array1)\n",
    "print(array1.dtype)"
   ]
  },
  {
   "cell_type": "markdown",
   "id": "d538d7ad",
   "metadata": {},
   "source": [
    "int >> float\n",
    "float >> int\n",
    "int >> complex,str\n",
    "FLOAT >> complex,str\n",
    "complex !!>> int,float is not possible"
   ]
  },
  {
   "cell_type": "markdown",
   "id": "7d3c1a96",
   "metadata": {},
   "source": [
    "# Dimensions in numpy array"
   ]
  },
  {
   "cell_type": "markdown",
   "id": "7bd2ad0b",
   "metadata": {},
   "source": [
    "### 1. 0-D array\n",
    "to check the dimension of arry >>>> array.ndim"
   ]
  },
  {
   "cell_type": "code",
   "execution_count": null,
   "id": "67d3c7d5",
   "metadata": {},
   "outputs": [],
   "source": [
    "# A 0D array represents a single value."
   ]
  },
  {
   "cell_type": "code",
   "execution_count": 23,
   "id": "27e81d40",
   "metadata": {},
   "outputs": [
    {
     "name": "stdout",
     "output_type": "stream",
     "text": [
      "0\n"
     ]
    }
   ],
   "source": [
    "z1=np.array(12)\n",
    "print(z1.ndim)"
   ]
  },
  {
   "cell_type": "code",
   "execution_count": 34,
   "id": "36aad2a7",
   "metadata": {},
   "outputs": [
    {
     "name": "stdout",
     "output_type": "stream",
     "text": [
      "30\n",
      "0\n"
     ]
    }
   ],
   "source": [
    "a1 = np.array(30)\n",
    "print(a1)\n",
    "print(a1.ndim) #array.ndim"
   ]
  },
  {
   "cell_type": "code",
   "execution_count": 38,
   "id": "c03276f4",
   "metadata": {},
   "outputs": [
    {
     "name": "stdout",
     "output_type": "stream",
     "text": [
      "Number of dimension of an array :  0\n"
     ]
    }
   ],
   "source": [
    "a1 = np.array(30)\n",
    "print(\"Number of dimension of an array : \",a1.ndim)"
   ]
  },
  {
   "cell_type": "markdown",
   "id": "ba39cda6",
   "metadata": {},
   "source": [
    "### 2. 1 -Dimentional Array"
   ]
  },
  {
   "cell_type": "code",
   "execution_count": null,
   "id": "521a6b84",
   "metadata": {},
   "outputs": [],
   "source": [
    ">> It is a collection of multiple 0-dimentional arrays"
   ]
  },
  {
   "cell_type": "code",
   "execution_count": 8,
   "id": "35d9d236",
   "metadata": {},
   "outputs": [
    {
     "name": "stdout",
     "output_type": "stream",
     "text": [
      "Array is :  [5 4 2 7 8 6]\n",
      "Number of dimension of an array :  1\n"
     ]
    }
   ],
   "source": [
    "array2 = np.array([5,4,2,7,8,6])\n",
    "print(\"Array is : \",array2)\n",
    "print(\"Number of dimension of an array : \",array2.ndim)"
   ]
  },
  {
   "cell_type": "code",
   "execution_count": 24,
   "id": "a5d29696",
   "metadata": {},
   "outputs": [
    {
     "name": "stdout",
     "output_type": "stream",
     "text": [
      "[22 33 44 55]\n",
      "1\n"
     ]
    }
   ],
   "source": [
    "za=np.array([22,33,44,55])\n",
    "print(za)\n",
    "print(za.ndim)"
   ]
  },
  {
   "cell_type": "code",
   "execution_count": 40,
   "id": "b616cba5",
   "metadata": {},
   "outputs": [
    {
     "name": "stdout",
     "output_type": "stream",
     "text": [
      "Array is :  [5 4 2 7 8 6]\n",
      "Number of dimension of an array :  1\n"
     ]
    }
   ],
   "source": [
    "array2 = np.array((5,4,2,7,8,6))\n",
    "print(\"Array is : \",array2)\n",
    "print(\"Number of dimension of an array : \",array2.ndim)"
   ]
  },
  {
   "cell_type": "code",
   "execution_count": 41,
   "id": "49538e50",
   "metadata": {},
   "outputs": [
    {
     "name": "stdout",
     "output_type": "stream",
     "text": [
      "Array is :  [2]\n",
      "Number of dimension of an array :  1\n"
     ]
    }
   ],
   "source": [
    "array2 = np.array([2])\n",
    "print(\"Array is : \",array2)\n",
    "print(\"Number of dimension of an array : \",array2.ndim)"
   ]
  },
  {
   "cell_type": "code",
   "execution_count": 45,
   "id": "f9c9d089",
   "metadata": {},
   "outputs": [
    {
     "name": "stdout",
     "output_type": "stream",
     "text": [
      "Array is :  [2]\n",
      "Number of dimension of an array :  1\n"
     ]
    }
   ],
   "source": [
    "array2 = np.array((2,))\n",
    "print(\"Array is : \",array2)\n",
    "print(\"Number of dimension of an array : \",array2.ndim)"
   ]
  },
  {
   "cell_type": "markdown",
   "id": "04341de5",
   "metadata": {},
   "source": [
    "## 3. 2-Dimentional Array"
   ]
  },
  {
   "cell_type": "code",
   "execution_count": null,
   "id": "a48d9eae",
   "metadata": {},
   "outputs": [],
   "source": [
    ">> It is collection of multiple 1-dimentional array"
   ]
  },
  {
   "cell_type": "code",
   "execution_count": 25,
   "id": "32836856",
   "metadata": {},
   "outputs": [
    {
     "data": {
      "text/plain": [
       "array([[1, 2, 3],\n",
       "       [4, 5, 6]])"
      ]
     },
     "execution_count": 25,
     "metadata": {},
     "output_type": "execute_result"
    }
   ],
   "source": [
    "ast=np.array([[1,2,3],[4,5,6]])\n",
    "ast"
   ]
  },
  {
   "cell_type": "code",
   "execution_count": 47,
   "id": "a71b55ea",
   "metadata": {},
   "outputs": [
    {
     "name": "stdout",
     "output_type": "stream",
     "text": [
      "Array is :  [[5 4 2 7 8 6]\n",
      " [4 6 8 7 8 9]]\n",
      "Number of dimension of an array :  2\n"
     ]
    }
   ],
   "source": [
    "array2 = np.array([[5,4,2,7,8,6],[4,6,8,7,8,9]])\n",
    "print(\"Array is : \",array2)\n",
    "print(\"Number of dimension of an array : \",array2.ndim)"
   ]
  },
  {
   "cell_type": "code",
   "execution_count": 51,
   "id": "430eb31d",
   "metadata": {},
   "outputs": [
    {
     "name": "stdout",
     "output_type": "stream",
     "text": [
      "Array is :\n",
      " [[5 4 2 7 8 6]\n",
      " [4 6 8 7 8 9]\n",
      " [3 5 4 1 2 3]]\n",
      "Number of dimension of an array :  2\n"
     ]
    }
   ],
   "source": [
    "array2 = np.array([[5,4,2,7,8,6],[4,6,8,7,8,9],[3,5,4,1,2,3]])\n",
    "print(\"Array is :\\n\",array2)\n",
    "print(\"Number of dimension of an array : \",array2.ndim)"
   ]
  },
  {
   "cell_type": "code",
   "execution_count": 26,
   "id": "5fa2fd4a",
   "metadata": {},
   "outputs": [
    {
     "ename": "ValueError",
     "evalue": "setting an array element with a sequence. The requested array has an inhomogeneous shape after 1 dimensions. The detected shape was (3,) + inhomogeneous part.",
     "output_type": "error",
     "traceback": [
      "\u001b[1;31m---------------------------------------------------------------------------\u001b[0m",
      "\u001b[1;31mValueError\u001b[0m                                Traceback (most recent call last)",
      "Input \u001b[1;32mIn [26]\u001b[0m, in \u001b[0;36m<cell line: 1>\u001b[1;34m()\u001b[0m\n\u001b[1;32m----> 1\u001b[0m array2 \u001b[38;5;241m=\u001b[39m \u001b[43mnp\u001b[49m\u001b[38;5;241;43m.\u001b[39;49m\u001b[43marray\u001b[49m\u001b[43m(\u001b[49m\u001b[43m[\u001b[49m\u001b[43m[\u001b[49m\u001b[38;5;241;43m5\u001b[39;49m\u001b[43m,\u001b[49m\u001b[38;5;241;43m4\u001b[39;49m\u001b[43m,\u001b[49m\u001b[38;5;241;43m2\u001b[39;49m\u001b[43m,\u001b[49m\u001b[38;5;241;43m7\u001b[39;49m\u001b[43m]\u001b[49m\u001b[43m,\u001b[49m\u001b[43m[\u001b[49m\u001b[38;5;241;43m4\u001b[39;49m\u001b[43m,\u001b[49m\u001b[38;5;241;43m6\u001b[39;49m\u001b[43m,\u001b[49m\u001b[38;5;241;43m8\u001b[39;49m\u001b[43m,\u001b[49m\u001b[38;5;241;43m7\u001b[39;49m\u001b[43m,\u001b[49m\u001b[38;5;241;43m8\u001b[39;49m\u001b[43m,\u001b[49m\u001b[38;5;241;43m9\u001b[39;49m\u001b[43m]\u001b[49m\u001b[43m,\u001b[49m\u001b[43m[\u001b[49m\u001b[38;5;241;43m3\u001b[39;49m\u001b[43m,\u001b[49m\u001b[38;5;241;43m5\u001b[39;49m\u001b[43m,\u001b[49m\u001b[38;5;241;43m4\u001b[39;49m\u001b[43m,\u001b[49m\u001b[38;5;241;43m1\u001b[39;49m\u001b[43m,\u001b[49m\u001b[38;5;241;43m2\u001b[39;49m\u001b[43m,\u001b[49m\u001b[38;5;241;43m3\u001b[39;49m\u001b[43m]\u001b[49m\u001b[43m]\u001b[49m\u001b[43m)\u001b[49m\n\u001b[0;32m      2\u001b[0m \u001b[38;5;28mprint\u001b[39m(\u001b[38;5;124m\"\u001b[39m\u001b[38;5;124mArray is :\u001b[39m\u001b[38;5;130;01m\\n\u001b[39;00m\u001b[38;5;124m\"\u001b[39m,array2)\n\u001b[0;32m      3\u001b[0m \u001b[38;5;28mprint\u001b[39m(\u001b[38;5;124m\"\u001b[39m\u001b[38;5;124mNumber of dimension of an array : \u001b[39m\u001b[38;5;124m\"\u001b[39m,array2\u001b[38;5;241m.\u001b[39mndim)\n",
      "\u001b[1;31mValueError\u001b[0m: setting an array element with a sequence. The requested array has an inhomogeneous shape after 1 dimensions. The detected shape was (3,) + inhomogeneous part."
     ]
    }
   ],
   "source": [
    "array2 = np.array([[5,4,2,7],[4,6,8,7,8,9],[3,5,4,1,2,3]])\n",
    "print(\"Array is :\\n\",array2)\n",
    "print(\"Number of dimension of an array : \",array2.ndim)"
   ]
  },
  {
   "cell_type": "markdown",
   "id": "896f89a9",
   "metadata": {},
   "source": [
    "## 4. 3 -Dimentional array"
   ]
  },
  {
   "cell_type": "code",
   "execution_count": null,
   "id": "478a27d3",
   "metadata": {},
   "outputs": [],
   "source": [
    ">> It is collection of multiple 2-D arrays"
   ]
  },
  {
   "cell_type": "code",
   "execution_count": 27,
   "id": "d89d362d",
   "metadata": {},
   "outputs": [
    {
     "data": {
      "text/plain": [
       "3"
      ]
     },
     "execution_count": 27,
     "metadata": {},
     "output_type": "execute_result"
    }
   ],
   "source": [
    "a111=np.array([[[11,22,33],[44,55,66]]])\n",
    "a111.ndim"
   ]
  },
  {
   "cell_type": "code",
   "execution_count": 28,
   "id": "dadaedfb",
   "metadata": {},
   "outputs": [
    {
     "name": "stdout",
     "output_type": "stream",
     "text": [
      "Array is :\n",
      " [[[5 4 2 7 8 6]\n",
      "  [3 5 4 1 2 3]]]\n",
      "Number of dimension of an array :  3\n"
     ]
    }
   ],
   "source": [
    "array2 = np.array([[[5,4,2,7,8,6],[3,5,4,1,2,3]]])\n",
    "print(\"Array is :\\n\",array2)\n",
    "print(\"Number of dimension of an array : \",array2.ndim)"
   ]
  },
  {
   "cell_type": "code",
   "execution_count": 56,
   "id": "255da9b1",
   "metadata": {},
   "outputs": [
    {
     "name": "stdout",
     "output_type": "stream",
     "text": [
      "Array is :\n",
      " [[[  2   3   4]\n",
      "  [ 10  20  30]\n",
      "  [100 200 300]]\n",
      "\n",
      " [[ 20  30  40]\n",
      "  [ 50  40  60]\n",
      "  [500 400 600]]]\n",
      "Number of dimension of an array :  3\n"
     ]
    }
   ],
   "source": [
    "array3 = np.array([[[2,3,4],[10,20,30],[100,200,300]],[[20,30,40],[50,40,60],[500,400,600]]])\n",
    "print(\"Array is :\\n\",array3)\n",
    "print(\"Number of dimension of an array : \",array3.ndim)"
   ]
  },
  {
   "cell_type": "markdown",
   "id": "adcbd6e4",
   "metadata": {},
   "source": [
    "# Access array items using indexing and slicing"
   ]
  },
  {
   "cell_type": "code",
   "execution_count": 1,
   "id": "1d789135",
   "metadata": {},
   "outputs": [
    {
     "name": "stdout",
     "output_type": "stream",
     "text": [
      "4\n",
      "6\n"
     ]
    }
   ],
   "source": [
    "list1 =[4,5,6,7,8,9]\n",
    "print(list1[0])\n",
    "print(list1[2])"
   ]
  },
  {
   "cell_type": "code",
   "execution_count": 61,
   "id": "e49ef0de",
   "metadata": {},
   "outputs": [
    {
     "data": {
      "text/plain": [
       "[5, 7]"
      ]
     },
     "execution_count": 61,
     "metadata": {},
     "output_type": "execute_result"
    }
   ],
   "source": [
    "list1 =[4,5,6,7,8,9]\n",
    "list1[1:5:2]"
   ]
  },
  {
   "cell_type": "code",
   "execution_count": null,
   "id": "79d4314a",
   "metadata": {},
   "outputs": [],
   "source": [
    "syntax:\n",
    "array[start_index:end_index:step_size]"
   ]
  },
  {
   "cell_type": "code",
   "execution_count": 31,
   "id": "ee2d97b9",
   "metadata": {
    "scrolled": true
   },
   "outputs": [
    {
     "data": {
      "text/plain": [
       "array([4, 7, 9, 2])"
      ]
     },
     "execution_count": 31,
     "metadata": {},
     "output_type": "execute_result"
    }
   ],
   "source": [
    "array1 = np.array([5,4,6,7,8,9,5,2])\n",
    "array1[0]\n",
    "array1[-1]\n",
    "array1[]"
   ]
  },
  {
   "cell_type": "code",
   "execution_count": 63,
   "id": "90ab16cb",
   "metadata": {},
   "outputs": [
    {
     "data": {
      "text/plain": [
       "9"
      ]
     },
     "execution_count": 63,
     "metadata": {},
     "output_type": "execute_result"
    }
   ],
   "source": [
    "array1 = np.array([5,4,6,7,8,9,5,2])\n",
    "array1[5]"
   ]
  },
  {
   "cell_type": "code",
   "execution_count": 65,
   "id": "e4f9db47",
   "metadata": {},
   "outputs": [
    {
     "data": {
      "text/plain": [
       "array([4, 7, 9])"
      ]
     },
     "execution_count": 65,
     "metadata": {},
     "output_type": "execute_result"
    }
   ],
   "source": [
    "array1 = np.array([5,4,6,7,8,9,5,2])\n",
    "array1[1:6:2]"
   ]
  },
  {
   "cell_type": "code",
   "execution_count": 67,
   "id": "8adc50cf",
   "metadata": {},
   "outputs": [
    {
     "data": {
      "text/plain": [
       "array([2, 5, 9, 8, 7, 6, 4, 5])"
      ]
     },
     "execution_count": 67,
     "metadata": {},
     "output_type": "execute_result"
    }
   ],
   "source": [
    "array1 = np.array([5,4,6,7,8,9,5,2])\n",
    "array1[::-1]"
   ]
  },
  {
   "cell_type": "code",
   "execution_count": 68,
   "id": "7e29ab58",
   "metadata": {},
   "outputs": [
    {
     "data": {
      "text/plain": [
       "9"
      ]
     },
     "execution_count": 68,
     "metadata": {},
     "output_type": "execute_result"
    }
   ],
   "source": [
    "array1 = np.array([5,4,6,7,8,9,5,2])\n",
    "array1[-3]"
   ]
  },
  {
   "cell_type": "code",
   "execution_count": 32,
   "id": "ee3e0c56",
   "metadata": {},
   "outputs": [
    {
     "name": "stdout",
     "output_type": "stream",
     "text": [
      "[[ 5  4  2  7  8  6]\n",
      " [31 51 41 11 21 36]]\n",
      "2\n"
     ]
    }
   ],
   "source": [
    "array2 = np.array([[5,4,2,7,8,6],[31,51,41,11,21,36]])\n",
    "print(array2)\n",
    "print(array2.ndim)"
   ]
  },
  {
   "cell_type": "code",
   "execution_count": 36,
   "id": "a2e351dc",
   "metadata": {},
   "outputs": [
    {
     "data": {
      "text/plain": [
       "array([4, 2, 7, 8, 6])"
      ]
     },
     "execution_count": 36,
     "metadata": {},
     "output_type": "execute_result"
    }
   ],
   "source": [
    "array2[0][1:]"
   ]
  },
  {
   "cell_type": "code",
   "execution_count": 7,
   "id": "e3657a34",
   "metadata": {},
   "outputs": [
    {
     "data": {
      "text/plain": [
       "31"
      ]
     },
     "execution_count": 7,
     "metadata": {},
     "output_type": "execute_result"
    }
   ],
   "source": [
    "array2[1][0]"
   ]
  },
  {
   "cell_type": "code",
   "execution_count": 9,
   "id": "98e5c103",
   "metadata": {},
   "outputs": [
    {
     "data": {
      "text/plain": [
       "5"
      ]
     },
     "execution_count": 9,
     "metadata": {},
     "output_type": "execute_result"
    }
   ],
   "source": [
    "array2[0][0]"
   ]
  },
  {
   "cell_type": "code",
   "execution_count": 75,
   "id": "474342d1",
   "metadata": {},
   "outputs": [
    {
     "data": {
      "text/plain": [
       "36"
      ]
     },
     "execution_count": 75,
     "metadata": {},
     "output_type": "execute_result"
    }
   ],
   "source": [
    "array2[1][-1]"
   ]
  },
  {
   "cell_type": "code",
   "execution_count": 38,
   "id": "85e99720",
   "metadata": {
    "scrolled": true
   },
   "outputs": [
    {
     "name": "stdout",
     "output_type": "stream",
     "text": [
      "[[[ 5  4  2  7  8  6]\n",
      "  [31 51 41 11 21 36]]\n",
      "\n",
      " [[90 40 20 70 80 60]\n",
      "  [ 1  5  4  9  2  3]]]\n"
     ]
    }
   ],
   "source": [
    "array21 = np.array([[[5,4,2,7,8,6],[31,51,41,11,21,36]],[[90,40,20,70,80,60],[1,5,4,9,2,3]]])\n",
    "print(array21)"
   ]
  },
  {
   "cell_type": "code",
   "execution_count": 42,
   "id": "8e46c060",
   "metadata": {},
   "outputs": [
    {
     "data": {
      "text/plain": [
       "array([5, 4, 2, 7, 8, 6])"
      ]
     },
     "execution_count": 42,
     "metadata": {},
     "output_type": "execute_result"
    }
   ],
   "source": [
    "array21[0][0]"
   ]
  },
  {
   "cell_type": "code",
   "execution_count": 44,
   "id": "30327ecc",
   "metadata": {},
   "outputs": [
    {
     "data": {
      "text/plain": [
       "array([4, 9, 2, 3])"
      ]
     },
     "execution_count": 44,
     "metadata": {},
     "output_type": "execute_result"
    }
   ],
   "source": [
    "array21[1][1][2:]"
   ]
  },
  {
   "cell_type": "code",
   "execution_count": 87,
   "id": "d2734548",
   "metadata": {},
   "outputs": [
    {
     "data": {
      "text/plain": [
       "70"
      ]
     },
     "execution_count": 87,
     "metadata": {},
     "output_type": "execute_result"
    }
   ],
   "source": [
    "array21[1][0,3] "
   ]
  },
  {
   "cell_type": "code",
   "execution_count": 89,
   "id": "9715383b",
   "metadata": {},
   "outputs": [
    {
     "data": {
      "text/plain": [
       "70"
      ]
     },
     "execution_count": 89,
     "metadata": {},
     "output_type": "execute_result"
    }
   ],
   "source": [
    "array2[1,0,3]"
   ]
  },
  {
   "cell_type": "code",
   "execution_count": 12,
   "id": "dbaa3b36",
   "metadata": {},
   "outputs": [
    {
     "name": "stdout",
     "output_type": "stream",
     "text": [
      "[[[ 5  4  2  7  8  6]\n",
      "  [31 51 41 11 21 36]]\n",
      "\n",
      " [[90 40 20 70 80 60]\n",
      "  [ 1  5  4  9  2  3]]]\n"
     ]
    }
   ],
   "source": [
    "array2 = np.array([[[5,4,2,7,8,6],[31,51,41,11,21,36]],[[90,40,20,70,80,60],[1,5,4,9,2,3]]])\n",
    "print(array2)"
   ]
  },
  {
   "cell_type": "code",
   "execution_count": 115,
   "id": "74255579",
   "metadata": {},
   "outputs": [
    {
     "data": {
      "text/plain": [
       "array([5, 4, 2, 7, 8, 6])"
      ]
     },
     "execution_count": 115,
     "metadata": {},
     "output_type": "execute_result"
    }
   ],
   "source": [
    "array2[0,0]"
   ]
  },
  {
   "cell_type": "code",
   "execution_count": 13,
   "id": "9b245de9",
   "metadata": {},
   "outputs": [
    {
     "data": {
      "text/plain": [
       "5"
      ]
     },
     "execution_count": 13,
     "metadata": {},
     "output_type": "execute_result"
    }
   ],
   "source": [
    "array2[0,0,0]"
   ]
  },
  {
   "cell_type": "code",
   "execution_count": 116,
   "id": "3f933288",
   "metadata": {},
   "outputs": [
    {
     "data": {
      "text/plain": [
       "array([[ 5,  4,  2,  7,  8,  6],\n",
       "       [90, 40, 20, 70, 80, 60]])"
      ]
     },
     "execution_count": 116,
     "metadata": {},
     "output_type": "execute_result"
    }
   ],
   "source": [
    "array2[:,0]"
   ]
  },
  {
   "cell_type": "code",
   "execution_count": 99,
   "id": "3ab6b00c",
   "metadata": {},
   "outputs": [
    {
     "name": "stdout",
     "output_type": "stream",
     "text": [
      "[[[ 1  2  3]\n",
      "  [ 4  5  6]\n",
      "  [ 7  8  9]\n",
      "  [10 11 12]\n",
      "  [13 14 15]]]\n",
      "3\n"
     ]
    }
   ],
   "source": [
    "array4 = np.array([[[1,2,3],[4,5,6],[7,8,9],[10,11,12],[13,14,15]]])\n",
    "print(array4)\n",
    "print(array4.ndim)"
   ]
  },
  {
   "cell_type": "code",
   "execution_count": 111,
   "id": "44f1b2a2",
   "metadata": {},
   "outputs": [
    {
     "name": "stdout",
     "output_type": "stream",
     "text": [
      "[[[ 5  4  2  7  8  6]\n",
      "  [31 51 41 11 21 36]]\n",
      "\n",
      " [[90 40 20 70 80 60]\n",
      "  [ 1  5  4  9  2  3]]]\n"
     ]
    }
   ],
   "source": [
    "array2 = np.array([[[5,4,2,7,8,6],[31,51,41,11,21,36]],[[90,40,20,70,80,60],[1,5,4,9,2,3]]])\n",
    "print(array2)"
   ]
  },
  {
   "cell_type": "code",
   "execution_count": 113,
   "id": "0c672d31",
   "metadata": {},
   "outputs": [
    {
     "data": {
      "text/plain": [
       "array([[[ 5,  4,  2,  7,  8,  6],\n",
       "        [31, 51, 41, 11, 21, 36]],\n",
       "\n",
       "       [[90, 40, 20, 70, 80, 60],\n",
       "        [ 1,  5,  4,  9,  2,  3]]])"
      ]
     },
     "execution_count": 113,
     "metadata": {},
     "output_type": "execute_result"
    }
   ],
   "source": [
    "array2[:]"
   ]
  },
  {
   "cell_type": "code",
   "execution_count": 117,
   "id": "db629921",
   "metadata": {},
   "outputs": [
    {
     "data": {
      "text/plain": [
       "array([4, 2])"
      ]
     },
     "execution_count": 117,
     "metadata": {},
     "output_type": "execute_result"
    }
   ],
   "source": [
    "array2[0][0,1:3]"
   ]
  },
  {
   "cell_type": "code",
   "execution_count": 121,
   "id": "c73820af",
   "metadata": {},
   "outputs": [
    {
     "data": {
      "text/plain": [
       "array([90, 40, 20, 70, 80, 60])"
      ]
     },
     "execution_count": 121,
     "metadata": {},
     "output_type": "execute_result"
    }
   ],
   "source": [
    "array2[1,0,:]"
   ]
  },
  {
   "cell_type": "code",
   "execution_count": 123,
   "id": "e0a550c7",
   "metadata": {},
   "outputs": [
    {
     "data": {
      "text/plain": [
       "array([60, 80, 70, 20, 40, 90])"
      ]
     },
     "execution_count": 123,
     "metadata": {},
     "output_type": "execute_result"
    }
   ],
   "source": [
    "array2[1,0,::-1]"
   ]
  },
  {
   "cell_type": "code",
   "execution_count": 127,
   "id": "369d6b63",
   "metadata": {},
   "outputs": [
    {
     "data": {
      "text/plain": [
       "array([90, 20, 80])"
      ]
     },
     "execution_count": 127,
     "metadata": {},
     "output_type": "execute_result"
    }
   ],
   "source": [
    "array2[1,0,::2]"
   ]
  },
  {
   "cell_type": "code",
   "execution_count": 128,
   "id": "4a597785",
   "metadata": {
    "scrolled": true
   },
   "outputs": [
    {
     "name": "stdout",
     "output_type": "stream",
     "text": [
      "[[[ 5  4  2]\n",
      "  [31 51 41]\n",
      "  [11 21 36]]\n",
      "\n",
      " [[90 40 20]\n",
      "  [70 80 60]\n",
      "  [ 9  2  3]]]\n"
     ]
    }
   ],
   "source": [
    "array2 = np.array([[[5,4,2],[31,51,41],[11,21,36]],[[90,40,20],[70,80,60],[9,2,3]]])\n",
    "print(array2)"
   ]
  },
  {
   "cell_type": "code",
   "execution_count": 147,
   "id": "b132563e",
   "metadata": {},
   "outputs": [
    {
     "data": {
      "text/plain": [
       "array([[[51, 41],\n",
       "        [21, 36]],\n",
       "\n",
       "       [[80, 60],\n",
       "        [ 2,  3]]])"
      ]
     },
     "execution_count": 147,
     "metadata": {},
     "output_type": "execute_result"
    }
   ],
   "source": [
    "array2[:,1:,1:]"
   ]
  },
  {
   "cell_type": "code",
   "execution_count": 148,
   "id": "9147e66f",
   "metadata": {},
   "outputs": [
    {
     "data": {
      "text/plain": [
       "array([[ 4,  2],\n",
       "       [21, 36]])"
      ]
     },
     "execution_count": 148,
     "metadata": {},
     "output_type": "execute_result"
    }
   ],
   "source": [
    "array2[0,0::2,1:]"
   ]
  },
  {
   "cell_type": "code",
   "execution_count": null,
   "id": "489c0124",
   "metadata": {},
   "outputs": [],
   "source": []
  },
  {
   "cell_type": "code",
   "execution_count": 130,
   "id": "c86217d1",
   "metadata": {},
   "outputs": [
    {
     "data": {
      "text/plain": [
       "array([4, 2])"
      ]
     },
     "execution_count": 130,
     "metadata": {},
     "output_type": "execute_result"
    }
   ],
   "source": [
    "array2[0,0,1:]"
   ]
  },
  {
   "cell_type": "code",
   "execution_count": 131,
   "id": "426effc8",
   "metadata": {},
   "outputs": [
    {
     "data": {
      "text/plain": [
       "array([80, 60])"
      ]
     },
     "execution_count": 131,
     "metadata": {},
     "output_type": "execute_result"
    }
   ],
   "source": [
    "array2[1,1,1:]"
   ]
  },
  {
   "cell_type": "code",
   "execution_count": 138,
   "id": "3a19ba13",
   "metadata": {},
   "outputs": [
    {
     "data": {
      "text/plain": [
       "array([[51, 41],\n",
       "       [21, 36]])"
      ]
     },
     "execution_count": 138,
     "metadata": {},
     "output_type": "execute_result"
    }
   ],
   "source": [
    "array2[0,1:,1:]"
   ]
  },
  {
   "cell_type": "code",
   "execution_count": null,
   "id": "199725f1",
   "metadata": {},
   "outputs": [],
   "source": []
  }
 ],
 "metadata": {
  "kernelspec": {
   "display_name": "Python 3 (ipykernel)",
   "language": "python",
   "name": "python3"
  },
  "language_info": {
   "codemirror_mode": {
    "name": "ipython",
    "version": 3
   },
   "file_extension": ".py",
   "mimetype": "text/x-python",
   "name": "python",
   "nbconvert_exporter": "python",
   "pygments_lexer": "ipython3",
   "version": "3.9.12"
  }
 },
 "nbformat": 4,
 "nbformat_minor": 5
}
