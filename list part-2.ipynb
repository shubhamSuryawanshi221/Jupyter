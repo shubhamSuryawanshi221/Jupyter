{
 "cells": [
  {
   "cell_type": "markdown",
   "id": "a24802ed",
   "metadata": {},
   "source": [
    "# List Constructor"
   ]
  },
  {
   "cell_type": "code",
   "execution_count": null,
   "id": "a74a1130",
   "metadata": {},
   "outputs": [],
   "source": [
    ">> purpose of the list() constructor is to create a new list from an iterable.\n",
    "\n",
    "\n",
    ">> An iterable is any object in Python that can return its members one at a time, such as:\n",
    "Strings\n",
    "Tuples\n",
    "Sets\n",
    "Dictionaries (it will iterate over the keys by default)\n",
    "Ranges (created using range())\n",
    "Other lists"
   ]
  },
  {
   "cell_type": "code",
   "execution_count": null,
   "id": "41c68792",
   "metadata": {},
   "outputs": [],
   "source": [
    "Syntax:\n",
    "    new_list = list(iterable)"
   ]
  },
  {
   "cell_type": "code",
   "execution_count": 1,
   "id": "064ca9f6",
   "metadata": {},
   "outputs": [
    {
     "name": "stdout",
     "output_type": "stream",
     "text": [
      "['p', 'y', 't', 'h', 'o', 'n', '_', '@', '#', '$', '%', '^', '1', '2', '3', '4']\n"
     ]
    }
   ],
   "source": [
    "at=\"python_@#$%^1234\"\n",
    "l=list(at)\n",
    "print(l)"
   ]
  },
  {
   "cell_type": "code",
   "execution_count": 2,
   "id": "72f80ad4",
   "metadata": {},
   "outputs": [
    {
     "name": "stdout",
     "output_type": "stream",
     "text": [
      "['h', 'e', 'l', 'l', 'o']\n"
     ]
    }
   ],
   "source": [
    "my_string = \"hello\"\n",
    "list_from_string = list(my_string)\n",
    "print(list_from_string)"
   ]
  },
  {
   "cell_type": "code",
   "execution_count": 3,
   "id": "e4b52b8d",
   "metadata": {},
   "outputs": [
    {
     "data": {
      "text/plain": [
       "tuple"
      ]
     },
     "execution_count": 3,
     "metadata": {},
     "output_type": "execute_result"
    }
   ],
   "source": [
    "t1= (1,2,'a',4,5)\n",
    "type(t1)"
   ]
  },
  {
   "cell_type": "code",
   "execution_count": 5,
   "id": "946e4229",
   "metadata": {},
   "outputs": [
    {
     "data": {
      "text/plain": [
       "[1, 2, 'a', 4, 5]"
      ]
     },
     "execution_count": 5,
     "metadata": {},
     "output_type": "execute_result"
    }
   ],
   "source": [
    "#creating list by using tuple (t1)\n",
    "new_list=list(t1) #\n",
    "type(new_list)\n",
    "new_list"
   ]
  },
  {
   "cell_type": "code",
   "execution_count": 6,
   "id": "adc66603",
   "metadata": {},
   "outputs": [
    {
     "data": {
      "text/plain": [
       "set"
      ]
     },
     "execution_count": 6,
     "metadata": {},
     "output_type": "execute_result"
    }
   ],
   "source": [
    "t11= {1,2,5,4,5,5678,6789}\n",
    "type(t11)"
   ]
  },
  {
   "cell_type": "code",
   "execution_count": 8,
   "id": "7fb16e61",
   "metadata": {},
   "outputs": [
    {
     "name": "stdout",
     "output_type": "stream",
     "text": [
      "<class 'list'>\n"
     ]
    }
   ],
   "source": [
    "#creating list by using set t11\n",
    "l4 = list(t11) \n",
    "print(type(l4))"
   ]
  },
  {
   "cell_type": "code",
   "execution_count": 9,
   "id": "be24004a",
   "metadata": {},
   "outputs": [
    {
     "name": "stdout",
     "output_type": "stream",
     "text": [
      "[0, 1, 2, 3, 4, 5, 6, 7, 8, 9, 10]\n"
     ]
    }
   ],
   "source": [
    "ra=range(0,11)\n",
    "print(list(ra))"
   ]
  },
  {
   "cell_type": "code",
   "execution_count": 10,
   "id": "44d42e34",
   "metadata": {},
   "outputs": [
    {
     "data": {
      "text/plain": [
       "[0, 1, 2, 3, 4, 5, 6, 7, 8, 9]"
      ]
     },
     "execution_count": 10,
     "metadata": {},
     "output_type": "execute_result"
    }
   ],
   "source": [
    "list(range(0,10))"
   ]
  },
  {
   "cell_type": "code",
   "execution_count": 11,
   "id": "eea39be6",
   "metadata": {},
   "outputs": [
    {
     "data": {
      "text/plain": [
       "[5, 10, 15, 20, 25, 30, 35, 40, 45]"
      ]
     },
     "execution_count": 11,
     "metadata": {},
     "output_type": "execute_result"
    }
   ],
   "source": [
    "list(range(5,50,5))"
   ]
  },
  {
   "cell_type": "code",
   "execution_count": 12,
   "id": "53e88e04",
   "metadata": {},
   "outputs": [
    {
     "name": "stdout",
     "output_type": "stream",
     "text": [
      "['a', 'b', 'c']\n"
     ]
    }
   ],
   "source": [
    "my_dict = {\"a\": 1, \"b\": 2, \"c\": 3}\n",
    "list_from_dict_keys = list(my_dict)\n",
    "print(list_from_dict_keys)"
   ]
  },
  {
   "cell_type": "code",
   "execution_count": 13,
   "id": "02cbca4e",
   "metadata": {},
   "outputs": [
    {
     "name": "stdout",
     "output_type": "stream",
     "text": [
      "[1, 2, 3]\n"
     ]
    }
   ],
   "source": [
    "my_dict = {\"a\": 1, \"b\": 2, \"c\": 3}\n",
    "list_from_dict_values = list(my_dict.values())\n",
    "print(list_from_dict_values)"
   ]
  },
  {
   "cell_type": "markdown",
   "id": "8b966332",
   "metadata": {},
   "source": [
    "# list functions/methods"
   ]
  },
  {
   "cell_type": "markdown",
   "id": "4efb10bb",
   "metadata": {},
   "source": [
    "# 1. append"
   ]
  },
  {
   "cell_type": "code",
   "execution_count": null,
   "id": "5a8eb052",
   "metadata": {},
   "outputs": [],
   "source": [
    ">> Adds an item to the end of the list."
   ]
  },
  {
   "cell_type": "code",
   "execution_count": null,
   "id": "c4d18303",
   "metadata": {},
   "outputs": [],
   "source": [
    "syntax:\n",
    "    list.append(item)"
   ]
  },
  {
   "cell_type": "code",
   "execution_count": 15,
   "id": "40be3410",
   "metadata": {},
   "outputs": [
    {
     "name": "stdout",
     "output_type": "stream",
     "text": [
      "['apple', 'banana']\n",
      "['apple', 'banana', 'cherry']\n"
     ]
    }
   ],
   "source": [
    "fruits = [\"apple\", \"banana\"] \n",
    "print(fruits)\n",
    "fruits.append(\"cherry\")  \n",
    "print(fruits)"
   ]
  },
  {
   "cell_type": "code",
   "execution_count": 16,
   "id": "128f1ee0",
   "metadata": {},
   "outputs": [
    {
     "name": "stdout",
     "output_type": "stream",
     "text": [
      "[3, 4, 5, [10, 8, 9]]\n",
      "4\n"
     ]
    }
   ],
   "source": [
    "var1 = [3,4,5]\n",
    "var2 = [10,8,9] # this will be considered as single item\n",
    "y =var1.append(var2)\n",
    "print(var1)\n",
    "print(len(var1))"
   ]
  },
  {
   "cell_type": "raw",
   "id": "10952523",
   "metadata": {},
   "source": [
    "# write a program to filter out odd and even numbers from the list, create two list containing odd and even numbers.\n",
    "ls=[12,4,23,56,67,87,87,98] \n"
   ]
  },
  {
   "cell_type": "code",
   "execution_count": 17,
   "id": "0986c478",
   "metadata": {},
   "outputs": [
    {
     "name": "stdout",
     "output_type": "stream",
     "text": [
      "odd numbers list [23, 67, 87, 87]\n",
      "even numbers list [12, 4, 56, 98]\n"
     ]
    }
   ],
   "source": [
    "ls=[12,4,23,56,67,87,87,98] \n",
    "\n",
    "odd_numbers=[]\n",
    "even_numbers=[]\n",
    "for num in ls:\n",
    "    if num%2==0:\n",
    "        even_numbers.append(num)\n",
    "    else:\n",
    "        odd_numbers.append(num)\n",
    "        \n",
    "print(\"odd numbers list\", odd_numbers)\n",
    "print(\"even numbers list\", even_numbers)"
   ]
  },
  {
   "cell_type": "markdown",
   "id": "3e2adf4d",
   "metadata": {},
   "source": [
    "# 2. extend(iterable)"
   ]
  },
  {
   "cell_type": "code",
   "execution_count": null,
   "id": "7f7e7e45",
   "metadata": {},
   "outputs": [],
   "source": [
    ">>> Adds all elements of an iterable (e.g., list, tuple) to the end."
   ]
  },
  {
   "cell_type": "code",
   "execution_count": 18,
   "id": "1607f07b",
   "metadata": {},
   "outputs": [
    {
     "name": "stdout",
     "output_type": "stream",
     "text": [
      "[1, 2, 3, 3, 4, 5]\n",
      "6\n"
     ]
    }
   ],
   "source": [
    "list1 = [1, 2,3]  \n",
    "list2 = [3, 4,5]  \n",
    "list1.extend(list2)  \n",
    "print(list1)\n",
    "print(len(list1))"
   ]
  },
  {
   "cell_type": "markdown",
   "id": "ddcd2810",
   "metadata": {},
   "source": [
    "# 3. insert(index, item)"
   ]
  },
  {
   "cell_type": "code",
   "execution_count": null,
   "id": "f454e6ff",
   "metadata": {},
   "outputs": [],
   "source": [
    ">> when we want to add item at particulat index\n",
    "syntax:\n",
    "    list.insert(index,item)"
   ]
  },
  {
   "cell_type": "code",
   "execution_count": 19,
   "id": "4a88d261",
   "metadata": {},
   "outputs": [
    {
     "name": "stdout",
     "output_type": "stream",
     "text": [
      "[10, 20, 30, 40]\n"
     ]
    }
   ],
   "source": [
    "#add number 30 at index number 2\n",
    "numbers = [10, 20, 40]  # \n",
    "numbers.insert(2, 30)  # Insert 30 at index 2  \n",
    "print(numbers)"
   ]
  },
  {
   "cell_type": "code",
   "execution_count": 20,
   "id": "8c26444a",
   "metadata": {},
   "outputs": [
    {
     "data": {
      "text/plain": [
       "[3, 4, 5, 'data']"
      ]
     },
     "execution_count": 20,
     "metadata": {},
     "output_type": "execute_result"
    }
   ],
   "source": [
    "var1 = [3,4,5]\n",
    "var1.append('data')\n",
    "var1"
   ]
  },
  {
   "cell_type": "code",
   "execution_count": null,
   "id": "a3b1a1ea",
   "metadata": {},
   "outputs": [],
   "source": [
    "# To remove items from list>>\n",
    "remove pop() clear() del"
   ]
  },
  {
   "cell_type": "markdown",
   "id": "c6d8f988",
   "metadata": {},
   "source": [
    "# 4. remove(item)"
   ]
  },
  {
   "cell_type": "code",
   "execution_count": null,
   "id": "50e47b82",
   "metadata": {},
   "outputs": [],
   "source": [
    ">> Removes the first occurrence of the item.\n",
    "syntax:\n",
    "    list.remove(item)"
   ]
  },
  {
   "cell_type": "code",
   "execution_count": 21,
   "id": "f644e3a0",
   "metadata": {},
   "outputs": [
    {
     "name": "stdout",
     "output_type": "stream",
     "text": [
      "[5, 3, 2]\n"
     ]
    }
   ],
   "source": [
    "data = [5, 2, 3, 2]  \n",
    "data.remove(2)  \n",
    "print(data)"
   ]
  },
  {
   "cell_type": "code",
   "execution_count": 22,
   "id": "e3b3b8cb",
   "metadata": {},
   "outputs": [
    {
     "data": {
      "text/plain": [
       "[3, 4, 5, 'data', 10, 10.5]"
      ]
     },
     "execution_count": 22,
     "metadata": {},
     "output_type": "execute_result"
    }
   ],
   "source": [
    "var2= [3, 4, 5, 'data',10,10.5]\n",
    "var2"
   ]
  },
  {
   "cell_type": "code",
   "execution_count": 23,
   "id": "0709137d",
   "metadata": {},
   "outputs": [
    {
     "data": {
      "text/plain": [
       "[3, 5, 'data', 10, 10.5]"
      ]
     },
     "execution_count": 23,
     "metadata": {},
     "output_type": "execute_result"
    }
   ],
   "source": [
    "var2.remove(4)\n",
    "var2"
   ]
  },
  {
   "cell_type": "code",
   "execution_count": 24,
   "id": "370bc248",
   "metadata": {},
   "outputs": [
    {
     "data": {
      "text/plain": [
       "[3, 4, 5, 10, 10.5]"
      ]
     },
     "execution_count": 24,
     "metadata": {},
     "output_type": "execute_result"
    }
   ],
   "source": [
    "var2= [3, 4, 5, 'data',10,10.5]\n",
    "var2.remove('data')\n",
    "var2"
   ]
  },
  {
   "cell_type": "code",
   "execution_count": 25,
   "id": "ed1e2c5b",
   "metadata": {},
   "outputs": [
    {
     "data": {
      "text/plain": [
       "['Phy', 'Math', 'Eng', 'Bio']"
      ]
     },
     "execution_count": 25,
     "metadata": {},
     "output_type": "execute_result"
    }
   ],
   "source": [
    "sub_names = ['Phy', 'Che', 'Math', 'Eng', 'Bio']\n",
    "sub_names.remove('Che')\n",
    "sub_names"
   ]
  },
  {
   "cell_type": "code",
   "execution_count": 26,
   "id": "7d0ec470",
   "metadata": {
    "scrolled": true
   },
   "outputs": [
    {
     "ename": "ValueError",
     "evalue": "list.remove(x): x not in list",
     "output_type": "error",
     "traceback": [
      "\u001b[1;31m---------------------------------------------------------------------------\u001b[0m",
      "\u001b[1;31mValueError\u001b[0m                                Traceback (most recent call last)",
      "Input \u001b[1;32mIn [26]\u001b[0m, in \u001b[0;36m<cell line: 2>\u001b[1;34m()\u001b[0m\n\u001b[0;32m      1\u001b[0m sub_names \u001b[38;5;241m=\u001b[39m [\u001b[38;5;124m'\u001b[39m\u001b[38;5;124mPhy\u001b[39m\u001b[38;5;124m'\u001b[39m, \u001b[38;5;124m'\u001b[39m\u001b[38;5;124mChe\u001b[39m\u001b[38;5;124m'\u001b[39m, \u001b[38;5;124m'\u001b[39m\u001b[38;5;124mMath\u001b[39m\u001b[38;5;124m'\u001b[39m, \u001b[38;5;124m'\u001b[39m\u001b[38;5;124mEng\u001b[39m\u001b[38;5;124m'\u001b[39m, \u001b[38;5;124m'\u001b[39m\u001b[38;5;124mBio\u001b[39m\u001b[38;5;124m'\u001b[39m]\n\u001b[1;32m----> 2\u001b[0m \u001b[43msub_names\u001b[49m\u001b[38;5;241;43m.\u001b[39;49m\u001b[43mremove\u001b[49m\u001b[43m(\u001b[49m\u001b[38;5;124;43m'\u001b[39;49m\u001b[38;5;124;43mbio\u001b[39;49m\u001b[38;5;124;43m'\u001b[39;49m\u001b[43m)\u001b[49m\n\u001b[0;32m      3\u001b[0m sub_names\n",
      "\u001b[1;31mValueError\u001b[0m: list.remove(x): x not in list"
     ]
    }
   ],
   "source": [
    "sub_names = ['Phy', 'Che', 'Math', 'Eng', 'Bio']\n",
    "sub_names.remove('bio')\n",
    "sub_names #we are trying to remove bio which is not in the list"
   ]
  },
  {
   "cell_type": "code",
   "execution_count": 27,
   "id": "73904e56",
   "metadata": {},
   "outputs": [
    {
     "name": "stdout",
     "output_type": "stream",
     "text": [
      "item Deleted\n"
     ]
    }
   ],
   "source": [
    "sub_names = ['Phy', 'Che', 'Math', 'Eng', 'Bio']\n",
    "val = 'Math'\n",
    "if val in sub_names:\n",
    "    sub_names.remove(val)\n",
    "    print(\"item Deleted\")\n",
    "else:\n",
    "    print(\"item not found\")"
   ]
  },
  {
   "cell_type": "code",
   "execution_count": 28,
   "id": "dff46bda",
   "metadata": {},
   "outputs": [
    {
     "name": "stdout",
     "output_type": "stream",
     "text": [
      "item not found\n"
     ]
    }
   ],
   "source": [
    "sub_names = ['Phy', 'Che', 'Math', 'Eng', 'Bio']\n",
    "val = 'Science'\n",
    "if val in sub_names:\n",
    "    sub_names.remove(val)\n",
    "    print(\"item Deleted\")\n",
    "else:\n",
    "    print(\"item not found\")"
   ]
  },
  {
   "cell_type": "code",
   "execution_count": 29,
   "id": "50945c01",
   "metadata": {},
   "outputs": [
    {
     "name": "stdout",
     "output_type": "stream",
     "text": [
      "item Deleted\n"
     ]
    }
   ],
   "source": [
    "#remove item \"Math\" from the list\n",
    "\n",
    "sub_names = ['Phy', 'Che', 'Math', 'Eng', 'Bio']\n",
    "val = 'Math'\n",
    "if val in sub_names:\n",
    "    sub_names.remove(val)\n",
    "    print(\"item Deleted\")\n",
    "else:\n",
    "    print(\"item not found\")"
   ]
  },
  {
   "cell_type": "markdown",
   "id": "9af8c5f4",
   "metadata": {},
   "source": [
    "# 5. pop()"
   ]
  },
  {
   "cell_type": "code",
   "execution_count": null,
   "id": "fdaa8f17",
   "metadata": {},
   "outputs": [],
   "source": [
    ">> Removes and returns the item at index (default: last item).\n",
    "    "
   ]
  },
  {
   "cell_type": "code",
   "execution_count": 31,
   "id": "23db313f",
   "metadata": {},
   "outputs": [
    {
     "name": "stdout",
     "output_type": "stream",
     "text": [
      "['cherry']\n",
      "banana\n",
      "apple\n"
     ]
    }
   ],
   "source": [
    "fruits = [\"apple\", \"banana\", \"cherry\"]  \n",
    "popped = fruits.pop(1)# Remove \"banana\" \n",
    "poppp=fruits.pop(0) # remove apple\n",
    "print(fruits)  \n",
    "print(popped) \n",
    "print(poppp)"
   ]
  },
  {
   "cell_type": "code",
   "execution_count": 32,
   "id": "cd4cbbdc",
   "metadata": {},
   "outputs": [
    {
     "data": {
      "text/plain": [
       "[1, 4, 5, 67]"
      ]
     },
     "execution_count": 32,
     "metadata": {},
     "output_type": "execute_result"
    }
   ],
   "source": [
    "ls=[1,2,4,5,67,786]\n",
    "ls.pop(1)\n",
    "ls\n",
    "ls.pop() #default last item is removed\n",
    "ls"
   ]
  },
  {
   "cell_type": "markdown",
   "id": "42b07ac7",
   "metadata": {},
   "source": [
    "# 6. clear()"
   ]
  },
  {
   "cell_type": "code",
   "execution_count": null,
   "id": "ba0c2317",
   "metadata": {},
   "outputs": [],
   "source": [
    ">> Removes all items from the list."
   ]
  },
  {
   "cell_type": "code",
   "execution_count": 33,
   "id": "ff607c68",
   "metadata": {},
   "outputs": [
    {
     "name": "stdout",
     "output_type": "stream",
     "text": [
      "[]\n"
     ]
    }
   ],
   "source": [
    "items = [1, 2, 3]  \n",
    "items.clear()  \n",
    "print(items)"
   ]
  },
  {
   "cell_type": "markdown",
   "id": "86dba77c",
   "metadata": {},
   "source": [
    "# del keyword"
   ]
  },
  {
   "cell_type": "code",
   "execution_count": null,
   "id": "a7dad81e",
   "metadata": {},
   "outputs": [],
   "source": [
    ">> It can used to delete variables and items from list"
   ]
  },
  {
   "cell_type": "code",
   "execution_count": 34,
   "id": "89501d9f",
   "metadata": {},
   "outputs": [
    {
     "data": {
      "text/plain": [
       "['Phy', 'Che', 'Eng', 'Bio']"
      ]
     },
     "execution_count": 34,
     "metadata": {},
     "output_type": "execute_result"
    }
   ],
   "source": [
    "sub_names = ['Phy', 'Che', 'Math', 'Eng', 'Bio']\n",
    "del sub_names[2]\n",
    "sub_names"
   ]
  },
  {
   "cell_type": "code",
   "execution_count": 35,
   "id": "07f5484e",
   "metadata": {},
   "outputs": [
    {
     "ename": "NameError",
     "evalue": "name 'sub_names' is not defined",
     "output_type": "error",
     "traceback": [
      "\u001b[1;31m---------------------------------------------------------------------------\u001b[0m",
      "\u001b[1;31mNameError\u001b[0m                                 Traceback (most recent call last)",
      "Input \u001b[1;32mIn [35]\u001b[0m, in \u001b[0;36m<cell line: 3>\u001b[1;34m()\u001b[0m\n\u001b[0;32m      1\u001b[0m sub_names \u001b[38;5;241m=\u001b[39m [\u001b[38;5;124m'\u001b[39m\u001b[38;5;124mPhy\u001b[39m\u001b[38;5;124m'\u001b[39m, \u001b[38;5;124m'\u001b[39m\u001b[38;5;124mChe\u001b[39m\u001b[38;5;124m'\u001b[39m, \u001b[38;5;124m'\u001b[39m\u001b[38;5;124mMath\u001b[39m\u001b[38;5;124m'\u001b[39m, \u001b[38;5;124m'\u001b[39m\u001b[38;5;124mEng\u001b[39m\u001b[38;5;124m'\u001b[39m, \u001b[38;5;124m'\u001b[39m\u001b[38;5;124mBio\u001b[39m\u001b[38;5;124m'\u001b[39m]\n\u001b[0;32m      2\u001b[0m \u001b[38;5;28;01mdel\u001b[39;00m sub_names\n\u001b[1;32m----> 3\u001b[0m \u001b[43msub_names\u001b[49m\n",
      "\u001b[1;31mNameError\u001b[0m: name 'sub_names' is not defined"
     ]
    }
   ],
   "source": [
    "sub_names = ['Phy', 'Che', 'Math', 'Eng', 'Bio']\n",
    "del sub_names\n",
    "sub_names"
   ]
  },
  {
   "cell_type": "code",
   "execution_count": 36,
   "id": "d2f02cbf",
   "metadata": {},
   "outputs": [
    {
     "ename": "NameError",
     "evalue": "name 'string' is not defined",
     "output_type": "error",
     "traceback": [
      "\u001b[1;31m---------------------------------------------------------------------------\u001b[0m",
      "\u001b[1;31mNameError\u001b[0m                                 Traceback (most recent call last)",
      "Input \u001b[1;32mIn [36]\u001b[0m, in \u001b[0;36m<cell line: 3>\u001b[1;34m()\u001b[0m\n\u001b[0;32m      1\u001b[0m string \u001b[38;5;241m=\u001b[39m \u001b[38;5;124m'\u001b[39m\u001b[38;5;124mpython\u001b[39m\u001b[38;5;124m'\u001b[39m\n\u001b[0;32m      2\u001b[0m \u001b[38;5;28;01mdel\u001b[39;00m string\n\u001b[1;32m----> 3\u001b[0m \u001b[43mstring\u001b[49m\n",
      "\u001b[1;31mNameError\u001b[0m: name 'string' is not defined"
     ]
    }
   ],
   "source": [
    "string = 'python'\n",
    "del string\n",
    "string"
   ]
  },
  {
   "cell_type": "markdown",
   "id": "fc481281",
   "metadata": {},
   "source": [
    "# 7. sort()"
   ]
  },
  {
   "cell_type": "code",
   "execution_count": null,
   "id": "bf798897",
   "metadata": {},
   "outputs": [],
   "source": [
    ">> Sorts the list in-place (ascending by default).\n",
    "syntax:\n",
    "    list.sort() #for ascending order\n",
    "    list.sort(reverse=True) #for descending order"
   ]
  },
  {
   "cell_type": "code",
   "execution_count": 37,
   "id": "82728f96",
   "metadata": {},
   "outputs": [
    {
     "name": "stdout",
     "output_type": "stream",
     "text": [
      "[1, 2, 3, 4]\n"
     ]
    }
   ],
   "source": [
    "numbers = [3, 1, 4, 2]  \n",
    "numbers.sort()  \n",
    "print(numbers)  \n"
   ]
  },
  {
   "cell_type": "code",
   "execution_count": 38,
   "id": "acaf8b70",
   "metadata": {},
   "outputs": [
    {
     "name": "stdout",
     "output_type": "stream",
     "text": [
      "[1, 2, 2, 2, 3, 4]\n"
     ]
    }
   ],
   "source": [
    "numbers = [3, 1, 4, 2, 2,2]  \n",
    "numbers.sort()  \n",
    "print(numbers) "
   ]
  },
  {
   "cell_type": "code",
   "execution_count": 39,
   "id": "247e9e63",
   "metadata": {},
   "outputs": [
    {
     "name": "stdout",
     "output_type": "stream",
     "text": [
      "[4, 3, 2, 2, 2, 1]\n"
     ]
    }
   ],
   "source": [
    "# Sort in descending order  \n",
    "numbers.sort(reverse=True)  \n",
    "print(numbers)  "
   ]
  },
  {
   "cell_type": "markdown",
   "id": "903e336c",
   "metadata": {},
   "source": [
    "# 8. reverse()"
   ]
  },
  {
   "cell_type": "code",
   "execution_count": null,
   "id": "c2690c8f",
   "metadata": {},
   "outputs": [],
   "source": [
    ">> Reverses the list in-place."
   ]
  },
  {
   "cell_type": "code",
   "execution_count": 41,
   "id": "2065d1ac",
   "metadata": {},
   "outputs": [
    {
     "name": "stdout",
     "output_type": "stream",
     "text": [
      "['c', 'b', 'a']\n"
     ]
    }
   ],
   "source": [
    "letters = [\"a\", \"b\", \"c\"]  \n",
    "letters.reverse()  \n",
    "print(letters)"
   ]
  },
  {
   "cell_type": "markdown",
   "id": "06d0ef27",
   "metadata": {},
   "source": [
    "# 9. index(item)"
   ]
  },
  {
   "cell_type": "code",
   "execution_count": null,
   "id": "ba84296d",
   "metadata": {},
   "outputs": [],
   "source": [
    ">> Returns the index of the first occurrence of item."
   ]
  },
  {
   "cell_type": "code",
   "execution_count": 42,
   "id": "a1e139d9",
   "metadata": {},
   "outputs": [
    {
     "name": "stdout",
     "output_type": "stream",
     "text": [
      "1\n"
     ]
    },
    {
     "data": {
      "text/plain": [
       "2"
      ]
     },
     "execution_count": 42,
     "metadata": {},
     "output_type": "execute_result"
    }
   ],
   "source": [
    "data = [10, 20, 30, 20]  \n",
    "print(data.index(20))\n",
    "data.index(30)"
   ]
  },
  {
   "cell_type": "code",
   "execution_count": 43,
   "id": "7dcfb643",
   "metadata": {},
   "outputs": [
    {
     "name": "stdout",
     "output_type": "stream",
     "text": [
      "3\n"
     ]
    }
   ],
   "source": [
    "sub_names = ['Phy', 'Che', 'Math', 'Eng', 'Bio']\n",
    "print(sub_names.index('Eng'))"
   ]
  },
  {
   "cell_type": "markdown",
   "id": "8e327e1a",
   "metadata": {},
   "source": [
    "# 10. count(item)"
   ]
  },
  {
   "cell_type": "code",
   "execution_count": null,
   "id": "0172e7b3",
   "metadata": {},
   "outputs": [],
   "source": [
    ">> Returns the number of times item appears in the list.\n"
   ]
  },
  {
   "cell_type": "code",
   "execution_count": 44,
   "id": "9e511a04",
   "metadata": {},
   "outputs": [
    {
     "name": "stdout",
     "output_type": "stream",
     "text": [
      "3\n"
     ]
    }
   ],
   "source": [
    "numbers = [1, 2, 3, 2, 2]  \n",
    "print(numbers.count(2)) "
   ]
  },
  {
   "cell_type": "markdown",
   "id": "28a0156a",
   "metadata": {},
   "source": [
    "# Built-in Functions with Examples"
   ]
  },
  {
   "cell_type": "code",
   "execution_count": null,
   "id": "44f72785",
   "metadata": {},
   "outputs": [],
   "source": [
    "len, min, max, sum, sorted, reversed"
   ]
  },
  {
   "cell_type": "markdown",
   "id": "7c0a10b0",
   "metadata": {},
   "source": [
    "# 1.len(list)"
   ]
  },
  {
   "cell_type": "code",
   "execution_count": null,
   "id": "4f76e27e",
   "metadata": {},
   "outputs": [],
   "source": [
    ">> Returns the number of items in the list."
   ]
  },
  {
   "cell_type": "code",
   "execution_count": 45,
   "id": "4a520757",
   "metadata": {},
   "outputs": [
    {
     "name": "stdout",
     "output_type": "stream",
     "text": [
      "3\n"
     ]
    }
   ],
   "source": [
    "fruits = [\"apple\", \"banana\", \"cherry\"]\n",
    "length = len(fruits)\n",
    "print(length) "
   ]
  },
  {
   "cell_type": "markdown",
   "id": "590fd357",
   "metadata": {},
   "source": [
    "# 2.sorted(iterable)"
   ]
  },
  {
   "cell_type": "code",
   "execution_count": null,
   "id": "1b843a4f",
   "metadata": {},
   "outputs": [],
   "source": [
    ">> Returns a new sorted list from the items in the iterable (doesn't modify the original list)."
   ]
  },
  {
   "cell_type": "code",
   "execution_count": 46,
   "id": "31e976ac",
   "metadata": {},
   "outputs": [
    {
     "name": "stdout",
     "output_type": "stream",
     "text": [
      "[3, 1, 4, 1, 5, 9, 2, 6]\n",
      "[1, 1, 2, 3, 4, 5, 6, 9]\n"
     ]
    }
   ],
   "source": [
    "numbers = [3, 1, 4, 1, 5, 9, 2, 6]\n",
    "sorted_numbers = sorted(numbers)\n",
    "print(numbers)       \n",
    "print(sorted_numbers) "
   ]
  },
  {
   "cell_type": "code",
   "execution_count": null,
   "id": "cd28d7ee",
   "metadata": {},
   "outputs": [],
   "source": []
  },
  {
   "cell_type": "code",
   "execution_count": null,
   "id": "a8a49cc8",
   "metadata": {},
   "outputs": [],
   "source": []
  },
  {
   "cell_type": "code",
   "execution_count": null,
   "id": "87b60c8f",
   "metadata": {},
   "outputs": [],
   "source": []
  },
  {
   "cell_type": "code",
   "execution_count": null,
   "id": "9d49a398",
   "metadata": {},
   "outputs": [],
   "source": []
  }
 ],
 "metadata": {
  "kernelspec": {
   "display_name": "Python 3 (ipykernel)",
   "language": "python",
   "name": "python3"
  },
  "language_info": {
   "codemirror_mode": {
    "name": "ipython",
    "version": 3
   },
   "file_extension": ".py",
   "mimetype": "text/x-python",
   "name": "python",
   "nbconvert_exporter": "python",
   "pygments_lexer": "ipython3",
   "version": "3.9.12"
  }
 },
 "nbformat": 4,
 "nbformat_minor": 5
}
